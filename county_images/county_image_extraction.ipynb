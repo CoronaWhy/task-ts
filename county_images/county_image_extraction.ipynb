{
 "cells": [
  {
   "cell_type": "code",
   "execution_count": 10,
   "metadata": {
    "tags": []
   },
   "outputs": [
    {
     "output_type": "stream",
     "name": "stdout",
     "text": "Collecting mercantile\n  Downloading mercantile-1.1.5-py3-none-any.whl (13 kB)\nRequirement already satisfied: click>=3.0 in c:\\users\\kevin\\anaconda3\\envs\\gdaltest\\lib\\site-packages (from mercantile) (7.1.2)\nInstalling collected packages: mercantile\nSuccessfully installed mercantile-1.1.5\nRequirement already satisfied: pillow in c:\\users\\kevin\\anaconda3\\envs\\gdaltest\\lib\\site-packages (7.2.0)\n"
    }
   ],
   "source": [
    "#!pip install mapbox\n",
    "!pip install mercantile\n",
    "!pip install pillow"
   ]
  },
  {
   "cell_type": "code",
   "execution_count": 7,
   "metadata": {},
   "outputs": [],
   "source": [
    "!mkdir composite_images/\n",
    "!mkdir elevation_images/\n",
    "!mkdir satellite_images/"
   ]
  },
  {
   "cell_type": "code",
   "execution_count": null,
   "metadata": {},
   "outputs": [],
   "source": [
    "from mapbox import Static\n",
    "import mapbox\n",
    "import pandas as pd\n",
    "import mercantile\n",
    "\n",
    "# Import the image, math and os libraries\n",
    "import PIL\n",
    "import math \n",
    "from PIL import Image\n",
    "from os import listdir\n",
    "from os.path import isfile, join\n",
    "\n",
    "bbox = pd.read_csv('bounding.txt') "
   ]
  },
  {
   "cell_type": "code",
   "execution_count": 9,
   "metadata": {},
   "outputs": [
    {
     "output_type": "execute_result",
     "data": {
      "text/plain": "200"
     },
     "metadata": {},
     "execution_count": 9
    }
   ],
   "source": [
    "# mapbox api\n",
    "s = Static()\n",
    "s.session.params['access_token'] = \"pk.eyJ1IjoiZWZhd2UiLCJhIjoiY2tjb2QwamVyMGZlajJ5bWtxeDNmbTFkciJ9.IPLWkRMYkSmxoUFlCAMZIg\"\n",
    "response = s.image(\"mapbox.satellite\", lon=-61.7, lat=12.1, z=18)\n",
    "#response.status_code\n",
    "with open(\"response_la3.png\", \"wb\") as f:\n",
    "    f.write(response.content)"
   ]
  },
  {
   "cell_type": "code",
   "execution_count": 4,
   "metadata": {
    "tags": []
   },
   "outputs": [
    {
     "output_type": "stream",
     "name": "stdout",
     "text": "[4236, 4259]\n[6615, 6636]\n"
    }
   ],
   "source": [
    "# Topleft / Bottom right coordinates of the bounding box\n",
    "tl = [float(bbox['corner_nw'][0].split(',')[0]), float(bbox['corner_nw'][0].split(',')[1])]\n",
    "br = [float(bbox['corner_se'][0].split(',')[0]), float(bbox['corner_se'][0].split(',')[1])]\n",
    "z = 14 # Set the resolution (max at 15)\n",
    "tl_tiles = mercantile.tile(tl[1],tl[0],z)\n",
    "br_tiles = mercantile.tile(br[1],br[0],z)\n",
    "\n",
    "x_tile_range = [tl_tiles.x,br_tiles.x];print(x_tile_range)\n",
    "y_tile_range = [tl_tiles.y,br_tiles.y];print(y_tile_range)"
   ]
  },
  {
   "cell_type": "code",
   "execution_count": 5,
   "metadata": {
    "tags": []
   },
   "outputs": [],
   "source": [
    "import requests # The requests package allows use to call URLS\n",
    "import shutil   # shutil will be used to copy the image to the local\n",
    "# Loop over the tile ranges\n",
    "for i,x in enumerate(range(x_tile_range[0],x_tile_range[1]+1)):\n",
    "  for j,y in enumerate(range(y_tile_range[0],y_tile_range[1]+1)):\n",
    "   # Call the URL to get the image back\n",
    "   r = requests.get('https://api.mapbox.com/v4/mapbox.terrain-rgb/'+str(z)+'/'+str(x)+'/'+str(y)+'@2x.pngraw?access_token=pk.eyJ1IjoiZWZhd2UiLCJhIjoiY2tjb2QwamVyMGZlajJ5bWtxeDNmbTFkciJ9.IPLWkRMYkSmxoUFlCAMZIg', stream=True)\n",
    "   # Next we will write the raw content to an image\n",
    "   with open('./elevation_images/' + str(i) + '.' + str(j) + '.png','wb') as f:\n",
    "       r.raw.decode_content = True\n",
    "       shutil.copyfileobj(r.raw, f) \n",
    "   # Do the same for the satellite data\n",
    "   r =requests.get('https://api.mapbox.com/v4/mapbox.satellite/'+str(z)+'/'+str(x)+'/'+str(y)+'@2x.pngraw?access_token=pk.eyJ1IjoiZWZhd2UiLCJhIjoiY2tjb2QwamVyMGZlajJ5bWtxeDNmbTFkciJ9.IPLWkRMYkSmxoUFlCAMZIg', stream=True)\n",
    "   with open('./satellite_images/' + str(i) + '.' + str(j) + '.png','wb') as f:\n",
    "       r.raw.decode_content = True\n",
    "       shutil.copyfileobj(r.raw, f)"
   ]
  },
  {
   "cell_type": "code",
   "execution_count": 6,
   "metadata": {},
   "outputs": [],
   "source": [
    "# Loop over the elevation and satellite image set\n",
    "for img_name in ['elevation','satellite']:\n",
    "   # Make a list of the image names   \n",
    "   image_files = ['./'+img_name+'_images/' + f for f in listdir('./'+img_name+'_images/')]\n",
    "    # Open the image set using pillow\n",
    "   images = [Image.open(x) for x in image_files]\n",
    "   # Calculate the number of image tiles in each direction\n",
    "   edge_length_x = x_tile_range[1] - x_tile_range[0]\n",
    "   edge_length_y = y_tile_range[1] - y_tile_range[0]\n",
    "   edge_length_x = max(1,edge_length_x)\n",
    "   edge_length_y = max(1,edge_length_y)\n",
    "   # Find the final composed image dimensions  \n",
    "   width, height = images[0].size\n",
    "   total_width = width*edge_length_x\n",
    "   total_height = height*edge_length_y\n",
    "   # Create a new blank image we will fill in\n",
    "   composite = Image.new('RGB', (total_width, total_height))\n",
    "   # Loop over the x and y ranges\n",
    "   y_offset = 0\n",
    "   for i in range(0,edge_length_x):\n",
    "     x_offset = 0\n",
    "     for j in range(0,edge_length_y):\n",
    "        # Open up the image file and paste it into the composed\n",
    "        tmp_img = Image.open('./'+img_name+'_images/'+ str(i) + '.' + str(j) + '.png')\n",
    "        composite.paste(tmp_img, (y_offset,x_offset))\n",
    "        x_offset += width # Update the width\n",
    "     y_offset += height # Update the height\n",
    "# Save the final image\n",
    "composite.save('./composite_images/'+img_name+'.png')"
   ]
  }
 ],
 "metadata": {
  "language_info": {
   "codemirror_mode": {
    "name": "ipython",
    "version": 3
   },
   "file_extension": ".py",
   "mimetype": "text/x-python",
   "name": "python",
   "nbconvert_exporter": "python",
   "pygments_lexer": "ipython3",
   "version": 3
  },
  "orig_nbformat": 2,
  "kernelspec": {
   "name": "python_defaultSpec_1595390024270",
   "display_name": "Python 3.7.7 64-bit ('gdaltest': conda)"
  }
 },
 "nbformat": 4,
 "nbformat_minor": 2
}