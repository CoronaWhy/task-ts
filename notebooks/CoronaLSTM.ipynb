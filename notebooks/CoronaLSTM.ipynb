{
  "nbformat": 4,
  "nbformat_minor": 0,
  "metadata": {
    "colab": {
      "name": "CoronaBasic.ipynb",
      "provenance": [],
      "collapsed_sections": []
    },
    "kernelspec": {
      "name": "python3",
      "display_name": "Python 3"
    }
  },
  "cells": [
    {
      "cell_type": "markdown",
      "metadata": {
        "id": "htDHburyBuEe",
        "colab_type": "text"
      },
      "source": [
        "# Preliminary Analysis of CoronaVirus Time Series Data\n",
        "In this notebook we will conduct some preliminary analysis and forecasting on the Coronavirus time seires data. For this analysis we will look at forecasting using the data scraper.\n",
        "\n",
        "**Warning this is a basic analysis/machine learning model. The goal of this notebook is to gage the utility of data augmentation/transfer learning for virus forecasting. NOT provide actionable insights. It would additional rounds of training/validation + verification by epidemiologists and public health experts before I would be confident relying on using it for any actionable insights**"
      ]
    },
    {
      "cell_type": "code",
      "metadata": {
        "id": "CA1NxnWmHOAQ",
        "colab_type": "code",
        "outputId": "6e7962a5-97bb-4492-f672-696caed49b98",
        "colab": {
          "base_uri": "https://localhost:8080/",
          "height": 1000
        }
      },
      "source": [
        "#!git clone https://github.com/CoronaWhy/task-geo.git\n",
        "#!os.chdir('task-geo')\n",
        "import pandas as pd\n",
        "!wget -O coronavirus_timeseries.csv https://coronadatascraper.com/timeseries.csv\n",
        "!pip install wandb\n",
        "!wandb login\n",
        "import wandb\n",
        "from tensorflow import keras\n",
        "from wandb.keras import WandbCallback "
      ],
      "execution_count": 0,
      "outputs": [
        {
          "output_type": "stream",
          "text": [
            "--2020-04-28 20:45:58--  https://coronadatascraper.com/timeseries.csv\n",
            "Resolving coronadatascraper.com (coronadatascraper.com)... 185.199.108.153, 185.199.110.153, 185.199.111.153\n",
            "Connecting to coronadatascraper.com (coronadatascraper.com)|185.199.108.153|:443... connected.\n",
            "HTTP request sent, awaiting response... 200 OK\n",
            "Length: 36751130 (35M) [text/csv]\n",
            "Saving to: ‘coronavirus_timeseries.csv’\n",
            "\n",
            "coronavirus_timeser 100%[===================>]  35.05M  52.9MB/s    in 0.7s    \n",
            "\n",
            "2020-04-28 20:46:00 (52.9 MB/s) - ‘coronavirus_timeseries.csv’ saved [36751130/36751130]\n",
            "\n",
            "Collecting wandb\n",
            "\u001b[?25l  Downloading https://files.pythonhosted.org/packages/1d/17/7f632c1c700758822f9e41aa7b025ea15f017f2a43611efa7b64341303ea/wandb-0.8.34-py2.py3-none-any.whl (1.4MB)\n",
            "\u001b[K     |████████████████████████████████| 1.4MB 2.8MB/s \n",
            "\u001b[?25hCollecting gql==0.2.0\n",
            "  Downloading https://files.pythonhosted.org/packages/c4/6f/cf9a3056045518f06184e804bae89390eb706168349daa9dff8ac609962a/gql-0.2.0.tar.gz\n",
            "Collecting shortuuid>=0.5.0\n",
            "  Downloading https://files.pythonhosted.org/packages/25/a6/2ecc1daa6a304e7f1b216f0896b26156b78e7c38e1211e9b798b4716c53d/shortuuid-1.0.1-py3-none-any.whl\n",
            "Requirement already satisfied: Click>=7.0 in /usr/local/lib/python3.6/dist-packages (from wandb) (7.1.1)\n",
            "Requirement already satisfied: requests>=2.0.0 in /usr/local/lib/python3.6/dist-packages (from wandb) (2.21.0)\n",
            "Collecting watchdog>=0.8.3\n",
            "\u001b[?25l  Downloading https://files.pythonhosted.org/packages/73/c3/ed6d992006837e011baca89476a4bbffb0a91602432f73bd4473816c76e2/watchdog-0.10.2.tar.gz (95kB)\n",
            "\u001b[K     |████████████████████████████████| 102kB 11.8MB/s \n",
            "\u001b[?25hCollecting subprocess32>=3.5.3\n",
            "\u001b[?25l  Downloading https://files.pythonhosted.org/packages/32/c8/564be4d12629b912ea431f1a50eb8b3b9d00f1a0b1ceff17f266be190007/subprocess32-3.5.4.tar.gz (97kB)\n",
            "\u001b[K     |████████████████████████████████| 102kB 11.6MB/s \n",
            "\u001b[?25hRequirement already satisfied: nvidia-ml-py3>=7.352.0 in /usr/local/lib/python3.6/dist-packages (from wandb) (7.352.0)\n",
            "Requirement already satisfied: six>=1.10.0 in /usr/local/lib/python3.6/dist-packages (from wandb) (1.12.0)\n",
            "Collecting GitPython>=1.0.0\n",
            "\u001b[?25l  Downloading https://files.pythonhosted.org/packages/19/1a/0df85d2bddbca33665d2148173d3281b290ac054b5f50163ea735740ac7b/GitPython-3.1.1-py3-none-any.whl (450kB)\n",
            "\u001b[K     |████████████████████████████████| 460kB 45.0MB/s \n",
            "\u001b[?25hCollecting sentry-sdk>=0.4.0\n",
            "\u001b[?25l  Downloading https://files.pythonhosted.org/packages/20/7e/19545324e83db4522b885808cd913c3b93ecc0c88b03e037b78c6a417fa8/sentry_sdk-0.14.3-py2.py3-none-any.whl (103kB)\n",
            "\u001b[K     |████████████████████████████████| 112kB 49.2MB/s \n",
            "\u001b[?25hCollecting docker-pycreds>=0.4.0\n",
            "  Downloading https://files.pythonhosted.org/packages/f5/e8/f6bd1eee09314e7e6dee49cbe2c5e22314ccdb38db16c9fc72d2fa80d054/docker_pycreds-0.4.0-py2.py3-none-any.whl\n",
            "Collecting configparser>=3.8.1\n",
            "  Downloading https://files.pythonhosted.org/packages/4b/6b/01baa293090240cf0562cc5eccb69c6f5006282127f2b846fad011305c79/configparser-5.0.0-py3-none-any.whl\n",
            "Requirement already satisfied: psutil>=5.0.0 in /usr/local/lib/python3.6/dist-packages (from wandb) (5.4.8)\n",
            "Requirement already satisfied: PyYAML>=3.10 in /usr/local/lib/python3.6/dist-packages (from wandb) (3.13)\n",
            "Requirement already satisfied: python-dateutil>=2.6.1 in /usr/local/lib/python3.6/dist-packages (from wandb) (2.8.1)\n",
            "Collecting graphql-core<2,>=0.5.0\n",
            "\u001b[?25l  Downloading https://files.pythonhosted.org/packages/b0/89/00ad5e07524d8c523b14d70c685e0299a8b0de6d0727e368c41b89b7ed0b/graphql-core-1.1.tar.gz (70kB)\n",
            "\u001b[K     |████████████████████████████████| 71kB 9.4MB/s \n",
            "\u001b[?25hRequirement already satisfied: promise<3,>=2.0 in /usr/local/lib/python3.6/dist-packages (from gql==0.2.0->wandb) (2.3)\n",
            "Requirement already satisfied: urllib3<1.25,>=1.21.1 in /usr/local/lib/python3.6/dist-packages (from requests>=2.0.0->wandb) (1.24.3)\n",
            "Requirement already satisfied: idna<2.9,>=2.5 in /usr/local/lib/python3.6/dist-packages (from requests>=2.0.0->wandb) (2.8)\n",
            "Requirement already satisfied: certifi>=2017.4.17 in /usr/local/lib/python3.6/dist-packages (from requests>=2.0.0->wandb) (2020.4.5.1)\n",
            "Requirement already satisfied: chardet<3.1.0,>=3.0.2 in /usr/local/lib/python3.6/dist-packages (from requests>=2.0.0->wandb) (3.0.4)\n",
            "Collecting pathtools>=0.1.1\n",
            "  Downloading https://files.pythonhosted.org/packages/e7/7f/470d6fcdf23f9f3518f6b0b76be9df16dcc8630ad409947f8be2eb0ed13a/pathtools-0.1.2.tar.gz\n",
            "Collecting gitdb<5,>=4.0.1\n",
            "\u001b[?25l  Downloading https://files.pythonhosted.org/packages/74/52/ca35448b56c53a079d3ffe18b1978c6e424f6d4df02404877094c89f5bfb/gitdb-4.0.4-py3-none-any.whl (63kB)\n",
            "\u001b[K     |████████████████████████████████| 71kB 9.6MB/s \n",
            "\u001b[?25hCollecting smmap<4,>=3.0.1\n",
            "  Downloading https://files.pythonhosted.org/packages/27/b1/e379cfb7c07bbf8faee29c4a1a2469dbea525f047c2b454c4afdefa20a30/smmap-3.0.2-py2.py3-none-any.whl\n",
            "Building wheels for collected packages: gql, watchdog, subprocess32, graphql-core, pathtools\n",
            "  Building wheel for gql (setup.py) ... \u001b[?25l\u001b[?25hdone\n",
            "  Created wheel for gql: filename=gql-0.2.0-cp36-none-any.whl size=7630 sha256=0ab0beb92b973ca485c254658e42a32c89d24be5f88bc48f2e9dc7470a8f8881\n",
            "  Stored in directory: /root/.cache/pip/wheels/ce/0e/7b/58a8a5268655b3ad74feef5aa97946f0addafb3cbb6bd2da23\n",
            "  Building wheel for watchdog (setup.py) ... \u001b[?25l\u001b[?25hdone\n",
            "  Created wheel for watchdog: filename=watchdog-0.10.2-cp36-none-any.whl size=73605 sha256=aef9ced20a93d8df601cb99b47e80cf15b53200e1b8e71951e937d8b111cabaa\n",
            "  Stored in directory: /root/.cache/pip/wheels/bc/ed/6c/028dea90d31b359cd2a7c8b0da4db80e41d24a59614154072e\n",
            "  Building wheel for subprocess32 (setup.py) ... \u001b[?25l\u001b[?25hdone\n",
            "  Created wheel for subprocess32: filename=subprocess32-3.5.4-cp36-none-any.whl size=6489 sha256=e55ca3e1cf2d7c2a52fb9795cc47392de88b8918e76da92c1325e8caf1a8adb2\n",
            "  Stored in directory: /root/.cache/pip/wheels/68/39/1a/5e402bdfdf004af1786c8b853fd92f8c4a04f22aad179654d1\n",
            "  Building wheel for graphql-core (setup.py) ... \u001b[?25l\u001b[?25hdone\n",
            "  Created wheel for graphql-core: filename=graphql_core-1.1-cp36-none-any.whl size=104650 sha256=fc11fe4a2faee276c12142728ce4b3eb292ad0fd9665729a0bfcd74f3cdc54e6\n",
            "  Stored in directory: /root/.cache/pip/wheels/45/99/d7/c424029bb0fe910c63b68dbf2aa20d3283d023042521bcd7d5\n",
            "  Building wheel for pathtools (setup.py) ... \u001b[?25l\u001b[?25hdone\n",
            "  Created wheel for pathtools: filename=pathtools-0.1.2-cp36-none-any.whl size=8784 sha256=84cb11161a76ab66bffdceb279ce41bc7028caa02595c74ceb54af6f2b635591\n",
            "  Stored in directory: /root/.cache/pip/wheels/0b/04/79/c3b0c3a0266a3cb4376da31e5bfe8bba0c489246968a68e843\n",
            "Successfully built gql watchdog subprocess32 graphql-core pathtools\n",
            "Installing collected packages: graphql-core, gql, shortuuid, pathtools, watchdog, subprocess32, smmap, gitdb, GitPython, sentry-sdk, docker-pycreds, configparser, wandb\n",
            "Successfully installed GitPython-3.1.1 configparser-5.0.0 docker-pycreds-0.4.0 gitdb-4.0.4 gql-0.2.0 graphql-core-1.1 pathtools-0.1.2 sentry-sdk-0.14.3 shortuuid-1.0.1 smmap-3.0.2 subprocess32-3.5.4 wandb-0.8.34 watchdog-0.10.2\n",
            "\u001b[34m\u001b[1mwandb\u001b[0m: You can find your API key in your browser here: https://app.wandb.ai/authorize\n",
            "\u001b[34m\u001b[1mwandb\u001b[0m: Paste an API key from your profile and hit enter: 4c616b51e6e88012c20dc6adcf90d05172185490\n",
            "\u001b[34m\u001b[1mwandb\u001b[0m: Appending key for api.wandb.ai to your netrc file: /root/.netrc\n",
            "\u001b[32mSuccessfully logged in to Weights & Biases!\u001b[0m\n"
          ],
          "name": "stdout"
        }
      ]
    },
    {
      "cell_type": "code",
      "metadata": {
        "id": "WmOWKLuxHT7j",
        "colab_type": "code",
        "outputId": "394fe992-09b4-4cc1-9513-88d30674339e",
        "colab": {
          "base_uri": "https://localhost:8080/",
          "height": 71
        }
      },
      "source": [
        "df = pd.read_csv(\"coronavirus_timeseries.csv\")\n",
        "df['month'] = pd.to_datetime(df['date']).map(lambda x: x.month)\n",
        "df['weekday'] = pd.to_datetime(df['date']).map(lambda x: x.weekday())"
      ],
      "execution_count": 0,
      "outputs": [
        {
          "output_type": "stream",
          "text": [
            "/usr/local/lib/python3.6/dist-packages/IPython/core/interactiveshell.py:2718: DtypeWarning: Columns (2) have mixed types.Specify dtype option on import or set low_memory=False.\n",
            "  interactivity=interactivity, compiler=compiler, result=result)\n"
          ],
          "name": "stderr"
        }
      ]
    },
    {
      "cell_type": "code",
      "metadata": {
        "id": "asrssixL6XZo",
        "colab_type": "code",
        "outputId": "9686dd3f-f72f-427b-90d4-0ea20e05907f",
        "colab": {
          "base_uri": "https://localhost:8080/",
          "height": 54
        }
      },
      "source": [
        "unqiue_counties = df['county'].unique()\n",
        "print(len(unqiue_counties))"
      ],
      "execution_count": 0,
      "outputs": [
        {
          "output_type": "stream",
          "text": [
            "2015\n"
          ],
          "name": "stdout"
        }
      ]
    },
    {
      "cell_type": "markdown",
      "metadata": {
        "id": "QL0c52gZYRKs",
        "colab_type": "text"
      },
      "source": [
        "We will now construct a list of suitable data at the county level."
      ]
    },
    {
      "cell_type": "code",
      "metadata": {
        "id": "PfOvVyOCl9JL",
        "colab_type": "code",
        "outputId": "c789cb22-38e3-4e38-f736-e3b2e7d15fb0",
        "colab": {
          "base_uri": "https://localhost:8080/",
          "height": 54
        }
      },
      "source": [
        "def loop_through_geo_codes(df):\n",
        "  df_county_list = []\n",
        "  for code in df['county'].unique():\n",
        "    mask = df['county'] == code\n",
        "    df_code = df[mask]\n",
        "    ts_count = len(df_code)\n",
        "    if ts_count > 60:\n",
        "      df_county_list.append(df_code)\n",
        "  return df_county_list \n",
        "county_info = loop_through_geo_codes(df)\n",
        "print(len(county_info))"
      ],
      "execution_count": 0,
      "outputs": [
        {
          "output_type": "stream",
          "text": [
            "343\n"
          ],
          "name": "stdout"
        }
      ]
    },
    {
      "cell_type": "markdown",
      "metadata": {
        "id": "Mc189EXg6pfE",
        "colab_type": "text"
      },
      "source": [
        "## Forecasting in Antwerp\n",
        "We will now piece together some simple tutorial code for forecasting new cases in Antwerp."
      ]
    },
    {
      "cell_type": "code",
      "metadata": {
        "id": "WiJyk9YiHaOX",
        "colab_type": "code",
        "outputId": "e5028aaf-2c60-490d-b782-2c40df26a72c",
        "colab": {
          "base_uri": "https://localhost:8080/",
          "height": 54
        }
      },
      "source": [
        "antwerp_df = df[df['county']=='Antwerp'].fillna(0)\n",
        "antwerp_relevant = antwerp_df[['cases', 'deaths', 'recovered', 'population', 'lat', 'long']].values\n",
        "antwerp_df['new_cases'] = antwerp_df.cases.diff()\n",
        "print(len(antwerp_df))"
      ],
      "execution_count": 0,
      "outputs": [
        {
          "output_type": "stream",
          "text": [
            "97\n"
          ],
          "name": "stdout"
        }
      ]
    },
    {
      "cell_type": "markdown",
      "metadata": {
        "id": "KlVWneL_CV3r",
        "colab_type": "text"
      },
      "source": [
        "## Data Augmentation\n",
        "We will now explore using the tsaug library for forecasting."
      ]
    },
    {
      "cell_type": "code",
      "metadata": {
        "id": "l1J98G13HbKM",
        "colab_type": "code",
        "outputId": "8d19cb85-b098-4cab-b433-27fcaa8a620e",
        "colab": {
          "base_uri": "https://localhost:8080/",
          "height": 137
        }
      },
      "source": [
        "!pip install tsaug"
      ],
      "execution_count": 0,
      "outputs": [
        {
          "output_type": "stream",
          "text": [
            "Collecting tsaug\n",
            "  Downloading https://files.pythonhosted.org/packages/e8/6e/8b1be145a32bba360c14322c3b87ad93d6227c46528d482c84eefe54094b/tsaug-0.2.1-py3-none-any.whl\n",
            "Requirement already satisfied: numpy>=1.14 in /usr/local/lib/python3.6/dist-packages (from tsaug) (1.18.3)\n",
            "Requirement already satisfied: scipy>=1.1 in /usr/local/lib/python3.6/dist-packages (from tsaug) (1.4.1)\n",
            "Installing collected packages: tsaug\n",
            "Successfully installed tsaug-0.2.1\n"
          ],
          "name": "stdout"
        }
      ]
    },
    {
      "cell_type": "code",
      "metadata": {
        "id": "aXNkSdTFvZ1g",
        "colab_type": "code",
        "colab": {}
      },
      "source": [
        "from tsaug.visualization import plot \n",
        "from tsaug import TimeWarp, Crop, Quantize, Drift, Reverse\n",
        "my_augmenter = (TimeWarp() * 5, # random time warping 5 times in parallel \n",
        "                Crop(size=300),  # random crop subsequences with length 300\n",
        "                Quantize(n_levels=[10, 20, 30]),  # random quantize to 10-, 20-, or 30- level sets\n",
        "                Drift(max_drift=(0.1, 0.5)),   # with 80% probability, random drift the signal up to 10% - 50%\n",
        "                Reverse()) #0.5  # with 50% probability, reverse the sequence)"
      ],
      "execution_count": 0,
      "outputs": []
    },
    {
      "cell_type": "code",
      "metadata": {
        "id": "VdVWNhk2XRJw",
        "colab_type": "code",
        "colab": {}
      },
      "source": [
        "#X_aug = my_augmenter[0].augment(antwerp_relevant)\n",
        "print(antwerp_relevant.shape)\n",
        "X_aug = TimeWarp(antwerp[:70])"
      ],
      "execution_count": 0,
      "outputs": []
    },
    {
      "cell_type": "markdown",
      "metadata": {
        "id": "-A6ICggnYBlX",
        "colab_type": "text"
      },
      "source": [
        "## Models and Forecasting\n",
        "We will now define some simple models in Keras for forecasting."
      ]
    },
    {
      "cell_type": "code",
      "metadata": {
        "id": "VO7ZOB41az1W",
        "colab_type": "code",
        "colab": {}
      },
      "source": [
        "import numpy as np\n",
        "import tensorflow as tf\n",
        "from sklearn.preprocessing import RobustScaler\n",
        "scaler_dict = {}\n",
        "config_default = {\"epochs\":30, \"validation_split\":0.1, \n",
        "          \"loss\":\"mean_squared_error\", \"optimizer\":'adam', \n",
        "          \"geo_segment\":\"antwerp\", \"seq_len\":7, \"train_steps\":70, \n",
        "          \"test_steps\":27, \"scaler\":\"RobustScaler\", \"new_cases\":True, \n",
        "          \"beta\":0.899, \"additional_features\":[\"weekday\",\"month\"]}\n",
        "r = RobustScaler()\n",
        "x_train_full = antwerp_df[['deaths', 'new_cases']][1:config_default[\"train_steps\"]]\n",
        "x_train_full = pd.DataFrame(r.fit_transform(x_train_full))\n",
        "y_train_full = x_train_full\n",
        "r_test = RobustScaler()\n",
        "test_orig = antwerp_df[['deaths', 'new_cases']][70:]\n",
        "test = pd.DataFrame(r_test.fit_transform(test_orig))"
      ],
      "execution_count": 0,
      "outputs": []
    },
    {
      "cell_type": "code",
      "metadata": {
        "id": "eUR6eM4MZZJJ",
        "colab_type": "code",
        "colab": {}
      },
      "source": [
        "def create_dataset(X, y, time_steps=1):\n",
        "    Xs, ys = [], []\n",
        "    for i in range(len(X) - time_steps):\n",
        "        v = X.iloc[i:(i + time_steps)].values\n",
        "        Xs.append(v)\n",
        "        ys.append(y.iloc[i + time_steps])\n",
        "    return np.array(Xs), np.array(ys)"
      ],
      "execution_count": 0,
      "outputs": []
    },
    {
      "cell_type": "code",
      "metadata": {
        "id": "-OOG9RAp4-ap",
        "colab_type": "code",
        "outputId": "e0fd1600-358e-4f68-fe2b-799f899a5056",
        "colab": {
          "base_uri": "https://localhost:8080/",
          "height": 71
        }
      },
      "source": [
        "sweep_config = {\n",
        "  \"name\": \"Default sweep\",\n",
        "  \"method\": \"grid\",\n",
        "  \"parameters\": {\n",
        "        \"batch_size\": {\n",
        "            \"values\": [2, 3, 4, 5]\n",
        "        },\n",
        "        \"learn\":{\n",
        "            \"values\":[0.001, 0.0015, 0.002, 0.003, 0.004, 0.01]\n",
        "        },\n",
        "        \"seq_len\":{\n",
        "            \"values\":[1, 2, 3, 4, 5, 6, 7, 8, 9, 10]\n",
        "        }\n",
        "    }\n",
        "}\n",
        "sweep_id = wandb.sweep(sweep_config, project=\"covid-forecast\")"
      ],
      "execution_count": 0,
      "outputs": [
        {
          "output_type": "stream",
          "text": [
            "Create sweep with ID: ogrx4cvd\n",
            "Sweep URL: https://app.wandb.ai/igodfried/covid-forecast/sweeps/ogrx4cvd\n"
          ],
          "name": "stdout"
        }
      ]
    },
    {
      "cell_type": "code",
      "metadata": {
        "id": "nXhSxkqdYJbd",
        "colab_type": "code",
        "colab": {}
      },
      "source": [
        "import matplotlib.pyplot as plt\n",
        "def train():\n",
        "  run = wandb.init(project=\"covid-forecast\", config=config_default, magic=True)\n",
        "  config = wandb.config\n",
        "  X_train, Y_train = create_dataset(x_train_full, y_train_full, config[\"seq_len\"])\n",
        "  X_test, y_test = create_dataset(test, test, config[\"seq_len\"])\n",
        "  opt = keras.optimizers.Adam(learning_rate=config[\"learn\"], beta_1=config[\"beta\"], beta_2=0.999, amsgrad=False)\n",
        "  model = keras.Sequential()\n",
        "  model.add(\n",
        "    keras.layers.Bidirectional(\n",
        "      keras.layers.LSTM(\n",
        "        units=128,\n",
        "        input_shape=(X_train.shape[1], X_train.shape[2])\n",
        "      )\n",
        "    )\n",
        "  ) \n",
        "  model.add(keras.layers.Dropout(rate=0.2))\n",
        "  model.add(keras.layers.Dense(units=2))\n",
        "  model.compile(loss=config[\"loss\"], optimizer=opt)\n",
        "\n",
        "  history = model.fit(\n",
        "      X_train, Y_train,\n",
        "      epochs=config[\"epochs\"],\n",
        "      batch_size=config[\"batch_size\"],\n",
        "      validation_split=config[\"validation_split\"],\n",
        "      callbacks=[WandbCallback()],\n",
        "      shuffle=False\n",
        "  )\n",
        "  evaluate_single(model, X_test, y_test, r)\n",
        "  evaluate_plot_multi(model, test, config, X_test, r_test)\n",
        "  return model\n",
        "\n",
        "def evaluate_single(model, x_test, y_test, scaler):\n",
        "  y_preds = model.predict(x_test)\n",
        "  y_preds = scaler.inverse_transform(y_preds)\n",
        "  y_test = scaler.inverse_transform(y_test)\n",
        "  complete_mse = tf.keras.losses.MSE( y_preds[:, 1], y_test[:, 1])\n",
        "  wandb.run.summary[\"test_mse\"] = complete_mse\n",
        "  return complete_mse\n",
        "\n",
        "def evaluate_plot_multi(model, test_df, config, x_test, scaler, predictor=\"new_cases\"):\n",
        "  arr = predict_multi(model, len(test)-config[\"seq_len\"], x_test[0, :, :], config)\n",
        "  test_orig['predicted_cases'] = 0\n",
        "  test_orig['predicted_cases'][config[\"seq_len\"]:] = scaler.inverse_transform(arr.squeeze(0))[:, 1]\n",
        "  plt.plot(test_orig['predicted_cases'], label='predicted_cases')\n",
        "  plt.plot(test_orig[predictor], label='actual_cases')\n",
        "  plt.legend();\n",
        "  wandb.log({\"test\":plt})\n",
        "  plt.plot(test_orig['predicted_cases'], label='predicted_cases')\n",
        "  plt.plot(test_orig[predictor], label='actual_cases')\n",
        "  plt.legend();\n",
        "  wandb.Image(plt, caption=\"Plot\")\n",
        "  large_mse = tf.keras.losses.MSE(\n",
        "    scaler.inverse_transform(arr.squeeze(0))[:, 1], test_orig[predictor][config[\"seq_len\"]:].values\n",
        "  )\n",
        "  wandb.run.summary[\"test_mse_full\"] =  large_mse\n",
        "  return large_mse\n",
        "\n",
        "def predict_multi(model, time_steps, start_rows, config):\n",
        "  start_rows=np.expand_dims(start_rows, axis=0)\n",
        "  for i in range(0, time_steps):\n",
        "    out = model.predict(start_rows[:, i:, :])\n",
        "    out = out[np.newaxis, ...]\n",
        "    start_rows = np.concatenate((start_rows, out), axis=1)\n",
        "  return start_rows[:, config[\"seq_len\"]:, :]\n"
      ],
      "execution_count": 0,
      "outputs": []
    },
    {
      "cell_type": "code",
      "metadata": {
        "id": "Q0N5tLiZB_IE",
        "colab_type": "code",
        "colab": {}
      },
      "source": [
        "wandb.agent(sweep_id, function=train)\n"
      ],
      "execution_count": 0,
      "outputs": []
    },
    {
      "cell_type": "code",
      "metadata": {
        "id": "tR_vweL-bOD1",
        "colab_type": "code",
        "outputId": "f6d40e8b-d959-48ff-85d9-d828cd00779b",
        "colab": {
          "base_uri": "https://localhost:8080/",
          "height": 286
        }
      },
      "source": [
        "import matplotlib.pyplot as plt\n",
        "%matplotlib inline\n",
        "%config InlineBackend.figure_format='retina'\n",
        "plt.plot(history.history['loss'], label='train')\n",
        "plt.plot(history.history['val_loss'], label='test')\n",
        "plt.legend();"
      ],
      "execution_count": 0,
      "outputs": [
        {
          "output_type": "display_data",
          "data": {
            "image/png": "[encoded data removed]",
            "text/plain": [
              "<Figure size 432x288 with 1 Axes>"
            ]
          },
          "metadata": {
            "tags": [],
            "image/png": {
              "width": 370,
              "height": 248
            },
            "needs_background": "light"
          }
        }
      ]
    },
    {
      "cell_type": "markdown",
      "metadata": {
        "id": "XVag4FbaY7ac",
        "colab_type": "text"
      },
      "source": [
        "### Forecasting on all county levels\n",
        "Now that we have loooked at Antwerp specifically we will design a general function to work on all geographic counties."
      ]
    },
    {
      "cell_type": "code",
      "metadata": {
        "id": "9SIqUoXPZHZu",
        "colab_type": "code",
        "colab": {}
      },
      "source": [
        "# TODO figure out how to get this into a function. Horrible to use global vars \n",
        "#like this. Still waiting on Slack response though.\n",
        "#def run_geo_sweeps(county_info):\n",
        "# refactor\n",
        "import numpy as np\n",
        "import tensorflow as tf\n",
        "from sklearn.preprocessing import RobustScaler\n",
        "def run_geo_sweeps(county_info):\n",
        "  for county in county_info:\n",
        "    county = county.fillna(0)\n",
        "    county_name = county['county'].values[0]\n",
        "    config_default = {\"epochs\":30, \"validation_split\":0.1, \n",
        "            \"loss\":\"mean_squared_error\", \"optimizer\":'adam', \n",
        "            \"geo_segment\":county_name, \"seq_len\":7, \"train_steps\":60, \n",
        "            \"test_steps\":27, \"scaler\":\"RobustScaler\", \"new_cases\":True, \n",
        "            \"beta\":0.899, \"additional_features\":[\"none\"]}\n",
        "    county['new_cases'] = county.cases.diff()\n",
        "    r = RobustScaler()\n",
        "    x_train_full = county[['deaths', 'new_cases']][1:config_default[\"train_steps\"]]\n",
        "    x_train_full = pd.DataFrame(r.fit_transform(x_train_full))\n",
        "    y_train_full = x_train_full\n",
        "    r_test = RobustScaler()\n",
        "    test_orig = county[['deaths', 'new_cases']][60:]\n",
        "    test = pd.DataFrame(r_test.fit_transform(test_orig))\n",
        "    sweep_id = wandb.sweep(sweep_config, project=\"covid-forecast\")\n",
        "    wandb.agent(sweep_id, function=train)\n"
      ],
      "execution_count": 0,
      "outputs": []
    },
    {
      "cell_type": "markdown",
      "metadata": {
        "id": "zPaMFelHjm-m",
        "colab_type": "text"
      },
      "source": [
        "### Examining Results\n",
        "We will now predict both one step ahead and 20 steps ahead."
      ]
    },
    {
      "cell_type": "code",
      "metadata": {
        "id": "F5zjK1JYf52W",
        "colab_type": "code",
        "outputId": "00fa37da-16a3-428d-bb6c-e6f10371bb94",
        "colab": {
          "base_uri": "https://localhost:8080/",
          "height": 319
        }
      },
      "source": [
        "res = model.predict(X_test)\n",
        "res = r_test.inverse_transform(res)\n",
        "res"
      ],
      "execution_count": 0,
      "outputs": [
        {
          "output_type": "execute_result",
          "data": {
            "text/plain": [
              "array([[-2.1279370e-02,  2.0092883e+03],\n",
              "       [-1.8879963e-02,  2.2472920e+03],\n",
              "       [-1.6375745e-02,  2.5275439e+03],\n",
              "       [-1.3892809e-02,  2.8506108e+03],\n",
              "       [-1.1596879e-02,  3.1829221e+03],\n",
              "       [-9.0861954e-03,  3.5029392e+03],\n",
              "       [-6.4477865e-03,  3.7825161e+03],\n",
              "       [-3.6051013e-03,  4.0421055e+03],\n",
              "       [-1.2287628e-03,  4.2927124e+03],\n",
              "       [ 3.3153594e-04,  4.5448154e+03],\n",
              "       [ 1.1798348e-03,  4.7915127e+03],\n",
              "       [ 2.0689592e-03,  5.0360225e+03],\n",
              "       [ 3.3188127e-03,  5.2662153e+03],\n",
              "       [ 5.0343592e-03,  5.5053794e+03],\n",
              "       [ 6.5031778e-03,  5.7533242e+03],\n",
              "       [ 7.2021466e-03,  5.9751943e+03],\n",
              "       [ 7.6369299e-03,  6.1531494e+03]], dtype=float32)"
            ]
          },
          "metadata": {
            "tags": []
          },
          "execution_count": 30
        }
      ]
    },
    {
      "cell_type": "code",
      "metadata": {
        "id": "Z_9dG21n1bJC",
        "colab_type": "code",
        "outputId": "aee9ba88-9e6e-4ec8-ad2c-a114d299538a",
        "colab": {
          "base_uri": "https://localhost:8080/",
          "height": 319
        }
      },
      "source": [
        "y_true = r_test.inverse_transform(y_test)\n",
        "y_true"
      ],
      "execution_count": 0,
      "outputs": [
        {
          "output_type": "execute_result",
          "data": {
            "text/plain": [
              "array([[   0., 3521.],\n",
              "       [   0., 3822.],\n",
              "       [   0., 4086.],\n",
              "       [   0., 4179.],\n",
              "       [   0., 4265.],\n",
              "       [   0., 4330.],\n",
              "       [   0., 4470.],\n",
              "       [   0., 4645.],\n",
              "       [   0., 4855.],\n",
              "       [   0., 4965.],\n",
              "       [   0., 5028.],\n",
              "       [   0., 5079.],\n",
              "       [   0., 5241.],\n",
              "       [   0., 5415.],\n",
              "       [   0., 5449.],\n",
              "       [   0., 5449.],\n",
              "       [   0., 5449.]])"
            ]
          },
          "metadata": {
            "tags": []
          },
          "execution_count": 31
        }
      ]
    },
    {
      "cell_type": "markdown",
      "metadata": {
        "id": "bkob-4bnYdeT",
        "colab_type": "text"
      },
      "source": [
        "### PyTorch models\n",
        "Use flow-forecast library \n"
      ]
    },
    {
      "cell_type": "code",
      "metadata": {
        "id": "RK-U7-QhfP5b",
        "colab_type": "code",
        "outputId": "391a7895-b6fc-418d-d01a-76223840b072",
        "colab": {
          "base_uri": "https://localhost:8080/",
          "height": 236
        }
      },
      "source": [
        "from google.colab import auth\n",
        "from datetime import datetime\n",
        "auth.authenticate_user()\n",
        "!gcloud source repos clone github_aistream-peelout_flow-forecast --project=gmap-997"
      ],
      "execution_count": 0,
      "outputs": [
        {
          "output_type": "stream",
          "text": [
            "\u001b[1;33mWARNING:\u001b[0m Repository \"github_aistream-peelout_flow-forecast\" in project \"gmap-997\" is a mirror. Pushing to this clone will have no effect.  Instead, clone the mirrored repository directly with \n",
            "$ git clone https://github.com/AIStream-Peelout/flow-forecast\n",
            "Cloning into '/content/github_aistream-peelout_flow-forecast'...\n",
            "remote: Total 3614 (delta 2384), reused 3614 (delta 2384)\u001b[K\n",
            "Receiving objects: 100% (3614/3614), 2.61 MiB | 7.04 MiB/s, done.\n",
            "Resolving deltas: 100% (2384/2384), done.\n",
            "Project [gmap-997] repository [github_aistream-peelout_flow-forecast] was cloned to [/content/github_aistream-peelout_flow-forecast].\n",
            "\n",
            "\n",
            "To take a quick anonymous survey, run:\n",
            "  $ gcloud survey\n",
            "\n"
          ],
          "name": "stdout"
        }
      ]
    },
    {
      "cell_type": "code",
      "metadata": {
        "id": "A1nZRmkrNkQI",
        "colab_type": "code",
        "colab": {}
      },
      "source": [
        "import os\n",
        "os.chdir('/content/github_aistream-peelout_flow-forecast')\n",
        "!git checkout -t origin/branch_fixes\n",
        "!python setup.py develop\n",
        "!pip install -r requirements.txt\n",
        "!mkdir data"
      ],
      "execution_count": 0,
      "outputs": []
    },
    {
      "cell_type": "code",
      "metadata": {
        "id": "uaY8acW4thxu",
        "colab_type": "code",
        "colab": {}
      },
      "source": [
        "def make_config_file(wandb_config, file_path, df_len):\n",
        "  train_number = df_len * .7\n",
        "  validation_number = df_len *.9\n",
        "  {                 \n",
        "    \"model_name\": \"MultiAttnHeadSimple\",\n",
        "    \"model_type\": \"PyTorch\",\n",
        "    \"model_params\": {\n",
        "      \"number_time_series\":3,\n",
        "      \"seq_len\":5\n",
        "     },\n",
        "    \"dataset_params\":\n",
        "    {  \"class\": \"default\",\n",
        "       \"training_path\": file_path,\n",
        "       \"validation_path\": file_path,\n",
        "       \"test_path\": file_path,\n",
        "       \"batch_size\":4,\n",
        "       \"forecast_history\":5,\n",
        "       \"forecast_length\":5,\n",
        "       \"train_end\": train_number,\n",
        "       \"valid_start\":train_number+1,\n",
        "       \"valid_end\": validation_number,\n",
        "       \"target_col\": [\"new_cases\"],\n",
        "       \"relevant_cols\": [\"new_cases\", \"month\", \"weekday\"],\n",
        "       \"scaler\": \"StandardScaler\", \n",
        "       \"interpolate\": False\n",
        "    },\n",
        "    \"training_params\":\n",
        "    {\n",
        "       \"criterion\":\"MSE\",\n",
        "       \"optimizer\": \"Adam\",\n",
        "       \"optim_params\":\n",
        "       {\n",
        "\n",
        "       },\n",
        "       \"lr\": 0.001,\n",
        "       \"epochs\": 4,\n",
        "       \"batch_size\":4\n",
        "    \n",
        "    },\n",
        "    \"GCS\": False,\n",
        "    \n",
        "    \"wandb\": {\n",
        "       \"name\": \"flood_forecast_circleci\",\n",
        "       \"tags\": [\"dummy_run\", \"circleci\"],\n",
        "       \"project\": \"repo-flood_forecast\"\n",
        "    },\n",
        "    \"forward_params\":{},\n",
        "   \"metrics\":[\"MSE\"],\n",
        "   \"inference_params\":\n",
        "   {     \n",
        "         \"datetime_start\":\"2016-05-31\",\n",
        "          \"hours_to_forecast\":336, \n",
        "          \"test_csv_path\":\"tests/test_data/keag_small.csv\",\n",
        "          \"dataset_params\":{\n",
        "             \"file_path\": \"tests/test_data/keag_small.csv\",\n",
        "             \"forecast_history\":5,\n",
        "             \"forecast_length\":5,\n",
        "             \"relevant_cols\": [\"new_cases\", \"month\", \"weekday\"],\n",
        "             \"target_col\": [\"new_cases\"],\n",
        "             \"scaling\": \"StandardScaler\",\n",
        "             \"interpolate_param\": False\n",
        "          }\n",
        "   }\n",
        "       \n",
        "   \n",
        "}\n",
        "    "
      ],
      "execution_count": 0,
      "outputs": []
    }
  ]
}