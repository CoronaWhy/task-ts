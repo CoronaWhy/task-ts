{
  "nbformat": 4,
  "nbformat_minor": 0,
  "metadata": {
    "colab": {
      "name": "CoronaBasic.ipynb",
      "provenance": [],
      "collapsed_sections": []
    },
    "kernelspec": {
      "name": "python3",
      "display_name": "Python 3"
    }
  },
  "cells": [
    {
      "cell_type": "markdown",
      "metadata": {
        "id": "htDHburyBuEe",
        "colab_type": "text"
      },
      "source": [
        "# Preliminary Analysis of CoronaVirus Time Series Data\n",
        "In this notebook we will conduct some preliminary analysis and forecasting on the Coronavirus time seires data. For this analysis we will look at \n",
        "\n",
        "**Warning this is a basic analysis/machine learning model. The goal of this notebook is to gage the utility of data augmentation/transfer learning for virus forecasting. NOT provide actionable insights. It would additional rounds of training/validation + verification by epidemiologists and public health experts before I would be confident relying on using it for any actionable insights**"
      ]
    },
    {
      "cell_type": "code",
      "metadata": {
        "id": "CA1NxnWmHOAQ",
        "colab_type": "code",
        "outputId": "4291d38b-5714-4dab-cf45-974c08a135b1",
        "colab": {
          "base_uri": "https://localhost:8080/",
          "height": 1000
        }
      },
      "source": [
        "#!git clone https://github.com/CoronaWhy/task-geo.git\n",
        "#os.chdir('task-geo')\n",
        "#make install\n",
        "import pandas as pd\n",
        "!wget -O coronavirus_timeseries.csv https://coronadatascraper.com/timeseries.csv\n",
        "!pip install wandb\n",
        "!wandb login\n",
        "import wandb\n",
        "from tensorflow import keras\n",
        "from wandb.keras import WandbCallback"
      ],
      "execution_count": 0,
      "outputs": [
        {
          "output_type": "stream",
          "text": [
            "--2020-04-24 17:46:16--  https://coronadatascraper.com/timeseries.csv\n",
            "Resolving coronadatascraper.com (coronadatascraper.com)... 185.199.108.153, 185.199.111.153, 185.199.110.153\n",
            "Connecting to coronadatascraper.com (coronadatascraper.com)|185.199.108.153|:443... connected.\n",
            "HTTP request sent, awaiting response... 200 OK\n",
            "Length: 32493061 (31M) [text/csv]\n",
            "Saving to: ‘coronavirus_timeseries.csv’\n",
            "\n",
            "coronavirus_timeser 100%[===================>]  30.99M   137MB/s    in 0.2s    \n",
            "\n",
            "2020-04-24 17:46:17 (137 MB/s) - ‘coronavirus_timeseries.csv’ saved [32493061/32493061]\n",
            "\n",
            "Collecting wandb\n",
            "\u001b[?25l  Downloading https://files.pythonhosted.org/packages/68/dd/ce719d36c4172b56c7579a79fcfd2f731c386b39f258bb186ef17b73fd7d/wandb-0.8.32-py2.py3-none-any.whl (1.4MB)\n",
            "\u001b[K     |████████████████████████████████| 1.4MB 2.8MB/s \n",
            "\u001b[?25hRequirement already satisfied: python-dateutil>=2.6.1 in /usr/local/lib/python3.6/dist-packages (from wandb) (2.8.1)\n",
            "Requirement already satisfied: six>=1.10.0 in /usr/local/lib/python3.6/dist-packages (from wandb) (1.12.0)\n",
            "Collecting gql==0.2.0\n",
            "  Downloading https://files.pythonhosted.org/packages/c4/6f/cf9a3056045518f06184e804bae89390eb706168349daa9dff8ac609962a/gql-0.2.0.tar.gz\n",
            "Collecting subprocess32>=3.5.3\n",
            "\u001b[?25l  Downloading https://files.pythonhosted.org/packages/32/c8/564be4d12629b912ea431f1a50eb8b3b9d00f1a0b1ceff17f266be190007/subprocess32-3.5.4.tar.gz (97kB)\n",
            "\u001b[K     |████████████████████████████████| 102kB 9.6MB/s \n",
            "\u001b[?25hCollecting configparser>=3.8.1\n",
            "  Downloading https://files.pythonhosted.org/packages/4b/6b/01baa293090240cf0562cc5eccb69c6f5006282127f2b846fad011305c79/configparser-5.0.0-py3-none-any.whl\n",
            "Requirement already satisfied: requests>=2.0.0 in /usr/local/lib/python3.6/dist-packages (from wandb) (2.21.0)\n",
            "Requirement already satisfied: PyYAML>=3.10 in /usr/local/lib/python3.6/dist-packages (from wandb) (3.13)\n",
            "Requirement already satisfied: psutil>=5.0.0 in /usr/local/lib/python3.6/dist-packages (from wandb) (5.4.8)\n",
            "Collecting GitPython>=1.0.0\n",
            "\u001b[?25l  Downloading https://files.pythonhosted.org/packages/19/1a/0df85d2bddbca33665d2148173d3281b290ac054b5f50163ea735740ac7b/GitPython-3.1.1-py3-none-any.whl (450kB)\n",
            "\u001b[K     |████████████████████████████████| 460kB 16.7MB/s \n",
            "\u001b[?25hCollecting watchdog>=0.8.3\n",
            "\u001b[?25l  Downloading https://files.pythonhosted.org/packages/73/c3/ed6d992006837e011baca89476a4bbffb0a91602432f73bd4473816c76e2/watchdog-0.10.2.tar.gz (95kB)\n",
            "\u001b[K     |████████████████████████████████| 102kB 9.7MB/s \n",
            "\u001b[?25hCollecting docker-pycreds>=0.4.0\n",
            "  Downloading https://files.pythonhosted.org/packages/f5/e8/f6bd1eee09314e7e6dee49cbe2c5e22314ccdb38db16c9fc72d2fa80d054/docker_pycreds-0.4.0-py2.py3-none-any.whl\n",
            "Requirement already satisfied: Click>=7.0 in /usr/local/lib/python3.6/dist-packages (from wandb) (7.1.1)\n",
            "Collecting sentry-sdk>=0.4.0\n",
            "\u001b[?25l  Downloading https://files.pythonhosted.org/packages/20/7e/19545324e83db4522b885808cd913c3b93ecc0c88b03e037b78c6a417fa8/sentry_sdk-0.14.3-py2.py3-none-any.whl (103kB)\n",
            "\u001b[K     |████████████████████████████████| 112kB 15.3MB/s \n",
            "\u001b[?25hRequirement already satisfied: nvidia-ml-py3>=7.352.0 in /usr/local/lib/python3.6/dist-packages (from wandb) (7.352.0)\n",
            "Collecting shortuuid>=0.5.0\n",
            "  Downloading https://files.pythonhosted.org/packages/25/a6/2ecc1daa6a304e7f1b216f0896b26156b78e7c38e1211e9b798b4716c53d/shortuuid-1.0.1-py3-none-any.whl\n",
            "Collecting graphql-core<2,>=0.5.0\n",
            "\u001b[?25l  Downloading https://files.pythonhosted.org/packages/b0/89/00ad5e07524d8c523b14d70c685e0299a8b0de6d0727e368c41b89b7ed0b/graphql-core-1.1.tar.gz (70kB)\n",
            "\u001b[K     |████████████████████████████████| 71kB 7.8MB/s \n",
            "\u001b[?25hRequirement already satisfied: promise<3,>=2.0 in /usr/local/lib/python3.6/dist-packages (from gql==0.2.0->wandb) (2.3)\n",
            "Requirement already satisfied: certifi>=2017.4.17 in /usr/local/lib/python3.6/dist-packages (from requests>=2.0.0->wandb) (2020.4.5.1)\n",
            "Requirement already satisfied: urllib3<1.25,>=1.21.1 in /usr/local/lib/python3.6/dist-packages (from requests>=2.0.0->wandb) (1.24.3)\n",
            "Requirement already satisfied: idna<2.9,>=2.5 in /usr/local/lib/python3.6/dist-packages (from requests>=2.0.0->wandb) (2.8)\n",
            "Requirement already satisfied: chardet<3.1.0,>=3.0.2 in /usr/local/lib/python3.6/dist-packages (from requests>=2.0.0->wandb) (3.0.4)\n",
            "Collecting gitdb<5,>=4.0.1\n",
            "\u001b[?25l  Downloading https://files.pythonhosted.org/packages/74/52/ca35448b56c53a079d3ffe18b1978c6e424f6d4df02404877094c89f5bfb/gitdb-4.0.4-py3-none-any.whl (63kB)\n",
            "\u001b[K     |████████████████████████████████| 71kB 8.0MB/s \n",
            "\u001b[?25hCollecting pathtools>=0.1.1\n",
            "  Downloading https://files.pythonhosted.org/packages/e7/7f/470d6fcdf23f9f3518f6b0b76be9df16dcc8630ad409947f8be2eb0ed13a/pathtools-0.1.2.tar.gz\n",
            "Collecting smmap<4,>=3.0.1\n",
            "  Downloading https://files.pythonhosted.org/packages/27/b1/e379cfb7c07bbf8faee29c4a1a2469dbea525f047c2b454c4afdefa20a30/smmap-3.0.2-py2.py3-none-any.whl\n",
            "Building wheels for collected packages: gql, subprocess32, watchdog, graphql-core, pathtools\n",
            "  Building wheel for gql (setup.py) ... \u001b[?25l\u001b[?25hdone\n",
            "  Created wheel for gql: filename=gql-0.2.0-cp36-none-any.whl size=7630 sha256=d66115402f11801f780d839c97746fa4beface50e60a8eec9c05928422e8feaa\n",
            "  Stored in directory: /root/.cache/pip/wheels/ce/0e/7b/58a8a5268655b3ad74feef5aa97946f0addafb3cbb6bd2da23\n",
            "  Building wheel for subprocess32 (setup.py) ... \u001b[?25l\u001b[?25hdone\n",
            "  Created wheel for subprocess32: filename=subprocess32-3.5.4-cp36-none-any.whl size=6489 sha256=928fee8f67d9f86a57cd5e0d30f69e0e21f9dbb0c466f129309ee8ee4c0a3a04\n",
            "  Stored in directory: /root/.cache/pip/wheels/68/39/1a/5e402bdfdf004af1786c8b853fd92f8c4a04f22aad179654d1\n",
            "  Building wheel for watchdog (setup.py) ... \u001b[?25l\u001b[?25hdone\n",
            "  Created wheel for watchdog: filename=watchdog-0.10.2-cp36-none-any.whl size=73605 sha256=07a26eca64da72431b9128e1869e8b8fd12af3211422307662ad2cf9db95a120\n",
            "  Stored in directory: /root/.cache/pip/wheels/bc/ed/6c/028dea90d31b359cd2a7c8b0da4db80e41d24a59614154072e\n",
            "  Building wheel for graphql-core (setup.py) ... \u001b[?25l\u001b[?25hdone\n",
            "  Created wheel for graphql-core: filename=graphql_core-1.1-cp36-none-any.whl size=104650 sha256=f6a6cd4407d0055adaf85b47f52335837ae7ed6ddc321f5da38f83f5b170ca76\n",
            "  Stored in directory: /root/.cache/pip/wheels/45/99/d7/c424029bb0fe910c63b68dbf2aa20d3283d023042521bcd7d5\n",
            "  Building wheel for pathtools (setup.py) ... \u001b[?25l\u001b[?25hdone\n",
            "  Created wheel for pathtools: filename=pathtools-0.1.2-cp36-none-any.whl size=8784 sha256=c1e54aa5754100b8050755e44353546a33d93684803a0ab54d7307ee58f20414\n",
            "  Stored in directory: /root/.cache/pip/wheels/0b/04/79/c3b0c3a0266a3cb4376da31e5bfe8bba0c489246968a68e843\n",
            "Successfully built gql subprocess32 watchdog graphql-core pathtools\n",
            "Installing collected packages: graphql-core, gql, subprocess32, configparser, smmap, gitdb, GitPython, pathtools, watchdog, docker-pycreds, sentry-sdk, shortuuid, wandb\n",
            "Successfully installed GitPython-3.1.1 configparser-5.0.0 docker-pycreds-0.4.0 gitdb-4.0.4 gql-0.2.0 graphql-core-1.1 pathtools-0.1.2 sentry-sdk-0.14.3 shortuuid-1.0.1 smmap-3.0.2 subprocess32-3.5.4 wandb-0.8.32 watchdog-0.10.2\n",
            "\u001b[34m\u001b[1mwandb\u001b[0m: You can find your API key in your browser here: https://app.wandb.ai/authorize\n",
            "\u001b[34m\u001b[1mwandb\u001b[0m: Paste an API key from your profile and hit enter: 4c616b51e6e88012c20dc6adcf90d05172185490\n",
            "\u001b[34m\u001b[1mwandb\u001b[0m: Appending key for api.wandb.ai to your netrc file: /root/.netrc\n",
            "\u001b[32mSuccessfully logged in to Weights & Biases!\u001b[0m\n"
          ],
          "name": "stdout"
        }
      ]
    },
    {
      "cell_type": "code",
      "metadata": {
        "id": "WmOWKLuxHT7j",
        "colab_type": "code",
        "outputId": "0c57c931-b1d3-40c2-e36f-822b7cc28c66",
        "colab": {
          "base_uri": "https://localhost:8080/",
          "height": 71
        }
      },
      "source": [
        "df = pd.read_csv(\"coronavirus_timeseries.csv\")"
      ],
      "execution_count": 0,
      "outputs": [
        {
          "output_type": "stream",
          "text": [
            "/usr/local/lib/python3.6/dist-packages/IPython/core/interactiveshell.py:2718: DtypeWarning: Columns (2) have mixed types.Specify dtype option on import or set low_memory=False.\n",
            "  interactivity=interactivity, compiler=compiler, result=result)\n"
          ],
          "name": "stderr"
        }
      ]
    },
    {
      "cell_type": "code",
      "metadata": {
        "id": "WiJyk9YiHaOX",
        "colab_type": "code",
        "outputId": "a2ea2e3c-0352-4287-91b6-6d4807f9ece3",
        "colab": {
          "base_uri": "https://localhost:8080/",
          "height": 54
        }
      },
      "source": [
        "antwerp_df = df[df['county']=='Antwerp'].fillna(0)\n",
        "antwerp_relevant = antwerp_df[['cases', 'deaths', 'recovered', 'population', 'lat', 'long']].values\n",
        "#antwerp_df.tail()\n",
        "print(len(antwerp_df))"
      ],
      "execution_count": 0,
      "outputs": [
        {
          "output_type": "stream",
          "text": [
            "93\n"
          ],
          "name": "stdout"
        }
      ]
    },
    {
      "cell_type": "markdown",
      "metadata": {
        "id": "KlVWneL_CV3r",
        "colab_type": "text"
      },
      "source": [
        "## Data Augmentation"
      ]
    },
    {
      "cell_type": "code",
      "metadata": {
        "id": "l1J98G13HbKM",
        "colab_type": "code",
        "outputId": "19976f19-8915-4353-aa13-a192fffa6e1b",
        "colab": {
          "base_uri": "https://localhost:8080/",
          "height": 137
        }
      },
      "source": [
        "!pip install tsaug"
      ],
      "execution_count": 0,
      "outputs": [
        {
          "output_type": "stream",
          "text": [
            "Collecting tsaug\n",
            "  Downloading https://files.pythonhosted.org/packages/e8/6e/8b1be145a32bba360c14322c3b87ad93d6227c46528d482c84eefe54094b/tsaug-0.2.1-py3-none-any.whl\n",
            "Requirement already satisfied: scipy>=1.1 in /usr/local/lib/python3.6/dist-packages (from tsaug) (1.4.1)\n",
            "Requirement already satisfied: numpy>=1.14 in /usr/local/lib/python3.6/dist-packages (from tsaug) (1.18.2)\n",
            "Installing collected packages: tsaug\n",
            "Successfully installed tsaug-0.2.1\n"
          ],
          "name": "stdout"
        }
      ]
    },
    {
      "cell_type": "code",
      "metadata": {
        "id": "aXNkSdTFvZ1g",
        "colab_type": "code",
        "colab": {}
      },
      "source": [
        "from tsaug.visualization import plot \n",
        "from tsaug import TimeWarp, Crop, Quantize, Drift, Reverse\n",
        "my_augmenter = (TimeWarp() * 5, # random time warping 5 times in parallel \n",
        "                Crop(size=300),  # random crop subsequences with length 300\n",
        "                Quantize(n_levels=[10, 20, 30]),  # random quantize to 10-, 20-, or 30- level sets\n",
        "                Drift(max_drift=(0.1, 0.5)),   # with 80% probability, random drift the signal up to 10% - 50%\n",
        "                Reverse()) #0.5  # with 50% probability, reverse the sequence)"
      ],
      "execution_count": 0,
      "outputs": []
    },
    {
      "cell_type": "code",
      "metadata": {
        "id": "VdVWNhk2XRJw",
        "colab_type": "code",
        "outputId": "7c0a4033-7594-4314-db3e-b66f4ea08b1b",
        "colab": {
          "base_uri": "https://localhost:8080/",
          "height": 264
        }
      },
      "source": [
        "#X_aug = my_augmenter[0].augment(antwerp_relevant)\n",
        "print(antwerp_relevant.shape)\n",
        "X_aug = TimeWarp(antwerp[:70])"
      ],
      "execution_count": 0,
      "outputs": [
        {
          "output_type": "stream",
          "text": [
            "(92, 6)\n"
          ],
          "name": "stdout"
        },
        {
          "output_type": "error",
          "ename": "NameError",
          "evalue": "ignored",
          "traceback": [
            "\u001b[0;31m---------------------------------------------------------------------------\u001b[0m",
            "\u001b[0;31mNameError\u001b[0m                                 Traceback (most recent call last)",
            "\u001b[0;32m<ipython-input-27-302ff8f07bec>\u001b[0m in \u001b[0;36m<module>\u001b[0;34m()\u001b[0m\n\u001b[1;32m      1\u001b[0m \u001b[0mprint\u001b[0m\u001b[0;34m(\u001b[0m\u001b[0mantwerp_relevant\u001b[0m\u001b[0;34m.\u001b[0m\u001b[0mshape\u001b[0m\u001b[0;34m)\u001b[0m\u001b[0;34m\u001b[0m\u001b[0;34m\u001b[0m\u001b[0m\n\u001b[0;32m----> 2\u001b[0;31m \u001b[0mX_aug\u001b[0m\u001b[0;34m.\u001b[0m\u001b[0mshape\u001b[0m\u001b[0;34m\u001b[0m\u001b[0;34m\u001b[0m\u001b[0m\n\u001b[0m\u001b[1;32m      3\u001b[0m \u001b[0mb\u001b[0m \u001b[0;34m=\u001b[0m \u001b[0ma\u001b[0m\u001b[0;34m\u001b[0m\u001b[0;34m\u001b[0m\u001b[0m\n\u001b[1;32m      4\u001b[0m \u001b[0ms\u001b[0m \u001b[0;34m=\u001b[0m \u001b[0ma\u001b[0m\u001b[0;34m.\u001b[0m\u001b[0mfit_transform\u001b[0m\u001b[0;34m(\u001b[0m\u001b[0mantwerp_df\u001b[0m\u001b[0;34m[\u001b[0m\u001b[0;34m[\u001b[0m\u001b[0;34m'cases'\u001b[0m\u001b[0;34m,\u001b[0m \u001b[0;34m'deaths'\u001b[0m\u001b[0;34m,\u001b[0m \u001b[0;34m'recovered'\u001b[0m\u001b[0;34m,\u001b[0m \u001b[0;34m'population'\u001b[0m\u001b[0;34m,\u001b[0m \u001b[0;34m'lat'\u001b[0m\u001b[0;34m,\u001b[0m \u001b[0;34m'long'\u001b[0m\u001b[0;34m]\u001b[0m\u001b[0;34m]\u001b[0m\u001b[0;34m)\u001b[0m\u001b[0;34m\u001b[0m\u001b[0;34m\u001b[0m\u001b[0m\n\u001b[1;32m      5\u001b[0m \u001b[0mresult\u001b[0m \u001b[0;34m=\u001b[0m \u001b[0mb\u001b[0m\u001b[0;34m.\u001b[0m\u001b[0mfit_transform\u001b[0m\u001b[0;34m(\u001b[0m\u001b[0mantwerp_df\u001b[0m\u001b[0;34m[\u001b[0m\u001b[0;34m[\u001b[0m\u001b[0;34m'cases'\u001b[0m\u001b[0;34m,\u001b[0m \u001b[0;34m'deaths'\u001b[0m\u001b[0;34m,\u001b[0m \u001b[0;34m'recovered'\u001b[0m\u001b[0;34m,\u001b[0m \u001b[0;34m'population'\u001b[0m\u001b[0;34m,\u001b[0m \u001b[0;34m'lat'\u001b[0m\u001b[0;34m,\u001b[0m \u001b[0;34m'long'\u001b[0m\u001b[0;34m]\u001b[0m\u001b[0;34m]\u001b[0m\u001b[0;34m[\u001b[0m\u001b[0;34m:\u001b[0m\u001b[0;34m-\u001b[0m\u001b[0;36m20\u001b[0m\u001b[0;34m]\u001b[0m\u001b[0;34m)\u001b[0m\u001b[0;34m\u001b[0m\u001b[0;34m\u001b[0m\u001b[0m\n",
            "\u001b[0;31mNameError\u001b[0m: name 'X_aug' is not defined"
          ]
        }
      ]
    },
    {
      "cell_type": "markdown",
      "metadata": {
        "id": "-A6ICggnYBlX",
        "colab_type": "text"
      },
      "source": [
        "## Models and Forecasting\n",
        "We will now define some simple models in Keras for forecasting."
      ]
    },
    {
      "cell_type": "code",
      "metadata": {
        "id": "VO7ZOB41az1W",
        "colab_type": "code",
        "colab": {}
      },
      "source": [
        "import numpy as np\n",
        "from sklearn.preprocessing import RobustScaler\n",
        "config = {\"epochs\":30, \"batch_size\":2, \"validation_split\":0.1, \n",
        "          \"loss\":\"mean_squared_error\", \"optimizer\":'adam', \n",
        "          \"geo_segment\":\"antwerp\", \"seq_len\":7, \"train_steps\":70, \n",
        "          \"test_steps\":27, \"scaler\":\"RobustScaler\", \"learn\":0.001,\n",
        "          \"beta\":0.899}\n",
        "r = RobustScaler()\n",
        "x_train_full = antwerp_df[['deaths', 'cases']][:config[\"train_steps\"]]\n",
        "x_train_full = pd.DataFrame(r.fit_transform(x_train_full))\n",
        "y_train_full = x_train_full\n",
        "r_test = RobustScaler()\n",
        "test_orig = antwerp_df[['deaths', 'cases']][70:]\n",
        "test = pd.DataFrame(r_test.fit_transform(test_orig))"
      ],
      "execution_count": 0,
      "outputs": []
    },
    {
      "cell_type": "code",
      "metadata": {
        "id": "eUR6eM4MZZJJ",
        "colab_type": "code",
        "colab": {}
      },
      "source": [
        "def create_dataset(X, y, time_steps=1):\n",
        "    Xs, ys = [], []\n",
        "    for i in range(len(X) - time_steps):\n",
        "        v = X.iloc[i:(i + time_steps)].values\n",
        "        Xs.append(v)\n",
        "        ys.append(y.iloc[i + time_steps])\n",
        "    return np.array(Xs), np.array(ys)\n",
        "\n",
        "X_train, Y_train = create_dataset(x_train_full, y_train_full, config[\"seq_len\"])\n",
        "X_test, y_test = create_dataset(test, test, config[\"seq_len\"])"
      ],
      "execution_count": 0,
      "outputs": []
    },
    {
      "cell_type": "code",
      "metadata": {
        "id": "-OOG9RAp4-ap",
        "colab_type": "code",
        "colab": {}
      },
      "source": [
        "sweep_config = {\n",
        "  \"name\": \"Default sweep\",\n",
        "  \"method\": \"grid\",\n",
        "  \"parameters\": {\n",
        "        \"batch_size\": {\n",
        "            \"values\": [2, 3, 4, 5]\n",
        "        },\n",
        "        \"optimizer\": {\n",
        "            \"values\": ['adam', 'sgd']\n",
        "        } \n",
        "        \n",
        "    }\n",
        "}"
      ],
      "execution_count": 0,
      "outputs": []
    },
    {
      "cell_type": "code",
      "metadata": {
        "id": "nXhSxkqdYJbd",
        "colab_type": "code",
        "outputId": "77c95c11-f802-4fb8-eea4-66859e067084",
        "colab": {
          "base_uri": "https://localhost:8080/",
          "height": 1000
        }
      },
      "source": [
        "keras.optimizers.Adam(learning_rate=config[\"learn\"], beta_1=config[\"beta\"], beta_2=0.999, amsgrad=False)\n",
        "wandb.init(project=\"covid-forecast\", config=config)\n",
        "model = keras.Sequential()\n",
        "model.add(\n",
        "  keras.layers.Bidirectional(\n",
        "    keras.layers.LSTM(\n",
        "      units=128,\n",
        "      input_shape=(X_train.shape[1], X_train.shape[2])\n",
        "    )\n",
        "  )\n",
        ")\n",
        "model.add(keras.layers.Dropout(rate=0.2))\n",
        "model.add(keras.layers.Dense(units=2))\n",
        "model.compile(loss=config[\"loss\"], optimizer=opt)\n",
        "\n",
        "history = model.fit(\n",
        "    X_train, Y_train,\n",
        "    epochs=config[\"epochs\"],\n",
        "    batch_size=config[\"batch_size\"],\n",
        "    validation_split=config[\"validation_split\"],\n",
        "    callbacks=[WandbCallback()],\n",
        "    shuffle=False\n",
        ")"
      ],
      "execution_count": 0,
      "outputs": [
        {
          "output_type": "display_data",
          "data": {
            "text/html": [
              "\n",
              "                Logging results to <a href=\"https://wandb.com\" target=\"_blank\">Weights & Biases</a> <a href=\"https://docs.wandb.com/integrations/jupyter.html\" target=\"_blank\">(Documentation)</a>.<br/>\n",
              "                Project page: <a href=\"https://app.wandb.ai/igodfried/covid-forecast\" target=\"_blank\">https://app.wandb.ai/igodfried/covid-forecast</a><br/>\n",
              "                Run page: <a href=\"https://app.wandb.ai/igodfried/covid-forecast/runs/1zjg2lvz\" target=\"_blank\">https://app.wandb.ai/igodfried/covid-forecast/runs/1zjg2lvz</a><br/>\n",
              "            "
            ],
            "text/plain": [
              "<IPython.core.display.HTML object>"
            ]
          },
          "metadata": {
            "tags": []
          }
        },
        {
          "output_type": "stream",
          "text": [
            "Epoch 1/30\n",
            "WARNING:tensorflow:Layer bidirectional_1 is casting an input tensor from dtype float64 to the layer's dtype of float32, which is new behavior in TensorFlow 2.  The layer has dtype float32 because it's dtype defaults to floatx.\n",
            "\n",
            "If you intended to run this layer in float32, you can safely ignore this warning. If in doubt, this warning is likely only an issue if you are porting a TensorFlow 1.X model to TensorFlow 2.\n",
            "\n",
            "To change all layers to have dtype float64 by default, call `tf.keras.backend.set_floatx('float64')`. To change just this layer, pass dtype='float64' to the layer constructor. If you are the author of this layer, you can disable autocasting by passing autocast=False to the base Layer constructor.\n",
            "\n",
            "28/28 [==============================] - 1s 33ms/step - loss: 0.0300 - val_loss: 3.9183\n",
            "Epoch 2/30\n",
            "28/28 [==============================] - 0s 7ms/step - loss: 0.1042 - val_loss: 4.1326\n",
            "Epoch 3/30\n",
            "28/28 [==============================] - 0s 8ms/step - loss: 0.0922 - val_loss: 2.5156\n",
            "Epoch 4/30\n",
            "28/28 [==============================] - 0s 8ms/step - loss: 0.0873 - val_loss: 6.0315\n",
            "Epoch 5/30\n",
            "28/28 [==============================] - 0s 7ms/step - loss: 0.0383 - val_loss: 3.5310\n",
            "Epoch 6/30\n",
            "28/28 [==============================] - 0s 7ms/step - loss: 0.2808 - val_loss: 9.7683\n",
            "Epoch 7/30\n",
            "28/28 [==============================] - 0s 7ms/step - loss: 0.1081 - val_loss: 4.1054\n",
            "Epoch 8/30\n",
            "28/28 [==============================] - 0s 7ms/step - loss: 0.0938 - val_loss: 3.1143\n",
            "Epoch 9/30\n",
            "28/28 [==============================] - 0s 7ms/step - loss: 0.5815 - val_loss: 20.6221\n",
            "Epoch 10/30\n",
            "28/28 [==============================] - 0s 7ms/step - loss: 0.0393 - val_loss: 5.6694\n",
            "Epoch 11/30\n",
            "28/28 [==============================] - 0s 7ms/step - loss: 0.0223 - val_loss: 4.2382\n",
            "Epoch 12/30\n",
            "28/28 [==============================] - 0s 7ms/step - loss: 0.0469 - val_loss: 4.3116\n",
            "Epoch 13/30\n",
            "28/28 [==============================] - 0s 8ms/step - loss: 0.0513 - val_loss: 4.3114\n",
            "Epoch 14/30\n",
            "28/28 [==============================] - 0s 7ms/step - loss: 0.0817 - val_loss: 2.9830\n",
            "Epoch 15/30\n",
            "28/28 [==============================] - 0s 9ms/step - loss: 0.2644 - val_loss: 12.9593\n",
            "Epoch 16/30\n",
            "28/28 [==============================] - 0s 7ms/step - loss: 0.0688 - val_loss: 5.1096\n",
            "Epoch 17/30\n",
            "28/28 [==============================] - 0s 7ms/step - loss: 0.0536 - val_loss: 2.8478\n",
            "Epoch 18/30\n",
            "28/28 [==============================] - 0s 7ms/step - loss: 0.1108 - val_loss: 8.6673\n",
            "Epoch 19/30\n",
            "28/28 [==============================] - 0s 7ms/step - loss: 0.0272 - val_loss: 4.0270\n",
            "Epoch 20/30\n",
            "28/28 [==============================] - 0s 8ms/step - loss: 0.0098 - val_loss: 3.1553\n",
            "Epoch 21/30\n",
            "28/28 [==============================] - 0s 8ms/step - loss: 0.0043 - val_loss: 2.9878\n",
            "Epoch 22/30\n",
            "28/28 [==============================] - 0s 7ms/step - loss: 0.0126 - val_loss: 3.0809\n",
            "Epoch 23/30\n",
            "28/28 [==============================] - 0s 9ms/step - loss: 0.0089 - val_loss: 2.4281\n",
            "Epoch 24/30\n",
            "28/28 [==============================] - 0s 10ms/step - loss: 0.0136 - val_loss: 2.2376\n",
            "Epoch 25/30\n",
            "28/28 [==============================] - 0s 8ms/step - loss: 0.0124 - val_loss: 2.5240\n",
            "Epoch 26/30\n",
            "28/28 [==============================] - 0s 9ms/step - loss: 0.0148 - val_loss: 1.8299\n",
            "Epoch 27/30\n",
            "28/28 [==============================] - 0s 8ms/step - loss: 0.0234 - val_loss: 2.8881\n",
            "Epoch 28/30\n",
            "28/28 [==============================] - 0s 9ms/step - loss: 0.0225 - val_loss: 1.5189\n",
            "Epoch 29/30\n",
            "28/28 [==============================] - 0s 8ms/step - loss: 0.0524 - val_loss: 3.7331\n",
            "Epoch 30/30\n",
            "28/28 [==============================] - 0s 7ms/step - loss: 0.0321 - val_loss: 1.6252\n"
          ],
          "name": "stdout"
        }
      ]
    },
    {
      "cell_type": "code",
      "metadata": {
        "id": "tR_vweL-bOD1",
        "colab_type": "code",
        "outputId": "955cfdd4-809d-4d79-fb8c-48ad4b5f0ec7",
        "colab": {
          "base_uri": "https://localhost:8080/",
          "height": 286
        }
      },
      "source": [
        "import matplotlib.pyplot as plt\n",
        "%matplotlib inline\n",
        "%config InlineBackend.figure_format='retina'\n",
        "plt.plot(history.history['loss'], label='train')\n",
        "plt.plot(history.history['val_loss'], label='test')\n",
        "plt.legend();"
      ],
      "execution_count": 0,
      "outputs": [
        {
          "output_type": "display_data",
          "data": {
            "image/png": "[encoded data removed]",
            "text/plain": [
              "<Figure size 432x288 with 1 Axes>"
            ]
          },
          "metadata": {
            "tags": [],
            "image/png": {
              "width": 370,
              "height": 248
            },
            "needs_background": "light"
          }
        }
      ]
    },
    {
      "cell_type": "code",
      "metadata": {
        "id": "F5zjK1JYf52W",
        "colab_type": "code",
        "outputId": "eb78d8bc-80f9-4d71-d116-c431b80f0d16",
        "colab": {
          "base_uri": "https://localhost:8080/",
          "height": 286
        }
      },
      "source": [
        "res = model.predict(X_test)\n",
        "res = r_test.inverse_transform(res)\n",
        "res"
      ],
      "execution_count": 0,
      "outputs": [
        {
          "output_type": "execute_result",
          "data": {
            "text/plain": [
              "array([[-7.96948001e-03,  2.02549146e+03],\n",
              "       [ 5.86435199e-04,  2.32205566e+03],\n",
              "       [ 2.01542862e-03,  2.65479150e+03],\n",
              "       [ 8.54831189e-03,  3.03003418e+03],\n",
              "       [ 1.50926420e-02,  3.32503687e+03],\n",
              "       [ 8.37528333e-03,  3.55065479e+03],\n",
              "       [ 4.91153635e-03,  3.76604126e+03],\n",
              "       [ 7.06337765e-03,  4.05397363e+03],\n",
              "       [ 9.66820586e-03,  4.38387646e+03],\n",
              "       [ 1.04130218e-02,  4.70378662e+03],\n",
              "       [ 1.11525245e-02,  4.93357764e+03],\n",
              "       [ 7.51665328e-03,  5.09624170e+03],\n",
              "       [ 4.37097438e-03,  5.23457275e+03],\n",
              "       [ 3.23650427e-03,  5.40005029e+03],\n",
              "       [ 3.86669114e-03,  5.54014941e+03]], dtype=float32)"
            ]
          },
          "metadata": {
            "tags": []
          },
          "execution_count": 18
        }
      ]
    },
    {
      "cell_type": "code",
      "metadata": {
        "id": "Z_9dG21n1bJC",
        "colab_type": "code",
        "outputId": "713bc723-89fd-40c9-fad8-e619998f1114",
        "colab": {
          "base_uri": "https://localhost:8080/",
          "height": 319
        }
      },
      "source": [
        "r_test.inverse_transform(y_test)"
      ],
      "execution_count": 0,
      "outputs": [
        {
          "output_type": "execute_result",
          "data": {
            "text/plain": [
              "array([[   0., 3128.],\n",
              "       [   0., 3307.],\n",
              "       [   0., 3521.],\n",
              "       [   0., 3822.],\n",
              "       [   0., 4086.],\n",
              "       [   0., 4179.],\n",
              "       [   0., 4265.],\n",
              "       [   0., 4330.],\n",
              "       [   0., 4470.],\n",
              "       [   0., 4645.],\n",
              "       [   0., 4855.],\n",
              "       [   0., 4965.],\n",
              "       [   0., 5026.],\n",
              "       [   0., 5062.],\n",
              "       [   0., 5114.],\n",
              "       [   0., 5114.],\n",
              "       [   0., 5114.]])"
            ]
          },
          "metadata": {
            "tags": []
          },
          "execution_count": 169
        }
      ]
    },
    {
      "cell_type": "code",
      "metadata": {
        "id": "JVKR-Hw_1lQ8",
        "colab_type": "code",
        "outputId": "8ad8b939-43db-458c-dbf8-3c9ebed78823",
        "colab": {
          "base_uri": "https://localhost:8080/",
          "height": 368
        }
      },
      "source": [
        "def predict_multi(model, time_steps, start_rows):\n",
        "  start_rows=np.expand_dims(start_rows, axis=0)\n",
        "  for i in range(0, time_steps):\n",
        "    out = model.predict(start_rows[:, i:, :])\n",
        "    out = out[np.newaxis, ...]\n",
        "    start_rows = np.concatenate((start_rows, out), axis=1)\n",
        "  return start_rows[:, config[\"seq_len\"]:, :]\n",
        "\n",
        "arr = predict_multi(model, len(test)-config[\"seq_len\"], X_test[0, :, :])\n",
        "test_orig['predicted_cases'] = 0\n",
        "test_orig['predicted_cases'][config[\"seq_len\"]:] = r_test.inverse_transform(arr.squeeze(0))[:, 1]\n",
        "plt.plot(test_orig['predicted_cases'], label='predicted_cases')\n",
        "plt.plot(test_orig['cases'], label='actual_cases')\n",
        "\n",
        "plt.legend();\n",
        "wandb.log({\"test\":plt})\n"
      ],
      "execution_count": 0,
      "outputs": [
        {
          "output_type": "stream",
          "text": [
            "/usr/local/lib/python3.6/dist-packages/ipykernel_launcher.py:11: SettingWithCopyWarning:\n",
            "\n",
            "\n",
            "A value is trying to be set on a copy of a slice from a DataFrame\n",
            "\n",
            "See the caveats in the documentation: https://pandas.pydata.org/pandas-docs/stable/user_guide/indexing.html#returning-a-view-versus-a-copy\n",
            "\n",
            "/usr/local/lib/python3.6/dist-packages/plotly/matplotlylib/mpltools.py:368: MatplotlibDeprecationWarning:\n",
            "\n",
            "\n",
            "The is_frame_like function was deprecated in Matplotlib 3.1 and will be removed in 3.3.\n",
            "\n",
            "/usr/local/lib/python3.6/dist-packages/plotly/matplotlylib/renderer.py:410: UserWarning:\n",
            "\n",
            "Bummer! Plotly can currently only draw Line2D objects from matplotlib that are in 'data' coordinates!\n",
            "\n",
            "/usr/local/lib/python3.6/dist-packages/plotly/matplotlylib/renderer.py:512: UserWarning:\n",
            "\n",
            "I found a path object that I don't think is part of a bar chart. Ignoring.\n",
            "\n"
          ],
          "name": "stderr"
        }
      ]
    },
    {
      "cell_type": "code",
      "metadata": {
        "id": "aoIE9nyy3gVB",
        "colab_type": "code",
        "outputId": "33fd1187-a938-4f21-ac38-842f1b215814",
        "colab": {
          "base_uri": "https://localhost:8080/",
          "height": 153
        }
      },
      "source": [
        "r_test.inverse_transform(X_test[0, :, :])"
      ],
      "execution_count": 0,
      "outputs": [
        {
          "output_type": "execute_result",
          "data": {
            "text/plain": [
              "array([[   0., 2342.],\n",
              "       [   0., 2508.],\n",
              "       [   0., 2694.],\n",
              "       [   0., 2802.],\n",
              "       [   0., 2881.],\n",
              "       [   0., 3128.],\n",
              "       [   0., 3307.]])"
            ]
          },
          "metadata": {
            "tags": []
          },
          "execution_count": 22
        }
      ]
    },
    {
      "cell_type": "code",
      "metadata": {
        "id": "nW4Nwm9yWPia",
        "colab_type": "code",
        "outputId": "4250b760-6d4f-4c0a-f801-26bc5da5ca49",
        "colab": {
          "base_uri": "https://localhost:8080/",
          "height": 286
        }
      },
      "source": [
        "r_test.inverse_transform(arr.squeeze(0))"
      ],
      "execution_count": 0,
      "outputs": [
        {
          "output_type": "execute_result",
          "data": {
            "text/plain": [
              "array([[-4.13422175e-02,  1.91087036e+03],\n",
              "       [-4.59987931e-02,  1.85291490e+03],\n",
              "       [-6.12451881e-02,  1.64370515e+03],\n",
              "       [-7.92302415e-02,  1.33653826e+03],\n",
              "       [-9.91377309e-02,  9.50959915e+02],\n",
              "       [-1.20988108e-01,  4.97029605e+02],\n",
              "       [-1.39787778e-01,  6.69228840e+00],\n",
              "       [-1.47535920e-01, -4.46410408e+02],\n",
              "       [-1.70391276e-01, -8.55220837e+02],\n",
              "       [-1.93069339e-01, -1.27704546e+03],\n",
              "       [-2.14976028e-01, -1.68135934e+03],\n",
              "       [-2.35641852e-01, -2.05054025e+03],\n",
              "       [-2.54642695e-01, -2.37425247e+03],\n",
              "       [-2.71867216e-01, -2.64952721e+03],\n",
              "       [-2.87466675e-01, -2.87984826e+03]])"
            ]
          },
          "metadata": {
            "tags": []
          },
          "execution_count": 23
        }
      ]
    },
    {
      "cell_type": "markdown",
      "metadata": {
        "id": "bkob-4bnYdeT",
        "colab_type": "text"
      },
      "source": [
        "### PyTorch models\n"
      ]
    },
    {
      "cell_type": "code",
      "metadata": {
        "id": "aGXjVazoJ9i3",
        "colab_type": "code",
        "colab": {}
      },
      "source": [
        "import torch\n",
        "import math\n",
        "from torch.nn.modules import Transformer, TransformerEncoder, TransformerDecoder, TransformerDecoderLayer, TransformerEncoderLayer, LayerNorm\n",
        "class CustomTransformerDecoder(torch.nn.Module):\n",
        "    def __init__(self, seq_length, output_seq_length, n_time_series, d_model=128, output_dim=1):\n",
        "        super().__init__()\n",
        "        self.dense_shape = torch.nn.Linear(n_time_series, d_model)\n",
        "        self.pe = SimplePositionalEncoding(d_model)\n",
        "        encoder_layer = TransformerEncoderLayer(d_model, 8)\n",
        "        encoder_norm = LayerNorm(d_model)\n",
        "        self.transformer_enc = TransformerEncoder(encoder_layer, 6, encoder_norm)\n",
        "        self.output_dim_layer = torch.nn.Linear(d_model, output_dim)\n",
        "        self.output_seq_length = output_seq_length\n",
        "        self.out_length_lay  = torch.nn.Linear(seq_length, output_seq_length)\n",
        "        self.mask = generate_square_subsequent_mask(seq_length)\n",
        "    def forward(self, x):\n",
        "        \"\"\"\"\"\"\n",
        "        x = self.dense_shape(x)\n",
        "        x = self.pe(x)\n",
        "        x = x.permute(1,0,2)\n",
        "        x = self.transformer_enc(x, mask=self.mask)\n",
        "        x = self.output_dim_layer(x)\n",
        "        x = x.permute(1, 2, 0)\n",
        "        x = self.out_length_lay(x)\n",
        "        return x.view(-1, self.output_seq_length)\n",
        "    \n",
        "class SimplePositionalEncoding(torch.nn.Module):\n",
        "    def __init__(self, d_model, dropout=0.1, max_len=5000):\n",
        "        super(SimplePositionalEncoding, self).__init__()\n",
        "        self.dropout = torch.nn.Dropout(p=dropout)\n",
        "        pe = torch.zeros(max_len, d_model)\n",
        "        position = torch.arange(0, max_len, dtype=torch.float).unsqueeze(1)\n",
        "        div_term = torch.exp(torch.arange(0, d_model, 2).float() * (-math.log(10000.0) / d_model))\n",
        "        pe[:, 0::2] = torch.sin(position * div_term)\n",
        "        pe[:, 1::2] = torch.cos(position * div_term)\n",
        "        pe = pe.unsqueeze(0).transpose(0, 1)\n",
        "        self.register_buffer('pe', pe)\n",
        "\n",
        "    def forward(self, x:torch.Tensor)->torch.Tensor:\n",
        "        \"\"\"Creates a basic positional encoding\"\"\"\n",
        "        x = x + self.pe[:x.size(0), :]\n",
        "        return self.dropout(x)\n",
        "        \n",
        "def generate_square_subsequent_mask(sz:int)->torch.Tensor:\n",
        "        r\"\"\"Generate a square mask for the sequence. The masked positions are filled with float('-inf').\n",
        "            Unmasked positions are filled with float(0.0).\n",
        "        \"\"\"\n",
        "        mask = (torch.triu(torch.ones(sz, sz)) == 1).transpose(0, 1)\n",
        "        mask = mask.float().masked_fill(mask == 0, float('-inf')).masked_fill(mask == 1, float(0.0))\n",
        "        return mask"
      ],
      "execution_count": 0,
      "outputs": []
    },
    {
      "cell_type": "code",
      "metadata": {
        "id": "RK-U7-QhfP5b",
        "colab_type": "code",
        "colab": {}
      },
      "source": [
        "c = CustomTransformerDecoder(50, 1, 3)"
      ],
      "execution_count": 0,
      "outputs": []
    },
    {
      "cell_type": "code",
      "metadata": {
        "id": "VtZbZ55tfe0i",
        "colab_type": "code",
        "outputId": "d1006ad9-6827-4430-8833-36a14fbc6c55",
        "colab": {
          "base_uri": "https://localhost:8080/",
          "height": 71
        }
      },
      "source": [
        "c(torch.rand(2, 50, 3))"
      ],
      "execution_count": 0,
      "outputs": [
        {
          "output_type": "execute_result",
          "data": {
            "text/plain": [
              "tensor([[0.0163],\n",
              "        [0.1018]], grad_fn=<ViewBackward>)"
            ]
          },
          "metadata": {
            "tags": []
          },
          "execution_count": 21
        }
      ]
    },
    {
      "cell_type": "code",
      "metadata": {
        "id": "brfR74F6fqhj",
        "colab_type": "code",
        "colab": {}
      },
      "source": [
        "class LSTMForecast(torch.nn.Module):\n",
        "    \"\"\"\n",
        "    A very simple baseline LSTM model that returns\n",
        "    the fixed value based on the input sequence.\n",
        "    \"\"\"\n",
        "    def __init__(self, seq_length: int, n_time_series: int, output_seq_len=1, hidden_states=20, num_layers=2, bias=True):\n",
        "        super.__init__()\n",
        "        self.forecast_history = seq_length\n",
        "        self.n_time_series = n_time_series\n",
        "        self.lstm = torch.nn.LSTM(n_time_series, hidden_states, num_layers, bias, batch_first=True)\n",
        "        self.final_layer = torch.nn.Linear(seq_length*hidden_states, output_seq_len)\n",
        "\n",
        "    def forward(self, x: torch.Tensor) -> torch.Tensor:\n",
        "        batch_size, seq_len , = x.size()\n",
        "        out_x, hidden_states = self.lstm()\n",
        "        x = self.final_layer(out_x.contiguous().view(batch_size, -1))"
      ],
      "execution_count": 0,
      "outputs": []
    },
    {
      "cell_type": "code",
      "metadata": {
        "id": "uB3yEiCbkp_2",
        "colab_type": "code",
        "outputId": "588310d5-1686-4544-ad4d-b2edd498c63f",
        "colab": {
          "base_uri": "https://localhost:8080/",
          "height": 297
        }
      },
      "source": [
        "LSTMForecast(10, 3)"
      ],
      "execution_count": 0,
      "outputs": [
        {
          "output_type": "error",
          "ename": "TypeError",
          "evalue": "ignored",
          "traceback": [
            "\u001b[0;31m---------------------------------------------------------------------------\u001b[0m",
            "\u001b[0;31mTypeError\u001b[0m                                 Traceback (most recent call last)",
            "\u001b[0;32m<ipython-input-23-64b4bfcf2997>\u001b[0m in \u001b[0;36m<module>\u001b[0;34m()\u001b[0m\n\u001b[0;32m----> 1\u001b[0;31m \u001b[0mLSTMForecast\u001b[0m\u001b[0;34m(\u001b[0m\u001b[0;36m10\u001b[0m\u001b[0;34m,\u001b[0m \u001b[0;36m3\u001b[0m\u001b[0;34m)\u001b[0m\u001b[0;34m\u001b[0m\u001b[0;34m\u001b[0m\u001b[0m\n\u001b[0m",
            "\u001b[0;32m<ipython-input-22-e58f24cad5c7>\u001b[0m in \u001b[0;36m__init__\u001b[0;34m(self, seq_length, n_time_series, output_seq_len, hidden_states, num_layers, bias)\u001b[0m\n\u001b[1;32m      5\u001b[0m     \"\"\"\n\u001b[1;32m      6\u001b[0m     \u001b[0;32mdef\u001b[0m \u001b[0m__init__\u001b[0m\u001b[0;34m(\u001b[0m\u001b[0mself\u001b[0m\u001b[0;34m,\u001b[0m \u001b[0mseq_length\u001b[0m\u001b[0;34m:\u001b[0m \u001b[0mint\u001b[0m\u001b[0;34m,\u001b[0m \u001b[0mn_time_series\u001b[0m\u001b[0;34m:\u001b[0m \u001b[0mint\u001b[0m\u001b[0;34m,\u001b[0m \u001b[0moutput_seq_len\u001b[0m\u001b[0;34m=\u001b[0m\u001b[0;36m1\u001b[0m\u001b[0;34m,\u001b[0m \u001b[0mhidden_states\u001b[0m\u001b[0;34m=\u001b[0m\u001b[0;36m20\u001b[0m\u001b[0;34m,\u001b[0m \u001b[0mnum_layers\u001b[0m\u001b[0;34m=\u001b[0m\u001b[0;36m2\u001b[0m\u001b[0;34m,\u001b[0m \u001b[0mbias\u001b[0m\u001b[0;34m=\u001b[0m\u001b[0;32mTrue\u001b[0m\u001b[0;34m)\u001b[0m\u001b[0;34m:\u001b[0m\u001b[0;34m\u001b[0m\u001b[0;34m\u001b[0m\u001b[0m\n\u001b[0;32m----> 7\u001b[0;31m         \u001b[0msuper\u001b[0m\u001b[0;34m.\u001b[0m\u001b[0m__init__\u001b[0m\u001b[0;34m(\u001b[0m\u001b[0;34m)\u001b[0m\u001b[0;34m\u001b[0m\u001b[0;34m\u001b[0m\u001b[0m\n\u001b[0m\u001b[1;32m      8\u001b[0m         \u001b[0mself\u001b[0m\u001b[0;34m.\u001b[0m\u001b[0mforecast_history\u001b[0m \u001b[0;34m=\u001b[0m \u001b[0mseq_length\u001b[0m\u001b[0;34m\u001b[0m\u001b[0;34m\u001b[0m\u001b[0m\n\u001b[1;32m      9\u001b[0m         \u001b[0mself\u001b[0m\u001b[0;34m.\u001b[0m\u001b[0mn_time_series\u001b[0m \u001b[0;34m=\u001b[0m \u001b[0mn_time_series\u001b[0m\u001b[0;34m\u001b[0m\u001b[0;34m\u001b[0m\u001b[0m\n",
            "\u001b[0;31mTypeError\u001b[0m: descriptor '__init__' of 'super' object needs an argument"
          ]
        }
      ]
    },
    {
      "cell_type": "code",
      "metadata": {
        "id": "7mFCWLbkktra",
        "colab_type": "code",
        "colab": {}
      },
      "source": [
        "class LSTMForecast(torch.nn.Module):\n",
        "  def __init__(self, seq_length: int, n_time_series: int, output_seq_len=1, hidden_states=20, num_layers=2, bias=True):\n",
        "    super().__init__()\n",
        "    self.num_layers = num_layers\n",
        "    self.forecast_history = seq_length\n",
        "    self.n_time_series = n_time_series\n",
        "    self.hidden_dim = hidden_states\n",
        "    self.lstm = torch.nn.LSTM(n_time_series, hidden_states, num_layers, bias, batch_first=True)\n",
        "    self.final_layer = torch.nn.Linear(seq_length*hidden_states, output_seq_len)\n",
        "\n",
        "  def init_hidden(self, batch_size):\n",
        "    # even with batch_first = True this remains same as docs\n",
        "    hidden_state = torch.zeros(self.num_layers,batch_size,self.hidden_dim)\n",
        "    cell_state = torch.zeros(self.num_layers,batch_size,self.hidden_dim)\n",
        "    self.hidden = (hidden_state, cell_state)\n",
        "\n",
        "  def forward(self, x: torch.Tensor) -> torch.Tensor:\n",
        "    print(x.size()[0])\n",
        "    batch_size = x.size()[0]\n",
        "    out_x,self.hidden = self.lstm(x, self.hidden)\n",
        "    x = self.final_layer(out_x.contiguous().view(batch_size, -1))\n",
        "    return x"
      ],
      "execution_count": 0,
      "outputs": []
    }
  ]
}