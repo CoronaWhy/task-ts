{
  "nbformat": 4,
  "nbformat_minor": 0,
  "metadata": {
    "colab": {
      "name": "CoronaBasic.ipynb",
      "provenance": [],
      "collapsed_sections": []
    },
    "kernelspec": {
      "name": "python3",
      "display_name": "Python 3"
    }
  },
  "cells": [
    {
      "cell_type": "markdown",
      "metadata": {
        "id": "htDHburyBuEe",
        "colab_type": "text"
      },
      "source": [
        "# Preliminary Analysis of CoronaVirus Time Series Data\n",
        "In this notebook we will conduct some preliminary analysis and forecasting on the Coronavirus time seires data. For this analysis we will look at \n",
        "\n",
        "**Warning this is a basic analysis/machine learning model. The goal of this notebook is to gage the utility of data augmentation/transfer learning for virus forecasting. NOT provide actionable insights. It would additional rounds of training/validation + verification by epidemiologists and public health experts before I would be confident relying on using it for any actionable insights**"
      ]
    },
    {
      "cell_type": "code",
      "metadata": {
        "id": "CA1NxnWmHOAQ",
        "colab_type": "code",
        "outputId": "8cfe5d21-4da3-4710-cc73-9d402fad5337",
        "colab": {
          "base_uri": "https://localhost:8080/",
          "height": 1000
        }
      },
      "source": [
        "#!git clone https://github.com/CoronaWhy/task-geo.git\n",
        "#os.chdir('task-geo')\n",
        "#make install\n",
        "import pandas as pd\n",
        "!wget -O coronavirus_timeseries.csv https://coronadatascraper.com/timeseries.csv\n",
        "!pip install wandb\n",
        "!wandb login\n",
        "import wandb\n",
        "from tensorflow import keras\n",
        "from wandb.keras import WandbCallback "
      ],
      "execution_count": 0,
      "outputs": [
        {
          "output_type": "stream",
          "text": [
            "--2020-04-26 15:10:23--  https://coronadatascraper.com/timeseries.csv\n",
            "Resolving coronadatascraper.com (coronadatascraper.com)... 185.199.110.153, 185.199.111.153, 185.199.108.153\n",
            "Connecting to coronadatascraper.com (coronadatascraper.com)|185.199.110.153|:443... connected.\n",
            "HTTP request sent, awaiting response... 200 OK\n",
            "Length: 34699757 (33M) [text/csv]\n",
            "Saving to: ‘coronavirus_timeseries.csv’\n",
            "\n",
            "coronavirus_timeser 100%[===================>]  33.09M  42.3MB/s    in 0.8s    \n",
            "\n",
            "2020-04-26 15:10:23 (42.3 MB/s) - ‘coronavirus_timeseries.csv’ saved [34699757/34699757]\n",
            "\n",
            "Collecting wandb\n",
            "\u001b[?25l  Downloading https://files.pythonhosted.org/packages/b6/30/cb8f29239f638cc2b03ac25642b78ced1e927c448a1e16a4a7f566a29436/wandb-0.8.33-py2.py3-none-any.whl (1.4MB)\n",
            "\u001b[K     |████████████████████████████████| 1.4MB 2.7MB/s \n",
            "\u001b[?25hCollecting gql==0.2.0\n",
            "  Downloading https://files.pythonhosted.org/packages/c4/6f/cf9a3056045518f06184e804bae89390eb706168349daa9dff8ac609962a/gql-0.2.0.tar.gz\n",
            "Requirement already satisfied: nvidia-ml-py3>=7.352.0 in /usr/local/lib/python3.6/dist-packages (from wandb) (7.352.0)\n",
            "Collecting sentry-sdk>=0.4.0\n",
            "\u001b[?25l  Downloading https://files.pythonhosted.org/packages/20/7e/19545324e83db4522b885808cd913c3b93ecc0c88b03e037b78c6a417fa8/sentry_sdk-0.14.3-py2.py3-none-any.whl (103kB)\n",
            "\u001b[K     |████████████████████████████████| 112kB 20.5MB/s \n",
            "\u001b[?25hCollecting subprocess32>=3.5.3\n",
            "\u001b[?25l  Downloading https://files.pythonhosted.org/packages/32/c8/564be4d12629b912ea431f1a50eb8b3b9d00f1a0b1ceff17f266be190007/subprocess32-3.5.4.tar.gz (97kB)\n",
            "\u001b[K     |████████████████████████████████| 102kB 7.0MB/s \n",
            "\u001b[?25hCollecting docker-pycreds>=0.4.0\n",
            "  Downloading https://files.pythonhosted.org/packages/f5/e8/f6bd1eee09314e7e6dee49cbe2c5e22314ccdb38db16c9fc72d2fa80d054/docker_pycreds-0.4.0-py2.py3-none-any.whl\n",
            "Collecting configparser>=3.8.1\n",
            "  Downloading https://files.pythonhosted.org/packages/4b/6b/01baa293090240cf0562cc5eccb69c6f5006282127f2b846fad011305c79/configparser-5.0.0-py3-none-any.whl\n",
            "Requirement already satisfied: psutil>=5.0.0 in /usr/local/lib/python3.6/dist-packages (from wandb) (5.4.8)\n",
            "Requirement already satisfied: PyYAML>=3.10 in /usr/local/lib/python3.6/dist-packages (from wandb) (3.13)\n",
            "Requirement already satisfied: six>=1.10.0 in /usr/local/lib/python3.6/dist-packages (from wandb) (1.12.0)\n",
            "Requirement already satisfied: Click>=7.0 in /usr/local/lib/python3.6/dist-packages (from wandb) (7.1.1)\n",
            "Collecting watchdog>=0.8.3\n",
            "\u001b[?25l  Downloading https://files.pythonhosted.org/packages/73/c3/ed6d992006837e011baca89476a4bbffb0a91602432f73bd4473816c76e2/watchdog-0.10.2.tar.gz (95kB)\n",
            "\u001b[K     |████████████████████████████████| 102kB 8.6MB/s \n",
            "\u001b[?25hCollecting GitPython>=1.0.0\n",
            "\u001b[?25l  Downloading https://files.pythonhosted.org/packages/19/1a/0df85d2bddbca33665d2148173d3281b290ac054b5f50163ea735740ac7b/GitPython-3.1.1-py3-none-any.whl (450kB)\n",
            "\u001b[K     |████████████████████████████████| 460kB 16.3MB/s \n",
            "\u001b[?25hCollecting shortuuid>=0.5.0\n",
            "  Downloading https://files.pythonhosted.org/packages/25/a6/2ecc1daa6a304e7f1b216f0896b26156b78e7c38e1211e9b798b4716c53d/shortuuid-1.0.1-py3-none-any.whl\n",
            "Requirement already satisfied: requests>=2.0.0 in /usr/local/lib/python3.6/dist-packages (from wandb) (2.21.0)\n",
            "Requirement already satisfied: python-dateutil>=2.6.1 in /usr/local/lib/python3.6/dist-packages (from wandb) (2.8.1)\n",
            "Collecting graphql-core<2,>=0.5.0\n",
            "\u001b[?25l  Downloading https://files.pythonhosted.org/packages/b0/89/00ad5e07524d8c523b14d70c685e0299a8b0de6d0727e368c41b89b7ed0b/graphql-core-1.1.tar.gz (70kB)\n",
            "\u001b[K     |████████████████████████████████| 71kB 8.6MB/s \n",
            "\u001b[?25hRequirement already satisfied: promise<3,>=2.0 in /usr/local/lib/python3.6/dist-packages (from gql==0.2.0->wandb) (2.3)\n",
            "Requirement already satisfied: urllib3>=1.10.0 in /usr/local/lib/python3.6/dist-packages (from sentry-sdk>=0.4.0->wandb) (1.24.3)\n",
            "Requirement already satisfied: certifi in /usr/local/lib/python3.6/dist-packages (from sentry-sdk>=0.4.0->wandb) (2020.4.5.1)\n",
            "Collecting pathtools>=0.1.1\n",
            "  Downloading https://files.pythonhosted.org/packages/e7/7f/470d6fcdf23f9f3518f6b0b76be9df16dcc8630ad409947f8be2eb0ed13a/pathtools-0.1.2.tar.gz\n",
            "Collecting gitdb<5,>=4.0.1\n",
            "\u001b[?25l  Downloading https://files.pythonhosted.org/packages/74/52/ca35448b56c53a079d3ffe18b1978c6e424f6d4df02404877094c89f5bfb/gitdb-4.0.4-py3-none-any.whl (63kB)\n",
            "\u001b[K     |████████████████████████████████| 71kB 9.0MB/s \n",
            "\u001b[?25hRequirement already satisfied: chardet<3.1.0,>=3.0.2 in /usr/local/lib/python3.6/dist-packages (from requests>=2.0.0->wandb) (3.0.4)\n",
            "Requirement already satisfied: idna<2.9,>=2.5 in /usr/local/lib/python3.6/dist-packages (from requests>=2.0.0->wandb) (2.8)\n",
            "Collecting smmap<4,>=3.0.1\n",
            "  Downloading https://files.pythonhosted.org/packages/27/b1/e379cfb7c07bbf8faee29c4a1a2469dbea525f047c2b454c4afdefa20a30/smmap-3.0.2-py2.py3-none-any.whl\n",
            "Building wheels for collected packages: gql, subprocess32, watchdog, graphql-core, pathtools\n",
            "  Building wheel for gql (setup.py) ... \u001b[?25l\u001b[?25hdone\n",
            "  Created wheel for gql: filename=gql-0.2.0-cp36-none-any.whl size=7630 sha256=07e817c84036c170bea6d778f08cf285213f410a702d7709c3ab9b5e19d5142f\n",
            "  Stored in directory: /root/.cache/pip/wheels/ce/0e/7b/58a8a5268655b3ad74feef5aa97946f0addafb3cbb6bd2da23\n",
            "  Building wheel for subprocess32 (setup.py) ... \u001b[?25l\u001b[?25hdone\n",
            "  Created wheel for subprocess32: filename=subprocess32-3.5.4-cp36-none-any.whl size=6489 sha256=7293a4346cf2179afb40bab28fe729186f4f31587138795eec443e66951d75f1\n",
            "  Stored in directory: /root/.cache/pip/wheels/68/39/1a/5e402bdfdf004af1786c8b853fd92f8c4a04f22aad179654d1\n",
            "  Building wheel for watchdog (setup.py) ... \u001b[?25l\u001b[?25hdone\n",
            "  Created wheel for watchdog: filename=watchdog-0.10.2-cp36-none-any.whl size=73605 sha256=1fca97b8129e2630b267ae7f34812b07f374e54dbf7f66c93ebd00dd4f6c3639\n",
            "  Stored in directory: /root/.cache/pip/wheels/bc/ed/6c/028dea90d31b359cd2a7c8b0da4db80e41d24a59614154072e\n",
            "  Building wheel for graphql-core (setup.py) ... \u001b[?25l\u001b[?25hdone\n",
            "  Created wheel for graphql-core: filename=graphql_core-1.1-cp36-none-any.whl size=104650 sha256=78180f92aecf3a944e2b58d18a907271a68736380ebc08f2a432e31042418e24\n",
            "  Stored in directory: /root/.cache/pip/wheels/45/99/d7/c424029bb0fe910c63b68dbf2aa20d3283d023042521bcd7d5\n",
            "  Building wheel for pathtools (setup.py) ... \u001b[?25l\u001b[?25hdone\n",
            "  Created wheel for pathtools: filename=pathtools-0.1.2-cp36-none-any.whl size=8784 sha256=540212d95cfa334c552fee33f1889c207ab620ea25c1c0845973830d3c8a12f4\n",
            "  Stored in directory: /root/.cache/pip/wheels/0b/04/79/c3b0c3a0266a3cb4376da31e5bfe8bba0c489246968a68e843\n",
            "Successfully built gql subprocess32 watchdog graphql-core pathtools\n",
            "Installing collected packages: graphql-core, gql, sentry-sdk, subprocess32, docker-pycreds, configparser, pathtools, watchdog, smmap, gitdb, GitPython, shortuuid, wandb\n",
            "Successfully installed GitPython-3.1.1 configparser-5.0.0 docker-pycreds-0.4.0 gitdb-4.0.4 gql-0.2.0 graphql-core-1.1 pathtools-0.1.2 sentry-sdk-0.14.3 shortuuid-1.0.1 smmap-3.0.2 subprocess32-3.5.4 wandb-0.8.33 watchdog-0.10.2\n",
            "\u001b[34m\u001b[1mwandb\u001b[0m: You can find your API key in your browser here: https://app.wandb.ai/authorize\n",
            "\u001b[34m\u001b[1mwandb\u001b[0m: Paste an API key from your profile and hit enter: 4c616b51e6e88012c20dc6adcf90d05172185490\n",
            "\u001b[34m\u001b[1mwandb\u001b[0m: Appending key for api.wandb.ai to your netrc file: /root/.netrc\n",
            "\u001b[32mSuccessfully logged in to Weights & Biases!\u001b[0m\n"
          ],
          "name": "stdout"
        }
      ]
    },
    {
      "cell_type": "code",
      "metadata": {
        "id": "WmOWKLuxHT7j",
        "colab_type": "code",
        "outputId": "45e127a3-84c6-406b-c8e4-c3719d999263",
        "colab": {
          "base_uri": "https://localhost:8080/",
          "height": 71
        }
      },
      "source": [
        "df = pd.read_csv(\"coronavirus_timeseries.csv\")\n"
      ],
      "execution_count": 0,
      "outputs": [
        {
          "output_type": "stream",
          "text": [
            "/usr/local/lib/python3.6/dist-packages/IPython/core/interactiveshell.py:2718: DtypeWarning: Columns (2) have mixed types.Specify dtype option on import or set low_memory=False.\n",
            "  interactivity=interactivity, compiler=compiler, result=result)\n"
          ],
          "name": "stderr"
        }
      ]
    },
    {
      "cell_type": "code",
      "metadata": {
        "id": "asrssixL6XZo",
        "colab_type": "code",
        "outputId": "b64449a3-ff94-48ae-e3f5-02128b8e2ff2",
        "colab": {
          "base_uri": "https://localhost:8080/",
          "height": 54
        }
      },
      "source": [
        "unqiue_counties = df['county'].unique()\n",
        "print(len(unqiue_counties))"
      ],
      "execution_count": 0,
      "outputs": [
        {
          "output_type": "stream",
          "text": [
            "2013\n"
          ],
          "name": "stdout"
        }
      ]
    },
    {
      "cell_type": "markdown",
      "metadata": {
        "id": "Mc189EXg6pfE",
        "colab_type": "text"
      },
      "source": [
        "## Forecasting in Antwerp"
      ]
    },
    {
      "cell_type": "code",
      "metadata": {
        "id": "WiJyk9YiHaOX",
        "colab_type": "code",
        "outputId": "eab1e303-d9cc-46af-ede5-271430649566",
        "colab": {
          "base_uri": "https://localhost:8080/",
          "height": 54
        }
      },
      "source": [
        "antwerp_df = df[df['county']=='Antwerp'].fillna(0)\n",
        "antwerp_relevant = antwerp_df[['cases', 'deaths', 'recovered', 'population', 'lat', 'long']].values\n",
        "#antwerp_df.tail()\n",
        "print(len(antwerp_df))"
      ],
      "execution_count": 0,
      "outputs": [
        {
          "output_type": "stream",
          "text": [
            "95\n"
          ],
          "name": "stdout"
        }
      ]
    },
    {
      "cell_type": "markdown",
      "metadata": {
        "id": "KlVWneL_CV3r",
        "colab_type": "text"
      },
      "source": [
        "## Data Augmentation\n",
        "We will now explore using the tsaug library for forecasting.. "
      ]
    },
    {
      "cell_type": "code",
      "metadata": {
        "id": "l1J98G13HbKM",
        "colab_type": "code",
        "outputId": "8d19cb85-b098-4cab-b433-27fcaa8a620e",
        "colab": {
          "base_uri": "https://localhost:8080/",
          "height": 137
        }
      },
      "source": [
        "!pip install tsaug"
      ],
      "execution_count": 0,
      "outputs": [
        {
          "output_type": "stream",
          "text": [
            "Collecting tsaug\n",
            "  Downloading https://files.pythonhosted.org/packages/e8/6e/8b1be145a32bba360c14322c3b87ad93d6227c46528d482c84eefe54094b/tsaug-0.2.1-py3-none-any.whl\n",
            "Requirement already satisfied: numpy>=1.14 in /usr/local/lib/python3.6/dist-packages (from tsaug) (1.18.3)\n",
            "Requirement already satisfied: scipy>=1.1 in /usr/local/lib/python3.6/dist-packages (from tsaug) (1.4.1)\n",
            "Installing collected packages: tsaug\n",
            "Successfully installed tsaug-0.2.1\n"
          ],
          "name": "stdout"
        }
      ]
    },
    {
      "cell_type": "code",
      "metadata": {
        "id": "aXNkSdTFvZ1g",
        "colab_type": "code",
        "colab": {}
      },
      "source": [
        "from tsaug.visualization import plot \n",
        "from tsaug import TimeWarp, Crop, Quantize, Drift, Reverse\n",
        "my_augmenter = (TimeWarp() * 5, # random time warping 5 times in parallel \n",
        "                Crop(size=300),  # random crop subsequences with length 300\n",
        "                Quantize(n_levels=[10, 20, 30]),  # random quantize to 10-, 20-, or 30- level sets\n",
        "                Drift(max_drift=(0.1, 0.5)),   # with 80% probability, random drift the signal up to 10% - 50%\n",
        "                Reverse()) #0.5  # with 50% probability, reverse the sequence)"
      ],
      "execution_count": 0,
      "outputs": []
    },
    {
      "cell_type": "code",
      "metadata": {
        "id": "VdVWNhk2XRJw",
        "colab_type": "code",
        "colab": {}
      },
      "source": [
        "#X_aug = my_augmenter[0].augment(antwerp_relevant)\n",
        "print(antwerp_relevant.shape)\n",
        "X_aug = TimeWarp(antwerp[:70])"
      ],
      "execution_count": 0,
      "outputs": []
    },
    {
      "cell_type": "markdown",
      "metadata": {
        "id": "-A6ICggnYBlX",
        "colab_type": "text"
      },
      "source": [
        "## Models and Forecasting\n",
        "We will now define some simple models in Keras for forecasting."
      ]
    },
    {
      "cell_type": "code",
      "metadata": {
        "id": "VO7ZOB41az1W",
        "colab_type": "code",
        "colab": {}
      },
      "source": [
        "import numpy as np\n",
        "from sklearn.preprocessing import RobustScaler\n",
        "scaler_dict = {}\n",
        "config_default = {\"epochs\":30, \"validation_split\":0.1, \n",
        "          \"loss\":\"mean_squared_error\", \"optimizer\":'adam', \n",
        "          \"geo_segment\":\"antwerp\", \"seq_len\":7, \"train_steps\":70, \n",
        "          \"test_steps\":27, \"scaler\":\"RobustScaler\", \n",
        "          \"beta\":0.899}\n",
        "r = RobustScaler()\n",
        "x_train_full = antwerp_df[['deaths', 'cases']][:config_default[\"train_steps\"]]\n",
        "x_train_full = pd.DataFrame(r.fit_transform(x_train_full))\n",
        "y_train_full = x_train_full\n",
        "r_test = RobustScaler()\n",
        "test_orig = antwerp_df[['deaths', 'cases']][70:]\n",
        "test = pd.DataFrame(r_test.fit_transform(test_orig))"
      ],
      "execution_count": 0,
      "outputs": []
    },
    {
      "cell_type": "code",
      "metadata": {
        "id": "eUR6eM4MZZJJ",
        "colab_type": "code",
        "colab": {}
      },
      "source": [
        "def create_dataset(X, y, time_steps=1):\n",
        "    Xs, ys = [], []\n",
        "    for i in range(len(X) - time_steps):\n",
        "        v = X.iloc[i:(i + time_steps)].values\n",
        "        Xs.append(v)\n",
        "        ys.append(y.iloc[i + time_steps])\n",
        "    return np.array(Xs), np.array(ys)\n",
        "\n",
        "X_train, Y_train = create_dataset(x_train_full, y_train_full, config_default[\"seq_len\"])\n",
        "X_test, y_test = create_dataset(test, test, config_default[\"seq_len\"])"
      ],
      "execution_count": 0,
      "outputs": []
    },
    {
      "cell_type": "code",
      "metadata": {
        "id": "-OOG9RAp4-ap",
        "colab_type": "code",
        "outputId": "d37f1d49-1f45-45dc-ea11-d21c5e1de166",
        "colab": {
          "base_uri": "https://localhost:8080/",
          "height": 71
        }
      },
      "source": [
        "sweep_config = {\n",
        "  \"name\": \"Default sweep\",\n",
        "  \"method\": \"grid\",\n",
        "  \"parameters\": {\n",
        "        \"batch_size\": {\n",
        "            \"values\": [2, 3, 4, 5]\n",
        "        },\n",
        "        \"learn\":{\n",
        "            \"values\":[0.001, 0.0015, 0.002, 0.003, 0.004, 0.01]\n",
        "        } \n",
        "    }\n",
        "}\n",
        "sweep_id = wandb.sweep(sweep_config)"
      ],
      "execution_count": 0,
      "outputs": [
        {
          "output_type": "stream",
          "text": [
            "Create sweep with ID: sz2r7l4w\n",
            "Sweep URL: https://app.wandb.ai/igodfried/uncategorized/sweeps/sz2r7l4w\n"
          ],
          "name": "stdout"
        }
      ]
    },
    {
      "cell_type": "code",
      "metadata": {
        "id": "nXhSxkqdYJbd",
        "colab_type": "code",
        "colab": {}
      },
      "source": [
        "def train():\n",
        "  run = wandb.init(project=\"covid-forecast\", config=config_default, magic=True)\n",
        "  config = wandb.config\n",
        "  opt = keras.optimizers.Adam(learning_rate=config[\"learn\"], beta_1=config[\"beta\"], beta_2=0.999, amsgrad=False)\n",
        "  model = keras.Sequential()\n",
        "  model.add(\n",
        "    keras.layers.Bidirectional(\n",
        "      keras.layers.LSTM(\n",
        "        units=128,\n",
        "        input_shape=(X_train.shape[1], X_train.shape[2])\n",
        "      )\n",
        "    )\n",
        "  ) \n",
        "  model.add(keras.layers.Dropout(rate=0.2))\n",
        "  model.add(keras.layers.Dense(units=2))\n",
        "  model.compile(loss=config[\"loss\"], optimizer=opt)\n",
        "\n",
        "  history = model.fit(\n",
        "      X_train, Y_train,\n",
        "      epochs=config[\"epochs\"],\n",
        "      batch_size=config[\"batch_size\"],\n",
        "      validation_split=config[\"validation_split\"],\n",
        "      callbacks=[WandbCallback()],\n",
        "      shuffle=False\n",
        "  )\n",
        "  evaluate_single(model, X_test, y_test, r)\n",
        "  evaluate_plot_multi(model, test, config, X_test, r_test)\n",
        "  return model\n",
        "\n",
        "def evaluate_single(model, x_test, y_test, scaler):\n",
        "  y_preds = model.predict(x_test)\n",
        "  y_preds = scaler.inverse_transform(y_preds)\n",
        "  y_test = scaler.inverse_transform(y_test)\n",
        "  complete_mse = tf.keras.losses.MSE( y_preds[:, 1], y_test[:, 1])\n",
        "  wandb.run.summary[\"test_mse\"] = complete_mse\n",
        "  return complete_mse\n",
        "\n",
        "def evaluate_plot_multi(model, test_df, config, x_test, scaler):\n",
        "  arr = predict_multi(model, len(test)-config[\"seq_len\"], x_test[0, :, :])\n",
        "  test_orig['predicted_cases'] = 0\n",
        "  test_orig['predicted_cases'][config[\"seq_len\"]:] = scaler.inverse_transform(arr.squeeze(0))[:, 1]\n",
        "  plt.plot(test_orig['predicted_cases'], label='predicted_cases')\n",
        "  plt.plot(test_orig['cases'], label='actual_cases')\n",
        "  plt.legend();\n",
        "  wandb.log({\"test\":plt})\n",
        "  large_mse = tf.keras.losses.MSE(\n",
        "    y_multi[:, 1], test_orig['predicted_cases'][config[\"seq_len\"]:].values\n",
        "  )\n",
        "  wandb.run.summary[\"test_mse_full\"] =  large_mse\n",
        "  return large_mse\n"
      ],
      "execution_count": 0,
      "outputs": []
    },
    {
      "cell_type": "code",
      "metadata": {
        "id": "Q0N5tLiZB_IE",
        "colab_type": "code",
        "outputId": "cbca51a1-6556-49cc-d222-a96d1d007d5a",
        "colab": {
          "base_uri": "https://localhost:8080/",
          "height": 1000
        }
      },
      "source": [
        "wandb.agent(sweep_id, function=train)\n",
        "#train()"
      ],
      "execution_count": 0,
      "outputs": [
        {
          "output_type": "stream",
          "text": [
            "wandb: Agent Starting Run: zf1811zd with config:\n",
            "\tbatch_size: 2\n",
            "\tlearn: 0.004\n",
            "wandb: Agent Started Run: zf1811zd\n"
          ],
          "name": "stdout"
        },
        {
          "output_type": "stream",
          "text": [
            "\u001b[34m\u001b[1mwandb\u001b[0m: \u001b[33mWARNING\u001b[0m Ignoring project='covid-forecast' passed to wandb.init when running a sweep\n",
            "\u001b[34m\u001b[1mwandb\u001b[0m: \u001b[33mWARNING\u001b[0m Ignoring project='covid-forecast' passed to wandb.init when running a sweep\n"
          ],
          "name": "stderr"
        },
        {
          "output_type": "display_data",
          "data": {
            "text/html": [
              "\n",
              "                Logging results to <a href=\"https://wandb.com\" target=\"_blank\">Weights & Biases</a> <a href=\"https://docs.wandb.com/integrations/jupyter.html\" target=\"_blank\">(Documentation)</a>.<br/>\n",
              "                Project page: <a href=\"https://app.wandb.ai/igodfried/uncategorized\" target=\"_blank\">https://app.wandb.ai/igodfried/uncategorized</a><br/>\n",
              "                Sweep page: <a href=\"https://app.wandb.ai/igodfried/uncategorized/sweeps/sz2r7l4w\" target=\"_blank\">https://app.wandb.ai/igodfried/uncategorized/sweeps/sz2r7l4w</a><br/>\n",
              "Run page: <a href=\"https://app.wandb.ai/igodfried/uncategorized/runs/zf1811zd\" target=\"_blank\">https://app.wandb.ai/igodfried/uncategorized/runs/zf1811zd</a><br/>\n",
              "            "
            ],
            "text/plain": [
              "<IPython.core.display.HTML object>"
            ]
          },
          "metadata": {
            "tags": []
          }
        },
        {
          "output_type": "stream",
          "text": [
            "Epoch 1/30\n",
            "WARNING:tensorflow:Layer bidirectional is casting an input tensor from dtype float64 to the layer's dtype of float32, which is new behavior in TensorFlow 2.  The layer has dtype float32 because it's dtype defaults to floatx.\n",
            "\n",
            "If you intended to run this layer in float32, you can safely ignore this warning. If in doubt, this warning is likely only an issue if you are porting a TensorFlow 1.X model to TensorFlow 2.\n",
            "\n",
            "To change all layers to have dtype float64 by default, call `tf.keras.backend.set_floatx('float64')`. To change just this layer, pass dtype='float64' to the layer constructor. If you are the author of this layer, you can disable autocasting by passing autocast=False to the base Layer constructor.\n",
            "\n",
            "28/28 [==============================] - 1s 33ms/step - loss: 0.0335 - val_loss: 4.7072\n",
            "Epoch 2/30\n",
            "28/28 [==============================] - 0s 9ms/step - loss: 0.1379 - val_loss: 2.1729\n",
            "Epoch 3/30\n",
            "28/28 [==============================] - 0s 8ms/step - loss: 0.0574 - val_loss: 7.6313\n",
            "Epoch 4/30\n",
            "28/28 [==============================] - 0s 8ms/step - loss: 0.1322 - val_loss: 3.6609\n",
            "Epoch 5/30\n",
            "28/28 [==============================] - 0s 8ms/step - loss: 0.0531 - val_loss: 4.7727\n",
            "Epoch 6/30\n",
            "28/28 [==============================] - 0s 7ms/step - loss: 0.4594 - val_loss: 13.5437\n",
            "Epoch 7/30\n",
            "28/28 [==============================] - 0s 8ms/step - loss: 0.0970 - val_loss: 6.8864\n",
            "Epoch 8/30\n",
            "28/28 [==============================] - 0s 8ms/step - loss: 0.1104 - val_loss: 3.5850\n",
            "Epoch 9/30\n",
            "28/28 [==============================] - 0s 10ms/step - loss: 0.2329 - val_loss: 4.9302\n",
            "Epoch 10/30\n",
            "28/28 [==============================] - 0s 8ms/step - loss: 0.1374 - val_loss: 9.7213\n",
            "Epoch 11/30\n",
            "28/28 [==============================] - 0s 8ms/step - loss: 0.4611 - val_loss: 8.0275\n",
            "Epoch 12/30\n",
            "28/28 [==============================] - 0s 8ms/step - loss: 0.2522 - val_loss: 5.4802\n",
            "Epoch 13/30\n",
            "28/28 [==============================] - 0s 8ms/step - loss: 0.2092 - val_loss: 2.4380\n",
            "Epoch 14/30\n",
            "28/28 [==============================] - 0s 7ms/step - loss: 0.2054 - val_loss: 4.1080\n",
            "Epoch 15/30\n",
            "28/28 [==============================] - 0s 8ms/step - loss: 0.5280 - val_loss: 21.6276\n",
            "Epoch 16/30\n",
            "28/28 [==============================] - 0s 8ms/step - loss: 0.2297 - val_loss: 9.5466\n",
            "Epoch 17/30\n",
            "28/28 [==============================] - 0s 7ms/step - loss: 0.1892 - val_loss: 7.5071\n",
            "Epoch 18/30\n",
            "28/28 [==============================] - 0s 8ms/step - loss: 0.1987 - val_loss: 9.6216\n",
            "Epoch 19/30\n",
            "28/28 [==============================] - 0s 7ms/step - loss: 0.1423 - val_loss: 6.7246\n",
            "Epoch 20/30\n",
            "28/28 [==============================] - 0s 7ms/step - loss: 0.2317 - val_loss: 12.6821\n",
            "Epoch 21/30\n",
            "28/28 [==============================] - 0s 8ms/step - loss: 0.0652 - val_loss: 6.8242\n",
            "Epoch 22/30\n",
            "28/28 [==============================] - 0s 7ms/step - loss: 0.0487 - val_loss: 5.8640\n",
            "Epoch 23/30\n",
            "28/28 [==============================] - 0s 8ms/step - loss: 0.0447 - val_loss: 7.4421\n",
            "Epoch 24/30\n",
            "28/28 [==============================] - 0s 7ms/step - loss: 0.0370 - val_loss: 6.2940\n",
            "Epoch 25/30\n",
            "28/28 [==============================] - 0s 8ms/step - loss: 0.0402 - val_loss: 5.8235\n",
            "Epoch 26/30\n",
            "28/28 [==============================] - 0s 8ms/step - loss: 0.0302 - val_loss: 6.1548\n",
            "Epoch 27/30\n",
            "28/28 [==============================] - 0s 8ms/step - loss: 0.0310 - val_loss: 4.9932\n",
            "Epoch 28/30\n",
            "28/28 [==============================] - 0s 7ms/step - loss: 0.0195 - val_loss: 5.9962\n",
            "Epoch 29/30\n",
            "28/28 [==============================] - 0s 8ms/step - loss: 0.0237 - val_loss: 4.9807\n",
            "Epoch 30/30\n",
            "28/28 [==============================] - 0s 9ms/step - loss: 0.0281 - val_loss: 5.5277\n",
            "wandb: Agent Finished Run: zf1811zd \n",
            "\n",
            "wandb: Agent Starting Run: bikaxo5m with config:\n",
            "\tbatch_size: 2\n",
            "\tlearn: 0.01\n",
            "wandb: Agent Started Run: bikaxo5m\n"
          ],
          "name": "stdout"
        },
        {
          "output_type": "stream",
          "text": [
            "\u001b[34m\u001b[1mwandb\u001b[0m: \u001b[33mWARNING\u001b[0m Ignoring project='covid-forecast' passed to wandb.init when running a sweep\n",
            "\u001b[34m\u001b[1mwandb\u001b[0m: \u001b[33mWARNING\u001b[0m Ignoring project='covid-forecast' passed to wandb.init when running a sweep\n"
          ],
          "name": "stderr"
        },
        {
          "output_type": "display_data",
          "data": {
            "text/html": [
              "\n",
              "                Logging results to <a href=\"https://wandb.com\" target=\"_blank\">Weights & Biases</a> <a href=\"https://docs.wandb.com/integrations/jupyter.html\" target=\"_blank\">(Documentation)</a>.<br/>\n",
              "                Project page: <a href=\"https://app.wandb.ai/igodfried/uncategorized\" target=\"_blank\">https://app.wandb.ai/igodfried/uncategorized</a><br/>\n",
              "                Sweep page: <a href=\"https://app.wandb.ai/igodfried/uncategorized/sweeps/sz2r7l4w\" target=\"_blank\">https://app.wandb.ai/igodfried/uncategorized/sweeps/sz2r7l4w</a><br/>\n",
              "Run page: <a href=\"https://app.wandb.ai/igodfried/uncategorized/runs/bikaxo5m\" target=\"_blank\">https://app.wandb.ai/igodfried/uncategorized/runs/bikaxo5m</a><br/>\n",
              "            "
            ],
            "text/plain": [
              "<IPython.core.display.HTML object>"
            ]
          },
          "metadata": {
            "tags": []
          }
        },
        {
          "output_type": "stream",
          "text": [
            "Epoch 1/30\n",
            "WARNING:tensorflow:Layer bidirectional is casting an input tensor from dtype float64 to the layer's dtype of float32, which is new behavior in TensorFlow 2.  The layer has dtype float32 because it's dtype defaults to floatx.\n",
            "\n",
            "If you intended to run this layer in float32, you can safely ignore this warning. If in doubt, this warning is likely only an issue if you are porting a TensorFlow 1.X model to TensorFlow 2.\n",
            "\n",
            "To change all layers to have dtype float64 by default, call `tf.keras.backend.set_floatx('float64')`. To change just this layer, pass dtype='float64' to the layer constructor. If you are the author of this layer, you can disable autocasting by passing autocast=False to the base Layer constructor.\n",
            "\n",
            "28/28 [==============================] - 1s 35ms/step - loss: 0.0371 - val_loss: 1.4206\n",
            "Epoch 2/30\n",
            "28/28 [==============================] - 0s 9ms/step - loss: 0.1506 - val_loss: 6.6646\n",
            "Epoch 3/30\n",
            "28/28 [==============================] - 0s 9ms/step - loss: 0.2674 - val_loss: 5.6824\n",
            "Epoch 4/30\n",
            "28/28 [==============================] - 0s 8ms/step - loss: 0.7094 - val_loss: 9.4924\n",
            "Epoch 5/30\n",
            "28/28 [==============================] - 0s 8ms/step - loss: 0.2113 - val_loss: 4.3793\n",
            "Epoch 6/30\n",
            "28/28 [==============================] - 0s 9ms/step - loss: 0.5281 - val_loss: 0.9074\n",
            "Epoch 7/30\n",
            "28/28 [==============================] - 0s 8ms/step - loss: 0.2267 - val_loss: 6.6093\n",
            "Epoch 8/30\n",
            "28/28 [==============================] - 0s 7ms/step - loss: 0.3561 - val_loss: 9.7046\n",
            "Epoch 9/30\n",
            "28/28 [==============================] - 0s 8ms/step - loss: 0.2979 - val_loss: 3.3176\n",
            "Epoch 10/30\n",
            "28/28 [==============================] - 0s 9ms/step - loss: 0.0867 - val_loss: 1.8698\n",
            "Epoch 11/30\n",
            "28/28 [==============================] - 0s 9ms/step - loss: 0.1260 - val_loss: 3.7639\n",
            "Epoch 12/30\n",
            "28/28 [==============================] - 0s 8ms/step - loss: 0.1292 - val_loss: 3.2556\n",
            "Epoch 13/30\n",
            "28/28 [==============================] - 0s 9ms/step - loss: 0.0655 - val_loss: 0.8341\n",
            "Epoch 14/30\n",
            "28/28 [==============================] - 0s 8ms/step - loss: 0.0179 - val_loss: 0.6502\n",
            "Epoch 15/30\n",
            "28/28 [==============================] - 0s 8ms/step - loss: 0.0227 - val_loss: 0.7266\n",
            "Epoch 16/30\n",
            "28/28 [==============================] - 0s 9ms/step - loss: 0.0171 - val_loss: 0.5885\n",
            "Epoch 17/30\n",
            "28/28 [==============================] - 0s 8ms/step - loss: 0.0453 - val_loss: 0.6961\n",
            "Epoch 18/30\n",
            "28/28 [==============================] - 0s 8ms/step - loss: 0.1773 - val_loss: 3.7437\n",
            "Epoch 19/30\n",
            "28/28 [==============================] - 0s 8ms/step - loss: 0.3737 - val_loss: 13.6416\n",
            "Epoch 20/30\n",
            "28/28 [==============================] - 0s 7ms/step - loss: 0.2308 - val_loss: 1.2411\n",
            "Epoch 21/30\n",
            "28/28 [==============================] - 0s 8ms/step - loss: 0.2405 - val_loss: 3.8587\n",
            "Epoch 22/30\n",
            "28/28 [==============================] - 0s 8ms/step - loss: 0.2199 - val_loss: 5.6036\n",
            "Epoch 23/30\n",
            "28/28 [==============================] - 0s 8ms/step - loss: 0.1393 - val_loss: 0.6611\n",
            "Epoch 24/30\n",
            "28/28 [==============================] - 0s 8ms/step - loss: 0.0951 - val_loss: 1.0413\n",
            "Epoch 25/30\n",
            "28/28 [==============================] - 0s 7ms/step - loss: 0.1196 - val_loss: 2.0399\n",
            "Epoch 26/30\n",
            "28/28 [==============================] - 0s 9ms/step - loss: 0.0947 - val_loss: 0.4564\n",
            "Epoch 27/30\n",
            "28/28 [==============================] - 0s 8ms/step - loss: 0.2841 - val_loss: 1.1433\n",
            "Epoch 28/30\n",
            "28/28 [==============================] - 0s 8ms/step - loss: 0.3276 - val_loss: 12.2153\n",
            "Epoch 29/30\n",
            "28/28 [==============================] - 0s 7ms/step - loss: 0.1581 - val_loss: 7.0148\n",
            "Epoch 30/30\n",
            "28/28 [==============================] - 0s 8ms/step - loss: 0.5996 - val_loss: 2.0449\n",
            "wandb: Agent Finished Run: bikaxo5m \n",
            "\n",
            "wandb: Agent Starting Run: 1uzxfj2x with config:\n",
            "\tbatch_size: 3\n",
            "\tlearn: 0.001\n",
            "wandb: Agent Started Run: 1uzxfj2x\n"
          ],
          "name": "stdout"
        },
        {
          "output_type": "stream",
          "text": [
            "\u001b[34m\u001b[1mwandb\u001b[0m: \u001b[33mWARNING\u001b[0m Ignoring project='covid-forecast' passed to wandb.init when running a sweep\n",
            "\u001b[34m\u001b[1mwandb\u001b[0m: \u001b[33mWARNING\u001b[0m Ignoring project='covid-forecast' passed to wandb.init when running a sweep\n"
          ],
          "name": "stderr"
        },
        {
          "output_type": "display_data",
          "data": {
            "text/html": [
              "\n",
              "                Logging results to <a href=\"https://wandb.com\" target=\"_blank\">Weights & Biases</a> <a href=\"https://docs.wandb.com/integrations/jupyter.html\" target=\"_blank\">(Documentation)</a>.<br/>\n",
              "                Project page: <a href=\"https://app.wandb.ai/igodfried/uncategorized\" target=\"_blank\">https://app.wandb.ai/igodfried/uncategorized</a><br/>\n",
              "                Sweep page: <a href=\"https://app.wandb.ai/igodfried/uncategorized/sweeps/sz2r7l4w\" target=\"_blank\">https://app.wandb.ai/igodfried/uncategorized/sweeps/sz2r7l4w</a><br/>\n",
              "Run page: <a href=\"https://app.wandb.ai/igodfried/uncategorized/runs/1uzxfj2x\" target=\"_blank\">https://app.wandb.ai/igodfried/uncategorized/runs/1uzxfj2x</a><br/>\n",
              "            "
            ],
            "text/plain": [
              "<IPython.core.display.HTML object>"
            ]
          },
          "metadata": {
            "tags": []
          }
        },
        {
          "output_type": "stream",
          "text": [
            "Epoch 1/30\n",
            "WARNING:tensorflow:Layer bidirectional is casting an input tensor from dtype float64 to the layer's dtype of float32, which is new behavior in TensorFlow 2.  The layer has dtype float32 because it's dtype defaults to floatx.\n",
            "\n",
            "If you intended to run this layer in float32, you can safely ignore this warning. If in doubt, this warning is likely only an issue if you are porting a TensorFlow 1.X model to TensorFlow 2.\n",
            "\n",
            "To change all layers to have dtype float64 by default, call `tf.keras.backend.set_floatx('float64')`. To change just this layer, pass dtype='float64' to the layer constructor. If you are the author of this layer, you can disable autocasting by passing autocast=False to the base Layer constructor.\n",
            "\n",
            "19/19 [==============================] - 1s 48ms/step - loss: 0.7153 - val_loss: 27.9806\n",
            "Epoch 2/30\n",
            "19/19 [==============================] - 0s 11ms/step - loss: 0.0659 - val_loss: 7.0848\n",
            "Epoch 3/30\n",
            "19/19 [==============================] - 0s 11ms/step - loss: 0.1353 - val_loss: 2.2106\n",
            "Epoch 4/30\n",
            "19/19 [==============================] - 0s 10ms/step - loss: 0.2967 - val_loss: 12.8101\n",
            "Epoch 5/30\n",
            "19/19 [==============================] - 0s 10ms/step - loss: 0.0175 - val_loss: 5.4108\n",
            "Epoch 6/30\n",
            "19/19 [==============================] - 0s 10ms/step - loss: 0.0584 - val_loss: 3.8062\n",
            "Epoch 7/30\n",
            "19/19 [==============================] - 0s 9ms/step - loss: 0.1280 - val_loss: 9.6555\n",
            "Epoch 8/30\n",
            "19/19 [==============================] - 0s 9ms/step - loss: 0.0247 - val_loss: 4.9533\n",
            "Epoch 9/30\n",
            "19/19 [==============================] - 0s 9ms/step - loss: 0.0213 - val_loss: 5.9922\n",
            "Epoch 10/30\n",
            "19/19 [==============================] - 0s 10ms/step - loss: 0.0170 - val_loss: 4.6203\n",
            "Epoch 11/30\n",
            "19/19 [==============================] - 0s 12ms/step - loss: 0.0065 - val_loss: 4.6272\n",
            "Epoch 12/30\n",
            "19/19 [==============================] - 0s 10ms/step - loss: 0.0136 - val_loss: 5.4969\n",
            "Epoch 13/30\n",
            "19/19 [==============================] - 0s 9ms/step - loss: 0.0277 - val_loss: 4.4683\n",
            "Epoch 14/30\n",
            "19/19 [==============================] - 0s 9ms/step - loss: 0.0617 - val_loss: 6.4698\n",
            "Epoch 15/30\n",
            "19/19 [==============================] - 0s 10ms/step - loss: 0.0386 - val_loss: 3.6758\n",
            "Epoch 16/30\n",
            "19/19 [==============================] - 0s 10ms/step - loss: 0.0972 - val_loss: 7.8638\n",
            "Epoch 17/30\n",
            "19/19 [==============================] - 0s 10ms/step - loss: 0.0368 - val_loss: 4.1299\n",
            "Epoch 18/30\n",
            "19/19 [==============================] - 0s 9ms/step - loss: 0.0390 - val_loss: 7.1111\n",
            "Epoch 19/30\n",
            "19/19 [==============================] - 0s 9ms/step - loss: 0.0291 - val_loss: 4.5598\n",
            "Epoch 20/30\n",
            "19/19 [==============================] - 0s 9ms/step - loss: 0.0228 - val_loss: 6.2347\n",
            "Epoch 21/30\n",
            "19/19 [==============================] - 0s 9ms/step - loss: 0.0129 - val_loss: 4.4397\n",
            "Epoch 22/30\n",
            "19/19 [==============================] - 0s 9ms/step - loss: 0.0240 - val_loss: 5.9021\n",
            "Epoch 23/30\n",
            "19/19 [==============================] - 0s 9ms/step - loss: 0.0137 - val_loss: 4.4783\n",
            "Epoch 24/30\n",
            "19/19 [==============================] - 0s 9ms/step - loss: 0.0296 - val_loss: 6.3817\n",
            "Epoch 25/30\n",
            "19/19 [==============================] - 0s 10ms/step - loss: 0.0218 - val_loss: 4.0562\n",
            "Epoch 26/30\n",
            "19/19 [==============================] - 0s 10ms/step - loss: 0.0239 - val_loss: 5.7268\n",
            "Epoch 27/30\n",
            "19/19 [==============================] - 0s 9ms/step - loss: 0.0271 - val_loss: 3.9752\n",
            "Epoch 28/30\n",
            "19/19 [==============================] - 0s 10ms/step - loss: 0.0354 - val_loss: 5.8101\n",
            "Epoch 29/30\n",
            "19/19 [==============================] - 0s 10ms/step - loss: 0.0368 - val_loss: 3.5941\n",
            "Epoch 30/30\n",
            "19/19 [==============================] - 0s 9ms/step - loss: 0.0847 - val_loss: 6.6400\n",
            "wandb: Agent Finished Run: 1uzxfj2x \n",
            "\n",
            "wandb: Agent Starting Run: ne7u8crh with config:\n",
            "\tbatch_size: 3\n",
            "\tlearn: 0.0015\n",
            "wandb: Agent Started Run: ne7u8crh\n"
          ],
          "name": "stdout"
        },
        {
          "output_type": "stream",
          "text": [
            "\u001b[34m\u001b[1mwandb\u001b[0m: \u001b[33mWARNING\u001b[0m Ignoring project='covid-forecast' passed to wandb.init when running a sweep\n",
            "\u001b[34m\u001b[1mwandb\u001b[0m: \u001b[33mWARNING\u001b[0m Ignoring project='covid-forecast' passed to wandb.init when running a sweep\n"
          ],
          "name": "stderr"
        },
        {
          "output_type": "display_data",
          "data": {
            "text/html": [
              "\n",
              "                Logging results to <a href=\"https://wandb.com\" target=\"_blank\">Weights & Biases</a> <a href=\"https://docs.wandb.com/integrations/jupyter.html\" target=\"_blank\">(Documentation)</a>.<br/>\n",
              "                Project page: <a href=\"https://app.wandb.ai/igodfried/uncategorized\" target=\"_blank\">https://app.wandb.ai/igodfried/uncategorized</a><br/>\n",
              "                Sweep page: <a href=\"https://app.wandb.ai/igodfried/uncategorized/sweeps/sz2r7l4w\" target=\"_blank\">https://app.wandb.ai/igodfried/uncategorized/sweeps/sz2r7l4w</a><br/>\n",
              "Run page: <a href=\"https://app.wandb.ai/igodfried/uncategorized/runs/ne7u8crh\" target=\"_blank\">https://app.wandb.ai/igodfried/uncategorized/runs/ne7u8crh</a><br/>\n",
              "            "
            ],
            "text/plain": [
              "<IPython.core.display.HTML object>"
            ]
          },
          "metadata": {
            "tags": []
          }
        },
        {
          "output_type": "stream",
          "text": [
            "Epoch 1/30\n",
            "WARNING:tensorflow:Layer bidirectional is casting an input tensor from dtype float64 to the layer's dtype of float32, which is new behavior in TensorFlow 2.  The layer has dtype float32 because it's dtype defaults to floatx.\n",
            "\n",
            "If you intended to run this layer in float32, you can safely ignore this warning. If in doubt, this warning is likely only an issue if you are porting a TensorFlow 1.X model to TensorFlow 2.\n",
            "\n",
            "To change all layers to have dtype float64 by default, call `tf.keras.backend.set_floatx('float64')`. To change just this layer, pass dtype='float64' to the layer constructor. If you are the author of this layer, you can disable autocasting by passing autocast=False to the base Layer constructor.\n",
            "\n",
            "19/19 [==============================] - 1s 48ms/step - loss: 0.5047 - val_loss: 21.8142\n",
            "Epoch 2/30\n",
            "19/19 [==============================] - 0s 11ms/step - loss: 0.0563 - val_loss: 4.0202\n",
            "Epoch 3/30\n",
            "19/19 [==============================] - 0s 10ms/step - loss: 0.1321 - val_loss: 7.5540\n",
            "Epoch 4/30\n",
            "19/19 [==============================] - 0s 11ms/step - loss: 0.1917 - val_loss: 3.5322\n",
            "Epoch 5/30\n",
            "19/19 [==============================] - 0s 10ms/step - loss: 0.3889 - val_loss: 18.6477\n",
            "Epoch 6/30\n",
            "19/19 [==============================] - 0s 12ms/step - loss: 0.1210 - val_loss: 11.8603\n",
            "Epoch 7/30\n",
            "19/19 [==============================] - 0s 9ms/step - loss: 0.0309 - val_loss: 6.4671\n",
            "Epoch 8/30\n",
            "19/19 [==============================] - 0s 10ms/step - loss: 0.0093 - val_loss: 6.7598\n",
            "Epoch 9/30\n",
            "19/19 [==============================] - 0s 9ms/step - loss: 0.0202 - val_loss: 6.4970\n",
            "Epoch 10/30\n",
            "19/19 [==============================] - 0s 9ms/step - loss: 0.0420 - val_loss: 7.4062\n",
            "Epoch 11/30\n",
            "19/19 [==============================] - 0s 12ms/step - loss: 0.0659 - val_loss: 5.7757\n",
            "Epoch 12/30\n",
            "19/19 [==============================] - 0s 10ms/step - loss: 0.1040 - val_loss: 9.3792\n",
            "Epoch 13/30\n",
            "19/19 [==============================] - 0s 9ms/step - loss: 0.0311 - val_loss: 5.4506\n",
            "Epoch 14/30\n",
            "19/19 [==============================] - 0s 9ms/step - loss: 0.0606 - val_loss: 7.3381\n",
            "Epoch 15/30\n",
            "19/19 [==============================] - 0s 9ms/step - loss: 0.0496 - val_loss: 4.7236\n",
            "Epoch 16/30\n",
            "19/19 [==============================] - 0s 9ms/step - loss: 0.0699 - val_loss: 7.8865\n",
            "Epoch 17/30\n",
            "19/19 [==============================] - 0s 9ms/step - loss: 0.0388 - val_loss: 4.8124\n",
            "Epoch 18/30\n",
            "19/19 [==============================] - 0s 9ms/step - loss: 0.0455 - val_loss: 7.0849\n",
            "Epoch 19/30\n",
            "19/19 [==============================] - 0s 9ms/step - loss: 0.0443 - val_loss: 4.8467\n",
            "Epoch 20/30\n",
            "19/19 [==============================] - 0s 9ms/step - loss: 0.1072 - val_loss: 9.2257\n",
            "Epoch 21/30\n",
            "19/19 [==============================] - 0s 9ms/step - loss: 0.0273 - val_loss: 5.2754\n",
            "Epoch 22/30\n",
            "19/19 [==============================] - 0s 9ms/step - loss: 0.0280 - val_loss: 7.1114\n",
            "Epoch 23/30\n",
            "19/19 [==============================] - 0s 9ms/step - loss: 0.0146 - val_loss: 4.8556\n",
            "Epoch 24/30\n",
            "19/19 [==============================] - 0s 9ms/step - loss: 0.0082 - val_loss: 5.5302\n",
            "Epoch 25/30\n",
            "19/19 [==============================] - 0s 9ms/step - loss: 0.0103 - val_loss: 5.1907\n",
            "Epoch 26/30\n",
            "19/19 [==============================] - 0s 9ms/step - loss: 0.0149 - val_loss: 4.4016\n",
            "Epoch 27/30\n",
            "19/19 [==============================] - 0s 10ms/step - loss: 0.0090 - val_loss: 4.2541\n",
            "Epoch 28/30\n",
            "19/19 [==============================] - 0s 9ms/step - loss: 0.0066 - val_loss: 4.6355\n",
            "Epoch 29/30\n",
            "19/19 [==============================] - 0s 9ms/step - loss: 0.0120 - val_loss: 4.1708\n",
            "Epoch 30/30\n",
            "19/19 [==============================] - 0s 9ms/step - loss: 0.0128 - val_loss: 4.1859\n",
            "wandb: Agent Finished Run: ne7u8crh \n",
            "\n",
            "wandb: Agent Starting Run: aasiichx with config:\n",
            "\tbatch_size: 3\n",
            "\tlearn: 0.002\n",
            "wandb: Agent Started Run: aasiichx\n"
          ],
          "name": "stdout"
        },
        {
          "output_type": "stream",
          "text": [
            "\u001b[34m\u001b[1mwandb\u001b[0m: \u001b[33mWARNING\u001b[0m Ignoring project='covid-forecast' passed to wandb.init when running a sweep\n",
            "\u001b[34m\u001b[1mwandb\u001b[0m: \u001b[33mWARNING\u001b[0m Ignoring project='covid-forecast' passed to wandb.init when running a sweep\n"
          ],
          "name": "stderr"
        },
        {
          "output_type": "display_data",
          "data": {
            "text/html": [
              "\n",
              "                Logging results to <a href=\"https://wandb.com\" target=\"_blank\">Weights & Biases</a> <a href=\"https://docs.wandb.com/integrations/jupyter.html\" target=\"_blank\">(Documentation)</a>.<br/>\n",
              "                Project page: <a href=\"https://app.wandb.ai/igodfried/uncategorized\" target=\"_blank\">https://app.wandb.ai/igodfried/uncategorized</a><br/>\n",
              "                Sweep page: <a href=\"https://app.wandb.ai/igodfried/uncategorized/sweeps/sz2r7l4w\" target=\"_blank\">https://app.wandb.ai/igodfried/uncategorized/sweeps/sz2r7l4w</a><br/>\n",
              "Run page: <a href=\"https://app.wandb.ai/igodfried/uncategorized/runs/aasiichx\" target=\"_blank\">https://app.wandb.ai/igodfried/uncategorized/runs/aasiichx</a><br/>\n",
              "            "
            ],
            "text/plain": [
              "<IPython.core.display.HTML object>"
            ]
          },
          "metadata": {
            "tags": []
          }
        },
        {
          "output_type": "stream",
          "text": [
            "Epoch 1/30\n",
            "WARNING:tensorflow:Layer bidirectional is casting an input tensor from dtype float64 to the layer's dtype of float32, which is new behavior in TensorFlow 2.  The layer has dtype float32 because it's dtype defaults to floatx.\n",
            "\n",
            "If you intended to run this layer in float32, you can safely ignore this warning. If in doubt, this warning is likely only an issue if you are porting a TensorFlow 1.X model to TensorFlow 2.\n",
            "\n",
            "To change all layers to have dtype float64 by default, call `tf.keras.backend.set_floatx('float64')`. To change just this layer, pass dtype='float64' to the layer constructor. If you are the author of this layer, you can disable autocasting by passing autocast=False to the base Layer constructor.\n",
            "\n",
            "19/19 [==============================] - 1s 47ms/step - loss: 0.3354 - val_loss: 12.7544\n",
            "Epoch 2/30\n",
            "19/19 [==============================] - 0s 10ms/step - loss: 0.1879 - val_loss: 2.2984\n",
            "Epoch 3/30\n",
            "19/19 [==============================] - 0s 10ms/step - loss: 0.8728 - val_loss: 30.8242\n",
            "Epoch 4/30\n",
            "19/19 [==============================] - 0s 9ms/step - loss: 0.2668 - val_loss: 15.4696\n",
            "Epoch 5/30\n",
            "19/19 [==============================] - 0s 10ms/step - loss: 0.0575 - val_loss: 5.9968\n",
            "Epoch 6/30\n",
            "19/19 [==============================] - 0s 11ms/step - loss: 0.0839 - val_loss: 6.8091\n",
            "Epoch 7/30\n",
            "19/19 [==============================] - 0s 9ms/step - loss: 0.1298 - val_loss: 6.2294\n",
            "Epoch 8/30\n",
            "19/19 [==============================] - 0s 9ms/step - loss: 0.0530 - val_loss: 5.9376\n",
            "Epoch 9/30\n",
            "19/19 [==============================] - 0s 9ms/step - loss: 0.0186 - val_loss: 4.3533\n",
            "Epoch 10/30\n",
            "19/19 [==============================] - 0s 9ms/step - loss: 0.0563 - val_loss: 6.2870\n",
            "Epoch 11/30\n",
            "19/19 [==============================] - 0s 12ms/step - loss: 0.1326 - val_loss: 4.2522\n",
            "Epoch 12/30\n",
            "19/19 [==============================] - 0s 12ms/step - loss: 0.4650 - val_loss: 19.6231\n",
            "Epoch 13/30\n",
            "19/19 [==============================] - 0s 9ms/step - loss: 0.1435 - val_loss: 12.6760\n",
            "Epoch 14/30\n",
            "19/19 [==============================] - 0s 9ms/step - loss: 0.0317 - val_loss: 6.3787\n",
            "Epoch 15/30\n",
            "19/19 [==============================] - 0s 9ms/step - loss: 0.0104 - val_loss: 6.7800\n",
            "Epoch 16/30\n",
            "19/19 [==============================] - 0s 9ms/step - loss: 0.0214 - val_loss: 6.4105\n",
            "Epoch 17/30\n",
            "19/19 [==============================] - 0s 9ms/step - loss: 0.0094 - val_loss: 5.7827\n",
            "Epoch 18/30\n",
            "19/19 [==============================] - 0s 10ms/step - loss: 0.0063 - val_loss: 5.5620\n",
            "Epoch 19/30\n",
            "19/19 [==============================] - 0s 10ms/step - loss: 0.0144 - val_loss: 5.0524\n",
            "Epoch 20/30\n",
            "19/19 [==============================] - 0s 9ms/step - loss: 0.0145 - val_loss: 5.4152\n",
            "Epoch 21/30\n",
            "19/19 [==============================] - 0s 10ms/step - loss: 0.0225 - val_loss: 4.0417\n",
            "Epoch 22/30\n",
            "19/19 [==============================] - 0s 9ms/step - loss: 0.0500 - val_loss: 6.4513\n",
            "Epoch 23/30\n",
            "19/19 [==============================] - 0s 9ms/step - loss: 0.0490 - val_loss: 3.8604\n",
            "Epoch 24/30\n",
            "19/19 [==============================] - 0s 9ms/step - loss: 0.0866 - val_loss: 6.7241\n",
            "Epoch 25/30\n",
            "19/19 [==============================] - 0s 9ms/step - loss: 0.0495 - val_loss: 3.6842\n",
            "Epoch 26/30\n",
            "19/19 [==============================] - 0s 11ms/step - loss: 0.0444 - val_loss: 6.9609\n",
            "Epoch 27/30\n",
            "19/19 [==============================] - 0s 9ms/step - loss: 0.0307 - val_loss: 4.3415\n",
            "Epoch 28/30\n",
            "19/19 [==============================] - 0s 9ms/step - loss: 0.0295 - val_loss: 5.4212\n",
            "Epoch 29/30\n",
            "19/19 [==============================] - 0s 9ms/step - loss: 0.0362 - val_loss: 3.8581\n",
            "Epoch 30/30\n",
            "19/19 [==============================] - 0s 9ms/step - loss: 0.0921 - val_loss: 7.9657\n",
            "wandb: Agent Finished Run: aasiichx \n",
            "\n",
            "wandb: Agent Starting Run: 828sq9mr with config:\n",
            "\tbatch_size: 3\n",
            "\tlearn: 0.003\n",
            "wandb: Agent Started Run: 828sq9mr\n"
          ],
          "name": "stdout"
        },
        {
          "output_type": "stream",
          "text": [
            "\u001b[34m\u001b[1mwandb\u001b[0m: \u001b[33mWARNING\u001b[0m Ignoring project='covid-forecast' passed to wandb.init when running a sweep\n",
            "\u001b[34m\u001b[1mwandb\u001b[0m: \u001b[33mWARNING\u001b[0m Ignoring project='covid-forecast' passed to wandb.init when running a sweep\n"
          ],
          "name": "stderr"
        },
        {
          "output_type": "display_data",
          "data": {
            "text/html": [
              "\n",
              "                Logging results to <a href=\"https://wandb.com\" target=\"_blank\">Weights & Biases</a> <a href=\"https://docs.wandb.com/integrations/jupyter.html\" target=\"_blank\">(Documentation)</a>.<br/>\n",
              "                Project page: <a href=\"https://app.wandb.ai/igodfried/uncategorized\" target=\"_blank\">https://app.wandb.ai/igodfried/uncategorized</a><br/>\n",
              "                Sweep page: <a href=\"https://app.wandb.ai/igodfried/uncategorized/sweeps/sz2r7l4w\" target=\"_blank\">https://app.wandb.ai/igodfried/uncategorized/sweeps/sz2r7l4w</a><br/>\n",
              "Run page: <a href=\"https://app.wandb.ai/igodfried/uncategorized/runs/828sq9mr\" target=\"_blank\">https://app.wandb.ai/igodfried/uncategorized/runs/828sq9mr</a><br/>\n",
              "            "
            ],
            "text/plain": [
              "<IPython.core.display.HTML object>"
            ]
          },
          "metadata": {
            "tags": []
          }
        },
        {
          "output_type": "stream",
          "text": [
            "Epoch 1/30\n",
            "WARNING:tensorflow:Layer bidirectional is casting an input tensor from dtype float64 to the layer's dtype of float32, which is new behavior in TensorFlow 2.  The layer has dtype float32 because it's dtype defaults to floatx.\n",
            "\n",
            "If you intended to run this layer in float32, you can safely ignore this warning. If in doubt, this warning is likely only an issue if you are porting a TensorFlow 1.X model to TensorFlow 2.\n",
            "\n",
            "To change all layers to have dtype float64 by default, call `tf.keras.backend.set_floatx('float64')`. To change just this layer, pass dtype='float64' to the layer constructor. If you are the author of this layer, you can disable autocasting by passing autocast=False to the base Layer constructor.\n",
            "\n",
            "19/19 [==============================] - 1s 48ms/step - loss: 0.1364 - val_loss: 3.9718\n",
            "Epoch 2/30\n",
            "19/19 [==============================] - 0s 11ms/step - loss: 0.4265 - val_loss: 2.6598\n",
            "Epoch 3/30\n",
            "19/19 [==============================] - 0s 10ms/step - loss: 0.9670 - val_loss: 20.4074\n",
            "Epoch 4/30\n",
            "19/19 [==============================] - 0s 9ms/step - loss: 0.0372 - val_loss: 6.7785\n",
            "Epoch 5/30\n",
            "19/19 [==============================] - 0s 11ms/step - loss: 0.1639 - val_loss: 6.4864\n",
            "Epoch 6/30\n",
            "19/19 [==============================] - 0s 11ms/step - loss: 0.1920 - val_loss: 9.3274\n",
            "Epoch 7/30\n",
            "19/19 [==============================] - 0s 9ms/step - loss: 0.0878 - val_loss: 4.9462\n",
            "Epoch 8/30\n",
            "19/19 [==============================] - 0s 9ms/step - loss: 0.3502 - val_loss: 14.4437\n",
            "Epoch 9/30\n",
            "19/19 [==============================] - 0s 9ms/step - loss: 0.0193 - val_loss: 6.5644\n",
            "Epoch 10/30\n",
            "19/19 [==============================] - 0s 10ms/step - loss: 0.0210 - val_loss: 5.7496\n",
            "Epoch 11/30\n",
            "19/19 [==============================] - 0s 13ms/step - loss: 0.0221 - val_loss: 6.0285\n",
            "Epoch 12/30\n",
            "19/19 [==============================] - 0s 10ms/step - loss: 0.0490 - val_loss: 4.6202\n",
            "Epoch 13/30\n",
            "19/19 [==============================] - 0s 9ms/step - loss: 0.1621 - val_loss: 11.0447\n",
            "Epoch 14/30\n",
            "19/19 [==============================] - 0s 9ms/step - loss: 0.0373 - val_loss: 5.7090\n",
            "Epoch 15/30\n",
            "19/19 [==============================] - 0s 9ms/step - loss: 0.0416 - val_loss: 7.5352\n",
            "Epoch 16/30\n",
            "19/19 [==============================] - 0s 10ms/step - loss: 0.0444 - val_loss: 5.3040\n",
            "Epoch 17/30\n",
            "19/19 [==============================] - 0s 9ms/step - loss: 0.1335 - val_loss: 9.6106\n",
            "Epoch 18/30\n",
            "19/19 [==============================] - 0s 9ms/step - loss: 0.0523 - val_loss: 5.1019\n",
            "Epoch 19/30\n",
            "19/19 [==============================] - 0s 9ms/step - loss: 0.0418 - val_loss: 7.3014\n",
            "Epoch 20/30\n",
            "19/19 [==============================] - 0s 10ms/step - loss: 0.0255 - val_loss: 5.0702\n",
            "Epoch 21/30\n",
            "19/19 [==============================] - 0s 9ms/step - loss: 0.0085 - val_loss: 5.5518\n",
            "Epoch 22/30\n",
            "19/19 [==============================] - 0s 10ms/step - loss: 0.0202 - val_loss: 5.6246\n",
            "Epoch 23/30\n",
            "19/19 [==============================] - 0s 9ms/step - loss: 0.0276 - val_loss: 4.3729\n",
            "Epoch 24/30\n",
            "19/19 [==============================] - 0s 9ms/step - loss: 0.0170 - val_loss: 3.6907\n",
            "Epoch 25/30\n",
            "19/19 [==============================] - 0s 10ms/step - loss: 0.0350 - val_loss: 5.3013\n",
            "Epoch 26/30\n",
            "19/19 [==============================] - 0s 10ms/step - loss: 0.0618 - val_loss: 3.6988\n",
            "Epoch 27/30\n",
            "19/19 [==============================] - 0s 9ms/step - loss: 0.1887 - val_loss: 10.2088\n",
            "Epoch 28/30\n",
            "19/19 [==============================] - 0s 10ms/step - loss: 0.0254 - val_loss: 5.3444\n",
            "Epoch 29/30\n",
            "19/19 [==============================] - 0s 10ms/step - loss: 0.0521 - val_loss: 7.4381\n",
            "Epoch 30/30\n",
            "19/19 [==============================] - 0s 10ms/step - loss: 0.0400 - val_loss: 4.6319\n",
            "wandb: Agent Finished Run: 828sq9mr \n",
            "\n",
            "wandb: Agent Starting Run: 5zldaje8 with config:\n",
            "\tbatch_size: 3\n",
            "\tlearn: 0.004\n",
            "wandb: Agent Started Run: 5zldaje8\n"
          ],
          "name": "stdout"
        },
        {
          "output_type": "stream",
          "text": [
            "\u001b[34m\u001b[1mwandb\u001b[0m: \u001b[33mWARNING\u001b[0m Ignoring project='covid-forecast' passed to wandb.init when running a sweep\n",
            "\u001b[34m\u001b[1mwandb\u001b[0m: \u001b[33mWARNING\u001b[0m Ignoring project='covid-forecast' passed to wandb.init when running a sweep\n"
          ],
          "name": "stderr"
        },
        {
          "output_type": "display_data",
          "data": {
            "text/html": [
              "\n",
              "                Logging results to <a href=\"https://wandb.com\" target=\"_blank\">Weights & Biases</a> <a href=\"https://docs.wandb.com/integrations/jupyter.html\" target=\"_blank\">(Documentation)</a>.<br/>\n",
              "                Project page: <a href=\"https://app.wandb.ai/igodfried/uncategorized\" target=\"_blank\">https://app.wandb.ai/igodfried/uncategorized</a><br/>\n",
              "                Sweep page: <a href=\"https://app.wandb.ai/igodfried/uncategorized/sweeps/sz2r7l4w\" target=\"_blank\">https://app.wandb.ai/igodfried/uncategorized/sweeps/sz2r7l4w</a><br/>\n",
              "Run page: <a href=\"https://app.wandb.ai/igodfried/uncategorized/runs/5zldaje8\" target=\"_blank\">https://app.wandb.ai/igodfried/uncategorized/runs/5zldaje8</a><br/>\n",
              "            "
            ],
            "text/plain": [
              "<IPython.core.display.HTML object>"
            ]
          },
          "metadata": {
            "tags": []
          }
        },
        {
          "output_type": "stream",
          "text": [
            "Epoch 1/30\n",
            "WARNING:tensorflow:Layer bidirectional is casting an input tensor from dtype float64 to the layer's dtype of float32, which is new behavior in TensorFlow 2.  The layer has dtype float32 because it's dtype defaults to floatx.\n",
            "\n",
            "If you intended to run this layer in float32, you can safely ignore this warning. If in doubt, this warning is likely only an issue if you are porting a TensorFlow 1.X model to TensorFlow 2.\n",
            "\n",
            "To change all layers to have dtype float64 by default, call `tf.keras.backend.set_floatx('float64')`. To change just this layer, pass dtype='float64' to the layer constructor. If you are the author of this layer, you can disable autocasting by passing autocast=False to the base Layer constructor.\n",
            "\n",
            "19/19 [==============================] - 1s 48ms/step - loss: 0.0549 - val_loss: 5.8718\n",
            "Epoch 2/30\n",
            "19/19 [==============================] - 0s 10ms/step - loss: 0.0753 - val_loss: 2.2201\n",
            "Epoch 3/30\n",
            "19/19 [==============================] - 0s 11ms/step - loss: 0.1377 - val_loss: 1.8927\n",
            "Epoch 4/30\n",
            "19/19 [==============================] - 0s 10ms/step - loss: 0.5797 - val_loss: 14.4009\n",
            "Epoch 5/30\n",
            "19/19 [==============================] - 0s 10ms/step - loss: 0.1509 - val_loss: 5.9510\n",
            "Epoch 6/30\n",
            "19/19 [==============================] - 0s 11ms/step - loss: 0.2624 - val_loss: 4.6146\n",
            "Epoch 7/30\n",
            "19/19 [==============================] - 0s 10ms/step - loss: 0.0692 - val_loss: 1.7508\n",
            "Epoch 8/30\n",
            "19/19 [==============================] - 0s 9ms/step - loss: 0.0651 - val_loss: 1.7730\n",
            "Epoch 9/30\n",
            "19/19 [==============================] - 0s 9ms/step - loss: 0.1570 - val_loss: 3.8379\n",
            "Epoch 10/30\n",
            "19/19 [==============================] - 0s 10ms/step - loss: 0.7390 - val_loss: 28.2694\n",
            "Epoch 11/30\n",
            "19/19 [==============================] - 0s 13ms/step - loss: 0.2101 - val_loss: 8.7613\n",
            "Epoch 12/30\n",
            "19/19 [==============================] - 0s 10ms/step - loss: 0.7183 - val_loss: 8.8149\n",
            "Epoch 13/30\n",
            "19/19 [==============================] - 0s 10ms/step - loss: 0.7063 - val_loss: 30.9361\n",
            "Epoch 14/30\n",
            "19/19 [==============================] - 0s 9ms/step - loss: 0.5804 - val_loss: 17.4256\n",
            "Epoch 15/30\n",
            "19/19 [==============================] - 0s 9ms/step - loss: 0.1477 - val_loss: 5.1570\n",
            "Epoch 16/30\n",
            "19/19 [==============================] - 0s 9ms/step - loss: 0.0535 - val_loss: 4.4159\n",
            "Epoch 17/30\n",
            "19/19 [==============================] - 0s 9ms/step - loss: 0.1977 - val_loss: 5.1085\n",
            "Epoch 18/30\n",
            "19/19 [==============================] - 0s 9ms/step - loss: 0.5904 - val_loss: 23.6861\n",
            "Epoch 19/30\n",
            "19/19 [==============================] - 0s 10ms/step - loss: 0.2824 - val_loss: 14.2590\n",
            "Epoch 20/30\n",
            "19/19 [==============================] - 0s 9ms/step - loss: 0.1014 - val_loss: 5.9791\n",
            "Epoch 21/30\n",
            "19/19 [==============================] - 0s 10ms/step - loss: 0.1436 - val_loss: 9.3849\n",
            "Epoch 22/30\n",
            "19/19 [==============================] - 0s 9ms/step - loss: 0.1207 - val_loss: 5.5441\n",
            "Epoch 23/30\n",
            "19/19 [==============================] - 0s 9ms/step - loss: 0.2124 - val_loss: 12.8298\n",
            "Epoch 24/30\n",
            "19/19 [==============================] - 0s 10ms/step - loss: 0.0240 - val_loss: 7.4162\n",
            "Epoch 25/30\n",
            "19/19 [==============================] - 0s 9ms/step - loss: 0.0445 - val_loss: 5.8727\n",
            "Epoch 26/30\n",
            "19/19 [==============================] - 0s 10ms/step - loss: 0.0152 - val_loss: 6.9895\n",
            "Epoch 27/30\n",
            "19/19 [==============================] - 0s 9ms/step - loss: 0.0259 - val_loss: 5.8712\n",
            "Epoch 28/30\n",
            "19/19 [==============================] - 0s 9ms/step - loss: 0.0188 - val_loss: 6.1569\n",
            "Epoch 29/30\n",
            "19/19 [==============================] - 0s 10ms/step - loss: 0.0316 - val_loss: 4.9162\n",
            "Epoch 30/30\n",
            "19/19 [==============================] - 0s 10ms/step - loss: 0.0539 - val_loss: 7.4028\n",
            "wandb: Agent Finished Run: 5zldaje8 \n",
            "\n",
            "wandb: Agent Starting Run: joqzxcuv with config:\n",
            "\tbatch_size: 3\n",
            "\tlearn: 0.01\n",
            "wandb: Agent Started Run: joqzxcuv\n"
          ],
          "name": "stdout"
        },
        {
          "output_type": "stream",
          "text": [
            "\u001b[34m\u001b[1mwandb\u001b[0m: \u001b[33mWARNING\u001b[0m Ignoring project='covid-forecast' passed to wandb.init when running a sweep\n",
            "\u001b[34m\u001b[1mwandb\u001b[0m: \u001b[33mWARNING\u001b[0m Ignoring project='covid-forecast' passed to wandb.init when running a sweep\n"
          ],
          "name": "stderr"
        },
        {
          "output_type": "display_data",
          "data": {
            "text/html": [
              "\n",
              "                Logging results to <a href=\"https://wandb.com\" target=\"_blank\">Weights & Biases</a> <a href=\"https://docs.wandb.com/integrations/jupyter.html\" target=\"_blank\">(Documentation)</a>.<br/>\n",
              "                Project page: <a href=\"https://app.wandb.ai/igodfried/uncategorized\" target=\"_blank\">https://app.wandb.ai/igodfried/uncategorized</a><br/>\n",
              "                Sweep page: <a href=\"https://app.wandb.ai/igodfried/uncategorized/sweeps/sz2r7l4w\" target=\"_blank\">https://app.wandb.ai/igodfried/uncategorized/sweeps/sz2r7l4w</a><br/>\n",
              "Run page: <a href=\"https://app.wandb.ai/igodfried/uncategorized/runs/joqzxcuv\" target=\"_blank\">https://app.wandb.ai/igodfried/uncategorized/runs/joqzxcuv</a><br/>\n",
              "            "
            ],
            "text/plain": [
              "<IPython.core.display.HTML object>"
            ]
          },
          "metadata": {
            "tags": []
          }
        },
        {
          "output_type": "stream",
          "text": [
            "Epoch 1/30\n",
            "WARNING:tensorflow:Layer bidirectional is casting an input tensor from dtype float64 to the layer's dtype of float32, which is new behavior in TensorFlow 2.  The layer has dtype float32 because it's dtype defaults to floatx.\n",
            "\n",
            "If you intended to run this layer in float32, you can safely ignore this warning. If in doubt, this warning is likely only an issue if you are porting a TensorFlow 1.X model to TensorFlow 2.\n",
            "\n",
            "To change all layers to have dtype float64 by default, call `tf.keras.backend.set_floatx('float64')`. To change just this layer, pass dtype='float64' to the layer constructor. If you are the author of this layer, you can disable autocasting by passing autocast=False to the base Layer constructor.\n",
            "\n",
            "19/19 [==============================] - 1s 47ms/step - loss: 0.1316 - val_loss: 5.6258\n",
            "Epoch 2/30\n",
            "19/19 [==============================] - 0s 11ms/step - loss: 0.2179 - val_loss: 1.7402\n",
            "Epoch 3/30\n",
            "19/19 [==============================] - 0s 10ms/step - loss: 0.0496 - val_loss: 3.1510\n",
            "Epoch 4/30\n",
            "19/19 [==============================] - 0s 10ms/step - loss: 0.1826 - val_loss: 5.3884\n",
            "Epoch 5/30\n",
            "19/19 [==============================] - 0s 9ms/step - loss: 0.3395 - val_loss: 5.5990\n",
            "Epoch 6/30\n",
            "19/19 [==============================] - 0s 12ms/step - loss: 0.3612 - val_loss: 8.3654\n",
            "Epoch 7/30\n",
            "19/19 [==============================] - 0s 10ms/step - loss: 0.4038 - val_loss: 2.3801\n",
            "Epoch 8/30\n",
            "19/19 [==============================] - 0s 10ms/step - loss: 0.3468 - val_loss: 13.4954\n",
            "Epoch 9/30\n",
            "19/19 [==============================] - 0s 9ms/step - loss: 0.7863 - val_loss: 23.7296\n",
            "Epoch 10/30\n",
            "19/19 [==============================] - 0s 9ms/step - loss: 0.1428 - val_loss: 4.3443\n",
            "Epoch 11/30\n",
            "19/19 [==============================] - 0s 11ms/step - loss: 0.2384 - val_loss: 3.6370\n",
            "Epoch 12/30\n",
            "19/19 [==============================] - 0s 10ms/step - loss: 0.1642 - val_loss: 5.5275\n",
            "Epoch 13/30\n",
            "19/19 [==============================] - 0s 10ms/step - loss: 0.5248 - val_loss: 17.9812\n",
            "Epoch 14/30\n",
            "19/19 [==============================] - 0s 10ms/step - loss: 0.1099 - val_loss: 3.7364\n",
            "Epoch 15/30\n",
            "19/19 [==============================] - 0s 10ms/step - loss: 0.2075 - val_loss: 7.2902\n",
            "Epoch 16/30\n",
            "19/19 [==============================] - 0s 10ms/step - loss: 0.2252 - val_loss: 4.2489\n",
            "Epoch 17/30\n",
            "19/19 [==============================] - 0s 9ms/step - loss: 0.3631 - val_loss: 17.7304\n",
            "Epoch 18/30\n",
            "19/19 [==============================] - 0s 9ms/step - loss: 0.0814 - val_loss: 8.7137\n",
            "Epoch 19/30\n",
            "19/19 [==============================] - 0s 10ms/step - loss: 0.0916 - val_loss: 5.8009\n",
            "Epoch 20/30\n",
            "19/19 [==============================] - 0s 9ms/step - loss: 0.2205 - val_loss: 12.2389\n",
            "Epoch 21/30\n",
            "19/19 [==============================] - 0s 9ms/step - loss: 0.0302 - val_loss: 6.4038\n",
            "Epoch 22/30\n",
            "19/19 [==============================] - 0s 10ms/step - loss: 0.0294 - val_loss: 5.4347\n",
            "Epoch 23/30\n",
            "19/19 [==============================] - 0s 9ms/step - loss: 0.0533 - val_loss: 6.8663\n",
            "Epoch 24/30\n",
            "19/19 [==============================] - 0s 9ms/step - loss: 0.0365 - val_loss: 4.0872\n",
            "Epoch 25/30\n",
            "19/19 [==============================] - 0s 9ms/step - loss: 0.0547 - val_loss: 7.3409\n",
            "Epoch 26/30\n",
            "19/19 [==============================] - 0s 9ms/step - loss: 0.0276 - val_loss: 4.4435\n",
            "Epoch 27/30\n",
            "19/19 [==============================] - 0s 9ms/step - loss: 0.0301 - val_loss: 7.4143\n",
            "Epoch 28/30\n",
            "19/19 [==============================] - 0s 10ms/step - loss: 0.0121 - val_loss: 4.5544\n",
            "Epoch 29/30\n",
            "19/19 [==============================] - 0s 9ms/step - loss: 0.0195 - val_loss: 4.9489\n",
            "Epoch 30/30\n",
            "19/19 [==============================] - 0s 9ms/step - loss: 0.0261 - val_loss: 3.2884\n",
            "wandb: Agent Finished Run: joqzxcuv \n",
            "\n",
            "wandb: Agent Starting Run: 1ad2ute8 with config:\n",
            "\tbatch_size: 4\n",
            "\tlearn: 0.001\n",
            "wandb: Agent Started Run: 1ad2ute8\n"
          ],
          "name": "stdout"
        },
        {
          "output_type": "stream",
          "text": [
            "\u001b[34m\u001b[1mwandb\u001b[0m: \u001b[33mWARNING\u001b[0m Ignoring project='covid-forecast' passed to wandb.init when running a sweep\n",
            "\u001b[34m\u001b[1mwandb\u001b[0m: \u001b[33mWARNING\u001b[0m Ignoring project='covid-forecast' passed to wandb.init when running a sweep\n"
          ],
          "name": "stderr"
        },
        {
          "output_type": "display_data",
          "data": {
            "text/html": [
              "\n",
              "                Logging results to <a href=\"https://wandb.com\" target=\"_blank\">Weights & Biases</a> <a href=\"https://docs.wandb.com/integrations/jupyter.html\" target=\"_blank\">(Documentation)</a>.<br/>\n",
              "                Project page: <a href=\"https://app.wandb.ai/igodfried/uncategorized\" target=\"_blank\">https://app.wandb.ai/igodfried/uncategorized</a><br/>\n",
              "                Sweep page: <a href=\"https://app.wandb.ai/igodfried/uncategorized/sweeps/sz2r7l4w\" target=\"_blank\">https://app.wandb.ai/igodfried/uncategorized/sweeps/sz2r7l4w</a><br/>\n",
              "Run page: <a href=\"https://app.wandb.ai/igodfried/uncategorized/runs/1ad2ute8\" target=\"_blank\">https://app.wandb.ai/igodfried/uncategorized/runs/1ad2ute8</a><br/>\n",
              "            "
            ],
            "text/plain": [
              "<IPython.core.display.HTML object>"
            ]
          },
          "metadata": {
            "tags": []
          }
        },
        {
          "output_type": "stream",
          "text": [
            "Epoch 1/30\n",
            "WARNING:tensorflow:Layer bidirectional is casting an input tensor from dtype float64 to the layer's dtype of float32, which is new behavior in TensorFlow 2.  The layer has dtype float32 because it's dtype defaults to floatx.\n",
            "\n",
            "If you intended to run this layer in float32, you can safely ignore this warning. If in doubt, this warning is likely only an issue if you are porting a TensorFlow 1.X model to TensorFlow 2.\n",
            "\n",
            "To change all layers to have dtype float64 by default, call `tf.keras.backend.set_floatx('float64')`. To change just this layer, pass dtype='float64' to the layer constructor. If you are the author of this layer, you can disable autocasting by passing autocast=False to the base Layer constructor.\n",
            "\n",
            "14/14 [==============================] - 1s 64ms/step - loss: 0.6340 - val_loss: 29.7070\n",
            "Epoch 2/30\n",
            "14/14 [==============================] - 0s 11ms/step - loss: 0.1834 - val_loss: 12.5767\n",
            "Epoch 3/30\n",
            "14/14 [==============================] - 0s 12ms/step - loss: 0.0300 - val_loss: 3.3162\n",
            "Epoch 4/30\n",
            "14/14 [==============================] - 0s 14ms/step - loss: 0.0324 - val_loss: 2.9804\n",
            "Epoch 5/30\n",
            "14/14 [==============================] - 0s 10ms/step - loss: 0.0408 - val_loss: 3.7650\n",
            "Epoch 6/30\n",
            "14/14 [==============================] - 0s 11ms/step - loss: 0.0247 - val_loss: 2.5130\n",
            "Epoch 7/30\n",
            "14/14 [==============================] - 0s 10ms/step - loss: 0.0221 - val_loss: 3.8391\n",
            "Epoch 8/30\n",
            "14/14 [==============================] - 0s 12ms/step - loss: 0.0383 - val_loss: 2.1641\n",
            "Epoch 9/30\n",
            "14/14 [==============================] - 0s 11ms/step - loss: 0.0717 - val_loss: 6.7827\n",
            "Epoch 10/30\n",
            "14/14 [==============================] - 0s 10ms/step - loss: 0.0080 - val_loss: 3.2279\n",
            "Epoch 11/30\n",
            "14/14 [==============================] - 0s 12ms/step - loss: 0.0083 - val_loss: 3.8908\n",
            "Epoch 12/30\n",
            "14/14 [==============================] - 0s 9ms/step - loss: 0.0112 - val_loss: 3.8286\n",
            "Epoch 13/30\n",
            "14/14 [==============================] - 0s 9ms/step - loss: 0.0183 - val_loss: 2.6950\n",
            "Epoch 14/30\n",
            "14/14 [==============================] - 0s 10ms/step - loss: 0.0238 - val_loss: 5.1787\n",
            "Epoch 15/30\n",
            "14/14 [==============================] - 0s 13ms/step - loss: 0.0077 - val_loss: 3.2271\n",
            "Epoch 16/30\n",
            "14/14 [==============================] - 0s 12ms/step - loss: 0.0104 - val_loss: 4.0635\n",
            "Epoch 17/30\n",
            "14/14 [==============================] - 0s 11ms/step - loss: 0.0095 - val_loss: 3.4213\n",
            "Epoch 18/30\n",
            "14/14 [==============================] - 0s 10ms/step - loss: 0.0145 - val_loss: 4.0551\n",
            "Epoch 19/30\n",
            "14/14 [==============================] - 0s 10ms/step - loss: 0.0132 - val_loss: 2.9625\n",
            "Epoch 20/30\n",
            "14/14 [==============================] - 0s 11ms/step - loss: 0.0098 - val_loss: 3.6949\n",
            "Epoch 21/30\n",
            "14/14 [==============================] - 0s 10ms/step - loss: 0.0184 - val_loss: 2.7141\n",
            "Epoch 22/30\n",
            "14/14 [==============================] - 0s 10ms/step - loss: 0.0080 - val_loss: 3.2943\n",
            "Epoch 23/30\n",
            "14/14 [==============================] - 0s 11ms/step - loss: 0.0097 - val_loss: 2.4514\n",
            "Epoch 24/30\n",
            "14/14 [==============================] - 0s 10ms/step - loss: 0.0143 - val_loss: 3.4241\n",
            "Epoch 25/30\n",
            "14/14 [==============================] - 0s 9ms/step - loss: 0.0163 - val_loss: 2.3714\n",
            "Epoch 26/30\n",
            "14/14 [==============================] - 0s 9ms/step - loss: 0.0536 - val_loss: 5.7220\n",
            "Epoch 27/30\n",
            "14/14 [==============================] - 0s 11ms/step - loss: 0.0388 - val_loss: 2.7832\n",
            "Epoch 28/30\n",
            "14/14 [==============================] - 0s 10ms/step - loss: 0.0975 - val_loss: 7.3954\n",
            "Epoch 29/30\n",
            "14/14 [==============================] - 0s 10ms/step - loss: 0.0287 - val_loss: 3.2278\n",
            "Epoch 30/30\n",
            "14/14 [==============================] - 0s 10ms/step - loss: 0.0119 - val_loss: 4.3324\n",
            "wandb: Agent Finished Run: 1ad2ute8 \n",
            "\n",
            "wandb: Agent Starting Run: 44tcdsuf with config:\n",
            "\tbatch_size: 4\n",
            "\tlearn: 0.0015\n",
            "wandb: Agent Started Run: 44tcdsuf\n"
          ],
          "name": "stdout"
        },
        {
          "output_type": "stream",
          "text": [
            "\u001b[34m\u001b[1mwandb\u001b[0m: \u001b[33mWARNING\u001b[0m Ignoring project='covid-forecast' passed to wandb.init when running a sweep\n",
            "\u001b[34m\u001b[1mwandb\u001b[0m: \u001b[33mWARNING\u001b[0m Ignoring project='covid-forecast' passed to wandb.init when running a sweep\n"
          ],
          "name": "stderr"
        },
        {
          "output_type": "display_data",
          "data": {
            "text/html": [
              "\n",
              "                Logging results to <a href=\"https://wandb.com\" target=\"_blank\">Weights & Biases</a> <a href=\"https://docs.wandb.com/integrations/jupyter.html\" target=\"_blank\">(Documentation)</a>.<br/>\n",
              "                Project page: <a href=\"https://app.wandb.ai/igodfried/uncategorized\" target=\"_blank\">https://app.wandb.ai/igodfried/uncategorized</a><br/>\n",
              "                Sweep page: <a href=\"https://app.wandb.ai/igodfried/uncategorized/sweeps/sz2r7l4w\" target=\"_blank\">https://app.wandb.ai/igodfried/uncategorized/sweeps/sz2r7l4w</a><br/>\n",
              "Run page: <a href=\"https://app.wandb.ai/igodfried/uncategorized/runs/44tcdsuf\" target=\"_blank\">https://app.wandb.ai/igodfried/uncategorized/runs/44tcdsuf</a><br/>\n",
              "            "
            ],
            "text/plain": [
              "<IPython.core.display.HTML object>"
            ]
          },
          "metadata": {
            "tags": []
          }
        },
        {
          "output_type": "stream",
          "text": [
            "Epoch 1/30\n",
            "WARNING:tensorflow:Layer bidirectional is casting an input tensor from dtype float64 to the layer's dtype of float32, which is new behavior in TensorFlow 2.  The layer has dtype float32 because it's dtype defaults to floatx.\n",
            "\n",
            "If you intended to run this layer in float32, you can safely ignore this warning. If in doubt, this warning is likely only an issue if you are porting a TensorFlow 1.X model to TensorFlow 2.\n",
            "\n",
            "To change all layers to have dtype float64 by default, call `tf.keras.backend.set_floatx('float64')`. To change just this layer, pass dtype='float64' to the layer constructor. If you are the author of this layer, you can disable autocasting by passing autocast=False to the base Layer constructor.\n",
            "\n",
            "14/14 [==============================] - 1s 65ms/step - loss: 0.6301 - val_loss: 28.9900\n",
            "Epoch 2/30\n",
            "14/14 [==============================] - 0s 11ms/step - loss: 0.0673 - val_loss: 7.2441\n",
            "Epoch 3/30\n",
            "14/14 [==============================] - 0s 13ms/step - loss: 0.1796 - val_loss: 1.4784\n",
            "Epoch 4/30\n",
            "14/14 [==============================] - 0s 10ms/step - loss: 0.2351 - val_loss: 13.4121\n",
            "Epoch 5/30\n",
            "14/14 [==============================] - 0s 9ms/step - loss: 0.1001 - val_loss: 9.2243\n",
            "Epoch 6/30\n",
            "14/14 [==============================] - 0s 9ms/step - loss: 0.0137 - val_loss: 4.5483\n",
            "Epoch 7/30\n",
            "14/14 [==============================] - 0s 9ms/step - loss: 0.0108 - val_loss: 4.3063\n",
            "Epoch 8/30\n",
            "14/14 [==============================] - 0s 9ms/step - loss: 0.0138 - val_loss: 4.9035\n",
            "Epoch 9/30\n",
            "14/14 [==============================] - 0s 10ms/step - loss: 0.0199 - val_loss: 4.0571\n",
            "Epoch 10/30\n",
            "14/14 [==============================] - 0s 10ms/step - loss: 0.0433 - val_loss: 5.8199\n",
            "Epoch 11/30\n",
            "14/14 [==============================] - 0s 9ms/step - loss: 0.0295 - val_loss: 4.2687\n",
            "Epoch 12/30\n",
            "14/14 [==============================] - 0s 9ms/step - loss: 0.0130 - val_loss: 4.9337\n",
            "Epoch 13/30\n",
            "14/14 [==============================] - 0s 9ms/step - loss: 0.0182 - val_loss: 4.2267\n",
            "Epoch 14/30\n",
            "14/14 [==============================] - 0s 9ms/step - loss: 0.0144 - val_loss: 3.4271\n",
            "Epoch 15/30\n",
            "14/14 [==============================] - 0s 9ms/step - loss: 0.0205 - val_loss: 4.7773\n",
            "Epoch 16/30\n",
            "14/14 [==============================] - 0s 9ms/step - loss: 0.0115 - val_loss: 3.1611\n",
            "Epoch 17/30\n",
            "14/14 [==============================] - 0s 10ms/step - loss: 0.0159 - val_loss: 4.0115\n",
            "Epoch 18/30\n",
            "14/14 [==============================] - 0s 11ms/step - loss: 0.0183 - val_loss: 2.5814\n",
            "Epoch 19/30\n",
            "14/14 [==============================] - 0s 10ms/step - loss: 0.0263 - val_loss: 4.2748\n",
            "Epoch 20/30\n",
            "14/14 [==============================] - 0s 9ms/step - loss: 0.0296 - val_loss: 2.5333\n",
            "Epoch 21/30\n",
            "14/14 [==============================] - 0s 9ms/step - loss: 0.0717 - val_loss: 6.8544\n",
            "Epoch 22/30\n",
            "14/14 [==============================] - 0s 9ms/step - loss: 0.0180 - val_loss: 3.2961\n",
            "Epoch 23/30\n",
            "14/14 [==============================] - 0s 9ms/step - loss: 0.0125 - val_loss: 4.2765\n",
            "Epoch 24/30\n",
            "14/14 [==============================] - 0s 9ms/step - loss: 0.0069 - val_loss: 3.2183\n",
            "Epoch 25/30\n",
            "14/14 [==============================] - 0s 9ms/step - loss: 0.0188 - val_loss: 4.2253\n",
            "Epoch 26/30\n",
            "14/14 [==============================] - 0s 9ms/step - loss: 0.0243 - val_loss: 3.0353\n",
            "Epoch 27/30\n",
            "14/14 [==============================] - 0s 9ms/step - loss: 0.0421 - val_loss: 5.7802\n",
            "Epoch 28/30\n",
            "14/14 [==============================] - 0s 10ms/step - loss: 0.0339 - val_loss: 3.1168\n",
            "Epoch 29/30\n",
            "14/14 [==============================] - 0s 9ms/step - loss: 0.0464 - val_loss: 6.2736\n",
            "Epoch 30/30\n",
            "14/14 [==============================] - 0s 9ms/step - loss: 0.0153 - val_loss: 3.3188\n",
            "wandb: Agent Finished Run: 44tcdsuf \n",
            "\n",
            "wandb: Agent Starting Run: 9a14qmbs with config:\n",
            "\tbatch_size: 4\n",
            "\tlearn: 0.002\n",
            "wandb: Agent Started Run: 9a14qmbs\n"
          ],
          "name": "stdout"
        },
        {
          "output_type": "stream",
          "text": [
            "\u001b[34m\u001b[1mwandb\u001b[0m: \u001b[33mWARNING\u001b[0m Ignoring project='covid-forecast' passed to wandb.init when running a sweep\n",
            "\u001b[34m\u001b[1mwandb\u001b[0m: \u001b[33mWARNING\u001b[0m Ignoring project='covid-forecast' passed to wandb.init when running a sweep\n"
          ],
          "name": "stderr"
        },
        {
          "output_type": "display_data",
          "data": {
            "text/html": [
              "\n",
              "                Logging results to <a href=\"https://wandb.com\" target=\"_blank\">Weights & Biases</a> <a href=\"https://docs.wandb.com/integrations/jupyter.html\" target=\"_blank\">(Documentation)</a>.<br/>\n",
              "                Project page: <a href=\"https://app.wandb.ai/igodfried/uncategorized\" target=\"_blank\">https://app.wandb.ai/igodfried/uncategorized</a><br/>\n",
              "                Sweep page: <a href=\"https://app.wandb.ai/igodfried/uncategorized/sweeps/sz2r7l4w\" target=\"_blank\">https://app.wandb.ai/igodfried/uncategorized/sweeps/sz2r7l4w</a><br/>\n",
              "Run page: <a href=\"https://app.wandb.ai/igodfried/uncategorized/runs/9a14qmbs\" target=\"_blank\">https://app.wandb.ai/igodfried/uncategorized/runs/9a14qmbs</a><br/>\n",
              "            "
            ],
            "text/plain": [
              "<IPython.core.display.HTML object>"
            ]
          },
          "metadata": {
            "tags": []
          }
        },
        {
          "output_type": "stream",
          "text": [
            "Epoch 1/30\n",
            "WARNING:tensorflow:Layer bidirectional is casting an input tensor from dtype float64 to the layer's dtype of float32, which is new behavior in TensorFlow 2.  The layer has dtype float32 because it's dtype defaults to floatx.\n",
            "\n",
            "If you intended to run this layer in float32, you can safely ignore this warning. If in doubt, this warning is likely only an issue if you are porting a TensorFlow 1.X model to TensorFlow 2.\n",
            "\n",
            "To change all layers to have dtype float64 by default, call `tf.keras.backend.set_floatx('float64')`. To change just this layer, pass dtype='float64' to the layer constructor. If you are the author of this layer, you can disable autocasting by passing autocast=False to the base Layer constructor.\n",
            "\n",
            "14/14 [==============================] - 1s 63ms/step - loss: 0.5238 - val_loss: 23.0237\n",
            "Epoch 2/30\n",
            "14/14 [==============================] - 0s 11ms/step - loss: 0.0272 - val_loss: 2.6523\n",
            "Epoch 3/30\n",
            "14/14 [==============================] - 0s 9ms/step - loss: 0.0347 - val_loss: 2.7267\n",
            "Epoch 4/30\n",
            "14/14 [==============================] - 0s 12ms/step - loss: 0.1298 - val_loss: 3.8921\n",
            "Epoch 5/30\n",
            "14/14 [==============================] - 0s 10ms/step - loss: 0.2060 - val_loss: 10.2127\n",
            "Epoch 6/30\n",
            "14/14 [==============================] - 0s 9ms/step - loss: 0.0842 - val_loss: 4.3372\n",
            "Epoch 7/30\n",
            "14/14 [==============================] - 0s 10ms/step - loss: 0.1869 - val_loss: 11.1025\n",
            "Epoch 8/30\n",
            "14/14 [==============================] - 0s 9ms/step - loss: 0.0215 - val_loss: 5.1067\n",
            "Epoch 9/30\n",
            "14/14 [==============================] - 0s 11ms/step - loss: 0.0218 - val_loss: 4.9600\n",
            "Epoch 10/30\n",
            "14/14 [==============================] - 0s 10ms/step - loss: 0.0114 - val_loss: 4.8367\n",
            "Epoch 11/30\n",
            "14/14 [==============================] - 0s 9ms/step - loss: 0.0073 - val_loss: 4.1761\n",
            "Epoch 12/30\n",
            "14/14 [==============================] - 0s 9ms/step - loss: 0.0118 - val_loss: 4.5330\n",
            "Epoch 13/30\n",
            "14/14 [==============================] - 0s 9ms/step - loss: 0.0167 - val_loss: 3.4981\n",
            "Epoch 14/30\n",
            "14/14 [==============================] - 0s 9ms/step - loss: 0.0379 - val_loss: 5.3382\n",
            "Epoch 15/30\n",
            "14/14 [==============================] - 0s 11ms/step - loss: 0.0515 - val_loss: 2.5863\n",
            "Epoch 16/30\n",
            "14/14 [==============================] - 0s 11ms/step - loss: 0.1567 - val_loss: 10.0071\n",
            "Epoch 17/30\n",
            "14/14 [==============================] - 0s 11ms/step - loss: 0.0129 - val_loss: 4.6203\n",
            "Epoch 18/30\n",
            "14/14 [==============================] - 0s 11ms/step - loss: 0.0114 - val_loss: 4.3397\n",
            "Epoch 19/30\n",
            "14/14 [==============================] - 0s 9ms/step - loss: 0.0123 - val_loss: 5.0189\n",
            "Epoch 20/30\n",
            "14/14 [==============================] - 0s 9ms/step - loss: 0.0092 - val_loss: 3.9979\n",
            "Epoch 21/30\n",
            "14/14 [==============================] - 0s 9ms/step - loss: 0.0159 - val_loss: 3.9508\n",
            "Epoch 22/30\n",
            "14/14 [==============================] - 0s 9ms/step - loss: 0.0104 - val_loss: 3.7030\n",
            "Epoch 23/30\n",
            "14/14 [==============================] - 0s 9ms/step - loss: 0.0123 - val_loss: 2.8523\n",
            "Epoch 24/30\n",
            "14/14 [==============================] - 0s 9ms/step - loss: 0.0130 - val_loss: 3.0438\n",
            "Epoch 25/30\n",
            "14/14 [==============================] - 0s 12ms/step - loss: 0.0327 - val_loss: 2.4669\n",
            "Epoch 26/30\n",
            "14/14 [==============================] - 0s 9ms/step - loss: 0.1745 - val_loss: 9.1542\n",
            "Epoch 27/30\n",
            "14/14 [==============================] - 0s 9ms/step - loss: 0.0228 - val_loss: 3.7045\n",
            "Epoch 28/30\n",
            "14/14 [==============================] - 0s 9ms/step - loss: 0.0112 - val_loss: 4.4284\n",
            "Epoch 29/30\n",
            "14/14 [==============================] - 0s 9ms/step - loss: 0.0093 - val_loss: 3.7395\n",
            "Epoch 30/30\n",
            "14/14 [==============================] - 0s 9ms/step - loss: 0.0076 - val_loss: 3.5472\n",
            "wandb: Agent Finished Run: 9a14qmbs \n",
            "\n",
            "wandb: Agent Starting Run: wnjb4qfj with config:\n",
            "\tbatch_size: 4\n",
            "\tlearn: 0.003\n",
            "wandb: Agent Started Run: wnjb4qfj\n"
          ],
          "name": "stdout"
        },
        {
          "output_type": "stream",
          "text": [
            "\u001b[34m\u001b[1mwandb\u001b[0m: \u001b[33mWARNING\u001b[0m Ignoring project='covid-forecast' passed to wandb.init when running a sweep\n",
            "\u001b[34m\u001b[1mwandb\u001b[0m: \u001b[33mWARNING\u001b[0m Ignoring project='covid-forecast' passed to wandb.init when running a sweep\n"
          ],
          "name": "stderr"
        },
        {
          "output_type": "display_data",
          "data": {
            "text/html": [
              "\n",
              "                Logging results to <a href=\"https://wandb.com\" target=\"_blank\">Weights & Biases</a> <a href=\"https://docs.wandb.com/integrations/jupyter.html\" target=\"_blank\">(Documentation)</a>.<br/>\n",
              "                Project page: <a href=\"https://app.wandb.ai/igodfried/uncategorized\" target=\"_blank\">https://app.wandb.ai/igodfried/uncategorized</a><br/>\n",
              "                Sweep page: <a href=\"https://app.wandb.ai/igodfried/uncategorized/sweeps/sz2r7l4w\" target=\"_blank\">https://app.wandb.ai/igodfried/uncategorized/sweeps/sz2r7l4w</a><br/>\n",
              "Run page: <a href=\"https://app.wandb.ai/igodfried/uncategorized/runs/wnjb4qfj\" target=\"_blank\">https://app.wandb.ai/igodfried/uncategorized/runs/wnjb4qfj</a><br/>\n",
              "            "
            ],
            "text/plain": [
              "<IPython.core.display.HTML object>"
            ]
          },
          "metadata": {
            "tags": []
          }
        },
        {
          "output_type": "stream",
          "text": [
            "Epoch 1/30\n",
            "WARNING:tensorflow:Layer bidirectional is casting an input tensor from dtype float64 to the layer's dtype of float32, which is new behavior in TensorFlow 2.  The layer has dtype float32 because it's dtype defaults to floatx.\n",
            "\n",
            "If you intended to run this layer in float32, you can safely ignore this warning. If in doubt, this warning is likely only an issue if you are porting a TensorFlow 1.X model to TensorFlow 2.\n",
            "\n",
            "To change all layers to have dtype float64 by default, call `tf.keras.backend.set_floatx('float64')`. To change just this layer, pass dtype='float64' to the layer constructor. If you are the author of this layer, you can disable autocasting by passing autocast=False to the base Layer constructor.\n",
            "\n",
            "14/14 [==============================] - 1s 63ms/step - loss: 0.3224 - val_loss: 13.2952\n",
            "Epoch 2/30\n",
            "14/14 [==============================] - 0s 11ms/step - loss: 0.2293 - val_loss: 2.3184\n",
            "Epoch 3/30\n",
            "14/14 [==============================] - 0s 11ms/step - loss: 0.8363 - val_loss: 34.2812\n",
            "Epoch 4/30\n",
            "14/14 [==============================] - 0s 9ms/step - loss: 0.4122 - val_loss: 21.9319\n",
            "Epoch 5/30\n",
            "14/14 [==============================] - 0s 9ms/step - loss: 0.1091 - val_loss: 9.2573\n",
            "Epoch 6/30\n",
            "14/14 [==============================] - 0s 9ms/step - loss: 0.1577 - val_loss: 3.7195\n",
            "Epoch 7/30\n",
            "14/14 [==============================] - 0s 10ms/step - loss: 0.4094 - val_loss: 18.9888\n",
            "Epoch 8/30\n",
            "14/14 [==============================] - 0s 10ms/step - loss: 0.1579 - val_loss: 14.1933\n",
            "Epoch 9/30\n",
            "14/14 [==============================] - 0s 10ms/step - loss: 0.0478 - val_loss: 7.8856\n",
            "Epoch 10/30\n",
            "14/14 [==============================] - 0s 9ms/step - loss: 0.0391 - val_loss: 6.5079\n",
            "Epoch 11/30\n",
            "14/14 [==============================] - 0s 9ms/step - loss: 0.0860 - val_loss: 7.7301\n",
            "Epoch 12/30\n",
            "14/14 [==============================] - 0s 9ms/step - loss: 0.1018 - val_loss: 7.3787\n",
            "Epoch 13/30\n",
            "14/14 [==============================] - 0s 9ms/step - loss: 0.0347 - val_loss: 5.8527\n",
            "Epoch 14/30\n",
            "14/14 [==============================] - 0s 9ms/step - loss: 0.0072 - val_loss: 5.0194\n",
            "Epoch 15/30\n",
            "14/14 [==============================] - 0s 10ms/step - loss: 0.0180 - val_loss: 6.0024\n",
            "Epoch 16/30\n",
            "14/14 [==============================] - 0s 10ms/step - loss: 0.0259 - val_loss: 4.5689\n",
            "Epoch 17/30\n",
            "14/14 [==============================] - 0s 12ms/step - loss: 0.0568 - val_loss: 7.0260\n",
            "Epoch 18/30\n",
            "14/14 [==============================] - 0s 11ms/step - loss: 0.0586 - val_loss: 4.3075\n",
            "Epoch 19/30\n",
            "14/14 [==============================] - 0s 9ms/step - loss: 0.1289 - val_loss: 9.3624\n",
            "Epoch 20/30\n",
            "14/14 [==============================] - 0s 9ms/step - loss: 0.0202 - val_loss: 5.6049\n",
            "Epoch 21/30\n",
            "14/14 [==============================] - 0s 10ms/step - loss: 0.0102 - val_loss: 6.8757\n",
            "Epoch 22/30\n",
            "14/14 [==============================] - 0s 9ms/step - loss: 0.0194 - val_loss: 5.6145\n",
            "Epoch 23/30\n",
            "14/14 [==============================] - 0s 9ms/step - loss: 0.0139 - val_loss: 4.9082\n",
            "Epoch 24/30\n",
            "14/14 [==============================] - 0s 9ms/step - loss: 0.0239 - val_loss: 5.0833\n",
            "Epoch 25/30\n",
            "14/14 [==============================] - 0s 9ms/step - loss: 0.0132 - val_loss: 3.9029\n",
            "Epoch 26/30\n",
            "14/14 [==============================] - 0s 9ms/step - loss: 0.0130 - val_loss: 3.4073\n",
            "Epoch 27/30\n",
            "14/14 [==============================] - 0s 9ms/step - loss: 0.0377 - val_loss: 5.3772\n",
            "Epoch 28/30\n",
            "14/14 [==============================] - 0s 11ms/step - loss: 0.0464 - val_loss: 3.4365\n",
            "Epoch 29/30\n",
            "14/14 [==============================] - 0s 9ms/step - loss: 0.0987 - val_loss: 7.9388\n",
            "Epoch 30/30\n",
            "14/14 [==============================] - 0s 9ms/step - loss: 0.0169 - val_loss: 4.5912\n",
            "wandb: Agent Finished Run: wnjb4qfj \n",
            "\n",
            "wandb: Agent Starting Run: rigzo6k1 with config:\n",
            "\tbatch_size: 4\n",
            "\tlearn: 0.004\n",
            "wandb: Agent Started Run: rigzo6k1\n"
          ],
          "name": "stdout"
        },
        {
          "output_type": "stream",
          "text": [
            "\u001b[34m\u001b[1mwandb\u001b[0m: \u001b[33mWARNING\u001b[0m Ignoring project='covid-forecast' passed to wandb.init when running a sweep\n",
            "\u001b[34m\u001b[1mwandb\u001b[0m: \u001b[33mWARNING\u001b[0m Ignoring project='covid-forecast' passed to wandb.init when running a sweep\n"
          ],
          "name": "stderr"
        },
        {
          "output_type": "display_data",
          "data": {
            "text/html": [
              "\n",
              "                Logging results to <a href=\"https://wandb.com\" target=\"_blank\">Weights & Biases</a> <a href=\"https://docs.wandb.com/integrations/jupyter.html\" target=\"_blank\">(Documentation)</a>.<br/>\n",
              "                Project page: <a href=\"https://app.wandb.ai/igodfried/uncategorized\" target=\"_blank\">https://app.wandb.ai/igodfried/uncategorized</a><br/>\n",
              "                Sweep page: <a href=\"https://app.wandb.ai/igodfried/uncategorized/sweeps/sz2r7l4w\" target=\"_blank\">https://app.wandb.ai/igodfried/uncategorized/sweeps/sz2r7l4w</a><br/>\n",
              "Run page: <a href=\"https://app.wandb.ai/igodfried/uncategorized/runs/rigzo6k1\" target=\"_blank\">https://app.wandb.ai/igodfried/uncategorized/runs/rigzo6k1</a><br/>\n",
              "            "
            ],
            "text/plain": [
              "<IPython.core.display.HTML object>"
            ]
          },
          "metadata": {
            "tags": []
          }
        },
        {
          "output_type": "stream",
          "text": [
            "Epoch 1/30\n",
            "WARNING:tensorflow:Layer bidirectional is casting an input tensor from dtype float64 to the layer's dtype of float32, which is new behavior in TensorFlow 2.  The layer has dtype float32 because it's dtype defaults to floatx.\n",
            "\n",
            "If you intended to run this layer in float32, you can safely ignore this warning. If in doubt, this warning is likely only an issue if you are porting a TensorFlow 1.X model to TensorFlow 2.\n",
            "\n",
            "To change all layers to have dtype float64 by default, call `tf.keras.backend.set_floatx('float64')`. To change just this layer, pass dtype='float64' to the layer constructor. If you are the author of this layer, you can disable autocasting by passing autocast=False to the base Layer constructor.\n",
            "\n",
            "14/14 [==============================] - 1s 63ms/step - loss: 0.1585 - val_loss: 5.0318\n",
            "Epoch 2/30\n",
            "14/14 [==============================] - 0s 11ms/step - loss: 0.4696 - val_loss: 2.3291\n",
            "Epoch 3/30\n",
            "14/14 [==============================] - 0s 11ms/step - loss: 0.7984 - val_loss: 39.9806\n",
            "Epoch 4/30\n",
            "14/14 [==============================] - 0s 9ms/step - loss: 0.3939 - val_loss: 13.7674\n",
            "Epoch 5/30\n",
            "14/14 [==============================] - 0s 9ms/step - loss: 0.1354 - val_loss: 9.7261\n",
            "Epoch 6/30\n",
            "14/14 [==============================] - 0s 9ms/step - loss: 0.0651 - val_loss: 5.1419\n",
            "Epoch 7/30\n",
            "14/14 [==============================] - 0s 9ms/step - loss: 0.1231 - val_loss: 10.5837\n",
            "Epoch 8/30\n",
            "14/14 [==============================] - 0s 9ms/step - loss: 0.0389 - val_loss: 9.1886\n",
            "Epoch 9/30\n",
            "14/14 [==============================] - 0s 10ms/step - loss: 0.0250 - val_loss: 5.0802\n",
            "Epoch 10/30\n",
            "14/14 [==============================] - 0s 10ms/step - loss: 0.0425 - val_loss: 7.1563\n",
            "Epoch 11/30\n",
            "14/14 [==============================] - 0s 9ms/step - loss: 0.0436 - val_loss: 4.7115\n",
            "Epoch 12/30\n",
            "14/14 [==============================] - 0s 9ms/step - loss: 0.1269 - val_loss: 8.2922\n",
            "Epoch 13/30\n",
            "14/14 [==============================] - 0s 9ms/step - loss: 0.0503 - val_loss: 5.3892\n",
            "Epoch 14/30\n",
            "14/14 [==============================] - 0s 10ms/step - loss: 0.0551 - val_loss: 8.4082\n",
            "Epoch 15/30\n",
            "14/14 [==============================] - 0s 9ms/step - loss: 0.0251 - val_loss: 4.9211\n",
            "Epoch 16/30\n",
            "14/14 [==============================] - 0s 9ms/step - loss: 0.0389 - val_loss: 6.8108\n",
            "Epoch 17/30\n",
            "14/14 [==============================] - 0s 12ms/step - loss: 0.0286 - val_loss: 4.6094\n",
            "Epoch 18/30\n",
            "14/14 [==============================] - 0s 10ms/step - loss: 0.0463 - val_loss: 7.0712\n",
            "Epoch 19/30\n",
            "14/14 [==============================] - 0s 10ms/step - loss: 0.0441 - val_loss: 4.4274\n",
            "Epoch 20/30\n",
            "14/14 [==============================] - 0s 10ms/step - loss: 0.0868 - val_loss: 8.1309\n",
            "Epoch 21/30\n",
            "14/14 [==============================] - 0s 9ms/step - loss: 0.0224 - val_loss: 4.2665\n",
            "Epoch 22/30\n",
            "14/14 [==============================] - 0s 9ms/step - loss: 0.0146 - val_loss: 4.5393\n",
            "Epoch 23/30\n",
            "14/14 [==============================] - 0s 9ms/step - loss: 0.0124 - val_loss: 3.5094\n",
            "Epoch 24/30\n",
            "14/14 [==============================] - 0s 9ms/step - loss: 0.0157 - val_loss: 4.0606\n",
            "Epoch 25/30\n",
            "14/14 [==============================] - 0s 9ms/step - loss: 0.0225 - val_loss: 2.6725\n",
            "Epoch 26/30\n",
            "14/14 [==============================] - 0s 9ms/step - loss: 0.0615 - val_loss: 4.9801\n",
            "Epoch 27/30\n",
            "14/14 [==============================] - 0s 9ms/step - loss: 0.0550 - val_loss: 3.4362\n",
            "Epoch 28/30\n",
            "14/14 [==============================] - 0s 9ms/step - loss: 0.1666 - val_loss: 8.8694\n",
            "Epoch 29/30\n",
            "14/14 [==============================] - 0s 10ms/step - loss: 0.0392 - val_loss: 2.9637\n",
            "Epoch 30/30\n",
            "14/14 [==============================] - 0s 9ms/step - loss: 0.2187 - val_loss: 10.0740\n",
            "wandb: Agent Finished Run: rigzo6k1 \n",
            "\n",
            "wandb: Agent Starting Run: qa5kenpg with config:\n",
            "\tbatch_size: 4\n",
            "\tlearn: 0.01\n",
            "wandb: Agent Started Run: qa5kenpg\n"
          ],
          "name": "stdout"
        },
        {
          "output_type": "stream",
          "text": [
            "\u001b[34m\u001b[1mwandb\u001b[0m: \u001b[33mWARNING\u001b[0m Ignoring project='covid-forecast' passed to wandb.init when running a sweep\n",
            "\u001b[34m\u001b[1mwandb\u001b[0m: \u001b[33mWARNING\u001b[0m Ignoring project='covid-forecast' passed to wandb.init when running a sweep\n"
          ],
          "name": "stderr"
        },
        {
          "output_type": "display_data",
          "data": {
            "text/html": [
              "\n",
              "                Logging results to <a href=\"https://wandb.com\" target=\"_blank\">Weights & Biases</a> <a href=\"https://docs.wandb.com/integrations/jupyter.html\" target=\"_blank\">(Documentation)</a>.<br/>\n",
              "                Project page: <a href=\"https://app.wandb.ai/igodfried/uncategorized\" target=\"_blank\">https://app.wandb.ai/igodfried/uncategorized</a><br/>\n",
              "                Sweep page: <a href=\"https://app.wandb.ai/igodfried/uncategorized/sweeps/sz2r7l4w\" target=\"_blank\">https://app.wandb.ai/igodfried/uncategorized/sweeps/sz2r7l4w</a><br/>\n",
              "Run page: <a href=\"https://app.wandb.ai/igodfried/uncategorized/runs/qa5kenpg\" target=\"_blank\">https://app.wandb.ai/igodfried/uncategorized/runs/qa5kenpg</a><br/>\n",
              "            "
            ],
            "text/plain": [
              "<IPython.core.display.HTML object>"
            ]
          },
          "metadata": {
            "tags": []
          }
        },
        {
          "output_type": "stream",
          "text": [
            "Epoch 1/30\n",
            "WARNING:tensorflow:Layer bidirectional is casting an input tensor from dtype float64 to the layer's dtype of float32, which is new behavior in TensorFlow 2.  The layer has dtype float32 because it's dtype defaults to floatx.\n",
            "\n",
            "If you intended to run this layer in float32, you can safely ignore this warning. If in doubt, this warning is likely only an issue if you are porting a TensorFlow 1.X model to TensorFlow 2.\n",
            "\n",
            "To change all layers to have dtype float64 by default, call `tf.keras.backend.set_floatx('float64')`. To change just this layer, pass dtype='float64' to the layer constructor. If you are the author of this layer, you can disable autocasting by passing autocast=False to the base Layer constructor.\n",
            "\n",
            "14/14 [==============================] - 1s 62ms/step - loss: 0.0997 - val_loss: 0.8689\n",
            "Epoch 2/30\n",
            "14/14 [==============================] - 0s 11ms/step - loss: 0.3539 - val_loss: 0.7217\n",
            "Epoch 3/30\n",
            "14/14 [==============================] - 0s 10ms/step - loss: 0.8958 - val_loss: 4.4309\n",
            "Epoch 4/30\n",
            "14/14 [==============================] - 0s 10ms/step - loss: 0.5164 - val_loss: 23.3169\n",
            "Epoch 5/30\n",
            "14/14 [==============================] - 0s 9ms/step - loss: 1.4338 - val_loss: 20.6575\n",
            "Epoch 6/30\n",
            "14/14 [==============================] - 0s 10ms/step - loss: 0.4443 - val_loss: 14.1092\n",
            "Epoch 7/30\n",
            "14/14 [==============================] - 0s 9ms/step - loss: 0.1924 - val_loss: 14.8237\n",
            "Epoch 8/30\n",
            "14/14 [==============================] - 0s 9ms/step - loss: 0.7033 - val_loss: 22.1736\n",
            "Epoch 9/30\n",
            "14/14 [==============================] - 0s 10ms/step - loss: 0.9352 - val_loss: 15.4552\n",
            "Epoch 10/30\n",
            "14/14 [==============================] - 0s 9ms/step - loss: 0.3341 - val_loss: 10.9442\n",
            "Epoch 11/30\n",
            "14/14 [==============================] - 0s 9ms/step - loss: 0.2339 - val_loss: 11.1174\n",
            "Epoch 12/30\n",
            "14/14 [==============================] - 0s 9ms/step - loss: 0.1606 - val_loss: 10.1314\n",
            "Epoch 13/30\n",
            "14/14 [==============================] - 0s 10ms/step - loss: 0.1281 - val_loss: 8.5874\n",
            "Epoch 14/30\n",
            "14/14 [==============================] - 0s 9ms/step - loss: 0.2154 - val_loss: 8.1864\n",
            "Epoch 15/30\n",
            "14/14 [==============================] - 0s 9ms/step - loss: 0.5632 - val_loss: 22.8984\n",
            "Epoch 16/30\n",
            "14/14 [==============================] - 0s 9ms/step - loss: 0.3053 - val_loss: 18.3191\n",
            "Epoch 17/30\n",
            "14/14 [==============================] - 0s 10ms/step - loss: 0.0731 - val_loss: 12.2691\n",
            "Epoch 18/30\n",
            "14/14 [==============================] - 0s 12ms/step - loss: 0.0392 - val_loss: 9.7134\n",
            "Epoch 19/30\n",
            "14/14 [==============================] - 0s 10ms/step - loss: 0.0660 - val_loss: 10.5429\n",
            "Epoch 20/30\n",
            "14/14 [==============================] - 0s 9ms/step - loss: 0.0168 - val_loss: 8.6296\n",
            "Epoch 21/30\n",
            "14/14 [==============================] - 0s 9ms/step - loss: 0.0448 - val_loss: 8.7689\n",
            "Epoch 22/30\n",
            "14/14 [==============================] - 0s 9ms/step - loss: 0.0706 - val_loss: 7.1441\n",
            "Epoch 23/30\n",
            "14/14 [==============================] - 0s 10ms/step - loss: 0.1172 - val_loss: 11.4156\n",
            "Epoch 24/30\n",
            "14/14 [==============================] - 0s 9ms/step - loss: 0.0824 - val_loss: 8.3668\n",
            "Epoch 25/30\n",
            "14/14 [==============================] - 0s 10ms/step - loss: 0.0751 - val_loss: 7.1917\n",
            "Epoch 26/30\n",
            "14/14 [==============================] - 0s 10ms/step - loss: 0.0741 - val_loss: 10.2450\n",
            "Epoch 27/30\n",
            "14/14 [==============================] - 0s 9ms/step - loss: 0.0399 - val_loss: 8.2289\n",
            "Epoch 28/30\n",
            "14/14 [==============================] - 0s 9ms/step - loss: 0.0205 - val_loss: 7.7965\n",
            "Epoch 29/30\n",
            "14/14 [==============================] - 0s 10ms/step - loss: 0.0402 - val_loss: 7.2665\n",
            "Epoch 30/30\n",
            "14/14 [==============================] - 0s 9ms/step - loss: 0.0376 - val_loss: 6.2996\n",
            "wandb: Agent Finished Run: qa5kenpg \n",
            "\n",
            "wandb: Agent Starting Run: 0nwlppde with config:\n",
            "\tbatch_size: 5\n",
            "\tlearn: 0.001\n",
            "wandb: Agent Started Run: 0nwlppde\n"
          ],
          "name": "stdout"
        },
        {
          "output_type": "stream",
          "text": [
            "\u001b[34m\u001b[1mwandb\u001b[0m: \u001b[33mWARNING\u001b[0m Ignoring project='covid-forecast' passed to wandb.init when running a sweep\n",
            "\u001b[34m\u001b[1mwandb\u001b[0m: \u001b[33mWARNING\u001b[0m Ignoring project='covid-forecast' passed to wandb.init when running a sweep\n"
          ],
          "name": "stderr"
        },
        {
          "output_type": "display_data",
          "data": {
            "text/html": [
              "\n",
              "                Logging results to <a href=\"https://wandb.com\" target=\"_blank\">Weights & Biases</a> <a href=\"https://docs.wandb.com/integrations/jupyter.html\" target=\"_blank\">(Documentation)</a>.<br/>\n",
              "                Project page: <a href=\"https://app.wandb.ai/igodfried/uncategorized\" target=\"_blank\">https://app.wandb.ai/igodfried/uncategorized</a><br/>\n",
              "                Sweep page: <a href=\"https://app.wandb.ai/igodfried/uncategorized/sweeps/sz2r7l4w\" target=\"_blank\">https://app.wandb.ai/igodfried/uncategorized/sweeps/sz2r7l4w</a><br/>\n",
              "Run page: <a href=\"https://app.wandb.ai/igodfried/uncategorized/runs/0nwlppde\" target=\"_blank\">https://app.wandb.ai/igodfried/uncategorized/runs/0nwlppde</a><br/>\n",
              "            "
            ],
            "text/plain": [
              "<IPython.core.display.HTML object>"
            ]
          },
          "metadata": {
            "tags": []
          }
        },
        {
          "output_type": "stream",
          "text": [
            "Epoch 1/30\n",
            "WARNING:tensorflow:Layer bidirectional is casting an input tensor from dtype float64 to the layer's dtype of float32, which is new behavior in TensorFlow 2.  The layer has dtype float32 because it's dtype defaults to floatx.\n",
            "\n",
            "If you intended to run this layer in float32, you can safely ignore this warning. If in doubt, this warning is likely only an issue if you are porting a TensorFlow 1.X model to TensorFlow 2.\n",
            "\n",
            "To change all layers to have dtype float64 by default, call `tf.keras.backend.set_floatx('float64')`. To change just this layer, pass dtype='float64' to the layer constructor. If you are the author of this layer, you can disable autocasting by passing autocast=False to the base Layer constructor.\n",
            "\n",
            "12/12 [==============================] - 1s 71ms/step - loss: 1.4021 - val_loss: 34.4464\n",
            "Epoch 2/30\n",
            "12/12 [==============================] - 0s 13ms/step - loss: 0.5742 - val_loss: 17.2435\n",
            "Epoch 3/30\n",
            "12/12 [==============================] - 0s 13ms/step - loss: 0.0680 - val_loss: 5.5815\n",
            "Epoch 4/30\n",
            "12/12 [==============================] - 0s 13ms/step - loss: 0.1382 - val_loss: 2.7532\n",
            "Epoch 5/30\n",
            "12/12 [==============================] - 0s 11ms/step - loss: 0.0726 - val_loss: 6.7478\n",
            "Epoch 6/30\n",
            "12/12 [==============================] - 0s 11ms/step - loss: 0.0126 - val_loss: 4.6530\n",
            "Epoch 7/30\n",
            "12/12 [==============================] - 0s 14ms/step - loss: 0.0108 - val_loss: 3.5611\n",
            "Epoch 8/30\n",
            "12/12 [==============================] - 0s 11ms/step - loss: 0.0145 - val_loss: 3.3970\n",
            "Epoch 9/30\n",
            "12/12 [==============================] - 0s 10ms/step - loss: 0.0127 - val_loss: 3.9732\n",
            "Epoch 10/30\n",
            "12/12 [==============================] - 0s 11ms/step - loss: 0.0134 - val_loss: 3.5700\n",
            "Epoch 11/30\n",
            "12/12 [==============================] - 0s 11ms/step - loss: 0.0506 - val_loss: 4.5994\n",
            "Epoch 12/30\n",
            "12/12 [==============================] - 0s 11ms/step - loss: 0.0627 - val_loss: 2.9556\n",
            "Epoch 13/30\n",
            "12/12 [==============================] - 0s 11ms/step - loss: 0.0870 - val_loss: 6.8008\n",
            "Epoch 14/30\n",
            "12/12 [==============================] - 0s 14ms/step - loss: 0.0392 - val_loss: 3.7273\n",
            "Epoch 15/30\n",
            "12/12 [==============================] - 0s 14ms/step - loss: 0.1124 - val_loss: 2.4751\n",
            "Epoch 16/30\n",
            "12/12 [==============================] - 0s 11ms/step - loss: 0.1271 - val_loss: 7.2710\n",
            "Epoch 17/30\n",
            "12/12 [==============================] - 0s 10ms/step - loss: 0.0091 - val_loss: 4.6131\n",
            "Epoch 18/30\n",
            "12/12 [==============================] - 0s 10ms/step - loss: 0.0271 - val_loss: 3.6926\n",
            "Epoch 19/30\n",
            "12/12 [==============================] - 0s 11ms/step - loss: 0.0290 - val_loss: 4.8403\n",
            "Epoch 20/30\n",
            "12/12 [==============================] - 0s 11ms/step - loss: 0.0168 - val_loss: 3.7068\n",
            "Epoch 21/30\n",
            "12/12 [==============================] - 0s 11ms/step - loss: 0.0140 - val_loss: 4.3593\n",
            "Epoch 22/30\n",
            "12/12 [==============================] - 0s 10ms/step - loss: 0.0242 - val_loss: 3.7122\n",
            "Epoch 23/30\n",
            "12/12 [==============================] - 0s 10ms/step - loss: 0.0309 - val_loss: 2.9560\n",
            "Epoch 24/30\n",
            "12/12 [==============================] - 0s 10ms/step - loss: 0.0177 - val_loss: 4.3372\n",
            "Epoch 25/30\n",
            "12/12 [==============================] - 0s 10ms/step - loss: 0.0097 - val_loss: 3.7784\n",
            "Epoch 26/30\n",
            "12/12 [==============================] - 0s 10ms/step - loss: 0.0131 - val_loss: 3.5955\n",
            "Epoch 27/30\n",
            "12/12 [==============================] - 0s 11ms/step - loss: 0.0178 - val_loss: 4.6842\n",
            "Epoch 28/30\n",
            "12/12 [==============================] - 0s 12ms/step - loss: 0.0119 - val_loss: 3.8244\n",
            "Epoch 29/30\n",
            "12/12 [==============================] - 0s 10ms/step - loss: 0.0273 - val_loss: 4.1715\n",
            "Epoch 30/30\n",
            "12/12 [==============================] - 0s 10ms/step - loss: 0.0315 - val_loss: 3.1125\n",
            "wandb: Agent Finished Run: 0nwlppde \n",
            "\n",
            "wandb: Agent Starting Run: bq570vem with config:\n",
            "\tbatch_size: 5\n",
            "\tlearn: 0.0015\n",
            "wandb: Agent Started Run: bq570vem\n"
          ],
          "name": "stdout"
        },
        {
          "output_type": "stream",
          "text": [
            "\u001b[34m\u001b[1mwandb\u001b[0m: \u001b[33mWARNING\u001b[0m Ignoring project='covid-forecast' passed to wandb.init when running a sweep\n",
            "\u001b[34m\u001b[1mwandb\u001b[0m: \u001b[33mWARNING\u001b[0m Ignoring project='covid-forecast' passed to wandb.init when running a sweep\n"
          ],
          "name": "stderr"
        },
        {
          "output_type": "display_data",
          "data": {
            "text/html": [
              "\n",
              "                Logging results to <a href=\"https://wandb.com\" target=\"_blank\">Weights & Biases</a> <a href=\"https://docs.wandb.com/integrations/jupyter.html\" target=\"_blank\">(Documentation)</a>.<br/>\n",
              "                Project page: <a href=\"https://app.wandb.ai/igodfried/uncategorized\" target=\"_blank\">https://app.wandb.ai/igodfried/uncategorized</a><br/>\n",
              "                Sweep page: <a href=\"https://app.wandb.ai/igodfried/uncategorized/sweeps/sz2r7l4w\" target=\"_blank\">https://app.wandb.ai/igodfried/uncategorized/sweeps/sz2r7l4w</a><br/>\n",
              "Run page: <a href=\"https://app.wandb.ai/igodfried/uncategorized/runs/bq570vem\" target=\"_blank\">https://app.wandb.ai/igodfried/uncategorized/runs/bq570vem</a><br/>\n",
              "            "
            ],
            "text/plain": [
              "<IPython.core.display.HTML object>"
            ]
          },
          "metadata": {
            "tags": []
          }
        },
        {
          "output_type": "stream",
          "text": [
            "Epoch 1/30\n",
            "WARNING:tensorflow:Layer bidirectional is casting an input tensor from dtype float64 to the layer's dtype of float32, which is new behavior in TensorFlow 2.  The layer has dtype float32 because it's dtype defaults to floatx.\n",
            "\n",
            "If you intended to run this layer in float32, you can safely ignore this warning. If in doubt, this warning is likely only an issue if you are porting a TensorFlow 1.X model to TensorFlow 2.\n",
            "\n",
            "To change all layers to have dtype float64 by default, call `tf.keras.backend.set_floatx('float64')`. To change just this layer, pass dtype='float64' to the layer constructor. If you are the author of this layer, you can disable autocasting by passing autocast=False to the base Layer constructor.\n",
            "\n",
            "12/12 [==============================] - 1s 71ms/step - loss: 1.0004 - val_loss: 25.6818\n",
            "Epoch 2/30\n",
            "12/12 [==============================] - 0s 13ms/step - loss: 0.0649 - val_loss: 5.3285\n",
            "Epoch 3/30\n",
            "12/12 [==============================] - 0s 13ms/step - loss: 0.3269 - val_loss: 1.3598\n",
            "Epoch 4/30\n",
            "12/12 [==============================] - 0s 11ms/step - loss: 0.3570 - val_loss: 11.6963\n",
            "Epoch 5/30\n",
            "12/12 [==============================] - 0s 10ms/step - loss: 0.1385 - val_loss: 7.3525\n",
            "Epoch 6/30\n",
            "12/12 [==============================] - 0s 11ms/step - loss: 0.0343 - val_loss: 3.3573\n",
            "Epoch 7/30\n",
            "12/12 [==============================] - 0s 12ms/step - loss: 0.0429 - val_loss: 4.6116\n",
            "Epoch 8/30\n",
            "12/12 [==============================] - 0s 11ms/step - loss: 0.0814 - val_loss: 6.1680\n",
            "Epoch 9/30\n",
            "12/12 [==============================] - 0s 10ms/step - loss: 0.0195 - val_loss: 3.9160\n",
            "Epoch 10/30\n",
            "12/12 [==============================] - 0s 11ms/step - loss: 0.0137 - val_loss: 3.8825\n",
            "Epoch 11/30\n",
            "12/12 [==============================] - 0s 11ms/step - loss: 0.0105 - val_loss: 4.5020\n",
            "Epoch 12/30\n",
            "12/12 [==============================] - 0s 10ms/step - loss: 0.0169 - val_loss: 4.1216\n",
            "Epoch 13/30\n",
            "12/12 [==============================] - 0s 10ms/step - loss: 0.0284 - val_loss: 3.4120\n",
            "Epoch 14/30\n",
            "12/12 [==============================] - 0s 12ms/step - loss: 0.0469 - val_loss: 5.1138\n",
            "Epoch 15/30\n",
            "12/12 [==============================] - 0s 12ms/step - loss: 0.0298 - val_loss: 3.2533\n",
            "Epoch 16/30\n",
            "12/12 [==============================] - 0s 11ms/step - loss: 0.0400 - val_loss: 3.7783\n",
            "Epoch 17/30\n",
            "12/12 [==============================] - 0s 10ms/step - loss: 0.0282 - val_loss: 2.7192\n",
            "Epoch 18/30\n",
            "12/12 [==============================] - 0s 11ms/step - loss: 0.0303 - val_loss: 3.9729\n",
            "Epoch 19/30\n",
            "12/12 [==============================] - 0s 10ms/step - loss: 0.0231 - val_loss: 2.9190\n",
            "Epoch 20/30\n",
            "12/12 [==============================] - 0s 11ms/step - loss: 0.0350 - val_loss: 3.3556\n",
            "Epoch 21/30\n",
            "12/12 [==============================] - 0s 11ms/step - loss: 0.0257 - val_loss: 3.2187\n",
            "Epoch 22/30\n",
            "12/12 [==============================] - 0s 10ms/step - loss: 0.0263 - val_loss: 3.7259\n",
            "Epoch 23/30\n",
            "12/12 [==============================] - 0s 10ms/step - loss: 0.0277 - val_loss: 2.5366\n",
            "Epoch 24/30\n",
            "12/12 [==============================] - 0s 10ms/step - loss: 0.0301 - val_loss: 2.8634\n",
            "Epoch 25/30\n",
            "12/12 [==============================] - 0s 11ms/step - loss: 0.1109 - val_loss: 2.4789\n",
            "Epoch 26/30\n",
            "12/12 [==============================] - 0s 11ms/step - loss: 0.4071 - val_loss: 10.5618\n",
            "Epoch 27/30\n",
            "12/12 [==============================] - 0s 10ms/step - loss: 0.0501 - val_loss: 4.7563\n",
            "Epoch 28/30\n",
            "12/12 [==============================] - 0s 10ms/step - loss: 0.1264 - val_loss: 2.8695\n",
            "Epoch 29/30\n",
            "12/12 [==============================] - 0s 11ms/step - loss: 0.1226 - val_loss: 7.6381\n",
            "Epoch 30/30\n",
            "12/12 [==============================] - 0s 10ms/step - loss: 0.0234 - val_loss: 4.6063\n",
            "wandb: Agent Finished Run: bq570vem \n",
            "\n",
            "wandb: Agent Starting Run: 7ad5nsm3 with config:\n",
            "\tbatch_size: 5\n",
            "\tlearn: 0.002\n",
            "wandb: Agent Started Run: 7ad5nsm3\n"
          ],
          "name": "stdout"
        },
        {
          "output_type": "stream",
          "text": [
            "\u001b[34m\u001b[1mwandb\u001b[0m: \u001b[33mWARNING\u001b[0m Ignoring project='covid-forecast' passed to wandb.init when running a sweep\n",
            "\u001b[34m\u001b[1mwandb\u001b[0m: \u001b[33mWARNING\u001b[0m Ignoring project='covid-forecast' passed to wandb.init when running a sweep\n"
          ],
          "name": "stderr"
        },
        {
          "output_type": "display_data",
          "data": {
            "text/html": [
              "\n",
              "                Logging results to <a href=\"https://wandb.com\" target=\"_blank\">Weights & Biases</a> <a href=\"https://docs.wandb.com/integrations/jupyter.html\" target=\"_blank\">(Documentation)</a>.<br/>\n",
              "                Project page: <a href=\"https://app.wandb.ai/igodfried/uncategorized\" target=\"_blank\">https://app.wandb.ai/igodfried/uncategorized</a><br/>\n",
              "                Sweep page: <a href=\"https://app.wandb.ai/igodfried/uncategorized/sweeps/sz2r7l4w\" target=\"_blank\">https://app.wandb.ai/igodfried/uncategorized/sweeps/sz2r7l4w</a><br/>\n",
              "Run page: <a href=\"https://app.wandb.ai/igodfried/uncategorized/runs/7ad5nsm3\" target=\"_blank\">https://app.wandb.ai/igodfried/uncategorized/runs/7ad5nsm3</a><br/>\n",
              "            "
            ],
            "text/plain": [
              "<IPython.core.display.HTML object>"
            ]
          },
          "metadata": {
            "tags": []
          }
        },
        {
          "output_type": "stream",
          "text": [
            "Epoch 1/30\n",
            "WARNING:tensorflow:Layer bidirectional is casting an input tensor from dtype float64 to the layer's dtype of float32, which is new behavior in TensorFlow 2.  The layer has dtype float32 because it's dtype defaults to floatx.\n",
            "\n",
            "If you intended to run this layer in float32, you can safely ignore this warning. If in doubt, this warning is likely only an issue if you are porting a TensorFlow 1.X model to TensorFlow 2.\n",
            "\n",
            "To change all layers to have dtype float64 by default, call `tf.keras.backend.set_floatx('float64')`. To change just this layer, pass dtype='float64' to the layer constructor. If you are the author of this layer, you can disable autocasting by passing autocast=False to the base Layer constructor.\n",
            "\n",
            "12/12 [==============================] - 1s 71ms/step - loss: 1.2642 - val_loss: 27.6543\n",
            "Epoch 2/30\n",
            "12/12 [==============================] - 0s 12ms/step - loss: 0.0301 - val_loss: 3.8069\n",
            "Epoch 3/30\n",
            "12/12 [==============================] - 0s 13ms/step - loss: 0.3067 - val_loss: 1.5160\n",
            "Epoch 4/30\n",
            "12/12 [==============================] - 0s 10ms/step - loss: 0.6050 - val_loss: 15.1500\n",
            "Epoch 5/30\n",
            "12/12 [==============================] - 0s 10ms/step - loss: 0.1719 - val_loss: 8.6171\n",
            "Epoch 6/30\n",
            "12/12 [==============================] - 0s 12ms/step - loss: 0.0519 - val_loss: 3.7495\n",
            "Epoch 7/30\n",
            "12/12 [==============================] - 0s 12ms/step - loss: 0.0549 - val_loss: 6.1492\n",
            "Epoch 8/30\n",
            "12/12 [==============================] - 0s 12ms/step - loss: 0.0306 - val_loss: 4.7109\n",
            "Epoch 9/30\n",
            "12/12 [==============================] - 0s 10ms/step - loss: 0.0267 - val_loss: 4.4645\n",
            "Epoch 10/30\n",
            "12/12 [==============================] - 0s 11ms/step - loss: 0.0289 - val_loss: 4.8333\n",
            "Epoch 11/30\n",
            "12/12 [==============================] - 0s 10ms/step - loss: 0.0314 - val_loss: 3.4206\n",
            "Epoch 12/30\n",
            "12/12 [==============================] - 0s 11ms/step - loss: 0.0342 - val_loss: 3.1259\n",
            "Epoch 13/30\n",
            "12/12 [==============================] - 0s 11ms/step - loss: 0.0340 - val_loss: 4.3823\n",
            "Epoch 14/30\n",
            "12/12 [==============================] - 0s 11ms/step - loss: 0.0407 - val_loss: 2.7841\n",
            "Epoch 15/30\n",
            "12/12 [==============================] - 0s 14ms/step - loss: 0.0315 - val_loss: 2.8333\n",
            "Epoch 16/30\n",
            "12/12 [==============================] - 0s 11ms/step - loss: 0.0220 - val_loss: 3.0096\n",
            "Epoch 17/30\n",
            "12/12 [==============================] - 0s 10ms/step - loss: 0.0246 - val_loss: 2.4039\n",
            "Epoch 18/30\n",
            "12/12 [==============================] - 0s 10ms/step - loss: 0.0518 - val_loss: 2.2688\n",
            "Epoch 19/30\n",
            "12/12 [==============================] - 0s 11ms/step - loss: 0.1984 - val_loss: 5.9805\n",
            "Epoch 20/30\n",
            "12/12 [==============================] - 0s 11ms/step - loss: 0.1214 - val_loss: 3.0423\n",
            "Epoch 21/30\n",
            "12/12 [==============================] - 0s 10ms/step - loss: 0.2692 - val_loss: 9.2744\n",
            "Epoch 22/30\n",
            "12/12 [==============================] - 0s 10ms/step - loss: 0.0067 - val_loss: 5.0900\n",
            "Epoch 23/30\n",
            "12/12 [==============================] - 0s 11ms/step - loss: 0.0454 - val_loss: 4.7963\n",
            "Epoch 24/30\n",
            "12/12 [==============================] - 0s 10ms/step - loss: 0.0219 - val_loss: 4.2006\n",
            "Epoch 25/30\n",
            "12/12 [==============================] - 0s 10ms/step - loss: 0.0342 - val_loss: 5.5162\n",
            "Epoch 26/30\n",
            "12/12 [==============================] - 0s 11ms/step - loss: 0.0250 - val_loss: 3.8467\n",
            "Epoch 27/30\n",
            "12/12 [==============================] - 0s 11ms/step - loss: 0.0341 - val_loss: 4.6662\n",
            "Epoch 28/30\n",
            "12/12 [==============================] - 0s 12ms/step - loss: 0.0494 - val_loss: 3.4933\n",
            "Epoch 29/30\n",
            "12/12 [==============================] - 0s 10ms/step - loss: 0.0838 - val_loss: 5.7238\n",
            "Epoch 30/30\n",
            "12/12 [==============================] - 0s 10ms/step - loss: 0.0332 - val_loss: 3.1333\n",
            "wandb: Agent Finished Run: 7ad5nsm3 \n",
            "\n",
            "wandb: Agent Starting Run: osdesxgw with config:\n",
            "\tbatch_size: 5\n",
            "\tlearn: 0.003\n",
            "wandb: Agent Started Run: osdesxgw\n"
          ],
          "name": "stdout"
        },
        {
          "output_type": "stream",
          "text": [
            "\u001b[34m\u001b[1mwandb\u001b[0m: \u001b[33mWARNING\u001b[0m Ignoring project='covid-forecast' passed to wandb.init when running a sweep\n",
            "\u001b[34m\u001b[1mwandb\u001b[0m: \u001b[33mWARNING\u001b[0m Ignoring project='covid-forecast' passed to wandb.init when running a sweep\n"
          ],
          "name": "stderr"
        },
        {
          "output_type": "display_data",
          "data": {
            "text/html": [
              "\n",
              "                Logging results to <a href=\"https://wandb.com\" target=\"_blank\">Weights & Biases</a> <a href=\"https://docs.wandb.com/integrations/jupyter.html\" target=\"_blank\">(Documentation)</a>.<br/>\n",
              "                Project page: <a href=\"https://app.wandb.ai/igodfried/uncategorized\" target=\"_blank\">https://app.wandb.ai/igodfried/uncategorized</a><br/>\n",
              "                Sweep page: <a href=\"https://app.wandb.ai/igodfried/uncategorized/sweeps/sz2r7l4w\" target=\"_blank\">https://app.wandb.ai/igodfried/uncategorized/sweeps/sz2r7l4w</a><br/>\n",
              "Run page: <a href=\"https://app.wandb.ai/igodfried/uncategorized/runs/osdesxgw\" target=\"_blank\">https://app.wandb.ai/igodfried/uncategorized/runs/osdesxgw</a><br/>\n",
              "            "
            ],
            "text/plain": [
              "<IPython.core.display.HTML object>"
            ]
          },
          "metadata": {
            "tags": []
          }
        },
        {
          "output_type": "stream",
          "text": [
            "Epoch 1/30\n",
            "WARNING:tensorflow:Layer bidirectional is casting an input tensor from dtype float64 to the layer's dtype of float32, which is new behavior in TensorFlow 2.  The layer has dtype float32 because it's dtype defaults to floatx.\n",
            "\n",
            "If you intended to run this layer in float32, you can safely ignore this warning. If in doubt, this warning is likely only an issue if you are porting a TensorFlow 1.X model to TensorFlow 2.\n",
            "\n",
            "To change all layers to have dtype float64 by default, call `tf.keras.backend.set_floatx('float64')`. To change just this layer, pass dtype='float64' to the layer constructor. If you are the author of this layer, you can disable autocasting by passing autocast=False to the base Layer constructor.\n",
            "\n",
            "12/12 [==============================] - 1s 71ms/step - loss: 0.8769 - val_loss: 18.7156\n",
            "Epoch 2/30\n",
            "12/12 [==============================] - 0s 13ms/step - loss: 0.2259 - val_loss: 3.5145\n",
            "Epoch 3/30\n",
            "12/12 [==============================] - 0s 11ms/step - loss: 1.0257 - val_loss: 22.8876\n",
            "Epoch 4/30\n",
            "12/12 [==============================] - 0s 10ms/step - loss: 0.2683 - val_loss: 12.8745\n",
            "Epoch 5/30\n",
            "12/12 [==============================] - 0s 11ms/step - loss: 0.0915 - val_loss: 6.6803\n",
            "Epoch 6/30\n",
            "12/12 [==============================] - 0s 10ms/step - loss: 0.0724 - val_loss: 8.3931\n",
            "Epoch 7/30\n",
            "12/12 [==============================] - 0s 13ms/step - loss: 0.1522 - val_loss: 7.9598\n",
            "Epoch 8/30\n",
            "12/12 [==============================] - 0s 12ms/step - loss: 0.0700 - val_loss: 5.3470\n",
            "Epoch 9/30\n",
            "12/12 [==============================] - 0s 10ms/step - loss: 0.0839 - val_loss: 7.9331\n",
            "Epoch 10/30\n",
            "12/12 [==============================] - 0s 10ms/step - loss: 0.0352 - val_loss: 5.4528\n",
            "Epoch 11/30\n",
            "12/12 [==============================] - 0s 11ms/step - loss: 0.0601 - val_loss: 6.9318\n",
            "Epoch 12/30\n",
            "12/12 [==============================] - 0s 11ms/step - loss: 0.0733 - val_loss: 5.0008\n",
            "Epoch 13/30\n",
            "12/12 [==============================] - 0s 11ms/step - loss: 0.0998 - val_loss: 6.3775\n",
            "Epoch 14/30\n",
            "12/12 [==============================] - 0s 14ms/step - loss: 0.0600 - val_loss: 4.1237\n",
            "Epoch 15/30\n",
            "12/12 [==============================] - 0s 13ms/step - loss: 0.1190 - val_loss: 6.6838\n",
            "Epoch 16/30\n",
            "12/12 [==============================] - 0s 10ms/step - loss: 0.0706 - val_loss: 4.2115\n",
            "Epoch 17/30\n",
            "12/12 [==============================] - 0s 10ms/step - loss: 0.0392 - val_loss: 5.7393\n",
            "Epoch 18/30\n",
            "12/12 [==============================] - 0s 10ms/step - loss: 0.0106 - val_loss: 5.1314\n",
            "Epoch 19/30\n",
            "12/12 [==============================] - 0s 11ms/step - loss: 0.0120 - val_loss: 4.9296\n",
            "Epoch 20/30\n",
            "12/12 [==============================] - 0s 10ms/step - loss: 0.0626 - val_loss: 5.1185\n",
            "Epoch 21/30\n",
            "12/12 [==============================] - 0s 12ms/step - loss: 0.0979 - val_loss: 3.4230\n",
            "Epoch 22/30\n",
            "12/12 [==============================] - 0s 10ms/step - loss: 0.1506 - val_loss: 6.6682\n",
            "Epoch 23/30\n",
            "12/12 [==============================] - 0s 10ms/step - loss: 0.0753 - val_loss: 4.2356\n",
            "Epoch 24/30\n",
            "12/12 [==============================] - 0s 10ms/step - loss: 0.0774 - val_loss: 6.8041\n",
            "Epoch 25/30\n",
            "12/12 [==============================] - 0s 10ms/step - loss: 0.0304 - val_loss: 4.8252\n",
            "Epoch 26/30\n",
            "12/12 [==============================] - 0s 10ms/step - loss: 0.0318 - val_loss: 6.1665\n",
            "Epoch 27/30\n",
            "12/12 [==============================] - 0s 10ms/step - loss: 0.0267 - val_loss: 4.9349\n",
            "Epoch 28/30\n",
            "12/12 [==============================] - 0s 10ms/step - loss: 0.0608 - val_loss: 5.6010\n",
            "Epoch 29/30\n",
            "12/12 [==============================] - 0s 11ms/step - loss: 0.0784 - val_loss: 3.8649\n",
            "Epoch 30/30\n",
            "12/12 [==============================] - 0s 10ms/step - loss: 0.0682 - val_loss: 6.7876\n",
            "wandb: Agent Finished Run: osdesxgw \n",
            "\n",
            "wandb: Agent Starting Run: 9e6id0bu with config:\n",
            "\tbatch_size: 5\n",
            "\tlearn: 0.004\n",
            "wandb: Agent Started Run: 9e6id0bu\n"
          ],
          "name": "stdout"
        },
        {
          "output_type": "stream",
          "text": [
            "\u001b[34m\u001b[1mwandb\u001b[0m: \u001b[33mWARNING\u001b[0m Ignoring project='covid-forecast' passed to wandb.init when running a sweep\n",
            "\u001b[34m\u001b[1mwandb\u001b[0m: \u001b[33mWARNING\u001b[0m Ignoring project='covid-forecast' passed to wandb.init when running a sweep\n"
          ],
          "name": "stderr"
        },
        {
          "output_type": "display_data",
          "data": {
            "text/html": [
              "\n",
              "                Logging results to <a href=\"https://wandb.com\" target=\"_blank\">Weights & Biases</a> <a href=\"https://docs.wandb.com/integrations/jupyter.html\" target=\"_blank\">(Documentation)</a>.<br/>\n",
              "                Project page: <a href=\"https://app.wandb.ai/igodfried/uncategorized\" target=\"_blank\">https://app.wandb.ai/igodfried/uncategorized</a><br/>\n",
              "                Sweep page: <a href=\"https://app.wandb.ai/igodfried/uncategorized/sweeps/sz2r7l4w\" target=\"_blank\">https://app.wandb.ai/igodfried/uncategorized/sweeps/sz2r7l4w</a><br/>\n",
              "Run page: <a href=\"https://app.wandb.ai/igodfried/uncategorized/runs/9e6id0bu\" target=\"_blank\">https://app.wandb.ai/igodfried/uncategorized/runs/9e6id0bu</a><br/>\n",
              "            "
            ],
            "text/plain": [
              "<IPython.core.display.HTML object>"
            ]
          },
          "metadata": {
            "tags": []
          }
        },
        {
          "output_type": "stream",
          "text": [
            "Epoch 1/30\n",
            "WARNING:tensorflow:Layer bidirectional is casting an input tensor from dtype float64 to the layer's dtype of float32, which is new behavior in TensorFlow 2.  The layer has dtype float32 because it's dtype defaults to floatx.\n",
            "\n",
            "If you intended to run this layer in float32, you can safely ignore this warning. If in doubt, this warning is likely only an issue if you are porting a TensorFlow 1.X model to TensorFlow 2.\n",
            "\n",
            "To change all layers to have dtype float64 by default, call `tf.keras.backend.set_floatx('float64')`. To change just this layer, pass dtype='float64' to the layer constructor. If you are the author of this layer, you can disable autocasting by passing autocast=False to the base Layer constructor.\n",
            "\n",
            "12/12 [==============================] - 1s 69ms/step - loss: 0.5793 - val_loss: 9.9515\n",
            "Epoch 2/30\n",
            "12/12 [==============================] - 0s 13ms/step - loss: 0.8077 - val_loss: 4.3509\n",
            "Epoch 3/30\n",
            "12/12 [==============================] - 0s 11ms/step - loss: 1.9880 - val_loss: 43.2244\n",
            "Epoch 4/30\n",
            "12/12 [==============================] - 0s 10ms/step - loss: 1.0050 - val_loss: 27.0267\n",
            "Epoch 5/30\n",
            "12/12 [==============================] - 0s 11ms/step - loss: 0.3387 - val_loss: 12.8716\n",
            "Epoch 6/30\n",
            "12/12 [==============================] - 0s 10ms/step - loss: 0.2301 - val_loss: 5.1724\n",
            "Epoch 7/30\n",
            "12/12 [==============================] - 0s 11ms/step - loss: 0.3778 - val_loss: 15.3035\n",
            "Epoch 8/30\n",
            "12/12 [==============================] - 0s 13ms/step - loss: 0.0718 - val_loss: 9.3849\n",
            "Epoch 9/30\n",
            "12/12 [==============================] - 0s 10ms/step - loss: 0.1397 - val_loss: 6.1074\n",
            "Epoch 10/30\n",
            "12/12 [==============================] - 0s 10ms/step - loss: 0.3462 - val_loss: 12.0618\n",
            "Epoch 11/30\n",
            "12/12 [==============================] - 0s 11ms/step - loss: 0.0398 - val_loss: 5.5018\n",
            "Epoch 12/30\n",
            "12/12 [==============================] - 0s 10ms/step - loss: 0.0602 - val_loss: 4.9495\n",
            "Epoch 13/30\n",
            "12/12 [==============================] - 0s 10ms/step - loss: 0.0724 - val_loss: 5.9846\n",
            "Epoch 14/30\n",
            "12/12 [==============================] - 0s 14ms/step - loss: 0.0287 - val_loss: 3.4503\n",
            "Epoch 15/30\n",
            "12/12 [==============================] - 0s 14ms/step - loss: 0.0137 - val_loss: 4.4452\n",
            "Epoch 16/30\n",
            "12/12 [==============================] - 0s 11ms/step - loss: 0.0193 - val_loss: 4.5147\n",
            "Epoch 17/30\n",
            "12/12 [==============================] - 0s 10ms/step - loss: 0.0315 - val_loss: 3.8671\n",
            "Epoch 18/30\n",
            "12/12 [==============================] - 0s 11ms/step - loss: 0.1079 - val_loss: 5.4123\n",
            "Epoch 19/30\n",
            "12/12 [==============================] - 0s 13ms/step - loss: 0.1343 - val_loss: 3.3707\n",
            "Epoch 20/30\n",
            "12/12 [==============================] - 0s 11ms/step - loss: 0.2202 - val_loss: 8.4454\n",
            "Epoch 21/30\n",
            "12/12 [==============================] - 0s 10ms/step - loss: 0.0473 - val_loss: 5.5182\n",
            "Epoch 22/30\n",
            "12/12 [==============================] - 0s 10ms/step - loss: 0.0327 - val_loss: 6.2963\n",
            "Epoch 23/30\n",
            "12/12 [==============================] - 0s 10ms/step - loss: 0.0259 - val_loss: 4.9371\n",
            "Epoch 24/30\n",
            "12/12 [==============================] - 0s 10ms/step - loss: 0.0289 - val_loss: 5.2681\n",
            "Epoch 25/30\n",
            "12/12 [==============================] - 0s 11ms/step - loss: 0.0302 - val_loss: 3.5439\n",
            "Epoch 26/30\n",
            "12/12 [==============================] - 0s 10ms/step - loss: 0.0933 - val_loss: 5.7392\n",
            "Epoch 27/30\n",
            "12/12 [==============================] - 0s 12ms/step - loss: 0.0624 - val_loss: 2.7467\n",
            "Epoch 28/30\n",
            "12/12 [==============================] - 0s 11ms/step - loss: 0.0619 - val_loss: 4.1674\n",
            "Epoch 29/30\n",
            "12/12 [==============================] - 0s 11ms/step - loss: 0.0530 - val_loss: 2.8999\n",
            "Epoch 30/30\n",
            "12/12 [==============================] - 0s 10ms/step - loss: 0.0280 - val_loss: 4.9766\n",
            "wandb: Agent Finished Run: 9e6id0bu \n",
            "\n",
            "wandb: Agent Starting Run: hokmq05t with config:\n",
            "\tbatch_size: 5\n",
            "\tlearn: 0.01\n",
            "wandb: Agent Started Run: hokmq05t\n"
          ],
          "name": "stdout"
        },
        {
          "output_type": "stream",
          "text": [
            "\u001b[34m\u001b[1mwandb\u001b[0m: \u001b[33mWARNING\u001b[0m Ignoring project='covid-forecast' passed to wandb.init when running a sweep\n",
            "\u001b[34m\u001b[1mwandb\u001b[0m: \u001b[33mWARNING\u001b[0m Ignoring project='covid-forecast' passed to wandb.init when running a sweep\n"
          ],
          "name": "stderr"
        },
        {
          "output_type": "display_data",
          "data": {
            "text/html": [
              "\n",
              "                Logging results to <a href=\"https://wandb.com\" target=\"_blank\">Weights & Biases</a> <a href=\"https://docs.wandb.com/integrations/jupyter.html\" target=\"_blank\">(Documentation)</a>.<br/>\n",
              "                Project page: <a href=\"https://app.wandb.ai/igodfried/uncategorized\" target=\"_blank\">https://app.wandb.ai/igodfried/uncategorized</a><br/>\n",
              "                Sweep page: <a href=\"https://app.wandb.ai/igodfried/uncategorized/sweeps/sz2r7l4w\" target=\"_blank\">https://app.wandb.ai/igodfried/uncategorized/sweeps/sz2r7l4w</a><br/>\n",
              "Run page: <a href=\"https://app.wandb.ai/igodfried/uncategorized/runs/hokmq05t\" target=\"_blank\">https://app.wandb.ai/igodfried/uncategorized/runs/hokmq05t</a><br/>\n",
              "            "
            ],
            "text/plain": [
              "<IPython.core.display.HTML object>"
            ]
          },
          "metadata": {
            "tags": []
          }
        },
        {
          "output_type": "stream",
          "text": [
            "Epoch 1/30\n",
            "WARNING:tensorflow:Layer bidirectional is casting an input tensor from dtype float64 to the layer's dtype of float32, which is new behavior in TensorFlow 2.  The layer has dtype float32 because it's dtype defaults to floatx.\n",
            "\n",
            "If you intended to run this layer in float32, you can safely ignore this warning. If in doubt, this warning is likely only an issue if you are porting a TensorFlow 1.X model to TensorFlow 2.\n",
            "\n",
            "To change all layers to have dtype float64 by default, call `tf.keras.backend.set_floatx('float64')`. To change just this layer, pass dtype='float64' to the layer constructor. If you are the author of this layer, you can disable autocasting by passing autocast=False to the base Layer constructor.\n",
            "\n",
            "12/12 [==============================] - 1s 71ms/step - loss: 0.3085 - val_loss: 14.7724\n",
            "Epoch 2/30\n",
            "12/12 [==============================] - 0s 12ms/step - loss: 0.4912 - val_loss: 11.7874\n",
            "Epoch 3/30\n",
            "12/12 [==============================] - 0s 12ms/step - loss: 1.7113 - val_loss: 17.2346\n",
            "Epoch 4/30\n",
            "12/12 [==============================] - 0s 11ms/step - loss: 1.6644 - val_loss: 42.6668\n",
            "Epoch 5/30\n",
            "12/12 [==============================] - 0s 13ms/step - loss: 0.3710 - val_loss: 10.3652\n",
            "Epoch 6/30\n",
            "12/12 [==============================] - 0s 14ms/step - loss: 0.4866 - val_loss: 4.6774\n",
            "Epoch 7/30\n",
            "12/12 [==============================] - 0s 12ms/step - loss: 0.7827 - val_loss: 15.0306\n",
            "Epoch 8/30\n",
            "12/12 [==============================] - 0s 11ms/step - loss: 0.4815 - val_loss: 8.8566\n",
            "Epoch 9/30\n",
            "12/12 [==============================] - 0s 11ms/step - loss: 1.1672 - val_loss: 25.7902\n",
            "Epoch 10/30\n",
            "12/12 [==============================] - 0s 12ms/step - loss: 0.3273 - val_loss: 12.5715\n",
            "Epoch 11/30\n",
            "12/12 [==============================] - 0s 10ms/step - loss: 0.6977 - val_loss: 11.9048\n",
            "Epoch 12/30\n",
            "12/12 [==============================] - 0s 11ms/step - loss: 1.1074 - val_loss: 24.0079\n",
            "Epoch 13/30\n",
            "12/12 [==============================] - 0s 10ms/step - loss: 0.2565 - val_loss: 14.0797\n",
            "Epoch 14/30\n",
            "12/12 [==============================] - 0s 12ms/step - loss: 0.1362 - val_loss: 6.7680\n",
            "Epoch 15/30\n",
            "12/12 [==============================] - 0s 13ms/step - loss: 0.1610 - val_loss: 12.9133\n",
            "Epoch 16/30\n",
            "12/12 [==============================] - 0s 12ms/step - loss: 0.0589 - val_loss: 7.5791\n",
            "Epoch 17/30\n",
            "12/12 [==============================] - 0s 10ms/step - loss: 0.0846 - val_loss: 7.2938\n",
            "Epoch 18/30\n",
            "12/12 [==============================] - 0s 10ms/step - loss: 0.0516 - val_loss: 5.9777\n",
            "Epoch 19/30\n",
            "12/12 [==============================] - 0s 11ms/step - loss: 0.0872 - val_loss: 6.9130\n",
            "Epoch 20/30\n",
            "12/12 [==============================] - 0s 11ms/step - loss: 0.1659 - val_loss: 5.7129\n",
            "Epoch 21/30\n",
            "12/12 [==============================] - 0s 10ms/step - loss: 0.1632 - val_loss: 10.7843\n",
            "Epoch 22/30\n",
            "12/12 [==============================] - 0s 11ms/step - loss: 0.0351 - val_loss: 8.4132\n",
            "Epoch 23/30\n",
            "12/12 [==============================] - 0s 11ms/step - loss: 0.0283 - val_loss: 9.6677\n",
            "Epoch 24/30\n",
            "12/12 [==============================] - 0s 10ms/step - loss: 0.0339 - val_loss: 8.9216\n",
            "Epoch 25/30\n",
            "12/12 [==============================] - 0s 10ms/step - loss: 0.0352 - val_loss: 8.0100\n",
            "Epoch 26/30\n",
            "12/12 [==============================] - 0s 10ms/step - loss: 0.0224 - val_loss: 7.8943\n",
            "Epoch 27/30\n",
            "12/12 [==============================] - 0s 10ms/step - loss: 0.0161 - val_loss: 6.6905\n",
            "Epoch 28/30\n",
            "12/12 [==============================] - 0s 10ms/step - loss: 0.0414 - val_loss: 6.4662\n",
            "Epoch 29/30\n",
            "12/12 [==============================] - 0s 10ms/step - loss: 0.0234 - val_loss: 5.3942\n",
            "Epoch 30/30\n",
            "12/12 [==============================] - 0s 11ms/step - loss: 0.0105 - val_loss: 6.3792\n",
            "wandb: Agent Finished Run: hokmq05t \n",
            "\n"
          ],
          "name": "stdout"
        }
      ]
    },
    {
      "cell_type": "code",
      "metadata": {
        "id": "tR_vweL-bOD1",
        "colab_type": "code",
        "outputId": "f6d40e8b-d959-48ff-85d9-d828cd00779b",
        "colab": {
          "base_uri": "https://localhost:8080/",
          "height": 286
        }
      },
      "source": [
        "import matplotlib.pyplot as plt\n",
        "%matplotlib inline\n",
        "%config InlineBackend.figure_format='retina'\n",
        "plt.plot(history.history['loss'], label='train')\n",
        "plt.plot(history.history['val_loss'], label='test')\n",
        "plt.legend();"
      ],
      "execution_count": 0,
      "outputs": [
        {
          "output_type": "display_data",
          "data": {
            "image/png": "[encoded data removed]",
            "text/plain": [
              "<Figure size 432x288 with 1 Axes>"
            ]
          },
          "metadata": {
            "tags": [],
            "image/png": {
              "width": 370,
              "height": 248
            },
            "needs_background": "light"
          }
        }
      ]
    },
    {
      "cell_type": "markdown",
      "metadata": {
        "id": "zPaMFelHjm-m",
        "colab_type": "text"
      },
      "source": [
        "### Examining Results\n",
        "We will now predict both one step ahead and 20 steps ahead."
      ]
    },
    {
      "cell_type": "code",
      "metadata": {
        "id": "F5zjK1JYf52W",
        "colab_type": "code",
        "outputId": "00fa37da-16a3-428d-bb6c-e6f10371bb94",
        "colab": {
          "base_uri": "https://localhost:8080/",
          "height": 319
        }
      },
      "source": [
        "res = model.predict(X_test)\n",
        "res = r_test.inverse_transform(res)\n",
        "res"
      ],
      "execution_count": 0,
      "outputs": [
        {
          "output_type": "execute_result",
          "data": {
            "text/plain": [
              "array([[-2.1279370e-02,  2.0092883e+03],\n",
              "       [-1.8879963e-02,  2.2472920e+03],\n",
              "       [-1.6375745e-02,  2.5275439e+03],\n",
              "       [-1.3892809e-02,  2.8506108e+03],\n",
              "       [-1.1596879e-02,  3.1829221e+03],\n",
              "       [-9.0861954e-03,  3.5029392e+03],\n",
              "       [-6.4477865e-03,  3.7825161e+03],\n",
              "       [-3.6051013e-03,  4.0421055e+03],\n",
              "       [-1.2287628e-03,  4.2927124e+03],\n",
              "       [ 3.3153594e-04,  4.5448154e+03],\n",
              "       [ 1.1798348e-03,  4.7915127e+03],\n",
              "       [ 2.0689592e-03,  5.0360225e+03],\n",
              "       [ 3.3188127e-03,  5.2662153e+03],\n",
              "       [ 5.0343592e-03,  5.5053794e+03],\n",
              "       [ 6.5031778e-03,  5.7533242e+03],\n",
              "       [ 7.2021466e-03,  5.9751943e+03],\n",
              "       [ 7.6369299e-03,  6.1531494e+03]], dtype=float32)"
            ]
          },
          "metadata": {
            "tags": []
          },
          "execution_count": 30
        }
      ]
    },
    {
      "cell_type": "code",
      "metadata": {
        "id": "Z_9dG21n1bJC",
        "colab_type": "code",
        "outputId": "aee9ba88-9e6e-4ec8-ad2c-a114d299538a",
        "colab": {
          "base_uri": "https://localhost:8080/",
          "height": 319
        }
      },
      "source": [
        "y_true = r_test.inverse_transform(y_test)\n",
        "y_true"
      ],
      "execution_count": 0,
      "outputs": [
        {
          "output_type": "execute_result",
          "data": {
            "text/plain": [
              "array([[   0., 3521.],\n",
              "       [   0., 3822.],\n",
              "       [   0., 4086.],\n",
              "       [   0., 4179.],\n",
              "       [   0., 4265.],\n",
              "       [   0., 4330.],\n",
              "       [   0., 4470.],\n",
              "       [   0., 4645.],\n",
              "       [   0., 4855.],\n",
              "       [   0., 4965.],\n",
              "       [   0., 5028.],\n",
              "       [   0., 5079.],\n",
              "       [   0., 5241.],\n",
              "       [   0., 5415.],\n",
              "       [   0., 5449.],\n",
              "       [   0., 5449.],\n",
              "       [   0., 5449.]])"
            ]
          },
          "metadata": {
            "tags": []
          },
          "execution_count": 31
        }
      ]
    },
    {
      "cell_type": "code",
      "metadata": {
        "id": "JVKR-Hw_1lQ8",
        "colab_type": "code",
        "outputId": "7e86523f-421b-47f5-a08a-8c5aaaa057b3",
        "colab": {
          "base_uri": "https://localhost:8080/",
          "height": 368
        }
      },
      "source": [
        "def predict_multi(model, time_steps, start_rows):\n",
        "  start_rows=np.expand_dims(start_rows, axis=0)\n",
        "  for i in range(0, time_steps):\n",
        "    out = model.predict(start_rows[:, i:, :])\n",
        "    out = out[np.newaxis, ...]\n",
        "    start_rows = np.concatenate((start_rows, out), axis=1)\n",
        "  return start_rows[:, config[\"seq_len\"]:, :]\n",
        "\n",
        "arr = predict_multi(model, len(test)-config[\"seq_len\"], X_test[0, :, :])\n",
        "test_orig['predicted_cases'] = 0\n",
        "test_orig['predicted_cases'][config[\"seq_len\"]:] = r_test.inverse_transform(arr.squeeze(0))[:, 1]\n",
        "plt.plot(test_orig['predicted_cases'], label='predicted_cases')\n",
        "plt.plot(test_orig['cases'], label='actual_cases')\n",
        "plt.legend();\n",
        "wandb.log({\"test\":plt})"
      ],
      "execution_count": 0,
      "outputs": [
        {
          "output_type": "stream",
          "text": [
            "/usr/local/lib/python3.6/dist-packages/ipykernel_launcher.py:11: SettingWithCopyWarning:\n",
            "\n",
            "\n",
            "A value is trying to be set on a copy of a slice from a DataFrame\n",
            "\n",
            "See the caveats in the documentation: https://pandas.pydata.org/pandas-docs/stable/user_guide/indexing.html#returning-a-view-versus-a-copy\n",
            "\n",
            "/usr/local/lib/python3.6/dist-packages/plotly/matplotlylib/mpltools.py:368: MatplotlibDeprecationWarning:\n",
            "\n",
            "\n",
            "The is_frame_like function was deprecated in Matplotlib 3.1 and will be removed in 3.3.\n",
            "\n",
            "/usr/local/lib/python3.6/dist-packages/plotly/matplotlylib/renderer.py:410: UserWarning:\n",
            "\n",
            "Bummer! Plotly can currently only draw Line2D objects from matplotlib that are in 'data' coordinates!\n",
            "\n",
            "/usr/local/lib/python3.6/dist-packages/plotly/matplotlylib/renderer.py:512: UserWarning:\n",
            "\n",
            "I found a path object that I don't think is part of a bar chart. Ignoring.\n",
            "\n"
          ],
          "name": "stderr"
        }
      ]
    },
    {
      "cell_type": "code",
      "metadata": {
        "id": "aoIE9nyy3gVB",
        "colab_type": "code",
        "outputId": "fccf7eb0-be54-446c-f780-611b7b7d1e37",
        "colab": {
          "base_uri": "https://localhost:8080/",
          "height": 153
        }
      },
      "source": [
        "r_test.inverse_transform(X_test[0, :, :])"
      ],
      "execution_count": 0,
      "outputs": [
        {
          "output_type": "execute_result",
          "data": {
            "text/plain": [
              "array([[   0., 2342.],\n",
              "       [   0., 2508.],\n",
              "       [   0., 2694.],\n",
              "       [   0., 2802.],\n",
              "       [   0., 2881.],\n",
              "       [   0., 3128.],\n",
              "       [   0., 3307.]])"
            ]
          },
          "metadata": {
            "tags": []
          },
          "execution_count": 14
        }
      ]
    },
    {
      "cell_type": "code",
      "metadata": {
        "id": "nW4Nwm9yWPia",
        "colab_type": "code",
        "outputId": "76a383f0-a538-4098-9806-a3f3806f353b",
        "colab": {
          "base_uri": "https://localhost:8080/",
          "height": 319
        }
      },
      "source": [
        "y_multi = r_test.inverse_transform(arr.squeeze(0))\n",
        "y_multi"
      ],
      "execution_count": 0,
      "outputs": [
        {
          "output_type": "execute_result",
          "data": {
            "text/plain": [
              "array([[-2.12793704e-02,  2.00928912e+03],\n",
              "       [-2.36456450e-02,  1.96579090e+03],\n",
              "       [-2.32349541e-02,  1.79785547e+03],\n",
              "       [-2.29426380e-02,  1.55205121e+03],\n",
              "       [-2.49109063e-02,  1.25682677e+03],\n",
              "       [-3.02774105e-02,  9.26331511e+02],\n",
              "       [-3.81791964e-02,  5.71013687e+02],\n",
              "       [-4.35400605e-02,  2.24849555e+02],\n",
              "       [-4.84175906e-02, -5.02670822e+01],\n",
              "       [-5.37138134e-02, -3.33807449e+02],\n",
              "       [-5.92226684e-02, -6.05690453e+02],\n",
              "       [-6.46216497e-02, -8.56124453e+02],\n",
              "       [-6.95688501e-02, -1.08077419e+03],\n",
              "       [-7.38583505e-02, -1.27827176e+03],\n",
              "       [-7.75195137e-02, -1.44942704e+03],\n",
              "       [-8.07663053e-02, -1.59675538e+03],\n",
              "       [-8.34889859e-02, -1.72313082e+03]])"
            ]
          },
          "metadata": {
            "tags": []
          },
          "execution_count": 33
        }
      ]
    },
    {
      "cell_type": "code",
      "metadata": {
        "id": "5x_QvIsutf1a",
        "colab_type": "code",
        "colab": {}
      },
      "source": [
        "import tensorflow as tf\n",
        "x_test = y_true[:, 1] \n",
        "wandb.run.summary[\"test_mse\"] = tf.keras.losses.MSE(\n",
        "    x_test, res[:, 1]\n",
        ")"
      ],
      "execution_count": 0,
      "outputs": []
    },
    {
      "cell_type": "code",
      "metadata": {
        "id": "6BiFffVB3Jc1",
        "colab_type": "code",
        "colab": {}
      },
      "source": [
        "wandb.run.summary[\"test_mse_full\"] = tf.keras.losses.MSE(\n",
        "    y_multi[:, 1], x_test\n",
        ")"
      ],
      "execution_count": 0,
      "outputs": []
    },
    {
      "cell_type": "markdown",
      "metadata": {
        "id": "bkob-4bnYdeT",
        "colab_type": "text"
      },
      "source": [
        "### PyTorch models\n"
      ]
    },
    {
      "cell_type": "code",
      "metadata": {
        "id": "aGXjVazoJ9i3",
        "colab_type": "code",
        "colab": {}
      },
      "source": [
        "import torch\n",
        "import math\n",
        "from torch.nn.modules import Transformer, TransformerEncoder, TransformerDecoder, TransformerDecoderLayer, TransformerEncoderLayer, LayerNorm\n",
        "class CustomTransformerDecoder(torch.nn.Module):\n",
        "    def __init__(self, seq_length, output_seq_length, n_time_series, d_model=128, output_dim=1):\n",
        "        super().__init__()\n",
        "        self.dense_shape = torch.nn.Linear(n_time_series, d_model)\n",
        "        self.pe = SimplePositionalEncoding(d_model)\n",
        "        encoder_layer = TransformerEncoderLayer(d_model, 8)\n",
        "        encoder_norm = LayerNorm(d_model)\n",
        "        self.transformer_enc = TransformerEncoder(encoder_layer, 6, encoder_norm)\n",
        "        self.output_dim_layer = torch.nn.Linear(d_model, output_dim)\n",
        "        self.output_seq_length = output_seq_length\n",
        "        self.out_length_lay  = torch.nn.Linear(seq_length, output_seq_length)\n",
        "        self.mask = generate_square_subsequent_mask(seq_length)\n",
        "    def forward(self, x):\n",
        "        \"\"\"\"\"\"\n",
        "        x = self.dense_shape(x)\n",
        "        x = self.pe(x)\n",
        "        x = x.permute(1,0,2)\n",
        "        x = self.transformer_enc(x, mask=self.mask)\n",
        "        x = self.output_dim_layer(x)\n",
        "        x = x.permute(1, 2, 0)\n",
        "        x = self.out_length_lay(x)\n",
        "        return x.view(-1, self.output_seq_length)\n",
        "    \n",
        "class SimplePositionalEncoding(torch.nn.Module):\n",
        "    def __init__(self, d_model, dropout=0.1, max_len=5000):\n",
        "        super(SimplePositionalEncoding, self).__init__()\n",
        "        self.dropout = torch.nn.Dropout(p=dropout)\n",
        "        pe = torch.zeros(max_len, d_model)\n",
        "        position = torch.arange(0, max_len, dtype=torch.float).unsqueeze(1)\n",
        "        div_term = torch.exp(torch.arange(0, d_model, 2).float() * (-math.log(10000.0) / d_model))\n",
        "        pe[:, 0::2] = torch.sin(position * div_term)\n",
        "        pe[:, 1::2] = torch.cos(position * div_term)\n",
        "        pe = pe.unsqueeze(0).transpose(0, 1)\n",
        "        self.register_buffer('pe', pe)\n",
        "\n",
        "    def forward(self, x:torch.Tensor)->torch.Tensor:\n",
        "        \"\"\"Creates a basic positional encoding\"\"\"\n",
        "        x = x + self.pe[:x.size(0), :]\n",
        "        return self.dropout(x)\n",
        "        \n",
        "def generate_square_subsequent_mask(sz:int)->torch.Tensor:\n",
        "        r\"\"\"Generate a square mask for the sequence. The masked positions are filled with float('-inf').\n",
        "            Unmasked positions are filled with float(0.0).\n",
        "        \"\"\"\n",
        "        mask = (torch.triu(torch.ones(sz, sz)) == 1).transpose(0, 1)\n",
        "        mask = mask.float().masked_fill(mask == 0, float('-inf')).masked_fill(mask == 1, float(0.0))\n",
        "        return mask"
      ],
      "execution_count": 0,
      "outputs": []
    },
    {
      "cell_type": "code",
      "metadata": {
        "id": "RK-U7-QhfP5b",
        "colab_type": "code",
        "colab": {}
      },
      "source": [
        "c = CustomTransformerDecoder(50, 1, 3)"
      ],
      "execution_count": 0,
      "outputs": []
    },
    {
      "cell_type": "code",
      "metadata": {
        "id": "VtZbZ55tfe0i",
        "colab_type": "code",
        "outputId": "8e42b01b-303a-4fbf-f55e-217198c364e0",
        "colab": {
          "base_uri": "https://localhost:8080/",
          "height": 71
        }
      },
      "source": [
        "c(torch.rand(2, 50, 3))"
      ],
      "execution_count": 0,
      "outputs": [
        {
          "output_type": "execute_result",
          "data": {
            "text/plain": [
              "tensor([[-0.2974],\n",
              "        [-0.2575]], grad_fn=<ViewBackward>)"
            ]
          },
          "metadata": {
            "tags": []
          },
          "execution_count": 39
        }
      ]
    },
    {
      "cell_type": "code",
      "metadata": {
        "id": "7mFCWLbkktra",
        "colab_type": "code",
        "colab": {}
      },
      "source": [
        "class LSTMForecast(torch.nn.Module):\n",
        "  def __init__(self, seq_length: int, n_time_series: int, output_seq_len=1, hidden_states=20, num_layers=2, bias=True):\n",
        "    super().__init__()\n",
        "    self.num_layers = num_layers\n",
        "    self.forecast_history = seq_length\n",
        "    self.n_time_series = n_time_series\n",
        "    self.hidden_dim = hidden_states\n",
        "    self.lstm = torch.nn.LSTM(n_time_series, hidden_states, num_layers, bias, batch_first=True)\n",
        "    self.final_layer = torch.nn.Linear(seq_length*hidden_states, output_seq_len)\n",
        "\n",
        "  def init_hidden(self, batch_size):\n",
        "    # even with batch_first = True this remains same as docs\n",
        "    hidden_state = torch.zeros(self.num_layers,batch_size,self.hidden_dim)\n",
        "    cell_state = torch.zeros(self.num_layers,batch_size,self.hidden_dim)\n",
        "    self.hidden = (hidden_state, cell_state)\n",
        "\n",
        "  def forward(self, x: torch.Tensor) -> torch.Tensor:\n",
        "    print(x.size()[0])\n",
        "    batch_size = x.size()[0]\n",
        "    out_x,self.hidden = self.lstm(x, self.hidden)\n",
        "    x = self.final_layer(out_x.contiguous().view(batch_size, -1))\n",
        "    return x"
      ],
      "execution_count": 0,
      "outputs": []
    }
  ]
}