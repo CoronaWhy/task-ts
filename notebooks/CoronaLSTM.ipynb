{
  "nbformat": 4,
  "nbformat_minor": 0,
  "metadata": {
    "colab": {
      "name": "CoronaBasic.ipynb",
      "provenance": [],
      "collapsed_sections": []
    },
    "kernelspec": {
      "name": "python3",
      "display_name": "Python 3"
    },
    "accelerator": "GPU"
  },
  "cells": [
    {
      "cell_type": "markdown",
      "metadata": {
        "id": "htDHburyBuEe",
        "colab_type": "text"
      },
      "source": [
        "# Preliminary Analysis of CoronaVirus Time Series Data\n",
        "In this notebook we will conduct some preliminary analysis and forecasting on the Coronavirus time seires data. For this analysis we will look at \n",
        "\n",
        "**Warning this is a basic analysis/machine learning model. The goal of this notebook is to gage the utility of data augmentation/transfer learning for virus forecasting. NOT provide actionable insights. It would additional rounds of training/validation + verification by epidemiologists and public health experts before I would be confident relying on using it for any actionable insights**"
      ]
    },
    {
      "cell_type": "code",
      "metadata": {
        "id": "CA1NxnWmHOAQ",
        "colab_type": "code",
        "colab": {}
      },
      "source": [
        "#!git clone https://github.com/CoronaWhy/task-geo.git\n",
        "#!os.chdir('task-geo')\n",
        "import pandas as pd\n",
        "!wget -O coronavirus_timeseries.csv https://coronadatascraper.com/timeseries.csv\n",
        "!pip install wandb\n",
        "!wandb login\n",
        "import wandb\n",
        "from tensorflow import keras\n",
        "from wandb.keras import WandbCallback "
      ],
      "execution_count": 0,
      "outputs": []
    },
    {
      "cell_type": "code",
      "metadata": {
        "id": "WmOWKLuxHT7j",
        "colab_type": "code",
        "colab": {}
      },
      "source": [
        "df = pd.read_csv(\"coronavirus_timeseries.csv\")\n",
        "df['month'] = pd.to_datetime(df['date']).map(lambda x: x.month)\n",
        "df['weekday'] = pd.to_datetime(df['date']).map(lambda x: x.weekday())"
      ],
      "execution_count": 0,
      "outputs": []
    },
    {
      "cell_type": "code",
      "metadata": {
        "id": "asrssixL6XZo",
        "colab_type": "code",
        "outputId": "34c73d99-c25c-42cf-f2e9-6772e83fa39f",
        "colab": {
          "base_uri": "https://localhost:8080/",
          "height": 54
        }
      },
      "source": [
        "unqiue_counties = df['county'].unique()\n",
        "print(len(unqiue_counties))"
      ],
      "execution_count": 3,
      "outputs": [
        {
          "output_type": "stream",
          "text": [
            "2015\n"
          ],
          "name": "stdout"
        }
      ]
    },
    {
      "cell_type": "markdown",
      "metadata": {
        "id": "Mc189EXg6pfE",
        "colab_type": "text"
      },
      "source": [
        "## Forecasting in Antwerp"
      ]
    },
    {
      "cell_type": "code",
      "metadata": {
        "id": "WiJyk9YiHaOX",
        "colab_type": "code",
        "outputId": "1e881d25-e337-4f29-8444-2fe3e84a2044",
        "colab": {
          "base_uri": "https://localhost:8080/",
          "height": 54
        }
      },
      "source": [
        "antwerp_df = df[df['county']=='Antwerp'].fillna(0)\n",
        "antwerp_relevant = antwerp_df[['cases', 'deaths', 'recovered', 'population', 'lat', 'long']].values\n",
        "antwerp_df['new_cases'] = antwerp_df.cases.diff()\n",
        "#antwerp_df.tail()\n",
        "print(len(antwerp_df))"
      ],
      "execution_count": 4,
      "outputs": [
        {
          "output_type": "stream",
          "text": [
            "96\n"
          ],
          "name": "stdout"
        }
      ]
    },
    {
      "cell_type": "markdown",
      "metadata": {
        "id": "KlVWneL_CV3r",
        "colab_type": "text"
      },
      "source": [
        "## Data Augmentation\n",
        "We will now explore using the tsaug library for forecasting."
      ]
    },
    {
      "cell_type": "code",
      "metadata": {
        "id": "l1J98G13HbKM",
        "colab_type": "code",
        "outputId": "8d19cb85-b098-4cab-b433-27fcaa8a620e",
        "colab": {
          "base_uri": "https://localhost:8080/",
          "height": 137
        }
      },
      "source": [
        "!pip install tsaug"
      ],
      "execution_count": 0,
      "outputs": [
        {
          "output_type": "stream",
          "text": [
            "Collecting tsaug\n",
            "  Downloading https://files.pythonhosted.org/packages/e8/6e/8b1be145a32bba360c14322c3b87ad93d6227c46528d482c84eefe54094b/tsaug-0.2.1-py3-none-any.whl\n",
            "Requirement already satisfied: numpy>=1.14 in /usr/local/lib/python3.6/dist-packages (from tsaug) (1.18.3)\n",
            "Requirement already satisfied: scipy>=1.1 in /usr/local/lib/python3.6/dist-packages (from tsaug) (1.4.1)\n",
            "Installing collected packages: tsaug\n",
            "Successfully installed tsaug-0.2.1\n"
          ],
          "name": "stdout"
        }
      ]
    },
    {
      "cell_type": "code",
      "metadata": {
        "id": "aXNkSdTFvZ1g",
        "colab_type": "code",
        "colab": {}
      },
      "source": [
        "from tsaug.visualization import plot \n",
        "from tsaug import TimeWarp, Crop, Quantize, Drift, Reverse\n",
        "my_augmenter = (TimeWarp() * 5, # random time warping 5 times in parallel \n",
        "                Crop(size=300),  # random crop subsequences with length 300\n",
        "                Quantize(n_levels=[10, 20, 30]),  # random quantize to 10-, 20-, or 30- level sets\n",
        "                Drift(max_drift=(0.1, 0.5)),   # with 80% probability, random drift the signal up to 10% - 50%\n",
        "                Reverse()) #0.5  # with 50% probability, reverse the sequence)"
      ],
      "execution_count": 0,
      "outputs": []
    },
    {
      "cell_type": "code",
      "metadata": {
        "id": "VdVWNhk2XRJw",
        "colab_type": "code",
        "colab": {}
      },
      "source": [
        "#X_aug = my_augmenter[0].augment(antwerp_relevant)\n",
        "print(antwerp_relevant.shape)\n",
        "X_aug = TimeWarp(antwerp[:70])"
      ],
      "execution_count": 0,
      "outputs": []
    },
    {
      "cell_type": "markdown",
      "metadata": {
        "id": "-A6ICggnYBlX",
        "colab_type": "text"
      },
      "source": [
        "## Models and Forecasting\n",
        "We will now define some simple models in Keras for forecasting."
      ]
    },
    {
      "cell_type": "code",
      "metadata": {
        "id": "VO7ZOB41az1W",
        "colab_type": "code",
        "colab": {}
      },
      "source": [
        "import numpy as np\n",
        "import tensorflow as tf\n",
        "from sklearn.preprocessing import RobustScaler\n",
        "scaler_dict = {}\n",
        "config_default = {\"epochs\":30, \"validation_split\":0.1, \n",
        "          \"loss\":\"mean_squared_error\", \"optimizer\":'adam', \n",
        "          \"geo_segment\":\"antwerp\", \"seq_len\":7, \"train_steps\":70, \n",
        "          \"test_steps\":27, \"scaler\":\"RobustScaler\", \"new_cases\":True, \n",
        "          \"beta\":0.899, \"additional_features\":[\"weekday\",\"month\"]}\n",
        "r = RobustScaler()\n",
        "x_train_full = antwerp_df[['deaths', 'new_cases']][1:config_default[\"train_steps\"]]\n",
        "x_train_full = pd.DataFrame(r.fit_transform(x_train_full))\n",
        "y_train_full = x_train_full\n",
        "r_test = RobustScaler()\n",
        "test_orig = antwerp_df[['deaths', 'new_cases']][70:]\n",
        "test = pd.DataFrame(r_test.fit_transform(test_orig))"
      ],
      "execution_count": 0,
      "outputs": []
    },
    {
      "cell_type": "code",
      "metadata": {
        "id": "eUR6eM4MZZJJ",
        "colab_type": "code",
        "colab": {}
      },
      "source": [
        "def create_dataset(X, y, time_steps=1):\n",
        "    Xs, ys = [], []\n",
        "    for i in range(len(X) - time_steps):\n",
        "        v = X.iloc[i:(i + time_steps)].values\n",
        "        Xs.append(v)\n",
        "        ys.append(y.iloc[i + time_steps])\n",
        "    return np.array(Xs), np.array(ys)\n",
        "\n",
        "X_train, Y_train = create_dataset(x_train_full, y_train_full, config_default[\"seq_len\"])\n",
        "X_test, y_test = create_dataset(test, test, config_default[\"seq_len\"])"
      ],
      "execution_count": 0,
      "outputs": []
    },
    {
      "cell_type": "code",
      "metadata": {
        "id": "-OOG9RAp4-ap",
        "colab_type": "code",
        "outputId": "d223f2bb-6963-4a28-a598-30b4aba67522",
        "colab": {
          "base_uri": "https://localhost:8080/",
          "height": 71
        }
      },
      "source": [
        "sweep_config = {\n",
        "  \"name\": \"Default sweep\",\n",
        "  \"method\": \"grid\",\n",
        "  \"parameters\": {\n",
        "        \"batch_size\": {\n",
        "            \"values\": [2, 3, 4, 5]\n",
        "        },\n",
        "        \"learn\":{\n",
        "            \"values\":[0.001, 0.0015, 0.002, 0.003, 0.004, 0.01]\n",
        "        } \n",
        "    }\n",
        "}\n",
        "sweep_id = wandb.sweep(sweep_config, project=\"covid-forecast\")"
      ],
      "execution_count": 7,
      "outputs": [
        {
          "output_type": "stream",
          "text": [
            "Create sweep with ID: wr9ke1l2\n",
            "Sweep URL: https://app.wandb.ai/igodfried/covid-forecast/sweeps/wr9ke1l2\n"
          ],
          "name": "stdout"
        }
      ]
    },
    {
      "cell_type": "code",
      "metadata": {
        "id": "nXhSxkqdYJbd",
        "colab_type": "code",
        "colab": {}
      },
      "source": [
        "import matplotlib.pyplot as plt\n",
        "def train():\n",
        "  run = wandb.init(project=\"covid-forecast\", config=config_default, magic=True)\n",
        "  config = wandb.config\n",
        "  opt = keras.optimizers.Adam(learning_rate=config[\"learn\"], beta_1=config[\"beta\"], beta_2=0.999, amsgrad=False)\n",
        "  model = keras.Sequential()\n",
        "  model.add(\n",
        "    keras.layers.Bidirectional(\n",
        "      keras.layers.LSTM(\n",
        "        units=128,\n",
        "        input_shape=(X_train.shape[1], X_train.shape[2])\n",
        "      )\n",
        "    )\n",
        "  ) \n",
        "  model.add(keras.layers.Dropout(rate=0.2))\n",
        "  model.add(keras.layers.Dense(units=2))\n",
        "  model.compile(loss=config[\"loss\"], optimizer=opt)\n",
        "\n",
        "  history = model.fit(\n",
        "      X_train, Y_train,\n",
        "      epochs=config[\"epochs\"],\n",
        "      batch_size=config[\"batch_size\"],\n",
        "      validation_split=config[\"validation_split\"],\n",
        "      callbacks=[WandbCallback()],\n",
        "      shuffle=False\n",
        "  )\n",
        "  evaluate_single(model, X_test, y_test, r)\n",
        "  evaluate_plot_multi(model, test, config, X_test, r_test)\n",
        "  return model\n",
        "\n",
        "def evaluate_single(model, x_test, y_test, scaler):\n",
        "  y_preds = model.predict(x_test)\n",
        "  y_preds = scaler.inverse_transform(y_preds)\n",
        "  y_test = scaler.inverse_transform(y_test)\n",
        "  complete_mse = tf.keras.losses.MSE( y_preds[:, 1], y_test[:, 1])\n",
        "  wandb.run.summary[\"test_mse\"] = complete_mse\n",
        "  return complete_mse\n",
        "\n",
        "def evaluate_plot_multi(model, test_df, config, x_test, scaler, predictor=\"new_cases\"):\n",
        "  arr = predict_multi(model, len(test)-config[\"seq_len\"], x_test[0, :, :], config)\n",
        "  test_orig['predicted_cases'] = 0\n",
        "  test_orig['predicted_cases'][config[\"seq_len\"]:] = scaler.inverse_transform(arr.squeeze(0))[:, 1]\n",
        "  plt.plot(test_orig['predicted_cases'], label='predicted_cases')\n",
        "  plt.plot(test_orig[predictor], label='actual_cases')\n",
        "  plt.legend();\n",
        "  wandb.log({\"test\":plt})\n",
        "  large_mse = tf.keras.losses.MSE(\n",
        "    scaler.inverse_transform(arr.squeeze(0))[:, 1], test_orig[predictor][config[\"seq_len\"]:].values\n",
        "  )\n",
        "  wandb.run.summary[\"test_mse_full\"] =  large_mse\n",
        "  return large_mse\n",
        "\n",
        "def predict_multi(model, time_steps, start_rows, config):\n",
        "  start_rows=np.expand_dims(start_rows, axis=0)\n",
        "  for i in range(0, time_steps):\n",
        "    out = model.predict(start_rows[:, i:, :])\n",
        "    out = out[np.newaxis, ...]\n",
        "    start_rows = np.concatenate((start_rows, out), axis=1)\n",
        "  return start_rows[:, config[\"seq_len\"]:, :]\n"
      ],
      "execution_count": 0,
      "outputs": []
    },
    {
      "cell_type": "code",
      "metadata": {
        "id": "Q0N5tLiZB_IE",
        "colab_type": "code",
        "outputId": "ef823d2e-64bc-4e62-9141-d405bcd94d1e",
        "colab": {
          "base_uri": "https://localhost:8080/",
          "height": 1000
        }
      },
      "source": [
        "wandb.agent(sweep_id, function=train)\n",
        "#train()"
      ],
      "execution_count": 19,
      "outputs": [
        {
          "output_type": "stream",
          "text": [
            "wandb: Agent Starting Run: u33yh8mt with config:\n",
            "\tbatch_size: 2\n",
            "\tlearn: 0.004\n",
            "wandb: Agent Started Run: u33yh8mt\n"
          ],
          "name": "stdout"
        },
        {
          "output_type": "display_data",
          "data": {
            "text/html": [
              "\n",
              "                Logging results to <a href=\"https://wandb.com\" target=\"_blank\">Weights & Biases</a> <a href=\"https://docs.wandb.com/integrations/jupyter.html\" target=\"_blank\">(Documentation)</a>.<br/>\n",
              "                Project page: <a href=\"https://app.wandb.ai/igodfried/covid-forecast\" target=\"_blank\">https://app.wandb.ai/igodfried/covid-forecast</a><br/>\n",
              "                Sweep page: <a href=\"https://app.wandb.ai/igodfried/covid-forecast/sweeps/wr9ke1l2\" target=\"_blank\">https://app.wandb.ai/igodfried/covid-forecast/sweeps/wr9ke1l2</a><br/>\n",
              "Run page: <a href=\"https://app.wandb.ai/igodfried/covid-forecast/runs/u33yh8mt\" target=\"_blank\">https://app.wandb.ai/igodfried/covid-forecast/runs/u33yh8mt</a><br/>\n",
              "            "
            ],
            "text/plain": [
              "<IPython.core.display.HTML object>"
            ]
          },
          "metadata": {
            "tags": []
          }
        },
        {
          "output_type": "stream",
          "text": [
            "Epoch 1/30\n",
            "WARNING:tensorflow:Layer bidirectional is casting an input tensor from dtype float64 to the layer's dtype of float32, which is new behavior in TensorFlow 2.  The layer has dtype float32 because it's dtype defaults to floatx.\n",
            "\n",
            "If you intended to run this layer in float32, you can safely ignore this warning. If in doubt, this warning is likely only an issue if you are porting a TensorFlow 1.X model to TensorFlow 2.\n",
            "\n",
            "To change all layers to have dtype float64 by default, call `tf.keras.backend.set_floatx('float64')`. To change just this layer, pass dtype='float64' to the layer constructor. If you are the author of this layer, you can disable autocasting by passing autocast=False to the base Layer constructor.\n",
            "\n",
            "28/28 [==============================] - 1s 30ms/step - loss: 0.3278 - val_loss: 1.4238\n",
            "Epoch 2/30\n",
            "28/28 [==============================] - 0s 7ms/step - loss: 0.3808 - val_loss: 5.9648\n",
            "Epoch 3/30\n",
            "28/28 [==============================] - 0s 7ms/step - loss: 0.4778 - val_loss: 2.5174\n",
            "Epoch 4/30\n",
            "28/28 [==============================] - 0s 8ms/step - loss: 0.1970 - val_loss: 3.3099\n",
            "Epoch 5/30\n",
            "28/28 [==============================] - 0s 8ms/step - loss: 0.6696 - val_loss: 6.0359\n",
            "Epoch 6/30\n",
            "28/28 [==============================] - 0s 8ms/step - loss: 0.2783 - val_loss: 1.4070\n",
            "Epoch 7/30\n",
            "28/28 [==============================] - 0s 7ms/step - loss: 0.8616 - val_loss: 2.4664\n",
            "Epoch 8/30\n",
            "28/28 [==============================] - 0s 7ms/step - loss: 0.2483 - val_loss: 1.6853\n",
            "Epoch 9/30\n",
            "28/28 [==============================] - 0s 8ms/step - loss: 0.3473 - val_loss: 1.1395\n",
            "Epoch 10/30\n",
            "28/28 [==============================] - 0s 7ms/step - loss: 0.2407 - val_loss: 1.6316\n",
            "Epoch 11/30\n",
            "28/28 [==============================] - 0s 7ms/step - loss: 0.8134 - val_loss: 1.2156\n",
            "Epoch 12/30\n",
            "28/28 [==============================] - 0s 7ms/step - loss: 0.5822 - val_loss: 2.8745\n",
            "Epoch 13/30\n",
            "28/28 [==============================] - 0s 7ms/step - loss: 0.2311 - val_loss: 1.4297\n",
            "Epoch 14/30\n",
            "28/28 [==============================] - 0s 7ms/step - loss: 0.3127 - val_loss: 2.2177\n",
            "Epoch 15/30\n",
            "28/28 [==============================] - 0s 7ms/step - loss: 0.3535 - val_loss: 1.5634\n",
            "Epoch 16/30\n",
            "28/28 [==============================] - 0s 7ms/step - loss: 0.4293 - val_loss: 3.3205\n",
            "Epoch 17/30\n",
            "28/28 [==============================] - 0s 7ms/step - loss: 0.6892 - val_loss: 4.2995\n",
            "Epoch 18/30\n",
            "28/28 [==============================] - 0s 7ms/step - loss: 1.1820 - val_loss: 2.3132\n",
            "Epoch 19/30\n",
            "28/28 [==============================] - 0s 8ms/step - loss: 0.5106 - val_loss: 2.6022\n",
            "Epoch 20/30\n",
            "28/28 [==============================] - 0s 8ms/step - loss: 0.4863 - val_loss: 2.9951\n",
            "Epoch 21/30\n",
            "28/28 [==============================] - 0s 7ms/step - loss: 0.1842 - val_loss: 3.3665\n",
            "Epoch 22/30\n",
            "28/28 [==============================] - 0s 8ms/step - loss: 0.1675 - val_loss: 2.8430\n",
            "Epoch 23/30\n",
            "28/28 [==============================] - 0s 7ms/step - loss: 0.2192 - val_loss: 2.8625\n",
            "Epoch 24/30\n",
            "28/28 [==============================] - 0s 7ms/step - loss: 0.2719 - val_loss: 3.0325\n",
            "Epoch 25/30\n",
            "28/28 [==============================] - 0s 7ms/step - loss: 0.4808 - val_loss: 2.1584\n",
            "Epoch 26/30\n",
            "28/28 [==============================] - 0s 7ms/step - loss: 0.2263 - val_loss: 1.7779\n",
            "Epoch 27/30\n",
            "28/28 [==============================] - 0s 7ms/step - loss: 0.1612 - val_loss: 1.8862\n",
            "Epoch 28/30\n",
            "28/28 [==============================] - 0s 7ms/step - loss: 0.1130 - val_loss: 2.2479\n",
            "Epoch 29/30\n",
            "28/28 [==============================] - 0s 7ms/step - loss: 0.1278 - val_loss: 2.2741\n",
            "Epoch 30/30\n",
            "28/28 [==============================] - 0s 7ms/step - loss: 0.1287 - val_loss: 2.4841\n"
          ],
          "name": "stdout"
        },
        {
          "output_type": "stream",
          "text": [
            "/usr/local/lib/python3.6/dist-packages/ipykernel_launcher.py:42: SettingWithCopyWarning: \n",
            "A value is trying to be set on a copy of a slice from a DataFrame\n",
            "\n",
            "See the caveats in the documentation: https://pandas.pydata.org/pandas-docs/stable/user_guide/indexing.html#returning-a-view-versus-a-copy\n",
            "/usr/local/lib/python3.6/dist-packages/plotly/matplotlylib/mpltools.py:368: MatplotlibDeprecationWarning:\n",
            "\n",
            "\n",
            "The is_frame_like function was deprecated in Matplotlib 3.1 and will be removed in 3.3.\n",
            "\n",
            "/usr/local/lib/python3.6/dist-packages/plotly/matplotlylib/renderer.py:410: UserWarning:\n",
            "\n",
            "Bummer! Plotly can currently only draw Line2D objects from matplotlib that are in 'data' coordinates!\n",
            "\n",
            "/usr/local/lib/python3.6/dist-packages/plotly/matplotlylib/renderer.py:512: UserWarning:\n",
            "\n",
            "I found a path object that I don't think is part of a bar chart. Ignoring.\n",
            "\n"
          ],
          "name": "stderr"
        },
        {
          "output_type": "stream",
          "text": [
            "wandb: Agent Finished Run: u33yh8mt \n",
            "\n",
            "wandb: Agent Starting Run: bj9t0goq with config:\n",
            "\tbatch_size: 2\n",
            "\tlearn: 0.01\n",
            "wandb: Agent Started Run: bj9t0goq\n"
          ],
          "name": "stdout"
        },
        {
          "output_type": "display_data",
          "data": {
            "text/html": [
              "\n",
              "                Logging results to <a href=\"https://wandb.com\" target=\"_blank\">Weights & Biases</a> <a href=\"https://docs.wandb.com/integrations/jupyter.html\" target=\"_blank\">(Documentation)</a>.<br/>\n",
              "                Project page: <a href=\"https://app.wandb.ai/igodfried/covid-forecast\" target=\"_blank\">https://app.wandb.ai/igodfried/covid-forecast</a><br/>\n",
              "                Sweep page: <a href=\"https://app.wandb.ai/igodfried/covid-forecast/sweeps/wr9ke1l2\" target=\"_blank\">https://app.wandb.ai/igodfried/covid-forecast/sweeps/wr9ke1l2</a><br/>\n",
              "Run page: <a href=\"https://app.wandb.ai/igodfried/covid-forecast/runs/bj9t0goq\" target=\"_blank\">https://app.wandb.ai/igodfried/covid-forecast/runs/bj9t0goq</a><br/>\n",
              "            "
            ],
            "text/plain": [
              "<IPython.core.display.HTML object>"
            ]
          },
          "metadata": {
            "tags": []
          }
        },
        {
          "output_type": "stream",
          "text": [
            "Epoch 1/30\n",
            "WARNING:tensorflow:Layer bidirectional is casting an input tensor from dtype float64 to the layer's dtype of float32, which is new behavior in TensorFlow 2.  The layer has dtype float32 because it's dtype defaults to floatx.\n",
            "\n",
            "If you intended to run this layer in float32, you can safely ignore this warning. If in doubt, this warning is likely only an issue if you are porting a TensorFlow 1.X model to TensorFlow 2.\n",
            "\n",
            "To change all layers to have dtype float64 by default, call `tf.keras.backend.set_floatx('float64')`. To change just this layer, pass dtype='float64' to the layer constructor. If you are the author of this layer, you can disable autocasting by passing autocast=False to the base Layer constructor.\n",
            "\n",
            "28/28 [==============================] - 1s 30ms/step - loss: 0.3543 - val_loss: 1.0730\n",
            "Epoch 2/30\n",
            "28/28 [==============================] - 0s 7ms/step - loss: 0.5951 - val_loss: 1.4109\n",
            "Epoch 3/30\n",
            "28/28 [==============================] - 0s 7ms/step - loss: 0.2207 - val_loss: 1.0879\n",
            "Epoch 4/30\n",
            "28/28 [==============================] - 0s 8ms/step - loss: 0.2546 - val_loss: 3.8373\n",
            "Epoch 5/30\n",
            "28/28 [==============================] - 0s 9ms/step - loss: 0.5179 - val_loss: 7.5307\n",
            "Epoch 6/30\n",
            "28/28 [==============================] - 0s 7ms/step - loss: 0.5530 - val_loss: 1.4616\n",
            "Epoch 7/30\n",
            "28/28 [==============================] - 0s 7ms/step - loss: 0.3482 - val_loss: 1.5369\n",
            "Epoch 8/30\n",
            "28/28 [==============================] - 0s 7ms/step - loss: 0.4011 - val_loss: 4.9492\n",
            "Epoch 9/30\n",
            "28/28 [==============================] - 0s 7ms/step - loss: 0.4912 - val_loss: 1.8634\n",
            "Epoch 10/30\n",
            "28/28 [==============================] - 0s 7ms/step - loss: 0.2899 - val_loss: 1.5046\n",
            "Epoch 11/30\n",
            "28/28 [==============================] - 0s 7ms/step - loss: 0.5338 - val_loss: 3.1713\n",
            "Epoch 12/30\n",
            "28/28 [==============================] - 0s 7ms/step - loss: 0.2346 - val_loss: 1.3639\n",
            "Epoch 13/30\n",
            "28/28 [==============================] - 0s 7ms/step - loss: 0.2594 - val_loss: 2.0000\n",
            "Epoch 14/30\n",
            "28/28 [==============================] - 0s 7ms/step - loss: 0.3575 - val_loss: 5.4294\n",
            "Epoch 15/30\n",
            "28/28 [==============================] - 0s 7ms/step - loss: 0.3945 - val_loss: 5.3211\n",
            "Epoch 16/30\n",
            "28/28 [==============================] - 0s 7ms/step - loss: 0.2343 - val_loss: 3.5746\n",
            "Epoch 17/30\n",
            "28/28 [==============================] - 0s 7ms/step - loss: 0.3219 - val_loss: 2.6566\n",
            "Epoch 18/30\n",
            "28/28 [==============================] - 0s 7ms/step - loss: 0.2538 - val_loss: 4.9387\n",
            "Epoch 19/30\n",
            "28/28 [==============================] - 0s 7ms/step - loss: 0.3644 - val_loss: 3.4426\n",
            "Epoch 20/30\n",
            "28/28 [==============================] - 0s 7ms/step - loss: 1.0454 - val_loss: 2.3644\n",
            "Epoch 21/30\n",
            "28/28 [==============================] - 0s 7ms/step - loss: 0.2940 - val_loss: 5.1350\n",
            "Epoch 22/30\n",
            "28/28 [==============================] - 0s 7ms/step - loss: 0.4405 - val_loss: 2.7066\n",
            "Epoch 23/30\n",
            "28/28 [==============================] - 0s 7ms/step - loss: 0.2374 - val_loss: 2.0810\n",
            "Epoch 24/30\n",
            "28/28 [==============================] - 0s 7ms/step - loss: 0.2297 - val_loss: 2.4468\n",
            "Epoch 25/30\n",
            "28/28 [==============================] - 0s 7ms/step - loss: 0.2571 - val_loss: 1.8748\n",
            "Epoch 26/30\n",
            "28/28 [==============================] - 0s 7ms/step - loss: 0.2692 - val_loss: 2.5836\n",
            "Epoch 27/30\n",
            "28/28 [==============================] - 0s 7ms/step - loss: 0.2004 - val_loss: 1.6925\n",
            "Epoch 28/30\n",
            "28/28 [==============================] - 0s 7ms/step - loss: 0.1990 - val_loss: 1.2133\n",
            "Epoch 29/30\n",
            "28/28 [==============================] - 0s 7ms/step - loss: 0.2088 - val_loss: 1.2867\n",
            "Epoch 30/30\n",
            "28/28 [==============================] - 0s 7ms/step - loss: 0.3966 - val_loss: 1.3851\n"
          ],
          "name": "stdout"
        },
        {
          "output_type": "stream",
          "text": [
            "/usr/local/lib/python3.6/dist-packages/ipykernel_launcher.py:42: SettingWithCopyWarning: \n",
            "A value is trying to be set on a copy of a slice from a DataFrame\n",
            "\n",
            "See the caveats in the documentation: https://pandas.pydata.org/pandas-docs/stable/user_guide/indexing.html#returning-a-view-versus-a-copy\n",
            "/usr/local/lib/python3.6/dist-packages/plotly/matplotlylib/mpltools.py:368: MatplotlibDeprecationWarning:\n",
            "\n",
            "\n",
            "The is_frame_like function was deprecated in Matplotlib 3.1 and will be removed in 3.3.\n",
            "\n",
            "/usr/local/lib/python3.6/dist-packages/plotly/matplotlylib/renderer.py:410: UserWarning:\n",
            "\n",
            "Bummer! Plotly can currently only draw Line2D objects from matplotlib that are in 'data' coordinates!\n",
            "\n",
            "/usr/local/lib/python3.6/dist-packages/plotly/matplotlylib/renderer.py:512: UserWarning:\n",
            "\n",
            "I found a path object that I don't think is part of a bar chart. Ignoring.\n",
            "\n"
          ],
          "name": "stderr"
        },
        {
          "output_type": "stream",
          "text": [
            "wandb: Agent Finished Run: bj9t0goq \n",
            "\n",
            "wandb: Agent Starting Run: delu7vhn with config:\n",
            "\tbatch_size: 3\n",
            "\tlearn: 0.001\n",
            "wandb: Agent Started Run: delu7vhn\n"
          ],
          "name": "stdout"
        },
        {
          "output_type": "display_data",
          "data": {
            "text/html": [
              "\n",
              "                Logging results to <a href=\"https://wandb.com\" target=\"_blank\">Weights & Biases</a> <a href=\"https://docs.wandb.com/integrations/jupyter.html\" target=\"_blank\">(Documentation)</a>.<br/>\n",
              "                Project page: <a href=\"https://app.wandb.ai/igodfried/covid-forecast\" target=\"_blank\">https://app.wandb.ai/igodfried/covid-forecast</a><br/>\n",
              "                Sweep page: <a href=\"https://app.wandb.ai/igodfried/covid-forecast/sweeps/wr9ke1l2\" target=\"_blank\">https://app.wandb.ai/igodfried/covid-forecast/sweeps/wr9ke1l2</a><br/>\n",
              "Run page: <a href=\"https://app.wandb.ai/igodfried/covid-forecast/runs/delu7vhn\" target=\"_blank\">https://app.wandb.ai/igodfried/covid-forecast/runs/delu7vhn</a><br/>\n",
              "            "
            ],
            "text/plain": [
              "<IPython.core.display.HTML object>"
            ]
          },
          "metadata": {
            "tags": []
          }
        },
        {
          "output_type": "stream",
          "text": [
            "Epoch 1/30\n",
            "WARNING:tensorflow:Layer bidirectional is casting an input tensor from dtype float64 to the layer's dtype of float32, which is new behavior in TensorFlow 2.  The layer has dtype float32 because it's dtype defaults to floatx.\n",
            "\n",
            "If you intended to run this layer in float32, you can safely ignore this warning. If in doubt, this warning is likely only an issue if you are porting a TensorFlow 1.X model to TensorFlow 2.\n",
            "\n",
            "To change all layers to have dtype float64 by default, call `tf.keras.backend.set_floatx('float64')`. To change just this layer, pass dtype='float64' to the layer constructor. If you are the author of this layer, you can disable autocasting by passing autocast=False to the base Layer constructor.\n",
            "\n",
            "19/19 [==============================] - 1s 41ms/step - loss: 1.1287 - val_loss: 8.0629\n",
            "Epoch 2/30\n",
            "19/19 [==============================] - 0s 9ms/step - loss: 0.2785 - val_loss: 1.1660\n",
            "Epoch 3/30\n",
            "19/19 [==============================] - 0s 7ms/step - loss: 0.2821 - val_loss: 2.4080\n",
            "Epoch 4/30\n",
            "19/19 [==============================] - 0s 7ms/step - loss: 0.2845 - val_loss: 1.6744\n",
            "Epoch 5/30\n",
            "19/19 [==============================] - 0s 9ms/step - loss: 0.1416 - val_loss: 2.7434\n",
            "Epoch 6/30\n",
            "19/19 [==============================] - 0s 10ms/step - loss: 0.1368 - val_loss: 2.9579\n",
            "Epoch 7/30\n",
            "19/19 [==============================] - 0s 7ms/step - loss: 0.1440 - val_loss: 3.6001\n",
            "Epoch 8/30\n",
            "19/19 [==============================] - 0s 8ms/step - loss: 0.2218 - val_loss: 2.0980\n",
            "Epoch 9/30\n",
            "19/19 [==============================] - 0s 7ms/step - loss: 0.2681 - val_loss: 3.9575\n",
            "Epoch 10/30\n",
            "19/19 [==============================] - 0s 7ms/step - loss: 0.4438 - val_loss: 1.4085\n",
            "Epoch 11/30\n",
            "19/19 [==============================] - 0s 7ms/step - loss: 0.1325 - val_loss: 2.8689\n",
            "Epoch 12/30\n",
            "19/19 [==============================] - 0s 7ms/step - loss: 0.1242 - val_loss: 3.2897\n",
            "Epoch 13/30\n",
            "19/19 [==============================] - 0s 8ms/step - loss: 0.1277 - val_loss: 2.9258\n",
            "Epoch 14/30\n",
            "19/19 [==============================] - 0s 7ms/step - loss: 0.1831 - val_loss: 4.4455\n",
            "Epoch 15/30\n",
            "19/19 [==============================] - 0s 8ms/step - loss: 0.3527 - val_loss: 1.2499\n",
            "Epoch 16/30\n",
            "19/19 [==============================] - 0s 7ms/step - loss: 0.1344 - val_loss: 3.3264\n",
            "Epoch 17/30\n",
            "19/19 [==============================] - 0s 7ms/step - loss: 0.1221 - val_loss: 2.5812\n",
            "Epoch 18/30\n",
            "19/19 [==============================] - 0s 7ms/step - loss: 0.1337 - val_loss: 2.9828\n",
            "Epoch 19/30\n",
            "19/19 [==============================] - 0s 8ms/step - loss: 0.1461 - val_loss: 3.8647\n",
            "Epoch 20/30\n",
            "19/19 [==============================] - 0s 7ms/step - loss: 0.1782 - val_loss: 2.0856\n",
            "Epoch 21/30\n",
            "19/19 [==============================] - 0s 8ms/step - loss: 0.2022 - val_loss: 4.2463\n",
            "Epoch 22/30\n",
            "19/19 [==============================] - 0s 7ms/step - loss: 0.2230 - val_loss: 1.7696\n",
            "Epoch 23/30\n",
            "19/19 [==============================] - 0s 7ms/step - loss: 0.1253 - val_loss: 4.0953\n",
            "Epoch 24/30\n",
            "19/19 [==============================] - 0s 9ms/step - loss: 0.1074 - val_loss: 2.5590\n",
            "Epoch 25/30\n",
            "19/19 [==============================] - 0s 7ms/step - loss: 0.1160 - val_loss: 3.7426\n",
            "Epoch 26/30\n",
            "19/19 [==============================] - 0s 7ms/step - loss: 0.1510 - val_loss: 4.1797\n",
            "Epoch 27/30\n",
            "19/19 [==============================] - 0s 7ms/step - loss: 0.1015 - val_loss: 4.3849\n",
            "Epoch 28/30\n",
            "19/19 [==============================] - 0s 8ms/step - loss: 0.1174 - val_loss: 5.0730\n",
            "Epoch 29/30\n",
            "19/19 [==============================] - 0s 7ms/step - loss: 0.1721 - val_loss: 3.2596\n",
            "Epoch 30/30\n",
            "19/19 [==============================] - 0s 8ms/step - loss: 0.2089 - val_loss: 5.1246\n"
          ],
          "name": "stdout"
        },
        {
          "output_type": "stream",
          "text": [
            "/usr/local/lib/python3.6/dist-packages/ipykernel_launcher.py:42: SettingWithCopyWarning: \n",
            "A value is trying to be set on a copy of a slice from a DataFrame\n",
            "\n",
            "See the caveats in the documentation: https://pandas.pydata.org/pandas-docs/stable/user_guide/indexing.html#returning-a-view-versus-a-copy\n",
            "/usr/local/lib/python3.6/dist-packages/plotly/matplotlylib/mpltools.py:368: MatplotlibDeprecationWarning:\n",
            "\n",
            "\n",
            "The is_frame_like function was deprecated in Matplotlib 3.1 and will be removed in 3.3.\n",
            "\n",
            "/usr/local/lib/python3.6/dist-packages/plotly/matplotlylib/renderer.py:410: UserWarning:\n",
            "\n",
            "Bummer! Plotly can currently only draw Line2D objects from matplotlib that are in 'data' coordinates!\n",
            "\n",
            "/usr/local/lib/python3.6/dist-packages/plotly/matplotlylib/renderer.py:512: UserWarning:\n",
            "\n",
            "I found a path object that I don't think is part of a bar chart. Ignoring.\n",
            "\n"
          ],
          "name": "stderr"
        },
        {
          "output_type": "stream",
          "text": [
            "wandb: Agent Finished Run: delu7vhn \n",
            "\n",
            "wandb: Agent Starting Run: lx2vriyn with config:\n",
            "\tbatch_size: 3\n",
            "\tlearn: 0.0015\n",
            "wandb: Agent Started Run: lx2vriyn\n"
          ],
          "name": "stdout"
        },
        {
          "output_type": "display_data",
          "data": {
            "text/html": [
              "\n",
              "                Logging results to <a href=\"https://wandb.com\" target=\"_blank\">Weights & Biases</a> <a href=\"https://docs.wandb.com/integrations/jupyter.html\" target=\"_blank\">(Documentation)</a>.<br/>\n",
              "                Project page: <a href=\"https://app.wandb.ai/igodfried/covid-forecast\" target=\"_blank\">https://app.wandb.ai/igodfried/covid-forecast</a><br/>\n",
              "                Sweep page: <a href=\"https://app.wandb.ai/igodfried/covid-forecast/sweeps/wr9ke1l2\" target=\"_blank\">https://app.wandb.ai/igodfried/covid-forecast/sweeps/wr9ke1l2</a><br/>\n",
              "Run page: <a href=\"https://app.wandb.ai/igodfried/covid-forecast/runs/lx2vriyn\" target=\"_blank\">https://app.wandb.ai/igodfried/covid-forecast/runs/lx2vriyn</a><br/>\n",
              "            "
            ],
            "text/plain": [
              "<IPython.core.display.HTML object>"
            ]
          },
          "metadata": {
            "tags": []
          }
        },
        {
          "output_type": "stream",
          "text": [
            "Epoch 1/30\n",
            "WARNING:tensorflow:Layer bidirectional is casting an input tensor from dtype float64 to the layer's dtype of float32, which is new behavior in TensorFlow 2.  The layer has dtype float32 because it's dtype defaults to floatx.\n",
            "\n",
            "If you intended to run this layer in float32, you can safely ignore this warning. If in doubt, this warning is likely only an issue if you are porting a TensorFlow 1.X model to TensorFlow 2.\n",
            "\n",
            "To change all layers to have dtype float64 by default, call `tf.keras.backend.set_floatx('float64')`. To change just this layer, pass dtype='float64' to the layer constructor. If you are the author of this layer, you can disable autocasting by passing autocast=False to the base Layer constructor.\n",
            "\n",
            "19/19 [==============================] - 1s 42ms/step - loss: 0.8483 - val_loss: 4.4527\n",
            "Epoch 2/30\n",
            "19/19 [==============================] - 0s 9ms/step - loss: 0.1944 - val_loss: 1.5968\n",
            "Epoch 3/30\n",
            "19/19 [==============================] - 0s 8ms/step - loss: 0.2106 - val_loss: 2.4833\n",
            "Epoch 4/30\n",
            "19/19 [==============================] - 0s 7ms/step - loss: 0.3286 - val_loss: 4.0059\n",
            "Epoch 5/30\n",
            "19/19 [==============================] - 0s 9ms/step - loss: 0.2574 - val_loss: 3.3205\n",
            "Epoch 6/30\n",
            "19/19 [==============================] - 0s 9ms/step - loss: 0.2769 - val_loss: 3.3220\n",
            "Epoch 7/30\n",
            "19/19 [==============================] - 0s 8ms/step - loss: 0.7183 - val_loss: 2.7914\n",
            "Epoch 8/30\n",
            "19/19 [==============================] - 0s 9ms/step - loss: 0.2338 - val_loss: 1.4173\n",
            "Epoch 9/30\n",
            "19/19 [==============================] - 0s 8ms/step - loss: 0.3161 - val_loss: 2.7968\n",
            "Epoch 10/30\n",
            "19/19 [==============================] - 0s 7ms/step - loss: 0.6033 - val_loss: 2.4767\n",
            "Epoch 11/30\n",
            "19/19 [==============================] - 0s 9ms/step - loss: 0.2423 - val_loss: 1.0304\n",
            "Epoch 12/30\n",
            "19/19 [==============================] - 0s 7ms/step - loss: 0.1696 - val_loss: 1.6887\n",
            "Epoch 13/30\n",
            "19/19 [==============================] - 0s 8ms/step - loss: 0.1486 - val_loss: 1.3295\n",
            "Epoch 14/30\n",
            "19/19 [==============================] - 0s 7ms/step - loss: 0.1407 - val_loss: 1.9717\n",
            "Epoch 15/30\n",
            "19/19 [==============================] - 0s 7ms/step - loss: 0.1315 - val_loss: 2.1037\n",
            "Epoch 16/30\n",
            "19/19 [==============================] - 0s 8ms/step - loss: 0.1318 - val_loss: 1.7935\n",
            "Epoch 17/30\n",
            "19/19 [==============================] - 0s 7ms/step - loss: 0.1869 - val_loss: 3.0809\n",
            "Epoch 18/30\n",
            "19/19 [==============================] - 0s 7ms/step - loss: 0.1547 - val_loss: 2.2008\n",
            "Epoch 19/30\n",
            "19/19 [==============================] - 0s 8ms/step - loss: 0.1888 - val_loss: 3.4672\n",
            "Epoch 20/30\n",
            "19/19 [==============================] - 0s 7ms/step - loss: 0.2647 - val_loss: 1.5165\n",
            "Epoch 21/30\n",
            "19/19 [==============================] - 0s 7ms/step - loss: 0.1957 - val_loss: 3.1391\n",
            "Epoch 22/30\n",
            "19/19 [==============================] - 0s 7ms/step - loss: 0.2797 - val_loss: 1.2972\n",
            "Epoch 23/30\n",
            "19/19 [==============================] - 0s 8ms/step - loss: 0.1435 - val_loss: 2.5356\n",
            "Epoch 24/30\n",
            "19/19 [==============================] - 0s 8ms/step - loss: 0.1782 - val_loss: 1.3357\n",
            "Epoch 25/30\n",
            "19/19 [==============================] - 0s 8ms/step - loss: 0.1250 - val_loss: 2.6742\n",
            "Epoch 26/30\n",
            "19/19 [==============================] - 0s 8ms/step - loss: 0.1198 - val_loss: 2.2977\n",
            "Epoch 27/30\n",
            "19/19 [==============================] - 0s 7ms/step - loss: 0.1314 - val_loss: 2.5137\n",
            "Epoch 28/30\n",
            "19/19 [==============================] - 0s 7ms/step - loss: 0.1484 - val_loss: 3.1410\n",
            "Epoch 29/30\n",
            "19/19 [==============================] - 0s 8ms/step - loss: 0.1458 - val_loss: 2.4223\n",
            "Epoch 30/30\n",
            "19/19 [==============================] - 0s 8ms/step - loss: 0.1254 - val_loss: 4.0392\n"
          ],
          "name": "stdout"
        },
        {
          "output_type": "stream",
          "text": [
            "/usr/local/lib/python3.6/dist-packages/ipykernel_launcher.py:42: SettingWithCopyWarning: \n",
            "A value is trying to be set on a copy of a slice from a DataFrame\n",
            "\n",
            "See the caveats in the documentation: https://pandas.pydata.org/pandas-docs/stable/user_guide/indexing.html#returning-a-view-versus-a-copy\n",
            "/usr/local/lib/python3.6/dist-packages/plotly/matplotlylib/mpltools.py:368: MatplotlibDeprecationWarning:\n",
            "\n",
            "\n",
            "The is_frame_like function was deprecated in Matplotlib 3.1 and will be removed in 3.3.\n",
            "\n",
            "/usr/local/lib/python3.6/dist-packages/plotly/matplotlylib/renderer.py:410: UserWarning:\n",
            "\n",
            "Bummer! Plotly can currently only draw Line2D objects from matplotlib that are in 'data' coordinates!\n",
            "\n",
            "/usr/local/lib/python3.6/dist-packages/plotly/matplotlylib/renderer.py:512: UserWarning:\n",
            "\n",
            "I found a path object that I don't think is part of a bar chart. Ignoring.\n",
            "\n"
          ],
          "name": "stderr"
        },
        {
          "output_type": "stream",
          "text": [
            "wandb: Agent Finished Run: lx2vriyn \n",
            "\n",
            "wandb: Agent Starting Run: 4hku8e3i with config:\n",
            "\tbatch_size: 3\n",
            "\tlearn: 0.002\n",
            "wandb: Agent Started Run: 4hku8e3i\n"
          ],
          "name": "stdout"
        },
        {
          "output_type": "display_data",
          "data": {
            "text/html": [
              "\n",
              "                Logging results to <a href=\"https://wandb.com\" target=\"_blank\">Weights & Biases</a> <a href=\"https://docs.wandb.com/integrations/jupyter.html\" target=\"_blank\">(Documentation)</a>.<br/>\n",
              "                Project page: <a href=\"https://app.wandb.ai/igodfried/covid-forecast\" target=\"_blank\">https://app.wandb.ai/igodfried/covid-forecast</a><br/>\n",
              "                Sweep page: <a href=\"https://app.wandb.ai/igodfried/covid-forecast/sweeps/wr9ke1l2\" target=\"_blank\">https://app.wandb.ai/igodfried/covid-forecast/sweeps/wr9ke1l2</a><br/>\n",
              "Run page: <a href=\"https://app.wandb.ai/igodfried/covid-forecast/runs/4hku8e3i\" target=\"_blank\">https://app.wandb.ai/igodfried/covid-forecast/runs/4hku8e3i</a><br/>\n",
              "            "
            ],
            "text/plain": [
              "<IPython.core.display.HTML object>"
            ]
          },
          "metadata": {
            "tags": []
          }
        },
        {
          "output_type": "stream",
          "text": [
            "Epoch 1/30\n",
            "WARNING:tensorflow:Layer bidirectional is casting an input tensor from dtype float64 to the layer's dtype of float32, which is new behavior in TensorFlow 2.  The layer has dtype float32 because it's dtype defaults to floatx.\n",
            "\n",
            "If you intended to run this layer in float32, you can safely ignore this warning. If in doubt, this warning is likely only an issue if you are porting a TensorFlow 1.X model to TensorFlow 2.\n",
            "\n",
            "To change all layers to have dtype float64 by default, call `tf.keras.backend.set_floatx('float64')`. To change just this layer, pass dtype='float64' to the layer constructor. If you are the author of this layer, you can disable autocasting by passing autocast=False to the base Layer constructor.\n",
            "\n",
            "19/19 [==============================] - 1s 42ms/step - loss: 0.5665 - val_loss: 1.2880\n",
            "Epoch 2/30\n",
            "19/19 [==============================] - 0s 7ms/step - loss: 0.4381 - val_loss: 2.4584\n",
            "Epoch 3/30\n",
            "19/19 [==============================] - 0s 7ms/step - loss: 1.1542 - val_loss: 6.1686\n",
            "Epoch 4/30\n",
            "19/19 [==============================] - 0s 10ms/step - loss: 0.3362 - val_loss: 1.2186\n",
            "Epoch 5/30\n",
            "19/19 [==============================] - 0s 9ms/step - loss: 0.3513 - val_loss: 1.7094\n",
            "Epoch 6/30\n",
            "19/19 [==============================] - 0s 9ms/step - loss: 0.5798 - val_loss: 1.8284\n",
            "Epoch 7/30\n",
            "19/19 [==============================] - 0s 8ms/step - loss: 0.2038 - val_loss: 1.2891\n",
            "Epoch 8/30\n",
            "19/19 [==============================] - 0s 7ms/step - loss: 0.2673 - val_loss: 1.9303\n",
            "Epoch 9/30\n",
            "19/19 [==============================] - 0s 8ms/step - loss: 0.3543 - val_loss: 2.1465\n",
            "Epoch 10/30\n",
            "19/19 [==============================] - 0s 8ms/step - loss: 0.1809 - val_loss: 1.9081\n",
            "Epoch 11/30\n",
            "19/19 [==============================] - 0s 8ms/step - loss: 0.1532 - val_loss: 2.3001\n",
            "Epoch 12/30\n",
            "19/19 [==============================] - 0s 7ms/step - loss: 0.1747 - val_loss: 1.8481\n",
            "Epoch 13/30\n",
            "19/19 [==============================] - 0s 7ms/step - loss: 0.2888 - val_loss: 2.5039\n",
            "Epoch 14/30\n",
            "19/19 [==============================] - 0s 7ms/step - loss: 0.6830 - val_loss: 2.4937\n",
            "Epoch 15/30\n",
            "19/19 [==============================] - 0s 9ms/step - loss: 0.2697 - val_loss: 0.9712\n",
            "Epoch 16/30\n",
            "19/19 [==============================] - 0s 8ms/step - loss: 0.2091 - val_loss: 1.9148\n",
            "Epoch 17/30\n",
            "19/19 [==============================] - 0s 7ms/step - loss: 0.2246 - val_loss: 1.0030\n",
            "Epoch 18/30\n",
            "19/19 [==============================] - 0s 7ms/step - loss: 0.1618 - val_loss: 2.0031\n",
            "Epoch 19/30\n",
            "19/19 [==============================] - 0s 8ms/step - loss: 0.1062 - val_loss: 1.5868\n",
            "Epoch 20/30\n",
            "19/19 [==============================] - 0s 7ms/step - loss: 0.1447 - val_loss: 1.8379\n",
            "Epoch 21/30\n",
            "19/19 [==============================] - 0s 7ms/step - loss: 0.1557 - val_loss: 2.0484\n",
            "Epoch 22/30\n",
            "19/19 [==============================] - 0s 7ms/step - loss: 0.1848 - val_loss: 3.1175\n",
            "Epoch 23/30\n",
            "19/19 [==============================] - 0s 9ms/step - loss: 0.2710 - val_loss: 1.5623\n",
            "Epoch 24/30\n",
            "19/19 [==============================] - 0s 8ms/step - loss: 0.1681 - val_loss: 2.8965\n",
            "Epoch 25/30\n",
            "19/19 [==============================] - 0s 7ms/step - loss: 0.1645 - val_loss: 1.5717\n",
            "Epoch 26/30\n",
            "19/19 [==============================] - 0s 7ms/step - loss: 0.1725 - val_loss: 2.8978\n",
            "Epoch 27/30\n",
            "19/19 [==============================] - 0s 8ms/step - loss: 0.2539 - val_loss: 1.0658\n",
            "Epoch 28/30\n",
            "19/19 [==============================] - 0s 7ms/step - loss: 0.1297 - val_loss: 2.0981\n",
            "Epoch 29/30\n",
            "19/19 [==============================] - 0s 8ms/step - loss: 0.1168 - val_loss: 1.9608\n",
            "Epoch 30/30\n",
            "19/19 [==============================] - 0s 8ms/step - loss: 0.1554 - val_loss: 2.5493\n"
          ],
          "name": "stdout"
        },
        {
          "output_type": "stream",
          "text": [
            "/usr/local/lib/python3.6/dist-packages/ipykernel_launcher.py:42: SettingWithCopyWarning: \n",
            "A value is trying to be set on a copy of a slice from a DataFrame\n",
            "\n",
            "See the caveats in the documentation: https://pandas.pydata.org/pandas-docs/stable/user_guide/indexing.html#returning-a-view-versus-a-copy\n",
            "/usr/local/lib/python3.6/dist-packages/plotly/matplotlylib/mpltools.py:368: MatplotlibDeprecationWarning:\n",
            "\n",
            "\n",
            "The is_frame_like function was deprecated in Matplotlib 3.1 and will be removed in 3.3.\n",
            "\n",
            "/usr/local/lib/python3.6/dist-packages/plotly/matplotlylib/renderer.py:410: UserWarning:\n",
            "\n",
            "Bummer! Plotly can currently only draw Line2D objects from matplotlib that are in 'data' coordinates!\n",
            "\n",
            "/usr/local/lib/python3.6/dist-packages/plotly/matplotlylib/renderer.py:512: UserWarning:\n",
            "\n",
            "I found a path object that I don't think is part of a bar chart. Ignoring.\n",
            "\n"
          ],
          "name": "stderr"
        },
        {
          "output_type": "stream",
          "text": [
            "wandb: Agent Finished Run: 4hku8e3i \n",
            "\n",
            "wandb: Agent Starting Run: cmnpbbao with config:\n",
            "\tbatch_size: 3\n",
            "\tlearn: 0.003\n",
            "wandb: Agent Started Run: cmnpbbao\n"
          ],
          "name": "stdout"
        },
        {
          "output_type": "display_data",
          "data": {
            "text/html": [
              "\n",
              "                Logging results to <a href=\"https://wandb.com\" target=\"_blank\">Weights & Biases</a> <a href=\"https://docs.wandb.com/integrations/jupyter.html\" target=\"_blank\">(Documentation)</a>.<br/>\n",
              "                Project page: <a href=\"https://app.wandb.ai/igodfried/covid-forecast\" target=\"_blank\">https://app.wandb.ai/igodfried/covid-forecast</a><br/>\n",
              "                Sweep page: <a href=\"https://app.wandb.ai/igodfried/covid-forecast/sweeps/wr9ke1l2\" target=\"_blank\">https://app.wandb.ai/igodfried/covid-forecast/sweeps/wr9ke1l2</a><br/>\n",
              "Run page: <a href=\"https://app.wandb.ai/igodfried/covid-forecast/runs/cmnpbbao\" target=\"_blank\">https://app.wandb.ai/igodfried/covid-forecast/runs/cmnpbbao</a><br/>\n",
              "            "
            ],
            "text/plain": [
              "<IPython.core.display.HTML object>"
            ]
          },
          "metadata": {
            "tags": []
          }
        },
        {
          "output_type": "stream",
          "text": [
            "Epoch 1/30\n",
            "WARNING:tensorflow:Layer bidirectional is casting an input tensor from dtype float64 to the layer's dtype of float32, which is new behavior in TensorFlow 2.  The layer has dtype float32 because it's dtype defaults to floatx.\n",
            "\n",
            "If you intended to run this layer in float32, you can safely ignore this warning. If in doubt, this warning is likely only an issue if you are porting a TensorFlow 1.X model to TensorFlow 2.\n",
            "\n",
            "To change all layers to have dtype float64 by default, call `tf.keras.backend.set_floatx('float64')`. To change just this layer, pass dtype='float64' to the layer constructor. If you are the author of this layer, you can disable autocasting by passing autocast=False to the base Layer constructor.\n",
            "\n",
            "19/19 [==============================] - 1s 41ms/step - loss: 0.2693 - val_loss: 3.3635\n",
            "Epoch 2/30\n",
            "19/19 [==============================] - 0s 9ms/step - loss: 1.0388 - val_loss: 2.7905\n",
            "Epoch 3/30\n",
            "19/19 [==============================] - 0s 9ms/step - loss: 0.3590 - val_loss: 1.5148\n",
            "Epoch 4/30\n",
            "19/19 [==============================] - 0s 10ms/step - loss: 1.2042 - val_loss: 1.4703\n",
            "Epoch 5/30\n",
            "19/19 [==============================] - 0s 9ms/step - loss: 1.3037 - val_loss: 9.1854\n",
            "Epoch 6/30\n",
            "19/19 [==============================] - 0s 9ms/step - loss: 0.6360 - val_loss: 3.2153\n",
            "Epoch 7/30\n",
            "19/19 [==============================] - 0s 9ms/step - loss: 0.2179 - val_loss: 0.9314\n",
            "Epoch 8/30\n",
            "19/19 [==============================] - 0s 8ms/step - loss: 0.2478 - val_loss: 1.2822\n",
            "Epoch 9/30\n",
            "19/19 [==============================] - 0s 8ms/step - loss: 0.2657 - val_loss: 1.8484\n",
            "Epoch 10/30\n",
            "19/19 [==============================] - 0s 8ms/step - loss: 0.2859 - val_loss: 1.5838\n",
            "Epoch 11/30\n",
            "19/19 [==============================] - 0s 7ms/step - loss: 0.5602 - val_loss: 1.8089\n",
            "Epoch 12/30\n",
            "19/19 [==============================] - 0s 7ms/step - loss: 0.2027 - val_loss: 1.4685\n",
            "Epoch 13/30\n",
            "19/19 [==============================] - 0s 7ms/step - loss: 0.1904 - val_loss: 1.7160\n",
            "Epoch 14/30\n",
            "19/19 [==============================] - 0s 7ms/step - loss: 0.1646 - val_loss: 1.7491\n",
            "Epoch 15/30\n",
            "19/19 [==============================] - 0s 8ms/step - loss: 0.1113 - val_loss: 2.1645\n",
            "Epoch 16/30\n",
            "19/19 [==============================] - 0s 8ms/step - loss: 0.1289 - val_loss: 2.7735\n",
            "Epoch 17/30\n",
            "19/19 [==============================] - 0s 8ms/step - loss: 0.0833 - val_loss: 2.4579\n",
            "Epoch 18/30\n",
            "19/19 [==============================] - 0s 7ms/step - loss: 0.1230 - val_loss: 3.0055\n",
            "Epoch 19/30\n",
            "19/19 [==============================] - 0s 7ms/step - loss: 0.1978 - val_loss: 2.2861\n",
            "Epoch 20/30\n",
            "19/19 [==============================] - 0s 7ms/step - loss: 0.4154 - val_loss: 2.5647\n",
            "Epoch 21/30\n",
            "19/19 [==============================] - 0s 8ms/step - loss: 0.8530 - val_loss: 3.8069\n",
            "Epoch 22/30\n",
            "19/19 [==============================] - 0s 8ms/step - loss: 0.3837 - val_loss: 1.2896\n",
            "Epoch 23/30\n",
            "19/19 [==============================] - 0s 8ms/step - loss: 0.2256 - val_loss: 1.0735\n",
            "Epoch 24/30\n",
            "19/19 [==============================] - 0s 8ms/step - loss: 0.1794 - val_loss: 0.9526\n",
            "Epoch 25/30\n",
            "19/19 [==============================] - 0s 8ms/step - loss: 0.1358 - val_loss: 1.6038\n",
            "Epoch 26/30\n",
            "19/19 [==============================] - 0s 7ms/step - loss: 0.1290 - val_loss: 1.5655\n",
            "Epoch 27/30\n",
            "19/19 [==============================] - 0s 7ms/step - loss: 0.1026 - val_loss: 2.1911\n",
            "Epoch 28/30\n",
            "19/19 [==============================] - 0s 7ms/step - loss: 0.1629 - val_loss: 2.5516\n",
            "Epoch 29/30\n",
            "19/19 [==============================] - 0s 8ms/step - loss: 0.1572 - val_loss: 3.7820\n",
            "Epoch 30/30\n",
            "19/19 [==============================] - 0s 8ms/step - loss: 0.4099 - val_loss: 1.1635\n"
          ],
          "name": "stdout"
        },
        {
          "output_type": "stream",
          "text": [
            "/usr/local/lib/python3.6/dist-packages/ipykernel_launcher.py:42: SettingWithCopyWarning: \n",
            "A value is trying to be set on a copy of a slice from a DataFrame\n",
            "\n",
            "See the caveats in the documentation: https://pandas.pydata.org/pandas-docs/stable/user_guide/indexing.html#returning-a-view-versus-a-copy\n",
            "/usr/local/lib/python3.6/dist-packages/plotly/matplotlylib/mpltools.py:368: MatplotlibDeprecationWarning:\n",
            "\n",
            "\n",
            "The is_frame_like function was deprecated in Matplotlib 3.1 and will be removed in 3.3.\n",
            "\n",
            "/usr/local/lib/python3.6/dist-packages/plotly/matplotlylib/renderer.py:410: UserWarning:\n",
            "\n",
            "Bummer! Plotly can currently only draw Line2D objects from matplotlib that are in 'data' coordinates!\n",
            "\n",
            "/usr/local/lib/python3.6/dist-packages/plotly/matplotlylib/renderer.py:512: UserWarning:\n",
            "\n",
            "I found a path object that I don't think is part of a bar chart. Ignoring.\n",
            "\n"
          ],
          "name": "stderr"
        },
        {
          "output_type": "stream",
          "text": [
            "wandb: Agent Finished Run: cmnpbbao \n",
            "\n",
            "wandb: Agent Starting Run: qaog2hsf with config:\n",
            "\tbatch_size: 3\n",
            "\tlearn: 0.004\n",
            "wandb: Agent Started Run: qaog2hsf\n"
          ],
          "name": "stdout"
        },
        {
          "output_type": "display_data",
          "data": {
            "text/html": [
              "\n",
              "                Logging results to <a href=\"https://wandb.com\" target=\"_blank\">Weights & Biases</a> <a href=\"https://docs.wandb.com/integrations/jupyter.html\" target=\"_blank\">(Documentation)</a>.<br/>\n",
              "                Project page: <a href=\"https://app.wandb.ai/igodfried/covid-forecast\" target=\"_blank\">https://app.wandb.ai/igodfried/covid-forecast</a><br/>\n",
              "                Sweep page: <a href=\"https://app.wandb.ai/igodfried/covid-forecast/sweeps/wr9ke1l2\" target=\"_blank\">https://app.wandb.ai/igodfried/covid-forecast/sweeps/wr9ke1l2</a><br/>\n",
              "Run page: <a href=\"https://app.wandb.ai/igodfried/covid-forecast/runs/qaog2hsf\" target=\"_blank\">https://app.wandb.ai/igodfried/covid-forecast/runs/qaog2hsf</a><br/>\n",
              "            "
            ],
            "text/plain": [
              "<IPython.core.display.HTML object>"
            ]
          },
          "metadata": {
            "tags": []
          }
        },
        {
          "output_type": "stream",
          "text": [
            "Epoch 1/30\n",
            "WARNING:tensorflow:Layer bidirectional is casting an input tensor from dtype float64 to the layer's dtype of float32, which is new behavior in TensorFlow 2.  The layer has dtype float32 because it's dtype defaults to floatx.\n",
            "\n",
            "If you intended to run this layer in float32, you can safely ignore this warning. If in doubt, this warning is likely only an issue if you are porting a TensorFlow 1.X model to TensorFlow 2.\n",
            "\n",
            "To change all layers to have dtype float64 by default, call `tf.keras.backend.set_floatx('float64')`. To change just this layer, pass dtype='float64' to the layer constructor. If you are the author of this layer, you can disable autocasting by passing autocast=False to the base Layer constructor.\n",
            "\n",
            "19/19 [==============================] - 1s 41ms/step - loss: 0.2395 - val_loss: 1.4781\n",
            "Epoch 2/30\n",
            "19/19 [==============================] - 0s 8ms/step - loss: 0.6129 - val_loss: 3.0991\n",
            "Epoch 3/30\n",
            "19/19 [==============================] - 0s 9ms/step - loss: 0.6777 - val_loss: 1.1703\n",
            "Epoch 4/30\n",
            "19/19 [==============================] - 0s 8ms/step - loss: 1.3724 - val_loss: 10.2640\n",
            "Epoch 5/30\n",
            "19/19 [==============================] - 0s 9ms/step - loss: 0.4791 - val_loss: 1.7233\n",
            "Epoch 6/30\n",
            "19/19 [==============================] - 0s 9ms/step - loss: 0.4062 - val_loss: 1.1823\n",
            "Epoch 7/30\n",
            "19/19 [==============================] - 0s 7ms/step - loss: 0.9280 - val_loss: 4.0498\n",
            "Epoch 8/30\n",
            "19/19 [==============================] - 0s 9ms/step - loss: 0.2064 - val_loss: 0.9735\n",
            "Epoch 9/30\n",
            "19/19 [==============================] - 0s 8ms/step - loss: 0.2687 - val_loss: 1.3744\n",
            "Epoch 10/30\n",
            "19/19 [==============================] - 0s 7ms/step - loss: 0.7560 - val_loss: 2.1767\n",
            "Epoch 11/30\n",
            "19/19 [==============================] - 0s 7ms/step - loss: 0.1451 - val_loss: 1.0493\n",
            "Epoch 12/30\n",
            "19/19 [==============================] - 0s 8ms/step - loss: 0.1969 - val_loss: 1.6210\n",
            "Epoch 13/30\n",
            "19/19 [==============================] - 0s 7ms/step - loss: 0.1686 - val_loss: 1.2813\n",
            "Epoch 14/30\n",
            "19/19 [==============================] - 0s 7ms/step - loss: 0.1723 - val_loss: 1.7526\n",
            "Epoch 15/30\n",
            "19/19 [==============================] - 0s 7ms/step - loss: 0.1553 - val_loss: 1.2690\n",
            "Epoch 16/30\n",
            "19/19 [==============================] - 0s 7ms/step - loss: 0.2087 - val_loss: 1.9240\n",
            "Epoch 17/30\n",
            "19/19 [==============================] - 0s 7ms/step - loss: 0.3336 - val_loss: 1.3568\n",
            "Epoch 18/30\n",
            "19/19 [==============================] - 0s 8ms/step - loss: 0.2051 - val_loss: 1.6040\n",
            "Epoch 19/30\n",
            "19/19 [==============================] - 0s 8ms/step - loss: 0.2635 - val_loss: 1.2851\n",
            "Epoch 20/30\n",
            "19/19 [==============================] - 0s 8ms/step - loss: 0.1311 - val_loss: 1.7629\n",
            "Epoch 21/30\n",
            "19/19 [==============================] - 0s 7ms/step - loss: 0.1188 - val_loss: 1.3187\n",
            "Epoch 22/30\n",
            "19/19 [==============================] - 0s 8ms/step - loss: 0.1551 - val_loss: 1.8156\n",
            "Epoch 23/30\n",
            "19/19 [==============================] - 0s 7ms/step - loss: 0.1375 - val_loss: 2.5328\n",
            "Epoch 24/30\n",
            "19/19 [==============================] - 0s 8ms/step - loss: 0.1417 - val_loss: 1.9931\n",
            "Epoch 25/30\n",
            "19/19 [==============================] - 0s 7ms/step - loss: 0.1686 - val_loss: 2.6507\n",
            "Epoch 26/30\n",
            "19/19 [==============================] - 0s 7ms/step - loss: 0.4261 - val_loss: 1.2941\n",
            "Epoch 27/30\n",
            "19/19 [==============================] - 0s 7ms/step - loss: 0.1387 - val_loss: 1.5068\n",
            "Epoch 28/30\n",
            "19/19 [==============================] - 0s 7ms/step - loss: 0.1279 - val_loss: 1.4432\n",
            "Epoch 29/30\n",
            "19/19 [==============================] - 0s 7ms/step - loss: 0.1435 - val_loss: 1.8190\n",
            "Epoch 30/30\n",
            "19/19 [==============================] - 0s 7ms/step - loss: 0.1310 - val_loss: 2.3487\n"
          ],
          "name": "stdout"
        },
        {
          "output_type": "stream",
          "text": [
            "/usr/local/lib/python3.6/dist-packages/ipykernel_launcher.py:42: SettingWithCopyWarning: \n",
            "A value is trying to be set on a copy of a slice from a DataFrame\n",
            "\n",
            "See the caveats in the documentation: https://pandas.pydata.org/pandas-docs/stable/user_guide/indexing.html#returning-a-view-versus-a-copy\n",
            "/usr/local/lib/python3.6/dist-packages/plotly/matplotlylib/mpltools.py:368: MatplotlibDeprecationWarning:\n",
            "\n",
            "\n",
            "The is_frame_like function was deprecated in Matplotlib 3.1 and will be removed in 3.3.\n",
            "\n",
            "/usr/local/lib/python3.6/dist-packages/plotly/matplotlylib/renderer.py:410: UserWarning:\n",
            "\n",
            "Bummer! Plotly can currently only draw Line2D objects from matplotlib that are in 'data' coordinates!\n",
            "\n",
            "/usr/local/lib/python3.6/dist-packages/plotly/matplotlylib/renderer.py:512: UserWarning:\n",
            "\n",
            "I found a path object that I don't think is part of a bar chart. Ignoring.\n",
            "\n"
          ],
          "name": "stderr"
        },
        {
          "output_type": "stream",
          "text": [
            "wandb: Agent Finished Run: qaog2hsf \n",
            "\n",
            "wandb: Agent Starting Run: duptwbki with config:\n",
            "\tbatch_size: 3\n",
            "\tlearn: 0.01\n",
            "wandb: Agent Started Run: duptwbki\n"
          ],
          "name": "stdout"
        },
        {
          "output_type": "display_data",
          "data": {
            "text/html": [
              "\n",
              "                Logging results to <a href=\"https://wandb.com\" target=\"_blank\">Weights & Biases</a> <a href=\"https://docs.wandb.com/integrations/jupyter.html\" target=\"_blank\">(Documentation)</a>.<br/>\n",
              "                Project page: <a href=\"https://app.wandb.ai/igodfried/covid-forecast\" target=\"_blank\">https://app.wandb.ai/igodfried/covid-forecast</a><br/>\n",
              "                Sweep page: <a href=\"https://app.wandb.ai/igodfried/covid-forecast/sweeps/wr9ke1l2\" target=\"_blank\">https://app.wandb.ai/igodfried/covid-forecast/sweeps/wr9ke1l2</a><br/>\n",
              "Run page: <a href=\"https://app.wandb.ai/igodfried/covid-forecast/runs/duptwbki\" target=\"_blank\">https://app.wandb.ai/igodfried/covid-forecast/runs/duptwbki</a><br/>\n",
              "            "
            ],
            "text/plain": [
              "<IPython.core.display.HTML object>"
            ]
          },
          "metadata": {
            "tags": []
          }
        },
        {
          "output_type": "stream",
          "text": [
            "Epoch 1/30\n",
            "WARNING:tensorflow:Layer bidirectional is casting an input tensor from dtype float64 to the layer's dtype of float32, which is new behavior in TensorFlow 2.  The layer has dtype float32 because it's dtype defaults to floatx.\n",
            "\n",
            "If you intended to run this layer in float32, you can safely ignore this warning. If in doubt, this warning is likely only an issue if you are porting a TensorFlow 1.X model to TensorFlow 2.\n",
            "\n",
            "To change all layers to have dtype float64 by default, call `tf.keras.backend.set_floatx('float64')`. To change just this layer, pass dtype='float64' to the layer constructor. If you are the author of this layer, you can disable autocasting by passing autocast=False to the base Layer constructor.\n",
            "\n",
            "19/19 [==============================] - 1s 43ms/step - loss: 0.2015 - val_loss: 5.4888\n",
            "Epoch 2/30\n",
            "19/19 [==============================] - 0s 9ms/step - loss: 0.6910 - val_loss: 4.1745\n",
            "Epoch 3/30\n",
            "19/19 [==============================] - 0s 9ms/step - loss: 0.3735 - val_loss: 0.9214\n",
            "Epoch 4/30\n",
            "19/19 [==============================] - 0s 9ms/step - loss: 1.7683 - val_loss: 1.1684\n",
            "Epoch 5/30\n",
            "19/19 [==============================] - 0s 7ms/step - loss: 0.4040 - val_loss: 5.5003\n",
            "Epoch 6/30\n",
            "19/19 [==============================] - 0s 9ms/step - loss: 0.7018 - val_loss: 7.3694\n",
            "Epoch 7/30\n",
            "19/19 [==============================] - 0s 8ms/step - loss: 0.8904 - val_loss: 4.7936\n",
            "Epoch 8/30\n",
            "19/19 [==============================] - 0s 7ms/step - loss: 0.8416 - val_loss: 1.0151\n",
            "Epoch 9/30\n",
            "19/19 [==============================] - 0s 8ms/step - loss: 0.2784 - val_loss: 1.4060\n",
            "Epoch 10/30\n",
            "19/19 [==============================] - 0s 7ms/step - loss: 0.8567 - val_loss: 5.0541\n",
            "Epoch 11/30\n",
            "19/19 [==============================] - 0s 8ms/step - loss: 0.4483 - val_loss: 1.1033\n",
            "Epoch 12/30\n",
            "19/19 [==============================] - 0s 7ms/step - loss: 0.2902 - val_loss: 1.0749\n",
            "Epoch 13/30\n",
            "19/19 [==============================] - 0s 8ms/step - loss: 0.4000 - val_loss: 2.7343\n",
            "Epoch 14/30\n",
            "19/19 [==============================] - 0s 8ms/step - loss: 0.2430 - val_loss: 1.4123\n",
            "Epoch 15/30\n",
            "19/19 [==============================] - 0s 7ms/step - loss: 0.3301 - val_loss: 1.3338\n",
            "Epoch 16/30\n",
            "19/19 [==============================] - 0s 7ms/step - loss: 0.6815 - val_loss: 2.9387\n",
            "Epoch 17/30\n",
            "19/19 [==============================] - 0s 7ms/step - loss: 0.4645 - val_loss: 3.9209\n",
            "Epoch 18/30\n",
            "19/19 [==============================] - 0s 10ms/step - loss: 0.6914 - val_loss: 0.8212\n",
            "Epoch 19/30\n",
            "19/19 [==============================] - 0s 8ms/step - loss: 1.0695 - val_loss: 6.8909\n",
            "Epoch 20/30\n",
            "19/19 [==============================] - 0s 8ms/step - loss: 1.2320 - val_loss: 4.4776\n",
            "Epoch 21/30\n",
            "19/19 [==============================] - 0s 8ms/step - loss: 0.2169 - val_loss: 0.9515\n",
            "Epoch 22/30\n",
            "19/19 [==============================] - 0s 8ms/step - loss: 0.1464 - val_loss: 1.4252\n",
            "Epoch 23/30\n",
            "19/19 [==============================] - 0s 7ms/step - loss: 0.1773 - val_loss: 1.6223\n",
            "Epoch 24/30\n",
            "19/19 [==============================] - 0s 7ms/step - loss: 0.5473 - val_loss: 2.1038\n",
            "Epoch 25/30\n",
            "19/19 [==============================] - 0s 7ms/step - loss: 0.2478 - val_loss: 0.9272\n",
            "Epoch 26/30\n",
            "19/19 [==============================] - 0s 8ms/step - loss: 0.1979 - val_loss: 1.0188\n",
            "Epoch 27/30\n",
            "19/19 [==============================] - 0s 7ms/step - loss: 0.1680 - val_loss: 0.9527\n",
            "Epoch 28/30\n",
            "19/19 [==============================] - 0s 7ms/step - loss: 0.1268 - val_loss: 0.8985\n",
            "Epoch 29/30\n",
            "19/19 [==============================] - 0s 7ms/step - loss: 0.1968 - val_loss: 0.8746\n",
            "Epoch 30/30\n",
            "19/19 [==============================] - 0s 8ms/step - loss: 0.1597 - val_loss: 0.9185\n"
          ],
          "name": "stdout"
        },
        {
          "output_type": "stream",
          "text": [
            "/usr/local/lib/python3.6/dist-packages/ipykernel_launcher.py:42: SettingWithCopyWarning: \n",
            "A value is trying to be set on a copy of a slice from a DataFrame\n",
            "\n",
            "See the caveats in the documentation: https://pandas.pydata.org/pandas-docs/stable/user_guide/indexing.html#returning-a-view-versus-a-copy\n",
            "/usr/local/lib/python3.6/dist-packages/plotly/matplotlylib/mpltools.py:368: MatplotlibDeprecationWarning:\n",
            "\n",
            "\n",
            "The is_frame_like function was deprecated in Matplotlib 3.1 and will be removed in 3.3.\n",
            "\n",
            "/usr/local/lib/python3.6/dist-packages/plotly/matplotlylib/renderer.py:410: UserWarning:\n",
            "\n",
            "Bummer! Plotly can currently only draw Line2D objects from matplotlib that are in 'data' coordinates!\n",
            "\n",
            "/usr/local/lib/python3.6/dist-packages/plotly/matplotlylib/renderer.py:512: UserWarning:\n",
            "\n",
            "I found a path object that I don't think is part of a bar chart. Ignoring.\n",
            "\n"
          ],
          "name": "stderr"
        },
        {
          "output_type": "stream",
          "text": [
            "wandb: Agent Finished Run: duptwbki \n",
            "\n",
            "wandb: Agent Starting Run: gy36nri0 with config:\n",
            "\tbatch_size: 4\n",
            "\tlearn: 0.001\n",
            "wandb: Agent Started Run: gy36nri0\n"
          ],
          "name": "stdout"
        },
        {
          "output_type": "display_data",
          "data": {
            "text/html": [
              "\n",
              "                Logging results to <a href=\"https://wandb.com\" target=\"_blank\">Weights & Biases</a> <a href=\"https://docs.wandb.com/integrations/jupyter.html\" target=\"_blank\">(Documentation)</a>.<br/>\n",
              "                Project page: <a href=\"https://app.wandb.ai/igodfried/covid-forecast\" target=\"_blank\">https://app.wandb.ai/igodfried/covid-forecast</a><br/>\n",
              "                Sweep page: <a href=\"https://app.wandb.ai/igodfried/covid-forecast/sweeps/wr9ke1l2\" target=\"_blank\">https://app.wandb.ai/igodfried/covid-forecast/sweeps/wr9ke1l2</a><br/>\n",
              "Run page: <a href=\"https://app.wandb.ai/igodfried/covid-forecast/runs/gy36nri0\" target=\"_blank\">https://app.wandb.ai/igodfried/covid-forecast/runs/gy36nri0</a><br/>\n",
              "            "
            ],
            "text/plain": [
              "<IPython.core.display.HTML object>"
            ]
          },
          "metadata": {
            "tags": []
          }
        },
        {
          "output_type": "stream",
          "text": [
            "Epoch 1/30\n",
            "WARNING:tensorflow:Layer bidirectional is casting an input tensor from dtype float64 to the layer's dtype of float32, which is new behavior in TensorFlow 2.  The layer has dtype float32 because it's dtype defaults to floatx.\n",
            "\n",
            "If you intended to run this layer in float32, you can safely ignore this warning. If in doubt, this warning is likely only an issue if you are porting a TensorFlow 1.X model to TensorFlow 2.\n",
            "\n",
            "To change all layers to have dtype float64 by default, call `tf.keras.backend.set_floatx('float64')`. To change just this layer, pass dtype='float64' to the layer constructor. If you are the author of this layer, you can disable autocasting by passing autocast=False to the base Layer constructor.\n",
            "\n",
            "14/14 [==============================] - 1s 53ms/step - loss: 0.9404 - val_loss: 8.8658\n",
            "Epoch 2/30\n",
            "14/14 [==============================] - 0s 10ms/step - loss: 0.3729 - val_loss: 2.1394\n",
            "Epoch 3/30\n",
            "14/14 [==============================] - 0s 11ms/step - loss: 0.1794 - val_loss: 2.0115\n",
            "Epoch 4/30\n",
            "14/14 [==============================] - 0s 8ms/step - loss: 0.2050 - val_loss: 2.2766\n",
            "Epoch 5/30\n",
            "14/14 [==============================] - 0s 8ms/step - loss: 0.1689 - val_loss: 2.9002\n",
            "Epoch 6/30\n",
            "14/14 [==============================] - 0s 9ms/step - loss: 0.1715 - val_loss: 3.4101\n",
            "Epoch 7/30\n",
            "14/14 [==============================] - 0s 10ms/step - loss: 0.1431 - val_loss: 4.4963\n",
            "Epoch 8/30\n",
            "14/14 [==============================] - 0s 9ms/step - loss: 0.1673 - val_loss: 3.8386\n",
            "Epoch 9/30\n",
            "14/14 [==============================] - 0s 8ms/step - loss: 0.1924 - val_loss: 5.5678\n",
            "Epoch 10/30\n",
            "14/14 [==============================] - 0s 11ms/step - loss: 0.3136 - val_loss: 1.7826\n",
            "Epoch 11/30\n",
            "14/14 [==============================] - 0s 9ms/step - loss: 0.2155 - val_loss: 3.2686\n",
            "Epoch 12/30\n",
            "14/14 [==============================] - 0s 8ms/step - loss: 0.2291 - val_loss: 5.4973\n",
            "Epoch 13/30\n",
            "14/14 [==============================] - 0s 10ms/step - loss: 0.3161 - val_loss: 1.5704\n",
            "Epoch 14/30\n",
            "14/14 [==============================] - 0s 8ms/step - loss: 0.1520 - val_loss: 2.9976\n",
            "Epoch 15/30\n",
            "14/14 [==============================] - 0s 8ms/step - loss: 0.1651 - val_loss: 4.9313\n",
            "Epoch 16/30\n",
            "14/14 [==============================] - 0s 8ms/step - loss: 0.1557 - val_loss: 2.9336\n",
            "Epoch 17/30\n",
            "14/14 [==============================] - 0s 8ms/step - loss: 0.1492 - val_loss: 4.4006\n",
            "Epoch 18/30\n",
            "14/14 [==============================] - 0s 8ms/step - loss: 0.1231 - val_loss: 4.1754\n",
            "Epoch 19/30\n",
            "14/14 [==============================] - 0s 8ms/step - loss: 0.1470 - val_loss: 4.7666\n",
            "Epoch 20/30\n",
            "14/14 [==============================] - 0s 8ms/step - loss: 0.1412 - val_loss: 4.3766\n",
            "Epoch 21/30\n",
            "14/14 [==============================] - 0s 8ms/step - loss: 0.1325 - val_loss: 6.1543\n",
            "Epoch 22/30\n",
            "14/14 [==============================] - 0s 8ms/step - loss: 0.1359 - val_loss: 5.2113\n",
            "Epoch 23/30\n",
            "14/14 [==============================] - 0s 8ms/step - loss: 0.1353 - val_loss: 6.4893\n",
            "Epoch 24/30\n",
            "14/14 [==============================] - 0s 8ms/step - loss: 0.1642 - val_loss: 5.0541\n",
            "Epoch 25/30\n",
            "14/14 [==============================] - 0s 8ms/step - loss: 0.1580 - val_loss: 7.7162\n",
            "Epoch 26/30\n",
            "14/14 [==============================] - 0s 9ms/step - loss: 0.2672 - val_loss: 2.9801\n",
            "Epoch 27/30\n",
            "14/14 [==============================] - 0s 8ms/step - loss: 0.1288 - val_loss: 7.1534\n",
            "Epoch 28/30\n",
            "14/14 [==============================] - 0s 9ms/step - loss: 0.1105 - val_loss: 4.6391\n",
            "Epoch 29/30\n",
            "14/14 [==============================] - 0s 8ms/step - loss: 0.1723 - val_loss: 6.4529\n",
            "Epoch 30/30\n",
            "14/14 [==============================] - 0s 8ms/step - loss: 0.1741 - val_loss: 3.6524\n"
          ],
          "name": "stdout"
        },
        {
          "output_type": "stream",
          "text": [
            "/usr/local/lib/python3.6/dist-packages/ipykernel_launcher.py:42: SettingWithCopyWarning: \n",
            "A value is trying to be set on a copy of a slice from a DataFrame\n",
            "\n",
            "See the caveats in the documentation: https://pandas.pydata.org/pandas-docs/stable/user_guide/indexing.html#returning-a-view-versus-a-copy\n",
            "/usr/local/lib/python3.6/dist-packages/plotly/matplotlylib/mpltools.py:368: MatplotlibDeprecationWarning:\n",
            "\n",
            "\n",
            "The is_frame_like function was deprecated in Matplotlib 3.1 and will be removed in 3.3.\n",
            "\n",
            "/usr/local/lib/python3.6/dist-packages/plotly/matplotlylib/renderer.py:410: UserWarning:\n",
            "\n",
            "Bummer! Plotly can currently only draw Line2D objects from matplotlib that are in 'data' coordinates!\n",
            "\n",
            "/usr/local/lib/python3.6/dist-packages/plotly/matplotlylib/renderer.py:512: UserWarning:\n",
            "\n",
            "I found a path object that I don't think is part of a bar chart. Ignoring.\n",
            "\n"
          ],
          "name": "stderr"
        },
        {
          "output_type": "stream",
          "text": [
            "wandb: Agent Finished Run: gy36nri0 \n",
            "\n",
            "wandb: Agent Starting Run: zy7hknm1 with config:\n",
            "\tbatch_size: 4\n",
            "\tlearn: 0.0015\n",
            "wandb: Agent Started Run: zy7hknm1\n"
          ],
          "name": "stdout"
        },
        {
          "output_type": "display_data",
          "data": {
            "text/html": [
              "\n",
              "                Logging results to <a href=\"https://wandb.com\" target=\"_blank\">Weights & Biases</a> <a href=\"https://docs.wandb.com/integrations/jupyter.html\" target=\"_blank\">(Documentation)</a>.<br/>\n",
              "                Project page: <a href=\"https://app.wandb.ai/igodfried/covid-forecast\" target=\"_blank\">https://app.wandb.ai/igodfried/covid-forecast</a><br/>\n",
              "                Sweep page: <a href=\"https://app.wandb.ai/igodfried/covid-forecast/sweeps/wr9ke1l2\" target=\"_blank\">https://app.wandb.ai/igodfried/covid-forecast/sweeps/wr9ke1l2</a><br/>\n",
              "Run page: <a href=\"https://app.wandb.ai/igodfried/covid-forecast/runs/zy7hknm1\" target=\"_blank\">https://app.wandb.ai/igodfried/covid-forecast/runs/zy7hknm1</a><br/>\n",
              "            "
            ],
            "text/plain": [
              "<IPython.core.display.HTML object>"
            ]
          },
          "metadata": {
            "tags": []
          }
        },
        {
          "output_type": "stream",
          "text": [
            "Epoch 1/30\n",
            "WARNING:tensorflow:Layer bidirectional is casting an input tensor from dtype float64 to the layer's dtype of float32, which is new behavior in TensorFlow 2.  The layer has dtype float32 because it's dtype defaults to floatx.\n",
            "\n",
            "If you intended to run this layer in float32, you can safely ignore this warning. If in doubt, this warning is likely only an issue if you are porting a TensorFlow 1.X model to TensorFlow 2.\n",
            "\n",
            "To change all layers to have dtype float64 by default, call `tf.keras.backend.set_floatx('float64')`. To change just this layer, pass dtype='float64' to the layer constructor. If you are the author of this layer, you can disable autocasting by passing autocast=False to the base Layer constructor.\n",
            "\n",
            "14/14 [==============================] - 1s 54ms/step - loss: 0.7442 - val_loss: 5.5942\n",
            "Epoch 2/30\n",
            "14/14 [==============================] - 0s 10ms/step - loss: 0.1975 - val_loss: 1.8293\n",
            "Epoch 3/30\n",
            "14/14 [==============================] - 0s 8ms/step - loss: 0.2240 - val_loss: 3.5854\n",
            "Epoch 4/30\n",
            "14/14 [==============================] - 0s 8ms/step - loss: 0.2734 - val_loss: 2.0237\n",
            "Epoch 5/30\n",
            "14/14 [==============================] - 0s 8ms/step - loss: 0.1629 - val_loss: 3.6444\n",
            "Epoch 6/30\n",
            "14/14 [==============================] - 0s 8ms/step - loss: 0.1751 - val_loss: 2.5402\n",
            "Epoch 7/30\n",
            "14/14 [==============================] - 0s 11ms/step - loss: 0.1776 - val_loss: 4.0712\n",
            "Epoch 8/30\n",
            "14/14 [==============================] - 0s 9ms/step - loss: 0.2155 - val_loss: 1.9195\n",
            "Epoch 9/30\n",
            "14/14 [==============================] - 0s 9ms/step - loss: 0.2047 - val_loss: 4.3661\n",
            "Epoch 10/30\n",
            "14/14 [==============================] - 0s 11ms/step - loss: 0.2497 - val_loss: 1.6527\n",
            "Epoch 11/30\n",
            "14/14 [==============================] - 0s 9ms/step - loss: 0.1353 - val_loss: 3.4376\n",
            "Epoch 12/30\n",
            "14/14 [==============================] - 0s 8ms/step - loss: 0.1307 - val_loss: 3.1128\n",
            "Epoch 13/30\n",
            "14/14 [==============================] - 0s 8ms/step - loss: 0.1513 - val_loss: 3.5046\n",
            "Epoch 14/30\n",
            "14/14 [==============================] - 0s 8ms/step - loss: 0.1337 - val_loss: 3.5591\n",
            "Epoch 15/30\n",
            "14/14 [==============================] - 0s 8ms/step - loss: 0.1449 - val_loss: 4.2150\n",
            "Epoch 16/30\n",
            "14/14 [==============================] - 0s 8ms/step - loss: 0.1708 - val_loss: 3.0216\n",
            "Epoch 17/30\n",
            "14/14 [==============================] - 0s 8ms/step - loss: 0.2438 - val_loss: 5.3458\n",
            "Epoch 18/30\n",
            "14/14 [==============================] - 0s 7ms/step - loss: 0.4276 - val_loss: 1.7345\n",
            "Epoch 19/30\n",
            "14/14 [==============================] - 0s 8ms/step - loss: 0.1821 - val_loss: 3.1738\n",
            "Epoch 20/30\n",
            "14/14 [==============================] - 0s 8ms/step - loss: 0.2605 - val_loss: 4.8793\n",
            "Epoch 21/30\n",
            "14/14 [==============================] - 0s 10ms/step - loss: 0.3385 - val_loss: 1.5988\n",
            "Epoch 22/30\n",
            "14/14 [==============================] - 0s 8ms/step - loss: 0.1594 - val_loss: 2.6535\n",
            "Epoch 23/30\n",
            "14/14 [==============================] - 0s 8ms/step - loss: 0.1603 - val_loss: 4.0926\n",
            "Epoch 24/30\n",
            "14/14 [==============================] - 0s 8ms/step - loss: 0.1415 - val_loss: 2.7228\n",
            "Epoch 25/30\n",
            "14/14 [==============================] - 0s 8ms/step - loss: 0.1326 - val_loss: 3.7653\n",
            "Epoch 26/30\n",
            "14/14 [==============================] - 0s 9ms/step - loss: 0.1659 - val_loss: 4.0544\n",
            "Epoch 27/30\n",
            "14/14 [==============================] - 0s 8ms/step - loss: 0.1551 - val_loss: 3.2745\n",
            "Epoch 28/30\n",
            "14/14 [==============================] - 0s 8ms/step - loss: 0.1395 - val_loss: 5.0736\n",
            "Epoch 29/30\n",
            "14/14 [==============================] - 0s 9ms/step - loss: 0.1134 - val_loss: 3.9234\n",
            "Epoch 30/30\n",
            "14/14 [==============================] - 0s 8ms/step - loss: 0.1239 - val_loss: 5.5818\n"
          ],
          "name": "stdout"
        },
        {
          "output_type": "stream",
          "text": [
            "/usr/local/lib/python3.6/dist-packages/ipykernel_launcher.py:42: SettingWithCopyWarning: \n",
            "A value is trying to be set on a copy of a slice from a DataFrame\n",
            "\n",
            "See the caveats in the documentation: https://pandas.pydata.org/pandas-docs/stable/user_guide/indexing.html#returning-a-view-versus-a-copy\n",
            "/usr/local/lib/python3.6/dist-packages/plotly/matplotlylib/mpltools.py:368: MatplotlibDeprecationWarning:\n",
            "\n",
            "\n",
            "The is_frame_like function was deprecated in Matplotlib 3.1 and will be removed in 3.3.\n",
            "\n",
            "/usr/local/lib/python3.6/dist-packages/plotly/matplotlylib/renderer.py:410: UserWarning:\n",
            "\n",
            "Bummer! Plotly can currently only draw Line2D objects from matplotlib that are in 'data' coordinates!\n",
            "\n",
            "/usr/local/lib/python3.6/dist-packages/plotly/matplotlylib/renderer.py:512: UserWarning:\n",
            "\n",
            "I found a path object that I don't think is part of a bar chart. Ignoring.\n",
            "\n"
          ],
          "name": "stderr"
        },
        {
          "output_type": "stream",
          "text": [
            "wandb: Agent Finished Run: zy7hknm1 \n",
            "\n",
            "wandb: Agent Starting Run: 1r62sdd8 with config:\n",
            "\tbatch_size: 4\n",
            "\tlearn: 0.002\n",
            "wandb: Agent Started Run: 1r62sdd8\n"
          ],
          "name": "stdout"
        },
        {
          "output_type": "display_data",
          "data": {
            "text/html": [
              "\n",
              "                Logging results to <a href=\"https://wandb.com\" target=\"_blank\">Weights & Biases</a> <a href=\"https://docs.wandb.com/integrations/jupyter.html\" target=\"_blank\">(Documentation)</a>.<br/>\n",
              "                Project page: <a href=\"https://app.wandb.ai/igodfried/covid-forecast\" target=\"_blank\">https://app.wandb.ai/igodfried/covid-forecast</a><br/>\n",
              "                Sweep page: <a href=\"https://app.wandb.ai/igodfried/covid-forecast/sweeps/wr9ke1l2\" target=\"_blank\">https://app.wandb.ai/igodfried/covid-forecast/sweeps/wr9ke1l2</a><br/>\n",
              "Run page: <a href=\"https://app.wandb.ai/igodfried/covid-forecast/runs/1r62sdd8\" target=\"_blank\">https://app.wandb.ai/igodfried/covid-forecast/runs/1r62sdd8</a><br/>\n",
              "            "
            ],
            "text/plain": [
              "<IPython.core.display.HTML object>"
            ]
          },
          "metadata": {
            "tags": []
          }
        },
        {
          "output_type": "stream",
          "text": [
            "Epoch 1/30\n",
            "WARNING:tensorflow:Layer bidirectional is casting an input tensor from dtype float64 to the layer's dtype of float32, which is new behavior in TensorFlow 2.  The layer has dtype float32 because it's dtype defaults to floatx.\n",
            "\n",
            "If you intended to run this layer in float32, you can safely ignore this warning. If in doubt, this warning is likely only an issue if you are porting a TensorFlow 1.X model to TensorFlow 2.\n",
            "\n",
            "To change all layers to have dtype float64 by default, call `tf.keras.backend.set_floatx('float64')`. To change just this layer, pass dtype='float64' to the layer constructor. If you are the author of this layer, you can disable autocasting by passing autocast=False to the base Layer constructor.\n",
            "\n",
            "14/14 [==============================] - 1s 54ms/step - loss: 0.5977 - val_loss: 3.8420\n",
            "Epoch 2/30\n",
            "14/14 [==============================] - 0s 10ms/step - loss: 0.2374 - val_loss: 2.3811\n",
            "Epoch 3/30\n",
            "14/14 [==============================] - 0s 10ms/step - loss: 0.3968 - val_loss: 2.0360\n",
            "Epoch 4/30\n",
            "14/14 [==============================] - 0s 9ms/step - loss: 0.1616 - val_loss: 2.2481\n",
            "Epoch 5/30\n",
            "14/14 [==============================] - 0s 8ms/step - loss: 0.1678 - val_loss: 2.3288\n",
            "Epoch 6/30\n",
            "14/14 [==============================] - 0s 10ms/step - loss: 0.1773 - val_loss: 2.5972\n",
            "Epoch 7/30\n",
            "14/14 [==============================] - 0s 10ms/step - loss: 0.2142 - val_loss: 3.7377\n",
            "Epoch 8/30\n",
            "14/14 [==============================] - 0s 9ms/step - loss: 0.3344 - val_loss: 2.1355\n",
            "Epoch 9/30\n",
            "14/14 [==============================] - 0s 8ms/step - loss: 0.1873 - val_loss: 3.5599\n",
            "Epoch 10/30\n",
            "14/14 [==============================] - 0s 10ms/step - loss: 0.2937 - val_loss: 1.8848\n",
            "Epoch 11/30\n",
            "14/14 [==============================] - 0s 9ms/step - loss: 0.1798 - val_loss: 3.0229\n",
            "Epoch 12/30\n",
            "14/14 [==============================] - 0s 11ms/step - loss: 0.1989 - val_loss: 1.5734\n",
            "Epoch 13/30\n",
            "14/14 [==============================] - 0s 9ms/step - loss: 0.1712 - val_loss: 2.8835\n",
            "Epoch 14/30\n",
            "14/14 [==============================] - 0s 8ms/step - loss: 0.1892 - val_loss: 1.6515\n",
            "Epoch 15/30\n",
            "14/14 [==============================] - 0s 8ms/step - loss: 0.1797 - val_loss: 3.1916\n",
            "Epoch 16/30\n",
            "14/14 [==============================] - 0s 8ms/step - loss: 0.2026 - val_loss: 1.7274\n",
            "Epoch 17/30\n",
            "14/14 [==============================] - 0s 8ms/step - loss: 0.1747 - val_loss: 3.4200\n",
            "Epoch 18/30\n",
            "14/14 [==============================] - 0s 10ms/step - loss: 0.2257 - val_loss: 1.4488\n",
            "Epoch 19/30\n",
            "14/14 [==============================] - 0s 8ms/step - loss: 0.1562 - val_loss: 2.7046\n",
            "Epoch 20/30\n",
            "14/14 [==============================] - 0s 9ms/step - loss: 0.1463 - val_loss: 2.2833\n",
            "Epoch 21/30\n",
            "14/14 [==============================] - 0s 8ms/step - loss: 0.1326 - val_loss: 2.8092\n",
            "Epoch 22/30\n",
            "14/14 [==============================] - 0s 9ms/step - loss: 0.1349 - val_loss: 3.4420\n",
            "Epoch 23/30\n",
            "14/14 [==============================] - 0s 8ms/step - loss: 0.1317 - val_loss: 2.7760\n",
            "Epoch 24/30\n",
            "14/14 [==============================] - 0s 8ms/step - loss: 0.1891 - val_loss: 4.1227\n",
            "Epoch 25/30\n",
            "14/14 [==============================] - 0s 8ms/step - loss: 0.3124 - val_loss: 1.6900\n",
            "Epoch 26/30\n",
            "14/14 [==============================] - 0s 8ms/step - loss: 0.1522 - val_loss: 3.9069\n",
            "Epoch 27/30\n",
            "14/14 [==============================] - 0s 8ms/step - loss: 0.2155 - val_loss: 2.0569\n",
            "Epoch 28/30\n",
            "14/14 [==============================] - 0s 8ms/step - loss: 0.1699 - val_loss: 3.4099\n",
            "Epoch 29/30\n",
            "14/14 [==============================] - 0s 8ms/step - loss: 0.2011 - val_loss: 1.9076\n",
            "Epoch 30/30\n",
            "14/14 [==============================] - 0s 8ms/step - loss: 0.1648 - val_loss: 3.1494\n"
          ],
          "name": "stdout"
        },
        {
          "output_type": "stream",
          "text": [
            "/usr/local/lib/python3.6/dist-packages/ipykernel_launcher.py:42: SettingWithCopyWarning: \n",
            "A value is trying to be set on a copy of a slice from a DataFrame\n",
            "\n",
            "See the caveats in the documentation: https://pandas.pydata.org/pandas-docs/stable/user_guide/indexing.html#returning-a-view-versus-a-copy\n",
            "/usr/local/lib/python3.6/dist-packages/plotly/matplotlylib/mpltools.py:368: MatplotlibDeprecationWarning:\n",
            "\n",
            "\n",
            "The is_frame_like function was deprecated in Matplotlib 3.1 and will be removed in 3.3.\n",
            "\n",
            "/usr/local/lib/python3.6/dist-packages/plotly/matplotlylib/renderer.py:410: UserWarning:\n",
            "\n",
            "Bummer! Plotly can currently only draw Line2D objects from matplotlib that are in 'data' coordinates!\n",
            "\n",
            "/usr/local/lib/python3.6/dist-packages/plotly/matplotlylib/renderer.py:512: UserWarning:\n",
            "\n",
            "I found a path object that I don't think is part of a bar chart. Ignoring.\n",
            "\n"
          ],
          "name": "stderr"
        },
        {
          "output_type": "stream",
          "text": [
            "wandb: Agent Finished Run: 1r62sdd8 \n",
            "\n",
            "wandb: Agent Starting Run: db230yrs with config:\n",
            "\tbatch_size: 4\n",
            "\tlearn: 0.003\n",
            "wandb: Agent Started Run: db230yrs\n"
          ],
          "name": "stdout"
        },
        {
          "output_type": "display_data",
          "data": {
            "text/html": [
              "\n",
              "                Logging results to <a href=\"https://wandb.com\" target=\"_blank\">Weights & Biases</a> <a href=\"https://docs.wandb.com/integrations/jupyter.html\" target=\"_blank\">(Documentation)</a>.<br/>\n",
              "                Project page: <a href=\"https://app.wandb.ai/igodfried/covid-forecast\" target=\"_blank\">https://app.wandb.ai/igodfried/covid-forecast</a><br/>\n",
              "                Sweep page: <a href=\"https://app.wandb.ai/igodfried/covid-forecast/sweeps/wr9ke1l2\" target=\"_blank\">https://app.wandb.ai/igodfried/covid-forecast/sweeps/wr9ke1l2</a><br/>\n",
              "Run page: <a href=\"https://app.wandb.ai/igodfried/covid-forecast/runs/db230yrs\" target=\"_blank\">https://app.wandb.ai/igodfried/covid-forecast/runs/db230yrs</a><br/>\n",
              "            "
            ],
            "text/plain": [
              "<IPython.core.display.HTML object>"
            ]
          },
          "metadata": {
            "tags": []
          }
        },
        {
          "output_type": "stream",
          "text": [
            "Epoch 1/30\n",
            "WARNING:tensorflow:Layer bidirectional is casting an input tensor from dtype float64 to the layer's dtype of float32, which is new behavior in TensorFlow 2.  The layer has dtype float32 because it's dtype defaults to floatx.\n",
            "\n",
            "If you intended to run this layer in float32, you can safely ignore this warning. If in doubt, this warning is likely only an issue if you are porting a TensorFlow 1.X model to TensorFlow 2.\n",
            "\n",
            "To change all layers to have dtype float64 by default, call `tf.keras.backend.set_floatx('float64')`. To change just this layer, pass dtype='float64' to the layer constructor. If you are the author of this layer, you can disable autocasting by passing autocast=False to the base Layer constructor.\n",
            "\n",
            "14/14 [==============================] - 1s 57ms/step - loss: 0.4601 - val_loss: 1.6519\n",
            "Epoch 2/30\n",
            "14/14 [==============================] - 0s 9ms/step - loss: 0.5387 - val_loss: 2.8430\n",
            "Epoch 3/30\n",
            "14/14 [==============================] - 0s 8ms/step - loss: 1.2091 - val_loss: 12.2819\n",
            "Epoch 4/30\n",
            "14/14 [==============================] - 0s 9ms/step - loss: 0.6699 - val_loss: 5.7145\n",
            "Epoch 5/30\n",
            "14/14 [==============================] - 0s 13ms/step - loss: 0.2522 - val_loss: 1.4329\n",
            "Epoch 6/30\n",
            "14/14 [==============================] - 0s 12ms/step - loss: 0.3077 - val_loss: 1.5425\n",
            "Epoch 7/30\n",
            "14/14 [==============================] - 0s 9ms/step - loss: 0.5424 - val_loss: 3.2421\n",
            "Epoch 8/30\n",
            "14/14 [==============================] - 0s 13ms/step - loss: 0.1787 - val_loss: 1.2868\n",
            "Epoch 9/30\n",
            "14/14 [==============================] - 0s 10ms/step - loss: 0.2496 - val_loss: 1.6732\n",
            "Epoch 10/30\n",
            "14/14 [==============================] - 0s 8ms/step - loss: 0.3045 - val_loss: 1.4938\n",
            "Epoch 11/30\n",
            "14/14 [==============================] - 0s 8ms/step - loss: 0.1732 - val_loss: 1.6414\n",
            "Epoch 12/30\n",
            "14/14 [==============================] - 0s 8ms/step - loss: 0.1593 - val_loss: 1.7426\n",
            "Epoch 13/30\n",
            "14/14 [==============================] - 0s 9ms/step - loss: 0.1250 - val_loss: 2.0204\n",
            "Epoch 14/30\n",
            "14/14 [==============================] - 0s 8ms/step - loss: 0.1547 - val_loss: 1.9956\n",
            "Epoch 15/30\n",
            "14/14 [==============================] - 0s 8ms/step - loss: 0.1795 - val_loss: 2.1759\n",
            "Epoch 16/30\n",
            "14/14 [==============================] - 0s 9ms/step - loss: 0.1711 - val_loss: 2.6995\n",
            "Epoch 17/30\n",
            "14/14 [==============================] - 0s 8ms/step - loss: 0.2030 - val_loss: 3.2391\n",
            "Epoch 18/30\n",
            "14/14 [==============================] - 0s 8ms/step - loss: 0.4151 - val_loss: 2.1407\n",
            "Epoch 19/30\n",
            "14/14 [==============================] - 0s 8ms/step - loss: 0.2004 - val_loss: 2.3645\n",
            "Epoch 20/30\n",
            "14/14 [==============================] - 0s 8ms/step - loss: 0.3078 - val_loss: 1.6231\n",
            "Epoch 21/30\n",
            "14/14 [==============================] - 0s 8ms/step - loss: 0.1762 - val_loss: 2.5142\n",
            "Epoch 22/30\n",
            "14/14 [==============================] - 0s 9ms/step - loss: 0.1766 - val_loss: 1.5036\n",
            "Epoch 23/30\n",
            "14/14 [==============================] - 0s 8ms/step - loss: 0.1872 - val_loss: 2.3964\n",
            "Epoch 24/30\n",
            "14/14 [==============================] - 0s 9ms/step - loss: 0.2215 - val_loss: 1.4442\n",
            "Epoch 25/30\n",
            "14/14 [==============================] - 0s 8ms/step - loss: 0.2042 - val_loss: 2.2793\n",
            "Epoch 26/30\n",
            "14/14 [==============================] - 0s 9ms/step - loss: 0.2367 - val_loss: 1.4092\n",
            "Epoch 27/30\n",
            "14/14 [==============================] - 0s 8ms/step - loss: 0.1537 - val_loss: 2.4151\n",
            "Epoch 28/30\n",
            "14/14 [==============================] - 0s 9ms/step - loss: 0.1798 - val_loss: 1.4193\n",
            "Epoch 29/30\n",
            "14/14 [==============================] - 0s 8ms/step - loss: 0.1763 - val_loss: 2.3700\n",
            "Epoch 30/30\n",
            "14/14 [==============================] - 0s 8ms/step - loss: 0.2710 - val_loss: 1.4231\n"
          ],
          "name": "stdout"
        },
        {
          "output_type": "stream",
          "text": [
            "/usr/local/lib/python3.6/dist-packages/ipykernel_launcher.py:42: SettingWithCopyWarning: \n",
            "A value is trying to be set on a copy of a slice from a DataFrame\n",
            "\n",
            "See the caveats in the documentation: https://pandas.pydata.org/pandas-docs/stable/user_guide/indexing.html#returning-a-view-versus-a-copy\n",
            "/usr/local/lib/python3.6/dist-packages/plotly/matplotlylib/mpltools.py:368: MatplotlibDeprecationWarning:\n",
            "\n",
            "\n",
            "The is_frame_like function was deprecated in Matplotlib 3.1 and will be removed in 3.3.\n",
            "\n",
            "/usr/local/lib/python3.6/dist-packages/plotly/matplotlylib/renderer.py:410: UserWarning:\n",
            "\n",
            "Bummer! Plotly can currently only draw Line2D objects from matplotlib that are in 'data' coordinates!\n",
            "\n",
            "/usr/local/lib/python3.6/dist-packages/plotly/matplotlylib/renderer.py:512: UserWarning:\n",
            "\n",
            "I found a path object that I don't think is part of a bar chart. Ignoring.\n",
            "\n"
          ],
          "name": "stderr"
        },
        {
          "output_type": "stream",
          "text": [
            "wandb: Agent Finished Run: db230yrs \n",
            "\n",
            "wandb: Agent Starting Run: 2zqknxp3 with config:\n",
            "\tbatch_size: 4\n",
            "\tlearn: 0.004\n",
            "wandb: Agent Started Run: 2zqknxp3\n"
          ],
          "name": "stdout"
        },
        {
          "output_type": "display_data",
          "data": {
            "text/html": [
              "\n",
              "                Logging results to <a href=\"https://wandb.com\" target=\"_blank\">Weights & Biases</a> <a href=\"https://docs.wandb.com/integrations/jupyter.html\" target=\"_blank\">(Documentation)</a>.<br/>\n",
              "                Project page: <a href=\"https://app.wandb.ai/igodfried/covid-forecast\" target=\"_blank\">https://app.wandb.ai/igodfried/covid-forecast</a><br/>\n",
              "                Sweep page: <a href=\"https://app.wandb.ai/igodfried/covid-forecast/sweeps/wr9ke1l2\" target=\"_blank\">https://app.wandb.ai/igodfried/covid-forecast/sweeps/wr9ke1l2</a><br/>\n",
              "Run page: <a href=\"https://app.wandb.ai/igodfried/covid-forecast/runs/2zqknxp3\" target=\"_blank\">https://app.wandb.ai/igodfried/covid-forecast/runs/2zqknxp3</a><br/>\n",
              "            "
            ],
            "text/plain": [
              "<IPython.core.display.HTML object>"
            ]
          },
          "metadata": {
            "tags": []
          }
        },
        {
          "output_type": "stream",
          "text": [
            "Epoch 1/30\n",
            "WARNING:tensorflow:Layer bidirectional is casting an input tensor from dtype float64 to the layer's dtype of float32, which is new behavior in TensorFlow 2.  The layer has dtype float32 because it's dtype defaults to floatx.\n",
            "\n",
            "If you intended to run this layer in float32, you can safely ignore this warning. If in doubt, this warning is likely only an issue if you are porting a TensorFlow 1.X model to TensorFlow 2.\n",
            "\n",
            "To change all layers to have dtype float64 by default, call `tf.keras.backend.set_floatx('float64')`. To change just this layer, pass dtype='float64' to the layer constructor. If you are the author of this layer, you can disable autocasting by passing autocast=False to the base Layer constructor.\n",
            "\n",
            "14/14 [==============================] - 1s 54ms/step - loss: 0.2184 - val_loss: 3.9073\n",
            "Epoch 2/30\n",
            "14/14 [==============================] - 0s 10ms/step - loss: 0.8295 - val_loss: 3.2717\n",
            "Epoch 3/30\n",
            "14/14 [==============================] - 0s 8ms/step - loss: 1.3000 - val_loss: 14.9642\n",
            "Epoch 4/30\n",
            "14/14 [==============================] - 0s 8ms/step - loss: 0.6727 - val_loss: 6.0099\n",
            "Epoch 5/30\n",
            "14/14 [==============================] - 0s 11ms/step - loss: 0.2449 - val_loss: 1.2234\n",
            "Epoch 6/30\n",
            "14/14 [==============================] - 0s 10ms/step - loss: 0.3574 - val_loss: 1.9404\n",
            "Epoch 7/30\n",
            "14/14 [==============================] - 0s 10ms/step - loss: 0.5883 - val_loss: 3.1866\n",
            "Epoch 8/30\n",
            "14/14 [==============================] - 0s 8ms/step - loss: 0.2710 - val_loss: 1.2408\n",
            "Epoch 9/30\n",
            "14/14 [==============================] - 0s 10ms/step - loss: 0.3533 - val_loss: 1.6927\n",
            "Epoch 10/30\n",
            "14/14 [==============================] - 0s 8ms/step - loss: 0.5189 - val_loss: 3.3240\n",
            "Epoch 11/30\n",
            "14/14 [==============================] - 0s 8ms/step - loss: 0.2850 - val_loss: 1.4548\n",
            "Epoch 12/30\n",
            "14/14 [==============================] - 0s 8ms/step - loss: 0.2035 - val_loss: 1.5629\n",
            "Epoch 13/30\n",
            "14/14 [==============================] - 0s 8ms/step - loss: 0.1708 - val_loss: 1.3520\n",
            "Epoch 14/30\n",
            "14/14 [==============================] - 0s 8ms/step - loss: 0.1686 - val_loss: 1.4436\n",
            "Epoch 15/30\n",
            "14/14 [==============================] - 0s 8ms/step - loss: 0.2202 - val_loss: 2.3550\n",
            "Epoch 16/30\n",
            "14/14 [==============================] - 0s 8ms/step - loss: 0.2348 - val_loss: 2.2122\n",
            "Epoch 17/30\n",
            "14/14 [==============================] - 0s 8ms/step - loss: 0.1717 - val_loss: 2.2577\n",
            "Epoch 18/30\n",
            "14/14 [==============================] - 0s 8ms/step - loss: 0.2029 - val_loss: 2.1958\n",
            "Epoch 19/30\n",
            "14/14 [==============================] - 0s 8ms/step - loss: 0.1564 - val_loss: 2.0526\n",
            "Epoch 20/30\n",
            "14/14 [==============================] - 0s 8ms/step - loss: 0.2391 - val_loss: 2.4763\n",
            "Epoch 21/30\n",
            "14/14 [==============================] - 0s 8ms/step - loss: 0.5696 - val_loss: 2.7583\n",
            "Epoch 22/30\n",
            "14/14 [==============================] - 0s 8ms/step - loss: 0.2251 - val_loss: 1.3337\n",
            "Epoch 23/30\n",
            "14/14 [==============================] - 0s 7ms/step - loss: 0.2180 - val_loss: 2.2694\n",
            "Epoch 24/30\n",
            "14/14 [==============================] - 0s 10ms/step - loss: 0.2712 - val_loss: 1.1517\n",
            "Epoch 25/30\n",
            "14/14 [==============================] - 0s 9ms/step - loss: 0.1983 - val_loss: 1.7069\n",
            "Epoch 26/30\n",
            "14/14 [==============================] - 0s 8ms/step - loss: 0.1810 - val_loss: 1.5521\n",
            "Epoch 27/30\n",
            "14/14 [==============================] - 0s 8ms/step - loss: 0.1637 - val_loss: 1.9466\n",
            "Epoch 28/30\n",
            "14/14 [==============================] - 0s 8ms/step - loss: 0.1283 - val_loss: 2.4333\n",
            "Epoch 29/30\n",
            "14/14 [==============================] - 0s 8ms/step - loss: 0.1855 - val_loss: 1.7703\n",
            "Epoch 30/30\n",
            "14/14 [==============================] - 0s 8ms/step - loss: 0.2549 - val_loss: 2.5170\n"
          ],
          "name": "stdout"
        },
        {
          "output_type": "stream",
          "text": [
            "/usr/local/lib/python3.6/dist-packages/ipykernel_launcher.py:42: SettingWithCopyWarning: \n",
            "A value is trying to be set on a copy of a slice from a DataFrame\n",
            "\n",
            "See the caveats in the documentation: https://pandas.pydata.org/pandas-docs/stable/user_guide/indexing.html#returning-a-view-versus-a-copy\n",
            "/usr/local/lib/python3.6/dist-packages/plotly/matplotlylib/mpltools.py:368: MatplotlibDeprecationWarning:\n",
            "\n",
            "\n",
            "The is_frame_like function was deprecated in Matplotlib 3.1 and will be removed in 3.3.\n",
            "\n",
            "/usr/local/lib/python3.6/dist-packages/plotly/matplotlylib/renderer.py:410: UserWarning:\n",
            "\n",
            "Bummer! Plotly can currently only draw Line2D objects from matplotlib that are in 'data' coordinates!\n",
            "\n",
            "/usr/local/lib/python3.6/dist-packages/plotly/matplotlylib/renderer.py:512: UserWarning:\n",
            "\n",
            "I found a path object that I don't think is part of a bar chart. Ignoring.\n",
            "\n"
          ],
          "name": "stderr"
        },
        {
          "output_type": "stream",
          "text": [
            "wandb: Agent Finished Run: 2zqknxp3 \n",
            "\n",
            "wandb: Agent Starting Run: cfoqiz7p with config:\n",
            "\tbatch_size: 4\n",
            "\tlearn: 0.01\n",
            "wandb: Agent Started Run: cfoqiz7p\n"
          ],
          "name": "stdout"
        },
        {
          "output_type": "display_data",
          "data": {
            "text/html": [
              "\n",
              "                Logging results to <a href=\"https://wandb.com\" target=\"_blank\">Weights & Biases</a> <a href=\"https://docs.wandb.com/integrations/jupyter.html\" target=\"_blank\">(Documentation)</a>.<br/>\n",
              "                Project page: <a href=\"https://app.wandb.ai/igodfried/covid-forecast\" target=\"_blank\">https://app.wandb.ai/igodfried/covid-forecast</a><br/>\n",
              "                Sweep page: <a href=\"https://app.wandb.ai/igodfried/covid-forecast/sweeps/wr9ke1l2\" target=\"_blank\">https://app.wandb.ai/igodfried/covid-forecast/sweeps/wr9ke1l2</a><br/>\n",
              "Run page: <a href=\"https://app.wandb.ai/igodfried/covid-forecast/runs/cfoqiz7p\" target=\"_blank\">https://app.wandb.ai/igodfried/covid-forecast/runs/cfoqiz7p</a><br/>\n",
              "            "
            ],
            "text/plain": [
              "<IPython.core.display.HTML object>"
            ]
          },
          "metadata": {
            "tags": []
          }
        },
        {
          "output_type": "stream",
          "text": [
            "Epoch 1/30\n",
            "WARNING:tensorflow:Layer bidirectional is casting an input tensor from dtype float64 to the layer's dtype of float32, which is new behavior in TensorFlow 2.  The layer has dtype float32 because it's dtype defaults to floatx.\n",
            "\n",
            "If you intended to run this layer in float32, you can safely ignore this warning. If in doubt, this warning is likely only an issue if you are porting a TensorFlow 1.X model to TensorFlow 2.\n",
            "\n",
            "To change all layers to have dtype float64 by default, call `tf.keras.backend.set_floatx('float64')`. To change just this layer, pass dtype='float64' to the layer constructor. If you are the author of this layer, you can disable autocasting by passing autocast=False to the base Layer constructor.\n",
            "\n",
            "14/14 [==============================] - 1s 54ms/step - loss: 0.5207 - val_loss: 2.6388\n",
            "Epoch 2/30\n",
            "14/14 [==============================] - 0s 8ms/step - loss: 0.4701 - val_loss: 2.7450\n",
            "Epoch 3/30\n",
            "14/14 [==============================] - 0s 10ms/step - loss: 0.8807 - val_loss: 1.9031\n",
            "Epoch 4/30\n",
            "14/14 [==============================] - 0s 8ms/step - loss: 1.0714 - val_loss: 10.6301\n",
            "Epoch 5/30\n",
            "14/14 [==============================] - 0s 8ms/step - loss: 0.2280 - val_loss: 3.6709\n",
            "Epoch 6/30\n",
            "14/14 [==============================] - 0s 11ms/step - loss: 0.8712 - val_loss: 1.8909\n",
            "Epoch 7/30\n",
            "14/14 [==============================] - 0s 13ms/step - loss: 0.3802 - val_loss: 1.3614\n",
            "Epoch 8/30\n",
            "14/14 [==============================] - 0s 8ms/step - loss: 0.8846 - val_loss: 6.8859\n",
            "Epoch 9/30\n",
            "14/14 [==============================] - 0s 9ms/step - loss: 0.4383 - val_loss: 1.9668\n",
            "Epoch 10/30\n",
            "14/14 [==============================] - 0s 10ms/step - loss: 0.4336 - val_loss: 1.0924\n",
            "Epoch 11/30\n",
            "14/14 [==============================] - 0s 8ms/step - loss: 0.8335 - val_loss: 6.8928\n",
            "Epoch 12/30\n",
            "14/14 [==============================] - 0s 8ms/step - loss: 0.4931 - val_loss: 3.3045\n",
            "Epoch 13/30\n",
            "14/14 [==============================] - 0s 8ms/step - loss: 0.2355 - val_loss: 1.4047\n",
            "Epoch 14/30\n",
            "14/14 [==============================] - 0s 8ms/step - loss: 0.2217 - val_loss: 1.5911\n",
            "Epoch 15/30\n",
            "14/14 [==============================] - 0s 11ms/step - loss: 0.1788 - val_loss: 1.0011\n",
            "Epoch 16/30\n",
            "14/14 [==============================] - 0s 8ms/step - loss: 0.0857 - val_loss: 1.6128\n",
            "Epoch 17/30\n",
            "14/14 [==============================] - 0s 8ms/step - loss: 0.1459 - val_loss: 3.2384\n",
            "Epoch 18/30\n",
            "14/14 [==============================] - 0s 8ms/step - loss: 0.5066 - val_loss: 2.7508\n",
            "Epoch 19/30\n",
            "14/14 [==============================] - 0s 8ms/step - loss: 0.4582 - val_loss: 1.5457\n",
            "Epoch 20/30\n",
            "14/14 [==============================] - 0s 8ms/step - loss: 0.2598 - val_loss: 1.5039\n",
            "Epoch 21/30\n",
            "14/14 [==============================] - 0s 8ms/step - loss: 0.4488 - val_loss: 1.5826\n",
            "Epoch 22/30\n",
            "14/14 [==============================] - 0s 8ms/step - loss: 0.1987 - val_loss: 1.1844\n",
            "Epoch 23/30\n",
            "14/14 [==============================] - 0s 8ms/step - loss: 0.1790 - val_loss: 1.1027\n",
            "Epoch 24/30\n",
            "14/14 [==============================] - 0s 10ms/step - loss: 0.1062 - val_loss: 0.9862\n",
            "Epoch 25/30\n",
            "14/14 [==============================] - 0s 9ms/step - loss: 0.1424 - val_loss: 1.1152\n",
            "Epoch 26/30\n",
            "14/14 [==============================] - 0s 9ms/step - loss: 0.2960 - val_loss: 2.2811\n",
            "Epoch 27/30\n",
            "14/14 [==============================] - 0s 8ms/step - loss: 0.1927 - val_loss: 1.7787\n",
            "Epoch 28/30\n",
            "14/14 [==============================] - 0s 9ms/step - loss: 0.2246 - val_loss: 2.0085\n",
            "Epoch 29/30\n",
            "14/14 [==============================] - 0s 8ms/step - loss: 0.2919 - val_loss: 1.1970\n",
            "Epoch 30/30\n",
            "14/14 [==============================] - 0s 8ms/step - loss: 0.1770 - val_loss: 1.2486\n"
          ],
          "name": "stdout"
        },
        {
          "output_type": "stream",
          "text": [
            "/usr/local/lib/python3.6/dist-packages/ipykernel_launcher.py:42: SettingWithCopyWarning: \n",
            "A value is trying to be set on a copy of a slice from a DataFrame\n",
            "\n",
            "See the caveats in the documentation: https://pandas.pydata.org/pandas-docs/stable/user_guide/indexing.html#returning-a-view-versus-a-copy\n",
            "/usr/local/lib/python3.6/dist-packages/plotly/matplotlylib/mpltools.py:368: MatplotlibDeprecationWarning:\n",
            "\n",
            "\n",
            "The is_frame_like function was deprecated in Matplotlib 3.1 and will be removed in 3.3.\n",
            "\n",
            "/usr/local/lib/python3.6/dist-packages/plotly/matplotlylib/renderer.py:410: UserWarning:\n",
            "\n",
            "Bummer! Plotly can currently only draw Line2D objects from matplotlib that are in 'data' coordinates!\n",
            "\n",
            "/usr/local/lib/python3.6/dist-packages/plotly/matplotlylib/renderer.py:512: UserWarning:\n",
            "\n",
            "I found a path object that I don't think is part of a bar chart. Ignoring.\n",
            "\n"
          ],
          "name": "stderr"
        },
        {
          "output_type": "stream",
          "text": [
            "wandb: Agent Finished Run: cfoqiz7p \n",
            "\n",
            "wandb: Agent Starting Run: omh2ipql with config:\n",
            "\tbatch_size: 5\n",
            "\tlearn: 0.001\n",
            "wandb: Agent Started Run: omh2ipql\n"
          ],
          "name": "stdout"
        },
        {
          "output_type": "display_data",
          "data": {
            "text/html": [
              "\n",
              "                Logging results to <a href=\"https://wandb.com\" target=\"_blank\">Weights & Biases</a> <a href=\"https://docs.wandb.com/integrations/jupyter.html\" target=\"_blank\">(Documentation)</a>.<br/>\n",
              "                Project page: <a href=\"https://app.wandb.ai/igodfried/covid-forecast\" target=\"_blank\">https://app.wandb.ai/igodfried/covid-forecast</a><br/>\n",
              "                Sweep page: <a href=\"https://app.wandb.ai/igodfried/covid-forecast/sweeps/wr9ke1l2\" target=\"_blank\">https://app.wandb.ai/igodfried/covid-forecast/sweeps/wr9ke1l2</a><br/>\n",
              "Run page: <a href=\"https://app.wandb.ai/igodfried/covid-forecast/runs/omh2ipql\" target=\"_blank\">https://app.wandb.ai/igodfried/covid-forecast/runs/omh2ipql</a><br/>\n",
              "            "
            ],
            "text/plain": [
              "<IPython.core.display.HTML object>"
            ]
          },
          "metadata": {
            "tags": []
          }
        },
        {
          "output_type": "stream",
          "text": [
            "Epoch 1/30\n",
            "WARNING:tensorflow:Layer bidirectional is casting an input tensor from dtype float64 to the layer's dtype of float32, which is new behavior in TensorFlow 2.  The layer has dtype float32 because it's dtype defaults to floatx.\n",
            "\n",
            "If you intended to run this layer in float32, you can safely ignore this warning. If in doubt, this warning is likely only an issue if you are porting a TensorFlow 1.X model to TensorFlow 2.\n",
            "\n",
            "To change all layers to have dtype float64 by default, call `tf.keras.backend.set_floatx('float64')`. To change just this layer, pass dtype='float64' to the layer constructor. If you are the author of this layer, you can disable autocasting by passing autocast=False to the base Layer constructor.\n",
            "\n",
            "11/11 [==============================] - 1s 67ms/step - loss: 0.9361 - val_loss: 14.7298\n",
            "Epoch 2/30\n",
            "11/11 [==============================] - 0s 10ms/step - loss: 0.5332 - val_loss: 6.5864\n",
            "Epoch 3/30\n",
            "11/11 [==============================] - 0s 11ms/step - loss: 0.2344 - val_loss: 1.7471\n",
            "Epoch 4/30\n",
            "11/11 [==============================] - 0s 12ms/step - loss: 0.1797 - val_loss: 1.4233\n",
            "Epoch 5/30\n",
            "11/11 [==============================] - 0s 11ms/step - loss: 0.1658 - val_loss: 1.3107\n",
            "Epoch 6/30\n",
            "11/11 [==============================] - 0s 9ms/step - loss: 0.1303 - val_loss: 1.4941\n",
            "Epoch 7/30\n",
            "11/11 [==============================] - 0s 8ms/step - loss: 0.1364 - val_loss: 2.4592\n",
            "Epoch 8/30\n",
            "11/11 [==============================] - 0s 8ms/step - loss: 0.1216 - val_loss: 2.0179\n",
            "Epoch 9/30\n",
            "11/11 [==============================] - 0s 8ms/step - loss: 0.1300 - val_loss: 3.0556\n",
            "Epoch 10/30\n",
            "11/11 [==============================] - 0s 10ms/step - loss: 0.1274 - val_loss: 2.5368\n",
            "Epoch 11/30\n",
            "11/11 [==============================] - 0s 10ms/step - loss: 0.1378 - val_loss: 3.1031\n",
            "Epoch 12/30\n",
            "11/11 [==============================] - 0s 10ms/step - loss: 0.1412 - val_loss: 4.1037\n",
            "Epoch 13/30\n",
            "11/11 [==============================] - 0s 9ms/step - loss: 0.1189 - val_loss: 2.9106\n",
            "Epoch 14/30\n",
            "11/11 [==============================] - 0s 8ms/step - loss: 0.1432 - val_loss: 5.4324\n",
            "Epoch 15/30\n",
            "11/11 [==============================] - 0s 8ms/step - loss: 0.2038 - val_loss: 1.7367\n",
            "Epoch 16/30\n",
            "11/11 [==============================] - 0s 8ms/step - loss: 0.1306 - val_loss: 4.2986\n",
            "Epoch 17/30\n",
            "11/11 [==============================] - 0s 9ms/step - loss: 0.0966 - val_loss: 4.2398\n",
            "Epoch 18/30\n",
            "11/11 [==============================] - 0s 7ms/step - loss: 0.1173 - val_loss: 4.1688\n",
            "Epoch 19/30\n",
            "11/11 [==============================] - 0s 8ms/step - loss: 0.1105 - val_loss: 3.7857\n",
            "Epoch 20/30\n",
            "11/11 [==============================] - 0s 8ms/step - loss: 0.1121 - val_loss: 4.2728\n",
            "Epoch 21/30\n",
            "11/11 [==============================] - 0s 8ms/step - loss: 0.1127 - val_loss: 4.7934\n",
            "Epoch 22/30\n",
            "11/11 [==============================] - 0s 8ms/step - loss: 0.0841 - val_loss: 4.8088\n",
            "Epoch 23/30\n",
            "11/11 [==============================] - 0s 8ms/step - loss: 0.0924 - val_loss: 5.1584\n",
            "Epoch 24/30\n",
            "11/11 [==============================] - 0s 8ms/step - loss: 0.1268 - val_loss: 4.1744\n",
            "Epoch 25/30\n",
            "11/11 [==============================] - 0s 8ms/step - loss: 0.1840 - val_loss: 6.3869\n",
            "Epoch 26/30\n",
            "11/11 [==============================] - 0s 9ms/step - loss: 0.3259 - val_loss: 1.4615\n",
            "Epoch 27/30\n",
            "11/11 [==============================] - 0s 8ms/step - loss: 0.1597 - val_loss: 2.4656\n",
            "Epoch 28/30\n",
            "11/11 [==============================] - 0s 8ms/step - loss: 0.1508 - val_loss: 5.5031\n",
            "Epoch 29/30\n",
            "11/11 [==============================] - 0s 9ms/step - loss: 0.1338 - val_loss: 2.2451\n",
            "Epoch 30/30\n",
            "11/11 [==============================] - 0s 8ms/step - loss: 0.1122 - val_loss: 3.5813\n"
          ],
          "name": "stdout"
        },
        {
          "output_type": "stream",
          "text": [
            "/usr/local/lib/python3.6/dist-packages/ipykernel_launcher.py:42: SettingWithCopyWarning: \n",
            "A value is trying to be set on a copy of a slice from a DataFrame\n",
            "\n",
            "See the caveats in the documentation: https://pandas.pydata.org/pandas-docs/stable/user_guide/indexing.html#returning-a-view-versus-a-copy\n",
            "/usr/local/lib/python3.6/dist-packages/plotly/matplotlylib/mpltools.py:368: MatplotlibDeprecationWarning:\n",
            "\n",
            "\n",
            "The is_frame_like function was deprecated in Matplotlib 3.1 and will be removed in 3.3.\n",
            "\n",
            "/usr/local/lib/python3.6/dist-packages/plotly/matplotlylib/renderer.py:410: UserWarning:\n",
            "\n",
            "Bummer! Plotly can currently only draw Line2D objects from matplotlib that are in 'data' coordinates!\n",
            "\n",
            "/usr/local/lib/python3.6/dist-packages/plotly/matplotlylib/renderer.py:512: UserWarning:\n",
            "\n",
            "I found a path object that I don't think is part of a bar chart. Ignoring.\n",
            "\n"
          ],
          "name": "stderr"
        },
        {
          "output_type": "stream",
          "text": [
            "wandb: Agent Finished Run: omh2ipql \n",
            "\n",
            "wandb: Agent Starting Run: 04f07ygp with config:\n",
            "\tbatch_size: 5\n",
            "\tlearn: 0.0015\n",
            "wandb: Agent Started Run: 04f07ygp\n"
          ],
          "name": "stdout"
        },
        {
          "output_type": "display_data",
          "data": {
            "text/html": [
              "\n",
              "                Logging results to <a href=\"https://wandb.com\" target=\"_blank\">Weights & Biases</a> <a href=\"https://docs.wandb.com/integrations/jupyter.html\" target=\"_blank\">(Documentation)</a>.<br/>\n",
              "                Project page: <a href=\"https://app.wandb.ai/igodfried/covid-forecast\" target=\"_blank\">https://app.wandb.ai/igodfried/covid-forecast</a><br/>\n",
              "                Sweep page: <a href=\"https://app.wandb.ai/igodfried/covid-forecast/sweeps/wr9ke1l2\" target=\"_blank\">https://app.wandb.ai/igodfried/covid-forecast/sweeps/wr9ke1l2</a><br/>\n",
              "Run page: <a href=\"https://app.wandb.ai/igodfried/covid-forecast/runs/04f07ygp\" target=\"_blank\">https://app.wandb.ai/igodfried/covid-forecast/runs/04f07ygp</a><br/>\n",
              "            "
            ],
            "text/plain": [
              "<IPython.core.display.HTML object>"
            ]
          },
          "metadata": {
            "tags": []
          }
        },
        {
          "output_type": "stream",
          "text": [
            "Epoch 1/30\n",
            "WARNING:tensorflow:Layer bidirectional is casting an input tensor from dtype float64 to the layer's dtype of float32, which is new behavior in TensorFlow 2.  The layer has dtype float32 because it's dtype defaults to floatx.\n",
            "\n",
            "If you intended to run this layer in float32, you can safely ignore this warning. If in doubt, this warning is likely only an issue if you are porting a TensorFlow 1.X model to TensorFlow 2.\n",
            "\n",
            "To change all layers to have dtype float64 by default, call `tf.keras.backend.set_floatx('float64')`. To change just this layer, pass dtype='float64' to the layer constructor. If you are the author of this layer, you can disable autocasting by passing autocast=False to the base Layer constructor.\n",
            "\n",
            "11/11 [==============================] - 1s 65ms/step - loss: 0.7412 - val_loss: 10.3257\n",
            "Epoch 2/30\n",
            "11/11 [==============================] - 0s 13ms/step - loss: 0.2104 - val_loss: 1.5644\n",
            "Epoch 3/30\n",
            "11/11 [==============================] - 0s 8ms/step - loss: 0.2475 - val_loss: 1.9687\n",
            "Epoch 4/30\n",
            "11/11 [==============================] - 0s 8ms/step - loss: 0.2228 - val_loss: 1.6042\n",
            "Epoch 5/30\n",
            "11/11 [==============================] - 0s 11ms/step - loss: 0.1669 - val_loss: 1.1755\n",
            "Epoch 6/30\n",
            "11/11 [==============================] - 0s 8ms/step - loss: 0.1684 - val_loss: 1.7931\n",
            "Epoch 7/30\n",
            "11/11 [==============================] - 0s 9ms/step - loss: 0.1526 - val_loss: 1.3153\n",
            "Epoch 8/30\n",
            "11/11 [==============================] - 0s 7ms/step - loss: 0.1319 - val_loss: 1.8011\n",
            "Epoch 9/30\n",
            "11/11 [==============================] - 0s 8ms/step - loss: 0.1188 - val_loss: 2.2625\n",
            "Epoch 10/30\n",
            "11/11 [==============================] - 0s 9ms/step - loss: 0.1137 - val_loss: 2.0981\n",
            "Epoch 11/30\n",
            "11/11 [==============================] - 0s 10ms/step - loss: 0.1162 - val_loss: 2.8578\n",
            "Epoch 12/30\n",
            "11/11 [==============================] - 0s 11ms/step - loss: 0.1206 - val_loss: 2.9740\n",
            "Epoch 13/30\n",
            "11/11 [==============================] - 0s 9ms/step - loss: 0.0971 - val_loss: 3.8707\n",
            "Epoch 14/30\n",
            "11/11 [==============================] - 0s 8ms/step - loss: 0.1132 - val_loss: 4.4538\n",
            "Epoch 15/30\n",
            "11/11 [==============================] - 0s 8ms/step - loss: 0.1057 - val_loss: 3.9712\n",
            "Epoch 16/30\n",
            "11/11 [==============================] - 0s 8ms/step - loss: 0.2143 - val_loss: 5.0248\n",
            "Epoch 17/30\n",
            "11/11 [==============================] - 0s 9ms/step - loss: 0.5080 - val_loss: 3.6947\n",
            "Epoch 18/30\n",
            "11/11 [==============================] - 0s 8ms/step - loss: 0.3214 - val_loss: 1.6882\n",
            "Epoch 19/30\n",
            "11/11 [==============================] - 0s 9ms/step - loss: 0.1768 - val_loss: 1.8167\n",
            "Epoch 20/30\n",
            "11/11 [==============================] - 0s 10ms/step - loss: 0.1653 - val_loss: 2.9617\n",
            "Epoch 21/30\n",
            "11/11 [==============================] - 0s 9ms/step - loss: 0.1760 - val_loss: 1.4088\n",
            "Epoch 22/30\n",
            "11/11 [==============================] - 0s 9ms/step - loss: 0.1237 - val_loss: 2.5743\n",
            "Epoch 23/30\n",
            "11/11 [==============================] - 0s 8ms/step - loss: 0.1239 - val_loss: 3.0060\n",
            "Epoch 24/30\n",
            "11/11 [==============================] - 0s 8ms/step - loss: 0.1132 - val_loss: 3.2049\n",
            "Epoch 25/30\n",
            "11/11 [==============================] - 0s 8ms/step - loss: 0.0939 - val_loss: 3.5420\n",
            "Epoch 26/30\n",
            "11/11 [==============================] - 0s 9ms/step - loss: 0.0900 - val_loss: 3.6392\n",
            "Epoch 27/30\n",
            "11/11 [==============================] - 0s 8ms/step - loss: 0.1117 - val_loss: 4.8894\n",
            "Epoch 28/30\n",
            "11/11 [==============================] - 0s 9ms/step - loss: 0.0876 - val_loss: 4.6002\n",
            "Epoch 29/30\n",
            "11/11 [==============================] - 0s 8ms/step - loss: 0.0944 - val_loss: 4.5613\n",
            "Epoch 30/30\n",
            "11/11 [==============================] - 0s 8ms/step - loss: 0.1511 - val_loss: 5.7322\n"
          ],
          "name": "stdout"
        },
        {
          "output_type": "stream",
          "text": [
            "/usr/local/lib/python3.6/dist-packages/ipykernel_launcher.py:42: SettingWithCopyWarning: \n",
            "A value is trying to be set on a copy of a slice from a DataFrame\n",
            "\n",
            "See the caveats in the documentation: https://pandas.pydata.org/pandas-docs/stable/user_guide/indexing.html#returning-a-view-versus-a-copy\n",
            "/usr/local/lib/python3.6/dist-packages/plotly/matplotlylib/mpltools.py:368: MatplotlibDeprecationWarning:\n",
            "\n",
            "\n",
            "The is_frame_like function was deprecated in Matplotlib 3.1 and will be removed in 3.3.\n",
            "\n",
            "/usr/local/lib/python3.6/dist-packages/plotly/matplotlylib/renderer.py:410: UserWarning:\n",
            "\n",
            "Bummer! Plotly can currently only draw Line2D objects from matplotlib that are in 'data' coordinates!\n",
            "\n",
            "/usr/local/lib/python3.6/dist-packages/plotly/matplotlylib/renderer.py:512: UserWarning:\n",
            "\n",
            "I found a path object that I don't think is part of a bar chart. Ignoring.\n",
            "\n"
          ],
          "name": "stderr"
        },
        {
          "output_type": "stream",
          "text": [
            "wandb: Agent Finished Run: 04f07ygp \n",
            "\n",
            "wandb: Agent Starting Run: b4e0my1z with config:\n",
            "\tbatch_size: 5\n",
            "\tlearn: 0.002\n",
            "wandb: Agent Started Run: b4e0my1z\n"
          ],
          "name": "stdout"
        },
        {
          "output_type": "display_data",
          "data": {
            "text/html": [
              "\n",
              "                Logging results to <a href=\"https://wandb.com\" target=\"_blank\">Weights & Biases</a> <a href=\"https://docs.wandb.com/integrations/jupyter.html\" target=\"_blank\">(Documentation)</a>.<br/>\n",
              "                Project page: <a href=\"https://app.wandb.ai/igodfried/covid-forecast\" target=\"_blank\">https://app.wandb.ai/igodfried/covid-forecast</a><br/>\n",
              "                Sweep page: <a href=\"https://app.wandb.ai/igodfried/covid-forecast/sweeps/wr9ke1l2\" target=\"_blank\">https://app.wandb.ai/igodfried/covid-forecast/sweeps/wr9ke1l2</a><br/>\n",
              "Run page: <a href=\"https://app.wandb.ai/igodfried/covid-forecast/runs/b4e0my1z\" target=\"_blank\">https://app.wandb.ai/igodfried/covid-forecast/runs/b4e0my1z</a><br/>\n",
              "            "
            ],
            "text/plain": [
              "<IPython.core.display.HTML object>"
            ]
          },
          "metadata": {
            "tags": []
          }
        },
        {
          "output_type": "stream",
          "text": [
            "Epoch 1/30\n",
            "WARNING:tensorflow:Layer bidirectional is casting an input tensor from dtype float64 to the layer's dtype of float32, which is new behavior in TensorFlow 2.  The layer has dtype float32 because it's dtype defaults to floatx.\n",
            "\n",
            "If you intended to run this layer in float32, you can safely ignore this warning. If in doubt, this warning is likely only an issue if you are porting a TensorFlow 1.X model to TensorFlow 2.\n",
            "\n",
            "To change all layers to have dtype float64 by default, call `tf.keras.backend.set_floatx('float64')`. To change just this layer, pass dtype='float64' to the layer constructor. If you are the author of this layer, you can disable autocasting by passing autocast=False to the base Layer constructor.\n",
            "\n",
            "11/11 [==============================] - 1s 69ms/step - loss: 0.6676 - val_loss: 7.4518\n",
            "Epoch 2/30\n",
            "11/11 [==============================] - 0s 10ms/step - loss: 0.1714 - val_loss: 1.3128\n",
            "Epoch 3/30\n",
            "11/11 [==============================] - 0s 8ms/step - loss: 0.2919 - val_loss: 3.1555\n",
            "Epoch 4/30\n",
            "11/11 [==============================] - 0s 8ms/step - loss: 0.4718 - val_loss: 3.9303\n",
            "Epoch 5/30\n",
            "11/11 [==============================] - 0s 8ms/step - loss: 0.3012 - val_loss: 2.1524\n",
            "Epoch 6/30\n",
            "11/11 [==============================] - 0s 11ms/step - loss: 0.1365 - val_loss: 1.1796\n",
            "Epoch 7/30\n",
            "11/11 [==============================] - 0s 9ms/step - loss: 0.1578 - val_loss: 1.5266\n",
            "Epoch 8/30\n",
            "11/11 [==============================] - 0s 9ms/step - loss: 0.1662 - val_loss: 1.2474\n",
            "Epoch 9/30\n",
            "11/11 [==============================] - 0s 10ms/step - loss: 0.1281 - val_loss: 1.5896\n",
            "Epoch 10/30\n",
            "11/11 [==============================] - 0s 10ms/step - loss: 0.1353 - val_loss: 1.7443\n",
            "Epoch 11/30\n",
            "11/11 [==============================] - 0s 9ms/step - loss: 0.1183 - val_loss: 1.9890\n",
            "Epoch 12/30\n",
            "11/11 [==============================] - 0s 8ms/step - loss: 0.1113 - val_loss: 2.2472\n",
            "Epoch 13/30\n",
            "11/11 [==============================] - 0s 8ms/step - loss: 0.1245 - val_loss: 2.3084\n",
            "Epoch 14/30\n",
            "11/11 [==============================] - 0s 9ms/step - loss: 0.1121 - val_loss: 2.9106\n",
            "Epoch 15/30\n",
            "11/11 [==============================] - 0s 8ms/step - loss: 0.1546 - val_loss: 1.6340\n",
            "Epoch 16/30\n",
            "11/11 [==============================] - 0s 8ms/step - loss: 0.1585 - val_loss: 3.1942\n",
            "Epoch 17/30\n",
            "11/11 [==============================] - 0s 8ms/step - loss: 0.2618 - val_loss: 1.2122\n",
            "Epoch 18/30\n",
            "11/11 [==============================] - 0s 8ms/step - loss: 0.1327 - val_loss: 1.9385\n",
            "Epoch 19/30\n",
            "11/11 [==============================] - 0s 8ms/step - loss: 0.1580 - val_loss: 2.8505\n",
            "Epoch 20/30\n",
            "11/11 [==============================] - 0s 9ms/step - loss: 0.1828 - val_loss: 1.2664\n",
            "Epoch 21/30\n",
            "11/11 [==============================] - 0s 8ms/step - loss: 0.1025 - val_loss: 2.6668\n",
            "Epoch 22/30\n",
            "11/11 [==============================] - 0s 8ms/step - loss: 0.1368 - val_loss: 2.9412\n",
            "Epoch 23/30\n",
            "11/11 [==============================] - 0s 8ms/step - loss: 0.1604 - val_loss: 1.6909\n",
            "Epoch 24/30\n",
            "11/11 [==============================] - 0s 9ms/step - loss: 0.1480 - val_loss: 3.2279\n",
            "Epoch 25/30\n",
            "11/11 [==============================] - 0s 8ms/step - loss: 0.1222 - val_loss: 2.0263\n",
            "Epoch 26/30\n",
            "11/11 [==============================] - 0s 9ms/step - loss: 0.1082 - val_loss: 3.1948\n",
            "Epoch 27/30\n",
            "11/11 [==============================] - 0s 8ms/step - loss: 0.1328 - val_loss: 2.5581\n",
            "Epoch 28/30\n",
            "11/11 [==============================] - 0s 9ms/step - loss: 0.1648 - val_loss: 4.2337\n",
            "Epoch 29/30\n",
            "11/11 [==============================] - 0s 8ms/step - loss: 0.1940 - val_loss: 1.5885\n",
            "Epoch 30/30\n",
            "11/11 [==============================] - 0s 9ms/step - loss: 0.0990 - val_loss: 3.4187\n"
          ],
          "name": "stdout"
        },
        {
          "output_type": "stream",
          "text": [
            "/usr/local/lib/python3.6/dist-packages/ipykernel_launcher.py:42: SettingWithCopyWarning: \n",
            "A value is trying to be set on a copy of a slice from a DataFrame\n",
            "\n",
            "See the caveats in the documentation: https://pandas.pydata.org/pandas-docs/stable/user_guide/indexing.html#returning-a-view-versus-a-copy\n",
            "/usr/local/lib/python3.6/dist-packages/plotly/matplotlylib/mpltools.py:368: MatplotlibDeprecationWarning:\n",
            "\n",
            "\n",
            "The is_frame_like function was deprecated in Matplotlib 3.1 and will be removed in 3.3.\n",
            "\n",
            "/usr/local/lib/python3.6/dist-packages/plotly/matplotlylib/renderer.py:410: UserWarning:\n",
            "\n",
            "Bummer! Plotly can currently only draw Line2D objects from matplotlib that are in 'data' coordinates!\n",
            "\n",
            "/usr/local/lib/python3.6/dist-packages/plotly/matplotlylib/renderer.py:512: UserWarning:\n",
            "\n",
            "I found a path object that I don't think is part of a bar chart. Ignoring.\n",
            "\n"
          ],
          "name": "stderr"
        },
        {
          "output_type": "stream",
          "text": [
            "wandb: Agent Finished Run: b4e0my1z \n",
            "\n",
            "wandb: Agent Starting Run: 4rkd9ik5 with config:\n",
            "\tbatch_size: 5\n",
            "\tlearn: 0.003\n",
            "wandb: Agent Started Run: 4rkd9ik5\n"
          ],
          "name": "stdout"
        },
        {
          "output_type": "display_data",
          "data": {
            "text/html": [
              "\n",
              "                Logging results to <a href=\"https://wandb.com\" target=\"_blank\">Weights & Biases</a> <a href=\"https://docs.wandb.com/integrations/jupyter.html\" target=\"_blank\">(Documentation)</a>.<br/>\n",
              "                Project page: <a href=\"https://app.wandb.ai/igodfried/covid-forecast\" target=\"_blank\">https://app.wandb.ai/igodfried/covid-forecast</a><br/>\n",
              "                Sweep page: <a href=\"https://app.wandb.ai/igodfried/covid-forecast/sweeps/wr9ke1l2\" target=\"_blank\">https://app.wandb.ai/igodfried/covid-forecast/sweeps/wr9ke1l2</a><br/>\n",
              "Run page: <a href=\"https://app.wandb.ai/igodfried/covid-forecast/runs/4rkd9ik5\" target=\"_blank\">https://app.wandb.ai/igodfried/covid-forecast/runs/4rkd9ik5</a><br/>\n",
              "            "
            ],
            "text/plain": [
              "<IPython.core.display.HTML object>"
            ]
          },
          "metadata": {
            "tags": []
          }
        },
        {
          "output_type": "stream",
          "text": [
            "Epoch 1/30\n",
            "WARNING:tensorflow:Layer bidirectional is casting an input tensor from dtype float64 to the layer's dtype of float32, which is new behavior in TensorFlow 2.  The layer has dtype float32 because it's dtype defaults to floatx.\n",
            "\n",
            "If you intended to run this layer in float32, you can safely ignore this warning. If in doubt, this warning is likely only an issue if you are porting a TensorFlow 1.X model to TensorFlow 2.\n",
            "\n",
            "To change all layers to have dtype float64 by default, call `tf.keras.backend.set_floatx('float64')`. To change just this layer, pass dtype='float64' to the layer constructor. If you are the author of this layer, you can disable autocasting by passing autocast=False to the base Layer constructor.\n",
            "\n",
            "11/11 [==============================] - 1s 67ms/step - loss: 0.3785 - val_loss: 1.9747\n",
            "Epoch 2/30\n",
            "11/11 [==============================] - 0s 8ms/step - loss: 0.4089 - val_loss: 3.1078\n",
            "Epoch 3/30\n",
            "11/11 [==============================] - 0s 7ms/step - loss: 0.7185 - val_loss: 8.9268\n",
            "Epoch 4/30\n",
            "11/11 [==============================] - 0s 8ms/step - loss: 0.5374 - val_loss: 6.2729\n",
            "Epoch 5/30\n",
            "11/11 [==============================] - 0s 8ms/step - loss: 0.2765 - val_loss: 2.6844\n",
            "Epoch 6/30\n",
            "11/11 [==============================] - 0s 11ms/step - loss: 0.2076 - val_loss: 1.1388\n",
            "Epoch 7/30\n",
            "11/11 [==============================] - 0s 11ms/step - loss: 0.1449 - val_loss: 1.1369\n",
            "Epoch 8/30\n",
            "11/11 [==============================] - 0s 8ms/step - loss: 0.1673 - val_loss: 1.4954\n",
            "Epoch 9/30\n",
            "11/11 [==============================] - 0s 7ms/step - loss: 0.1578 - val_loss: 1.3020\n",
            "Epoch 10/30\n",
            "11/11 [==============================] - 0s 9ms/step - loss: 0.1976 - val_loss: 2.2450\n",
            "Epoch 11/30\n",
            "11/11 [==============================] - 0s 10ms/step - loss: 0.3005 - val_loss: 2.3631\n",
            "Epoch 12/30\n",
            "11/11 [==============================] - 0s 9ms/step - loss: 0.1516 - val_loss: 1.7216\n",
            "Epoch 13/30\n",
            "11/11 [==============================] - 0s 10ms/step - loss: 0.1622 - val_loss: 2.1816\n",
            "Epoch 14/30\n",
            "11/11 [==============================] - 0s 8ms/step - loss: 0.2561 - val_loss: 1.2872\n",
            "Epoch 15/30\n",
            "11/11 [==============================] - 0s 8ms/step - loss: 0.1494 - val_loss: 1.6340\n",
            "Epoch 16/30\n",
            "11/11 [==============================] - 0s 8ms/step - loss: 0.1419 - val_loss: 1.2952\n",
            "Epoch 17/30\n",
            "11/11 [==============================] - 0s 9ms/step - loss: 0.0980 - val_loss: 1.6157\n",
            "Epoch 18/30\n",
            "11/11 [==============================] - 0s 8ms/step - loss: 0.1200 - val_loss: 1.8127\n",
            "Epoch 19/30\n",
            "11/11 [==============================] - 0s 8ms/step - loss: 0.1443 - val_loss: 2.0675\n",
            "Epoch 20/30\n",
            "11/11 [==============================] - 0s 8ms/step - loss: 0.1268 - val_loss: 2.1416\n",
            "Epoch 21/30\n",
            "11/11 [==============================] - 0s 8ms/step - loss: 0.2190 - val_loss: 3.0036\n",
            "Epoch 22/30\n",
            "11/11 [==============================] - 0s 8ms/step - loss: 0.4543 - val_loss: 3.6153\n",
            "Epoch 23/30\n",
            "11/11 [==============================] - 0s 9ms/step - loss: 0.2634 - val_loss: 1.8260\n",
            "Epoch 24/30\n",
            "11/11 [==============================] - 0s 8ms/step - loss: 0.1396 - val_loss: 1.1799\n",
            "Epoch 25/30\n",
            "11/11 [==============================] - 0s 8ms/step - loss: 0.1320 - val_loss: 1.3098\n",
            "Epoch 26/30\n",
            "11/11 [==============================] - 0s 8ms/step - loss: 0.1170 - val_loss: 1.3311\n",
            "Epoch 27/30\n",
            "11/11 [==============================] - 0s 9ms/step - loss: 0.1350 - val_loss: 1.8521\n",
            "Epoch 28/30\n",
            "11/11 [==============================] - 0s 10ms/step - loss: 0.1578 - val_loss: 1.1271\n",
            "Epoch 29/30\n",
            "11/11 [==============================] - 0s 9ms/step - loss: 0.1303 - val_loss: 1.8871\n",
            "Epoch 30/30\n",
            "11/11 [==============================] - 0s 9ms/step - loss: 0.1310 - val_loss: 1.6704\n"
          ],
          "name": "stdout"
        },
        {
          "output_type": "stream",
          "text": [
            "/usr/local/lib/python3.6/dist-packages/ipykernel_launcher.py:42: SettingWithCopyWarning: \n",
            "A value is trying to be set on a copy of a slice from a DataFrame\n",
            "\n",
            "See the caveats in the documentation: https://pandas.pydata.org/pandas-docs/stable/user_guide/indexing.html#returning-a-view-versus-a-copy\n",
            "/usr/local/lib/python3.6/dist-packages/plotly/matplotlylib/mpltools.py:368: MatplotlibDeprecationWarning:\n",
            "\n",
            "\n",
            "The is_frame_like function was deprecated in Matplotlib 3.1 and will be removed in 3.3.\n",
            "\n",
            "/usr/local/lib/python3.6/dist-packages/plotly/matplotlylib/renderer.py:410: UserWarning:\n",
            "\n",
            "Bummer! Plotly can currently only draw Line2D objects from matplotlib that are in 'data' coordinates!\n",
            "\n",
            "/usr/local/lib/python3.6/dist-packages/plotly/matplotlylib/renderer.py:512: UserWarning:\n",
            "\n",
            "I found a path object that I don't think is part of a bar chart. Ignoring.\n",
            "\n"
          ],
          "name": "stderr"
        },
        {
          "output_type": "stream",
          "text": [
            "wandb: Agent Finished Run: 4rkd9ik5 \n",
            "\n",
            "wandb: Agent Starting Run: ylcey6hh with config:\n",
            "\tbatch_size: 5\n",
            "\tlearn: 0.004\n",
            "wandb: Agent Started Run: ylcey6hh\n"
          ],
          "name": "stdout"
        },
        {
          "output_type": "display_data",
          "data": {
            "text/html": [
              "\n",
              "                Logging results to <a href=\"https://wandb.com\" target=\"_blank\">Weights & Biases</a> <a href=\"https://docs.wandb.com/integrations/jupyter.html\" target=\"_blank\">(Documentation)</a>.<br/>\n",
              "                Project page: <a href=\"https://app.wandb.ai/igodfried/covid-forecast\" target=\"_blank\">https://app.wandb.ai/igodfried/covid-forecast</a><br/>\n",
              "                Sweep page: <a href=\"https://app.wandb.ai/igodfried/covid-forecast/sweeps/wr9ke1l2\" target=\"_blank\">https://app.wandb.ai/igodfried/covid-forecast/sweeps/wr9ke1l2</a><br/>\n",
              "Run page: <a href=\"https://app.wandb.ai/igodfried/covid-forecast/runs/ylcey6hh\" target=\"_blank\">https://app.wandb.ai/igodfried/covid-forecast/runs/ylcey6hh</a><br/>\n",
              "            "
            ],
            "text/plain": [
              "<IPython.core.display.HTML object>"
            ]
          },
          "metadata": {
            "tags": []
          }
        },
        {
          "output_type": "stream",
          "text": [
            "Epoch 1/30\n",
            "WARNING:tensorflow:Layer bidirectional is casting an input tensor from dtype float64 to the layer's dtype of float32, which is new behavior in TensorFlow 2.  The layer has dtype float32 because it's dtype defaults to floatx.\n",
            "\n",
            "If you intended to run this layer in float32, you can safely ignore this warning. If in doubt, this warning is likely only an issue if you are porting a TensorFlow 1.X model to TensorFlow 2.\n",
            "\n",
            "To change all layers to have dtype float64 by default, call `tf.keras.backend.set_floatx('float64')`. To change just this layer, pass dtype='float64' to the layer constructor. If you are the author of this layer, you can disable autocasting by passing autocast=False to the base Layer constructor.\n",
            "\n",
            "11/11 [==============================] - 1s 65ms/step - loss: 0.3361 - val_loss: 1.3225\n",
            "Epoch 2/30\n",
            "11/11 [==============================] - 0s 9ms/step - loss: 0.3535 - val_loss: 2.1306\n",
            "Epoch 3/30\n",
            "11/11 [==============================] - 0s 9ms/step - loss: 1.0301 - val_loss: 16.0047\n",
            "Epoch 4/30\n",
            "11/11 [==============================] - 0s 9ms/step - loss: 0.5704 - val_loss: 6.8321\n",
            "Epoch 5/30\n",
            "11/11 [==============================] - 0s 11ms/step - loss: 0.2138 - val_loss: 1.2487\n",
            "Epoch 6/30\n",
            "11/11 [==============================] - 0s 8ms/step - loss: 0.2707 - val_loss: 1.9733\n",
            "Epoch 7/30\n",
            "11/11 [==============================] - 0s 9ms/step - loss: 0.6265 - val_loss: 5.3584\n",
            "Epoch 8/30\n",
            "11/11 [==============================] - 0s 8ms/step - loss: 0.3100 - val_loss: 3.1095\n",
            "Epoch 9/30\n",
            "11/11 [==============================] - 0s 10ms/step - loss: 0.1704 - val_loss: 1.1494\n",
            "Epoch 10/30\n",
            "11/11 [==============================] - 0s 10ms/step - loss: 0.1887 - val_loss: 1.3607\n",
            "Epoch 11/30\n",
            "11/11 [==============================] - 0s 10ms/step - loss: 0.2357 - val_loss: 1.8652\n",
            "Epoch 12/30\n",
            "11/11 [==============================] - 0s 10ms/step - loss: 0.1196 - val_loss: 1.9732\n",
            "Epoch 13/30\n",
            "11/11 [==============================] - 0s 8ms/step - loss: 0.1727 - val_loss: 1.1567\n",
            "Epoch 14/30\n",
            "11/11 [==============================] - 0s 8ms/step - loss: 0.1744 - val_loss: 1.7997\n",
            "Epoch 15/30\n",
            "11/11 [==============================] - 0s 9ms/step - loss: 0.1857 - val_loss: 1.3393\n",
            "Epoch 16/30\n",
            "11/11 [==============================] - 0s 8ms/step - loss: 0.1248 - val_loss: 2.4004\n",
            "Epoch 17/30\n",
            "11/11 [==============================] - 0s 8ms/step - loss: 0.1851 - val_loss: 1.2193\n",
            "Epoch 18/30\n",
            "11/11 [==============================] - 0s 8ms/step - loss: 0.1431 - val_loss: 2.2595\n",
            "Epoch 19/30\n",
            "11/11 [==============================] - 0s 8ms/step - loss: 0.2648 - val_loss: 1.7512\n",
            "Epoch 20/30\n",
            "11/11 [==============================] - 0s 11ms/step - loss: 0.1298 - val_loss: 1.1162\n",
            "Epoch 21/30\n",
            "11/11 [==============================] - 0s 9ms/step - loss: 0.1867 - val_loss: 1.4770\n",
            "Epoch 22/30\n",
            "11/11 [==============================] - 0s 8ms/step - loss: 0.3380 - val_loss: 1.8882\n",
            "Epoch 23/30\n",
            "11/11 [==============================] - 0s 10ms/step - loss: 0.1205 - val_loss: 1.1071\n",
            "Epoch 24/30\n",
            "11/11 [==============================] - 0s 9ms/step - loss: 0.1881 - val_loss: 1.8589\n",
            "Epoch 25/30\n",
            "11/11 [==============================] - 0s 8ms/step - loss: 0.1867 - val_loss: 1.1089\n",
            "Epoch 26/30\n",
            "11/11 [==============================] - 0s 8ms/step - loss: 0.1139 - val_loss: 1.6465\n",
            "Epoch 27/30\n",
            "11/11 [==============================] - 0s 9ms/step - loss: 0.1051 - val_loss: 1.2637\n",
            "Epoch 28/30\n",
            "11/11 [==============================] - 0s 8ms/step - loss: 0.1095 - val_loss: 1.3133\n",
            "Epoch 29/30\n",
            "11/11 [==============================] - 0s 9ms/step - loss: 0.1970 - val_loss: 3.3464\n",
            "Epoch 30/30\n",
            "11/11 [==============================] - 0s 9ms/step - loss: 0.3868 - val_loss: 4.8122\n"
          ],
          "name": "stdout"
        },
        {
          "output_type": "stream",
          "text": [
            "/usr/local/lib/python3.6/dist-packages/ipykernel_launcher.py:42: SettingWithCopyWarning: \n",
            "A value is trying to be set on a copy of a slice from a DataFrame\n",
            "\n",
            "See the caveats in the documentation: https://pandas.pydata.org/pandas-docs/stable/user_guide/indexing.html#returning-a-view-versus-a-copy\n",
            "/usr/local/lib/python3.6/dist-packages/plotly/matplotlylib/mpltools.py:368: MatplotlibDeprecationWarning:\n",
            "\n",
            "\n",
            "The is_frame_like function was deprecated in Matplotlib 3.1 and will be removed in 3.3.\n",
            "\n",
            "/usr/local/lib/python3.6/dist-packages/plotly/matplotlylib/renderer.py:410: UserWarning:\n",
            "\n",
            "Bummer! Plotly can currently only draw Line2D objects from matplotlib that are in 'data' coordinates!\n",
            "\n",
            "/usr/local/lib/python3.6/dist-packages/plotly/matplotlylib/renderer.py:512: UserWarning:\n",
            "\n",
            "I found a path object that I don't think is part of a bar chart. Ignoring.\n",
            "\n"
          ],
          "name": "stderr"
        },
        {
          "output_type": "stream",
          "text": [
            "wandb: Agent Finished Run: ylcey6hh \n",
            "\n",
            "wandb: Agent Starting Run: bxoqxfl8 with config:\n",
            "\tbatch_size: 5\n",
            "\tlearn: 0.01\n",
            "wandb: Agent Started Run: bxoqxfl8\n"
          ],
          "name": "stdout"
        },
        {
          "output_type": "display_data",
          "data": {
            "text/html": [
              "\n",
              "                Logging results to <a href=\"https://wandb.com\" target=\"_blank\">Weights & Biases</a> <a href=\"https://docs.wandb.com/integrations/jupyter.html\" target=\"_blank\">(Documentation)</a>.<br/>\n",
              "                Project page: <a href=\"https://app.wandb.ai/igodfried/covid-forecast\" target=\"_blank\">https://app.wandb.ai/igodfried/covid-forecast</a><br/>\n",
              "                Sweep page: <a href=\"https://app.wandb.ai/igodfried/covid-forecast/sweeps/wr9ke1l2\" target=\"_blank\">https://app.wandb.ai/igodfried/covid-forecast/sweeps/wr9ke1l2</a><br/>\n",
              "Run page: <a href=\"https://app.wandb.ai/igodfried/covid-forecast/runs/bxoqxfl8\" target=\"_blank\">https://app.wandb.ai/igodfried/covid-forecast/runs/bxoqxfl8</a><br/>\n",
              "            "
            ],
            "text/plain": [
              "<IPython.core.display.HTML object>"
            ]
          },
          "metadata": {
            "tags": []
          }
        },
        {
          "output_type": "stream",
          "text": [
            "Epoch 1/30\n",
            "WARNING:tensorflow:Layer bidirectional is casting an input tensor from dtype float64 to the layer's dtype of float32, which is new behavior in TensorFlow 2.  The layer has dtype float32 because it's dtype defaults to floatx.\n",
            "\n",
            "If you intended to run this layer in float32, you can safely ignore this warning. If in doubt, this warning is likely only an issue if you are porting a TensorFlow 1.X model to TensorFlow 2.\n",
            "\n",
            "To change all layers to have dtype float64 by default, call `tf.keras.backend.set_floatx('float64')`. To change just this layer, pass dtype='float64' to the layer constructor. If you are the author of this layer, you can disable autocasting by passing autocast=False to the base Layer constructor.\n",
            "\n",
            "11/11 [==============================] - 1s 66ms/step - loss: 0.2129 - val_loss: 2.1111\n",
            "Epoch 2/30\n",
            "11/11 [==============================] - 0s 10ms/step - loss: 0.5392 - val_loss: 2.2634\n",
            "Epoch 3/30\n",
            "11/11 [==============================] - 0s 10ms/step - loss: 1.1196 - val_loss: 1.4064\n",
            "Epoch 4/30\n",
            "11/11 [==============================] - 0s 9ms/step - loss: 0.7789 - val_loss: 11.6041\n",
            "Epoch 5/30\n",
            "11/11 [==============================] - 0s 8ms/step - loss: 0.3985 - val_loss: 1.9234\n",
            "Epoch 6/30\n",
            "11/11 [==============================] - 0s 7ms/step - loss: 0.9716 - val_loss: 4.4841\n",
            "Epoch 7/30\n",
            "11/11 [==============================] - 0s 7ms/step - loss: 0.3247 - val_loss: 1.6685\n",
            "Epoch 8/30\n",
            "11/11 [==============================] - 0s 8ms/step - loss: 0.5282 - val_loss: 2.4927\n",
            "Epoch 9/30\n",
            "11/11 [==============================] - 0s 12ms/step - loss: 0.4430 - val_loss: 1.2346\n",
            "Epoch 10/30\n",
            "11/11 [==============================] - 0s 8ms/step - loss: 0.6177 - val_loss: 7.2011\n",
            "Epoch 11/30\n",
            "11/11 [==============================] - 0s 10ms/step - loss: 0.3147 - val_loss: 2.1609\n",
            "Epoch 12/30\n",
            "11/11 [==============================] - 0s 13ms/step - loss: 0.1975 - val_loss: 1.2088\n",
            "Epoch 13/30\n",
            "11/11 [==============================] - 0s 11ms/step - loss: 0.2742 - val_loss: 1.1961\n",
            "Epoch 14/30\n",
            "11/11 [==============================] - 0s 12ms/step - loss: 0.3427 - val_loss: 1.0607\n",
            "Epoch 15/30\n",
            "11/11 [==============================] - 0s 9ms/step - loss: 0.4858 - val_loss: 4.7283\n",
            "Epoch 16/30\n",
            "11/11 [==============================] - 0s 9ms/step - loss: 0.2680 - val_loss: 2.7643\n",
            "Epoch 17/30\n",
            "11/11 [==============================] - 0s 8ms/step - loss: 0.1948 - val_loss: 1.3055\n",
            "Epoch 18/30\n",
            "11/11 [==============================] - 0s 8ms/step - loss: 0.1551 - val_loss: 1.1652\n",
            "Epoch 19/30\n",
            "11/11 [==============================] - 0s 8ms/step - loss: 0.1321 - val_loss: 1.1878\n",
            "Epoch 20/30\n",
            "11/11 [==============================] - 0s 10ms/step - loss: 0.1283 - val_loss: 1.5523\n",
            "Epoch 21/30\n",
            "11/11 [==============================] - 0s 8ms/step - loss: 0.1099 - val_loss: 1.4711\n",
            "Epoch 22/30\n",
            "11/11 [==============================] - 0s 8ms/step - loss: 0.1838 - val_loss: 1.3352\n",
            "Epoch 23/30\n",
            "11/11 [==============================] - 0s 8ms/step - loss: 0.4007 - val_loss: 2.8147\n",
            "Epoch 24/30\n",
            "11/11 [==============================] - 0s 8ms/step - loss: 0.1730 - val_loss: 1.3742\n",
            "Epoch 25/30\n",
            "11/11 [==============================] - 0s 8ms/step - loss: 0.1217 - val_loss: 1.1377\n",
            "Epoch 26/30\n",
            "11/11 [==============================] - 0s 8ms/step - loss: 0.1630 - val_loss: 1.0662\n",
            "Epoch 27/30\n",
            "11/11 [==============================] - 0s 11ms/step - loss: 0.1291 - val_loss: 1.0472\n",
            "Epoch 28/30\n",
            "11/11 [==============================] - 0s 11ms/step - loss: 0.1389 - val_loss: 0.9865\n",
            "Epoch 29/30\n",
            "11/11 [==============================] - 0s 12ms/step - loss: 0.1092 - val_loss: 0.8874\n",
            "Epoch 30/30\n",
            "11/11 [==============================] - 0s 9ms/step - loss: 0.1036 - val_loss: 0.9470\n"
          ],
          "name": "stdout"
        },
        {
          "output_type": "stream",
          "text": [
            "/usr/local/lib/python3.6/dist-packages/ipykernel_launcher.py:42: SettingWithCopyWarning: \n",
            "A value is trying to be set on a copy of a slice from a DataFrame\n",
            "\n",
            "See the caveats in the documentation: https://pandas.pydata.org/pandas-docs/stable/user_guide/indexing.html#returning-a-view-versus-a-copy\n",
            "/usr/local/lib/python3.6/dist-packages/plotly/matplotlylib/mpltools.py:368: MatplotlibDeprecationWarning:\n",
            "\n",
            "\n",
            "The is_frame_like function was deprecated in Matplotlib 3.1 and will be removed in 3.3.\n",
            "\n",
            "/usr/local/lib/python3.6/dist-packages/plotly/matplotlylib/renderer.py:410: UserWarning:\n",
            "\n",
            "Bummer! Plotly can currently only draw Line2D objects from matplotlib that are in 'data' coordinates!\n",
            "\n",
            "/usr/local/lib/python3.6/dist-packages/plotly/matplotlylib/renderer.py:512: UserWarning:\n",
            "\n",
            "I found a path object that I don't think is part of a bar chart. Ignoring.\n",
            "\n"
          ],
          "name": "stderr"
        },
        {
          "output_type": "stream",
          "text": [
            "wandb: Agent Finished Run: bxoqxfl8 \n",
            "\n"
          ],
          "name": "stdout"
        }
      ]
    },
    {
      "cell_type": "code",
      "metadata": {
        "id": "tR_vweL-bOD1",
        "colab_type": "code",
        "outputId": "f6d40e8b-d959-48ff-85d9-d828cd00779b",
        "colab": {
          "base_uri": "https://localhost:8080/",
          "height": 286
        }
      },
      "source": [
        "import matplotlib.pyplot as plt\n",
        "%matplotlib inline\n",
        "%config InlineBackend.figure_format='retina'\n",
        "plt.plot(history.history['loss'], label='train')\n",
        "plt.plot(history.history['val_loss'], label='test')\n",
        "plt.legend();"
      ],
      "execution_count": 0,
      "outputs": [
        {
          "output_type": "display_data",
          "data": {
            "image/png": "[encoded data removed]",
            "text/plain": [
              "<Figure size 432x288 with 1 Axes>"
            ]
          },
          "metadata": {
            "tags": [],
            "image/png": {
              "width": 370,
              "height": 248
            },
            "needs_background": "light"
          }
        }
      ]
    },
    {
      "cell_type": "markdown",
      "metadata": {
        "id": "zPaMFelHjm-m",
        "colab_type": "text"
      },
      "source": [
        "### Examining Results\n",
        "We will now predict both one step ahead and 20 steps ahead."
      ]
    },
    {
      "cell_type": "code",
      "metadata": {
        "id": "F5zjK1JYf52W",
        "colab_type": "code",
        "outputId": "00fa37da-16a3-428d-bb6c-e6f10371bb94",
        "colab": {
          "base_uri": "https://localhost:8080/",
          "height": 319
        }
      },
      "source": [
        "res = model.predict(X_test)\n",
        "res = r_test.inverse_transform(res)\n",
        "res"
      ],
      "execution_count": 0,
      "outputs": [
        {
          "output_type": "execute_result",
          "data": {
            "text/plain": [
              "array([[-2.1279370e-02,  2.0092883e+03],\n",
              "       [-1.8879963e-02,  2.2472920e+03],\n",
              "       [-1.6375745e-02,  2.5275439e+03],\n",
              "       [-1.3892809e-02,  2.8506108e+03],\n",
              "       [-1.1596879e-02,  3.1829221e+03],\n",
              "       [-9.0861954e-03,  3.5029392e+03],\n",
              "       [-6.4477865e-03,  3.7825161e+03],\n",
              "       [-3.6051013e-03,  4.0421055e+03],\n",
              "       [-1.2287628e-03,  4.2927124e+03],\n",
              "       [ 3.3153594e-04,  4.5448154e+03],\n",
              "       [ 1.1798348e-03,  4.7915127e+03],\n",
              "       [ 2.0689592e-03,  5.0360225e+03],\n",
              "       [ 3.3188127e-03,  5.2662153e+03],\n",
              "       [ 5.0343592e-03,  5.5053794e+03],\n",
              "       [ 6.5031778e-03,  5.7533242e+03],\n",
              "       [ 7.2021466e-03,  5.9751943e+03],\n",
              "       [ 7.6369299e-03,  6.1531494e+03]], dtype=float32)"
            ]
          },
          "metadata": {
            "tags": []
          },
          "execution_count": 30
        }
      ]
    },
    {
      "cell_type": "code",
      "metadata": {
        "id": "Z_9dG21n1bJC",
        "colab_type": "code",
        "outputId": "aee9ba88-9e6e-4ec8-ad2c-a114d299538a",
        "colab": {
          "base_uri": "https://localhost:8080/",
          "height": 319
        }
      },
      "source": [
        "y_true = r_test.inverse_transform(y_test)\n",
        "y_true"
      ],
      "execution_count": 0,
      "outputs": [
        {
          "output_type": "execute_result",
          "data": {
            "text/plain": [
              "array([[   0., 3521.],\n",
              "       [   0., 3822.],\n",
              "       [   0., 4086.],\n",
              "       [   0., 4179.],\n",
              "       [   0., 4265.],\n",
              "       [   0., 4330.],\n",
              "       [   0., 4470.],\n",
              "       [   0., 4645.],\n",
              "       [   0., 4855.],\n",
              "       [   0., 4965.],\n",
              "       [   0., 5028.],\n",
              "       [   0., 5079.],\n",
              "       [   0., 5241.],\n",
              "       [   0., 5415.],\n",
              "       [   0., 5449.],\n",
              "       [   0., 5449.],\n",
              "       [   0., 5449.]])"
            ]
          },
          "metadata": {
            "tags": []
          },
          "execution_count": 31
        }
      ]
    },
    {
      "cell_type": "markdown",
      "metadata": {
        "id": "bkob-4bnYdeT",
        "colab_type": "text"
      },
      "source": [
        "### PyTorch models\n"
      ]
    },
    {
      "cell_type": "code",
      "metadata": {
        "id": "aGXjVazoJ9i3",
        "colab_type": "code",
        "colab": {}
      },
      "source": [
        "import torch\n",
        "import math\n",
        "from torch.nn.modules import Transformer, TransformerEncoder, TransformerDecoder, TransformerDecoderLayer, TransformerEncoderLayer, LayerNorm\n",
        "class CustomTransformerDecoder(torch.nn.Module):\n",
        "    def __init__(self, seq_length, output_seq_length, n_time_series, d_model=128, output_dim=1):\n",
        "        super().__init__()\n",
        "        self.dense_shape = torch.nn.Linear(n_time_series, d_model)\n",
        "        self.pe = SimplePositionalEncoding(d_model)\n",
        "        encoder_layer = TransformerEncoderLayer(d_model, 8)\n",
        "        encoder_norm = LayerNorm(d_model)\n",
        "        self.transformer_enc = TransformerEncoder(encoder_layer, 6, encoder_norm)\n",
        "        self.output_dim_layer = torch.nn.Linear(d_model, output_dim)\n",
        "        self.output_seq_length = output_seq_length\n",
        "        self.out_length_lay  = torch.nn.Linear(seq_length, output_seq_length)\n",
        "        self.mask = generate_square_subsequent_mask(seq_length)\n",
        "    def forward(self, x):\n",
        "        \"\"\"\"\"\"\n",
        "        x = self.dense_shape(x)\n",
        "        x = self.pe(x)\n",
        "        x = x.permute(1,0,2)\n",
        "        x = self.transformer_enc(x, mask=self.mask)\n",
        "        x = self.output_dim_layer(x)\n",
        "        x = x.permute(1, 2, 0)\n",
        "        x = self.out_length_lay(x)\n",
        "        return x.view(-1, self.output_seq_length)\n",
        "    \n",
        "class SimplePositionalEncoding(torch.nn.Module):\n",
        "    def __init__(self, d_model, dropout=0.1, max_len=5000):\n",
        "        super(SimplePositionalEncoding, self).__init__()\n",
        "        self.dropout = torch.nn.Dropout(p=dropout)\n",
        "        pe = torch.zeros(max_len, d_model)\n",
        "        position = torch.arange(0, max_len, dtype=torch.float).unsqueeze(1)\n",
        "        div_term = torch.exp(torch.arange(0, d_model, 2).float() * (-math.log(10000.0) / d_model))\n",
        "        pe[:, 0::2] = torch.sin(position * div_term)\n",
        "        pe[:, 1::2] = torch.cos(position * div_term)\n",
        "        pe = pe.unsqueeze(0).transpose(0, 1)\n",
        "        self.register_buffer('pe', pe)\n",
        "\n",
        "    def forward(self, x:torch.Tensor)->torch.Tensor:\n",
        "        \"\"\"Creates a basic positional encoding\"\"\"\n",
        "        x = x + self.pe[:x.size(0), :]\n",
        "        return self.dropout(x)\n",
        "        \n",
        "def generate_square_subsequent_mask(sz:int)->torch.Tensor:\n",
        "        r\"\"\"Generate a square mask for the sequence. The masked positions are filled with float('-inf').\n",
        "            Unmasked positions are filled with float(0.0).\n",
        "        \"\"\"\n",
        "        mask = (torch.triu(torch.ones(sz, sz)) == 1).transpose(0, 1)\n",
        "        mask = mask.float().masked_fill(mask == 0, float('-inf')).masked_fill(mask == 1, float(0.0))\n",
        "        return mask"
      ],
      "execution_count": 0,
      "outputs": []
    },
    {
      "cell_type": "code",
      "metadata": {
        "id": "RK-U7-QhfP5b",
        "colab_type": "code",
        "colab": {}
      },
      "source": [
        "c = CustomTransformerDecoder(50, 1, 3)"
      ],
      "execution_count": 0,
      "outputs": []
    },
    {
      "cell_type": "code",
      "metadata": {
        "id": "VtZbZ55tfe0i",
        "colab_type": "code",
        "outputId": "8e42b01b-303a-4fbf-f55e-217198c364e0",
        "colab": {
          "base_uri": "https://localhost:8080/",
          "height": 71
        }
      },
      "source": [
        "c(torch.rand(2, 50, 3))"
      ],
      "execution_count": 0,
      "outputs": [
        {
          "output_type": "execute_result",
          "data": {
            "text/plain": [
              "tensor([[-0.2974],\n",
              "        [-0.2575]], grad_fn=<ViewBackward>)"
            ]
          },
          "metadata": {
            "tags": []
          },
          "execution_count": 39
        }
      ]
    },
    {
      "cell_type": "code",
      "metadata": {
        "id": "7mFCWLbkktra",
        "colab_type": "code",
        "colab": {}
      },
      "source": [
        "import torch\n",
        "\n",
        "class LSTMForecast(torch.nn.Module):\n",
        "    \"\"\"\n",
        "    A very simple baseline LSTM model that returns\n",
        "    an output sequence given a multi-dimensional input seq. Inspired by the StackOverflow link below.\n",
        "    https://stackoverflow.com/questions/56858924/multivariate-input-lstm-in-pytorch\n",
        "    \"\"\"\n",
        "    def __init__(self, seq_length: int, n_time_series: int, output_seq_len=1, hidden_states:int=20, num_layers=2, bias=True, batch_size=100):\n",
        "        super().__init__()\n",
        "        self.forecast_history = seq_length\n",
        "        self.n_time_series = n_time_series\n",
        "        self.hidden_dim = hidden_states\n",
        "        self.num_layers = num_layers\n",
        "        self.lstm = torch.nn.LSTM(n_time_series, hidden_states, num_layers, bias, batch_first=True)\n",
        "        self.final_layer = torch.nn.Linear(seq_length*hidden_states, output_seq_len)\n",
        "        self.init_hidden(batch_size)\n",
        "    \n",
        "    def init_hidden(self, batch_size)->None:\n",
        "        # This is what we'll initialise our hidden state\n",
        "        self.hidden = (torch.zeros(self.num_layers, batch_size, self.hidden_dim), torch.zeros(self.num_layers, batch_size, self.hidden_dim))\n",
        "\n",
        "    def forward(self, x: torch.Tensor) -> torch.Tensor:\n",
        "        batch_size = x.size()[0]\n",
        "        self.init_hidden(batch_size)\n",
        "        out_x, self.hidden = self.lstm(x, self.hidden)\n",
        "        x = self.final_layer(out_x.contiguous().view(batch_size, -1))\n",
        "        return x"
      ],
      "execution_count": 0,
      "outputs": []
    },
    {
      "cell_type": "code",
      "metadata": {
        "id": "SjJ7nHlh8XM5",
        "colab_type": "code",
        "colab": {}
      },
      "source": [
        "m =LSTMForecast(20, 3, 1)\n",
        "y_pred = m(torch.rand(1, 20, 3))\n"
      ],
      "execution_count": 0,
      "outputs": []
    },
    {
      "cell_type": "code",
      "metadata": {
        "id": "m4h4nIWQ8wKV",
        "colab_type": "code",
        "outputId": "84a35acb-39c1-4907-b2a3-5212248b38db",
        "colab": {
          "base_uri": "https://localhost:8080/",
          "height": 71
        }
      },
      "source": [
        "optimiser = torch.optim.Adam(m.parameters(), lr=.1)\n",
        "loss_fn = torch.nn.MSELoss()\n",
        "#####################\n",
        "# Train model\n",
        "#####################\n",
        "loss = loss_fn(y_pred, torch.rand(3,1))\n",
        "hist = loss.item()\n",
        "optimiser.zero_grad()\n",
        "loss.backward()\n",
        "optimiser.step()"
      ],
      "execution_count": 0,
      "outputs": [
        {
          "output_type": "stream",
          "text": [
            "/usr/local/lib/python3.6/dist-packages/torch/nn/modules/loss.py:431: UserWarning: Using a target size (torch.Size([3, 1])) that is different to the input size (torch.Size([1, 1])). This will likely lead to incorrect results due to broadcasting. Please ensure they have the same size.\n",
            "  return F.mse_loss(input, target, reduction=self.reduction)\n"
          ],
          "name": "stderr"
        }
      ]
    },
    {
      "cell_type": "code",
      "metadata": {
        "id": "oOSSH6T49Ia5",
        "colab_type": "code",
        "colab": {}
      },
      "source": [
        ""
      ],
      "execution_count": 0,
      "outputs": []
    }
  ]
}