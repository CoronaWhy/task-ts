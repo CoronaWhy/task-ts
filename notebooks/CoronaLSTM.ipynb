{
  "nbformat": 4,
  "nbformat_minor": 0,
  "metadata": {
    "colab": {
      "name": "CoronaBasic.ipynb",
      "provenance": [],
      "collapsed_sections": []
    },
    "kernelspec": {
      "name": "python3",
      "display_name": "Python 3"
    }
  },
  "cells": [
    {
      "cell_type": "markdown",
      "metadata": {
        "id": "htDHburyBuEe",
        "colab_type": "text"
      },
      "source": [
        "# Preliminary Analysis of CoronaVirus Time Series Data\n",
        "In this notebook we will conduct some preliminary analysis and forecasting on the Coronavirus time seires data. For this analysis we will look at forecasting using the data scraper.\n",
        "\n",
        "**Warning this is a basic analysis/machine learning model. The goal of this notebook is to gage the utility of data augmentation/transfer learning for virus forecasting. NOT provide actionable insights. It would additional rounds of training/validation + verification by epidemiologists and public health experts before I would be confident relying on using it for any actionable insights**"
      ]
    },
    {
      "cell_type": "code",
      "metadata": {
        "id": "CA1NxnWmHOAQ",
        "colab_type": "code",
        "outputId": "660af867-2d02-4a00-aa96-4e8461c4f045",
        "colab": {
          "base_uri": "https://localhost:8080/",
          "height": 1000
        }
      },
      "source": [
        "#!git clone https://github.com/CoronaWhy/task-geo.git\n",
        "#!os.chdir('task-geo')\n",
        "import pandas as pd\n",
        "!wget -O coronavirus_timeseries.csv https://coronadatascraper.com/timeseries.csv\n",
        "!pip install wandb\n",
        "!wandb login\n",
        "import wandb\n",
        "from tensorflow import keras\n",
        "from wandb.keras import WandbCallback "
      ],
      "execution_count": 1,
      "outputs": [
        {
          "output_type": "stream",
          "text": [
            "--2020-05-04 01:42:51--  https://coronadatascraper.com/timeseries.csv\n",
            "Resolving coronadatascraper.com (coronadatascraper.com)... 185.199.110.153, 185.199.108.153, 185.199.111.153\n",
            "Connecting to coronadatascraper.com (coronadatascraper.com)|185.199.110.153|:443... connected.\n",
            "HTTP request sent, awaiting response... 200 OK\n",
            "Length: 41874411 (40M) [text/csv]\n",
            "Saving to: ‘coronavirus_timeseries.csv’\n",
            "\n",
            "coronavirus_timeser 100%[===================>]  39.93M  73.4MB/s    in 0.5s    \n",
            "\n",
            "2020-05-04 01:42:52 (73.4 MB/s) - ‘coronavirus_timeseries.csv’ saved [41874411/41874411]\n",
            "\n",
            "Collecting wandb\n",
            "\u001b[?25l  Downloading https://files.pythonhosted.org/packages/2d/c9/ebbcefa6ef2ba14a7c62a4ee4415a5fecef8fac5e4d1b4e22af26fd9fe22/wandb-0.8.35-py2.py3-none-any.whl (1.4MB)\n",
            "\u001b[K     |████████████████████████████████| 1.4MB 4.9MB/s \n",
            "\u001b[?25hRequirement already satisfied: python-dateutil>=2.6.1 in /usr/local/lib/python3.6/dist-packages (from wandb) (2.8.1)\n",
            "Requirement already satisfied: requests>=2.0.0 in /usr/local/lib/python3.6/dist-packages (from wandb) (2.23.0)\n",
            "Collecting gql==0.2.0\n",
            "  Downloading https://files.pythonhosted.org/packages/c4/6f/cf9a3056045518f06184e804bae89390eb706168349daa9dff8ac609962a/gql-0.2.0.tar.gz\n",
            "Collecting shortuuid>=0.5.0\n",
            "  Downloading https://files.pythonhosted.org/packages/25/a6/2ecc1daa6a304e7f1b216f0896b26156b78e7c38e1211e9b798b4716c53d/shortuuid-1.0.1-py3-none-any.whl\n",
            "Collecting configparser>=3.8.1\n",
            "  Downloading https://files.pythonhosted.org/packages/4b/6b/01baa293090240cf0562cc5eccb69c6f5006282127f2b846fad011305c79/configparser-5.0.0-py3-none-any.whl\n",
            "Collecting watchdog>=0.8.3\n",
            "\u001b[?25l  Downloading https://files.pythonhosted.org/packages/73/c3/ed6d992006837e011baca89476a4bbffb0a91602432f73bd4473816c76e2/watchdog-0.10.2.tar.gz (95kB)\n",
            "\u001b[K     |████████████████████████████████| 102kB 10.5MB/s \n",
            "\u001b[?25hCollecting docker-pycreds>=0.4.0\n",
            "  Downloading https://files.pythonhosted.org/packages/f5/e8/f6bd1eee09314e7e6dee49cbe2c5e22314ccdb38db16c9fc72d2fa80d054/docker_pycreds-0.4.0-py2.py3-none-any.whl\n",
            "Collecting GitPython>=1.0.0\n",
            "\u001b[?25l  Downloading https://files.pythonhosted.org/packages/19/1a/0df85d2bddbca33665d2148173d3281b290ac054b5f50163ea735740ac7b/GitPython-3.1.1-py3-none-any.whl (450kB)\n",
            "\u001b[K     |████████████████████████████████| 460kB 27.6MB/s \n",
            "\u001b[?25hRequirement already satisfied: Click>=7.0 in /usr/local/lib/python3.6/dist-packages (from wandb) (7.1.2)\n",
            "Requirement already satisfied: nvidia-ml-py3>=7.352.0 in /usr/local/lib/python3.6/dist-packages (from wandb) (7.352.0)\n",
            "Requirement already satisfied: PyYAML>=3.10 in /usr/local/lib/python3.6/dist-packages (from wandb) (3.13)\n",
            "Requirement already satisfied: psutil>=5.0.0 in /usr/local/lib/python3.6/dist-packages (from wandb) (5.4.8)\n",
            "Collecting sentry-sdk>=0.4.0\n",
            "\u001b[?25l  Downloading https://files.pythonhosted.org/packages/20/7e/19545324e83db4522b885808cd913c3b93ecc0c88b03e037b78c6a417fa8/sentry_sdk-0.14.3-py2.py3-none-any.whl (103kB)\n",
            "\u001b[K     |████████████████████████████████| 112kB 40.3MB/s \n",
            "\u001b[?25hCollecting subprocess32>=3.5.3\n",
            "\u001b[?25l  Downloading https://files.pythonhosted.org/packages/32/c8/564be4d12629b912ea431f1a50eb8b3b9d00f1a0b1ceff17f266be190007/subprocess32-3.5.4.tar.gz (97kB)\n",
            "\u001b[K     |████████████████████████████████| 102kB 12.1MB/s \n",
            "\u001b[?25hRequirement already satisfied: six>=1.10.0 in /usr/local/lib/python3.6/dist-packages (from wandb) (1.12.0)\n",
            "Requirement already satisfied: idna<3,>=2.5 in /usr/local/lib/python3.6/dist-packages (from requests>=2.0.0->wandb) (2.9)\n",
            "Requirement already satisfied: chardet<4,>=3.0.2 in /usr/local/lib/python3.6/dist-packages (from requests>=2.0.0->wandb) (3.0.4)\n",
            "Requirement already satisfied: urllib3!=1.25.0,!=1.25.1,<1.26,>=1.21.1 in /usr/local/lib/python3.6/dist-packages (from requests>=2.0.0->wandb) (1.24.3)\n",
            "Requirement already satisfied: certifi>=2017.4.17 in /usr/local/lib/python3.6/dist-packages (from requests>=2.0.0->wandb) (2020.4.5.1)\n",
            "Collecting graphql-core<2,>=0.5.0\n",
            "\u001b[?25l  Downloading https://files.pythonhosted.org/packages/b0/89/00ad5e07524d8c523b14d70c685e0299a8b0de6d0727e368c41b89b7ed0b/graphql-core-1.1.tar.gz (70kB)\n",
            "\u001b[K     |████████████████████████████████| 71kB 8.9MB/s \n",
            "\u001b[?25hRequirement already satisfied: promise<3,>=2.0 in /usr/local/lib/python3.6/dist-packages (from gql==0.2.0->wandb) (2.3)\n",
            "Collecting pathtools>=0.1.1\n",
            "  Downloading https://files.pythonhosted.org/packages/e7/7f/470d6fcdf23f9f3518f6b0b76be9df16dcc8630ad409947f8be2eb0ed13a/pathtools-0.1.2.tar.gz\n",
            "Collecting gitdb<5,>=4.0.1\n",
            "\u001b[?25l  Downloading https://files.pythonhosted.org/packages/74/52/ca35448b56c53a079d3ffe18b1978c6e424f6d4df02404877094c89f5bfb/gitdb-4.0.4-py3-none-any.whl (63kB)\n",
            "\u001b[K     |████████████████████████████████| 71kB 9.1MB/s \n",
            "\u001b[?25hCollecting smmap<4,>=3.0.1\n",
            "  Downloading https://files.pythonhosted.org/packages/27/b1/e379cfb7c07bbf8faee29c4a1a2469dbea525f047c2b454c4afdefa20a30/smmap-3.0.2-py2.py3-none-any.whl\n",
            "Building wheels for collected packages: gql, watchdog, subprocess32, graphql-core, pathtools\n",
            "  Building wheel for gql (setup.py) ... \u001b[?25l\u001b[?25hdone\n",
            "  Created wheel for gql: filename=gql-0.2.0-cp36-none-any.whl size=7630 sha256=78b8c25cb64e51b2f7716c489dd89b343318e43cb94e34c7ca3d9e430286901c\n",
            "  Stored in directory: /root/.cache/pip/wheels/ce/0e/7b/58a8a5268655b3ad74feef5aa97946f0addafb3cbb6bd2da23\n",
            "  Building wheel for watchdog (setup.py) ... \u001b[?25l\u001b[?25hdone\n",
            "  Created wheel for watchdog: filename=watchdog-0.10.2-cp36-none-any.whl size=73605 sha256=ba4bb5dacf91b7b48c111a26d4c42ac96e7fbb31a5c0ab5d6f05d1d1491e16b8\n",
            "  Stored in directory: /root/.cache/pip/wheels/bc/ed/6c/028dea90d31b359cd2a7c8b0da4db80e41d24a59614154072e\n",
            "  Building wheel for subprocess32 (setup.py) ... \u001b[?25l\u001b[?25hdone\n",
            "  Created wheel for subprocess32: filename=subprocess32-3.5.4-cp36-none-any.whl size=6489 sha256=ac15431ebcba218c446fb317b8090e545e424d836ff7d1c3451dc2128759a9c7\n",
            "  Stored in directory: /root/.cache/pip/wheels/68/39/1a/5e402bdfdf004af1786c8b853fd92f8c4a04f22aad179654d1\n",
            "  Building wheel for graphql-core (setup.py) ... \u001b[?25l\u001b[?25hdone\n",
            "  Created wheel for graphql-core: filename=graphql_core-1.1-cp36-none-any.whl size=104650 sha256=1e43d09eb938e0a725303f391b1e7d282d76c67fc2871935e447146a5d40b717\n",
            "  Stored in directory: /root/.cache/pip/wheels/45/99/d7/c424029bb0fe910c63b68dbf2aa20d3283d023042521bcd7d5\n",
            "  Building wheel for pathtools (setup.py) ... \u001b[?25l\u001b[?25hdone\n",
            "  Created wheel for pathtools: filename=pathtools-0.1.2-cp36-none-any.whl size=8784 sha256=da849bba746bfd1680d0712bc005e3b05941ea2f02bf243560dbceafb7f3d4c3\n",
            "  Stored in directory: /root/.cache/pip/wheels/0b/04/79/c3b0c3a0266a3cb4376da31e5bfe8bba0c489246968a68e843\n",
            "Successfully built gql watchdog subprocess32 graphql-core pathtools\n",
            "Installing collected packages: graphql-core, gql, shortuuid, configparser, pathtools, watchdog, docker-pycreds, smmap, gitdb, GitPython, sentry-sdk, subprocess32, wandb\n",
            "Successfully installed GitPython-3.1.1 configparser-5.0.0 docker-pycreds-0.4.0 gitdb-4.0.4 gql-0.2.0 graphql-core-1.1 pathtools-0.1.2 sentry-sdk-0.14.3 shortuuid-1.0.1 smmap-3.0.2 subprocess32-3.5.4 wandb-0.8.35 watchdog-0.10.2\n",
            "\u001b[34m\u001b[1mwandb\u001b[0m: You can find your API key in your browser here: https://app.wandb.ai/authorize\n",
            "\u001b[34m\u001b[1mwandb\u001b[0m: Paste an API key from your profile and hit enter: 936f243deff8f026e476a495792f87a7942c65bf\n",
            "\u001b[34m\u001b[1mwandb\u001b[0m: Appending key for api.wandb.ai to your netrc file: /root/.netrc\n",
            "\u001b[32mSuccessfully logged in to Weights & Biases!\u001b[0m\n"
          ],
          "name": "stdout"
        }
      ]
    },
    {
      "cell_type": "code",
      "metadata": {
        "id": "-YTGbDgAxUFD",
        "colab_type": "code",
        "colab": {}
      },
      "source": [
        "from google.colab import auth\n",
        "from datetime import datetime\n",
        "auth.authenticate_user()"
      ],
      "execution_count": 0,
      "outputs": []
    },
    {
      "cell_type": "code",
      "metadata": {
        "id": "WmOWKLuxHT7j",
        "colab_type": "code",
        "outputId": "a23cc2ac-be5a-4654-fe05-be09873832a0",
        "colab": {
          "base_uri": "https://localhost:8080/",
          "height": 120
        }
      },
      "source": [
        "df = pd.read_csv(\"coronavirus_timeseries.csv\")\n",
        "!gsutil cp coronavirus_timeseries.csv gs://coronaviruspublicdata/coronavirus_timeseries.csv \n",
        "df['month'] = pd.to_datetime(df['date']).map(lambda x: x.month)\n",
        "df['weekday'] = pd.to_datetime(df['date']).map(lambda x: x.weekday())"
      ],
      "execution_count": 3,
      "outputs": [
        {
          "output_type": "stream",
          "text": [
            "/usr/local/lib/python3.6/dist-packages/IPython/core/interactiveshell.py:2718: DtypeWarning: Columns (2) have mixed types.Specify dtype option on import or set low_memory=False.\n",
            "  interactivity=interactivity, compiler=compiler, result=result)\n"
          ],
          "name": "stderr"
        },
        {
          "output_type": "stream",
          "text": [
            "Copying file://coronavirus_timeseries.csv [Content-Type=text/csv]...\n",
            "-\n",
            "Operation completed over 1 objects/39.9 MiB.                                     \n"
          ],
          "name": "stdout"
        }
      ]
    },
    {
      "cell_type": "code",
      "metadata": {
        "id": "asrssixL6XZo",
        "colab_type": "code",
        "outputId": "3bc9d7c2-6a5d-43b4-bf94-d28ee354751f",
        "colab": {
          "base_uri": "https://localhost:8080/",
          "height": 54
        }
      },
      "source": [
        "unqiue_counties = df['county'].unique()\n",
        "print(len(unqiue_counties))"
      ],
      "execution_count": 4,
      "outputs": [
        {
          "output_type": "stream",
          "text": [
            "2035\n"
          ],
          "name": "stdout"
        }
      ]
    },
    {
      "cell_type": "markdown",
      "metadata": {
        "id": "QL0c52gZYRKs",
        "colab_type": "text"
      },
      "source": [
        "We will now construct a list of suitable data at the county level."
      ]
    },
    {
      "cell_type": "code",
      "metadata": {
        "id": "PfOvVyOCl9JL",
        "colab_type": "code",
        "outputId": "eb65dd3b-6b88-4631-c10f-694995906181",
        "colab": {
          "base_uri": "https://localhost:8080/",
          "height": 54
        }
      },
      "source": [
        "def loop_through_geo_codes(df, column='full_county'):\n",
        "  df_county_list = []\n",
        "  df['full_county'] = df['state'] + \"_\" + df['county'] \n",
        "  for code in df['full_county'].unique():\n",
        "    mask = df['full_county'] == code\n",
        "    df_code = df[mask]\n",
        "    ts_count = len(df_code)\n",
        "    if ts_count > 60:\n",
        "      df_county_list.append(df_code)\n",
        "  return df_county_list \n",
        "county_info = loop_through_geo_codes(df)\n",
        "print(len(county_info))"
      ],
      "execution_count": 5,
      "outputs": [
        {
          "output_type": "stream",
          "text": [
            "56\n"
          ],
          "name": "stdout"
        }
      ]
    },
    {
      "cell_type": "code",
      "metadata": {
        "id": "NDj4y3mKXBrA",
        "colab_type": "code",
        "outputId": "f5974c0e-aac6-4bc9-996f-ccf9eb4eea7e",
        "colab": {
          "base_uri": "https://localhost:8080/",
          "height": 763
        }
      },
      "source": [
        "county_info[0]"
      ],
      "execution_count": 0,
      "outputs": [
        {
          "output_type": "execute_result",
          "data": {
            "text/html": [
              "<div>\n",
              "<style scoped>\n",
              "    .dataframe tbody tr th:only-of-type {\n",
              "        vertical-align: middle;\n",
              "    }\n",
              "\n",
              "    .dataframe tbody tr th {\n",
              "        vertical-align: top;\n",
              "    }\n",
              "\n",
              "    .dataframe thead th {\n",
              "        text-align: right;\n",
              "    }\n",
              "</style>\n",
              "<table border=\"1\" class=\"dataframe\">\n",
              "  <thead>\n",
              "    <tr style=\"text-align: right;\">\n",
              "      <th></th>\n",
              "      <th>name</th>\n",
              "      <th>level</th>\n",
              "      <th>city</th>\n",
              "      <th>county</th>\n",
              "      <th>state</th>\n",
              "      <th>country</th>\n",
              "      <th>population</th>\n",
              "      <th>lat</th>\n",
              "      <th>long</th>\n",
              "      <th>url</th>\n",
              "      <th>aggregate</th>\n",
              "      <th>tz</th>\n",
              "      <th>cases</th>\n",
              "      <th>deaths</th>\n",
              "      <th>recovered</th>\n",
              "      <th>active</th>\n",
              "      <th>tested</th>\n",
              "      <th>hospitalized</th>\n",
              "      <th>discharged</th>\n",
              "      <th>growthFactor</th>\n",
              "      <th>date</th>\n",
              "      <th>month</th>\n",
              "      <th>weekday</th>\n",
              "      <th>full_county</th>\n",
              "    </tr>\n",
              "  </thead>\n",
              "  <tbody>\n",
              "    <tr>\n",
              "      <th>0</th>\n",
              "      <td>Antwerp, Flanders, Belgium</td>\n",
              "      <td>county</td>\n",
              "      <td>NaN</td>\n",
              "      <td>Antwerp</td>\n",
              "      <td>Flanders</td>\n",
              "      <td>Belgium</td>\n",
              "      <td>1847486.0</td>\n",
              "      <td>51.2485</td>\n",
              "      <td>4.7175</td>\n",
              "      <td>https://epistat.wiv-isp.be/</td>\n",
              "      <td>NaN</td>\n",
              "      <td>Europe/Brussels</td>\n",
              "      <td>4.0</td>\n",
              "      <td>NaN</td>\n",
              "      <td>NaN</td>\n",
              "      <td>NaN</td>\n",
              "      <td>NaN</td>\n",
              "      <td>NaN</td>\n",
              "      <td>NaN</td>\n",
              "      <td>NaN</td>\n",
              "      <td>2020-01-22</td>\n",
              "      <td>1</td>\n",
              "      <td>2</td>\n",
              "      <td>Flanders_Antwerp</td>\n",
              "    </tr>\n",
              "    <tr>\n",
              "      <th>1</th>\n",
              "      <td>Antwerp, Flanders, Belgium</td>\n",
              "      <td>county</td>\n",
              "      <td>NaN</td>\n",
              "      <td>Antwerp</td>\n",
              "      <td>Flanders</td>\n",
              "      <td>Belgium</td>\n",
              "      <td>1847486.0</td>\n",
              "      <td>51.2485</td>\n",
              "      <td>4.7175</td>\n",
              "      <td>https://epistat.wiv-isp.be/</td>\n",
              "      <td>NaN</td>\n",
              "      <td>Europe/Brussels</td>\n",
              "      <td>4.0</td>\n",
              "      <td>NaN</td>\n",
              "      <td>NaN</td>\n",
              "      <td>NaN</td>\n",
              "      <td>NaN</td>\n",
              "      <td>NaN</td>\n",
              "      <td>NaN</td>\n",
              "      <td>NaN</td>\n",
              "      <td>2020-01-23</td>\n",
              "      <td>1</td>\n",
              "      <td>3</td>\n",
              "      <td>Flanders_Antwerp</td>\n",
              "    </tr>\n",
              "    <tr>\n",
              "      <th>2</th>\n",
              "      <td>Antwerp, Flanders, Belgium</td>\n",
              "      <td>county</td>\n",
              "      <td>NaN</td>\n",
              "      <td>Antwerp</td>\n",
              "      <td>Flanders</td>\n",
              "      <td>Belgium</td>\n",
              "      <td>1847486.0</td>\n",
              "      <td>51.2485</td>\n",
              "      <td>4.7175</td>\n",
              "      <td>https://epistat.wiv-isp.be/</td>\n",
              "      <td>NaN</td>\n",
              "      <td>Europe/Brussels</td>\n",
              "      <td>4.0</td>\n",
              "      <td>NaN</td>\n",
              "      <td>NaN</td>\n",
              "      <td>NaN</td>\n",
              "      <td>NaN</td>\n",
              "      <td>NaN</td>\n",
              "      <td>NaN</td>\n",
              "      <td>NaN</td>\n",
              "      <td>2020-01-24</td>\n",
              "      <td>1</td>\n",
              "      <td>4</td>\n",
              "      <td>Flanders_Antwerp</td>\n",
              "    </tr>\n",
              "    <tr>\n",
              "      <th>3</th>\n",
              "      <td>Antwerp, Flanders, Belgium</td>\n",
              "      <td>county</td>\n",
              "      <td>NaN</td>\n",
              "      <td>Antwerp</td>\n",
              "      <td>Flanders</td>\n",
              "      <td>Belgium</td>\n",
              "      <td>1847486.0</td>\n",
              "      <td>51.2485</td>\n",
              "      <td>4.7175</td>\n",
              "      <td>https://epistat.wiv-isp.be/</td>\n",
              "      <td>NaN</td>\n",
              "      <td>Europe/Brussels</td>\n",
              "      <td>4.0</td>\n",
              "      <td>NaN</td>\n",
              "      <td>NaN</td>\n",
              "      <td>NaN</td>\n",
              "      <td>NaN</td>\n",
              "      <td>NaN</td>\n",
              "      <td>NaN</td>\n",
              "      <td>NaN</td>\n",
              "      <td>2020-01-25</td>\n",
              "      <td>1</td>\n",
              "      <td>5</td>\n",
              "      <td>Flanders_Antwerp</td>\n",
              "    </tr>\n",
              "    <tr>\n",
              "      <th>4</th>\n",
              "      <td>Antwerp, Flanders, Belgium</td>\n",
              "      <td>county</td>\n",
              "      <td>NaN</td>\n",
              "      <td>Antwerp</td>\n",
              "      <td>Flanders</td>\n",
              "      <td>Belgium</td>\n",
              "      <td>1847486.0</td>\n",
              "      <td>51.2485</td>\n",
              "      <td>4.7175</td>\n",
              "      <td>https://epistat.wiv-isp.be/</td>\n",
              "      <td>NaN</td>\n",
              "      <td>Europe/Brussels</td>\n",
              "      <td>4.0</td>\n",
              "      <td>NaN</td>\n",
              "      <td>NaN</td>\n",
              "      <td>NaN</td>\n",
              "      <td>NaN</td>\n",
              "      <td>NaN</td>\n",
              "      <td>NaN</td>\n",
              "      <td>NaN</td>\n",
              "      <td>2020-01-26</td>\n",
              "      <td>1</td>\n",
              "      <td>6</td>\n",
              "      <td>Flanders_Antwerp</td>\n",
              "    </tr>\n",
              "    <tr>\n",
              "      <th>...</th>\n",
              "      <td>...</td>\n",
              "      <td>...</td>\n",
              "      <td>...</td>\n",
              "      <td>...</td>\n",
              "      <td>...</td>\n",
              "      <td>...</td>\n",
              "      <td>...</td>\n",
              "      <td>...</td>\n",
              "      <td>...</td>\n",
              "      <td>...</td>\n",
              "      <td>...</td>\n",
              "      <td>...</td>\n",
              "      <td>...</td>\n",
              "      <td>...</td>\n",
              "      <td>...</td>\n",
              "      <td>...</td>\n",
              "      <td>...</td>\n",
              "      <td>...</td>\n",
              "      <td>...</td>\n",
              "      <td>...</td>\n",
              "      <td>...</td>\n",
              "      <td>...</td>\n",
              "      <td>...</td>\n",
              "      <td>...</td>\n",
              "    </tr>\n",
              "    <tr>\n",
              "      <th>95</th>\n",
              "      <td>Antwerp, Flanders, Belgium</td>\n",
              "      <td>county</td>\n",
              "      <td>NaN</td>\n",
              "      <td>Antwerp</td>\n",
              "      <td>Flanders</td>\n",
              "      <td>Belgium</td>\n",
              "      <td>1847486.0</td>\n",
              "      <td>51.2485</td>\n",
              "      <td>4.7175</td>\n",
              "      <td>https://epistat.wiv-isp.be/</td>\n",
              "      <td>NaN</td>\n",
              "      <td>Europe/Brussels</td>\n",
              "      <td>5815.0</td>\n",
              "      <td>NaN</td>\n",
              "      <td>NaN</td>\n",
              "      <td>NaN</td>\n",
              "      <td>NaN</td>\n",
              "      <td>2181.0</td>\n",
              "      <td>1869.0</td>\n",
              "      <td>NaN</td>\n",
              "      <td>2020-04-26</td>\n",
              "      <td>4</td>\n",
              "      <td>6</td>\n",
              "      <td>Flanders_Antwerp</td>\n",
              "    </tr>\n",
              "    <tr>\n",
              "      <th>96</th>\n",
              "      <td>Antwerp, Flanders, Belgium</td>\n",
              "      <td>county</td>\n",
              "      <td>NaN</td>\n",
              "      <td>Antwerp</td>\n",
              "      <td>Flanders</td>\n",
              "      <td>Belgium</td>\n",
              "      <td>1847486.0</td>\n",
              "      <td>51.2485</td>\n",
              "      <td>4.7175</td>\n",
              "      <td>https://epistat.wiv-isp.be/</td>\n",
              "      <td>NaN</td>\n",
              "      <td>Europe/Brussels</td>\n",
              "      <td>5960.0</td>\n",
              "      <td>NaN</td>\n",
              "      <td>NaN</td>\n",
              "      <td>NaN</td>\n",
              "      <td>NaN</td>\n",
              "      <td>2202.0</td>\n",
              "      <td>1884.0</td>\n",
              "      <td>NaN</td>\n",
              "      <td>2020-04-27</td>\n",
              "      <td>4</td>\n",
              "      <td>0</td>\n",
              "      <td>Flanders_Antwerp</td>\n",
              "    </tr>\n",
              "    <tr>\n",
              "      <th>97</th>\n",
              "      <td>Antwerp, Flanders, Belgium</td>\n",
              "      <td>county</td>\n",
              "      <td>NaN</td>\n",
              "      <td>Antwerp</td>\n",
              "      <td>Flanders</td>\n",
              "      <td>Belgium</td>\n",
              "      <td>1847486.0</td>\n",
              "      <td>51.2485</td>\n",
              "      <td>4.7175</td>\n",
              "      <td>https://epistat.wiv-isp.be/</td>\n",
              "      <td>NaN</td>\n",
              "      <td>Europe/Brussels</td>\n",
              "      <td>6001.0</td>\n",
              "      <td>NaN</td>\n",
              "      <td>NaN</td>\n",
              "      <td>NaN</td>\n",
              "      <td>NaN</td>\n",
              "      <td>2238.0</td>\n",
              "      <td>1938.0</td>\n",
              "      <td>NaN</td>\n",
              "      <td>2020-04-28</td>\n",
              "      <td>4</td>\n",
              "      <td>1</td>\n",
              "      <td>Flanders_Antwerp</td>\n",
              "    </tr>\n",
              "    <tr>\n",
              "      <th>98</th>\n",
              "      <td>Antwerp, Flanders, Belgium</td>\n",
              "      <td>county</td>\n",
              "      <td>NaN</td>\n",
              "      <td>Antwerp</td>\n",
              "      <td>Flanders</td>\n",
              "      <td>Belgium</td>\n",
              "      <td>1847486.0</td>\n",
              "      <td>51.2485</td>\n",
              "      <td>4.7175</td>\n",
              "      <td>https://epistat.wiv-isp.be/</td>\n",
              "      <td>NaN</td>\n",
              "      <td>Europe/Brussels</td>\n",
              "      <td>6002.0</td>\n",
              "      <td>NaN</td>\n",
              "      <td>NaN</td>\n",
              "      <td>NaN</td>\n",
              "      <td>NaN</td>\n",
              "      <td>2256.0</td>\n",
              "      <td>1985.0</td>\n",
              "      <td>NaN</td>\n",
              "      <td>2020-04-29</td>\n",
              "      <td>4</td>\n",
              "      <td>2</td>\n",
              "      <td>Flanders_Antwerp</td>\n",
              "    </tr>\n",
              "    <tr>\n",
              "      <th>99</th>\n",
              "      <td>Antwerp, Flanders, Belgium</td>\n",
              "      <td>county</td>\n",
              "      <td>NaN</td>\n",
              "      <td>Antwerp</td>\n",
              "      <td>Flanders</td>\n",
              "      <td>Belgium</td>\n",
              "      <td>1847486.0</td>\n",
              "      <td>51.2485</td>\n",
              "      <td>4.7175</td>\n",
              "      <td>https://epistat.wiv-isp.be/</td>\n",
              "      <td>NaN</td>\n",
              "      <td>Europe/Brussels</td>\n",
              "      <td>6002.0</td>\n",
              "      <td>NaN</td>\n",
              "      <td>NaN</td>\n",
              "      <td>NaN</td>\n",
              "      <td>NaN</td>\n",
              "      <td>2256.0</td>\n",
              "      <td>1985.0</td>\n",
              "      <td>NaN</td>\n",
              "      <td>2020-04-30</td>\n",
              "      <td>4</td>\n",
              "      <td>3</td>\n",
              "      <td>Flanders_Antwerp</td>\n",
              "    </tr>\n",
              "  </tbody>\n",
              "</table>\n",
              "<p>100 rows × 24 columns</p>\n",
              "</div>"
            ],
            "text/plain": [
              "                          name   level city  ... month weekday       full_county\n",
              "0   Antwerp, Flanders, Belgium  county  NaN  ...     1       2  Flanders_Antwerp\n",
              "1   Antwerp, Flanders, Belgium  county  NaN  ...     1       3  Flanders_Antwerp\n",
              "2   Antwerp, Flanders, Belgium  county  NaN  ...     1       4  Flanders_Antwerp\n",
              "3   Antwerp, Flanders, Belgium  county  NaN  ...     1       5  Flanders_Antwerp\n",
              "4   Antwerp, Flanders, Belgium  county  NaN  ...     1       6  Flanders_Antwerp\n",
              "..                         ...     ...  ...  ...   ...     ...               ...\n",
              "95  Antwerp, Flanders, Belgium  county  NaN  ...     4       6  Flanders_Antwerp\n",
              "96  Antwerp, Flanders, Belgium  county  NaN  ...     4       0  Flanders_Antwerp\n",
              "97  Antwerp, Flanders, Belgium  county  NaN  ...     4       1  Flanders_Antwerp\n",
              "98  Antwerp, Flanders, Belgium  county  NaN  ...     4       2  Flanders_Antwerp\n",
              "99  Antwerp, Flanders, Belgium  county  NaN  ...     4       3  Flanders_Antwerp\n",
              "\n",
              "[100 rows x 24 columns]"
            ]
          },
          "metadata": {
            "tags": []
          },
          "execution_count": 10
        }
      ]
    },
    {
      "cell_type": "code",
      "metadata": {
        "id": "9wgwsXqHu7Ef",
        "colab_type": "code",
        "colab": {}
      },
      "source": [
        "county_info[8]['full_county'].values"
      ],
      "execution_count": 0,
      "outputs": []
    },
    {
      "cell_type": "markdown",
      "metadata": {
        "id": "Mc189EXg6pfE",
        "colab_type": "text"
      },
      "source": [
        "## Forecasting in Antwerp\n",
        "We will now piece together some simple tutorial code for forecasting new cases in Antwerp."
      ]
    },
    {
      "cell_type": "code",
      "metadata": {
        "id": "WiJyk9YiHaOX",
        "colab_type": "code",
        "outputId": "928453c4-00b1-4304-d959-c2b66e521dd9",
        "colab": {
          "base_uri": "https://localhost:8080/",
          "height": 54
        }
      },
      "source": [
        "antwerp_df = df[df['county']=='Antwerp'].fillna(0)\n",
        "antwerp_relevant = antwerp_df[['cases', 'deaths', 'recovered', 'population', 'lat', 'long']].values\n",
        "antwerp_df['new_cases'] = antwerp_df.cases.diff()\n",
        "print(len(antwerp_df))"
      ],
      "execution_count": 0,
      "outputs": [
        {
          "output_type": "stream",
          "text": [
            "100\n"
          ],
          "name": "stdout"
        }
      ]
    },
    {
      "cell_type": "markdown",
      "metadata": {
        "id": "KlVWneL_CV3r",
        "colab_type": "text"
      },
      "source": [
        "## Data Augmentation\n",
        "We will now explore using the tsaug library for forecasting."
      ]
    },
    {
      "cell_type": "code",
      "metadata": {
        "id": "l1J98G13HbKM",
        "colab_type": "code",
        "outputId": "8d19cb85-b098-4cab-b433-27fcaa8a620e",
        "colab": {
          "base_uri": "https://localhost:8080/",
          "height": 137
        }
      },
      "source": [
        "!pip install tsaug"
      ],
      "execution_count": 0,
      "outputs": [
        {
          "output_type": "stream",
          "text": [
            "Collecting tsaug\n",
            "  Downloading https://files.pythonhosted.org/packages/e8/6e/8b1be145a32bba360c14322c3b87ad93d6227c46528d482c84eefe54094b/tsaug-0.2.1-py3-none-any.whl\n",
            "Requirement already satisfied: numpy>=1.14 in /usr/local/lib/python3.6/dist-packages (from tsaug) (1.18.3)\n",
            "Requirement already satisfied: scipy>=1.1 in /usr/local/lib/python3.6/dist-packages (from tsaug) (1.4.1)\n",
            "Installing collected packages: tsaug\n",
            "Successfully installed tsaug-0.2.1\n"
          ],
          "name": "stdout"
        }
      ]
    },
    {
      "cell_type": "code",
      "metadata": {
        "id": "aXNkSdTFvZ1g",
        "colab_type": "code",
        "colab": {}
      },
      "source": [
        "from tsaug.visualization import plot \n",
        "from tsaug import TimeWarp, Crop, Quantize, Drift, Reverse\n",
        "my_augmenter = (TimeWarp() * 5, # random time warping 5 times in parallel \n",
        "                Crop(size=300),  # random crop subsequences with length 300\n",
        "                Quantize(n_levels=[10, 20, 30]),  # random quantize to 10-, 20-, or 30- level sets\n",
        "                Drift(max_drift=(0.1, 0.5)),   # with 80% probability, random drift the signal up to 10% - 50%\n",
        "                Reverse()) #0.5  # with 50% probability, reverse the sequence)"
      ],
      "execution_count": 0,
      "outputs": []
    },
    {
      "cell_type": "code",
      "metadata": {
        "id": "VdVWNhk2XRJw",
        "colab_type": "code",
        "colab": {}
      },
      "source": [
        "#X_aug = my_augmenter[0].augment(antwerp_relevant)\n",
        "print(antwerp_relevant.shape)\n",
        "X_aug = TimeWarp(antwerp[:70])"
      ],
      "execution_count": 0,
      "outputs": []
    },
    {
      "cell_type": "markdown",
      "metadata": {
        "id": "-A6ICggnYBlX",
        "colab_type": "text"
      },
      "source": [
        "## Models and Forecasting\n",
        "We will now define some simple models in Keras for forecasting."
      ]
    },
    {
      "cell_type": "code",
      "metadata": {
        "id": "VO7ZOB41az1W",
        "colab_type": "code",
        "colab": {}
      },
      "source": [
        "import numpy as np\n",
        "import tensorflow as tf\n",
        "from sklearn.preprocessing import RobustScaler"
      ],
      "execution_count": 0,
      "outputs": []
    },
    {
      "cell_type": "code",
      "metadata": {
        "id": "eUR6eM4MZZJJ",
        "colab_type": "code",
        "colab": {}
      },
      "source": [
        "def create_dataset(X, y, time_steps=1):\n",
        "    Xs, ys = [], []\n",
        "    for i in range(len(X) - time_steps):\n",
        "        v = X.iloc[i:(i + time_steps)].values\n",
        "        Xs.append(v)\n",
        "        ys.append(y.iloc[i + time_steps])\n",
        "    return np.array(Xs), np.array(ys)"
      ],
      "execution_count": 0,
      "outputs": []
    },
    {
      "cell_type": "code",
      "metadata": {
        "id": "-OOG9RAp4-ap",
        "colab_type": "code",
        "colab": {}
      },
      "source": [
        "sweep_config = {\n",
        "  \"name\": \"Default sweep\",\n",
        "  \"method\": \"grid\",\n",
        "  \"parameters\": {\n",
        "        \"batch_size\": {\n",
        "            \"values\": [2, 3, 4, 5]\n",
        "        },\n",
        "        \"learn\":{\n",
        "            \"values\":[0.001, 0.002, 0.004, 0.01]\n",
        "        },\n",
        "        \"seq_len\":{\n",
        "            \"values\":[1, 2, 3, 4, 5, 6, 7, 8, 9, 10]\n",
        "        }\n",
        "    }\n",
        "}\n",
        "#sweep_id = wandb.sweep(sweep_config, project=\"covid-forecast\")"
      ],
      "execution_count": 0,
      "outputs": []
    },
    {
      "cell_type": "code",
      "metadata": {
        "id": "nXhSxkqdYJbd",
        "colab_type": "code",
        "colab": {}
      },
      "source": [
        "import matplotlib.pyplot as plt\n",
        "def train(x_train_full, y_train_full, test, test_first, scaler, config_default):\n",
        "  run = wandb.init(project=\"covid-forecast\", config=config_default, magic=True)\n",
        "  config = wandb.config\n",
        "  X_train, Y_train = create_dataset(x_train_full, y_train_full, config[\"seq_len\"])\n",
        "  X_test, y_test = create_dataset(test, test, config[\"seq_len\"])\n",
        "  opt = keras.optimizers.Adam(learning_rate=config[\"learn\"], beta_1=config[\"beta\"], beta_2=0.999, amsgrad=False)\n",
        "  model = keras.Sequential()\n",
        "  model.add(\n",
        "    keras.layers.Bidirectional(\n",
        "      keras.layers.LSTM(\n",
        "        units=128,\n",
        "        input_shape=(X_train.shape[1], X_train.shape[2])\n",
        "      )\n",
        "    )\n",
        "  ) \n",
        "  model.add(keras.layers.Dropout(rate=0.2))\n",
        "  model.add(keras.layers.Dense(units=2))\n",
        "  model.compile(loss=config[\"loss\"], optimizer=opt)\n",
        "\n",
        "  history = model.fit(\n",
        "      X_train, Y_train,\n",
        "      epochs=config[\"epochs\"],\n",
        "      batch_size=config[\"batch_size\"],\n",
        "      validation_split=config[\"validation_split\"],\n",
        "      callbacks=[WandbCallback()],\n",
        "      shuffle=False\n",
        "  )\n",
        "  evaluate_single(model, X_test, y_test, scaler)\n",
        "  evaluate_plot_multi(model, test_first, config, X_test, scaler)\n",
        "  return model\n",
        "\n",
        "def evaluate_single(model, x_test, y_test, scaler):\n",
        "  y_preds = model.predict(x_test)\n",
        "  y_preds = scaler.inverse_transform(y_preds)\n",
        "  y_test = scaler.inverse_transform(y_test)\n",
        "  complete_mse = tf.keras.losses.MSE( y_preds[:, 1], y_test[:, 1])\n",
        "  wandb.run.summary[\"test_mse\"] = complete_mse\n",
        "  return complete_mse\n",
        "\n",
        "def evaluate_plot_multi(model, test_orig, config, x_test, scaler, predictor=\"new_cases\"):\n",
        "  arr = predict_multi(model, len(test_orig)-config[\"seq_len\"], x_test[0, :, :], config)\n",
        "  test_orig['predicted_cases'] = 0\n",
        "  test_orig['predicted_cases'][config[\"seq_len\"]:] = scaler.inverse_transform(arr.squeeze(0))[:, 1]\n",
        "  plt.plot(test_orig['predicted_cases'], label='predicted_cases')\n",
        "  plt.plot(test_orig[predictor], label='actual_cases')\n",
        "  plt.axvline(x=config['seq_len'], label='Predictions start'.format(config[\"seq_len\"]))\n",
        "  plt.legend();\n",
        "  wandb.log({\"test\":plt})\n",
        "  plt.plot(test_orig['predicted_cases'], label='predicted_cases')\n",
        "  plt.plot(test_orig[predictor], label='actual_cases')\n",
        "  plt.legend();\n",
        "  wandb.Image(plt, caption=\"Plot\")\n",
        "  large_mse = tf.keras.losses.MSE(\n",
        "      scaler.inverse_transform(arr.squeeze(0))[:, 1], test_orig[predictor][config[\"seq_len\"]:].values\n",
        "  )\n",
        "  wandb.run.summary[\"test_mse_full\"] =  large_mse\n",
        "  return large_mse\n",
        "\n",
        "def predict_multi(model, time_steps, start_rows, config, trg=None, known_colums_indices=None):\n",
        "  \"\"\"\n",
        "  start_rows:np.array of dimension ()\n",
        "  \"\"\"\n",
        "  start_rows=np.expand_dims(start_rows, axis=0)\n",
        "  trg = np.expand_dims(trg, axis=0)\n",
        "  print(start_rows)\n",
        "  print(start_rows.shape)\n",
        "  for i in range(0, time_steps):\n",
        "    out = model.predict(start_rows[:, i:, :])\n",
        "    out = out[np.newaxis, ...]\n",
        "    if trg and known_colums_indices:\n",
        "      for target in known_colums_indices:\n",
        "        out[:, :, target] = trg[:, i, target]\n",
        "      targ[:, i, :]\n",
        "    start_rows = np.concatenate((start_rows, out), axis=1)\n",
        "  return start_rows[:, config[\"seq_len\"]:, :]\n"
      ],
      "execution_count": 0,
      "outputs": []
    },
    {
      "cell_type": "code",
      "metadata": {
        "id": "tR_vweL-bOD1",
        "colab_type": "code",
        "outputId": "f6d40e8b-d959-48ff-85d9-d828cd00779b",
        "colab": {
          "base_uri": "https://localhost:8080/",
          "height": 286
        }
      },
      "source": [
        "import matplotlib.pyplot as plt\n",
        "%matplotlib inline\n",
        "%config InlineBackend.figure_format='retina'\n",
        "plt.plot(history.history['loss'], label='train')\n",
        "plt.plot(history.history['val_loss'], label='test')\n",
        "plt.legend();"
      ],
      "execution_count": 0,
      "outputs": [
        {
          "output_type": "display_data",
          "data": {
            "image/png": "[encoded data removed]",
            "text/plain": [
              "<Figure size 432x288 with 1 Axes>"
            ]
          },
          "metadata": {
            "tags": [],
            "image/png": {
              "width": 370,
              "height": 248
            },
            "needs_background": "light"
          }
        }
      ]
    },
    {
      "cell_type": "markdown",
      "metadata": {
        "id": "XVag4FbaY7ac",
        "colab_type": "text"
      },
      "source": [
        "### Forecasting on all county levels\n",
        "Now that we have loooked at Antwerp specifically we will design a general function to work on all geographic counties."
      ]
    },
    {
      "cell_type": "code",
      "metadata": {
        "id": "9SIqUoXPZHZu",
        "colab_type": "code",
        "colab": {}
      },
      "source": [
        "import numpy as np\n",
        "import tensorflow as tf\n",
        "from sklearn.preprocessing import RobustScaler\n",
        "\n",
        "def run_geo_sweeps(county_info, start_idx=0, end_idx=1, test_columns=[]):\n",
        "  for s in range(start_idx, end_idx):\n",
        "    county = county_info[s].fillna(0)\n",
        "    county_name = county['full_county'].values[0]\n",
        "    config_default = {\"epochs\":30, \"validation_split\":0.1, \n",
        "            \"loss\":\"mean_squared_error\", \"optimizer\":'adam', \n",
        "            \"geo_segment\":county_name, \"seq_len\":7, \"train_steps\":60, \n",
        "            \"test_steps\":27, \"scaler\":\"RobustScaler\", \"new_cases\":True, \n",
        "            \"beta\":0.899, \"additional_features\":[\"none\"]}\n",
        "    county['new_cases'] = county.cases.diff()\n",
        "    r = RobustScaler()\n",
        "    x_train_full = county[['deaths', 'new_cases']][1:config_default[\"train_steps\"]]\n",
        "    x_train_full = pd.DataFrame(r.fit_transform(x_train_full))\n",
        "    y_train_full = x_train_full\n",
        "    r_test = RobustScaler()\n",
        "    test_orig = county[['deaths', 'new_cases']][60:]\n",
        "    test = pd.DataFrame(r_test.fit_transform(test_orig), columns=[\"deaths\", \"new_cases\"])\n",
        "    sweep_id = wandb.sweep(sweep_config, project=\"covid-forecast\")\n",
        "    wandb.agent(sweep_id, lambda:train(x_train_full, y_train_full, test, test_orig, r_test, config_default))\n"
      ],
      "execution_count": 0,
      "outputs": []
    },
    {
      "cell_type": "code",
      "metadata": {
        "id": "QJHExFR70zLH",
        "colab_type": "code",
        "colab": {}
      },
      "source": [
        "run_geo_sweeps(county_info, 8, 28)"
      ],
      "execution_count": 0,
      "outputs": []
    },
    {
      "cell_type": "markdown",
      "metadata": {
        "id": "zPaMFelHjm-m",
        "colab_type": "text"
      },
      "source": [
        "### Examining Results\n",
        "We will now predict both one step ahead and 20 steps ahead."
      ]
    },
    {
      "cell_type": "code",
      "metadata": {
        "id": "F5zjK1JYf52W",
        "colab_type": "code",
        "outputId": "00fa37da-16a3-428d-bb6c-e6f10371bb94",
        "colab": {
          "base_uri": "https://localhost:8080/",
          "height": 319
        }
      },
      "source": [
        "res = model.predict(X_test)\n",
        "res = r_test.inverse_transform(res)\n",
        "res"
      ],
      "execution_count": 0,
      "outputs": [
        {
          "output_type": "execute_result",
          "data": {
            "text/plain": [
              "array([[-2.1279370e-02,  2.0092883e+03],\n",
              "       [-1.8879963e-02,  2.2472920e+03],\n",
              "       [-1.6375745e-02,  2.5275439e+03],\n",
              "       [-1.3892809e-02,  2.8506108e+03],\n",
              "       [-1.1596879e-02,  3.1829221e+03],\n",
              "       [-9.0861954e-03,  3.5029392e+03],\n",
              "       [-6.4477865e-03,  3.7825161e+03],\n",
              "       [-3.6051013e-03,  4.0421055e+03],\n",
              "       [-1.2287628e-03,  4.2927124e+03],\n",
              "       [ 3.3153594e-04,  4.5448154e+03],\n",
              "       [ 1.1798348e-03,  4.7915127e+03],\n",
              "       [ 2.0689592e-03,  5.0360225e+03],\n",
              "       [ 3.3188127e-03,  5.2662153e+03],\n",
              "       [ 5.0343592e-03,  5.5053794e+03],\n",
              "       [ 6.5031778e-03,  5.7533242e+03],\n",
              "       [ 7.2021466e-03,  5.9751943e+03],\n",
              "       [ 7.6369299e-03,  6.1531494e+03]], dtype=float32)"
            ]
          },
          "metadata": {
            "tags": []
          },
          "execution_count": 30
        }
      ]
    },
    {
      "cell_type": "code",
      "metadata": {
        "id": "Z_9dG21n1bJC",
        "colab_type": "code",
        "outputId": "aee9ba88-9e6e-4ec8-ad2c-a114d299538a",
        "colab": {
          "base_uri": "https://localhost:8080/",
          "height": 319
        }
      },
      "source": [
        "y_true = r_test.inverse_transform(y_test)\n",
        "y_true"
      ],
      "execution_count": 0,
      "outputs": [
        {
          "output_type": "execute_result",
          "data": {
            "text/plain": [
              "array([[   0., 3521.],\n",
              "       [   0., 3822.],\n",
              "       [   0., 4086.],\n",
              "       [   0., 4179.],\n",
              "       [   0., 4265.],\n",
              "       [   0., 4330.],\n",
              "       [   0., 4470.],\n",
              "       [   0., 4645.],\n",
              "       [   0., 4855.],\n",
              "       [   0., 4965.],\n",
              "       [   0., 5028.],\n",
              "       [   0., 5079.],\n",
              "       [   0., 5241.],\n",
              "       [   0., 5415.],\n",
              "       [   0., 5449.],\n",
              "       [   0., 5449.],\n",
              "       [   0., 5449.]])"
            ]
          },
          "metadata": {
            "tags": []
          },
          "execution_count": 31
        }
      ]
    },
    {
      "cell_type": "markdown",
      "metadata": {
        "id": "bkob-4bnYdeT",
        "colab_type": "text"
      },
      "source": [
        "### PyTorch models\n",
        "Use flow-forecast library \n"
      ]
    },
    {
      "cell_type": "code",
      "metadata": {
        "id": "A1nZRmkrNkQI",
        "colab_type": "code",
        "colab": {}
      },
      "source": [
        "import os\n",
        "!gcloud source repos clone github_aistream-peelout_flow-forecast --project=gmap-997\n",
        "os.chdir('/content/github_aistream-peelout_flow-forecast')\n",
        "!git checkout -t origin/branch_fixes\n",
        "!python setup.py develop\n",
        "!pip install -r requirements.txt\n",
        "!mkdir data\n",
        "from flood_forecast.trainer import train_function"
      ],
      "execution_count": 0,
      "outputs": []
    },
    {
      "cell_type": "code",
      "metadata": {
        "id": "uaY8acW4thxu",
        "colab_type": "code",
        "outputId": "f193e666-2206-461e-bbe9-f8cbfa5874c6",
        "colab": {
          "base_uri": "https://localhost:8080/",
          "height": 104
        }
      },
      "source": [
        "def make_config_file(file_path, df_len):\n",
        "  run = wandb.init(project=\"covid-forecast\")\n",
        "  wandb_config = wandb.config\n",
        "  train_number = df_len * .7\n",
        "  validation_number = df_len *.9\n",
        "  config_default={                 \n",
        "    \"model_name\": \"MultiAttnHeadSimple\",\n",
        "    \"model_type\": \"PyTorch\",\n",
        "    \"model_params\": {\n",
        "      \"number_time_series\":3,\n",
        "      \"seq_len\":wandb_config[\"forecast_history\"], \n",
        "      \"output_seq_len\":wandb_config[\"out_seq_length\"],\n",
        "      \"forecast_length\":wandb_config[\"out_seq_length\"]\n",
        "     },\n",
        "    \"dataset_params\":\n",
        "    {  \"class\": \"default\",\n",
        "       \"training_path\": file_path,\n",
        "       \"validation_path\": file_path,\n",
        "       \"test_path\": file_path,\n",
        "       \"batch_size\":wandb_config[\"batch_size\"],\n",
        "       \"forecast_history\":wandb_config[\"forecast_history\"],\n",
        "       \"forecast_length\":wandb_config[\"out_seq_length\"],\n",
        "       \"train_end\": int(train_number),\n",
        "       \"valid_start\":int(train_number+1),\n",
        "       \"valid_end\": int(validation_number),\n",
        "       \"target_col\": [\"new_cases\"],\n",
        "       \"relevant_cols\": [\"new_cases\", \"month\", \"weekday\"],\n",
        "       \"scaler\": \"StandardScaler\", \n",
        "       \"interpolate\": False\n",
        "    },\n",
        "    \"training_params\":\n",
        "    {\n",
        "       \"criterion\":\"MSE\",\n",
        "       \"optimizer\": \"Adam\",\n",
        "       \"optim_params\":\n",
        "       {\n",
        "\n",
        "       },\n",
        "       \"lr\": wandb_config[\"lr\"],\n",
        "       \"epochs\": 10,\n",
        "       \"batch_size\":wandb_config[\"batch_size\"]\n",
        "    \n",
        "    },\n",
        "    \"GCS\": False,\n",
        "    \n",
        "    \"wandb\": {\n",
        "       \"name\": \"multihead_pytorch_antwerp\",\n",
        "       \"tags\": [\"covid_run\", \"circleci\"],\n",
        "       \"project\": \"covid-forecast\"\n",
        "    },\n",
        "    \"forward_params\":{},\n",
        "   \"metrics\":[\"MSE\"],\n",
        "   \"inference_params\":\n",
        "   {     \n",
        "         \"datetime_start\":\"2020-04-21\",\n",
        "          \"hours_to_forecast\":10, \n",
        "          \"test_csv_path\":file_path,\n",
        "          \"decoder_params\":{\n",
        "              \"decoder_function\": \"simple_decode\", \n",
        "            \"unsqueeze_dim\": 1\n",
        "          },\n",
        "          \"dataset_params\":{\n",
        "             \"file_path\": file_path,\n",
        "             \"forecast_history\":wandb_config[\"forecast_history\"],\n",
        "             \"forecast_length\":wandb_config[\"out_seq_length\"],\n",
        "             \"relevant_cols\": [\"new_cases\", \"month\", \"weekday\"],\n",
        "             \"target_col\": [\"new_cases\"],\n",
        "             \"scaling\": \"StandardScaler\",\n",
        "             \"interpolate_param\": False\n",
        "          }\n",
        "      }\n",
        "  }\n",
        "  print(config_default)\n",
        "  wandb.config = config_default\n",
        "  return config_default\n",
        "county_info[0]['datetime'] = county_info[0]['date']\n",
        "county_info[0]['precip'] = 0\n",
        "county_info[0]['temp'] = 0\n",
        "county_info[0] = county_info[0].fillna(0)\n",
        "county_info[0]['new_cases'] = county_info[0]['cases'].diff()\n",
        "county_info[0].iloc[0]['new_cases'] = 0\n",
        "county_info[0] = county_info[0].fillna(0)\n",
        "county_info[0].to_csv(\"antwerp.csv\")\n",
        "sweep_config = {\n",
        "  \"name\": \"Default sweep\",\n",
        "  \"method\": \"grid\",\n",
        "  \"parameters\": {\n",
        "        \"batch_size\": {\n",
        "            \"values\": [2, 3, 4, 5]\n",
        "        },\n",
        "        \"lr\":{\n",
        "            \"values\":[0.001, 0.002, 0.004, 0.01]\n",
        "        },\n",
        "        \"forecast_history\":{\n",
        "            \"values\":[1, 2, 3, 4, 5, 6, 7, 8, 9, 10]\n",
        "        },\n",
        "        \"out_seq_length\":{\n",
        "            \"values\":[1, 2, 3]\n",
        "        }\n",
        "    }\n",
        "}\n"
      ],
      "execution_count": 47,
      "outputs": [
        {
          "output_type": "stream",
          "text": [
            "/usr/local/lib/python3.6/dist-packages/ipykernel_launcher.py:81: SettingWithCopyWarning: \n",
            "A value is trying to be set on a copy of a slice from a DataFrame\n",
            "\n",
            "See the caveats in the documentation: https://pandas.pydata.org/pandas-docs/stable/user_guide/indexing.html#returning-a-view-versus-a-copy\n"
          ],
          "name": "stderr"
        }
      ]
    },
    {
      "cell_type": "markdown",
      "metadata": {
        "id": "MAvfpboIfBKF",
        "colab_type": "text"
      },
      "source": [
        "We will now combine Wandb parameter sweeps with flood forecast"
      ]
    },
    {
      "cell_type": "code",
      "metadata": {
        "id": "QSdkIJi0-hLG",
        "colab_type": "code",
        "outputId": "34364adc-c8ae-45af-e04e-e2cacfba03e6",
        "colab": {
          "base_uri": "https://localhost:8080/",
          "height": 1000
        }
      },
      "source": [
        "len_csv = len(county_info[0])\n",
        "sweep_id = wandb.sweep(sweep_config, project=\"covid-forecast\")\n",
        "wandb.agent(sweep_id, lambda:train_function(\"PyTorch\", make_config_file(\"antwerp.csv\", len_csv)))\n"
      ],
      "execution_count": 0,
      "outputs": [
        {
          "output_type": "stream",
          "text": [
            "Create sweep with ID: yw9zbqtn\n",
            "Sweep URL: https://app.wandb.ai/igodfried/covid-forecast/sweeps/yw9zbqtn\n",
            "wandb: Agent Starting Run: favq6tdk with config:\n",
            "\tbatch_size: 2\n",
            "\tforecast_history: 1\n",
            "\tlr: 0.001\n",
            "\tout_seq_length: 1\n",
            "wandb: Agent Started Run: favq6tdk\n"
          ],
          "name": "stdout"
        },
        {
          "output_type": "display_data",
          "data": {
            "text/html": [
              "\n",
              "                Logging results to <a href=\"https://wandb.com\" target=\"_blank\">Weights & Biases</a> <a href=\"https://docs.wandb.com/integrations/jupyter.html\" target=\"_blank\">(Documentation)</a>.<br/>\n",
              "                Project page: <a href=\"https://app.wandb.ai/igodfried/covid-forecast\" target=\"_blank\">https://app.wandb.ai/igodfried/covid-forecast</a><br/>\n",
              "                Sweep page: <a href=\"https://app.wandb.ai/igodfried/covid-forecast/sweeps/yw9zbqtn\" target=\"_blank\">https://app.wandb.ai/igodfried/covid-forecast/sweeps/yw9zbqtn</a><br/>\n",
              "Run page: <a href=\"https://app.wandb.ai/igodfried/covid-forecast/runs/favq6tdk\" target=\"_blank\">https://app.wandb.ai/igodfried/covid-forecast/runs/favq6tdk</a><br/>\n",
              "            "
            ],
            "text/plain": [
              "<IPython.core.display.HTML object>"
            ]
          },
          "metadata": {
            "tags": []
          }
        },
        {
          "output_type": "stream",
          "text": [
            "{'model_name': 'MultiAttnHeadSimple', 'model_type': 'PyTorch', 'model_params': {'number_time_series': 3, 'seq_len': 1, 'output_seq_len': 1, 'forecast_length': 1}, 'dataset_params': {'class': 'default', 'training_path': 'antwerp.csv', 'validation_path': 'antwerp.csv', 'test_path': 'antwerp.csv', 'batch_size': 2, 'forecast_history': 1, 'forecast_length': 1, 'train_end': 71, 'valid_start': 72, 'valid_end': 91, 'target_col': ['new_cases'], 'relevant_cols': ['new_cases', 'month', 'weekday'], 'scaler': 'StandardScaler', 'interpolate': False}, 'training_params': {'criterion': 'MSE', 'optimizer': 'Adam', 'optim_params': {}, 'lr': 0.001, 'epochs': 10, 'batch_size': 2}, 'GCS': False, 'wandb': {'name': 'multihead_pytorch_antwerp', 'tags': ['covid_run', 'circleci'], 'project': 'covid-forecast'}, 'forward_params': {}, 'metrics': ['MSE'], 'inference_params': {'datetime_start': '2020-04-21', 'hours_to_forecast': 10, 'test_csv_path': 'antwerp.csv', 'decoder_params': {'decoder_function': 'simple_decode', 'unsqueeze_dim': 1}, 'dataset_params': {'file_path': 'antwerp.csv', 'forecast_history': 1, 'forecast_length': 1, 'relevant_cols': ['new_cases', 'month', 'weekday'], 'target_col': ['new_cases'], 'scaling': 'StandardScaler', 'interpolate_param': False}}}\n",
            "interpolate should be below\n",
            "Now loading and scaling antwerp.csv\n",
            "interpolate should be below\n",
            "Now loading and scaling antwerp.csv\n",
            "interpolate should be below\n",
            "Now loading and scaling antwerp.csv\n"
          ],
          "name": "stdout"
        },
        {
          "output_type": "display_data",
          "data": {
            "text/html": [
              "\n",
              "                Logging results to <a href=\"https://wandb.com\" target=\"_blank\">Weights & Biases</a> <a href=\"https://docs.wandb.com/integrations/jupyter.html\" target=\"_blank\">(Documentation)</a>.<br/>\n",
              "                Project page: <a href=\"https://app.wandb.ai/igodfried/covid-forecast\" target=\"_blank\">https://app.wandb.ai/igodfried/covid-forecast</a><br/>\n",
              "                Run page: <a href=\"https://app.wandb.ai/igodfried/covid-forecast/runs/vm7aqn2e\" target=\"_blank\">https://app.wandb.ai/igodfried/covid-forecast/runs/vm7aqn2e</a><br/>\n",
              "            "
            ],
            "text/plain": [
              "<IPython.core.display.HTML object>"
            ]
          },
          "metadata": {
            "tags": []
          }
        },
        {
          "output_type": "stream",
          "text": [
            "Torch is using cpu\n",
            "The running loss is:\n",
            "11.736990986595629\n",
            "The number of items in train is: \n",
            "34\n",
            "The loss for epoch 0\n",
            "0.3452056172528126\n",
            "The running loss is:\n",
            "24.813077855855227\n",
            "The number of items in train is: \n",
            "34\n",
            "The loss for epoch 1\n",
            "0.7297964075251537\n",
            "The running loss is:\n",
            "28.300584806129336\n",
            "The number of items in train is: \n",
            "34\n",
            "The loss for epoch 2\n",
            "0.8323701413567451\n",
            "The running loss is:\n",
            "10.4155727809557\n",
            "The number of items in train is: \n",
            "34\n",
            "The loss for epoch 3\n",
            "0.30634037591046176\n",
            "The running loss is:\n",
            "11.473218071194424\n",
            "The number of items in train is: \n",
            "34\n",
            "The loss for epoch 4\n",
            "0.33744759032924776\n",
            "The running loss is:\n",
            "8.870212249457836\n",
            "The number of items in train is: \n",
            "34\n",
            "The loss for epoch 5\n",
            "0.2608885955722893\n",
            "The running loss is:\n",
            "8.28752523707226\n",
            "The number of items in train is: \n",
            "34\n",
            "The loss for epoch 6\n",
            "0.24375074226683116\n",
            "The running loss is:\n",
            "7.280146740449709\n",
            "The number of items in train is: \n",
            "34\n",
            "The loss for epoch 7\n",
            "0.2141219629544032\n",
            "The running loss is:\n",
            "12.525580656249076\n",
            "The number of items in train is: \n",
            "34\n",
            "The loss for epoch 8\n",
            "0.3683994310661493\n",
            "The running loss is:\n",
            "19.792637944687158\n",
            "The number of items in train is: \n",
            "34\n",
            "The loss for epoch 9\n",
            "0.5821364101378576\n",
            "interpolate should be below\n",
            "Now loading and scaling antwerp.csv\n",
            "CSV Path below\n",
            "antwerp.csv\n",
            "torch.Size([1, 1, 3])\n",
            "Add debugging crap below\n"
          ],
          "name": "stdout"
        },
        {
          "output_type": "stream",
          "text": [
            "/content/github_aistream-peelout_flow-forecast/flood_forecast/evaluator.py:136: SettingWithCopyWarning: \n",
            "A value is trying to be set on a copy of a slice from a DataFrame.\n",
            "Try using .loc[row_indexer,col_indexer] = value instead\n",
            "\n",
            "See the caveats in the documentation: https://pandas.pydata.org/pandas-docs/stable/user_guide/indexing.html#returning-a-view-versus-a-copy\n",
            "  df['preds'] = 0\n",
            "/content/github_aistream-peelout_flow-forecast/flood_forecast/evaluator.py:137: SettingWithCopyWarning: \n",
            "A value is trying to be set on a copy of a slice from a DataFrame\n",
            "\n",
            "See the caveats in the documentation: https://pandas.pydata.org/pandas-docs/stable/user_guide/indexing.html#returning-a-view-versus-a-copy\n",
            "  df['preds'][history_length:] = end_tensor.numpy().tolist()\n",
            "/usr/local/lib/python3.6/dist-packages/pandas/core/series.py:1042: SettingWithCopyWarning: \n",
            "A value is trying to be set on a copy of a slice from a DataFrame\n",
            "\n",
            "See the caveats in the documentation: https://pandas.pydata.org/pandas-docs/stable/user_guide/indexing.html#returning-a-view-versus-a-copy\n",
            "  self._set_with(key, value)\n",
            "/content/github_aistream-peelout_flow-forecast/flood_forecast/evaluator.py:59: SettingWithCopyWarning: \n",
            "A value is trying to be set on a copy of a slice from a DataFrame\n",
            "\n",
            "See the caveats in the documentation: https://pandas.pydata.org/pandas-docs/stable/user_guide/indexing.html#returning-a-view-versus-a-copy\n",
            "  df, end_tensor, forecast_history, junk, test_data = infer_on_torch_model(model, **inference_params)\n"
          ],
          "name": "stderr"
        },
        {
          "output_type": "stream",
          "text": [
            "torch.Size([10])\n",
            "test_data scale\n",
            "Un-transforming data\n"
          ],
          "name": "stdout"
        },
        {
          "output_type": "stream",
          "text": [
            "/content/github_aistream-peelout_flow-forecast/flood_forecast/evaluator.py:67: SettingWithCopyWarning: \n",
            "A value is trying to be set on a copy of a slice from a DataFrame\n",
            "\n",
            "See the caveats in the documentation: https://pandas.pydata.org/pandas-docs/stable/user_guide/indexing.html#returning-a-view-versus-a-copy\n",
            "  df['preds'][history_length:] = end_tensor_list\n",
            "/content/github_aistream-peelout_flow-forecast/flood_forecast/trainer.py:30: SettingWithCopyWarning: \n",
            "A value is trying to be set on a copy of a slice from a DataFrame\n",
            "\n",
            "See the caveats in the documentation: https://pandas.pydata.org/pandas-docs/stable/user_guide/indexing.html#returning-a-view-versus-a-copy\n",
            "  test_acc = evaluate_model(trained_model, model_type, params[\"dataset_params\"][\"target_col\"], params[\"metrics\"], params[\"inference_params\"], {})\n"
          ],
          "name": "stderr"
        },
        {
          "output_type": "stream",
          "text": [
            "Current historical dataframe\n",
            "    Unnamed: 0                        name  ... original_index       preds\n",
            "89          89  Antwerp, Flanders, Belgium  ...             89    0.000000\n",
            "90          90  Antwerp, Flanders, Belgium  ...             90  102.806030\n",
            "91          91  Antwerp, Flanders, Belgium  ...             91   71.026802\n",
            "92          92  Antwerp, Flanders, Belgium  ...             92   56.383720\n",
            "93          93  Antwerp, Flanders, Belgium  ...             93   51.088078\n",
            "94          94  Antwerp, Flanders, Belgium  ...             94   50.891293\n",
            "95          95  Antwerp, Flanders, Belgium  ...             95   53.475834\n",
            "96          96  Antwerp, Flanders, Belgium  ...             96   57.577534\n",
            "97          97  Antwerp, Flanders, Belgium  ...             97   43.663624\n",
            "98          98  Antwerp, Flanders, Belgium  ...             98   38.765736\n",
            "99          99  Antwerp, Flanders, Belgium  ...             99   38.785915\n",
            "\n",
            "[11 rows x 32 columns]\n"
          ],
          "name": "stdout"
        },
        {
          "output_type": "stream",
          "text": [
            "/usr/local/lib/python3.6/dist-packages/plotly/matplotlylib/mpltools.py:368: MatplotlibDeprecationWarning:\n",
            "\n",
            "\n",
            "The is_frame_like function was deprecated in Matplotlib 3.1 and will be removed in 3.3.\n",
            "\n",
            "/usr/local/lib/python3.6/dist-packages/plotly/matplotlylib/renderer.py:410: UserWarning:\n",
            "\n",
            "Bummer! Plotly can currently only draw Line2D objects from matplotlib that are in 'data' coordinates!\n",
            "\n",
            "/usr/local/lib/python3.6/dist-packages/plotly/matplotlylib/renderer.py:512: UserWarning:\n",
            "\n",
            "I found a path object that I don't think is part of a bar chart. Ignoring.\n",
            "\n",
            "/usr/local/lib/python3.6/dist-packages/plotly/matplotlylib/mpltools.py:368: MatplotlibDeprecationWarning:\n",
            "\n",
            "\n",
            "The is_frame_like function was deprecated in Matplotlib 3.1 and will be removed in 3.3.\n",
            "\n",
            "/usr/local/lib/python3.6/dist-packages/plotly/matplotlylib/renderer.py:410: UserWarning:\n",
            "\n",
            "Bummer! Plotly can currently only draw Line2D objects from matplotlib that are in 'data' coordinates!\n",
            "\n",
            "/usr/local/lib/python3.6/dist-packages/plotly/matplotlylib/renderer.py:512: UserWarning:\n",
            "\n",
            "I found a path object that I don't think is part of a bar chart. Ignoring.\n",
            "\n"
          ],
          "name": "stderr"
        },
        {
          "output_type": "stream",
          "text": [
            "wandb: Agent Finished Run: favq6tdk \n",
            "\n",
            "wandb: Agent Starting Run: qej41xa6 with config:\n",
            "\tbatch_size: 2\n",
            "\tforecast_history: 1\n",
            "\tlr: 0.001\n",
            "\tout_seq_length: 2\n",
            "wandb: Agent Started Run: qej41xa6\n"
          ],
          "name": "stdout"
        },
        {
          "output_type": "display_data",
          "data": {
            "text/html": [
              "\n",
              "                Logging results to <a href=\"https://wandb.com\" target=\"_blank\">Weights & Biases</a> <a href=\"https://docs.wandb.com/integrations/jupyter.html\" target=\"_blank\">(Documentation)</a>.<br/>\n",
              "                Project page: <a href=\"https://app.wandb.ai/igodfried/covid-forecast\" target=\"_blank\">https://app.wandb.ai/igodfried/covid-forecast</a><br/>\n",
              "                Sweep page: <a href=\"https://app.wandb.ai/igodfried/covid-forecast/sweeps/yw9zbqtn\" target=\"_blank\">https://app.wandb.ai/igodfried/covid-forecast/sweeps/yw9zbqtn</a><br/>\n",
              "Run page: <a href=\"https://app.wandb.ai/igodfried/covid-forecast/runs/qej41xa6\" target=\"_blank\">https://app.wandb.ai/igodfried/covid-forecast/runs/qej41xa6</a><br/>\n",
              "            "
            ],
            "text/plain": [
              "<IPython.core.display.HTML object>"
            ]
          },
          "metadata": {
            "tags": []
          }
        },
        {
          "output_type": "stream",
          "text": [
            "{'model_name': 'MultiAttnHeadSimple', 'model_type': 'PyTorch', 'model_params': {'number_time_series': 3, 'seq_len': 1, 'output_seq_len': 2, 'forecast_length': 2}, 'dataset_params': {'class': 'default', 'training_path': 'antwerp.csv', 'validation_path': 'antwerp.csv', 'test_path': 'antwerp.csv', 'batch_size': 2, 'forecast_history': 1, 'forecast_length': 2, 'train_end': 71, 'valid_start': 72, 'valid_end': 91, 'target_col': ['new_cases'], 'relevant_cols': ['new_cases', 'month', 'weekday'], 'scaler': 'StandardScaler', 'interpolate': False}, 'training_params': {'criterion': 'MSE', 'optimizer': 'Adam', 'optim_params': {}, 'lr': 0.001, 'epochs': 10, 'batch_size': 2}, 'GCS': False, 'wandb': {'name': 'multihead_pytorch_antwerp', 'tags': ['covid_run', 'circleci'], 'project': 'covid-forecast'}, 'forward_params': {}, 'metrics': ['MSE'], 'inference_params': {'datetime_start': '2020-04-21', 'hours_to_forecast': 10, 'test_csv_path': 'antwerp.csv', 'decoder_params': {'decoder_function': 'simple_decode', 'unsqueeze_dim': 1}, 'dataset_params': {'file_path': 'antwerp.csv', 'forecast_history': 1, 'forecast_length': 2, 'relevant_cols': ['new_cases', 'month', 'weekday'], 'target_col': ['new_cases'], 'scaling': 'StandardScaler', 'interpolate_param': False}}}\n",
            "interpolate should be below\n",
            "Now loading and scaling antwerp.csv\n",
            "interpolate should be below\n",
            "Now loading and scaling antwerp.csv\n",
            "interpolate should be below\n",
            "Now loading and scaling antwerp.csv\n"
          ],
          "name": "stdout"
        },
        {
          "output_type": "display_data",
          "data": {
            "text/html": [
              "\n",
              "                Logging results to <a href=\"https://wandb.com\" target=\"_blank\">Weights & Biases</a> <a href=\"https://docs.wandb.com/integrations/jupyter.html\" target=\"_blank\">(Documentation)</a>.<br/>\n",
              "                Project page: <a href=\"https://app.wandb.ai/igodfried/covid-forecast\" target=\"_blank\">https://app.wandb.ai/igodfried/covid-forecast</a><br/>\n",
              "                Run page: <a href=\"https://app.wandb.ai/igodfried/covid-forecast/runs/34sg55f5\" target=\"_blank\">https://app.wandb.ai/igodfried/covid-forecast/runs/34sg55f5</a><br/>\n",
              "            "
            ],
            "text/plain": [
              "<IPython.core.display.HTML object>"
            ]
          },
          "metadata": {
            "tags": []
          }
        },
        {
          "output_type": "stream",
          "text": [
            "Torch is using cpu\n",
            "The running loss is:\n",
            "20.978312958031893\n",
            "The number of items in train is: \n",
            "34\n",
            "The loss for epoch 0\n",
            "0.6170092046479968\n",
            "The running loss is:\n",
            "39.80216880142689\n",
            "The number of items in train is: \n",
            "34\n",
            "The loss for epoch 1\n",
            "1.170652023571379\n",
            "The running loss is:\n",
            "24.19058443978429\n",
            "The number of items in train is: \n",
            "34\n",
            "The loss for epoch 2\n",
            "0.7114877776407144\n",
            "The running loss is:\n",
            "20.301503472030163\n",
            "The number of items in train is: \n",
            "34\n",
            "The loss for epoch 3\n",
            "0.5971030432950047\n",
            "The running loss is:\n",
            "18.146781336516142\n",
            "The number of items in train is: \n",
            "34\n",
            "The loss for epoch 4\n",
            "0.53372886283871\n",
            "The running loss is:\n",
            "20.873035572469234\n",
            "The number of items in train is: \n",
            "34\n",
            "The loss for epoch 5\n",
            "0.6139128109549775\n",
            "The running loss is:\n",
            "17.74494293704629\n",
            "The number of items in train is: \n",
            "34\n",
            "The loss for epoch 6\n",
            "0.5219100863837144\n",
            "The running loss is:\n",
            "18.19329888187349\n",
            "The number of items in train is: \n",
            "34\n",
            "The loss for epoch 7\n",
            "0.5350970259374556\n",
            "The running loss is:\n",
            "14.98734188452363\n",
            "The number of items in train is: \n",
            "34\n",
            "The loss for epoch 8\n",
            "0.4408041730742244\n",
            "The running loss is:\n",
            "17.561892744153738\n",
            "The number of items in train is: \n",
            "34\n",
            "The loss for epoch 9\n",
            "0.5165262571809923\n",
            "interpolate should be below\n",
            "Now loading and scaling antwerp.csv\n",
            "CSV Path below\n",
            "antwerp.csv\n",
            "torch.Size([1, 1, 3])\n",
            "Add debugging crap below\n"
          ],
          "name": "stdout"
        },
        {
          "output_type": "stream",
          "text": [
            "/content/github_aistream-peelout_flow-forecast/flood_forecast/evaluator.py:136: SettingWithCopyWarning: \n",
            "A value is trying to be set on a copy of a slice from a DataFrame.\n",
            "Try using .loc[row_indexer,col_indexer] = value instead\n",
            "\n",
            "See the caveats in the documentation: https://pandas.pydata.org/pandas-docs/stable/user_guide/indexing.html#returning-a-view-versus-a-copy\n",
            "  df['preds'] = 0\n",
            "/content/github_aistream-peelout_flow-forecast/flood_forecast/evaluator.py:137: SettingWithCopyWarning: \n",
            "A value is trying to be set on a copy of a slice from a DataFrame\n",
            "\n",
            "See the caveats in the documentation: https://pandas.pydata.org/pandas-docs/stable/user_guide/indexing.html#returning-a-view-versus-a-copy\n",
            "  df['preds'][history_length:] = end_tensor.numpy().tolist()\n",
            "/usr/local/lib/python3.6/dist-packages/pandas/core/series.py:1042: SettingWithCopyWarning: \n",
            "A value is trying to be set on a copy of a slice from a DataFrame\n",
            "\n",
            "See the caveats in the documentation: https://pandas.pydata.org/pandas-docs/stable/user_guide/indexing.html#returning-a-view-versus-a-copy\n",
            "  self._set_with(key, value)\n",
            "/content/github_aistream-peelout_flow-forecast/flood_forecast/evaluator.py:59: SettingWithCopyWarning: \n",
            "A value is trying to be set on a copy of a slice from a DataFrame\n",
            "\n",
            "See the caveats in the documentation: https://pandas.pydata.org/pandas-docs/stable/user_guide/indexing.html#returning-a-view-versus-a-copy\n",
            "  df, end_tensor, forecast_history, junk, test_data = infer_on_torch_model(model, **inference_params)\n"
          ],
          "name": "stderr"
        },
        {
          "output_type": "stream",
          "text": [
            "torch.Size([10])\n",
            "test_data scale\n",
            "Un-transforming data\n"
          ],
          "name": "stdout"
        },
        {
          "output_type": "stream",
          "text": [
            "/content/github_aistream-peelout_flow-forecast/flood_forecast/evaluator.py:67: SettingWithCopyWarning: \n",
            "A value is trying to be set on a copy of a slice from a DataFrame\n",
            "\n",
            "See the caveats in the documentation: https://pandas.pydata.org/pandas-docs/stable/user_guide/indexing.html#returning-a-view-versus-a-copy\n",
            "  df['preds'][history_length:] = end_tensor_list\n",
            "/content/github_aistream-peelout_flow-forecast/flood_forecast/trainer.py:30: SettingWithCopyWarning: \n",
            "A value is trying to be set on a copy of a slice from a DataFrame\n",
            "\n",
            "See the caveats in the documentation: https://pandas.pydata.org/pandas-docs/stable/user_guide/indexing.html#returning-a-view-versus-a-copy\n",
            "  test_acc = evaluate_model(trained_model, model_type, params[\"dataset_params\"][\"target_col\"], params[\"metrics\"], params[\"inference_params\"], {})\n"
          ],
          "name": "stderr"
        },
        {
          "output_type": "stream",
          "text": [
            "Current historical dataframe\n",
            "    Unnamed: 0                        name  ... original_index      preds\n",
            "89          89  Antwerp, Flanders, Belgium  ...             89   0.000000\n",
            "90          90  Antwerp, Flanders, Belgium  ...             90  57.193180\n",
            "91          91  Antwerp, Flanders, Belgium  ...             91  23.370998\n",
            "92          92  Antwerp, Flanders, Belgium  ...             92  14.213340\n",
            "93          93  Antwerp, Flanders, Belgium  ...             93  13.168525\n",
            "94          94  Antwerp, Flanders, Belgium  ...             94  14.792251\n",
            "95          95  Antwerp, Flanders, Belgium  ...             95  17.293728\n",
            "96          96  Antwerp, Flanders, Belgium  ...             96  20.083920\n",
            "97          97  Antwerp, Flanders, Belgium  ...             97   9.197349\n",
            "98          98  Antwerp, Flanders, Belgium  ...             98   7.583842\n",
            "99          99  Antwerp, Flanders, Belgium  ...             99   9.020511\n",
            "\n",
            "[11 rows x 32 columns]\n"
          ],
          "name": "stdout"
        },
        {
          "output_type": "stream",
          "text": [
            "/usr/local/lib/python3.6/dist-packages/plotly/matplotlylib/mpltools.py:368: MatplotlibDeprecationWarning:\n",
            "\n",
            "\n",
            "The is_frame_like function was deprecated in Matplotlib 3.1 and will be removed in 3.3.\n",
            "\n",
            "/usr/local/lib/python3.6/dist-packages/plotly/matplotlylib/renderer.py:410: UserWarning:\n",
            "\n",
            "Bummer! Plotly can currently only draw Line2D objects from matplotlib that are in 'data' coordinates!\n",
            "\n",
            "/usr/local/lib/python3.6/dist-packages/plotly/matplotlylib/renderer.py:512: UserWarning:\n",
            "\n",
            "I found a path object that I don't think is part of a bar chart. Ignoring.\n",
            "\n",
            "/usr/local/lib/python3.6/dist-packages/plotly/matplotlylib/mpltools.py:368: MatplotlibDeprecationWarning:\n",
            "\n",
            "\n",
            "The is_frame_like function was deprecated in Matplotlib 3.1 and will be removed in 3.3.\n",
            "\n",
            "/usr/local/lib/python3.6/dist-packages/plotly/matplotlylib/renderer.py:410: UserWarning:\n",
            "\n",
            "Bummer! Plotly can currently only draw Line2D objects from matplotlib that are in 'data' coordinates!\n",
            "\n",
            "/usr/local/lib/python3.6/dist-packages/plotly/matplotlylib/renderer.py:512: UserWarning:\n",
            "\n",
            "I found a path object that I don't think is part of a bar chart. Ignoring.\n",
            "\n"
          ],
          "name": "stderr"
        },
        {
          "output_type": "stream",
          "text": [
            "wandb: Agent Finished Run: qej41xa6 \n",
            "\n",
            "wandb: Agent Starting Run: 4lsu567z with config:\n",
            "\tbatch_size: 2\n",
            "\tforecast_history: 1\n",
            "\tlr: 0.001\n",
            "\tout_seq_length: 3\n",
            "wandb: Agent Started Run: 4lsu567z\n"
          ],
          "name": "stdout"
        },
        {
          "output_type": "display_data",
          "data": {
            "text/html": [
              "\n",
              "                Logging results to <a href=\"https://wandb.com\" target=\"_blank\">Weights & Biases</a> <a href=\"https://docs.wandb.com/integrations/jupyter.html\" target=\"_blank\">(Documentation)</a>.<br/>\n",
              "                Project page: <a href=\"https://app.wandb.ai/igodfried/covid-forecast\" target=\"_blank\">https://app.wandb.ai/igodfried/covid-forecast</a><br/>\n",
              "                Sweep page: <a href=\"https://app.wandb.ai/igodfried/covid-forecast/sweeps/yw9zbqtn\" target=\"_blank\">https://app.wandb.ai/igodfried/covid-forecast/sweeps/yw9zbqtn</a><br/>\n",
              "Run page: <a href=\"https://app.wandb.ai/igodfried/covid-forecast/runs/4lsu567z\" target=\"_blank\">https://app.wandb.ai/igodfried/covid-forecast/runs/4lsu567z</a><br/>\n",
              "            "
            ],
            "text/plain": [
              "<IPython.core.display.HTML object>"
            ]
          },
          "metadata": {
            "tags": []
          }
        },
        {
          "output_type": "stream",
          "text": [
            "{'model_name': 'MultiAttnHeadSimple', 'model_type': 'PyTorch', 'model_params': {'number_time_series': 3, 'seq_len': 1, 'output_seq_len': 3, 'forecast_length': 3}, 'dataset_params': {'class': 'default', 'training_path': 'antwerp.csv', 'validation_path': 'antwerp.csv', 'test_path': 'antwerp.csv', 'batch_size': 2, 'forecast_history': 1, 'forecast_length': 3, 'train_end': 71, 'valid_start': 72, 'valid_end': 91, 'target_col': ['new_cases'], 'relevant_cols': ['new_cases', 'month', 'weekday'], 'scaler': 'StandardScaler', 'interpolate': False}, 'training_params': {'criterion': 'MSE', 'optimizer': 'Adam', 'optim_params': {}, 'lr': 0.001, 'epochs': 10, 'batch_size': 2}, 'GCS': False, 'wandb': {'name': 'multihead_pytorch_antwerp', 'tags': ['covid_run', 'circleci'], 'project': 'covid-forecast'}, 'forward_params': {}, 'metrics': ['MSE'], 'inference_params': {'datetime_start': '2020-04-21', 'hours_to_forecast': 10, 'test_csv_path': 'antwerp.csv', 'decoder_params': {'decoder_function': 'simple_decode', 'unsqueeze_dim': 1}, 'dataset_params': {'file_path': 'antwerp.csv', 'forecast_history': 1, 'forecast_length': 3, 'relevant_cols': ['new_cases', 'month', 'weekday'], 'target_col': ['new_cases'], 'scaling': 'StandardScaler', 'interpolate_param': False}}}\n",
            "interpolate should be below\n",
            "Now loading and scaling antwerp.csv\n",
            "interpolate should be below\n",
            "Now loading and scaling antwerp.csv\n",
            "interpolate should be below\n",
            "Now loading and scaling antwerp.csv\n"
          ],
          "name": "stdout"
        },
        {
          "output_type": "display_data",
          "data": {
            "text/html": [
              "\n",
              "                Logging results to <a href=\"https://wandb.com\" target=\"_blank\">Weights & Biases</a> <a href=\"https://docs.wandb.com/integrations/jupyter.html\" target=\"_blank\">(Documentation)</a>.<br/>\n",
              "                Project page: <a href=\"https://app.wandb.ai/igodfried/covid-forecast\" target=\"_blank\">https://app.wandb.ai/igodfried/covid-forecast</a><br/>\n",
              "                Run page: <a href=\"https://app.wandb.ai/igodfried/covid-forecast/runs/rqu5z438\" target=\"_blank\">https://app.wandb.ai/igodfried/covid-forecast/runs/rqu5z438</a><br/>\n",
              "            "
            ],
            "text/plain": [
              "<IPython.core.display.HTML object>"
            ]
          },
          "metadata": {
            "tags": []
          }
        },
        {
          "output_type": "stream",
          "text": [
            "Torch is using cpu\n",
            "The running loss is:\n",
            "21.944805666804314\n",
            "The number of items in train is: \n",
            "33\n",
            "The loss for epoch 0\n",
            "0.6649941111152823\n",
            "The running loss is:\n",
            "39.04568848013878\n",
            "The number of items in train is: \n",
            "33\n",
            "The loss for epoch 1\n",
            "1.1832026812163265\n",
            "The running loss is:\n",
            "22.351303592324257\n",
            "The number of items in train is: \n",
            "33\n",
            "The loss for epoch 2\n",
            "0.6773122300704321\n",
            "The running loss is:\n",
            "24.924195021390915\n",
            "The number of items in train is: \n",
            "33\n",
            "The loss for epoch 3\n",
            "0.7552786370118459\n",
            "The running loss is:\n",
            "17.094573065638542\n",
            "The number of items in train is: \n",
            "33\n",
            "The loss for epoch 4\n",
            "0.5180173656254103\n",
            "The running loss is:\n",
            "22.243711099028587\n",
            "The number of items in train is: \n",
            "33\n",
            "The loss for epoch 5\n",
            "0.6740518514857148\n",
            "The running loss is:\n",
            "14.625111401081085\n",
            "The number of items in train is: \n",
            "33\n",
            "The loss for epoch 6\n",
            "0.4431851939721541\n",
            "The running loss is:\n",
            "18.527046501636505\n",
            "The number of items in train is: \n",
            "33\n",
            "The loss for epoch 7\n",
            "0.5614256515647426\n",
            "The running loss is:\n",
            "13.53986869752407\n",
            "The number of items in train is: \n",
            "33\n",
            "The loss for epoch 8\n",
            "0.41029905144012335\n",
            "The running loss is:\n",
            "13.372476078569889\n",
            "The number of items in train is: \n",
            "33\n",
            "The loss for epoch 9\n",
            "0.4052265478354512\n",
            "interpolate should be below\n",
            "Now loading and scaling antwerp.csv\n",
            "CSV Path below\n",
            "antwerp.csv\n",
            "torch.Size([1, 1, 3])\n",
            "Add debugging crap below\n"
          ],
          "name": "stdout"
        },
        {
          "output_type": "stream",
          "text": [
            "/content/github_aistream-peelout_flow-forecast/flood_forecast/evaluator.py:136: SettingWithCopyWarning: \n",
            "A value is trying to be set on a copy of a slice from a DataFrame.\n",
            "Try using .loc[row_indexer,col_indexer] = value instead\n",
            "\n",
            "See the caveats in the documentation: https://pandas.pydata.org/pandas-docs/stable/user_guide/indexing.html#returning-a-view-versus-a-copy\n",
            "  df['preds'] = 0\n",
            "/content/github_aistream-peelout_flow-forecast/flood_forecast/evaluator.py:137: SettingWithCopyWarning: \n",
            "A value is trying to be set on a copy of a slice from a DataFrame\n",
            "\n",
            "See the caveats in the documentation: https://pandas.pydata.org/pandas-docs/stable/user_guide/indexing.html#returning-a-view-versus-a-copy\n",
            "  df['preds'][history_length:] = end_tensor.numpy().tolist()\n",
            "/usr/local/lib/python3.6/dist-packages/pandas/core/series.py:1042: SettingWithCopyWarning: \n",
            "A value is trying to be set on a copy of a slice from a DataFrame\n",
            "\n",
            "See the caveats in the documentation: https://pandas.pydata.org/pandas-docs/stable/user_guide/indexing.html#returning-a-view-versus-a-copy\n",
            "  self._set_with(key, value)\n",
            "/content/github_aistream-peelout_flow-forecast/flood_forecast/evaluator.py:59: SettingWithCopyWarning: \n",
            "A value is trying to be set on a copy of a slice from a DataFrame\n",
            "\n",
            "See the caveats in the documentation: https://pandas.pydata.org/pandas-docs/stable/user_guide/indexing.html#returning-a-view-versus-a-copy\n",
            "  df, end_tensor, forecast_history, junk, test_data = infer_on_torch_model(model, **inference_params)\n"
          ],
          "name": "stderr"
        },
        {
          "output_type": "stream",
          "text": [
            "torch.Size([10])\n",
            "test_data scale\n",
            "Un-transforming data\n"
          ],
          "name": "stdout"
        },
        {
          "output_type": "stream",
          "text": [
            "/content/github_aistream-peelout_flow-forecast/flood_forecast/evaluator.py:67: SettingWithCopyWarning: \n",
            "A value is trying to be set on a copy of a slice from a DataFrame\n",
            "\n",
            "See the caveats in the documentation: https://pandas.pydata.org/pandas-docs/stable/user_guide/indexing.html#returning-a-view-versus-a-copy\n",
            "  df['preds'][history_length:] = end_tensor_list\n",
            "/content/github_aistream-peelout_flow-forecast/flood_forecast/trainer.py:30: SettingWithCopyWarning: \n",
            "A value is trying to be set on a copy of a slice from a DataFrame\n",
            "\n",
            "See the caveats in the documentation: https://pandas.pydata.org/pandas-docs/stable/user_guide/indexing.html#returning-a-view-versus-a-copy\n",
            "  test_acc = evaluate_model(trained_model, model_type, params[\"dataset_params\"][\"target_col\"], params[\"metrics\"], params[\"inference_params\"], {})\n"
          ],
          "name": "stderr"
        },
        {
          "output_type": "stream",
          "text": [
            "Current historical dataframe\n",
            "    Unnamed: 0                        name  ... original_index       preds\n",
            "89          89  Antwerp, Flanders, Belgium  ...             89    0.000000\n",
            "90          90  Antwerp, Flanders, Belgium  ...             90  155.923538\n",
            "91          91  Antwerp, Flanders, Belgium  ...             91  151.458740\n",
            "92          92  Antwerp, Flanders, Belgium  ...             92  150.204483\n",
            "93          93  Antwerp, Flanders, Belgium  ...             93  150.787048\n",
            "94          94  Antwerp, Flanders, Belgium  ...             94  152.420502\n",
            "95          95  Antwerp, Flanders, Belgium  ...             95  154.655197\n",
            "96          96  Antwerp, Flanders, Belgium  ...             96  157.233871\n",
            "97          97  Antwerp, Flanders, Belgium  ...             97  150.908249\n",
            "98          98  Antwerp, Flanders, Belgium  ...             98  148.589386\n",
            "99          99  Antwerp, Flanders, Belgium  ...             99  148.562866\n",
            "\n",
            "[11 rows x 32 columns]\n"
          ],
          "name": "stdout"
        },
        {
          "output_type": "stream",
          "text": [
            "/usr/local/lib/python3.6/dist-packages/plotly/matplotlylib/mpltools.py:368: MatplotlibDeprecationWarning:\n",
            "\n",
            "\n",
            "The is_frame_like function was deprecated in Matplotlib 3.1 and will be removed in 3.3.\n",
            "\n",
            "/usr/local/lib/python3.6/dist-packages/plotly/matplotlylib/renderer.py:410: UserWarning:\n",
            "\n",
            "Bummer! Plotly can currently only draw Line2D objects from matplotlib that are in 'data' coordinates!\n",
            "\n",
            "/usr/local/lib/python3.6/dist-packages/plotly/matplotlylib/renderer.py:512: UserWarning:\n",
            "\n",
            "I found a path object that I don't think is part of a bar chart. Ignoring.\n",
            "\n",
            "/usr/local/lib/python3.6/dist-packages/plotly/matplotlylib/mpltools.py:368: MatplotlibDeprecationWarning:\n",
            "\n",
            "\n",
            "The is_frame_like function was deprecated in Matplotlib 3.1 and will be removed in 3.3.\n",
            "\n",
            "/usr/local/lib/python3.6/dist-packages/plotly/matplotlylib/renderer.py:410: UserWarning:\n",
            "\n",
            "Bummer! Plotly can currently only draw Line2D objects from matplotlib that are in 'data' coordinates!\n",
            "\n",
            "/usr/local/lib/python3.6/dist-packages/plotly/matplotlylib/renderer.py:512: UserWarning:\n",
            "\n",
            "I found a path object that I don't think is part of a bar chart. Ignoring.\n",
            "\n"
          ],
          "name": "stderr"
        },
        {
          "output_type": "stream",
          "text": [
            "wandb: Agent Finished Run: 4lsu567z \n",
            "\n",
            "wandb: Agent Starting Run: gga943m2 with config:\n",
            "\tbatch_size: 2\n",
            "\tforecast_history: 1\n",
            "\tlr: 0.002\n",
            "\tout_seq_length: 1\n",
            "wandb: Agent Started Run: gga943m2\n"
          ],
          "name": "stdout"
        },
        {
          "output_type": "display_data",
          "data": {
            "text/html": [
              "\n",
              "                Logging results to <a href=\"https://wandb.com\" target=\"_blank\">Weights & Biases</a> <a href=\"https://docs.wandb.com/integrations/jupyter.html\" target=\"_blank\">(Documentation)</a>.<br/>\n",
              "                Project page: <a href=\"https://app.wandb.ai/igodfried/covid-forecast\" target=\"_blank\">https://app.wandb.ai/igodfried/covid-forecast</a><br/>\n",
              "                Sweep page: <a href=\"https://app.wandb.ai/igodfried/covid-forecast/sweeps/yw9zbqtn\" target=\"_blank\">https://app.wandb.ai/igodfried/covid-forecast/sweeps/yw9zbqtn</a><br/>\n",
              "Run page: <a href=\"https://app.wandb.ai/igodfried/covid-forecast/runs/gga943m2\" target=\"_blank\">https://app.wandb.ai/igodfried/covid-forecast/runs/gga943m2</a><br/>\n",
              "            "
            ],
            "text/plain": [
              "<IPython.core.display.HTML object>"
            ]
          },
          "metadata": {
            "tags": []
          }
        },
        {
          "output_type": "stream",
          "text": [
            "{'model_name': 'MultiAttnHeadSimple', 'model_type': 'PyTorch', 'model_params': {'number_time_series': 3, 'seq_len': 1, 'output_seq_len': 1, 'forecast_length': 1}, 'dataset_params': {'class': 'default', 'training_path': 'antwerp.csv', 'validation_path': 'antwerp.csv', 'test_path': 'antwerp.csv', 'batch_size': 2, 'forecast_history': 1, 'forecast_length': 1, 'train_end': 71, 'valid_start': 72, 'valid_end': 91, 'target_col': ['new_cases'], 'relevant_cols': ['new_cases', 'month', 'weekday'], 'scaler': 'StandardScaler', 'interpolate': False}, 'training_params': {'criterion': 'MSE', 'optimizer': 'Adam', 'optim_params': {}, 'lr': 0.002, 'epochs': 10, 'batch_size': 2}, 'GCS': False, 'wandb': {'name': 'multihead_pytorch_antwerp', 'tags': ['covid_run', 'circleci'], 'project': 'covid-forecast'}, 'forward_params': {}, 'metrics': ['MSE'], 'inference_params': {'datetime_start': '2020-04-21', 'hours_to_forecast': 10, 'test_csv_path': 'antwerp.csv', 'decoder_params': {'decoder_function': 'simple_decode', 'unsqueeze_dim': 1}, 'dataset_params': {'file_path': 'antwerp.csv', 'forecast_history': 1, 'forecast_length': 1, 'relevant_cols': ['new_cases', 'month', 'weekday'], 'target_col': ['new_cases'], 'scaling': 'StandardScaler', 'interpolate_param': False}}}\n",
            "interpolate should be below\n",
            "Now loading and scaling antwerp.csv\n",
            "interpolate should be below\n",
            "Now loading and scaling antwerp.csv\n",
            "interpolate should be below\n",
            "Now loading and scaling antwerp.csv\n"
          ],
          "name": "stdout"
        },
        {
          "output_type": "display_data",
          "data": {
            "text/html": [
              "\n",
              "                Logging results to <a href=\"https://wandb.com\" target=\"_blank\">Weights & Biases</a> <a href=\"https://docs.wandb.com/integrations/jupyter.html\" target=\"_blank\">(Documentation)</a>.<br/>\n",
              "                Project page: <a href=\"https://app.wandb.ai/igodfried/covid-forecast\" target=\"_blank\">https://app.wandb.ai/igodfried/covid-forecast</a><br/>\n",
              "                Run page: <a href=\"https://app.wandb.ai/igodfried/covid-forecast/runs/10hh6n0y\" target=\"_blank\">https://app.wandb.ai/igodfried/covid-forecast/runs/10hh6n0y</a><br/>\n",
              "            "
            ],
            "text/plain": [
              "<IPython.core.display.HTML object>"
            ]
          },
          "metadata": {
            "tags": []
          }
        },
        {
          "output_type": "stream",
          "text": [
            "Torch is using cpu\n",
            "The running loss is:\n",
            "11.736990986595629\n",
            "The number of items in train is: \n",
            "34\n",
            "The loss for epoch 0\n",
            "0.3452056172528126\n",
            "The running loss is:\n",
            "24.813077855855227\n",
            "The number of items in train is: \n",
            "34\n",
            "The loss for epoch 1\n",
            "0.7297964075251537\n",
            "The running loss is:\n",
            "28.300584806129336\n",
            "The number of items in train is: \n",
            "34\n",
            "The loss for epoch 2\n",
            "0.8323701413567451\n",
            "The running loss is:\n",
            "10.4155727809557\n",
            "The number of items in train is: \n",
            "34\n",
            "The loss for epoch 3\n",
            "0.30634037591046176\n",
            "The running loss is:\n",
            "11.473218071194424\n",
            "The number of items in train is: \n",
            "34\n",
            "The loss for epoch 4\n",
            "0.33744759032924776\n",
            "The running loss is:\n",
            "8.870212249457836\n",
            "The number of items in train is: \n",
            "34\n",
            "The loss for epoch 5\n",
            "0.2608885955722893\n",
            "The running loss is:\n",
            "8.28752523707226\n",
            "The number of items in train is: \n",
            "34\n",
            "The loss for epoch 6\n",
            "0.24375074226683116\n",
            "The running loss is:\n",
            "7.280146740449709\n",
            "The number of items in train is: \n",
            "34\n",
            "The loss for epoch 7\n",
            "0.2141219629544032\n",
            "The running loss is:\n",
            "12.525580656249076\n",
            "The number of items in train is: \n",
            "34\n",
            "The loss for epoch 8\n",
            "0.3683994310661493\n",
            "The running loss is:\n",
            "19.792637944687158\n",
            "The number of items in train is: \n",
            "34\n",
            "The loss for epoch 9\n",
            "0.5821364101378576\n",
            "interpolate should be below\n",
            "Now loading and scaling antwerp.csv\n",
            "CSV Path below\n",
            "antwerp.csv\n",
            "torch.Size([1, 1, 3])\n",
            "Add debugging crap below\n"
          ],
          "name": "stdout"
        },
        {
          "output_type": "stream",
          "text": [
            "/content/github_aistream-peelout_flow-forecast/flood_forecast/evaluator.py:136: SettingWithCopyWarning: \n",
            "A value is trying to be set on a copy of a slice from a DataFrame.\n",
            "Try using .loc[row_indexer,col_indexer] = value instead\n",
            "\n",
            "See the caveats in the documentation: https://pandas.pydata.org/pandas-docs/stable/user_guide/indexing.html#returning-a-view-versus-a-copy\n",
            "  df['preds'] = 0\n",
            "/content/github_aistream-peelout_flow-forecast/flood_forecast/evaluator.py:137: SettingWithCopyWarning: \n",
            "A value is trying to be set on a copy of a slice from a DataFrame\n",
            "\n",
            "See the caveats in the documentation: https://pandas.pydata.org/pandas-docs/stable/user_guide/indexing.html#returning-a-view-versus-a-copy\n",
            "  df['preds'][history_length:] = end_tensor.numpy().tolist()\n",
            "/usr/local/lib/python3.6/dist-packages/pandas/core/series.py:1042: SettingWithCopyWarning: \n",
            "A value is trying to be set on a copy of a slice from a DataFrame\n",
            "\n",
            "See the caveats in the documentation: https://pandas.pydata.org/pandas-docs/stable/user_guide/indexing.html#returning-a-view-versus-a-copy\n",
            "  self._set_with(key, value)\n",
            "/content/github_aistream-peelout_flow-forecast/flood_forecast/evaluator.py:59: SettingWithCopyWarning: \n",
            "A value is trying to be set on a copy of a slice from a DataFrame\n",
            "\n",
            "See the caveats in the documentation: https://pandas.pydata.org/pandas-docs/stable/user_guide/indexing.html#returning-a-view-versus-a-copy\n",
            "  df, end_tensor, forecast_history, junk, test_data = infer_on_torch_model(model, **inference_params)\n"
          ],
          "name": "stderr"
        },
        {
          "output_type": "stream",
          "text": [
            "torch.Size([10])\n",
            "test_data scale\n",
            "Un-transforming data\n"
          ],
          "name": "stdout"
        },
        {
          "output_type": "stream",
          "text": [
            "/content/github_aistream-peelout_flow-forecast/flood_forecast/evaluator.py:67: SettingWithCopyWarning: \n",
            "A value is trying to be set on a copy of a slice from a DataFrame\n",
            "\n",
            "See the caveats in the documentation: https://pandas.pydata.org/pandas-docs/stable/user_guide/indexing.html#returning-a-view-versus-a-copy\n",
            "  df['preds'][history_length:] = end_tensor_list\n",
            "/content/github_aistream-peelout_flow-forecast/flood_forecast/trainer.py:30: SettingWithCopyWarning: \n",
            "A value is trying to be set on a copy of a slice from a DataFrame\n",
            "\n",
            "See the caveats in the documentation: https://pandas.pydata.org/pandas-docs/stable/user_guide/indexing.html#returning-a-view-versus-a-copy\n",
            "  test_acc = evaluate_model(trained_model, model_type, params[\"dataset_params\"][\"target_col\"], params[\"metrics\"], params[\"inference_params\"], {})\n"
          ],
          "name": "stderr"
        },
        {
          "output_type": "stream",
          "text": [
            "Current historical dataframe\n",
            "    Unnamed: 0                        name  ... original_index       preds\n",
            "89          89  Antwerp, Flanders, Belgium  ...             89    0.000000\n",
            "90          90  Antwerp, Flanders, Belgium  ...             90  102.806030\n",
            "91          91  Antwerp, Flanders, Belgium  ...             91   71.026802\n",
            "92          92  Antwerp, Flanders, Belgium  ...             92   56.383720\n",
            "93          93  Antwerp, Flanders, Belgium  ...             93   51.088078\n",
            "94          94  Antwerp, Flanders, Belgium  ...             94   50.891293\n",
            "95          95  Antwerp, Flanders, Belgium  ...             95   53.475834\n",
            "96          96  Antwerp, Flanders, Belgium  ...             96   57.577534\n",
            "97          97  Antwerp, Flanders, Belgium  ...             97   43.663624\n",
            "98          98  Antwerp, Flanders, Belgium  ...             98   38.765736\n",
            "99          99  Antwerp, Flanders, Belgium  ...             99   38.785915\n",
            "\n",
            "[11 rows x 32 columns]\n"
          ],
          "name": "stdout"
        },
        {
          "output_type": "stream",
          "text": [
            "/usr/local/lib/python3.6/dist-packages/plotly/matplotlylib/mpltools.py:368: MatplotlibDeprecationWarning:\n",
            "\n",
            "\n",
            "The is_frame_like function was deprecated in Matplotlib 3.1 and will be removed in 3.3.\n",
            "\n",
            "/usr/local/lib/python3.6/dist-packages/plotly/matplotlylib/renderer.py:410: UserWarning:\n",
            "\n",
            "Bummer! Plotly can currently only draw Line2D objects from matplotlib that are in 'data' coordinates!\n",
            "\n",
            "/usr/local/lib/python3.6/dist-packages/plotly/matplotlylib/renderer.py:512: UserWarning:\n",
            "\n",
            "I found a path object that I don't think is part of a bar chart. Ignoring.\n",
            "\n",
            "/usr/local/lib/python3.6/dist-packages/plotly/matplotlylib/mpltools.py:368: MatplotlibDeprecationWarning:\n",
            "\n",
            "\n",
            "The is_frame_like function was deprecated in Matplotlib 3.1 and will be removed in 3.3.\n",
            "\n",
            "/usr/local/lib/python3.6/dist-packages/plotly/matplotlylib/renderer.py:410: UserWarning:\n",
            "\n",
            "Bummer! Plotly can currently only draw Line2D objects from matplotlib that are in 'data' coordinates!\n",
            "\n",
            "/usr/local/lib/python3.6/dist-packages/plotly/matplotlylib/renderer.py:512: UserWarning:\n",
            "\n",
            "I found a path object that I don't think is part of a bar chart. Ignoring.\n",
            "\n"
          ],
          "name": "stderr"
        },
        {
          "output_type": "stream",
          "text": [
            "wandb: Agent Finished Run: gga943m2 \n",
            "\n",
            "wandb: Agent Starting Run: 8blainoj with config:\n",
            "\tbatch_size: 2\n",
            "\tforecast_history: 1\n",
            "\tlr: 0.002\n",
            "\tout_seq_length: 2\n",
            "wandb: Agent Started Run: 8blainoj\n"
          ],
          "name": "stdout"
        },
        {
          "output_type": "display_data",
          "data": {
            "text/html": [
              "\n",
              "                Logging results to <a href=\"https://wandb.com\" target=\"_blank\">Weights & Biases</a> <a href=\"https://docs.wandb.com/integrations/jupyter.html\" target=\"_blank\">(Documentation)</a>.<br/>\n",
              "                Project page: <a href=\"https://app.wandb.ai/igodfried/covid-forecast\" target=\"_blank\">https://app.wandb.ai/igodfried/covid-forecast</a><br/>\n",
              "                Sweep page: <a href=\"https://app.wandb.ai/igodfried/covid-forecast/sweeps/yw9zbqtn\" target=\"_blank\">https://app.wandb.ai/igodfried/covid-forecast/sweeps/yw9zbqtn</a><br/>\n",
              "Run page: <a href=\"https://app.wandb.ai/igodfried/covid-forecast/runs/8blainoj\" target=\"_blank\">https://app.wandb.ai/igodfried/covid-forecast/runs/8blainoj</a><br/>\n",
              "            "
            ],
            "text/plain": [
              "<IPython.core.display.HTML object>"
            ]
          },
          "metadata": {
            "tags": []
          }
        },
        {
          "output_type": "stream",
          "text": [
            "{'model_name': 'MultiAttnHeadSimple', 'model_type': 'PyTorch', 'model_params': {'number_time_series': 3, 'seq_len': 1, 'output_seq_len': 2, 'forecast_length': 2}, 'dataset_params': {'class': 'default', 'training_path': 'antwerp.csv', 'validation_path': 'antwerp.csv', 'test_path': 'antwerp.csv', 'batch_size': 2, 'forecast_history': 1, 'forecast_length': 2, 'train_end': 71, 'valid_start': 72, 'valid_end': 91, 'target_col': ['new_cases'], 'relevant_cols': ['new_cases', 'month', 'weekday'], 'scaler': 'StandardScaler', 'interpolate': False}, 'training_params': {'criterion': 'MSE', 'optimizer': 'Adam', 'optim_params': {}, 'lr': 0.002, 'epochs': 10, 'batch_size': 2}, 'GCS': False, 'wandb': {'name': 'multihead_pytorch_antwerp', 'tags': ['covid_run', 'circleci'], 'project': 'covid-forecast'}, 'forward_params': {}, 'metrics': ['MSE'], 'inference_params': {'datetime_start': '2020-04-21', 'hours_to_forecast': 10, 'test_csv_path': 'antwerp.csv', 'decoder_params': {'decoder_function': 'simple_decode', 'unsqueeze_dim': 1}, 'dataset_params': {'file_path': 'antwerp.csv', 'forecast_history': 1, 'forecast_length': 2, 'relevant_cols': ['new_cases', 'month', 'weekday'], 'target_col': ['new_cases'], 'scaling': 'StandardScaler', 'interpolate_param': False}}}\n",
            "interpolate should be below\n",
            "Now loading and scaling antwerp.csv\n",
            "interpolate should be below\n",
            "Now loading and scaling antwerp.csv\n",
            "interpolate should be below\n",
            "Now loading and scaling antwerp.csv\n"
          ],
          "name": "stdout"
        },
        {
          "output_type": "display_data",
          "data": {
            "text/html": [
              "\n",
              "                Logging results to <a href=\"https://wandb.com\" target=\"_blank\">Weights & Biases</a> <a href=\"https://docs.wandb.com/integrations/jupyter.html\" target=\"_blank\">(Documentation)</a>.<br/>\n",
              "                Project page: <a href=\"https://app.wandb.ai/igodfried/covid-forecast\" target=\"_blank\">https://app.wandb.ai/igodfried/covid-forecast</a><br/>\n",
              "                Run page: <a href=\"https://app.wandb.ai/igodfried/covid-forecast/runs/3dt4m4w7\" target=\"_blank\">https://app.wandb.ai/igodfried/covid-forecast/runs/3dt4m4w7</a><br/>\n",
              "            "
            ],
            "text/plain": [
              "<IPython.core.display.HTML object>"
            ]
          },
          "metadata": {
            "tags": []
          }
        },
        {
          "output_type": "stream",
          "text": [
            "Torch is using cpu\n",
            "The running loss is:\n",
            "20.978312958031893\n",
            "The number of items in train is: \n",
            "34\n",
            "The loss for epoch 0\n",
            "0.6170092046479968\n",
            "The running loss is:\n",
            "39.80216880142689\n",
            "The number of items in train is: \n",
            "34\n",
            "The loss for epoch 1\n",
            "1.170652023571379\n",
            "The running loss is:\n",
            "24.19058443978429\n",
            "The number of items in train is: \n",
            "34\n",
            "The loss for epoch 2\n",
            "0.7114877776407144\n",
            "The running loss is:\n",
            "20.301503472030163\n",
            "The number of items in train is: \n",
            "34\n",
            "The loss for epoch 3\n",
            "0.5971030432950047\n",
            "The running loss is:\n",
            "18.146781336516142\n",
            "The number of items in train is: \n",
            "34\n",
            "The loss for epoch 4\n",
            "0.53372886283871\n",
            "The running loss is:\n",
            "20.873035572469234\n",
            "The number of items in train is: \n",
            "34\n",
            "The loss for epoch 5\n",
            "0.6139128109549775\n",
            "The running loss is:\n",
            "17.74494293704629\n",
            "The number of items in train is: \n",
            "34\n",
            "The loss for epoch 6\n",
            "0.5219100863837144\n",
            "The running loss is:\n",
            "18.19329888187349\n",
            "The number of items in train is: \n",
            "34\n",
            "The loss for epoch 7\n",
            "0.5350970259374556\n",
            "The running loss is:\n",
            "14.98734188452363\n",
            "The number of items in train is: \n",
            "34\n",
            "The loss for epoch 8\n",
            "0.4408041730742244\n",
            "The running loss is:\n",
            "17.561892744153738\n",
            "The number of items in train is: \n",
            "34\n",
            "The loss for epoch 9\n",
            "0.5165262571809923\n",
            "interpolate should be below\n",
            "Now loading and scaling antwerp.csv\n",
            "CSV Path below\n",
            "antwerp.csv\n",
            "torch.Size([1, 1, 3])\n",
            "Add debugging crap below\n"
          ],
          "name": "stdout"
        },
        {
          "output_type": "stream",
          "text": [
            "/content/github_aistream-peelout_flow-forecast/flood_forecast/evaluator.py:136: SettingWithCopyWarning: \n",
            "A value is trying to be set on a copy of a slice from a DataFrame.\n",
            "Try using .loc[row_indexer,col_indexer] = value instead\n",
            "\n",
            "See the caveats in the documentation: https://pandas.pydata.org/pandas-docs/stable/user_guide/indexing.html#returning-a-view-versus-a-copy\n",
            "  df['preds'] = 0\n",
            "/content/github_aistream-peelout_flow-forecast/flood_forecast/evaluator.py:137: SettingWithCopyWarning: \n",
            "A value is trying to be set on a copy of a slice from a DataFrame\n",
            "\n",
            "See the caveats in the documentation: https://pandas.pydata.org/pandas-docs/stable/user_guide/indexing.html#returning-a-view-versus-a-copy\n",
            "  df['preds'][history_length:] = end_tensor.numpy().tolist()\n",
            "/usr/local/lib/python3.6/dist-packages/pandas/core/series.py:1042: SettingWithCopyWarning: \n",
            "A value is trying to be set on a copy of a slice from a DataFrame\n",
            "\n",
            "See the caveats in the documentation: https://pandas.pydata.org/pandas-docs/stable/user_guide/indexing.html#returning-a-view-versus-a-copy\n",
            "  self._set_with(key, value)\n",
            "/content/github_aistream-peelout_flow-forecast/flood_forecast/evaluator.py:59: SettingWithCopyWarning: \n",
            "A value is trying to be set on a copy of a slice from a DataFrame\n",
            "\n",
            "See the caveats in the documentation: https://pandas.pydata.org/pandas-docs/stable/user_guide/indexing.html#returning-a-view-versus-a-copy\n",
            "  df, end_tensor, forecast_history, junk, test_data = infer_on_torch_model(model, **inference_params)\n"
          ],
          "name": "stderr"
        },
        {
          "output_type": "stream",
          "text": [
            "torch.Size([10])\n",
            "test_data scale\n",
            "Un-transforming data\n"
          ],
          "name": "stdout"
        },
        {
          "output_type": "stream",
          "text": [
            "/content/github_aistream-peelout_flow-forecast/flood_forecast/evaluator.py:67: SettingWithCopyWarning: \n",
            "A value is trying to be set on a copy of a slice from a DataFrame\n",
            "\n",
            "See the caveats in the documentation: https://pandas.pydata.org/pandas-docs/stable/user_guide/indexing.html#returning-a-view-versus-a-copy\n",
            "  df['preds'][history_length:] = end_tensor_list\n",
            "/content/github_aistream-peelout_flow-forecast/flood_forecast/trainer.py:30: SettingWithCopyWarning: \n",
            "A value is trying to be set on a copy of a slice from a DataFrame\n",
            "\n",
            "See the caveats in the documentation: https://pandas.pydata.org/pandas-docs/stable/user_guide/indexing.html#returning-a-view-versus-a-copy\n",
            "  test_acc = evaluate_model(trained_model, model_type, params[\"dataset_params\"][\"target_col\"], params[\"metrics\"], params[\"inference_params\"], {})\n"
          ],
          "name": "stderr"
        },
        {
          "output_type": "stream",
          "text": [
            "Current historical dataframe\n",
            "    Unnamed: 0                        name  ... original_index      preds\n",
            "89          89  Antwerp, Flanders, Belgium  ...             89   0.000000\n",
            "90          90  Antwerp, Flanders, Belgium  ...             90  57.193180\n",
            "91          91  Antwerp, Flanders, Belgium  ...             91  23.370998\n",
            "92          92  Antwerp, Flanders, Belgium  ...             92  14.213340\n",
            "93          93  Antwerp, Flanders, Belgium  ...             93  13.168525\n",
            "94          94  Antwerp, Flanders, Belgium  ...             94  14.792251\n",
            "95          95  Antwerp, Flanders, Belgium  ...             95  17.293728\n",
            "96          96  Antwerp, Flanders, Belgium  ...             96  20.083920\n",
            "97          97  Antwerp, Flanders, Belgium  ...             97   9.197349\n",
            "98          98  Antwerp, Flanders, Belgium  ...             98   7.583842\n",
            "99          99  Antwerp, Flanders, Belgium  ...             99   9.020511\n",
            "\n",
            "[11 rows x 32 columns]\n"
          ],
          "name": "stdout"
        },
        {
          "output_type": "stream",
          "text": [
            "/usr/local/lib/python3.6/dist-packages/plotly/matplotlylib/mpltools.py:368: MatplotlibDeprecationWarning:\n",
            "\n",
            "\n",
            "The is_frame_like function was deprecated in Matplotlib 3.1 and will be removed in 3.3.\n",
            "\n",
            "/usr/local/lib/python3.6/dist-packages/plotly/matplotlylib/renderer.py:410: UserWarning:\n",
            "\n",
            "Bummer! Plotly can currently only draw Line2D objects from matplotlib that are in 'data' coordinates!\n",
            "\n",
            "/usr/local/lib/python3.6/dist-packages/plotly/matplotlylib/renderer.py:512: UserWarning:\n",
            "\n",
            "I found a path object that I don't think is part of a bar chart. Ignoring.\n",
            "\n",
            "/usr/local/lib/python3.6/dist-packages/plotly/matplotlylib/mpltools.py:368: MatplotlibDeprecationWarning:\n",
            "\n",
            "\n",
            "The is_frame_like function was deprecated in Matplotlib 3.1 and will be removed in 3.3.\n",
            "\n",
            "/usr/local/lib/python3.6/dist-packages/plotly/matplotlylib/renderer.py:410: UserWarning:\n",
            "\n",
            "Bummer! Plotly can currently only draw Line2D objects from matplotlib that are in 'data' coordinates!\n",
            "\n",
            "/usr/local/lib/python3.6/dist-packages/plotly/matplotlylib/renderer.py:512: UserWarning:\n",
            "\n",
            "I found a path object that I don't think is part of a bar chart. Ignoring.\n",
            "\n"
          ],
          "name": "stderr"
        },
        {
          "output_type": "stream",
          "text": [
            "wandb: Agent Finished Run: 8blainoj \n",
            "\n",
            "wandb: Agent Starting Run: aomxdwio with config:\n",
            "\tbatch_size: 2\n",
            "\tforecast_history: 1\n",
            "\tlr: 0.002\n",
            "\tout_seq_length: 3\n",
            "wandb: Agent Started Run: aomxdwio\n"
          ],
          "name": "stdout"
        },
        {
          "output_type": "display_data",
          "data": {
            "text/html": [
              "\n",
              "                Logging results to <a href=\"https://wandb.com\" target=\"_blank\">Weights & Biases</a> <a href=\"https://docs.wandb.com/integrations/jupyter.html\" target=\"_blank\">(Documentation)</a>.<br/>\n",
              "                Project page: <a href=\"https://app.wandb.ai/igodfried/covid-forecast\" target=\"_blank\">https://app.wandb.ai/igodfried/covid-forecast</a><br/>\n",
              "                Sweep page: <a href=\"https://app.wandb.ai/igodfried/covid-forecast/sweeps/yw9zbqtn\" target=\"_blank\">https://app.wandb.ai/igodfried/covid-forecast/sweeps/yw9zbqtn</a><br/>\n",
              "Run page: <a href=\"https://app.wandb.ai/igodfried/covid-forecast/runs/aomxdwio\" target=\"_blank\">https://app.wandb.ai/igodfried/covid-forecast/runs/aomxdwio</a><br/>\n",
              "            "
            ],
            "text/plain": [
              "<IPython.core.display.HTML object>"
            ]
          },
          "metadata": {
            "tags": []
          }
        },
        {
          "output_type": "stream",
          "text": [
            "{'model_name': 'MultiAttnHeadSimple', 'model_type': 'PyTorch', 'model_params': {'number_time_series': 3, 'seq_len': 1, 'output_seq_len': 3, 'forecast_length': 3}, 'dataset_params': {'class': 'default', 'training_path': 'antwerp.csv', 'validation_path': 'antwerp.csv', 'test_path': 'antwerp.csv', 'batch_size': 2, 'forecast_history': 1, 'forecast_length': 3, 'train_end': 71, 'valid_start': 72, 'valid_end': 91, 'target_col': ['new_cases'], 'relevant_cols': ['new_cases', 'month', 'weekday'], 'scaler': 'StandardScaler', 'interpolate': False}, 'training_params': {'criterion': 'MSE', 'optimizer': 'Adam', 'optim_params': {}, 'lr': 0.002, 'epochs': 10, 'batch_size': 2}, 'GCS': False, 'wandb': {'name': 'multihead_pytorch_antwerp', 'tags': ['covid_run', 'circleci'], 'project': 'covid-forecast'}, 'forward_params': {}, 'metrics': ['MSE'], 'inference_params': {'datetime_start': '2020-04-21', 'hours_to_forecast': 10, 'test_csv_path': 'antwerp.csv', 'decoder_params': {'decoder_function': 'simple_decode', 'unsqueeze_dim': 1}, 'dataset_params': {'file_path': 'antwerp.csv', 'forecast_history': 1, 'forecast_length': 3, 'relevant_cols': ['new_cases', 'month', 'weekday'], 'target_col': ['new_cases'], 'scaling': 'StandardScaler', 'interpolate_param': False}}}\n",
            "interpolate should be below\n",
            "Now loading and scaling antwerp.csv\n",
            "interpolate should be below\n",
            "Now loading and scaling antwerp.csv\n",
            "interpolate should be below\n",
            "Now loading and scaling antwerp.csv\n"
          ],
          "name": "stdout"
        },
        {
          "output_type": "display_data",
          "data": {
            "text/html": [
              "\n",
              "                Logging results to <a href=\"https://wandb.com\" target=\"_blank\">Weights & Biases</a> <a href=\"https://docs.wandb.com/integrations/jupyter.html\" target=\"_blank\">(Documentation)</a>.<br/>\n",
              "                Project page: <a href=\"https://app.wandb.ai/igodfried/covid-forecast\" target=\"_blank\">https://app.wandb.ai/igodfried/covid-forecast</a><br/>\n",
              "                Run page: <a href=\"https://app.wandb.ai/igodfried/covid-forecast/runs/rdyizes8\" target=\"_blank\">https://app.wandb.ai/igodfried/covid-forecast/runs/rdyizes8</a><br/>\n",
              "            "
            ],
            "text/plain": [
              "<IPython.core.display.HTML object>"
            ]
          },
          "metadata": {
            "tags": []
          }
        },
        {
          "output_type": "stream",
          "text": [
            "Torch is using cpu\n",
            "The running loss is:\n",
            "21.944805666804314\n",
            "The number of items in train is: \n",
            "33\n",
            "The loss for epoch 0\n",
            "0.6649941111152823\n",
            "The running loss is:\n",
            "39.04568848013878\n",
            "The number of items in train is: \n",
            "33\n",
            "The loss for epoch 1\n",
            "1.1832026812163265\n",
            "The running loss is:\n",
            "22.351303592324257\n",
            "The number of items in train is: \n",
            "33\n",
            "The loss for epoch 2\n",
            "0.6773122300704321\n",
            "The running loss is:\n",
            "24.924195021390915\n",
            "The number of items in train is: \n",
            "33\n",
            "The loss for epoch 3\n",
            "0.7552786370118459\n",
            "The running loss is:\n",
            "17.094573065638542\n",
            "The number of items in train is: \n",
            "33\n",
            "The loss for epoch 4\n",
            "0.5180173656254103\n",
            "The running loss is:\n",
            "22.243711099028587\n",
            "The number of items in train is: \n",
            "33\n",
            "The loss for epoch 5\n",
            "0.6740518514857148\n",
            "The running loss is:\n",
            "14.625111401081085\n",
            "The number of items in train is: \n",
            "33\n",
            "The loss for epoch 6\n",
            "0.4431851939721541\n",
            "The running loss is:\n",
            "18.527046501636505\n",
            "The number of items in train is: \n",
            "33\n",
            "The loss for epoch 7\n",
            "0.5614256515647426\n",
            "The running loss is:\n",
            "13.53986869752407\n",
            "The number of items in train is: \n",
            "33\n",
            "The loss for epoch 8\n",
            "0.41029905144012335\n",
            "The running loss is:\n",
            "13.372476078569889\n",
            "The number of items in train is: \n",
            "33\n",
            "The loss for epoch 9\n",
            "0.4052265478354512\n",
            "interpolate should be below\n",
            "Now loading and scaling antwerp.csv\n",
            "CSV Path below\n",
            "antwerp.csv\n",
            "torch.Size([1, 1, 3])\n",
            "Add debugging crap below\n"
          ],
          "name": "stdout"
        },
        {
          "output_type": "stream",
          "text": [
            "/content/github_aistream-peelout_flow-forecast/flood_forecast/evaluator.py:136: SettingWithCopyWarning: \n",
            "A value is trying to be set on a copy of a slice from a DataFrame.\n",
            "Try using .loc[row_indexer,col_indexer] = value instead\n",
            "\n",
            "See the caveats in the documentation: https://pandas.pydata.org/pandas-docs/stable/user_guide/indexing.html#returning-a-view-versus-a-copy\n",
            "  df['preds'] = 0\n",
            "/content/github_aistream-peelout_flow-forecast/flood_forecast/evaluator.py:137: SettingWithCopyWarning: \n",
            "A value is trying to be set on a copy of a slice from a DataFrame\n",
            "\n",
            "See the caveats in the documentation: https://pandas.pydata.org/pandas-docs/stable/user_guide/indexing.html#returning-a-view-versus-a-copy\n",
            "  df['preds'][history_length:] = end_tensor.numpy().tolist()\n",
            "/usr/local/lib/python3.6/dist-packages/pandas/core/series.py:1042: SettingWithCopyWarning: \n",
            "A value is trying to be set on a copy of a slice from a DataFrame\n",
            "\n",
            "See the caveats in the documentation: https://pandas.pydata.org/pandas-docs/stable/user_guide/indexing.html#returning-a-view-versus-a-copy\n",
            "  self._set_with(key, value)\n",
            "/content/github_aistream-peelout_flow-forecast/flood_forecast/evaluator.py:59: SettingWithCopyWarning: \n",
            "A value is trying to be set on a copy of a slice from a DataFrame\n",
            "\n",
            "See the caveats in the documentation: https://pandas.pydata.org/pandas-docs/stable/user_guide/indexing.html#returning-a-view-versus-a-copy\n",
            "  df, end_tensor, forecast_history, junk, test_data = infer_on_torch_model(model, **inference_params)\n"
          ],
          "name": "stderr"
        },
        {
          "output_type": "stream",
          "text": [
            "torch.Size([10])\n",
            "test_data scale\n",
            "Un-transforming data\n"
          ],
          "name": "stdout"
        },
        {
          "output_type": "stream",
          "text": [
            "/content/github_aistream-peelout_flow-forecast/flood_forecast/evaluator.py:67: SettingWithCopyWarning: \n",
            "A value is trying to be set on a copy of a slice from a DataFrame\n",
            "\n",
            "See the caveats in the documentation: https://pandas.pydata.org/pandas-docs/stable/user_guide/indexing.html#returning-a-view-versus-a-copy\n",
            "  df['preds'][history_length:] = end_tensor_list\n",
            "/content/github_aistream-peelout_flow-forecast/flood_forecast/trainer.py:30: SettingWithCopyWarning: \n",
            "A value is trying to be set on a copy of a slice from a DataFrame\n",
            "\n",
            "See the caveats in the documentation: https://pandas.pydata.org/pandas-docs/stable/user_guide/indexing.html#returning-a-view-versus-a-copy\n",
            "  test_acc = evaluate_model(trained_model, model_type, params[\"dataset_params\"][\"target_col\"], params[\"metrics\"], params[\"inference_params\"], {})\n"
          ],
          "name": "stderr"
        },
        {
          "output_type": "stream",
          "text": [
            "Current historical dataframe\n",
            "    Unnamed: 0                        name  ... original_index       preds\n",
            "89          89  Antwerp, Flanders, Belgium  ...             89    0.000000\n",
            "90          90  Antwerp, Flanders, Belgium  ...             90  155.923538\n",
            "91          91  Antwerp, Flanders, Belgium  ...             91  151.458740\n",
            "92          92  Antwerp, Flanders, Belgium  ...             92  150.204483\n",
            "93          93  Antwerp, Flanders, Belgium  ...             93  150.787048\n",
            "94          94  Antwerp, Flanders, Belgium  ...             94  152.420502\n",
            "95          95  Antwerp, Flanders, Belgium  ...             95  154.655197\n",
            "96          96  Antwerp, Flanders, Belgium  ...             96  157.233871\n",
            "97          97  Antwerp, Flanders, Belgium  ...             97  150.908249\n",
            "98          98  Antwerp, Flanders, Belgium  ...             98  148.589386\n",
            "99          99  Antwerp, Flanders, Belgium  ...             99  148.562866\n",
            "\n",
            "[11 rows x 32 columns]\n"
          ],
          "name": "stdout"
        },
        {
          "output_type": "stream",
          "text": [
            "/usr/local/lib/python3.6/dist-packages/plotly/matplotlylib/mpltools.py:368: MatplotlibDeprecationWarning:\n",
            "\n",
            "\n",
            "The is_frame_like function was deprecated in Matplotlib 3.1 and will be removed in 3.3.\n",
            "\n",
            "/usr/local/lib/python3.6/dist-packages/plotly/matplotlylib/renderer.py:410: UserWarning:\n",
            "\n",
            "Bummer! Plotly can currently only draw Line2D objects from matplotlib that are in 'data' coordinates!\n",
            "\n",
            "/usr/local/lib/python3.6/dist-packages/plotly/matplotlylib/renderer.py:512: UserWarning:\n",
            "\n",
            "I found a path object that I don't think is part of a bar chart. Ignoring.\n",
            "\n",
            "/usr/local/lib/python3.6/dist-packages/plotly/matplotlylib/mpltools.py:368: MatplotlibDeprecationWarning:\n",
            "\n",
            "\n",
            "The is_frame_like function was deprecated in Matplotlib 3.1 and will be removed in 3.3.\n",
            "\n",
            "/usr/local/lib/python3.6/dist-packages/plotly/matplotlylib/renderer.py:410: UserWarning:\n",
            "\n",
            "Bummer! Plotly can currently only draw Line2D objects from matplotlib that are in 'data' coordinates!\n",
            "\n",
            "/usr/local/lib/python3.6/dist-packages/plotly/matplotlylib/renderer.py:512: UserWarning:\n",
            "\n",
            "I found a path object that I don't think is part of a bar chart. Ignoring.\n",
            "\n"
          ],
          "name": "stderr"
        },
        {
          "output_type": "stream",
          "text": [
            "wandb: Agent Finished Run: aomxdwio \n",
            "\n",
            "wandb: Agent Starting Run: 30hdvsam with config:\n",
            "\tbatch_size: 2\n",
            "\tforecast_history: 1\n",
            "\tlr: 0.004\n",
            "\tout_seq_length: 1\n",
            "wandb: Agent Started Run: 30hdvsam\n"
          ],
          "name": "stdout"
        },
        {
          "output_type": "display_data",
          "data": {
            "text/html": [
              "\n",
              "                Logging results to <a href=\"https://wandb.com\" target=\"_blank\">Weights & Biases</a> <a href=\"https://docs.wandb.com/integrations/jupyter.html\" target=\"_blank\">(Documentation)</a>.<br/>\n",
              "                Project page: <a href=\"https://app.wandb.ai/igodfried/covid-forecast\" target=\"_blank\">https://app.wandb.ai/igodfried/covid-forecast</a><br/>\n",
              "                Sweep page: <a href=\"https://app.wandb.ai/igodfried/covid-forecast/sweeps/yw9zbqtn\" target=\"_blank\">https://app.wandb.ai/igodfried/covid-forecast/sweeps/yw9zbqtn</a><br/>\n",
              "Run page: <a href=\"https://app.wandb.ai/igodfried/covid-forecast/runs/30hdvsam\" target=\"_blank\">https://app.wandb.ai/igodfried/covid-forecast/runs/30hdvsam</a><br/>\n",
              "            "
            ],
            "text/plain": [
              "<IPython.core.display.HTML object>"
            ]
          },
          "metadata": {
            "tags": []
          }
        },
        {
          "output_type": "stream",
          "text": [
            "{'model_name': 'MultiAttnHeadSimple', 'model_type': 'PyTorch', 'model_params': {'number_time_series': 3, 'seq_len': 1, 'output_seq_len': 1, 'forecast_length': 1}, 'dataset_params': {'class': 'default', 'training_path': 'antwerp.csv', 'validation_path': 'antwerp.csv', 'test_path': 'antwerp.csv', 'batch_size': 2, 'forecast_history': 1, 'forecast_length': 1, 'train_end': 71, 'valid_start': 72, 'valid_end': 91, 'target_col': ['new_cases'], 'relevant_cols': ['new_cases', 'month', 'weekday'], 'scaler': 'StandardScaler', 'interpolate': False}, 'training_params': {'criterion': 'MSE', 'optimizer': 'Adam', 'optim_params': {}, 'lr': 0.004, 'epochs': 10, 'batch_size': 2}, 'GCS': False, 'wandb': {'name': 'multihead_pytorch_antwerp', 'tags': ['covid_run', 'circleci'], 'project': 'covid-forecast'}, 'forward_params': {}, 'metrics': ['MSE'], 'inference_params': {'datetime_start': '2020-04-21', 'hours_to_forecast': 10, 'test_csv_path': 'antwerp.csv', 'decoder_params': {'decoder_function': 'simple_decode', 'unsqueeze_dim': 1}, 'dataset_params': {'file_path': 'antwerp.csv', 'forecast_history': 1, 'forecast_length': 1, 'relevant_cols': ['new_cases', 'month', 'weekday'], 'target_col': ['new_cases'], 'scaling': 'StandardScaler', 'interpolate_param': False}}}\n",
            "interpolate should be below\n",
            "Now loading and scaling antwerp.csv\n",
            "interpolate should be below\n",
            "Now loading and scaling antwerp.csv\n",
            "interpolate should be below\n",
            "Now loading and scaling antwerp.csv\n"
          ],
          "name": "stdout"
        },
        {
          "output_type": "display_data",
          "data": {
            "text/html": [
              "\n",
              "                Logging results to <a href=\"https://wandb.com\" target=\"_blank\">Weights & Biases</a> <a href=\"https://docs.wandb.com/integrations/jupyter.html\" target=\"_blank\">(Documentation)</a>.<br/>\n",
              "                Project page: <a href=\"https://app.wandb.ai/igodfried/covid-forecast\" target=\"_blank\">https://app.wandb.ai/igodfried/covid-forecast</a><br/>\n",
              "                Run page: <a href=\"https://app.wandb.ai/igodfried/covid-forecast/runs/fvf5dvms\" target=\"_blank\">https://app.wandb.ai/igodfried/covid-forecast/runs/fvf5dvms</a><br/>\n",
              "            "
            ],
            "text/plain": [
              "<IPython.core.display.HTML object>"
            ]
          },
          "metadata": {
            "tags": []
          }
        },
        {
          "output_type": "stream",
          "text": [
            "Torch is using cpu\n",
            "The running loss is:\n",
            "11.736990986595629\n",
            "The number of items in train is: \n",
            "34\n",
            "The loss for epoch 0\n",
            "0.3452056172528126\n",
            "The running loss is:\n",
            "24.813077855855227\n",
            "The number of items in train is: \n",
            "34\n",
            "The loss for epoch 1\n",
            "0.7297964075251537\n",
            "The running loss is:\n",
            "28.300584806129336\n",
            "The number of items in train is: \n",
            "34\n",
            "The loss for epoch 2\n",
            "0.8323701413567451\n",
            "The running loss is:\n",
            "10.4155727809557\n",
            "The number of items in train is: \n",
            "34\n",
            "The loss for epoch 3\n",
            "0.30634037591046176\n",
            "The running loss is:\n",
            "11.473218071194424\n",
            "The number of items in train is: \n",
            "34\n",
            "The loss for epoch 4\n",
            "0.33744759032924776\n",
            "The running loss is:\n",
            "8.870212249457836\n",
            "The number of items in train is: \n",
            "34\n",
            "The loss for epoch 5\n",
            "0.2608885955722893\n",
            "The running loss is:\n",
            "8.28752523707226\n",
            "The number of items in train is: \n",
            "34\n",
            "The loss for epoch 6\n",
            "0.24375074226683116\n",
            "The running loss is:\n",
            "7.280146740449709\n",
            "The number of items in train is: \n",
            "34\n",
            "The loss for epoch 7\n",
            "0.2141219629544032\n",
            "The running loss is:\n",
            "12.525580656249076\n",
            "The number of items in train is: \n",
            "34\n",
            "The loss for epoch 8\n",
            "0.3683994310661493\n",
            "The running loss is:\n",
            "19.792637944687158\n",
            "The number of items in train is: \n",
            "34\n",
            "The loss for epoch 9\n",
            "0.5821364101378576\n",
            "interpolate should be below\n",
            "Now loading and scaling antwerp.csv\n",
            "CSV Path below\n",
            "antwerp.csv\n",
            "torch.Size([1, 1, 3])\n",
            "Add debugging crap below\n"
          ],
          "name": "stdout"
        },
        {
          "output_type": "stream",
          "text": [
            "/content/github_aistream-peelout_flow-forecast/flood_forecast/evaluator.py:136: SettingWithCopyWarning: \n",
            "A value is trying to be set on a copy of a slice from a DataFrame.\n",
            "Try using .loc[row_indexer,col_indexer] = value instead\n",
            "\n",
            "See the caveats in the documentation: https://pandas.pydata.org/pandas-docs/stable/user_guide/indexing.html#returning-a-view-versus-a-copy\n",
            "  df['preds'] = 0\n",
            "/content/github_aistream-peelout_flow-forecast/flood_forecast/evaluator.py:137: SettingWithCopyWarning: \n",
            "A value is trying to be set on a copy of a slice from a DataFrame\n",
            "\n",
            "See the caveats in the documentation: https://pandas.pydata.org/pandas-docs/stable/user_guide/indexing.html#returning-a-view-versus-a-copy\n",
            "  df['preds'][history_length:] = end_tensor.numpy().tolist()\n",
            "/usr/local/lib/python3.6/dist-packages/pandas/core/series.py:1042: SettingWithCopyWarning: \n",
            "A value is trying to be set on a copy of a slice from a DataFrame\n",
            "\n",
            "See the caveats in the documentation: https://pandas.pydata.org/pandas-docs/stable/user_guide/indexing.html#returning-a-view-versus-a-copy\n",
            "  self._set_with(key, value)\n",
            "/content/github_aistream-peelout_flow-forecast/flood_forecast/evaluator.py:59: SettingWithCopyWarning: \n",
            "A value is trying to be set on a copy of a slice from a DataFrame\n",
            "\n",
            "See the caveats in the documentation: https://pandas.pydata.org/pandas-docs/stable/user_guide/indexing.html#returning-a-view-versus-a-copy\n",
            "  df, end_tensor, forecast_history, junk, test_data = infer_on_torch_model(model, **inference_params)\n"
          ],
          "name": "stderr"
        },
        {
          "output_type": "stream",
          "text": [
            "torch.Size([10])\n",
            "test_data scale\n",
            "Un-transforming data\n"
          ],
          "name": "stdout"
        },
        {
          "output_type": "stream",
          "text": [
            "/content/github_aistream-peelout_flow-forecast/flood_forecast/evaluator.py:67: SettingWithCopyWarning: \n",
            "A value is trying to be set on a copy of a slice from a DataFrame\n",
            "\n",
            "See the caveats in the documentation: https://pandas.pydata.org/pandas-docs/stable/user_guide/indexing.html#returning-a-view-versus-a-copy\n",
            "  df['preds'][history_length:] = end_tensor_list\n",
            "/content/github_aistream-peelout_flow-forecast/flood_forecast/trainer.py:30: SettingWithCopyWarning: \n",
            "A value is trying to be set on a copy of a slice from a DataFrame\n",
            "\n",
            "See the caveats in the documentation: https://pandas.pydata.org/pandas-docs/stable/user_guide/indexing.html#returning-a-view-versus-a-copy\n",
            "  test_acc = evaluate_model(trained_model, model_type, params[\"dataset_params\"][\"target_col\"], params[\"metrics\"], params[\"inference_params\"], {})\n"
          ],
          "name": "stderr"
        },
        {
          "output_type": "stream",
          "text": [
            "Current historical dataframe\n",
            "    Unnamed: 0                        name  ... original_index       preds\n",
            "89          89  Antwerp, Flanders, Belgium  ...             89    0.000000\n",
            "90          90  Antwerp, Flanders, Belgium  ...             90  102.806030\n",
            "91          91  Antwerp, Flanders, Belgium  ...             91   71.026802\n",
            "92          92  Antwerp, Flanders, Belgium  ...             92   56.383720\n",
            "93          93  Antwerp, Flanders, Belgium  ...             93   51.088078\n",
            "94          94  Antwerp, Flanders, Belgium  ...             94   50.891293\n",
            "95          95  Antwerp, Flanders, Belgium  ...             95   53.475834\n",
            "96          96  Antwerp, Flanders, Belgium  ...             96   57.577534\n",
            "97          97  Antwerp, Flanders, Belgium  ...             97   43.663624\n",
            "98          98  Antwerp, Flanders, Belgium  ...             98   38.765736\n",
            "99          99  Antwerp, Flanders, Belgium  ...             99   38.785915\n",
            "\n",
            "[11 rows x 32 columns]\n"
          ],
          "name": "stdout"
        },
        {
          "output_type": "stream",
          "text": [
            "/usr/local/lib/python3.6/dist-packages/plotly/matplotlylib/mpltools.py:368: MatplotlibDeprecationWarning:\n",
            "\n",
            "\n",
            "The is_frame_like function was deprecated in Matplotlib 3.1 and will be removed in 3.3.\n",
            "\n",
            "/usr/local/lib/python3.6/dist-packages/plotly/matplotlylib/renderer.py:410: UserWarning:\n",
            "\n",
            "Bummer! Plotly can currently only draw Line2D objects from matplotlib that are in 'data' coordinates!\n",
            "\n",
            "/usr/local/lib/python3.6/dist-packages/plotly/matplotlylib/renderer.py:512: UserWarning:\n",
            "\n",
            "I found a path object that I don't think is part of a bar chart. Ignoring.\n",
            "\n",
            "/usr/local/lib/python3.6/dist-packages/plotly/matplotlylib/mpltools.py:368: MatplotlibDeprecationWarning:\n",
            "\n",
            "\n",
            "The is_frame_like function was deprecated in Matplotlib 3.1 and will be removed in 3.3.\n",
            "\n",
            "/usr/local/lib/python3.6/dist-packages/plotly/matplotlylib/renderer.py:410: UserWarning:\n",
            "\n",
            "Bummer! Plotly can currently only draw Line2D objects from matplotlib that are in 'data' coordinates!\n",
            "\n",
            "/usr/local/lib/python3.6/dist-packages/plotly/matplotlylib/renderer.py:512: UserWarning:\n",
            "\n",
            "I found a path object that I don't think is part of a bar chart. Ignoring.\n",
            "\n"
          ],
          "name": "stderr"
        },
        {
          "output_type": "stream",
          "text": [
            "wandb: Agent Finished Run: 30hdvsam \n",
            "\n",
            "wandb: Agent Starting Run: t62et1z8 with config:\n",
            "\tbatch_size: 2\n",
            "\tforecast_history: 1\n",
            "\tlr: 0.004\n",
            "\tout_seq_length: 2\n",
            "wandb: Agent Started Run: t62et1z8\n"
          ],
          "name": "stdout"
        },
        {
          "output_type": "display_data",
          "data": {
            "text/html": [
              "\n",
              "                Logging results to <a href=\"https://wandb.com\" target=\"_blank\">Weights & Biases</a> <a href=\"https://docs.wandb.com/integrations/jupyter.html\" target=\"_blank\">(Documentation)</a>.<br/>\n",
              "                Project page: <a href=\"https://app.wandb.ai/igodfried/covid-forecast\" target=\"_blank\">https://app.wandb.ai/igodfried/covid-forecast</a><br/>\n",
              "                Sweep page: <a href=\"https://app.wandb.ai/igodfried/covid-forecast/sweeps/yw9zbqtn\" target=\"_blank\">https://app.wandb.ai/igodfried/covid-forecast/sweeps/yw9zbqtn</a><br/>\n",
              "Run page: <a href=\"https://app.wandb.ai/igodfried/covid-forecast/runs/t62et1z8\" target=\"_blank\">https://app.wandb.ai/igodfried/covid-forecast/runs/t62et1z8</a><br/>\n",
              "            "
            ],
            "text/plain": [
              "<IPython.core.display.HTML object>"
            ]
          },
          "metadata": {
            "tags": []
          }
        },
        {
          "output_type": "stream",
          "text": [
            "{'model_name': 'MultiAttnHeadSimple', 'model_type': 'PyTorch', 'model_params': {'number_time_series': 3, 'seq_len': 1, 'output_seq_len': 2, 'forecast_length': 2}, 'dataset_params': {'class': 'default', 'training_path': 'antwerp.csv', 'validation_path': 'antwerp.csv', 'test_path': 'antwerp.csv', 'batch_size': 2, 'forecast_history': 1, 'forecast_length': 2, 'train_end': 71, 'valid_start': 72, 'valid_end': 91, 'target_col': ['new_cases'], 'relevant_cols': ['new_cases', 'month', 'weekday'], 'scaler': 'StandardScaler', 'interpolate': False}, 'training_params': {'criterion': 'MSE', 'optimizer': 'Adam', 'optim_params': {}, 'lr': 0.004, 'epochs': 10, 'batch_size': 2}, 'GCS': False, 'wandb': {'name': 'multihead_pytorch_antwerp', 'tags': ['covid_run', 'circleci'], 'project': 'covid-forecast'}, 'forward_params': {}, 'metrics': ['MSE'], 'inference_params': {'datetime_start': '2020-04-21', 'hours_to_forecast': 10, 'test_csv_path': 'antwerp.csv', 'decoder_params': {'decoder_function': 'simple_decode', 'unsqueeze_dim': 1}, 'dataset_params': {'file_path': 'antwerp.csv', 'forecast_history': 1, 'forecast_length': 2, 'relevant_cols': ['new_cases', 'month', 'weekday'], 'target_col': ['new_cases'], 'scaling': 'StandardScaler', 'interpolate_param': False}}}\n",
            "interpolate should be below\n",
            "Now loading and scaling antwerp.csv\n",
            "interpolate should be below\n",
            "Now loading and scaling antwerp.csv\n",
            "interpolate should be below\n",
            "Now loading and scaling antwerp.csv\n"
          ],
          "name": "stdout"
        },
        {
          "output_type": "display_data",
          "data": {
            "text/html": [
              "\n",
              "                Logging results to <a href=\"https://wandb.com\" target=\"_blank\">Weights & Biases</a> <a href=\"https://docs.wandb.com/integrations/jupyter.html\" target=\"_blank\">(Documentation)</a>.<br/>\n",
              "                Project page: <a href=\"https://app.wandb.ai/igodfried/covid-forecast\" target=\"_blank\">https://app.wandb.ai/igodfried/covid-forecast</a><br/>\n",
              "                Run page: <a href=\"https://app.wandb.ai/igodfried/covid-forecast/runs/11t5bt23\" target=\"_blank\">https://app.wandb.ai/igodfried/covid-forecast/runs/11t5bt23</a><br/>\n",
              "            "
            ],
            "text/plain": [
              "<IPython.core.display.HTML object>"
            ]
          },
          "metadata": {
            "tags": []
          }
        },
        {
          "output_type": "stream",
          "text": [
            "Torch is using cpu\n",
            "The running loss is:\n",
            "20.978312958031893\n",
            "The number of items in train is: \n",
            "34\n",
            "The loss for epoch 0\n",
            "0.6170092046479968\n",
            "The running loss is:\n",
            "39.80216880142689\n",
            "The number of items in train is: \n",
            "34\n",
            "The loss for epoch 1\n",
            "1.170652023571379\n",
            "The running loss is:\n",
            "24.19058443978429\n",
            "The number of items in train is: \n",
            "34\n",
            "The loss for epoch 2\n",
            "0.7114877776407144\n",
            "The running loss is:\n",
            "20.301503472030163\n",
            "The number of items in train is: \n",
            "34\n",
            "The loss for epoch 3\n",
            "0.5971030432950047\n",
            "The running loss is:\n",
            "18.146781336516142\n",
            "The number of items in train is: \n",
            "34\n",
            "The loss for epoch 4\n",
            "0.53372886283871\n",
            "The running loss is:\n",
            "20.873035572469234\n",
            "The number of items in train is: \n",
            "34\n",
            "The loss for epoch 5\n",
            "0.6139128109549775\n",
            "The running loss is:\n",
            "17.74494293704629\n",
            "The number of items in train is: \n",
            "34\n",
            "The loss for epoch 6\n",
            "0.5219100863837144\n",
            "The running loss is:\n",
            "18.19329888187349\n",
            "The number of items in train is: \n",
            "34\n",
            "The loss for epoch 7\n",
            "0.5350970259374556\n",
            "The running loss is:\n",
            "14.98734188452363\n",
            "The number of items in train is: \n",
            "34\n",
            "The loss for epoch 8\n",
            "0.4408041730742244\n",
            "The running loss is:\n",
            "17.561892744153738\n",
            "The number of items in train is: \n",
            "34\n",
            "The loss for epoch 9\n",
            "0.5165262571809923\n",
            "interpolate should be below\n",
            "Now loading and scaling antwerp.csv\n",
            "CSV Path below\n",
            "antwerp.csv\n",
            "torch.Size([1, 1, 3])\n",
            "Add debugging crap below\n"
          ],
          "name": "stdout"
        },
        {
          "output_type": "stream",
          "text": [
            "/content/github_aistream-peelout_flow-forecast/flood_forecast/evaluator.py:136: SettingWithCopyWarning: \n",
            "A value is trying to be set on a copy of a slice from a DataFrame.\n",
            "Try using .loc[row_indexer,col_indexer] = value instead\n",
            "\n",
            "See the caveats in the documentation: https://pandas.pydata.org/pandas-docs/stable/user_guide/indexing.html#returning-a-view-versus-a-copy\n",
            "  df['preds'] = 0\n",
            "/content/github_aistream-peelout_flow-forecast/flood_forecast/evaluator.py:137: SettingWithCopyWarning: \n",
            "A value is trying to be set on a copy of a slice from a DataFrame\n",
            "\n",
            "See the caveats in the documentation: https://pandas.pydata.org/pandas-docs/stable/user_guide/indexing.html#returning-a-view-versus-a-copy\n",
            "  df['preds'][history_length:] = end_tensor.numpy().tolist()\n",
            "/usr/local/lib/python3.6/dist-packages/pandas/core/series.py:1042: SettingWithCopyWarning: \n",
            "A value is trying to be set on a copy of a slice from a DataFrame\n",
            "\n",
            "See the caveats in the documentation: https://pandas.pydata.org/pandas-docs/stable/user_guide/indexing.html#returning-a-view-versus-a-copy\n",
            "  self._set_with(key, value)\n",
            "/content/github_aistream-peelout_flow-forecast/flood_forecast/evaluator.py:59: SettingWithCopyWarning: \n",
            "A value is trying to be set on a copy of a slice from a DataFrame\n",
            "\n",
            "See the caveats in the documentation: https://pandas.pydata.org/pandas-docs/stable/user_guide/indexing.html#returning-a-view-versus-a-copy\n",
            "  df, end_tensor, forecast_history, junk, test_data = infer_on_torch_model(model, **inference_params)\n"
          ],
          "name": "stderr"
        },
        {
          "output_type": "stream",
          "text": [
            "torch.Size([10])\n",
            "test_data scale\n",
            "Un-transforming data\n"
          ],
          "name": "stdout"
        },
        {
          "output_type": "stream",
          "text": [
            "/content/github_aistream-peelout_flow-forecast/flood_forecast/evaluator.py:67: SettingWithCopyWarning: \n",
            "A value is trying to be set on a copy of a slice from a DataFrame\n",
            "\n",
            "See the caveats in the documentation: https://pandas.pydata.org/pandas-docs/stable/user_guide/indexing.html#returning-a-view-versus-a-copy\n",
            "  df['preds'][history_length:] = end_tensor_list\n",
            "/content/github_aistream-peelout_flow-forecast/flood_forecast/trainer.py:30: SettingWithCopyWarning: \n",
            "A value is trying to be set on a copy of a slice from a DataFrame\n",
            "\n",
            "See the caveats in the documentation: https://pandas.pydata.org/pandas-docs/stable/user_guide/indexing.html#returning-a-view-versus-a-copy\n",
            "  test_acc = evaluate_model(trained_model, model_type, params[\"dataset_params\"][\"target_col\"], params[\"metrics\"], params[\"inference_params\"], {})\n"
          ],
          "name": "stderr"
        },
        {
          "output_type": "stream",
          "text": [
            "Current historical dataframe\n",
            "    Unnamed: 0                        name  ... original_index      preds\n",
            "89          89  Antwerp, Flanders, Belgium  ...             89   0.000000\n",
            "90          90  Antwerp, Flanders, Belgium  ...             90  57.193180\n",
            "91          91  Antwerp, Flanders, Belgium  ...             91  23.370998\n",
            "92          92  Antwerp, Flanders, Belgium  ...             92  14.213340\n",
            "93          93  Antwerp, Flanders, Belgium  ...             93  13.168525\n",
            "94          94  Antwerp, Flanders, Belgium  ...             94  14.792251\n",
            "95          95  Antwerp, Flanders, Belgium  ...             95  17.293728\n",
            "96          96  Antwerp, Flanders, Belgium  ...             96  20.083920\n",
            "97          97  Antwerp, Flanders, Belgium  ...             97   9.197349\n",
            "98          98  Antwerp, Flanders, Belgium  ...             98   7.583842\n",
            "99          99  Antwerp, Flanders, Belgium  ...             99   9.020511\n",
            "\n",
            "[11 rows x 32 columns]\n"
          ],
          "name": "stdout"
        },
        {
          "output_type": "stream",
          "text": [
            "/usr/local/lib/python3.6/dist-packages/plotly/matplotlylib/mpltools.py:368: MatplotlibDeprecationWarning:\n",
            "\n",
            "\n",
            "The is_frame_like function was deprecated in Matplotlib 3.1 and will be removed in 3.3.\n",
            "\n",
            "/usr/local/lib/python3.6/dist-packages/plotly/matplotlylib/renderer.py:410: UserWarning:\n",
            "\n",
            "Bummer! Plotly can currently only draw Line2D objects from matplotlib that are in 'data' coordinates!\n",
            "\n",
            "/usr/local/lib/python3.6/dist-packages/plotly/matplotlylib/renderer.py:512: UserWarning:\n",
            "\n",
            "I found a path object that I don't think is part of a bar chart. Ignoring.\n",
            "\n",
            "/usr/local/lib/python3.6/dist-packages/plotly/matplotlylib/mpltools.py:368: MatplotlibDeprecationWarning:\n",
            "\n",
            "\n",
            "The is_frame_like function was deprecated in Matplotlib 3.1 and will be removed in 3.3.\n",
            "\n",
            "/usr/local/lib/python3.6/dist-packages/plotly/matplotlylib/renderer.py:410: UserWarning:\n",
            "\n",
            "Bummer! Plotly can currently only draw Line2D objects from matplotlib that are in 'data' coordinates!\n",
            "\n",
            "/usr/local/lib/python3.6/dist-packages/plotly/matplotlylib/renderer.py:512: UserWarning:\n",
            "\n",
            "I found a path object that I don't think is part of a bar chart. Ignoring.\n",
            "\n"
          ],
          "name": "stderr"
        },
        {
          "output_type": "stream",
          "text": [
            "wandb: Agent Finished Run: t62et1z8 \n",
            "\n",
            "wandb: Agent Starting Run: 4b3oei6w with config:\n",
            "\tbatch_size: 2\n",
            "\tforecast_history: 1\n",
            "\tlr: 0.004\n",
            "\tout_seq_length: 3\n",
            "wandb: Agent Started Run: 4b3oei6w\n"
          ],
          "name": "stdout"
        },
        {
          "output_type": "display_data",
          "data": {
            "text/html": [
              "\n",
              "                Logging results to <a href=\"https://wandb.com\" target=\"_blank\">Weights & Biases</a> <a href=\"https://docs.wandb.com/integrations/jupyter.html\" target=\"_blank\">(Documentation)</a>.<br/>\n",
              "                Project page: <a href=\"https://app.wandb.ai/igodfried/covid-forecast\" target=\"_blank\">https://app.wandb.ai/igodfried/covid-forecast</a><br/>\n",
              "                Sweep page: <a href=\"https://app.wandb.ai/igodfried/covid-forecast/sweeps/yw9zbqtn\" target=\"_blank\">https://app.wandb.ai/igodfried/covid-forecast/sweeps/yw9zbqtn</a><br/>\n",
              "Run page: <a href=\"https://app.wandb.ai/igodfried/covid-forecast/runs/4b3oei6w\" target=\"_blank\">https://app.wandb.ai/igodfried/covid-forecast/runs/4b3oei6w</a><br/>\n",
              "            "
            ],
            "text/plain": [
              "<IPython.core.display.HTML object>"
            ]
          },
          "metadata": {
            "tags": []
          }
        },
        {
          "output_type": "stream",
          "text": [
            "{'model_name': 'MultiAttnHeadSimple', 'model_type': 'PyTorch', 'model_params': {'number_time_series': 3, 'seq_len': 1, 'output_seq_len': 3, 'forecast_length': 3}, 'dataset_params': {'class': 'default', 'training_path': 'antwerp.csv', 'validation_path': 'antwerp.csv', 'test_path': 'antwerp.csv', 'batch_size': 2, 'forecast_history': 1, 'forecast_length': 3, 'train_end': 71, 'valid_start': 72, 'valid_end': 91, 'target_col': ['new_cases'], 'relevant_cols': ['new_cases', 'month', 'weekday'], 'scaler': 'StandardScaler', 'interpolate': False}, 'training_params': {'criterion': 'MSE', 'optimizer': 'Adam', 'optim_params': {}, 'lr': 0.004, 'epochs': 10, 'batch_size': 2}, 'GCS': False, 'wandb': {'name': 'multihead_pytorch_antwerp', 'tags': ['covid_run', 'circleci'], 'project': 'covid-forecast'}, 'forward_params': {}, 'metrics': ['MSE'], 'inference_params': {'datetime_start': '2020-04-21', 'hours_to_forecast': 10, 'test_csv_path': 'antwerp.csv', 'decoder_params': {'decoder_function': 'simple_decode', 'unsqueeze_dim': 1}, 'dataset_params': {'file_path': 'antwerp.csv', 'forecast_history': 1, 'forecast_length': 3, 'relevant_cols': ['new_cases', 'month', 'weekday'], 'target_col': ['new_cases'], 'scaling': 'StandardScaler', 'interpolate_param': False}}}\n",
            "interpolate should be below\n",
            "Now loading and scaling antwerp.csv\n",
            "interpolate should be below\n",
            "Now loading and scaling antwerp.csv\n",
            "interpolate should be below\n",
            "Now loading and scaling antwerp.csv\n"
          ],
          "name": "stdout"
        },
        {
          "output_type": "display_data",
          "data": {
            "text/html": [
              "\n",
              "                Logging results to <a href=\"https://wandb.com\" target=\"_blank\">Weights & Biases</a> <a href=\"https://docs.wandb.com/integrations/jupyter.html\" target=\"_blank\">(Documentation)</a>.<br/>\n",
              "                Project page: <a href=\"https://app.wandb.ai/igodfried/covid-forecast\" target=\"_blank\">https://app.wandb.ai/igodfried/covid-forecast</a><br/>\n",
              "                Run page: <a href=\"https://app.wandb.ai/igodfried/covid-forecast/runs/3llx5uby\" target=\"_blank\">https://app.wandb.ai/igodfried/covid-forecast/runs/3llx5uby</a><br/>\n",
              "            "
            ],
            "text/plain": [
              "<IPython.core.display.HTML object>"
            ]
          },
          "metadata": {
            "tags": []
          }
        },
        {
          "output_type": "stream",
          "text": [
            "Torch is using cpu\n",
            "The running loss is:\n",
            "21.944805666804314\n",
            "The number of items in train is: \n",
            "33\n",
            "The loss for epoch 0\n",
            "0.6649941111152823\n",
            "The running loss is:\n",
            "39.04568848013878\n",
            "The number of items in train is: \n",
            "33\n",
            "The loss for epoch 1\n",
            "1.1832026812163265\n",
            "The running loss is:\n",
            "22.351303592324257\n",
            "The number of items in train is: \n",
            "33\n",
            "The loss for epoch 2\n",
            "0.6773122300704321\n",
            "The running loss is:\n",
            "24.924195021390915\n",
            "The number of items in train is: \n",
            "33\n",
            "The loss for epoch 3\n",
            "0.7552786370118459\n",
            "The running loss is:\n",
            "17.094573065638542\n",
            "The number of items in train is: \n",
            "33\n",
            "The loss for epoch 4\n",
            "0.5180173656254103\n",
            "The running loss is:\n",
            "22.243711099028587\n",
            "The number of items in train is: \n",
            "33\n",
            "The loss for epoch 5\n",
            "0.6740518514857148\n",
            "The running loss is:\n",
            "14.625111401081085\n",
            "The number of items in train is: \n",
            "33\n",
            "The loss for epoch 6\n",
            "0.4431851939721541\n",
            "The running loss is:\n",
            "18.527046501636505\n",
            "The number of items in train is: \n",
            "33\n",
            "The loss for epoch 7\n",
            "0.5614256515647426\n",
            "The running loss is:\n",
            "13.53986869752407\n",
            "The number of items in train is: \n",
            "33\n",
            "The loss for epoch 8\n",
            "0.41029905144012335\n",
            "The running loss is:\n",
            "13.372476078569889\n",
            "The number of items in train is: \n",
            "33\n",
            "The loss for epoch 9\n",
            "0.4052265478354512\n",
            "interpolate should be below\n",
            "Now loading and scaling antwerp.csv\n",
            "CSV Path below\n",
            "antwerp.csv\n",
            "torch.Size([1, 1, 3])\n",
            "Add debugging crap below\n"
          ],
          "name": "stdout"
        },
        {
          "output_type": "stream",
          "text": [
            "/content/github_aistream-peelout_flow-forecast/flood_forecast/evaluator.py:136: SettingWithCopyWarning: \n",
            "A value is trying to be set on a copy of a slice from a DataFrame.\n",
            "Try using .loc[row_indexer,col_indexer] = value instead\n",
            "\n",
            "See the caveats in the documentation: https://pandas.pydata.org/pandas-docs/stable/user_guide/indexing.html#returning-a-view-versus-a-copy\n",
            "  df['preds'] = 0\n",
            "/content/github_aistream-peelout_flow-forecast/flood_forecast/evaluator.py:137: SettingWithCopyWarning: \n",
            "A value is trying to be set on a copy of a slice from a DataFrame\n",
            "\n",
            "See the caveats in the documentation: https://pandas.pydata.org/pandas-docs/stable/user_guide/indexing.html#returning-a-view-versus-a-copy\n",
            "  df['preds'][history_length:] = end_tensor.numpy().tolist()\n",
            "/usr/local/lib/python3.6/dist-packages/pandas/core/series.py:1042: SettingWithCopyWarning: \n",
            "A value is trying to be set on a copy of a slice from a DataFrame\n",
            "\n",
            "See the caveats in the documentation: https://pandas.pydata.org/pandas-docs/stable/user_guide/indexing.html#returning-a-view-versus-a-copy\n",
            "  self._set_with(key, value)\n",
            "/content/github_aistream-peelout_flow-forecast/flood_forecast/evaluator.py:59: SettingWithCopyWarning: \n",
            "A value is trying to be set on a copy of a slice from a DataFrame\n",
            "\n",
            "See the caveats in the documentation: https://pandas.pydata.org/pandas-docs/stable/user_guide/indexing.html#returning-a-view-versus-a-copy\n",
            "  df, end_tensor, forecast_history, junk, test_data = infer_on_torch_model(model, **inference_params)\n"
          ],
          "name": "stderr"
        },
        {
          "output_type": "stream",
          "text": [
            "torch.Size([10])\n",
            "test_data scale\n",
            "Un-transforming data\n"
          ],
          "name": "stdout"
        },
        {
          "output_type": "stream",
          "text": [
            "/content/github_aistream-peelout_flow-forecast/flood_forecast/evaluator.py:67: SettingWithCopyWarning: \n",
            "A value is trying to be set on a copy of a slice from a DataFrame\n",
            "\n",
            "See the caveats in the documentation: https://pandas.pydata.org/pandas-docs/stable/user_guide/indexing.html#returning-a-view-versus-a-copy\n",
            "  df['preds'][history_length:] = end_tensor_list\n",
            "/content/github_aistream-peelout_flow-forecast/flood_forecast/trainer.py:30: SettingWithCopyWarning: \n",
            "A value is trying to be set on a copy of a slice from a DataFrame\n",
            "\n",
            "See the caveats in the documentation: https://pandas.pydata.org/pandas-docs/stable/user_guide/indexing.html#returning-a-view-versus-a-copy\n",
            "  test_acc = evaluate_model(trained_model, model_type, params[\"dataset_params\"][\"target_col\"], params[\"metrics\"], params[\"inference_params\"], {})\n"
          ],
          "name": "stderr"
        },
        {
          "output_type": "stream",
          "text": [
            "Current historical dataframe\n",
            "    Unnamed: 0                        name  ... original_index       preds\n",
            "89          89  Antwerp, Flanders, Belgium  ...             89    0.000000\n",
            "90          90  Antwerp, Flanders, Belgium  ...             90  155.923538\n",
            "91          91  Antwerp, Flanders, Belgium  ...             91  151.458740\n",
            "92          92  Antwerp, Flanders, Belgium  ...             92  150.204483\n",
            "93          93  Antwerp, Flanders, Belgium  ...             93  150.787048\n",
            "94          94  Antwerp, Flanders, Belgium  ...             94  152.420502\n",
            "95          95  Antwerp, Flanders, Belgium  ...             95  154.655197\n",
            "96          96  Antwerp, Flanders, Belgium  ...             96  157.233871\n",
            "97          97  Antwerp, Flanders, Belgium  ...             97  150.908249\n",
            "98          98  Antwerp, Flanders, Belgium  ...             98  148.589386\n",
            "99          99  Antwerp, Flanders, Belgium  ...             99  148.562866\n",
            "\n",
            "[11 rows x 32 columns]\n"
          ],
          "name": "stdout"
        },
        {
          "output_type": "stream",
          "text": [
            "/usr/local/lib/python3.6/dist-packages/plotly/matplotlylib/mpltools.py:368: MatplotlibDeprecationWarning:\n",
            "\n",
            "\n",
            "The is_frame_like function was deprecated in Matplotlib 3.1 and will be removed in 3.3.\n",
            "\n",
            "/usr/local/lib/python3.6/dist-packages/plotly/matplotlylib/renderer.py:410: UserWarning:\n",
            "\n",
            "Bummer! Plotly can currently only draw Line2D objects from matplotlib that are in 'data' coordinates!\n",
            "\n",
            "/usr/local/lib/python3.6/dist-packages/plotly/matplotlylib/renderer.py:512: UserWarning:\n",
            "\n",
            "I found a path object that I don't think is part of a bar chart. Ignoring.\n",
            "\n",
            "/usr/local/lib/python3.6/dist-packages/plotly/matplotlylib/mpltools.py:368: MatplotlibDeprecationWarning:\n",
            "\n",
            "\n",
            "The is_frame_like function was deprecated in Matplotlib 3.1 and will be removed in 3.3.\n",
            "\n",
            "/usr/local/lib/python3.6/dist-packages/plotly/matplotlylib/renderer.py:410: UserWarning:\n",
            "\n",
            "Bummer! Plotly can currently only draw Line2D objects from matplotlib that are in 'data' coordinates!\n",
            "\n",
            "/usr/local/lib/python3.6/dist-packages/plotly/matplotlylib/renderer.py:512: UserWarning:\n",
            "\n",
            "I found a path object that I don't think is part of a bar chart. Ignoring.\n",
            "\n"
          ],
          "name": "stderr"
        },
        {
          "output_type": "stream",
          "text": [
            "wandb: Agent Finished Run: 4b3oei6w \n",
            "\n",
            "wandb: Agent Starting Run: 5vlib7vq with config:\n",
            "\tbatch_size: 2\n",
            "\tforecast_history: 1\n",
            "\tlr: 0.01\n",
            "\tout_seq_length: 1\n",
            "wandb: Agent Started Run: 5vlib7vq\n"
          ],
          "name": "stdout"
        },
        {
          "output_type": "display_data",
          "data": {
            "text/html": [
              "\n",
              "                Logging results to <a href=\"https://wandb.com\" target=\"_blank\">Weights & Biases</a> <a href=\"https://docs.wandb.com/integrations/jupyter.html\" target=\"_blank\">(Documentation)</a>.<br/>\n",
              "                Project page: <a href=\"https://app.wandb.ai/igodfried/covid-forecast\" target=\"_blank\">https://app.wandb.ai/igodfried/covid-forecast</a><br/>\n",
              "                Sweep page: <a href=\"https://app.wandb.ai/igodfried/covid-forecast/sweeps/yw9zbqtn\" target=\"_blank\">https://app.wandb.ai/igodfried/covid-forecast/sweeps/yw9zbqtn</a><br/>\n",
              "Run page: <a href=\"https://app.wandb.ai/igodfried/covid-forecast/runs/5vlib7vq\" target=\"_blank\">https://app.wandb.ai/igodfried/covid-forecast/runs/5vlib7vq</a><br/>\n",
              "            "
            ],
            "text/plain": [
              "<IPython.core.display.HTML object>"
            ]
          },
          "metadata": {
            "tags": []
          }
        },
        {
          "output_type": "stream",
          "text": [
            "{'model_name': 'MultiAttnHeadSimple', 'model_type': 'PyTorch', 'model_params': {'number_time_series': 3, 'seq_len': 1, 'output_seq_len': 1, 'forecast_length': 1}, 'dataset_params': {'class': 'default', 'training_path': 'antwerp.csv', 'validation_path': 'antwerp.csv', 'test_path': 'antwerp.csv', 'batch_size': 2, 'forecast_history': 1, 'forecast_length': 1, 'train_end': 71, 'valid_start': 72, 'valid_end': 91, 'target_col': ['new_cases'], 'relevant_cols': ['new_cases', 'month', 'weekday'], 'scaler': 'StandardScaler', 'interpolate': False}, 'training_params': {'criterion': 'MSE', 'optimizer': 'Adam', 'optim_params': {}, 'lr': 0.01, 'epochs': 10, 'batch_size': 2}, 'GCS': False, 'wandb': {'name': 'multihead_pytorch_antwerp', 'tags': ['covid_run', 'circleci'], 'project': 'covid-forecast'}, 'forward_params': {}, 'metrics': ['MSE'], 'inference_params': {'datetime_start': '2020-04-21', 'hours_to_forecast': 10, 'test_csv_path': 'antwerp.csv', 'decoder_params': {'decoder_function': 'simple_decode', 'unsqueeze_dim': 1}, 'dataset_params': {'file_path': 'antwerp.csv', 'forecast_history': 1, 'forecast_length': 1, 'relevant_cols': ['new_cases', 'month', 'weekday'], 'target_col': ['new_cases'], 'scaling': 'StandardScaler', 'interpolate_param': False}}}\n",
            "interpolate should be below\n",
            "Now loading and scaling antwerp.csv\n",
            "interpolate should be below\n",
            "Now loading and scaling antwerp.csv\n",
            "interpolate should be below\n",
            "Now loading and scaling antwerp.csv\n"
          ],
          "name": "stdout"
        },
        {
          "output_type": "display_data",
          "data": {
            "text/html": [
              "\n",
              "                Logging results to <a href=\"https://wandb.com\" target=\"_blank\">Weights & Biases</a> <a href=\"https://docs.wandb.com/integrations/jupyter.html\" target=\"_blank\">(Documentation)</a>.<br/>\n",
              "                Project page: <a href=\"https://app.wandb.ai/igodfried/covid-forecast\" target=\"_blank\">https://app.wandb.ai/igodfried/covid-forecast</a><br/>\n",
              "                Run page: <a href=\"https://app.wandb.ai/igodfried/covid-forecast/runs/3rfyc638\" target=\"_blank\">https://app.wandb.ai/igodfried/covid-forecast/runs/3rfyc638</a><br/>\n",
              "            "
            ],
            "text/plain": [
              "<IPython.core.display.HTML object>"
            ]
          },
          "metadata": {
            "tags": []
          }
        },
        {
          "output_type": "stream",
          "text": [
            "Torch is using cpu\n",
            "The running loss is:\n",
            "11.736990986595629\n",
            "The number of items in train is: \n",
            "34\n",
            "The loss for epoch 0\n",
            "0.3452056172528126\n",
            "The running loss is:\n",
            "24.813077855855227\n",
            "The number of items in train is: \n",
            "34\n",
            "The loss for epoch 1\n",
            "0.7297964075251537\n",
            "The running loss is:\n",
            "28.300584806129336\n",
            "The number of items in train is: \n",
            "34\n",
            "The loss for epoch 2\n",
            "0.8323701413567451\n",
            "The running loss is:\n",
            "10.4155727809557\n",
            "The number of items in train is: \n",
            "34\n",
            "The loss for epoch 3\n",
            "0.30634037591046176\n",
            "The running loss is:\n",
            "11.473218071194424\n",
            "The number of items in train is: \n",
            "34\n",
            "The loss for epoch 4\n",
            "0.33744759032924776\n",
            "The running loss is:\n",
            "8.870212249457836\n",
            "The number of items in train is: \n",
            "34\n",
            "The loss for epoch 5\n",
            "0.2608885955722893\n",
            "The running loss is:\n",
            "8.28752523707226\n",
            "The number of items in train is: \n",
            "34\n",
            "The loss for epoch 6\n",
            "0.24375074226683116\n",
            "The running loss is:\n",
            "7.280146740449709\n",
            "The number of items in train is: \n",
            "34\n",
            "The loss for epoch 7\n",
            "0.2141219629544032\n",
            "The running loss is:\n",
            "12.525580656249076\n",
            "The number of items in train is: \n",
            "34\n",
            "The loss for epoch 8\n",
            "0.3683994310661493\n",
            "The running loss is:\n",
            "19.792637944687158\n",
            "The number of items in train is: \n",
            "34\n",
            "The loss for epoch 9\n",
            "0.5821364101378576\n",
            "interpolate should be below\n",
            "Now loading and scaling antwerp.csv\n",
            "CSV Path below\n",
            "antwerp.csv\n",
            "torch.Size([1, 1, 3])\n",
            "Add debugging crap below\n"
          ],
          "name": "stdout"
        },
        {
          "output_type": "stream",
          "text": [
            "/content/github_aistream-peelout_flow-forecast/flood_forecast/evaluator.py:136: SettingWithCopyWarning: \n",
            "A value is trying to be set on a copy of a slice from a DataFrame.\n",
            "Try using .loc[row_indexer,col_indexer] = value instead\n",
            "\n",
            "See the caveats in the documentation: https://pandas.pydata.org/pandas-docs/stable/user_guide/indexing.html#returning-a-view-versus-a-copy\n",
            "  df['preds'] = 0\n",
            "/content/github_aistream-peelout_flow-forecast/flood_forecast/evaluator.py:137: SettingWithCopyWarning: \n",
            "A value is trying to be set on a copy of a slice from a DataFrame\n",
            "\n",
            "See the caveats in the documentation: https://pandas.pydata.org/pandas-docs/stable/user_guide/indexing.html#returning-a-view-versus-a-copy\n",
            "  df['preds'][history_length:] = end_tensor.numpy().tolist()\n",
            "/usr/local/lib/python3.6/dist-packages/pandas/core/series.py:1042: SettingWithCopyWarning: \n",
            "A value is trying to be set on a copy of a slice from a DataFrame\n",
            "\n",
            "See the caveats in the documentation: https://pandas.pydata.org/pandas-docs/stable/user_guide/indexing.html#returning-a-view-versus-a-copy\n",
            "  self._set_with(key, value)\n",
            "/content/github_aistream-peelout_flow-forecast/flood_forecast/evaluator.py:59: SettingWithCopyWarning: \n",
            "A value is trying to be set on a copy of a slice from a DataFrame\n",
            "\n",
            "See the caveats in the documentation: https://pandas.pydata.org/pandas-docs/stable/user_guide/indexing.html#returning-a-view-versus-a-copy\n",
            "  df, end_tensor, forecast_history, junk, test_data = infer_on_torch_model(model, **inference_params)\n"
          ],
          "name": "stderr"
        },
        {
          "output_type": "stream",
          "text": [
            "torch.Size([10])\n",
            "test_data scale\n",
            "Un-transforming data\n"
          ],
          "name": "stdout"
        },
        {
          "output_type": "stream",
          "text": [
            "/content/github_aistream-peelout_flow-forecast/flood_forecast/evaluator.py:67: SettingWithCopyWarning: \n",
            "A value is trying to be set on a copy of a slice from a DataFrame\n",
            "\n",
            "See the caveats in the documentation: https://pandas.pydata.org/pandas-docs/stable/user_guide/indexing.html#returning-a-view-versus-a-copy\n",
            "  df['preds'][history_length:] = end_tensor_list\n",
            "/content/github_aistream-peelout_flow-forecast/flood_forecast/trainer.py:30: SettingWithCopyWarning: \n",
            "A value is trying to be set on a copy of a slice from a DataFrame\n",
            "\n",
            "See the caveats in the documentation: https://pandas.pydata.org/pandas-docs/stable/user_guide/indexing.html#returning-a-view-versus-a-copy\n",
            "  test_acc = evaluate_model(trained_model, model_type, params[\"dataset_params\"][\"target_col\"], params[\"metrics\"], params[\"inference_params\"], {})\n"
          ],
          "name": "stderr"
        },
        {
          "output_type": "stream",
          "text": [
            "Current historical dataframe\n",
            "    Unnamed: 0                        name  ... original_index       preds\n",
            "89          89  Antwerp, Flanders, Belgium  ...             89    0.000000\n",
            "90          90  Antwerp, Flanders, Belgium  ...             90  102.806030\n",
            "91          91  Antwerp, Flanders, Belgium  ...             91   71.026802\n",
            "92          92  Antwerp, Flanders, Belgium  ...             92   56.383720\n",
            "93          93  Antwerp, Flanders, Belgium  ...             93   51.088078\n",
            "94          94  Antwerp, Flanders, Belgium  ...             94   50.891293\n",
            "95          95  Antwerp, Flanders, Belgium  ...             95   53.475834\n",
            "96          96  Antwerp, Flanders, Belgium  ...             96   57.577534\n",
            "97          97  Antwerp, Flanders, Belgium  ...             97   43.663624\n",
            "98          98  Antwerp, Flanders, Belgium  ...             98   38.765736\n",
            "99          99  Antwerp, Flanders, Belgium  ...             99   38.785915\n",
            "\n",
            "[11 rows x 32 columns]\n"
          ],
          "name": "stdout"
        },
        {
          "output_type": "stream",
          "text": [
            "/usr/local/lib/python3.6/dist-packages/plotly/matplotlylib/mpltools.py:368: MatplotlibDeprecationWarning:\n",
            "\n",
            "\n",
            "The is_frame_like function was deprecated in Matplotlib 3.1 and will be removed in 3.3.\n",
            "\n",
            "/usr/local/lib/python3.6/dist-packages/plotly/matplotlylib/renderer.py:410: UserWarning:\n",
            "\n",
            "Bummer! Plotly can currently only draw Line2D objects from matplotlib that are in 'data' coordinates!\n",
            "\n",
            "/usr/local/lib/python3.6/dist-packages/plotly/matplotlylib/renderer.py:512: UserWarning:\n",
            "\n",
            "I found a path object that I don't think is part of a bar chart. Ignoring.\n",
            "\n",
            "/usr/local/lib/python3.6/dist-packages/plotly/matplotlylib/mpltools.py:368: MatplotlibDeprecationWarning:\n",
            "\n",
            "\n",
            "The is_frame_like function was deprecated in Matplotlib 3.1 and will be removed in 3.3.\n",
            "\n",
            "/usr/local/lib/python3.6/dist-packages/plotly/matplotlylib/renderer.py:410: UserWarning:\n",
            "\n",
            "Bummer! Plotly can currently only draw Line2D objects from matplotlib that are in 'data' coordinates!\n",
            "\n",
            "/usr/local/lib/python3.6/dist-packages/plotly/matplotlylib/renderer.py:512: UserWarning:\n",
            "\n",
            "I found a path object that I don't think is part of a bar chart. Ignoring.\n",
            "\n"
          ],
          "name": "stderr"
        },
        {
          "output_type": "stream",
          "text": [
            "wandb: Agent Finished Run: 5vlib7vq \n",
            "\n",
            "wandb: Agent Starting Run: qkoip9zi with config:\n",
            "\tbatch_size: 2\n",
            "\tforecast_history: 1\n",
            "\tlr: 0.01\n",
            "\tout_seq_length: 2\n",
            "wandb: Agent Started Run: qkoip9zi\n"
          ],
          "name": "stdout"
        },
        {
          "output_type": "display_data",
          "data": {
            "text/html": [
              "\n",
              "                Logging results to <a href=\"https://wandb.com\" target=\"_blank\">Weights & Biases</a> <a href=\"https://docs.wandb.com/integrations/jupyter.html\" target=\"_blank\">(Documentation)</a>.<br/>\n",
              "                Project page: <a href=\"https://app.wandb.ai/igodfried/covid-forecast\" target=\"_blank\">https://app.wandb.ai/igodfried/covid-forecast</a><br/>\n",
              "                Sweep page: <a href=\"https://app.wandb.ai/igodfried/covid-forecast/sweeps/yw9zbqtn\" target=\"_blank\">https://app.wandb.ai/igodfried/covid-forecast/sweeps/yw9zbqtn</a><br/>\n",
              "Run page: <a href=\"https://app.wandb.ai/igodfried/covid-forecast/runs/qkoip9zi\" target=\"_blank\">https://app.wandb.ai/igodfried/covid-forecast/runs/qkoip9zi</a><br/>\n",
              "            "
            ],
            "text/plain": [
              "<IPython.core.display.HTML object>"
            ]
          },
          "metadata": {
            "tags": []
          }
        },
        {
          "output_type": "stream",
          "text": [
            "{'model_name': 'MultiAttnHeadSimple', 'model_type': 'PyTorch', 'model_params': {'number_time_series': 3, 'seq_len': 1, 'output_seq_len': 2, 'forecast_length': 2}, 'dataset_params': {'class': 'default', 'training_path': 'antwerp.csv', 'validation_path': 'antwerp.csv', 'test_path': 'antwerp.csv', 'batch_size': 2, 'forecast_history': 1, 'forecast_length': 2, 'train_end': 71, 'valid_start': 72, 'valid_end': 91, 'target_col': ['new_cases'], 'relevant_cols': ['new_cases', 'month', 'weekday'], 'scaler': 'StandardScaler', 'interpolate': False}, 'training_params': {'criterion': 'MSE', 'optimizer': 'Adam', 'optim_params': {}, 'lr': 0.01, 'epochs': 10, 'batch_size': 2}, 'GCS': False, 'wandb': {'name': 'multihead_pytorch_antwerp', 'tags': ['covid_run', 'circleci'], 'project': 'covid-forecast'}, 'forward_params': {}, 'metrics': ['MSE'], 'inference_params': {'datetime_start': '2020-04-21', 'hours_to_forecast': 10, 'test_csv_path': 'antwerp.csv', 'decoder_params': {'decoder_function': 'simple_decode', 'unsqueeze_dim': 1}, 'dataset_params': {'file_path': 'antwerp.csv', 'forecast_history': 1, 'forecast_length': 2, 'relevant_cols': ['new_cases', 'month', 'weekday'], 'target_col': ['new_cases'], 'scaling': 'StandardScaler', 'interpolate_param': False}}}\n",
            "interpolate should be below\n",
            "Now loading and scaling antwerp.csv\n",
            "interpolate should be below\n",
            "Now loading and scaling antwerp.csv\n",
            "interpolate should be below\n",
            "Now loading and scaling antwerp.csv\n"
          ],
          "name": "stdout"
        },
        {
          "output_type": "display_data",
          "data": {
            "text/html": [
              "\n",
              "                Logging results to <a href=\"https://wandb.com\" target=\"_blank\">Weights & Biases</a> <a href=\"https://docs.wandb.com/integrations/jupyter.html\" target=\"_blank\">(Documentation)</a>.<br/>\n",
              "                Project page: <a href=\"https://app.wandb.ai/igodfried/covid-forecast\" target=\"_blank\">https://app.wandb.ai/igodfried/covid-forecast</a><br/>\n",
              "                Run page: <a href=\"https://app.wandb.ai/igodfried/covid-forecast/runs/28v9nx9o\" target=\"_blank\">https://app.wandb.ai/igodfried/covid-forecast/runs/28v9nx9o</a><br/>\n",
              "            "
            ],
            "text/plain": [
              "<IPython.core.display.HTML object>"
            ]
          },
          "metadata": {
            "tags": []
          }
        },
        {
          "output_type": "stream",
          "text": [
            "Torch is using cpu\n",
            "The running loss is:\n",
            "20.978312958031893\n",
            "The number of items in train is: \n",
            "34\n",
            "The loss for epoch 0\n",
            "0.6170092046479968\n",
            "The running loss is:\n",
            "39.80216880142689\n",
            "The number of items in train is: \n",
            "34\n",
            "The loss for epoch 1\n",
            "1.170652023571379\n",
            "The running loss is:\n",
            "24.19058443978429\n",
            "The number of items in train is: \n",
            "34\n",
            "The loss for epoch 2\n",
            "0.7114877776407144\n",
            "The running loss is:\n",
            "20.301503472030163\n",
            "The number of items in train is: \n",
            "34\n",
            "The loss for epoch 3\n",
            "0.5971030432950047\n",
            "The running loss is:\n",
            "18.146781336516142\n",
            "The number of items in train is: \n",
            "34\n",
            "The loss for epoch 4\n",
            "0.53372886283871\n",
            "The running loss is:\n",
            "20.873035572469234\n",
            "The number of items in train is: \n",
            "34\n",
            "The loss for epoch 5\n",
            "0.6139128109549775\n",
            "The running loss is:\n",
            "17.74494293704629\n",
            "The number of items in train is: \n",
            "34\n",
            "The loss for epoch 6\n",
            "0.5219100863837144\n",
            "The running loss is:\n",
            "18.19329888187349\n",
            "The number of items in train is: \n",
            "34\n",
            "The loss for epoch 7\n",
            "0.5350970259374556\n",
            "The running loss is:\n",
            "14.98734188452363\n",
            "The number of items in train is: \n",
            "34\n",
            "The loss for epoch 8\n",
            "0.4408041730742244\n",
            "The running loss is:\n",
            "17.561892744153738\n",
            "The number of items in train is: \n",
            "34\n",
            "The loss for epoch 9\n",
            "0.5165262571809923\n",
            "interpolate should be below\n",
            "Now loading and scaling antwerp.csv\n",
            "CSV Path below\n",
            "antwerp.csv\n",
            "torch.Size([1, 1, 3])\n",
            "Add debugging crap below\n"
          ],
          "name": "stdout"
        },
        {
          "output_type": "stream",
          "text": [
            "/content/github_aistream-peelout_flow-forecast/flood_forecast/evaluator.py:136: SettingWithCopyWarning: \n",
            "A value is trying to be set on a copy of a slice from a DataFrame.\n",
            "Try using .loc[row_indexer,col_indexer] = value instead\n",
            "\n",
            "See the caveats in the documentation: https://pandas.pydata.org/pandas-docs/stable/user_guide/indexing.html#returning-a-view-versus-a-copy\n",
            "  df['preds'] = 0\n",
            "/content/github_aistream-peelout_flow-forecast/flood_forecast/evaluator.py:137: SettingWithCopyWarning: \n",
            "A value is trying to be set on a copy of a slice from a DataFrame\n",
            "\n",
            "See the caveats in the documentation: https://pandas.pydata.org/pandas-docs/stable/user_guide/indexing.html#returning-a-view-versus-a-copy\n",
            "  df['preds'][history_length:] = end_tensor.numpy().tolist()\n",
            "/usr/local/lib/python3.6/dist-packages/pandas/core/series.py:1042: SettingWithCopyWarning: \n",
            "A value is trying to be set on a copy of a slice from a DataFrame\n",
            "\n",
            "See the caveats in the documentation: https://pandas.pydata.org/pandas-docs/stable/user_guide/indexing.html#returning-a-view-versus-a-copy\n",
            "  self._set_with(key, value)\n",
            "/content/github_aistream-peelout_flow-forecast/flood_forecast/evaluator.py:59: SettingWithCopyWarning: \n",
            "A value is trying to be set on a copy of a slice from a DataFrame\n",
            "\n",
            "See the caveats in the documentation: https://pandas.pydata.org/pandas-docs/stable/user_guide/indexing.html#returning-a-view-versus-a-copy\n",
            "  df, end_tensor, forecast_history, junk, test_data = infer_on_torch_model(model, **inference_params)\n"
          ],
          "name": "stderr"
        },
        {
          "output_type": "stream",
          "text": [
            "torch.Size([10])\n",
            "test_data scale\n",
            "Un-transforming data\n"
          ],
          "name": "stdout"
        },
        {
          "output_type": "stream",
          "text": [
            "/content/github_aistream-peelout_flow-forecast/flood_forecast/evaluator.py:67: SettingWithCopyWarning: \n",
            "A value is trying to be set on a copy of a slice from a DataFrame\n",
            "\n",
            "See the caveats in the documentation: https://pandas.pydata.org/pandas-docs/stable/user_guide/indexing.html#returning-a-view-versus-a-copy\n",
            "  df['preds'][history_length:] = end_tensor_list\n",
            "/content/github_aistream-peelout_flow-forecast/flood_forecast/trainer.py:30: SettingWithCopyWarning: \n",
            "A value is trying to be set on a copy of a slice from a DataFrame\n",
            "\n",
            "See the caveats in the documentation: https://pandas.pydata.org/pandas-docs/stable/user_guide/indexing.html#returning-a-view-versus-a-copy\n",
            "  test_acc = evaluate_model(trained_model, model_type, params[\"dataset_params\"][\"target_col\"], params[\"metrics\"], params[\"inference_params\"], {})\n"
          ],
          "name": "stderr"
        },
        {
          "output_type": "stream",
          "text": [
            "Current historical dataframe\n",
            "    Unnamed: 0                        name  ... original_index      preds\n",
            "89          89  Antwerp, Flanders, Belgium  ...             89   0.000000\n",
            "90          90  Antwerp, Flanders, Belgium  ...             90  57.193180\n",
            "91          91  Antwerp, Flanders, Belgium  ...             91  23.370998\n",
            "92          92  Antwerp, Flanders, Belgium  ...             92  14.213340\n",
            "93          93  Antwerp, Flanders, Belgium  ...             93  13.168525\n",
            "94          94  Antwerp, Flanders, Belgium  ...             94  14.792251\n",
            "95          95  Antwerp, Flanders, Belgium  ...             95  17.293728\n",
            "96          96  Antwerp, Flanders, Belgium  ...             96  20.083920\n",
            "97          97  Antwerp, Flanders, Belgium  ...             97   9.197349\n",
            "98          98  Antwerp, Flanders, Belgium  ...             98   7.583842\n",
            "99          99  Antwerp, Flanders, Belgium  ...             99   9.020511\n",
            "\n",
            "[11 rows x 32 columns]\n"
          ],
          "name": "stdout"
        },
        {
          "output_type": "stream",
          "text": [
            "/usr/local/lib/python3.6/dist-packages/plotly/matplotlylib/mpltools.py:368: MatplotlibDeprecationWarning:\n",
            "\n",
            "\n",
            "The is_frame_like function was deprecated in Matplotlib 3.1 and will be removed in 3.3.\n",
            "\n",
            "/usr/local/lib/python3.6/dist-packages/plotly/matplotlylib/renderer.py:410: UserWarning:\n",
            "\n",
            "Bummer! Plotly can currently only draw Line2D objects from matplotlib that are in 'data' coordinates!\n",
            "\n",
            "/usr/local/lib/python3.6/dist-packages/plotly/matplotlylib/renderer.py:512: UserWarning:\n",
            "\n",
            "I found a path object that I don't think is part of a bar chart. Ignoring.\n",
            "\n",
            "/usr/local/lib/python3.6/dist-packages/plotly/matplotlylib/mpltools.py:368: MatplotlibDeprecationWarning:\n",
            "\n",
            "\n",
            "The is_frame_like function was deprecated in Matplotlib 3.1 and will be removed in 3.3.\n",
            "\n",
            "/usr/local/lib/python3.6/dist-packages/plotly/matplotlylib/renderer.py:410: UserWarning:\n",
            "\n",
            "Bummer! Plotly can currently only draw Line2D objects from matplotlib that are in 'data' coordinates!\n",
            "\n",
            "/usr/local/lib/python3.6/dist-packages/plotly/matplotlylib/renderer.py:512: UserWarning:\n",
            "\n",
            "I found a path object that I don't think is part of a bar chart. Ignoring.\n",
            "\n"
          ],
          "name": "stderr"
        },
        {
          "output_type": "stream",
          "text": [
            "wandb: Agent Finished Run: qkoip9zi \n",
            "\n",
            "wandb: Agent Starting Run: vrtzj2tq with config:\n",
            "\tbatch_size: 2\n",
            "\tforecast_history: 1\n",
            "\tlr: 0.01\n",
            "\tout_seq_length: 3\n",
            "wandb: Agent Started Run: vrtzj2tq\n"
          ],
          "name": "stdout"
        },
        {
          "output_type": "display_data",
          "data": {
            "text/html": [
              "\n",
              "                Logging results to <a href=\"https://wandb.com\" target=\"_blank\">Weights & Biases</a> <a href=\"https://docs.wandb.com/integrations/jupyter.html\" target=\"_blank\">(Documentation)</a>.<br/>\n",
              "                Project page: <a href=\"https://app.wandb.ai/igodfried/covid-forecast\" target=\"_blank\">https://app.wandb.ai/igodfried/covid-forecast</a><br/>\n",
              "                Sweep page: <a href=\"https://app.wandb.ai/igodfried/covid-forecast/sweeps/yw9zbqtn\" target=\"_blank\">https://app.wandb.ai/igodfried/covid-forecast/sweeps/yw9zbqtn</a><br/>\n",
              "Run page: <a href=\"https://app.wandb.ai/igodfried/covid-forecast/runs/vrtzj2tq\" target=\"_blank\">https://app.wandb.ai/igodfried/covid-forecast/runs/vrtzj2tq</a><br/>\n",
              "            "
            ],
            "text/plain": [
              "<IPython.core.display.HTML object>"
            ]
          },
          "metadata": {
            "tags": []
          }
        },
        {
          "output_type": "stream",
          "text": [
            "{'model_name': 'MultiAttnHeadSimple', 'model_type': 'PyTorch', 'model_params': {'number_time_series': 3, 'seq_len': 1, 'output_seq_len': 3, 'forecast_length': 3}, 'dataset_params': {'class': 'default', 'training_path': 'antwerp.csv', 'validation_path': 'antwerp.csv', 'test_path': 'antwerp.csv', 'batch_size': 2, 'forecast_history': 1, 'forecast_length': 3, 'train_end': 71, 'valid_start': 72, 'valid_end': 91, 'target_col': ['new_cases'], 'relevant_cols': ['new_cases', 'month', 'weekday'], 'scaler': 'StandardScaler', 'interpolate': False}, 'training_params': {'criterion': 'MSE', 'optimizer': 'Adam', 'optim_params': {}, 'lr': 0.01, 'epochs': 10, 'batch_size': 2}, 'GCS': False, 'wandb': {'name': 'multihead_pytorch_antwerp', 'tags': ['covid_run', 'circleci'], 'project': 'covid-forecast'}, 'forward_params': {}, 'metrics': ['MSE'], 'inference_params': {'datetime_start': '2020-04-21', 'hours_to_forecast': 10, 'test_csv_path': 'antwerp.csv', 'decoder_params': {'decoder_function': 'simple_decode', 'unsqueeze_dim': 1}, 'dataset_params': {'file_path': 'antwerp.csv', 'forecast_history': 1, 'forecast_length': 3, 'relevant_cols': ['new_cases', 'month', 'weekday'], 'target_col': ['new_cases'], 'scaling': 'StandardScaler', 'interpolate_param': False}}}\n",
            "interpolate should be below\n",
            "Now loading and scaling antwerp.csv\n",
            "interpolate should be below\n",
            "Now loading and scaling antwerp.csv\n",
            "interpolate should be below\n",
            "Now loading and scaling antwerp.csv\n"
          ],
          "name": "stdout"
        },
        {
          "output_type": "display_data",
          "data": {
            "text/html": [
              "\n",
              "                Logging results to <a href=\"https://wandb.com\" target=\"_blank\">Weights & Biases</a> <a href=\"https://docs.wandb.com/integrations/jupyter.html\" target=\"_blank\">(Documentation)</a>.<br/>\n",
              "                Project page: <a href=\"https://app.wandb.ai/igodfried/covid-forecast\" target=\"_blank\">https://app.wandb.ai/igodfried/covid-forecast</a><br/>\n",
              "                Run page: <a href=\"https://app.wandb.ai/igodfried/covid-forecast/runs/1uqyugnb\" target=\"_blank\">https://app.wandb.ai/igodfried/covid-forecast/runs/1uqyugnb</a><br/>\n",
              "            "
            ],
            "text/plain": [
              "<IPython.core.display.HTML object>"
            ]
          },
          "metadata": {
            "tags": []
          }
        },
        {
          "output_type": "stream",
          "text": [
            "Torch is using cpu\n",
            "The running loss is:\n",
            "21.944805666804314\n",
            "The number of items in train is: \n",
            "33\n",
            "The loss for epoch 0\n",
            "0.6649941111152823\n",
            "The running loss is:\n",
            "39.04568848013878\n",
            "The number of items in train is: \n",
            "33\n",
            "The loss for epoch 1\n",
            "1.1832026812163265\n",
            "The running loss is:\n",
            "22.351303592324257\n",
            "The number of items in train is: \n",
            "33\n",
            "The loss for epoch 2\n",
            "0.6773122300704321\n",
            "The running loss is:\n",
            "24.924195021390915\n",
            "The number of items in train is: \n",
            "33\n",
            "The loss for epoch 3\n",
            "0.7552786370118459\n",
            "The running loss is:\n",
            "17.094573065638542\n",
            "The number of items in train is: \n",
            "33\n",
            "The loss for epoch 4\n",
            "0.5180173656254103\n",
            "The running loss is:\n",
            "22.243711099028587\n",
            "The number of items in train is: \n",
            "33\n",
            "The loss for epoch 5\n",
            "0.6740518514857148\n",
            "The running loss is:\n",
            "14.625111401081085\n",
            "The number of items in train is: \n",
            "33\n",
            "The loss for epoch 6\n",
            "0.4431851939721541\n",
            "The running loss is:\n",
            "18.527046501636505\n",
            "The number of items in train is: \n",
            "33\n",
            "The loss for epoch 7\n",
            "0.5614256515647426\n",
            "The running loss is:\n",
            "13.53986869752407\n",
            "The number of items in train is: \n",
            "33\n",
            "The loss for epoch 8\n",
            "0.41029905144012335\n",
            "The running loss is:\n",
            "13.372476078569889\n",
            "The number of items in train is: \n",
            "33\n",
            "The loss for epoch 9\n",
            "0.4052265478354512\n",
            "interpolate should be below\n",
            "Now loading and scaling antwerp.csv\n",
            "CSV Path below\n",
            "antwerp.csv\n",
            "torch.Size([1, 1, 3])\n",
            "Add debugging crap below\n"
          ],
          "name": "stdout"
        },
        {
          "output_type": "stream",
          "text": [
            "/content/github_aistream-peelout_flow-forecast/flood_forecast/evaluator.py:136: SettingWithCopyWarning: \n",
            "A value is trying to be set on a copy of a slice from a DataFrame.\n",
            "Try using .loc[row_indexer,col_indexer] = value instead\n",
            "\n",
            "See the caveats in the documentation: https://pandas.pydata.org/pandas-docs/stable/user_guide/indexing.html#returning-a-view-versus-a-copy\n",
            "  df['preds'] = 0\n",
            "/content/github_aistream-peelout_flow-forecast/flood_forecast/evaluator.py:137: SettingWithCopyWarning: \n",
            "A value is trying to be set on a copy of a slice from a DataFrame\n",
            "\n",
            "See the caveats in the documentation: https://pandas.pydata.org/pandas-docs/stable/user_guide/indexing.html#returning-a-view-versus-a-copy\n",
            "  df['preds'][history_length:] = end_tensor.numpy().tolist()\n",
            "/usr/local/lib/python3.6/dist-packages/pandas/core/series.py:1042: SettingWithCopyWarning: \n",
            "A value is trying to be set on a copy of a slice from a DataFrame\n",
            "\n",
            "See the caveats in the documentation: https://pandas.pydata.org/pandas-docs/stable/user_guide/indexing.html#returning-a-view-versus-a-copy\n",
            "  self._set_with(key, value)\n",
            "/content/github_aistream-peelout_flow-forecast/flood_forecast/evaluator.py:59: SettingWithCopyWarning: \n",
            "A value is trying to be set on a copy of a slice from a DataFrame\n",
            "\n",
            "See the caveats in the documentation: https://pandas.pydata.org/pandas-docs/stable/user_guide/indexing.html#returning-a-view-versus-a-copy\n",
            "  df, end_tensor, forecast_history, junk, test_data = infer_on_torch_model(model, **inference_params)\n"
          ],
          "name": "stderr"
        },
        {
          "output_type": "stream",
          "text": [
            "torch.Size([10])\n",
            "test_data scale\n",
            "Un-transforming data\n"
          ],
          "name": "stdout"
        },
        {
          "output_type": "stream",
          "text": [
            "/content/github_aistream-peelout_flow-forecast/flood_forecast/evaluator.py:67: SettingWithCopyWarning: \n",
            "A value is trying to be set on a copy of a slice from a DataFrame\n",
            "\n",
            "See the caveats in the documentation: https://pandas.pydata.org/pandas-docs/stable/user_guide/indexing.html#returning-a-view-versus-a-copy\n",
            "  df['preds'][history_length:] = end_tensor_list\n",
            "/content/github_aistream-peelout_flow-forecast/flood_forecast/trainer.py:30: SettingWithCopyWarning: \n",
            "A value is trying to be set on a copy of a slice from a DataFrame\n",
            "\n",
            "See the caveats in the documentation: https://pandas.pydata.org/pandas-docs/stable/user_guide/indexing.html#returning-a-view-versus-a-copy\n",
            "  test_acc = evaluate_model(trained_model, model_type, params[\"dataset_params\"][\"target_col\"], params[\"metrics\"], params[\"inference_params\"], {})\n"
          ],
          "name": "stderr"
        },
        {
          "output_type": "stream",
          "text": [
            "Current historical dataframe\n",
            "    Unnamed: 0                        name  ... original_index       preds\n",
            "89          89  Antwerp, Flanders, Belgium  ...             89    0.000000\n",
            "90          90  Antwerp, Flanders, Belgium  ...             90  155.923538\n",
            "91          91  Antwerp, Flanders, Belgium  ...             91  151.458740\n",
            "92          92  Antwerp, Flanders, Belgium  ...             92  150.204483\n",
            "93          93  Antwerp, Flanders, Belgium  ...             93  150.787048\n",
            "94          94  Antwerp, Flanders, Belgium  ...             94  152.420502\n",
            "95          95  Antwerp, Flanders, Belgium  ...             95  154.655197\n",
            "96          96  Antwerp, Flanders, Belgium  ...             96  157.233871\n",
            "97          97  Antwerp, Flanders, Belgium  ...             97  150.908249\n",
            "98          98  Antwerp, Flanders, Belgium  ...             98  148.589386\n",
            "99          99  Antwerp, Flanders, Belgium  ...             99  148.562866\n",
            "\n",
            "[11 rows x 32 columns]\n"
          ],
          "name": "stdout"
        },
        {
          "output_type": "stream",
          "text": [
            "/usr/local/lib/python3.6/dist-packages/plotly/matplotlylib/mpltools.py:368: MatplotlibDeprecationWarning:\n",
            "\n",
            "\n",
            "The is_frame_like function was deprecated in Matplotlib 3.1 and will be removed in 3.3.\n",
            "\n",
            "/usr/local/lib/python3.6/dist-packages/plotly/matplotlylib/renderer.py:410: UserWarning:\n",
            "\n",
            "Bummer! Plotly can currently only draw Line2D objects from matplotlib that are in 'data' coordinates!\n",
            "\n",
            "/usr/local/lib/python3.6/dist-packages/plotly/matplotlylib/renderer.py:512: UserWarning:\n",
            "\n",
            "I found a path object that I don't think is part of a bar chart. Ignoring.\n",
            "\n",
            "/usr/local/lib/python3.6/dist-packages/plotly/matplotlylib/mpltools.py:368: MatplotlibDeprecationWarning:\n",
            "\n",
            "\n",
            "The is_frame_like function was deprecated in Matplotlib 3.1 and will be removed in 3.3.\n",
            "\n",
            "/usr/local/lib/python3.6/dist-packages/plotly/matplotlylib/renderer.py:410: UserWarning:\n",
            "\n",
            "Bummer! Plotly can currently only draw Line2D objects from matplotlib that are in 'data' coordinates!\n",
            "\n",
            "/usr/local/lib/python3.6/dist-packages/plotly/matplotlylib/renderer.py:512: UserWarning:\n",
            "\n",
            "I found a path object that I don't think is part of a bar chart. Ignoring.\n",
            "\n"
          ],
          "name": "stderr"
        },
        {
          "output_type": "stream",
          "text": [
            "wandb: Agent Finished Run: vrtzj2tq \n",
            "\n",
            "wandb: Agent Starting Run: 0n6zfk4d with config:\n",
            "\tbatch_size: 2\n",
            "\tforecast_history: 2\n",
            "\tlr: 0.001\n",
            "\tout_seq_length: 1\n",
            "wandb: Agent Started Run: 0n6zfk4d\n"
          ],
          "name": "stdout"
        },
        {
          "output_type": "display_data",
          "data": {
            "text/html": [
              "\n",
              "                Logging results to <a href=\"https://wandb.com\" target=\"_blank\">Weights & Biases</a> <a href=\"https://docs.wandb.com/integrations/jupyter.html\" target=\"_blank\">(Documentation)</a>.<br/>\n",
              "                Project page: <a href=\"https://app.wandb.ai/igodfried/covid-forecast\" target=\"_blank\">https://app.wandb.ai/igodfried/covid-forecast</a><br/>\n",
              "                Sweep page: <a href=\"https://app.wandb.ai/igodfried/covid-forecast/sweeps/yw9zbqtn\" target=\"_blank\">https://app.wandb.ai/igodfried/covid-forecast/sweeps/yw9zbqtn</a><br/>\n",
              "Run page: <a href=\"https://app.wandb.ai/igodfried/covid-forecast/runs/0n6zfk4d\" target=\"_blank\">https://app.wandb.ai/igodfried/covid-forecast/runs/0n6zfk4d</a><br/>\n",
              "            "
            ],
            "text/plain": [
              "<IPython.core.display.HTML object>"
            ]
          },
          "metadata": {
            "tags": []
          }
        },
        {
          "output_type": "stream",
          "text": [
            "{'model_name': 'MultiAttnHeadSimple', 'model_type': 'PyTorch', 'model_params': {'number_time_series': 3, 'seq_len': 2, 'output_seq_len': 1, 'forecast_length': 1}, 'dataset_params': {'class': 'default', 'training_path': 'antwerp.csv', 'validation_path': 'antwerp.csv', 'test_path': 'antwerp.csv', 'batch_size': 2, 'forecast_history': 2, 'forecast_length': 1, 'train_end': 71, 'valid_start': 72, 'valid_end': 91, 'target_col': ['new_cases'], 'relevant_cols': ['new_cases', 'month', 'weekday'], 'scaler': 'StandardScaler', 'interpolate': False}, 'training_params': {'criterion': 'MSE', 'optimizer': 'Adam', 'optim_params': {}, 'lr': 0.001, 'epochs': 10, 'batch_size': 2}, 'GCS': False, 'wandb': {'name': 'multihead_pytorch_antwerp', 'tags': ['covid_run', 'circleci'], 'project': 'covid-forecast'}, 'forward_params': {}, 'metrics': ['MSE'], 'inference_params': {'datetime_start': '2020-04-21', 'hours_to_forecast': 10, 'test_csv_path': 'antwerp.csv', 'decoder_params': {'decoder_function': 'simple_decode', 'unsqueeze_dim': 1}, 'dataset_params': {'file_path': 'antwerp.csv', 'forecast_history': 2, 'forecast_length': 1, 'relevant_cols': ['new_cases', 'month', 'weekday'], 'target_col': ['new_cases'], 'scaling': 'StandardScaler', 'interpolate_param': False}}}\n",
            "interpolate should be below\n",
            "Now loading and scaling antwerp.csv\n",
            "interpolate should be below\n",
            "Now loading and scaling antwerp.csv\n",
            "interpolate should be below\n",
            "Now loading and scaling antwerp.csv\n"
          ],
          "name": "stdout"
        },
        {
          "output_type": "display_data",
          "data": {
            "text/html": [
              "\n",
              "                Logging results to <a href=\"https://wandb.com\" target=\"_blank\">Weights & Biases</a> <a href=\"https://docs.wandb.com/integrations/jupyter.html\" target=\"_blank\">(Documentation)</a>.<br/>\n",
              "                Project page: <a href=\"https://app.wandb.ai/igodfried/covid-forecast\" target=\"_blank\">https://app.wandb.ai/igodfried/covid-forecast</a><br/>\n",
              "                Run page: <a href=\"https://app.wandb.ai/igodfried/covid-forecast/runs/1whznqjw\" target=\"_blank\">https://app.wandb.ai/igodfried/covid-forecast/runs/1whznqjw</a><br/>\n",
              "            "
            ],
            "text/plain": [
              "<IPython.core.display.HTML object>"
            ]
          },
          "metadata": {
            "tags": []
          }
        },
        {
          "output_type": "stream",
          "text": [
            "Torch is using cpu\n",
            "The running loss is:\n",
            "7.926211021491326\n",
            "The number of items in train is: \n",
            "34\n",
            "The loss for epoch 0\n",
            "0.2331238535732743\n",
            "The running loss is:\n",
            "45.07759717758745\n",
            "The number of items in train is: \n",
            "34\n",
            "The loss for epoch 1\n",
            "1.3258116816937484\n",
            "The running loss is:\n",
            "17.52304550539702\n",
            "The number of items in train is: \n",
            "34\n",
            "The loss for epoch 2\n",
            "0.5153836913352066\n",
            "The running loss is:\n",
            "19.223857637960464\n",
            "The number of items in train is: \n",
            "34\n",
            "The loss for epoch 3\n",
            "0.5654075775870725\n",
            "The running loss is:\n",
            "17.085357565616505\n",
            "The number of items in train is: \n",
            "34\n",
            "The loss for epoch 4\n",
            "0.5025105166357795\n",
            "The running loss is:\n",
            "26.338379439665005\n",
            "The number of items in train is: \n",
            "34\n",
            "The loss for epoch 5\n",
            "0.7746582188136766\n",
            "The running loss is:\n",
            "12.023202999029309\n",
            "The number of items in train is: \n",
            "34\n",
            "The loss for epoch 6\n",
            "0.3536236176185091\n",
            "The running loss is:\n",
            "10.84097226295853\n",
            "The number of items in train is: \n",
            "34\n",
            "The loss for epoch 7\n",
            "0.3188521253811332\n",
            "The running loss is:\n",
            "9.669757608440705\n",
            "The number of items in train is: \n",
            "34\n",
            "The loss for epoch 8\n",
            "0.28440463554237366\n",
            "The running loss is:\n",
            "7.7529250888037495\n",
            "The number of items in train is: \n",
            "34\n",
            "The loss for epoch 9\n",
            "0.22802720849422792\n",
            "interpolate should be below\n",
            "Now loading and scaling antwerp.csv\n",
            "CSV Path below\n",
            "antwerp.csv\n",
            "torch.Size([1, 2, 3])\n",
            "Add debugging crap below\n"
          ],
          "name": "stdout"
        },
        {
          "output_type": "stream",
          "text": [
            "/content/github_aistream-peelout_flow-forecast/flood_forecast/evaluator.py:136: SettingWithCopyWarning: \n",
            "A value is trying to be set on a copy of a slice from a DataFrame.\n",
            "Try using .loc[row_indexer,col_indexer] = value instead\n",
            "\n",
            "See the caveats in the documentation: https://pandas.pydata.org/pandas-docs/stable/user_guide/indexing.html#returning-a-view-versus-a-copy\n",
            "  df['preds'] = 0\n",
            "/content/github_aistream-peelout_flow-forecast/flood_forecast/evaluator.py:137: SettingWithCopyWarning: \n",
            "A value is trying to be set on a copy of a slice from a DataFrame\n",
            "\n",
            "See the caveats in the documentation: https://pandas.pydata.org/pandas-docs/stable/user_guide/indexing.html#returning-a-view-versus-a-copy\n",
            "  df['preds'][history_length:] = end_tensor.numpy().tolist()\n",
            "/usr/local/lib/python3.6/dist-packages/pandas/core/series.py:1042: SettingWithCopyWarning: \n",
            "A value is trying to be set on a copy of a slice from a DataFrame\n",
            "\n",
            "See the caveats in the documentation: https://pandas.pydata.org/pandas-docs/stable/user_guide/indexing.html#returning-a-view-versus-a-copy\n",
            "  self._set_with(key, value)\n",
            "/content/github_aistream-peelout_flow-forecast/flood_forecast/evaluator.py:59: SettingWithCopyWarning: \n",
            "A value is trying to be set on a copy of a slice from a DataFrame\n",
            "\n",
            "See the caveats in the documentation: https://pandas.pydata.org/pandas-docs/stable/user_guide/indexing.html#returning-a-view-versus-a-copy\n",
            "  df, end_tensor, forecast_history, junk, test_data = infer_on_torch_model(model, **inference_params)\n"
          ],
          "name": "stderr"
        },
        {
          "output_type": "stream",
          "text": [
            "torch.Size([10])\n",
            "test_data scale\n",
            "Un-transforming data\n"
          ],
          "name": "stdout"
        },
        {
          "output_type": "stream",
          "text": [
            "/content/github_aistream-peelout_flow-forecast/flood_forecast/evaluator.py:67: SettingWithCopyWarning: \n",
            "A value is trying to be set on a copy of a slice from a DataFrame\n",
            "\n",
            "See the caveats in the documentation: https://pandas.pydata.org/pandas-docs/stable/user_guide/indexing.html#returning-a-view-versus-a-copy\n",
            "  df['preds'][history_length:] = end_tensor_list\n",
            "/content/github_aistream-peelout_flow-forecast/flood_forecast/trainer.py:30: SettingWithCopyWarning: \n",
            "A value is trying to be set on a copy of a slice from a DataFrame\n",
            "\n",
            "See the caveats in the documentation: https://pandas.pydata.org/pandas-docs/stable/user_guide/indexing.html#returning-a-view-versus-a-copy\n",
            "  test_acc = evaluate_model(trained_model, model_type, params[\"dataset_params\"][\"target_col\"], params[\"metrics\"], params[\"inference_params\"], {})\n"
          ],
          "name": "stderr"
        },
        {
          "output_type": "stream",
          "text": [
            "Current historical dataframe\n",
            "    Unnamed: 0                        name  ... original_index       preds\n",
            "88          88  Antwerp, Flanders, Belgium  ...             88    0.000000\n",
            "89          89  Antwerp, Flanders, Belgium  ...             89    0.000000\n",
            "90          90  Antwerp, Flanders, Belgium  ...             90  157.648819\n",
            "91          91  Antwerp, Flanders, Belgium  ...             91  163.518372\n",
            "92          92  Antwerp, Flanders, Belgium  ...             92  164.045349\n",
            "93          93  Antwerp, Flanders, Belgium  ...             93  172.106415\n",
            "94          94  Antwerp, Flanders, Belgium  ...             94  178.464401\n",
            "95          95  Antwerp, Flanders, Belgium  ...             95  189.383789\n",
            "96          96  Antwerp, Flanders, Belgium  ...             96  200.001709\n",
            "97          97  Antwerp, Flanders, Belgium  ...             97  199.110626\n",
            "98          98  Antwerp, Flanders, Belgium  ...             98  195.757309\n",
            "99          99  Antwerp, Flanders, Belgium  ...             99  198.477951\n",
            "\n",
            "[12 rows x 32 columns]\n"
          ],
          "name": "stdout"
        },
        {
          "output_type": "stream",
          "text": [
            "/usr/local/lib/python3.6/dist-packages/plotly/matplotlylib/mpltools.py:368: MatplotlibDeprecationWarning:\n",
            "\n",
            "\n",
            "The is_frame_like function was deprecated in Matplotlib 3.1 and will be removed in 3.3.\n",
            "\n",
            "/usr/local/lib/python3.6/dist-packages/plotly/matplotlylib/renderer.py:410: UserWarning:\n",
            "\n",
            "Bummer! Plotly can currently only draw Line2D objects from matplotlib that are in 'data' coordinates!\n",
            "\n",
            "/usr/local/lib/python3.6/dist-packages/plotly/matplotlylib/renderer.py:512: UserWarning:\n",
            "\n",
            "I found a path object that I don't think is part of a bar chart. Ignoring.\n",
            "\n",
            "/usr/local/lib/python3.6/dist-packages/plotly/matplotlylib/mpltools.py:368: MatplotlibDeprecationWarning:\n",
            "\n",
            "\n",
            "The is_frame_like function was deprecated in Matplotlib 3.1 and will be removed in 3.3.\n",
            "\n",
            "/usr/local/lib/python3.6/dist-packages/plotly/matplotlylib/renderer.py:410: UserWarning:\n",
            "\n",
            "Bummer! Plotly can currently only draw Line2D objects from matplotlib that are in 'data' coordinates!\n",
            "\n",
            "/usr/local/lib/python3.6/dist-packages/plotly/matplotlylib/renderer.py:512: UserWarning:\n",
            "\n",
            "I found a path object that I don't think is part of a bar chart. Ignoring.\n",
            "\n"
          ],
          "name": "stderr"
        },
        {
          "output_type": "stream",
          "text": [
            "wandb: Agent Finished Run: 0n6zfk4d \n",
            "\n",
            "wandb: Agent Starting Run: rukyahky with config:\n",
            "\tbatch_size: 2\n",
            "\tforecast_history: 2\n",
            "\tlr: 0.001\n",
            "\tout_seq_length: 2\n",
            "wandb: Agent Started Run: rukyahky\n"
          ],
          "name": "stdout"
        },
        {
          "output_type": "display_data",
          "data": {
            "text/html": [
              "\n",
              "                Logging results to <a href=\"https://wandb.com\" target=\"_blank\">Weights & Biases</a> <a href=\"https://docs.wandb.com/integrations/jupyter.html\" target=\"_blank\">(Documentation)</a>.<br/>\n",
              "                Project page: <a href=\"https://app.wandb.ai/igodfried/covid-forecast\" target=\"_blank\">https://app.wandb.ai/igodfried/covid-forecast</a><br/>\n",
              "                Sweep page: <a href=\"https://app.wandb.ai/igodfried/covid-forecast/sweeps/yw9zbqtn\" target=\"_blank\">https://app.wandb.ai/igodfried/covid-forecast/sweeps/yw9zbqtn</a><br/>\n",
              "Run page: <a href=\"https://app.wandb.ai/igodfried/covid-forecast/runs/rukyahky\" target=\"_blank\">https://app.wandb.ai/igodfried/covid-forecast/runs/rukyahky</a><br/>\n",
              "            "
            ],
            "text/plain": [
              "<IPython.core.display.HTML object>"
            ]
          },
          "metadata": {
            "tags": []
          }
        },
        {
          "output_type": "stream",
          "text": [
            "{'model_name': 'MultiAttnHeadSimple', 'model_type': 'PyTorch', 'model_params': {'number_time_series': 3, 'seq_len': 2, 'output_seq_len': 2, 'forecast_length': 2}, 'dataset_params': {'class': 'default', 'training_path': 'antwerp.csv', 'validation_path': 'antwerp.csv', 'test_path': 'antwerp.csv', 'batch_size': 2, 'forecast_history': 2, 'forecast_length': 2, 'train_end': 71, 'valid_start': 72, 'valid_end': 91, 'target_col': ['new_cases'], 'relevant_cols': ['new_cases', 'month', 'weekday'], 'scaler': 'StandardScaler', 'interpolate': False}, 'training_params': {'criterion': 'MSE', 'optimizer': 'Adam', 'optim_params': {}, 'lr': 0.001, 'epochs': 10, 'batch_size': 2}, 'GCS': False, 'wandb': {'name': 'multihead_pytorch_antwerp', 'tags': ['covid_run', 'circleci'], 'project': 'covid-forecast'}, 'forward_params': {}, 'metrics': ['MSE'], 'inference_params': {'datetime_start': '2020-04-21', 'hours_to_forecast': 10, 'test_csv_path': 'antwerp.csv', 'decoder_params': {'decoder_function': 'simple_decode', 'unsqueeze_dim': 1}, 'dataset_params': {'file_path': 'antwerp.csv', 'forecast_history': 2, 'forecast_length': 2, 'relevant_cols': ['new_cases', 'month', 'weekday'], 'target_col': ['new_cases'], 'scaling': 'StandardScaler', 'interpolate_param': False}}}\n",
            "interpolate should be below\n",
            "Now loading and scaling antwerp.csv\n",
            "interpolate should be below\n",
            "Now loading and scaling antwerp.csv\n",
            "interpolate should be below\n",
            "Now loading and scaling antwerp.csv\n"
          ],
          "name": "stdout"
        },
        {
          "output_type": "display_data",
          "data": {
            "text/html": [
              "\n",
              "                Logging results to <a href=\"https://wandb.com\" target=\"_blank\">Weights & Biases</a> <a href=\"https://docs.wandb.com/integrations/jupyter.html\" target=\"_blank\">(Documentation)</a>.<br/>\n",
              "                Project page: <a href=\"https://app.wandb.ai/igodfried/covid-forecast\" target=\"_blank\">https://app.wandb.ai/igodfried/covid-forecast</a><br/>\n",
              "                Run page: <a href=\"https://app.wandb.ai/igodfried/covid-forecast/runs/qffmxv23\" target=\"_blank\">https://app.wandb.ai/igodfried/covid-forecast/runs/qffmxv23</a><br/>\n",
              "            "
            ],
            "text/plain": [
              "<IPython.core.display.HTML object>"
            ]
          },
          "metadata": {
            "tags": []
          }
        },
        {
          "output_type": "stream",
          "text": [
            "Torch is using cpu\n",
            "The running loss is:\n",
            "21.949298333376646\n",
            "The number of items in train is: \n",
            "33\n",
            "The loss for epoch 0\n",
            "0.665130252526565\n",
            "The running loss is:\n",
            "28.23917729780078\n",
            "The number of items in train is: \n",
            "33\n",
            "The loss for epoch 1\n",
            "0.8557326453879024\n",
            "The running loss is:\n",
            "20.276927853934467\n",
            "The number of items in train is: \n",
            "33\n",
            "The loss for epoch 2\n",
            "0.6144523592101354\n",
            "The running loss is:\n",
            "22.451173399109393\n",
            "The number of items in train is: \n",
            "33\n",
            "The loss for epoch 3\n",
            "0.6803385878517998\n",
            "The running loss is:\n",
            "18.38559128716588\n",
            "The number of items in train is: \n",
            "33\n",
            "The loss for epoch 4\n",
            "0.5571391299141176\n",
            "The running loss is:\n",
            "22.97731645638123\n",
            "The number of items in train is: \n",
            "33\n",
            "The loss for epoch 5\n",
            "0.6962823168600373\n",
            "The running loss is:\n",
            "15.07943250075914\n",
            "The number of items in train is: \n",
            "33\n",
            "The loss for epoch 6\n",
            "0.45695250002300425\n",
            "The running loss is:\n",
            "19.21207500435412\n",
            "The number of items in train is: \n",
            "33\n",
            "The loss for epoch 7\n",
            "0.582184091041034\n",
            "The running loss is:\n",
            "15.169635845348239\n",
            "The number of items in train is: \n",
            "33\n",
            "The loss for epoch 8\n",
            "0.4596859347075224\n",
            "The running loss is:\n",
            "18.277867312077433\n",
            "The number of items in train is: \n",
            "33\n",
            "The loss for epoch 9\n",
            "0.5538747670326495\n",
            "interpolate should be below\n",
            "Now loading and scaling antwerp.csv\n",
            "CSV Path below\n",
            "antwerp.csv\n",
            "torch.Size([1, 2, 3])\n",
            "Add debugging crap below\n"
          ],
          "name": "stdout"
        },
        {
          "output_type": "stream",
          "text": [
            "/content/github_aistream-peelout_flow-forecast/flood_forecast/evaluator.py:136: SettingWithCopyWarning: \n",
            "A value is trying to be set on a copy of a slice from a DataFrame.\n",
            "Try using .loc[row_indexer,col_indexer] = value instead\n",
            "\n",
            "See the caveats in the documentation: https://pandas.pydata.org/pandas-docs/stable/user_guide/indexing.html#returning-a-view-versus-a-copy\n",
            "  df['preds'] = 0\n",
            "/content/github_aistream-peelout_flow-forecast/flood_forecast/evaluator.py:137: SettingWithCopyWarning: \n",
            "A value is trying to be set on a copy of a slice from a DataFrame\n",
            "\n",
            "See the caveats in the documentation: https://pandas.pydata.org/pandas-docs/stable/user_guide/indexing.html#returning-a-view-versus-a-copy\n",
            "  df['preds'][history_length:] = end_tensor.numpy().tolist()\n",
            "/usr/local/lib/python3.6/dist-packages/pandas/core/series.py:1042: SettingWithCopyWarning: \n",
            "A value is trying to be set on a copy of a slice from a DataFrame\n",
            "\n",
            "See the caveats in the documentation: https://pandas.pydata.org/pandas-docs/stable/user_guide/indexing.html#returning-a-view-versus-a-copy\n",
            "  self._set_with(key, value)\n",
            "/content/github_aistream-peelout_flow-forecast/flood_forecast/evaluator.py:59: SettingWithCopyWarning: \n",
            "A value is trying to be set on a copy of a slice from a DataFrame\n",
            "\n",
            "See the caveats in the documentation: https://pandas.pydata.org/pandas-docs/stable/user_guide/indexing.html#returning-a-view-versus-a-copy\n",
            "  df, end_tensor, forecast_history, junk, test_data = infer_on_torch_model(model, **inference_params)\n"
          ],
          "name": "stderr"
        },
        {
          "output_type": "stream",
          "text": [
            "torch.Size([10])\n",
            "test_data scale\n",
            "Un-transforming data\n"
          ],
          "name": "stdout"
        },
        {
          "output_type": "stream",
          "text": [
            "/content/github_aistream-peelout_flow-forecast/flood_forecast/evaluator.py:67: SettingWithCopyWarning: \n",
            "A value is trying to be set on a copy of a slice from a DataFrame\n",
            "\n",
            "See the caveats in the documentation: https://pandas.pydata.org/pandas-docs/stable/user_guide/indexing.html#returning-a-view-versus-a-copy\n",
            "  df['preds'][history_length:] = end_tensor_list\n",
            "/content/github_aistream-peelout_flow-forecast/flood_forecast/trainer.py:30: SettingWithCopyWarning: \n",
            "A value is trying to be set on a copy of a slice from a DataFrame\n",
            "\n",
            "See the caveats in the documentation: https://pandas.pydata.org/pandas-docs/stable/user_guide/indexing.html#returning-a-view-versus-a-copy\n",
            "  test_acc = evaluate_model(trained_model, model_type, params[\"dataset_params\"][\"target_col\"], params[\"metrics\"], params[\"inference_params\"], {})\n"
          ],
          "name": "stderr"
        },
        {
          "output_type": "stream",
          "text": [
            "Current historical dataframe\n",
            "    Unnamed: 0                        name  ... original_index      preds\n",
            "88          88  Antwerp, Flanders, Belgium  ...             88   0.000000\n",
            "89          89  Antwerp, Flanders, Belgium  ...             89   0.000000\n",
            "90          90  Antwerp, Flanders, Belgium  ...             90  85.166397\n",
            "91          91  Antwerp, Flanders, Belgium  ...             91  92.528320\n",
            "92          92  Antwerp, Flanders, Belgium  ...             92  80.694923\n",
            "93          93  Antwerp, Flanders, Belgium  ...             93  80.634438\n",
            "94          94  Antwerp, Flanders, Belgium  ...             94  77.969078\n",
            "95          95  Antwerp, Flanders, Belgium  ...             95  78.311951\n",
            "96          96  Antwerp, Flanders, Belgium  ...             96  78.250671\n",
            "97          97  Antwerp, Flanders, Belgium  ...             97  72.981339\n",
            "98          98  Antwerp, Flanders, Belgium  ...             98  72.524170\n",
            "99          99  Antwerp, Flanders, Belgium  ...             99  71.966652\n",
            "\n",
            "[12 rows x 32 columns]\n"
          ],
          "name": "stdout"
        },
        {
          "output_type": "stream",
          "text": [
            "/usr/local/lib/python3.6/dist-packages/plotly/matplotlylib/mpltools.py:368: MatplotlibDeprecationWarning:\n",
            "\n",
            "\n",
            "The is_frame_like function was deprecated in Matplotlib 3.1 and will be removed in 3.3.\n",
            "\n",
            "/usr/local/lib/python3.6/dist-packages/plotly/matplotlylib/renderer.py:410: UserWarning:\n",
            "\n",
            "Bummer! Plotly can currently only draw Line2D objects from matplotlib that are in 'data' coordinates!\n",
            "\n",
            "/usr/local/lib/python3.6/dist-packages/plotly/matplotlylib/renderer.py:512: UserWarning:\n",
            "\n",
            "I found a path object that I don't think is part of a bar chart. Ignoring.\n",
            "\n",
            "/usr/local/lib/python3.6/dist-packages/plotly/matplotlylib/mpltools.py:368: MatplotlibDeprecationWarning:\n",
            "\n",
            "\n",
            "The is_frame_like function was deprecated in Matplotlib 3.1 and will be removed in 3.3.\n",
            "\n",
            "/usr/local/lib/python3.6/dist-packages/plotly/matplotlylib/renderer.py:410: UserWarning:\n",
            "\n",
            "Bummer! Plotly can currently only draw Line2D objects from matplotlib that are in 'data' coordinates!\n",
            "\n",
            "/usr/local/lib/python3.6/dist-packages/plotly/matplotlylib/renderer.py:512: UserWarning:\n",
            "\n",
            "I found a path object that I don't think is part of a bar chart. Ignoring.\n",
            "\n"
          ],
          "name": "stderr"
        },
        {
          "output_type": "stream",
          "text": [
            "wandb: Agent Finished Run: rukyahky \n",
            "\n",
            "wandb: Agent Starting Run: vspjwn1i with config:\n",
            "\tbatch_size: 2\n",
            "\tforecast_history: 2\n",
            "\tlr: 0.001\n",
            "\tout_seq_length: 3\n",
            "wandb: Agent Started Run: vspjwn1i\n"
          ],
          "name": "stdout"
        },
        {
          "output_type": "display_data",
          "data": {
            "text/html": [
              "\n",
              "                Logging results to <a href=\"https://wandb.com\" target=\"_blank\">Weights & Biases</a> <a href=\"https://docs.wandb.com/integrations/jupyter.html\" target=\"_blank\">(Documentation)</a>.<br/>\n",
              "                Project page: <a href=\"https://app.wandb.ai/igodfried/covid-forecast\" target=\"_blank\">https://app.wandb.ai/igodfried/covid-forecast</a><br/>\n",
              "                Sweep page: <a href=\"https://app.wandb.ai/igodfried/covid-forecast/sweeps/yw9zbqtn\" target=\"_blank\">https://app.wandb.ai/igodfried/covid-forecast/sweeps/yw9zbqtn</a><br/>\n",
              "Run page: <a href=\"https://app.wandb.ai/igodfried/covid-forecast/runs/vspjwn1i\" target=\"_blank\">https://app.wandb.ai/igodfried/covid-forecast/runs/vspjwn1i</a><br/>\n",
              "            "
            ],
            "text/plain": [
              "<IPython.core.display.HTML object>"
            ]
          },
          "metadata": {
            "tags": []
          }
        },
        {
          "output_type": "stream",
          "text": [
            "{'model_name': 'MultiAttnHeadSimple', 'model_type': 'PyTorch', 'model_params': {'number_time_series': 3, 'seq_len': 2, 'output_seq_len': 3, 'forecast_length': 3}, 'dataset_params': {'class': 'default', 'training_path': 'antwerp.csv', 'validation_path': 'antwerp.csv', 'test_path': 'antwerp.csv', 'batch_size': 2, 'forecast_history': 2, 'forecast_length': 3, 'train_end': 71, 'valid_start': 72, 'valid_end': 91, 'target_col': ['new_cases'], 'relevant_cols': ['new_cases', 'month', 'weekday'], 'scaler': 'StandardScaler', 'interpolate': False}, 'training_params': {'criterion': 'MSE', 'optimizer': 'Adam', 'optim_params': {}, 'lr': 0.001, 'epochs': 10, 'batch_size': 2}, 'GCS': False, 'wandb': {'name': 'multihead_pytorch_antwerp', 'tags': ['covid_run', 'circleci'], 'project': 'covid-forecast'}, 'forward_params': {}, 'metrics': ['MSE'], 'inference_params': {'datetime_start': '2020-04-21', 'hours_to_forecast': 10, 'test_csv_path': 'antwerp.csv', 'decoder_params': {'decoder_function': 'simple_decode', 'unsqueeze_dim': 1}, 'dataset_params': {'file_path': 'antwerp.csv', 'forecast_history': 2, 'forecast_length': 3, 'relevant_cols': ['new_cases', 'month', 'weekday'], 'target_col': ['new_cases'], 'scaling': 'StandardScaler', 'interpolate_param': False}}}\n",
            "interpolate should be below\n",
            "Now loading and scaling antwerp.csv\n",
            "interpolate should be below\n",
            "Now loading and scaling antwerp.csv\n",
            "interpolate should be below\n",
            "Now loading and scaling antwerp.csv\n"
          ],
          "name": "stdout"
        },
        {
          "output_type": "display_data",
          "data": {
            "text/html": [
              "\n",
              "                Logging results to <a href=\"https://wandb.com\" target=\"_blank\">Weights & Biases</a> <a href=\"https://docs.wandb.com/integrations/jupyter.html\" target=\"_blank\">(Documentation)</a>.<br/>\n",
              "                Project page: <a href=\"https://app.wandb.ai/igodfried/covid-forecast\" target=\"_blank\">https://app.wandb.ai/igodfried/covid-forecast</a><br/>\n",
              "                Run page: <a href=\"https://app.wandb.ai/igodfried/covid-forecast/runs/veptivl8\" target=\"_blank\">https://app.wandb.ai/igodfried/covid-forecast/runs/veptivl8</a><br/>\n",
              "            "
            ],
            "text/plain": [
              "<IPython.core.display.HTML object>"
            ]
          },
          "metadata": {
            "tags": []
          }
        },
        {
          "output_type": "stream",
          "text": [
            "Torch is using cpu\n",
            "The running loss is:\n",
            "21.00543548539281\n",
            "The number of items in train is: \n",
            "33\n",
            "The loss for epoch 0\n",
            "0.6365283480422064\n",
            "The running loss is:\n",
            "31.75407860055566\n",
            "The number of items in train is: \n",
            "33\n",
            "The loss for epoch 1\n",
            "0.9622448060774442\n",
            "The running loss is:\n",
            "21.44613552838564\n",
            "The number of items in train is: \n",
            "33\n",
            "The loss for epoch 2\n",
            "0.6498828947995648\n",
            "The running loss is:\n",
            "24.966893255710602\n",
            "The number of items in train is: \n",
            "33\n",
            "The loss for epoch 3\n",
            "0.7565725229003213\n",
            "The running loss is:\n",
            "19.329234207049012\n",
            "The number of items in train is: \n",
            "33\n",
            "The loss for epoch 4\n",
            "0.5857343699105761\n",
            "The running loss is:\n",
            "22.27110578864813\n",
            "The number of items in train is: \n",
            "33\n",
            "The loss for epoch 5\n",
            "0.6748819935953978\n",
            "The running loss is:\n",
            "17.701665556058288\n",
            "The number of items in train is: \n",
            "33\n",
            "The loss for epoch 6\n",
            "0.5364141077593421\n",
            "The running loss is:\n",
            "25.693841315805912\n",
            "The number of items in train is: \n",
            "33\n",
            "The loss for epoch 7\n",
            "0.7786012519941186\n",
            "The running loss is:\n",
            "15.266029976308346\n",
            "The number of items in train is: \n",
            "33\n",
            "The loss for epoch 8\n",
            "0.4626069689790408\n",
            "The running loss is:\n",
            "16.428095784038305\n",
            "The number of items in train is: \n",
            "33\n",
            "The loss for epoch 9\n",
            "0.4978210843647971\n",
            "interpolate should be below\n",
            "Now loading and scaling antwerp.csv\n",
            "CSV Path below\n",
            "antwerp.csv\n",
            "torch.Size([1, 2, 3])\n",
            "Add debugging crap below\n"
          ],
          "name": "stdout"
        },
        {
          "output_type": "stream",
          "text": [
            "/content/github_aistream-peelout_flow-forecast/flood_forecast/evaluator.py:136: SettingWithCopyWarning: \n",
            "A value is trying to be set on a copy of a slice from a DataFrame.\n",
            "Try using .loc[row_indexer,col_indexer] = value instead\n",
            "\n",
            "See the caveats in the documentation: https://pandas.pydata.org/pandas-docs/stable/user_guide/indexing.html#returning-a-view-versus-a-copy\n",
            "  df['preds'] = 0\n",
            "/content/github_aistream-peelout_flow-forecast/flood_forecast/evaluator.py:137: SettingWithCopyWarning: \n",
            "A value is trying to be set on a copy of a slice from a DataFrame\n",
            "\n",
            "See the caveats in the documentation: https://pandas.pydata.org/pandas-docs/stable/user_guide/indexing.html#returning-a-view-versus-a-copy\n",
            "  df['preds'][history_length:] = end_tensor.numpy().tolist()\n",
            "/usr/local/lib/python3.6/dist-packages/pandas/core/series.py:1042: SettingWithCopyWarning: \n",
            "A value is trying to be set on a copy of a slice from a DataFrame\n",
            "\n",
            "See the caveats in the documentation: https://pandas.pydata.org/pandas-docs/stable/user_guide/indexing.html#returning-a-view-versus-a-copy\n",
            "  self._set_with(key, value)\n",
            "/content/github_aistream-peelout_flow-forecast/flood_forecast/evaluator.py:59: SettingWithCopyWarning: \n",
            "A value is trying to be set on a copy of a slice from a DataFrame\n",
            "\n",
            "See the caveats in the documentation: https://pandas.pydata.org/pandas-docs/stable/user_guide/indexing.html#returning-a-view-versus-a-copy\n",
            "  df, end_tensor, forecast_history, junk, test_data = infer_on_torch_model(model, **inference_params)\n"
          ],
          "name": "stderr"
        },
        {
          "output_type": "stream",
          "text": [
            "torch.Size([10])\n",
            "test_data scale\n",
            "Un-transforming data\n"
          ],
          "name": "stdout"
        },
        {
          "output_type": "stream",
          "text": [
            "/content/github_aistream-peelout_flow-forecast/flood_forecast/evaluator.py:67: SettingWithCopyWarning: \n",
            "A value is trying to be set on a copy of a slice from a DataFrame\n",
            "\n",
            "See the caveats in the documentation: https://pandas.pydata.org/pandas-docs/stable/user_guide/indexing.html#returning-a-view-versus-a-copy\n",
            "  df['preds'][history_length:] = end_tensor_list\n",
            "/content/github_aistream-peelout_flow-forecast/flood_forecast/trainer.py:30: SettingWithCopyWarning: \n",
            "A value is trying to be set on a copy of a slice from a DataFrame\n",
            "\n",
            "See the caveats in the documentation: https://pandas.pydata.org/pandas-docs/stable/user_guide/indexing.html#returning-a-view-versus-a-copy\n",
            "  test_acc = evaluate_model(trained_model, model_type, params[\"dataset_params\"][\"target_col\"], params[\"metrics\"], params[\"inference_params\"], {})\n"
          ],
          "name": "stderr"
        },
        {
          "output_type": "stream",
          "text": [
            "Current historical dataframe\n",
            "    Unnamed: 0                        name  ... original_index       preds\n",
            "88          88  Antwerp, Flanders, Belgium  ...             88    0.000000\n",
            "89          89  Antwerp, Flanders, Belgium  ...             89    0.000000\n",
            "90          90  Antwerp, Flanders, Belgium  ...             90  164.231934\n",
            "91          91  Antwerp, Flanders, Belgium  ...             91  173.492966\n",
            "92          92  Antwerp, Flanders, Belgium  ...             92  176.606049\n",
            "93          93  Antwerp, Flanders, Belgium  ...             93  182.805557\n",
            "94          94  Antwerp, Flanders, Belgium  ...             94  187.054810\n",
            "95          95  Antwerp, Flanders, Belgium  ...             95  192.212372\n",
            "96          96  Antwerp, Flanders, Belgium  ...             96  196.656876\n",
            "97          97  Antwerp, Flanders, Belgium  ...             97  206.050522\n",
            "98          98  Antwerp, Flanders, Belgium  ...             98  200.513489\n",
            "99          99  Antwerp, Flanders, Belgium  ...             99  204.270187\n",
            "\n",
            "[12 rows x 32 columns]\n"
          ],
          "name": "stdout"
        },
        {
          "output_type": "stream",
          "text": [
            "/usr/local/lib/python3.6/dist-packages/plotly/matplotlylib/mpltools.py:368: MatplotlibDeprecationWarning:\n",
            "\n",
            "\n",
            "The is_frame_like function was deprecated in Matplotlib 3.1 and will be removed in 3.3.\n",
            "\n",
            "/usr/local/lib/python3.6/dist-packages/plotly/matplotlylib/renderer.py:410: UserWarning:\n",
            "\n",
            "Bummer! Plotly can currently only draw Line2D objects from matplotlib that are in 'data' coordinates!\n",
            "\n",
            "/usr/local/lib/python3.6/dist-packages/plotly/matplotlylib/renderer.py:512: UserWarning:\n",
            "\n",
            "I found a path object that I don't think is part of a bar chart. Ignoring.\n",
            "\n",
            "/usr/local/lib/python3.6/dist-packages/plotly/matplotlylib/mpltools.py:368: MatplotlibDeprecationWarning:\n",
            "\n",
            "\n",
            "The is_frame_like function was deprecated in Matplotlib 3.1 and will be removed in 3.3.\n",
            "\n",
            "/usr/local/lib/python3.6/dist-packages/plotly/matplotlylib/renderer.py:410: UserWarning:\n",
            "\n",
            "Bummer! Plotly can currently only draw Line2D objects from matplotlib that are in 'data' coordinates!\n",
            "\n",
            "/usr/local/lib/python3.6/dist-packages/plotly/matplotlylib/renderer.py:512: UserWarning:\n",
            "\n",
            "I found a path object that I don't think is part of a bar chart. Ignoring.\n",
            "\n"
          ],
          "name": "stderr"
        },
        {
          "output_type": "stream",
          "text": [
            "wandb: Agent Finished Run: vspjwn1i \n",
            "\n",
            "wandb: Agent Starting Run: skf5u077 with config:\n",
            "\tbatch_size: 2\n",
            "\tforecast_history: 2\n",
            "\tlr: 0.002\n",
            "\tout_seq_length: 1\n",
            "wandb: Agent Started Run: skf5u077\n"
          ],
          "name": "stdout"
        },
        {
          "output_type": "display_data",
          "data": {
            "text/html": [
              "\n",
              "                Logging results to <a href=\"https://wandb.com\" target=\"_blank\">Weights & Biases</a> <a href=\"https://docs.wandb.com/integrations/jupyter.html\" target=\"_blank\">(Documentation)</a>.<br/>\n",
              "                Project page: <a href=\"https://app.wandb.ai/igodfried/covid-forecast\" target=\"_blank\">https://app.wandb.ai/igodfried/covid-forecast</a><br/>\n",
              "                Sweep page: <a href=\"https://app.wandb.ai/igodfried/covid-forecast/sweeps/yw9zbqtn\" target=\"_blank\">https://app.wandb.ai/igodfried/covid-forecast/sweeps/yw9zbqtn</a><br/>\n",
              "Run page: <a href=\"https://app.wandb.ai/igodfried/covid-forecast/runs/skf5u077\" target=\"_blank\">https://app.wandb.ai/igodfried/covid-forecast/runs/skf5u077</a><br/>\n",
              "            "
            ],
            "text/plain": [
              "<IPython.core.display.HTML object>"
            ]
          },
          "metadata": {
            "tags": []
          }
        },
        {
          "output_type": "stream",
          "text": [
            "{'model_name': 'MultiAttnHeadSimple', 'model_type': 'PyTorch', 'model_params': {'number_time_series': 3, 'seq_len': 2, 'output_seq_len': 1, 'forecast_length': 1}, 'dataset_params': {'class': 'default', 'training_path': 'antwerp.csv', 'validation_path': 'antwerp.csv', 'test_path': 'antwerp.csv', 'batch_size': 2, 'forecast_history': 2, 'forecast_length': 1, 'train_end': 71, 'valid_start': 72, 'valid_end': 91, 'target_col': ['new_cases'], 'relevant_cols': ['new_cases', 'month', 'weekday'], 'scaler': 'StandardScaler', 'interpolate': False}, 'training_params': {'criterion': 'MSE', 'optimizer': 'Adam', 'optim_params': {}, 'lr': 0.002, 'epochs': 10, 'batch_size': 2}, 'GCS': False, 'wandb': {'name': 'multihead_pytorch_antwerp', 'tags': ['covid_run', 'circleci'], 'project': 'covid-forecast'}, 'forward_params': {}, 'metrics': ['MSE'], 'inference_params': {'datetime_start': '2020-04-21', 'hours_to_forecast': 10, 'test_csv_path': 'antwerp.csv', 'decoder_params': {'decoder_function': 'simple_decode', 'unsqueeze_dim': 1}, 'dataset_params': {'file_path': 'antwerp.csv', 'forecast_history': 2, 'forecast_length': 1, 'relevant_cols': ['new_cases', 'month', 'weekday'], 'target_col': ['new_cases'], 'scaling': 'StandardScaler', 'interpolate_param': False}}}\n",
            "interpolate should be below\n",
            "Now loading and scaling antwerp.csv\n",
            "interpolate should be below\n",
            "Now loading and scaling antwerp.csv\n",
            "interpolate should be below\n",
            "Now loading and scaling antwerp.csv\n"
          ],
          "name": "stdout"
        },
        {
          "output_type": "display_data",
          "data": {
            "text/html": [
              "\n",
              "                Logging results to <a href=\"https://wandb.com\" target=\"_blank\">Weights & Biases</a> <a href=\"https://docs.wandb.com/integrations/jupyter.html\" target=\"_blank\">(Documentation)</a>.<br/>\n",
              "                Project page: <a href=\"https://app.wandb.ai/igodfried/covid-forecast\" target=\"_blank\">https://app.wandb.ai/igodfried/covid-forecast</a><br/>\n",
              "                Run page: <a href=\"https://app.wandb.ai/igodfried/covid-forecast/runs/1w88celb\" target=\"_blank\">https://app.wandb.ai/igodfried/covid-forecast/runs/1w88celb</a><br/>\n",
              "            "
            ],
            "text/plain": [
              "<IPython.core.display.HTML object>"
            ]
          },
          "metadata": {
            "tags": []
          }
        },
        {
          "output_type": "stream",
          "text": [
            "Torch is using cpu\n",
            "The running loss is:\n",
            "7.926211021491326\n",
            "The number of items in train is: \n",
            "34\n",
            "The loss for epoch 0\n",
            "0.2331238535732743\n",
            "The running loss is:\n",
            "45.07759717758745\n",
            "The number of items in train is: \n",
            "34\n",
            "The loss for epoch 1\n",
            "1.3258116816937484\n",
            "The running loss is:\n",
            "17.52304550539702\n",
            "The number of items in train is: \n",
            "34\n",
            "The loss for epoch 2\n",
            "0.5153836913352066\n",
            "The running loss is:\n",
            "19.223857637960464\n",
            "The number of items in train is: \n",
            "34\n",
            "The loss for epoch 3\n",
            "0.5654075775870725\n",
            "The running loss is:\n",
            "17.085357565616505\n",
            "The number of items in train is: \n",
            "34\n",
            "The loss for epoch 4\n",
            "0.5025105166357795\n",
            "The running loss is:\n",
            "26.338379439665005\n",
            "The number of items in train is: \n",
            "34\n",
            "The loss for epoch 5\n",
            "0.7746582188136766\n",
            "The running loss is:\n",
            "12.023202999029309\n",
            "The number of items in train is: \n",
            "34\n",
            "The loss for epoch 6\n",
            "0.3536236176185091\n",
            "The running loss is:\n",
            "10.84097226295853\n",
            "The number of items in train is: \n",
            "34\n",
            "The loss for epoch 7\n",
            "0.3188521253811332\n",
            "The running loss is:\n",
            "9.669757608440705\n",
            "The number of items in train is: \n",
            "34\n",
            "The loss for epoch 8\n",
            "0.28440463554237366\n",
            "The running loss is:\n",
            "7.7529250888037495\n",
            "The number of items in train is: \n",
            "34\n",
            "The loss for epoch 9\n",
            "0.22802720849422792\n",
            "interpolate should be below\n",
            "Now loading and scaling antwerp.csv\n",
            "CSV Path below\n",
            "antwerp.csv\n",
            "torch.Size([1, 2, 3])\n",
            "Add debugging crap below\n"
          ],
          "name": "stdout"
        },
        {
          "output_type": "stream",
          "text": [
            "/content/github_aistream-peelout_flow-forecast/flood_forecast/evaluator.py:136: SettingWithCopyWarning: \n",
            "A value is trying to be set on a copy of a slice from a DataFrame.\n",
            "Try using .loc[row_indexer,col_indexer] = value instead\n",
            "\n",
            "See the caveats in the documentation: https://pandas.pydata.org/pandas-docs/stable/user_guide/indexing.html#returning-a-view-versus-a-copy\n",
            "  df['preds'] = 0\n",
            "/content/github_aistream-peelout_flow-forecast/flood_forecast/evaluator.py:137: SettingWithCopyWarning: \n",
            "A value is trying to be set on a copy of a slice from a DataFrame\n",
            "\n",
            "See the caveats in the documentation: https://pandas.pydata.org/pandas-docs/stable/user_guide/indexing.html#returning-a-view-versus-a-copy\n",
            "  df['preds'][history_length:] = end_tensor.numpy().tolist()\n",
            "/usr/local/lib/python3.6/dist-packages/pandas/core/series.py:1042: SettingWithCopyWarning: \n",
            "A value is trying to be set on a copy of a slice from a DataFrame\n",
            "\n",
            "See the caveats in the documentation: https://pandas.pydata.org/pandas-docs/stable/user_guide/indexing.html#returning-a-view-versus-a-copy\n",
            "  self._set_with(key, value)\n",
            "/content/github_aistream-peelout_flow-forecast/flood_forecast/evaluator.py:59: SettingWithCopyWarning: \n",
            "A value is trying to be set on a copy of a slice from a DataFrame\n",
            "\n",
            "See the caveats in the documentation: https://pandas.pydata.org/pandas-docs/stable/user_guide/indexing.html#returning-a-view-versus-a-copy\n",
            "  df, end_tensor, forecast_history, junk, test_data = infer_on_torch_model(model, **inference_params)\n"
          ],
          "name": "stderr"
        },
        {
          "output_type": "stream",
          "text": [
            "torch.Size([10])\n",
            "test_data scale\n",
            "Un-transforming data\n"
          ],
          "name": "stdout"
        },
        {
          "output_type": "stream",
          "text": [
            "/content/github_aistream-peelout_flow-forecast/flood_forecast/evaluator.py:67: SettingWithCopyWarning: \n",
            "A value is trying to be set on a copy of a slice from a DataFrame\n",
            "\n",
            "See the caveats in the documentation: https://pandas.pydata.org/pandas-docs/stable/user_guide/indexing.html#returning-a-view-versus-a-copy\n",
            "  df['preds'][history_length:] = end_tensor_list\n",
            "/content/github_aistream-peelout_flow-forecast/flood_forecast/trainer.py:30: SettingWithCopyWarning: \n",
            "A value is trying to be set on a copy of a slice from a DataFrame\n",
            "\n",
            "See the caveats in the documentation: https://pandas.pydata.org/pandas-docs/stable/user_guide/indexing.html#returning-a-view-versus-a-copy\n",
            "  test_acc = evaluate_model(trained_model, model_type, params[\"dataset_params\"][\"target_col\"], params[\"metrics\"], params[\"inference_params\"], {})\n"
          ],
          "name": "stderr"
        },
        {
          "output_type": "stream",
          "text": [
            "Current historical dataframe\n",
            "    Unnamed: 0                        name  ... original_index       preds\n",
            "88          88  Antwerp, Flanders, Belgium  ...             88    0.000000\n",
            "89          89  Antwerp, Flanders, Belgium  ...             89    0.000000\n",
            "90          90  Antwerp, Flanders, Belgium  ...             90  157.648819\n",
            "91          91  Antwerp, Flanders, Belgium  ...             91  163.518372\n",
            "92          92  Antwerp, Flanders, Belgium  ...             92  164.045349\n",
            "93          93  Antwerp, Flanders, Belgium  ...             93  172.106415\n",
            "94          94  Antwerp, Flanders, Belgium  ...             94  178.464401\n",
            "95          95  Antwerp, Flanders, Belgium  ...             95  189.383789\n",
            "96          96  Antwerp, Flanders, Belgium  ...             96  200.001709\n",
            "97          97  Antwerp, Flanders, Belgium  ...             97  199.110626\n",
            "98          98  Antwerp, Flanders, Belgium  ...             98  195.757309\n",
            "99          99  Antwerp, Flanders, Belgium  ...             99  198.477951\n",
            "\n",
            "[12 rows x 32 columns]\n"
          ],
          "name": "stdout"
        },
        {
          "output_type": "stream",
          "text": [
            "/usr/local/lib/python3.6/dist-packages/plotly/matplotlylib/mpltools.py:368: MatplotlibDeprecationWarning:\n",
            "\n",
            "\n",
            "The is_frame_like function was deprecated in Matplotlib 3.1 and will be removed in 3.3.\n",
            "\n",
            "/usr/local/lib/python3.6/dist-packages/plotly/matplotlylib/renderer.py:410: UserWarning:\n",
            "\n",
            "Bummer! Plotly can currently only draw Line2D objects from matplotlib that are in 'data' coordinates!\n",
            "\n",
            "/usr/local/lib/python3.6/dist-packages/plotly/matplotlylib/renderer.py:512: UserWarning:\n",
            "\n",
            "I found a path object that I don't think is part of a bar chart. Ignoring.\n",
            "\n",
            "/usr/local/lib/python3.6/dist-packages/plotly/matplotlylib/mpltools.py:368: MatplotlibDeprecationWarning:\n",
            "\n",
            "\n",
            "The is_frame_like function was deprecated in Matplotlib 3.1 and will be removed in 3.3.\n",
            "\n",
            "/usr/local/lib/python3.6/dist-packages/plotly/matplotlylib/renderer.py:410: UserWarning:\n",
            "\n",
            "Bummer! Plotly can currently only draw Line2D objects from matplotlib that are in 'data' coordinates!\n",
            "\n",
            "/usr/local/lib/python3.6/dist-packages/plotly/matplotlylib/renderer.py:512: UserWarning:\n",
            "\n",
            "I found a path object that I don't think is part of a bar chart. Ignoring.\n",
            "\n"
          ],
          "name": "stderr"
        },
        {
          "output_type": "stream",
          "text": [
            "wandb: Agent Finished Run: skf5u077 \n",
            "\n",
            "wandb: Agent Starting Run: kwo2n9nm with config:\n",
            "\tbatch_size: 2\n",
            "\tforecast_history: 2\n",
            "\tlr: 0.002\n",
            "\tout_seq_length: 2\n",
            "wandb: Agent Started Run: kwo2n9nm\n"
          ],
          "name": "stdout"
        },
        {
          "output_type": "display_data",
          "data": {
            "text/html": [
              "\n",
              "                Logging results to <a href=\"https://wandb.com\" target=\"_blank\">Weights & Biases</a> <a href=\"https://docs.wandb.com/integrations/jupyter.html\" target=\"_blank\">(Documentation)</a>.<br/>\n",
              "                Project page: <a href=\"https://app.wandb.ai/igodfried/covid-forecast\" target=\"_blank\">https://app.wandb.ai/igodfried/covid-forecast</a><br/>\n",
              "                Sweep page: <a href=\"https://app.wandb.ai/igodfried/covid-forecast/sweeps/yw9zbqtn\" target=\"_blank\">https://app.wandb.ai/igodfried/covid-forecast/sweeps/yw9zbqtn</a><br/>\n",
              "Run page: <a href=\"https://app.wandb.ai/igodfried/covid-forecast/runs/kwo2n9nm\" target=\"_blank\">https://app.wandb.ai/igodfried/covid-forecast/runs/kwo2n9nm</a><br/>\n",
              "            "
            ],
            "text/plain": [
              "<IPython.core.display.HTML object>"
            ]
          },
          "metadata": {
            "tags": []
          }
        },
        {
          "output_type": "stream",
          "text": [
            "{'model_name': 'MultiAttnHeadSimple', 'model_type': 'PyTorch', 'model_params': {'number_time_series': 3, 'seq_len': 2, 'output_seq_len': 2, 'forecast_length': 2}, 'dataset_params': {'class': 'default', 'training_path': 'antwerp.csv', 'validation_path': 'antwerp.csv', 'test_path': 'antwerp.csv', 'batch_size': 2, 'forecast_history': 2, 'forecast_length': 2, 'train_end': 71, 'valid_start': 72, 'valid_end': 91, 'target_col': ['new_cases'], 'relevant_cols': ['new_cases', 'month', 'weekday'], 'scaler': 'StandardScaler', 'interpolate': False}, 'training_params': {'criterion': 'MSE', 'optimizer': 'Adam', 'optim_params': {}, 'lr': 0.002, 'epochs': 10, 'batch_size': 2}, 'GCS': False, 'wandb': {'name': 'multihead_pytorch_antwerp', 'tags': ['covid_run', 'circleci'], 'project': 'covid-forecast'}, 'forward_params': {}, 'metrics': ['MSE'], 'inference_params': {'datetime_start': '2020-04-21', 'hours_to_forecast': 10, 'test_csv_path': 'antwerp.csv', 'decoder_params': {'decoder_function': 'simple_decode', 'unsqueeze_dim': 1}, 'dataset_params': {'file_path': 'antwerp.csv', 'forecast_history': 2, 'forecast_length': 2, 'relevant_cols': ['new_cases', 'month', 'weekday'], 'target_col': ['new_cases'], 'scaling': 'StandardScaler', 'interpolate_param': False}}}\n",
            "interpolate should be below\n",
            "Now loading and scaling antwerp.csv\n",
            "interpolate should be below\n",
            "Now loading and scaling antwerp.csv\n",
            "interpolate should be below\n",
            "Now loading and scaling antwerp.csv\n"
          ],
          "name": "stdout"
        },
        {
          "output_type": "display_data",
          "data": {
            "text/html": [
              "\n",
              "                Logging results to <a href=\"https://wandb.com\" target=\"_blank\">Weights & Biases</a> <a href=\"https://docs.wandb.com/integrations/jupyter.html\" target=\"_blank\">(Documentation)</a>.<br/>\n",
              "                Project page: <a href=\"https://app.wandb.ai/igodfried/covid-forecast\" target=\"_blank\">https://app.wandb.ai/igodfried/covid-forecast</a><br/>\n",
              "                Run page: <a href=\"https://app.wandb.ai/igodfried/covid-forecast/runs/2gzzn1tl\" target=\"_blank\">https://app.wandb.ai/igodfried/covid-forecast/runs/2gzzn1tl</a><br/>\n",
              "            "
            ],
            "text/plain": [
              "<IPython.core.display.HTML object>"
            ]
          },
          "metadata": {
            "tags": []
          }
        },
        {
          "output_type": "stream",
          "text": [
            "Torch is using cpu\n",
            "The running loss is:\n",
            "21.949298333376646\n",
            "The number of items in train is: \n",
            "33\n",
            "The loss for epoch 0\n",
            "0.665130252526565\n",
            "The running loss is:\n",
            "28.23917729780078\n",
            "The number of items in train is: \n",
            "33\n",
            "The loss for epoch 1\n",
            "0.8557326453879024\n",
            "The running loss is:\n",
            "20.276927853934467\n",
            "The number of items in train is: \n",
            "33\n",
            "The loss for epoch 2\n",
            "0.6144523592101354\n",
            "The running loss is:\n",
            "22.451173399109393\n",
            "The number of items in train is: \n",
            "33\n",
            "The loss for epoch 3\n",
            "0.6803385878517998\n",
            "The running loss is:\n",
            "18.38559128716588\n",
            "The number of items in train is: \n",
            "33\n",
            "The loss for epoch 4\n",
            "0.5571391299141176\n",
            "The running loss is:\n",
            "22.97731645638123\n",
            "The number of items in train is: \n",
            "33\n",
            "The loss for epoch 5\n",
            "0.6962823168600373\n",
            "The running loss is:\n",
            "15.07943250075914\n",
            "The number of items in train is: \n",
            "33\n",
            "The loss for epoch 6\n",
            "0.45695250002300425\n",
            "The running loss is:\n",
            "19.21207500435412\n",
            "The number of items in train is: \n",
            "33\n",
            "The loss for epoch 7\n",
            "0.582184091041034\n",
            "The running loss is:\n",
            "15.169635845348239\n",
            "The number of items in train is: \n",
            "33\n",
            "The loss for epoch 8\n",
            "0.4596859347075224\n",
            "The running loss is:\n",
            "18.277867312077433\n",
            "The number of items in train is: \n",
            "33\n",
            "The loss for epoch 9\n",
            "0.5538747670326495\n",
            "interpolate should be below\n",
            "Now loading and scaling antwerp.csv\n",
            "CSV Path below\n",
            "antwerp.csv\n",
            "torch.Size([1, 2, 3])\n",
            "Add debugging crap below\n"
          ],
          "name": "stdout"
        },
        {
          "output_type": "stream",
          "text": [
            "/content/github_aistream-peelout_flow-forecast/flood_forecast/evaluator.py:136: SettingWithCopyWarning: \n",
            "A value is trying to be set on a copy of a slice from a DataFrame.\n",
            "Try using .loc[row_indexer,col_indexer] = value instead\n",
            "\n",
            "See the caveats in the documentation: https://pandas.pydata.org/pandas-docs/stable/user_guide/indexing.html#returning-a-view-versus-a-copy\n",
            "  df['preds'] = 0\n",
            "/content/github_aistream-peelout_flow-forecast/flood_forecast/evaluator.py:137: SettingWithCopyWarning: \n",
            "A value is trying to be set on a copy of a slice from a DataFrame\n",
            "\n",
            "See the caveats in the documentation: https://pandas.pydata.org/pandas-docs/stable/user_guide/indexing.html#returning-a-view-versus-a-copy\n",
            "  df['preds'][history_length:] = end_tensor.numpy().tolist()\n",
            "/usr/local/lib/python3.6/dist-packages/pandas/core/series.py:1042: SettingWithCopyWarning: \n",
            "A value is trying to be set on a copy of a slice from a DataFrame\n",
            "\n",
            "See the caveats in the documentation: https://pandas.pydata.org/pandas-docs/stable/user_guide/indexing.html#returning-a-view-versus-a-copy\n",
            "  self._set_with(key, value)\n",
            "/content/github_aistream-peelout_flow-forecast/flood_forecast/evaluator.py:59: SettingWithCopyWarning: \n",
            "A value is trying to be set on a copy of a slice from a DataFrame\n",
            "\n",
            "See the caveats in the documentation: https://pandas.pydata.org/pandas-docs/stable/user_guide/indexing.html#returning-a-view-versus-a-copy\n",
            "  df, end_tensor, forecast_history, junk, test_data = infer_on_torch_model(model, **inference_params)\n"
          ],
          "name": "stderr"
        },
        {
          "output_type": "stream",
          "text": [
            "torch.Size([10])\n",
            "test_data scale\n",
            "Un-transforming data\n"
          ],
          "name": "stdout"
        },
        {
          "output_type": "stream",
          "text": [
            "/content/github_aistream-peelout_flow-forecast/flood_forecast/evaluator.py:67: SettingWithCopyWarning: \n",
            "A value is trying to be set on a copy of a slice from a DataFrame\n",
            "\n",
            "See the caveats in the documentation: https://pandas.pydata.org/pandas-docs/stable/user_guide/indexing.html#returning-a-view-versus-a-copy\n",
            "  df['preds'][history_length:] = end_tensor_list\n",
            "/content/github_aistream-peelout_flow-forecast/flood_forecast/trainer.py:30: SettingWithCopyWarning: \n",
            "A value is trying to be set on a copy of a slice from a DataFrame\n",
            "\n",
            "See the caveats in the documentation: https://pandas.pydata.org/pandas-docs/stable/user_guide/indexing.html#returning-a-view-versus-a-copy\n",
            "  test_acc = evaluate_model(trained_model, model_type, params[\"dataset_params\"][\"target_col\"], params[\"metrics\"], params[\"inference_params\"], {})\n"
          ],
          "name": "stderr"
        },
        {
          "output_type": "stream",
          "text": [
            "Current historical dataframe\n",
            "    Unnamed: 0                        name  ... original_index      preds\n",
            "88          88  Antwerp, Flanders, Belgium  ...             88   0.000000\n",
            "89          89  Antwerp, Flanders, Belgium  ...             89   0.000000\n",
            "90          90  Antwerp, Flanders, Belgium  ...             90  85.166397\n",
            "91          91  Antwerp, Flanders, Belgium  ...             91  92.528320\n",
            "92          92  Antwerp, Flanders, Belgium  ...             92  80.694923\n",
            "93          93  Antwerp, Flanders, Belgium  ...             93  80.634438\n",
            "94          94  Antwerp, Flanders, Belgium  ...             94  77.969078\n",
            "95          95  Antwerp, Flanders, Belgium  ...             95  78.311951\n",
            "96          96  Antwerp, Flanders, Belgium  ...             96  78.250671\n",
            "97          97  Antwerp, Flanders, Belgium  ...             97  72.981339\n",
            "98          98  Antwerp, Flanders, Belgium  ...             98  72.524170\n",
            "99          99  Antwerp, Flanders, Belgium  ...             99  71.966652\n",
            "\n",
            "[12 rows x 32 columns]\n"
          ],
          "name": "stdout"
        },
        {
          "output_type": "stream",
          "text": [
            "/usr/local/lib/python3.6/dist-packages/plotly/matplotlylib/mpltools.py:368: MatplotlibDeprecationWarning:\n",
            "\n",
            "\n",
            "The is_frame_like function was deprecated in Matplotlib 3.1 and will be removed in 3.3.\n",
            "\n",
            "/usr/local/lib/python3.6/dist-packages/plotly/matplotlylib/renderer.py:410: UserWarning:\n",
            "\n",
            "Bummer! Plotly can currently only draw Line2D objects from matplotlib that are in 'data' coordinates!\n",
            "\n",
            "/usr/local/lib/python3.6/dist-packages/plotly/matplotlylib/renderer.py:512: UserWarning:\n",
            "\n",
            "I found a path object that I don't think is part of a bar chart. Ignoring.\n",
            "\n",
            "/usr/local/lib/python3.6/dist-packages/plotly/matplotlylib/mpltools.py:368: MatplotlibDeprecationWarning:\n",
            "\n",
            "\n",
            "The is_frame_like function was deprecated in Matplotlib 3.1 and will be removed in 3.3.\n",
            "\n",
            "/usr/local/lib/python3.6/dist-packages/plotly/matplotlylib/renderer.py:410: UserWarning:\n",
            "\n",
            "Bummer! Plotly can currently only draw Line2D objects from matplotlib that are in 'data' coordinates!\n",
            "\n",
            "/usr/local/lib/python3.6/dist-packages/plotly/matplotlylib/renderer.py:512: UserWarning:\n",
            "\n",
            "I found a path object that I don't think is part of a bar chart. Ignoring.\n",
            "\n"
          ],
          "name": "stderr"
        },
        {
          "output_type": "stream",
          "text": [
            "wandb: Agent Finished Run: kwo2n9nm \n",
            "\n",
            "wandb: Agent Starting Run: 27c31yeh with config:\n",
            "\tbatch_size: 2\n",
            "\tforecast_history: 2\n",
            "\tlr: 0.002\n",
            "\tout_seq_length: 3\n",
            "wandb: Agent Started Run: 27c31yeh\n"
          ],
          "name": "stdout"
        },
        {
          "output_type": "display_data",
          "data": {
            "text/html": [
              "\n",
              "                Logging results to <a href=\"https://wandb.com\" target=\"_blank\">Weights & Biases</a> <a href=\"https://docs.wandb.com/integrations/jupyter.html\" target=\"_blank\">(Documentation)</a>.<br/>\n",
              "                Project page: <a href=\"https://app.wandb.ai/igodfried/covid-forecast\" target=\"_blank\">https://app.wandb.ai/igodfried/covid-forecast</a><br/>\n",
              "                Sweep page: <a href=\"https://app.wandb.ai/igodfried/covid-forecast/sweeps/yw9zbqtn\" target=\"_blank\">https://app.wandb.ai/igodfried/covid-forecast/sweeps/yw9zbqtn</a><br/>\n",
              "Run page: <a href=\"https://app.wandb.ai/igodfried/covid-forecast/runs/27c31yeh\" target=\"_blank\">https://app.wandb.ai/igodfried/covid-forecast/runs/27c31yeh</a><br/>\n",
              "            "
            ],
            "text/plain": [
              "<IPython.core.display.HTML object>"
            ]
          },
          "metadata": {
            "tags": []
          }
        },
        {
          "output_type": "stream",
          "text": [
            "{'model_name': 'MultiAttnHeadSimple', 'model_type': 'PyTorch', 'model_params': {'number_time_series': 3, 'seq_len': 2, 'output_seq_len': 3, 'forecast_length': 3}, 'dataset_params': {'class': 'default', 'training_path': 'antwerp.csv', 'validation_path': 'antwerp.csv', 'test_path': 'antwerp.csv', 'batch_size': 2, 'forecast_history': 2, 'forecast_length': 3, 'train_end': 71, 'valid_start': 72, 'valid_end': 91, 'target_col': ['new_cases'], 'relevant_cols': ['new_cases', 'month', 'weekday'], 'scaler': 'StandardScaler', 'interpolate': False}, 'training_params': {'criterion': 'MSE', 'optimizer': 'Adam', 'optim_params': {}, 'lr': 0.002, 'epochs': 10, 'batch_size': 2}, 'GCS': False, 'wandb': {'name': 'multihead_pytorch_antwerp', 'tags': ['covid_run', 'circleci'], 'project': 'covid-forecast'}, 'forward_params': {}, 'metrics': ['MSE'], 'inference_params': {'datetime_start': '2020-04-21', 'hours_to_forecast': 10, 'test_csv_path': 'antwerp.csv', 'decoder_params': {'decoder_function': 'simple_decode', 'unsqueeze_dim': 1}, 'dataset_params': {'file_path': 'antwerp.csv', 'forecast_history': 2, 'forecast_length': 3, 'relevant_cols': ['new_cases', 'month', 'weekday'], 'target_col': ['new_cases'], 'scaling': 'StandardScaler', 'interpolate_param': False}}}\n",
            "interpolate should be below\n",
            "Now loading and scaling antwerp.csv\n",
            "interpolate should be below\n",
            "Now loading and scaling antwerp.csv\n",
            "interpolate should be below\n",
            "Now loading and scaling antwerp.csv\n"
          ],
          "name": "stdout"
        },
        {
          "output_type": "display_data",
          "data": {
            "text/html": [
              "\n",
              "                Logging results to <a href=\"https://wandb.com\" target=\"_blank\">Weights & Biases</a> <a href=\"https://docs.wandb.com/integrations/jupyter.html\" target=\"_blank\">(Documentation)</a>.<br/>\n",
              "                Project page: <a href=\"https://app.wandb.ai/igodfried/covid-forecast\" target=\"_blank\">https://app.wandb.ai/igodfried/covid-forecast</a><br/>\n",
              "                Run page: <a href=\"https://app.wandb.ai/igodfried/covid-forecast/runs/ah1ai3ea\" target=\"_blank\">https://app.wandb.ai/igodfried/covid-forecast/runs/ah1ai3ea</a><br/>\n",
              "            "
            ],
            "text/plain": [
              "<IPython.core.display.HTML object>"
            ]
          },
          "metadata": {
            "tags": []
          }
        },
        {
          "output_type": "stream",
          "text": [
            "Torch is using cpu\n",
            "The running loss is:\n",
            "21.00543548539281\n",
            "The number of items in train is: \n",
            "33\n",
            "The loss for epoch 0\n",
            "0.6365283480422064\n",
            "The running loss is:\n",
            "31.75407860055566\n",
            "The number of items in train is: \n",
            "33\n",
            "The loss for epoch 1\n",
            "0.9622448060774442\n",
            "The running loss is:\n",
            "21.44613552838564\n",
            "The number of items in train is: \n",
            "33\n",
            "The loss for epoch 2\n",
            "0.6498828947995648\n",
            "The running loss is:\n",
            "24.966893255710602\n",
            "The number of items in train is: \n",
            "33\n",
            "The loss for epoch 3\n",
            "0.7565725229003213\n",
            "The running loss is:\n",
            "19.329234207049012\n",
            "The number of items in train is: \n",
            "33\n",
            "The loss for epoch 4\n",
            "0.5857343699105761\n",
            "The running loss is:\n",
            "22.27110578864813\n",
            "The number of items in train is: \n",
            "33\n",
            "The loss for epoch 5\n",
            "0.6748819935953978\n",
            "The running loss is:\n",
            "17.701665556058288\n",
            "The number of items in train is: \n",
            "33\n",
            "The loss for epoch 6\n",
            "0.5364141077593421\n",
            "The running loss is:\n",
            "25.693841315805912\n",
            "The number of items in train is: \n",
            "33\n",
            "The loss for epoch 7\n",
            "0.7786012519941186\n",
            "The running loss is:\n",
            "15.266029976308346\n",
            "The number of items in train is: \n",
            "33\n",
            "The loss for epoch 8\n",
            "0.4626069689790408\n",
            "The running loss is:\n",
            "16.428095784038305\n",
            "The number of items in train is: \n",
            "33\n",
            "The loss for epoch 9\n",
            "0.4978210843647971\n",
            "interpolate should be below\n",
            "Now loading and scaling antwerp.csv\n",
            "CSV Path below\n",
            "antwerp.csv\n",
            "torch.Size([1, 2, 3])\n",
            "Add debugging crap below\n"
          ],
          "name": "stdout"
        },
        {
          "output_type": "stream",
          "text": [
            "/content/github_aistream-peelout_flow-forecast/flood_forecast/evaluator.py:136: SettingWithCopyWarning: \n",
            "A value is trying to be set on a copy of a slice from a DataFrame.\n",
            "Try using .loc[row_indexer,col_indexer] = value instead\n",
            "\n",
            "See the caveats in the documentation: https://pandas.pydata.org/pandas-docs/stable/user_guide/indexing.html#returning-a-view-versus-a-copy\n",
            "  df['preds'] = 0\n",
            "/content/github_aistream-peelout_flow-forecast/flood_forecast/evaluator.py:137: SettingWithCopyWarning: \n",
            "A value is trying to be set on a copy of a slice from a DataFrame\n",
            "\n",
            "See the caveats in the documentation: https://pandas.pydata.org/pandas-docs/stable/user_guide/indexing.html#returning-a-view-versus-a-copy\n",
            "  df['preds'][history_length:] = end_tensor.numpy().tolist()\n",
            "/usr/local/lib/python3.6/dist-packages/pandas/core/series.py:1042: SettingWithCopyWarning: \n",
            "A value is trying to be set on a copy of a slice from a DataFrame\n",
            "\n",
            "See the caveats in the documentation: https://pandas.pydata.org/pandas-docs/stable/user_guide/indexing.html#returning-a-view-versus-a-copy\n",
            "  self._set_with(key, value)\n",
            "/content/github_aistream-peelout_flow-forecast/flood_forecast/evaluator.py:59: SettingWithCopyWarning: \n",
            "A value is trying to be set on a copy of a slice from a DataFrame\n",
            "\n",
            "See the caveats in the documentation: https://pandas.pydata.org/pandas-docs/stable/user_guide/indexing.html#returning-a-view-versus-a-copy\n",
            "  df, end_tensor, forecast_history, junk, test_data = infer_on_torch_model(model, **inference_params)\n"
          ],
          "name": "stderr"
        },
        {
          "output_type": "stream",
          "text": [
            "torch.Size([10])\n",
            "test_data scale\n",
            "Un-transforming data\n"
          ],
          "name": "stdout"
        },
        {
          "output_type": "stream",
          "text": [
            "/content/github_aistream-peelout_flow-forecast/flood_forecast/evaluator.py:67: SettingWithCopyWarning: \n",
            "A value is trying to be set on a copy of a slice from a DataFrame\n",
            "\n",
            "See the caveats in the documentation: https://pandas.pydata.org/pandas-docs/stable/user_guide/indexing.html#returning-a-view-versus-a-copy\n",
            "  df['preds'][history_length:] = end_tensor_list\n",
            "/content/github_aistream-peelout_flow-forecast/flood_forecast/trainer.py:30: SettingWithCopyWarning: \n",
            "A value is trying to be set on a copy of a slice from a DataFrame\n",
            "\n",
            "See the caveats in the documentation: https://pandas.pydata.org/pandas-docs/stable/user_guide/indexing.html#returning-a-view-versus-a-copy\n",
            "  test_acc = evaluate_model(trained_model, model_type, params[\"dataset_params\"][\"target_col\"], params[\"metrics\"], params[\"inference_params\"], {})\n"
          ],
          "name": "stderr"
        },
        {
          "output_type": "stream",
          "text": [
            "Current historical dataframe\n",
            "    Unnamed: 0                        name  ... original_index       preds\n",
            "88          88  Antwerp, Flanders, Belgium  ...             88    0.000000\n",
            "89          89  Antwerp, Flanders, Belgium  ...             89    0.000000\n",
            "90          90  Antwerp, Flanders, Belgium  ...             90  164.231934\n",
            "91          91  Antwerp, Flanders, Belgium  ...             91  173.492966\n",
            "92          92  Antwerp, Flanders, Belgium  ...             92  176.606049\n",
            "93          93  Antwerp, Flanders, Belgium  ...             93  182.805557\n",
            "94          94  Antwerp, Flanders, Belgium  ...             94  187.054810\n",
            "95          95  Antwerp, Flanders, Belgium  ...             95  192.212372\n",
            "96          96  Antwerp, Flanders, Belgium  ...             96  196.656876\n",
            "97          97  Antwerp, Flanders, Belgium  ...             97  206.050522\n",
            "98          98  Antwerp, Flanders, Belgium  ...             98  200.513489\n",
            "99          99  Antwerp, Flanders, Belgium  ...             99  204.270187\n",
            "\n",
            "[12 rows x 32 columns]\n"
          ],
          "name": "stdout"
        },
        {
          "output_type": "stream",
          "text": [
            "/usr/local/lib/python3.6/dist-packages/plotly/matplotlylib/mpltools.py:368: MatplotlibDeprecationWarning:\n",
            "\n",
            "\n",
            "The is_frame_like function was deprecated in Matplotlib 3.1 and will be removed in 3.3.\n",
            "\n",
            "/usr/local/lib/python3.6/dist-packages/plotly/matplotlylib/renderer.py:410: UserWarning:\n",
            "\n",
            "Bummer! Plotly can currently only draw Line2D objects from matplotlib that are in 'data' coordinates!\n",
            "\n",
            "/usr/local/lib/python3.6/dist-packages/plotly/matplotlylib/renderer.py:512: UserWarning:\n",
            "\n",
            "I found a path object that I don't think is part of a bar chart. Ignoring.\n",
            "\n",
            "/usr/local/lib/python3.6/dist-packages/plotly/matplotlylib/mpltools.py:368: MatplotlibDeprecationWarning:\n",
            "\n",
            "\n",
            "The is_frame_like function was deprecated in Matplotlib 3.1 and will be removed in 3.3.\n",
            "\n",
            "/usr/local/lib/python3.6/dist-packages/plotly/matplotlylib/renderer.py:410: UserWarning:\n",
            "\n",
            "Bummer! Plotly can currently only draw Line2D objects from matplotlib that are in 'data' coordinates!\n",
            "\n",
            "/usr/local/lib/python3.6/dist-packages/plotly/matplotlylib/renderer.py:512: UserWarning:\n",
            "\n",
            "I found a path object that I don't think is part of a bar chart. Ignoring.\n",
            "\n"
          ],
          "name": "stderr"
        },
        {
          "output_type": "stream",
          "text": [
            "wandb: Agent Finished Run: 27c31yeh \n",
            "\n",
            "wandb: Agent Starting Run: icihioxa with config:\n",
            "\tbatch_size: 2\n",
            "\tforecast_history: 2\n",
            "\tlr: 0.004\n",
            "\tout_seq_length: 1\n",
            "wandb: Agent Started Run: icihioxa\n"
          ],
          "name": "stdout"
        },
        {
          "output_type": "display_data",
          "data": {
            "text/html": [
              "\n",
              "                Logging results to <a href=\"https://wandb.com\" target=\"_blank\">Weights & Biases</a> <a href=\"https://docs.wandb.com/integrations/jupyter.html\" target=\"_blank\">(Documentation)</a>.<br/>\n",
              "                Project page: <a href=\"https://app.wandb.ai/igodfried/covid-forecast\" target=\"_blank\">https://app.wandb.ai/igodfried/covid-forecast</a><br/>\n",
              "                Sweep page: <a href=\"https://app.wandb.ai/igodfried/covid-forecast/sweeps/yw9zbqtn\" target=\"_blank\">https://app.wandb.ai/igodfried/covid-forecast/sweeps/yw9zbqtn</a><br/>\n",
              "Run page: <a href=\"https://app.wandb.ai/igodfried/covid-forecast/runs/icihioxa\" target=\"_blank\">https://app.wandb.ai/igodfried/covid-forecast/runs/icihioxa</a><br/>\n",
              "            "
            ],
            "text/plain": [
              "<IPython.core.display.HTML object>"
            ]
          },
          "metadata": {
            "tags": []
          }
        },
        {
          "output_type": "stream",
          "text": [
            "{'model_name': 'MultiAttnHeadSimple', 'model_type': 'PyTorch', 'model_params': {'number_time_series': 3, 'seq_len': 2, 'output_seq_len': 1, 'forecast_length': 1}, 'dataset_params': {'class': 'default', 'training_path': 'antwerp.csv', 'validation_path': 'antwerp.csv', 'test_path': 'antwerp.csv', 'batch_size': 2, 'forecast_history': 2, 'forecast_length': 1, 'train_end': 71, 'valid_start': 72, 'valid_end': 91, 'target_col': ['new_cases'], 'relevant_cols': ['new_cases', 'month', 'weekday'], 'scaler': 'StandardScaler', 'interpolate': False}, 'training_params': {'criterion': 'MSE', 'optimizer': 'Adam', 'optim_params': {}, 'lr': 0.004, 'epochs': 10, 'batch_size': 2}, 'GCS': False, 'wandb': {'name': 'multihead_pytorch_antwerp', 'tags': ['covid_run', 'circleci'], 'project': 'covid-forecast'}, 'forward_params': {}, 'metrics': ['MSE'], 'inference_params': {'datetime_start': '2020-04-21', 'hours_to_forecast': 10, 'test_csv_path': 'antwerp.csv', 'decoder_params': {'decoder_function': 'simple_decode', 'unsqueeze_dim': 1}, 'dataset_params': {'file_path': 'antwerp.csv', 'forecast_history': 2, 'forecast_length': 1, 'relevant_cols': ['new_cases', 'month', 'weekday'], 'target_col': ['new_cases'], 'scaling': 'StandardScaler', 'interpolate_param': False}}}\n",
            "interpolate should be below\n",
            "Now loading and scaling antwerp.csv\n",
            "interpolate should be below\n",
            "Now loading and scaling antwerp.csv\n",
            "interpolate should be below\n",
            "Now loading and scaling antwerp.csv\n"
          ],
          "name": "stdout"
        },
        {
          "output_type": "display_data",
          "data": {
            "text/html": [
              "\n",
              "                Logging results to <a href=\"https://wandb.com\" target=\"_blank\">Weights & Biases</a> <a href=\"https://docs.wandb.com/integrations/jupyter.html\" target=\"_blank\">(Documentation)</a>.<br/>\n",
              "                Project page: <a href=\"https://app.wandb.ai/igodfried/covid-forecast\" target=\"_blank\">https://app.wandb.ai/igodfried/covid-forecast</a><br/>\n",
              "                Run page: <a href=\"https://app.wandb.ai/igodfried/covid-forecast/runs/kvi21av5\" target=\"_blank\">https://app.wandb.ai/igodfried/covid-forecast/runs/kvi21av5</a><br/>\n",
              "            "
            ],
            "text/plain": [
              "<IPython.core.display.HTML object>"
            ]
          },
          "metadata": {
            "tags": []
          }
        },
        {
          "output_type": "stream",
          "text": [
            "Torch is using cpu\n",
            "The running loss is:\n",
            "7.926211021491326\n",
            "The number of items in train is: \n",
            "34\n",
            "The loss for epoch 0\n",
            "0.2331238535732743\n",
            "The running loss is:\n",
            "45.07759717758745\n",
            "The number of items in train is: \n",
            "34\n",
            "The loss for epoch 1\n",
            "1.3258116816937484\n",
            "The running loss is:\n",
            "17.52304550539702\n",
            "The number of items in train is: \n",
            "34\n",
            "The loss for epoch 2\n",
            "0.5153836913352066\n",
            "The running loss is:\n",
            "19.223857637960464\n",
            "The number of items in train is: \n",
            "34\n",
            "The loss for epoch 3\n",
            "0.5654075775870725\n",
            "The running loss is:\n",
            "17.085357565616505\n",
            "The number of items in train is: \n",
            "34\n",
            "The loss for epoch 4\n",
            "0.5025105166357795\n",
            "The running loss is:\n",
            "26.338379439665005\n",
            "The number of items in train is: \n",
            "34\n",
            "The loss for epoch 5\n",
            "0.7746582188136766\n",
            "The running loss is:\n",
            "12.023202999029309\n",
            "The number of items in train is: \n",
            "34\n",
            "The loss for epoch 6\n",
            "0.3536236176185091\n",
            "The running loss is:\n",
            "10.84097226295853\n",
            "The number of items in train is: \n",
            "34\n",
            "The loss for epoch 7\n",
            "0.3188521253811332\n",
            "The running loss is:\n",
            "9.669757608440705\n",
            "The number of items in train is: \n",
            "34\n",
            "The loss for epoch 8\n",
            "0.28440463554237366\n",
            "The running loss is:\n",
            "7.7529250888037495\n",
            "The number of items in train is: \n",
            "34\n",
            "The loss for epoch 9\n",
            "0.22802720849422792\n",
            "interpolate should be below\n",
            "Now loading and scaling antwerp.csv\n",
            "CSV Path below\n",
            "antwerp.csv\n",
            "torch.Size([1, 2, 3])\n",
            "Add debugging crap below\n"
          ],
          "name": "stdout"
        },
        {
          "output_type": "stream",
          "text": [
            "/content/github_aistream-peelout_flow-forecast/flood_forecast/evaluator.py:136: SettingWithCopyWarning: \n",
            "A value is trying to be set on a copy of a slice from a DataFrame.\n",
            "Try using .loc[row_indexer,col_indexer] = value instead\n",
            "\n",
            "See the caveats in the documentation: https://pandas.pydata.org/pandas-docs/stable/user_guide/indexing.html#returning-a-view-versus-a-copy\n",
            "  df['preds'] = 0\n",
            "/content/github_aistream-peelout_flow-forecast/flood_forecast/evaluator.py:137: SettingWithCopyWarning: \n",
            "A value is trying to be set on a copy of a slice from a DataFrame\n",
            "\n",
            "See the caveats in the documentation: https://pandas.pydata.org/pandas-docs/stable/user_guide/indexing.html#returning-a-view-versus-a-copy\n",
            "  df['preds'][history_length:] = end_tensor.numpy().tolist()\n",
            "/usr/local/lib/python3.6/dist-packages/pandas/core/series.py:1042: SettingWithCopyWarning: \n",
            "A value is trying to be set on a copy of a slice from a DataFrame\n",
            "\n",
            "See the caveats in the documentation: https://pandas.pydata.org/pandas-docs/stable/user_guide/indexing.html#returning-a-view-versus-a-copy\n",
            "  self._set_with(key, value)\n",
            "/content/github_aistream-peelout_flow-forecast/flood_forecast/evaluator.py:59: SettingWithCopyWarning: \n",
            "A value is trying to be set on a copy of a slice from a DataFrame\n",
            "\n",
            "See the caveats in the documentation: https://pandas.pydata.org/pandas-docs/stable/user_guide/indexing.html#returning-a-view-versus-a-copy\n",
            "  df, end_tensor, forecast_history, junk, test_data = infer_on_torch_model(model, **inference_params)\n"
          ],
          "name": "stderr"
        },
        {
          "output_type": "stream",
          "text": [
            "torch.Size([10])\n",
            "test_data scale\n",
            "Un-transforming data\n"
          ],
          "name": "stdout"
        },
        {
          "output_type": "stream",
          "text": [
            "/content/github_aistream-peelout_flow-forecast/flood_forecast/evaluator.py:67: SettingWithCopyWarning: \n",
            "A value is trying to be set on a copy of a slice from a DataFrame\n",
            "\n",
            "See the caveats in the documentation: https://pandas.pydata.org/pandas-docs/stable/user_guide/indexing.html#returning-a-view-versus-a-copy\n",
            "  df['preds'][history_length:] = end_tensor_list\n",
            "/content/github_aistream-peelout_flow-forecast/flood_forecast/trainer.py:30: SettingWithCopyWarning: \n",
            "A value is trying to be set on a copy of a slice from a DataFrame\n",
            "\n",
            "See the caveats in the documentation: https://pandas.pydata.org/pandas-docs/stable/user_guide/indexing.html#returning-a-view-versus-a-copy\n",
            "  test_acc = evaluate_model(trained_model, model_type, params[\"dataset_params\"][\"target_col\"], params[\"metrics\"], params[\"inference_params\"], {})\n"
          ],
          "name": "stderr"
        },
        {
          "output_type": "stream",
          "text": [
            "Current historical dataframe\n",
            "    Unnamed: 0                        name  ... original_index       preds\n",
            "88          88  Antwerp, Flanders, Belgium  ...             88    0.000000\n",
            "89          89  Antwerp, Flanders, Belgium  ...             89    0.000000\n",
            "90          90  Antwerp, Flanders, Belgium  ...             90  157.648819\n",
            "91          91  Antwerp, Flanders, Belgium  ...             91  163.518372\n",
            "92          92  Antwerp, Flanders, Belgium  ...             92  164.045349\n",
            "93          93  Antwerp, Flanders, Belgium  ...             93  172.106415\n",
            "94          94  Antwerp, Flanders, Belgium  ...             94  178.464401\n",
            "95          95  Antwerp, Flanders, Belgium  ...             95  189.383789\n",
            "96          96  Antwerp, Flanders, Belgium  ...             96  200.001709\n",
            "97          97  Antwerp, Flanders, Belgium  ...             97  199.110626\n",
            "98          98  Antwerp, Flanders, Belgium  ...             98  195.757309\n",
            "99          99  Antwerp, Flanders, Belgium  ...             99  198.477951\n",
            "\n",
            "[12 rows x 32 columns]\n"
          ],
          "name": "stdout"
        },
        {
          "output_type": "stream",
          "text": [
            "/usr/local/lib/python3.6/dist-packages/plotly/matplotlylib/mpltools.py:368: MatplotlibDeprecationWarning:\n",
            "\n",
            "\n",
            "The is_frame_like function was deprecated in Matplotlib 3.1 and will be removed in 3.3.\n",
            "\n",
            "/usr/local/lib/python3.6/dist-packages/plotly/matplotlylib/renderer.py:410: UserWarning:\n",
            "\n",
            "Bummer! Plotly can currently only draw Line2D objects from matplotlib that are in 'data' coordinates!\n",
            "\n",
            "/usr/local/lib/python3.6/dist-packages/plotly/matplotlylib/renderer.py:512: UserWarning:\n",
            "\n",
            "I found a path object that I don't think is part of a bar chart. Ignoring.\n",
            "\n",
            "/usr/local/lib/python3.6/dist-packages/plotly/matplotlylib/mpltools.py:368: MatplotlibDeprecationWarning:\n",
            "\n",
            "\n",
            "The is_frame_like function was deprecated in Matplotlib 3.1 and will be removed in 3.3.\n",
            "\n",
            "/usr/local/lib/python3.6/dist-packages/plotly/matplotlylib/renderer.py:410: UserWarning:\n",
            "\n",
            "Bummer! Plotly can currently only draw Line2D objects from matplotlib that are in 'data' coordinates!\n",
            "\n",
            "/usr/local/lib/python3.6/dist-packages/plotly/matplotlylib/renderer.py:512: UserWarning:\n",
            "\n",
            "I found a path object that I don't think is part of a bar chart. Ignoring.\n",
            "\n"
          ],
          "name": "stderr"
        },
        {
          "output_type": "stream",
          "text": [
            "wandb: Agent Finished Run: icihioxa \n",
            "\n",
            "wandb: Agent Starting Run: jzz869u5 with config:\n",
            "\tbatch_size: 2\n",
            "\tforecast_history: 2\n",
            "\tlr: 0.004\n",
            "\tout_seq_length: 2\n",
            "wandb: Agent Started Run: jzz869u5\n"
          ],
          "name": "stdout"
        },
        {
          "output_type": "display_data",
          "data": {
            "text/html": [
              "\n",
              "                Logging results to <a href=\"https://wandb.com\" target=\"_blank\">Weights & Biases</a> <a href=\"https://docs.wandb.com/integrations/jupyter.html\" target=\"_blank\">(Documentation)</a>.<br/>\n",
              "                Project page: <a href=\"https://app.wandb.ai/igodfried/covid-forecast\" target=\"_blank\">https://app.wandb.ai/igodfried/covid-forecast</a><br/>\n",
              "                Sweep page: <a href=\"https://app.wandb.ai/igodfried/covid-forecast/sweeps/yw9zbqtn\" target=\"_blank\">https://app.wandb.ai/igodfried/covid-forecast/sweeps/yw9zbqtn</a><br/>\n",
              "Run page: <a href=\"https://app.wandb.ai/igodfried/covid-forecast/runs/jzz869u5\" target=\"_blank\">https://app.wandb.ai/igodfried/covid-forecast/runs/jzz869u5</a><br/>\n",
              "            "
            ],
            "text/plain": [
              "<IPython.core.display.HTML object>"
            ]
          },
          "metadata": {
            "tags": []
          }
        },
        {
          "output_type": "stream",
          "text": [
            "{'model_name': 'MultiAttnHeadSimple', 'model_type': 'PyTorch', 'model_params': {'number_time_series': 3, 'seq_len': 2, 'output_seq_len': 2, 'forecast_length': 2}, 'dataset_params': {'class': 'default', 'training_path': 'antwerp.csv', 'validation_path': 'antwerp.csv', 'test_path': 'antwerp.csv', 'batch_size': 2, 'forecast_history': 2, 'forecast_length': 2, 'train_end': 71, 'valid_start': 72, 'valid_end': 91, 'target_col': ['new_cases'], 'relevant_cols': ['new_cases', 'month', 'weekday'], 'scaler': 'StandardScaler', 'interpolate': False}, 'training_params': {'criterion': 'MSE', 'optimizer': 'Adam', 'optim_params': {}, 'lr': 0.004, 'epochs': 10, 'batch_size': 2}, 'GCS': False, 'wandb': {'name': 'multihead_pytorch_antwerp', 'tags': ['covid_run', 'circleci'], 'project': 'covid-forecast'}, 'forward_params': {}, 'metrics': ['MSE'], 'inference_params': {'datetime_start': '2020-04-21', 'hours_to_forecast': 10, 'test_csv_path': 'antwerp.csv', 'decoder_params': {'decoder_function': 'simple_decode', 'unsqueeze_dim': 1}, 'dataset_params': {'file_path': 'antwerp.csv', 'forecast_history': 2, 'forecast_length': 2, 'relevant_cols': ['new_cases', 'month', 'weekday'], 'target_col': ['new_cases'], 'scaling': 'StandardScaler', 'interpolate_param': False}}}\n",
            "interpolate should be below\n",
            "Now loading and scaling antwerp.csv\n",
            "interpolate should be below\n",
            "Now loading and scaling antwerp.csv\n",
            "interpolate should be below\n",
            "Now loading and scaling antwerp.csv\n"
          ],
          "name": "stdout"
        },
        {
          "output_type": "display_data",
          "data": {
            "text/html": [
              "\n",
              "                Logging results to <a href=\"https://wandb.com\" target=\"_blank\">Weights & Biases</a> <a href=\"https://docs.wandb.com/integrations/jupyter.html\" target=\"_blank\">(Documentation)</a>.<br/>\n",
              "                Project page: <a href=\"https://app.wandb.ai/igodfried/covid-forecast\" target=\"_blank\">https://app.wandb.ai/igodfried/covid-forecast</a><br/>\n",
              "                Run page: <a href=\"https://app.wandb.ai/igodfried/covid-forecast/runs/163t7mhf\" target=\"_blank\">https://app.wandb.ai/igodfried/covid-forecast/runs/163t7mhf</a><br/>\n",
              "            "
            ],
            "text/plain": [
              "<IPython.core.display.HTML object>"
            ]
          },
          "metadata": {
            "tags": []
          }
        },
        {
          "output_type": "stream",
          "text": [
            "Torch is using cpu\n",
            "The running loss is:\n",
            "21.949298333376646\n",
            "The number of items in train is: \n",
            "33\n",
            "The loss for epoch 0\n",
            "0.665130252526565\n",
            "The running loss is:\n",
            "28.23917729780078\n",
            "The number of items in train is: \n",
            "33\n",
            "The loss for epoch 1\n",
            "0.8557326453879024\n",
            "The running loss is:\n",
            "20.276927853934467\n",
            "The number of items in train is: \n",
            "33\n",
            "The loss for epoch 2\n",
            "0.6144523592101354\n",
            "The running loss is:\n",
            "22.451173399109393\n",
            "The number of items in train is: \n",
            "33\n",
            "The loss for epoch 3\n",
            "0.6803385878517998\n",
            "The running loss is:\n",
            "18.38559128716588\n",
            "The number of items in train is: \n",
            "33\n",
            "The loss for epoch 4\n",
            "0.5571391299141176\n",
            "The running loss is:\n",
            "22.97731645638123\n",
            "The number of items in train is: \n",
            "33\n",
            "The loss for epoch 5\n",
            "0.6962823168600373\n",
            "The running loss is:\n",
            "15.07943250075914\n",
            "The number of items in train is: \n",
            "33\n",
            "The loss for epoch 6\n",
            "0.45695250002300425\n",
            "The running loss is:\n",
            "19.21207500435412\n",
            "The number of items in train is: \n",
            "33\n",
            "The loss for epoch 7\n",
            "0.582184091041034\n",
            "The running loss is:\n",
            "15.169635845348239\n",
            "The number of items in train is: \n",
            "33\n",
            "The loss for epoch 8\n",
            "0.4596859347075224\n",
            "The running loss is:\n",
            "18.277867312077433\n",
            "The number of items in train is: \n",
            "33\n",
            "The loss for epoch 9\n",
            "0.5538747670326495\n",
            "interpolate should be below\n",
            "Now loading and scaling antwerp.csv\n",
            "CSV Path below\n",
            "antwerp.csv\n",
            "torch.Size([1, 2, 3])\n",
            "Add debugging crap below\n"
          ],
          "name": "stdout"
        },
        {
          "output_type": "stream",
          "text": [
            "/content/github_aistream-peelout_flow-forecast/flood_forecast/evaluator.py:136: SettingWithCopyWarning: \n",
            "A value is trying to be set on a copy of a slice from a DataFrame.\n",
            "Try using .loc[row_indexer,col_indexer] = value instead\n",
            "\n",
            "See the caveats in the documentation: https://pandas.pydata.org/pandas-docs/stable/user_guide/indexing.html#returning-a-view-versus-a-copy\n",
            "  df['preds'] = 0\n",
            "/content/github_aistream-peelout_flow-forecast/flood_forecast/evaluator.py:137: SettingWithCopyWarning: \n",
            "A value is trying to be set on a copy of a slice from a DataFrame\n",
            "\n",
            "See the caveats in the documentation: https://pandas.pydata.org/pandas-docs/stable/user_guide/indexing.html#returning-a-view-versus-a-copy\n",
            "  df['preds'][history_length:] = end_tensor.numpy().tolist()\n",
            "/usr/local/lib/python3.6/dist-packages/pandas/core/series.py:1042: SettingWithCopyWarning: \n",
            "A value is trying to be set on a copy of a slice from a DataFrame\n",
            "\n",
            "See the caveats in the documentation: https://pandas.pydata.org/pandas-docs/stable/user_guide/indexing.html#returning-a-view-versus-a-copy\n",
            "  self._set_with(key, value)\n",
            "/content/github_aistream-peelout_flow-forecast/flood_forecast/evaluator.py:59: SettingWithCopyWarning: \n",
            "A value is trying to be set on a copy of a slice from a DataFrame\n",
            "\n",
            "See the caveats in the documentation: https://pandas.pydata.org/pandas-docs/stable/user_guide/indexing.html#returning-a-view-versus-a-copy\n",
            "  df, end_tensor, forecast_history, junk, test_data = infer_on_torch_model(model, **inference_params)\n"
          ],
          "name": "stderr"
        },
        {
          "output_type": "stream",
          "text": [
            "torch.Size([10])\n",
            "test_data scale\n",
            "Un-transforming data\n"
          ],
          "name": "stdout"
        },
        {
          "output_type": "stream",
          "text": [
            "/content/github_aistream-peelout_flow-forecast/flood_forecast/evaluator.py:67: SettingWithCopyWarning: \n",
            "A value is trying to be set on a copy of a slice from a DataFrame\n",
            "\n",
            "See the caveats in the documentation: https://pandas.pydata.org/pandas-docs/stable/user_guide/indexing.html#returning-a-view-versus-a-copy\n",
            "  df['preds'][history_length:] = end_tensor_list\n",
            "/content/github_aistream-peelout_flow-forecast/flood_forecast/trainer.py:30: SettingWithCopyWarning: \n",
            "A value is trying to be set on a copy of a slice from a DataFrame\n",
            "\n",
            "See the caveats in the documentation: https://pandas.pydata.org/pandas-docs/stable/user_guide/indexing.html#returning-a-view-versus-a-copy\n",
            "  test_acc = evaluate_model(trained_model, model_type, params[\"dataset_params\"][\"target_col\"], params[\"metrics\"], params[\"inference_params\"], {})\n"
          ],
          "name": "stderr"
        },
        {
          "output_type": "stream",
          "text": [
            "Current historical dataframe\n",
            "    Unnamed: 0                        name  ... original_index      preds\n",
            "88          88  Antwerp, Flanders, Belgium  ...             88   0.000000\n",
            "89          89  Antwerp, Flanders, Belgium  ...             89   0.000000\n",
            "90          90  Antwerp, Flanders, Belgium  ...             90  85.166397\n",
            "91          91  Antwerp, Flanders, Belgium  ...             91  92.528320\n",
            "92          92  Antwerp, Flanders, Belgium  ...             92  80.694923\n",
            "93          93  Antwerp, Flanders, Belgium  ...             93  80.634438\n",
            "94          94  Antwerp, Flanders, Belgium  ...             94  77.969078\n",
            "95          95  Antwerp, Flanders, Belgium  ...             95  78.311951\n",
            "96          96  Antwerp, Flanders, Belgium  ...             96  78.250671\n",
            "97          97  Antwerp, Flanders, Belgium  ...             97  72.981339\n",
            "98          98  Antwerp, Flanders, Belgium  ...             98  72.524170\n",
            "99          99  Antwerp, Flanders, Belgium  ...             99  71.966652\n",
            "\n",
            "[12 rows x 32 columns]\n"
          ],
          "name": "stdout"
        },
        {
          "output_type": "stream",
          "text": [
            "/usr/local/lib/python3.6/dist-packages/plotly/matplotlylib/mpltools.py:368: MatplotlibDeprecationWarning:\n",
            "\n",
            "\n",
            "The is_frame_like function was deprecated in Matplotlib 3.1 and will be removed in 3.3.\n",
            "\n",
            "/usr/local/lib/python3.6/dist-packages/plotly/matplotlylib/renderer.py:410: UserWarning:\n",
            "\n",
            "Bummer! Plotly can currently only draw Line2D objects from matplotlib that are in 'data' coordinates!\n",
            "\n",
            "/usr/local/lib/python3.6/dist-packages/plotly/matplotlylib/renderer.py:512: UserWarning:\n",
            "\n",
            "I found a path object that I don't think is part of a bar chart. Ignoring.\n",
            "\n",
            "/usr/local/lib/python3.6/dist-packages/plotly/matplotlylib/mpltools.py:368: MatplotlibDeprecationWarning:\n",
            "\n",
            "\n",
            "The is_frame_like function was deprecated in Matplotlib 3.1 and will be removed in 3.3.\n",
            "\n",
            "/usr/local/lib/python3.6/dist-packages/plotly/matplotlylib/renderer.py:410: UserWarning:\n",
            "\n",
            "Bummer! Plotly can currently only draw Line2D objects from matplotlib that are in 'data' coordinates!\n",
            "\n",
            "/usr/local/lib/python3.6/dist-packages/plotly/matplotlylib/renderer.py:512: UserWarning:\n",
            "\n",
            "I found a path object that I don't think is part of a bar chart. Ignoring.\n",
            "\n"
          ],
          "name": "stderr"
        },
        {
          "output_type": "stream",
          "text": [
            "wandb: Agent Finished Run: jzz869u5 \n",
            "\n",
            "wandb: Agent Starting Run: 4vrhs88h with config:\n",
            "\tbatch_size: 2\n",
            "\tforecast_history: 2\n",
            "\tlr: 0.004\n",
            "\tout_seq_length: 3\n",
            "wandb: Agent Started Run: 4vrhs88h\n"
          ],
          "name": "stdout"
        },
        {
          "output_type": "display_data",
          "data": {
            "text/html": [
              "\n",
              "                Logging results to <a href=\"https://wandb.com\" target=\"_blank\">Weights & Biases</a> <a href=\"https://docs.wandb.com/integrations/jupyter.html\" target=\"_blank\">(Documentation)</a>.<br/>\n",
              "                Project page: <a href=\"https://app.wandb.ai/igodfried/covid-forecast\" target=\"_blank\">https://app.wandb.ai/igodfried/covid-forecast</a><br/>\n",
              "                Sweep page: <a href=\"https://app.wandb.ai/igodfried/covid-forecast/sweeps/yw9zbqtn\" target=\"_blank\">https://app.wandb.ai/igodfried/covid-forecast/sweeps/yw9zbqtn</a><br/>\n",
              "Run page: <a href=\"https://app.wandb.ai/igodfried/covid-forecast/runs/4vrhs88h\" target=\"_blank\">https://app.wandb.ai/igodfried/covid-forecast/runs/4vrhs88h</a><br/>\n",
              "            "
            ],
            "text/plain": [
              "<IPython.core.display.HTML object>"
            ]
          },
          "metadata": {
            "tags": []
          }
        },
        {
          "output_type": "stream",
          "text": [
            "{'model_name': 'MultiAttnHeadSimple', 'model_type': 'PyTorch', 'model_params': {'number_time_series': 3, 'seq_len': 2, 'output_seq_len': 3, 'forecast_length': 3}, 'dataset_params': {'class': 'default', 'training_path': 'antwerp.csv', 'validation_path': 'antwerp.csv', 'test_path': 'antwerp.csv', 'batch_size': 2, 'forecast_history': 2, 'forecast_length': 3, 'train_end': 71, 'valid_start': 72, 'valid_end': 91, 'target_col': ['new_cases'], 'relevant_cols': ['new_cases', 'month', 'weekday'], 'scaler': 'StandardScaler', 'interpolate': False}, 'training_params': {'criterion': 'MSE', 'optimizer': 'Adam', 'optim_params': {}, 'lr': 0.004, 'epochs': 10, 'batch_size': 2}, 'GCS': False, 'wandb': {'name': 'multihead_pytorch_antwerp', 'tags': ['covid_run', 'circleci'], 'project': 'covid-forecast'}, 'forward_params': {}, 'metrics': ['MSE'], 'inference_params': {'datetime_start': '2020-04-21', 'hours_to_forecast': 10, 'test_csv_path': 'antwerp.csv', 'decoder_params': {'decoder_function': 'simple_decode', 'unsqueeze_dim': 1}, 'dataset_params': {'file_path': 'antwerp.csv', 'forecast_history': 2, 'forecast_length': 3, 'relevant_cols': ['new_cases', 'month', 'weekday'], 'target_col': ['new_cases'], 'scaling': 'StandardScaler', 'interpolate_param': False}}}\n",
            "interpolate should be below\n",
            "Now loading and scaling antwerp.csv\n",
            "interpolate should be below\n",
            "Now loading and scaling antwerp.csv\n",
            "interpolate should be below\n",
            "Now loading and scaling antwerp.csv\n"
          ],
          "name": "stdout"
        },
        {
          "output_type": "display_data",
          "data": {
            "text/html": [
              "\n",
              "                Logging results to <a href=\"https://wandb.com\" target=\"_blank\">Weights & Biases</a> <a href=\"https://docs.wandb.com/integrations/jupyter.html\" target=\"_blank\">(Documentation)</a>.<br/>\n",
              "                Project page: <a href=\"https://app.wandb.ai/igodfried/covid-forecast\" target=\"_blank\">https://app.wandb.ai/igodfried/covid-forecast</a><br/>\n",
              "                Run page: <a href=\"https://app.wandb.ai/igodfried/covid-forecast/runs/2yg6m7n6\" target=\"_blank\">https://app.wandb.ai/igodfried/covid-forecast/runs/2yg6m7n6</a><br/>\n",
              "            "
            ],
            "text/plain": [
              "<IPython.core.display.HTML object>"
            ]
          },
          "metadata": {
            "tags": []
          }
        },
        {
          "output_type": "stream",
          "text": [
            "Torch is using cpu\n",
            "The running loss is:\n",
            "21.00543548539281\n",
            "The number of items in train is: \n",
            "33\n",
            "The loss for epoch 0\n",
            "0.6365283480422064\n",
            "The running loss is:\n",
            "31.75407860055566\n",
            "The number of items in train is: \n",
            "33\n",
            "The loss for epoch 1\n",
            "0.9622448060774442\n",
            "The running loss is:\n",
            "21.44613552838564\n",
            "The number of items in train is: \n",
            "33\n",
            "The loss for epoch 2\n",
            "0.6498828947995648\n",
            "The running loss is:\n",
            "24.966893255710602\n",
            "The number of items in train is: \n",
            "33\n",
            "The loss for epoch 3\n",
            "0.7565725229003213\n",
            "The running loss is:\n",
            "19.329234207049012\n",
            "The number of items in train is: \n",
            "33\n",
            "The loss for epoch 4\n",
            "0.5857343699105761\n",
            "The running loss is:\n",
            "22.27110578864813\n",
            "The number of items in train is: \n",
            "33\n",
            "The loss for epoch 5\n",
            "0.6748819935953978\n",
            "The running loss is:\n",
            "17.701665556058288\n",
            "The number of items in train is: \n",
            "33\n",
            "The loss for epoch 6\n",
            "0.5364141077593421\n",
            "The running loss is:\n",
            "25.693841315805912\n",
            "The number of items in train is: \n",
            "33\n",
            "The loss for epoch 7\n",
            "0.7786012519941186\n",
            "The running loss is:\n",
            "15.266029976308346\n",
            "The number of items in train is: \n",
            "33\n",
            "The loss for epoch 8\n",
            "0.4626069689790408\n",
            "The running loss is:\n",
            "16.428095784038305\n",
            "The number of items in train is: \n",
            "33\n",
            "The loss for epoch 9\n",
            "0.4978210843647971\n",
            "interpolate should be below\n",
            "Now loading and scaling antwerp.csv\n",
            "CSV Path below\n",
            "antwerp.csv\n",
            "torch.Size([1, 2, 3])\n",
            "Add debugging crap below\n"
          ],
          "name": "stdout"
        },
        {
          "output_type": "stream",
          "text": [
            "/content/github_aistream-peelout_flow-forecast/flood_forecast/evaluator.py:136: SettingWithCopyWarning: \n",
            "A value is trying to be set on a copy of a slice from a DataFrame.\n",
            "Try using .loc[row_indexer,col_indexer] = value instead\n",
            "\n",
            "See the caveats in the documentation: https://pandas.pydata.org/pandas-docs/stable/user_guide/indexing.html#returning-a-view-versus-a-copy\n",
            "  df['preds'] = 0\n",
            "/content/github_aistream-peelout_flow-forecast/flood_forecast/evaluator.py:137: SettingWithCopyWarning: \n",
            "A value is trying to be set on a copy of a slice from a DataFrame\n",
            "\n",
            "See the caveats in the documentation: https://pandas.pydata.org/pandas-docs/stable/user_guide/indexing.html#returning-a-view-versus-a-copy\n",
            "  df['preds'][history_length:] = end_tensor.numpy().tolist()\n",
            "/usr/local/lib/python3.6/dist-packages/pandas/core/series.py:1042: SettingWithCopyWarning: \n",
            "A value is trying to be set on a copy of a slice from a DataFrame\n",
            "\n",
            "See the caveats in the documentation: https://pandas.pydata.org/pandas-docs/stable/user_guide/indexing.html#returning-a-view-versus-a-copy\n",
            "  self._set_with(key, value)\n",
            "/content/github_aistream-peelout_flow-forecast/flood_forecast/evaluator.py:59: SettingWithCopyWarning: \n",
            "A value is trying to be set on a copy of a slice from a DataFrame\n",
            "\n",
            "See the caveats in the documentation: https://pandas.pydata.org/pandas-docs/stable/user_guide/indexing.html#returning-a-view-versus-a-copy\n",
            "  df, end_tensor, forecast_history, junk, test_data = infer_on_torch_model(model, **inference_params)\n"
          ],
          "name": "stderr"
        },
        {
          "output_type": "stream",
          "text": [
            "torch.Size([10])\n",
            "test_data scale\n",
            "Un-transforming data\n"
          ],
          "name": "stdout"
        },
        {
          "output_type": "stream",
          "text": [
            "/content/github_aistream-peelout_flow-forecast/flood_forecast/evaluator.py:67: SettingWithCopyWarning: \n",
            "A value is trying to be set on a copy of a slice from a DataFrame\n",
            "\n",
            "See the caveats in the documentation: https://pandas.pydata.org/pandas-docs/stable/user_guide/indexing.html#returning-a-view-versus-a-copy\n",
            "  df['preds'][history_length:] = end_tensor_list\n",
            "/content/github_aistream-peelout_flow-forecast/flood_forecast/trainer.py:30: SettingWithCopyWarning: \n",
            "A value is trying to be set on a copy of a slice from a DataFrame\n",
            "\n",
            "See the caveats in the documentation: https://pandas.pydata.org/pandas-docs/stable/user_guide/indexing.html#returning-a-view-versus-a-copy\n",
            "  test_acc = evaluate_model(trained_model, model_type, params[\"dataset_params\"][\"target_col\"], params[\"metrics\"], params[\"inference_params\"], {})\n"
          ],
          "name": "stderr"
        },
        {
          "output_type": "stream",
          "text": [
            "Current historical dataframe\n",
            "    Unnamed: 0                        name  ... original_index       preds\n",
            "88          88  Antwerp, Flanders, Belgium  ...             88    0.000000\n",
            "89          89  Antwerp, Flanders, Belgium  ...             89    0.000000\n",
            "90          90  Antwerp, Flanders, Belgium  ...             90  164.231934\n",
            "91          91  Antwerp, Flanders, Belgium  ...             91  173.492966\n",
            "92          92  Antwerp, Flanders, Belgium  ...             92  176.606049\n",
            "93          93  Antwerp, Flanders, Belgium  ...             93  182.805557\n",
            "94          94  Antwerp, Flanders, Belgium  ...             94  187.054810\n",
            "95          95  Antwerp, Flanders, Belgium  ...             95  192.212372\n",
            "96          96  Antwerp, Flanders, Belgium  ...             96  196.656876\n",
            "97          97  Antwerp, Flanders, Belgium  ...             97  206.050522\n",
            "98          98  Antwerp, Flanders, Belgium  ...             98  200.513489\n",
            "99          99  Antwerp, Flanders, Belgium  ...             99  204.270187\n",
            "\n",
            "[12 rows x 32 columns]\n"
          ],
          "name": "stdout"
        },
        {
          "output_type": "stream",
          "text": [
            "/usr/local/lib/python3.6/dist-packages/plotly/matplotlylib/mpltools.py:368: MatplotlibDeprecationWarning:\n",
            "\n",
            "\n",
            "The is_frame_like function was deprecated in Matplotlib 3.1 and will be removed in 3.3.\n",
            "\n",
            "/usr/local/lib/python3.6/dist-packages/plotly/matplotlylib/renderer.py:410: UserWarning:\n",
            "\n",
            "Bummer! Plotly can currently only draw Line2D objects from matplotlib that are in 'data' coordinates!\n",
            "\n",
            "/usr/local/lib/python3.6/dist-packages/plotly/matplotlylib/renderer.py:512: UserWarning:\n",
            "\n",
            "I found a path object that I don't think is part of a bar chart. Ignoring.\n",
            "\n",
            "/usr/local/lib/python3.6/dist-packages/plotly/matplotlylib/mpltools.py:368: MatplotlibDeprecationWarning:\n",
            "\n",
            "\n",
            "The is_frame_like function was deprecated in Matplotlib 3.1 and will be removed in 3.3.\n",
            "\n",
            "/usr/local/lib/python3.6/dist-packages/plotly/matplotlylib/renderer.py:410: UserWarning:\n",
            "\n",
            "Bummer! Plotly can currently only draw Line2D objects from matplotlib that are in 'data' coordinates!\n",
            "\n",
            "/usr/local/lib/python3.6/dist-packages/plotly/matplotlylib/renderer.py:512: UserWarning:\n",
            "\n",
            "I found a path object that I don't think is part of a bar chart. Ignoring.\n",
            "\n"
          ],
          "name": "stderr"
        },
        {
          "output_type": "stream",
          "text": [
            "wandb: Agent Finished Run: 4vrhs88h \n",
            "\n",
            "wandb: Agent Starting Run: r2mnfi6q with config:\n",
            "\tbatch_size: 2\n",
            "\tforecast_history: 2\n",
            "\tlr: 0.01\n",
            "\tout_seq_length: 1\n",
            "wandb: Agent Started Run: r2mnfi6q\n"
          ],
          "name": "stdout"
        },
        {
          "output_type": "display_data",
          "data": {
            "text/html": [
              "\n",
              "                Logging results to <a href=\"https://wandb.com\" target=\"_blank\">Weights & Biases</a> <a href=\"https://docs.wandb.com/integrations/jupyter.html\" target=\"_blank\">(Documentation)</a>.<br/>\n",
              "                Project page: <a href=\"https://app.wandb.ai/igodfried/covid-forecast\" target=\"_blank\">https://app.wandb.ai/igodfried/covid-forecast</a><br/>\n",
              "                Sweep page: <a href=\"https://app.wandb.ai/igodfried/covid-forecast/sweeps/yw9zbqtn\" target=\"_blank\">https://app.wandb.ai/igodfried/covid-forecast/sweeps/yw9zbqtn</a><br/>\n",
              "Run page: <a href=\"https://app.wandb.ai/igodfried/covid-forecast/runs/r2mnfi6q\" target=\"_blank\">https://app.wandb.ai/igodfried/covid-forecast/runs/r2mnfi6q</a><br/>\n",
              "            "
            ],
            "text/plain": [
              "<IPython.core.display.HTML object>"
            ]
          },
          "metadata": {
            "tags": []
          }
        },
        {
          "output_type": "stream",
          "text": [
            "{'model_name': 'MultiAttnHeadSimple', 'model_type': 'PyTorch', 'model_params': {'number_time_series': 3, 'seq_len': 2, 'output_seq_len': 1, 'forecast_length': 1}, 'dataset_params': {'class': 'default', 'training_path': 'antwerp.csv', 'validation_path': 'antwerp.csv', 'test_path': 'antwerp.csv', 'batch_size': 2, 'forecast_history': 2, 'forecast_length': 1, 'train_end': 71, 'valid_start': 72, 'valid_end': 91, 'target_col': ['new_cases'], 'relevant_cols': ['new_cases', 'month', 'weekday'], 'scaler': 'StandardScaler', 'interpolate': False}, 'training_params': {'criterion': 'MSE', 'optimizer': 'Adam', 'optim_params': {}, 'lr': 0.01, 'epochs': 10, 'batch_size': 2}, 'GCS': False, 'wandb': {'name': 'multihead_pytorch_antwerp', 'tags': ['covid_run', 'circleci'], 'project': 'covid-forecast'}, 'forward_params': {}, 'metrics': ['MSE'], 'inference_params': {'datetime_start': '2020-04-21', 'hours_to_forecast': 10, 'test_csv_path': 'antwerp.csv', 'decoder_params': {'decoder_function': 'simple_decode', 'unsqueeze_dim': 1}, 'dataset_params': {'file_path': 'antwerp.csv', 'forecast_history': 2, 'forecast_length': 1, 'relevant_cols': ['new_cases', 'month', 'weekday'], 'target_col': ['new_cases'], 'scaling': 'StandardScaler', 'interpolate_param': False}}}\n",
            "interpolate should be below\n",
            "Now loading and scaling antwerp.csv\n",
            "interpolate should be below\n",
            "Now loading and scaling antwerp.csv\n",
            "interpolate should be below\n",
            "Now loading and scaling antwerp.csv\n"
          ],
          "name": "stdout"
        },
        {
          "output_type": "display_data",
          "data": {
            "text/html": [
              "\n",
              "                Logging results to <a href=\"https://wandb.com\" target=\"_blank\">Weights & Biases</a> <a href=\"https://docs.wandb.com/integrations/jupyter.html\" target=\"_blank\">(Documentation)</a>.<br/>\n",
              "                Project page: <a href=\"https://app.wandb.ai/igodfried/covid-forecast\" target=\"_blank\">https://app.wandb.ai/igodfried/covid-forecast</a><br/>\n",
              "                Run page: <a href=\"https://app.wandb.ai/igodfried/covid-forecast/runs/1q44113p\" target=\"_blank\">https://app.wandb.ai/igodfried/covid-forecast/runs/1q44113p</a><br/>\n",
              "            "
            ],
            "text/plain": [
              "<IPython.core.display.HTML object>"
            ]
          },
          "metadata": {
            "tags": []
          }
        },
        {
          "output_type": "stream",
          "text": [
            "Torch is using cpu\n",
            "The running loss is:\n",
            "7.926211021491326\n",
            "The number of items in train is: \n",
            "34\n",
            "The loss for epoch 0\n",
            "0.2331238535732743\n",
            "The running loss is:\n",
            "45.07759717758745\n",
            "The number of items in train is: \n",
            "34\n",
            "The loss for epoch 1\n",
            "1.3258116816937484\n",
            "The running loss is:\n",
            "17.52304550539702\n",
            "The number of items in train is: \n",
            "34\n",
            "The loss for epoch 2\n",
            "0.5153836913352066\n",
            "The running loss is:\n",
            "19.223857637960464\n",
            "The number of items in train is: \n",
            "34\n",
            "The loss for epoch 3\n",
            "0.5654075775870725\n",
            "The running loss is:\n",
            "17.085357565616505\n",
            "The number of items in train is: \n",
            "34\n",
            "The loss for epoch 4\n",
            "0.5025105166357795\n",
            "The running loss is:\n",
            "26.338379439665005\n",
            "The number of items in train is: \n",
            "34\n",
            "The loss for epoch 5\n",
            "0.7746582188136766\n",
            "The running loss is:\n",
            "12.023202999029309\n",
            "The number of items in train is: \n",
            "34\n",
            "The loss for epoch 6\n",
            "0.3536236176185091\n",
            "The running loss is:\n",
            "10.84097226295853\n",
            "The number of items in train is: \n",
            "34\n",
            "The loss for epoch 7\n",
            "0.3188521253811332\n",
            "The running loss is:\n",
            "9.669757608440705\n",
            "The number of items in train is: \n",
            "34\n",
            "The loss for epoch 8\n",
            "0.28440463554237366\n",
            "The running loss is:\n",
            "7.7529250888037495\n",
            "The number of items in train is: \n",
            "34\n",
            "The loss for epoch 9\n",
            "0.22802720849422792\n",
            "interpolate should be below\n",
            "Now loading and scaling antwerp.csv\n",
            "CSV Path below\n",
            "antwerp.csv\n",
            "torch.Size([1, 2, 3])\n",
            "Add debugging crap below\n"
          ],
          "name": "stdout"
        },
        {
          "output_type": "stream",
          "text": [
            "/content/github_aistream-peelout_flow-forecast/flood_forecast/evaluator.py:136: SettingWithCopyWarning: \n",
            "A value is trying to be set on a copy of a slice from a DataFrame.\n",
            "Try using .loc[row_indexer,col_indexer] = value instead\n",
            "\n",
            "See the caveats in the documentation: https://pandas.pydata.org/pandas-docs/stable/user_guide/indexing.html#returning-a-view-versus-a-copy\n",
            "  df['preds'] = 0\n",
            "/content/github_aistream-peelout_flow-forecast/flood_forecast/evaluator.py:137: SettingWithCopyWarning: \n",
            "A value is trying to be set on a copy of a slice from a DataFrame\n",
            "\n",
            "See the caveats in the documentation: https://pandas.pydata.org/pandas-docs/stable/user_guide/indexing.html#returning-a-view-versus-a-copy\n",
            "  df['preds'][history_length:] = end_tensor.numpy().tolist()\n",
            "/usr/local/lib/python3.6/dist-packages/pandas/core/series.py:1042: SettingWithCopyWarning: \n",
            "A value is trying to be set on a copy of a slice from a DataFrame\n",
            "\n",
            "See the caveats in the documentation: https://pandas.pydata.org/pandas-docs/stable/user_guide/indexing.html#returning-a-view-versus-a-copy\n",
            "  self._set_with(key, value)\n",
            "/content/github_aistream-peelout_flow-forecast/flood_forecast/evaluator.py:59: SettingWithCopyWarning: \n",
            "A value is trying to be set on a copy of a slice from a DataFrame\n",
            "\n",
            "See the caveats in the documentation: https://pandas.pydata.org/pandas-docs/stable/user_guide/indexing.html#returning-a-view-versus-a-copy\n",
            "  df, end_tensor, forecast_history, junk, test_data = infer_on_torch_model(model, **inference_params)\n"
          ],
          "name": "stderr"
        },
        {
          "output_type": "stream",
          "text": [
            "torch.Size([10])\n",
            "test_data scale\n",
            "Un-transforming data\n"
          ],
          "name": "stdout"
        },
        {
          "output_type": "stream",
          "text": [
            "/content/github_aistream-peelout_flow-forecast/flood_forecast/evaluator.py:67: SettingWithCopyWarning: \n",
            "A value is trying to be set on a copy of a slice from a DataFrame\n",
            "\n",
            "See the caveats in the documentation: https://pandas.pydata.org/pandas-docs/stable/user_guide/indexing.html#returning-a-view-versus-a-copy\n",
            "  df['preds'][history_length:] = end_tensor_list\n",
            "/content/github_aistream-peelout_flow-forecast/flood_forecast/trainer.py:30: SettingWithCopyWarning: \n",
            "A value is trying to be set on a copy of a slice from a DataFrame\n",
            "\n",
            "See the caveats in the documentation: https://pandas.pydata.org/pandas-docs/stable/user_guide/indexing.html#returning-a-view-versus-a-copy\n",
            "  test_acc = evaluate_model(trained_model, model_type, params[\"dataset_params\"][\"target_col\"], params[\"metrics\"], params[\"inference_params\"], {})\n"
          ],
          "name": "stderr"
        },
        {
          "output_type": "stream",
          "text": [
            "Current historical dataframe\n",
            "    Unnamed: 0                        name  ... original_index       preds\n",
            "88          88  Antwerp, Flanders, Belgium  ...             88    0.000000\n",
            "89          89  Antwerp, Flanders, Belgium  ...             89    0.000000\n",
            "90          90  Antwerp, Flanders, Belgium  ...             90  157.648819\n",
            "91          91  Antwerp, Flanders, Belgium  ...             91  163.518372\n",
            "92          92  Antwerp, Flanders, Belgium  ...             92  164.045349\n",
            "93          93  Antwerp, Flanders, Belgium  ...             93  172.106415\n",
            "94          94  Antwerp, Flanders, Belgium  ...             94  178.464401\n",
            "95          95  Antwerp, Flanders, Belgium  ...             95  189.383789\n",
            "96          96  Antwerp, Flanders, Belgium  ...             96  200.001709\n",
            "97          97  Antwerp, Flanders, Belgium  ...             97  199.110626\n",
            "98          98  Antwerp, Flanders, Belgium  ...             98  195.757309\n",
            "99          99  Antwerp, Flanders, Belgium  ...             99  198.477951\n",
            "\n",
            "[12 rows x 32 columns]\n"
          ],
          "name": "stdout"
        },
        {
          "output_type": "stream",
          "text": [
            "/usr/local/lib/python3.6/dist-packages/plotly/matplotlylib/mpltools.py:368: MatplotlibDeprecationWarning:\n",
            "\n",
            "\n",
            "The is_frame_like function was deprecated in Matplotlib 3.1 and will be removed in 3.3.\n",
            "\n",
            "/usr/local/lib/python3.6/dist-packages/plotly/matplotlylib/renderer.py:410: UserWarning:\n",
            "\n",
            "Bummer! Plotly can currently only draw Line2D objects from matplotlib that are in 'data' coordinates!\n",
            "\n",
            "/usr/local/lib/python3.6/dist-packages/plotly/matplotlylib/renderer.py:512: UserWarning:\n",
            "\n",
            "I found a path object that I don't think is part of a bar chart. Ignoring.\n",
            "\n",
            "/usr/local/lib/python3.6/dist-packages/plotly/matplotlylib/mpltools.py:368: MatplotlibDeprecationWarning:\n",
            "\n",
            "\n",
            "The is_frame_like function was deprecated in Matplotlib 3.1 and will be removed in 3.3.\n",
            "\n",
            "/usr/local/lib/python3.6/dist-packages/plotly/matplotlylib/renderer.py:410: UserWarning:\n",
            "\n",
            "Bummer! Plotly can currently only draw Line2D objects from matplotlib that are in 'data' coordinates!\n",
            "\n",
            "/usr/local/lib/python3.6/dist-packages/plotly/matplotlylib/renderer.py:512: UserWarning:\n",
            "\n",
            "I found a path object that I don't think is part of a bar chart. Ignoring.\n",
            "\n"
          ],
          "name": "stderr"
        },
        {
          "output_type": "stream",
          "text": [
            "wandb: Agent Finished Run: r2mnfi6q \n",
            "\n",
            "wandb: Agent Starting Run: 6jzdmv5b with config:\n",
            "\tbatch_size: 2\n",
            "\tforecast_history: 2\n",
            "\tlr: 0.01\n",
            "\tout_seq_length: 2\n",
            "wandb: Agent Started Run: 6jzdmv5b\n"
          ],
          "name": "stdout"
        },
        {
          "output_type": "display_data",
          "data": {
            "text/html": [
              "\n",
              "                Logging results to <a href=\"https://wandb.com\" target=\"_blank\">Weights & Biases</a> <a href=\"https://docs.wandb.com/integrations/jupyter.html\" target=\"_blank\">(Documentation)</a>.<br/>\n",
              "                Project page: <a href=\"https://app.wandb.ai/igodfried/covid-forecast\" target=\"_blank\">https://app.wandb.ai/igodfried/covid-forecast</a><br/>\n",
              "                Sweep page: <a href=\"https://app.wandb.ai/igodfried/covid-forecast/sweeps/yw9zbqtn\" target=\"_blank\">https://app.wandb.ai/igodfried/covid-forecast/sweeps/yw9zbqtn</a><br/>\n",
              "Run page: <a href=\"https://app.wandb.ai/igodfried/covid-forecast/runs/6jzdmv5b\" target=\"_blank\">https://app.wandb.ai/igodfried/covid-forecast/runs/6jzdmv5b</a><br/>\n",
              "            "
            ],
            "text/plain": [
              "<IPython.core.display.HTML object>"
            ]
          },
          "metadata": {
            "tags": []
          }
        },
        {
          "output_type": "stream",
          "text": [
            "{'model_name': 'MultiAttnHeadSimple', 'model_type': 'PyTorch', 'model_params': {'number_time_series': 3, 'seq_len': 2, 'output_seq_len': 2, 'forecast_length': 2}, 'dataset_params': {'class': 'default', 'training_path': 'antwerp.csv', 'validation_path': 'antwerp.csv', 'test_path': 'antwerp.csv', 'batch_size': 2, 'forecast_history': 2, 'forecast_length': 2, 'train_end': 71, 'valid_start': 72, 'valid_end': 91, 'target_col': ['new_cases'], 'relevant_cols': ['new_cases', 'month', 'weekday'], 'scaler': 'StandardScaler', 'interpolate': False}, 'training_params': {'criterion': 'MSE', 'optimizer': 'Adam', 'optim_params': {}, 'lr': 0.01, 'epochs': 10, 'batch_size': 2}, 'GCS': False, 'wandb': {'name': 'multihead_pytorch_antwerp', 'tags': ['covid_run', 'circleci'], 'project': 'covid-forecast'}, 'forward_params': {}, 'metrics': ['MSE'], 'inference_params': {'datetime_start': '2020-04-21', 'hours_to_forecast': 10, 'test_csv_path': 'antwerp.csv', 'decoder_params': {'decoder_function': 'simple_decode', 'unsqueeze_dim': 1}, 'dataset_params': {'file_path': 'antwerp.csv', 'forecast_history': 2, 'forecast_length': 2, 'relevant_cols': ['new_cases', 'month', 'weekday'], 'target_col': ['new_cases'], 'scaling': 'StandardScaler', 'interpolate_param': False}}}\n",
            "interpolate should be below\n",
            "Now loading and scaling antwerp.csv\n",
            "interpolate should be below\n",
            "Now loading and scaling antwerp.csv\n",
            "interpolate should be below\n",
            "Now loading and scaling antwerp.csv\n"
          ],
          "name": "stdout"
        },
        {
          "output_type": "display_data",
          "data": {
            "text/html": [
              "\n",
              "                Logging results to <a href=\"https://wandb.com\" target=\"_blank\">Weights & Biases</a> <a href=\"https://docs.wandb.com/integrations/jupyter.html\" target=\"_blank\">(Documentation)</a>.<br/>\n",
              "                Project page: <a href=\"https://app.wandb.ai/igodfried/covid-forecast\" target=\"_blank\">https://app.wandb.ai/igodfried/covid-forecast</a><br/>\n",
              "                Run page: <a href=\"https://app.wandb.ai/igodfried/covid-forecast/runs/1v5fpitr\" target=\"_blank\">https://app.wandb.ai/igodfried/covid-forecast/runs/1v5fpitr</a><br/>\n",
              "            "
            ],
            "text/plain": [
              "<IPython.core.display.HTML object>"
            ]
          },
          "metadata": {
            "tags": []
          }
        },
        {
          "output_type": "stream",
          "text": [
            "Torch is using cpu\n",
            "The running loss is:\n",
            "21.949298333376646\n",
            "The number of items in train is: \n",
            "33\n",
            "The loss for epoch 0\n",
            "0.665130252526565\n",
            "The running loss is:\n",
            "28.23917729780078\n",
            "The number of items in train is: \n",
            "33\n",
            "The loss for epoch 1\n",
            "0.8557326453879024\n",
            "The running loss is:\n",
            "20.276927853934467\n",
            "The number of items in train is: \n",
            "33\n",
            "The loss for epoch 2\n",
            "0.6144523592101354\n",
            "The running loss is:\n",
            "22.451173399109393\n",
            "The number of items in train is: \n",
            "33\n",
            "The loss for epoch 3\n",
            "0.6803385878517998\n",
            "The running loss is:\n",
            "18.38559128716588\n",
            "The number of items in train is: \n",
            "33\n",
            "The loss for epoch 4\n",
            "0.5571391299141176\n",
            "The running loss is:\n",
            "22.97731645638123\n",
            "The number of items in train is: \n",
            "33\n",
            "The loss for epoch 5\n",
            "0.6962823168600373\n",
            "The running loss is:\n",
            "15.07943250075914\n",
            "The number of items in train is: \n",
            "33\n",
            "The loss for epoch 6\n",
            "0.45695250002300425\n",
            "The running loss is:\n",
            "19.21207500435412\n",
            "The number of items in train is: \n",
            "33\n",
            "The loss for epoch 7\n",
            "0.582184091041034\n",
            "The running loss is:\n",
            "15.169635845348239\n",
            "The number of items in train is: \n",
            "33\n",
            "The loss for epoch 8\n",
            "0.4596859347075224\n",
            "The running loss is:\n",
            "18.277867312077433\n",
            "The number of items in train is: \n",
            "33\n",
            "The loss for epoch 9\n",
            "0.5538747670326495\n",
            "interpolate should be below\n",
            "Now loading and scaling antwerp.csv\n",
            "CSV Path below\n",
            "antwerp.csv\n",
            "torch.Size([1, 2, 3])\n",
            "Add debugging crap below\n"
          ],
          "name": "stdout"
        },
        {
          "output_type": "stream",
          "text": [
            "/content/github_aistream-peelout_flow-forecast/flood_forecast/evaluator.py:136: SettingWithCopyWarning: \n",
            "A value is trying to be set on a copy of a slice from a DataFrame.\n",
            "Try using .loc[row_indexer,col_indexer] = value instead\n",
            "\n",
            "See the caveats in the documentation: https://pandas.pydata.org/pandas-docs/stable/user_guide/indexing.html#returning-a-view-versus-a-copy\n",
            "  df['preds'] = 0\n",
            "/content/github_aistream-peelout_flow-forecast/flood_forecast/evaluator.py:137: SettingWithCopyWarning: \n",
            "A value is trying to be set on a copy of a slice from a DataFrame\n",
            "\n",
            "See the caveats in the documentation: https://pandas.pydata.org/pandas-docs/stable/user_guide/indexing.html#returning-a-view-versus-a-copy\n",
            "  df['preds'][history_length:] = end_tensor.numpy().tolist()\n",
            "/usr/local/lib/python3.6/dist-packages/pandas/core/series.py:1042: SettingWithCopyWarning: \n",
            "A value is trying to be set on a copy of a slice from a DataFrame\n",
            "\n",
            "See the caveats in the documentation: https://pandas.pydata.org/pandas-docs/stable/user_guide/indexing.html#returning-a-view-versus-a-copy\n",
            "  self._set_with(key, value)\n",
            "/content/github_aistream-peelout_flow-forecast/flood_forecast/evaluator.py:59: SettingWithCopyWarning: \n",
            "A value is trying to be set on a copy of a slice from a DataFrame\n",
            "\n",
            "See the caveats in the documentation: https://pandas.pydata.org/pandas-docs/stable/user_guide/indexing.html#returning-a-view-versus-a-copy\n",
            "  df, end_tensor, forecast_history, junk, test_data = infer_on_torch_model(model, **inference_params)\n"
          ],
          "name": "stderr"
        },
        {
          "output_type": "stream",
          "text": [
            "torch.Size([10])\n",
            "test_data scale\n",
            "Un-transforming data\n"
          ],
          "name": "stdout"
        },
        {
          "output_type": "stream",
          "text": [
            "/content/github_aistream-peelout_flow-forecast/flood_forecast/evaluator.py:67: SettingWithCopyWarning: \n",
            "A value is trying to be set on a copy of a slice from a DataFrame\n",
            "\n",
            "See the caveats in the documentation: https://pandas.pydata.org/pandas-docs/stable/user_guide/indexing.html#returning-a-view-versus-a-copy\n",
            "  df['preds'][history_length:] = end_tensor_list\n",
            "/content/github_aistream-peelout_flow-forecast/flood_forecast/trainer.py:30: SettingWithCopyWarning: \n",
            "A value is trying to be set on a copy of a slice from a DataFrame\n",
            "\n",
            "See the caveats in the documentation: https://pandas.pydata.org/pandas-docs/stable/user_guide/indexing.html#returning-a-view-versus-a-copy\n",
            "  test_acc = evaluate_model(trained_model, model_type, params[\"dataset_params\"][\"target_col\"], params[\"metrics\"], params[\"inference_params\"], {})\n"
          ],
          "name": "stderr"
        },
        {
          "output_type": "stream",
          "text": [
            "Current historical dataframe\n",
            "    Unnamed: 0                        name  ... original_index      preds\n",
            "88          88  Antwerp, Flanders, Belgium  ...             88   0.000000\n",
            "89          89  Antwerp, Flanders, Belgium  ...             89   0.000000\n",
            "90          90  Antwerp, Flanders, Belgium  ...             90  85.166397\n",
            "91          91  Antwerp, Flanders, Belgium  ...             91  92.528320\n",
            "92          92  Antwerp, Flanders, Belgium  ...             92  80.694923\n",
            "93          93  Antwerp, Flanders, Belgium  ...             93  80.634438\n",
            "94          94  Antwerp, Flanders, Belgium  ...             94  77.969078\n",
            "95          95  Antwerp, Flanders, Belgium  ...             95  78.311951\n",
            "96          96  Antwerp, Flanders, Belgium  ...             96  78.250671\n",
            "97          97  Antwerp, Flanders, Belgium  ...             97  72.981339\n",
            "98          98  Antwerp, Flanders, Belgium  ...             98  72.524170\n",
            "99          99  Antwerp, Flanders, Belgium  ...             99  71.966652\n",
            "\n",
            "[12 rows x 32 columns]\n"
          ],
          "name": "stdout"
        },
        {
          "output_type": "stream",
          "text": [
            "/usr/local/lib/python3.6/dist-packages/plotly/matplotlylib/mpltools.py:368: MatplotlibDeprecationWarning:\n",
            "\n",
            "\n",
            "The is_frame_like function was deprecated in Matplotlib 3.1 and will be removed in 3.3.\n",
            "\n",
            "/usr/local/lib/python3.6/dist-packages/plotly/matplotlylib/renderer.py:410: UserWarning:\n",
            "\n",
            "Bummer! Plotly can currently only draw Line2D objects from matplotlib that are in 'data' coordinates!\n",
            "\n",
            "/usr/local/lib/python3.6/dist-packages/plotly/matplotlylib/renderer.py:512: UserWarning:\n",
            "\n",
            "I found a path object that I don't think is part of a bar chart. Ignoring.\n",
            "\n",
            "/usr/local/lib/python3.6/dist-packages/plotly/matplotlylib/mpltools.py:368: MatplotlibDeprecationWarning:\n",
            "\n",
            "\n",
            "The is_frame_like function was deprecated in Matplotlib 3.1 and will be removed in 3.3.\n",
            "\n",
            "/usr/local/lib/python3.6/dist-packages/plotly/matplotlylib/renderer.py:410: UserWarning:\n",
            "\n",
            "Bummer! Plotly can currently only draw Line2D objects from matplotlib that are in 'data' coordinates!\n",
            "\n",
            "/usr/local/lib/python3.6/dist-packages/plotly/matplotlylib/renderer.py:512: UserWarning:\n",
            "\n",
            "I found a path object that I don't think is part of a bar chart. Ignoring.\n",
            "\n"
          ],
          "name": "stderr"
        },
        {
          "output_type": "stream",
          "text": [
            "wandb: Agent Finished Run: 6jzdmv5b \n",
            "\n",
            "wandb: Agent Starting Run: aq47jf5a with config:\n",
            "\tbatch_size: 2\n",
            "\tforecast_history: 2\n",
            "\tlr: 0.01\n",
            "\tout_seq_length: 3\n",
            "wandb: Agent Started Run: aq47jf5a\n"
          ],
          "name": "stdout"
        },
        {
          "output_type": "display_data",
          "data": {
            "text/html": [
              "\n",
              "                Logging results to <a href=\"https://wandb.com\" target=\"_blank\">Weights & Biases</a> <a href=\"https://docs.wandb.com/integrations/jupyter.html\" target=\"_blank\">(Documentation)</a>.<br/>\n",
              "                Project page: <a href=\"https://app.wandb.ai/igodfried/covid-forecast\" target=\"_blank\">https://app.wandb.ai/igodfried/covid-forecast</a><br/>\n",
              "                Sweep page: <a href=\"https://app.wandb.ai/igodfried/covid-forecast/sweeps/yw9zbqtn\" target=\"_blank\">https://app.wandb.ai/igodfried/covid-forecast/sweeps/yw9zbqtn</a><br/>\n",
              "Run page: <a href=\"https://app.wandb.ai/igodfried/covid-forecast/runs/aq47jf5a\" target=\"_blank\">https://app.wandb.ai/igodfried/covid-forecast/runs/aq47jf5a</a><br/>\n",
              "            "
            ],
            "text/plain": [
              "<IPython.core.display.HTML object>"
            ]
          },
          "metadata": {
            "tags": []
          }
        },
        {
          "output_type": "stream",
          "text": [
            "{'model_name': 'MultiAttnHeadSimple', 'model_type': 'PyTorch', 'model_params': {'number_time_series': 3, 'seq_len': 2, 'output_seq_len': 3, 'forecast_length': 3}, 'dataset_params': {'class': 'default', 'training_path': 'antwerp.csv', 'validation_path': 'antwerp.csv', 'test_path': 'antwerp.csv', 'batch_size': 2, 'forecast_history': 2, 'forecast_length': 3, 'train_end': 71, 'valid_start': 72, 'valid_end': 91, 'target_col': ['new_cases'], 'relevant_cols': ['new_cases', 'month', 'weekday'], 'scaler': 'StandardScaler', 'interpolate': False}, 'training_params': {'criterion': 'MSE', 'optimizer': 'Adam', 'optim_params': {}, 'lr': 0.01, 'epochs': 10, 'batch_size': 2}, 'GCS': False, 'wandb': {'name': 'multihead_pytorch_antwerp', 'tags': ['covid_run', 'circleci'], 'project': 'covid-forecast'}, 'forward_params': {}, 'metrics': ['MSE'], 'inference_params': {'datetime_start': '2020-04-21', 'hours_to_forecast': 10, 'test_csv_path': 'antwerp.csv', 'decoder_params': {'decoder_function': 'simple_decode', 'unsqueeze_dim': 1}, 'dataset_params': {'file_path': 'antwerp.csv', 'forecast_history': 2, 'forecast_length': 3, 'relevant_cols': ['new_cases', 'month', 'weekday'], 'target_col': ['new_cases'], 'scaling': 'StandardScaler', 'interpolate_param': False}}}\n",
            "interpolate should be below\n",
            "Now loading and scaling antwerp.csv\n",
            "interpolate should be below\n",
            "Now loading and scaling antwerp.csv\n",
            "interpolate should be below\n",
            "Now loading and scaling antwerp.csv\n"
          ],
          "name": "stdout"
        },
        {
          "output_type": "display_data",
          "data": {
            "text/html": [
              "\n",
              "                Logging results to <a href=\"https://wandb.com\" target=\"_blank\">Weights & Biases</a> <a href=\"https://docs.wandb.com/integrations/jupyter.html\" target=\"_blank\">(Documentation)</a>.<br/>\n",
              "                Project page: <a href=\"https://app.wandb.ai/igodfried/covid-forecast\" target=\"_blank\">https://app.wandb.ai/igodfried/covid-forecast</a><br/>\n",
              "                Run page: <a href=\"https://app.wandb.ai/igodfried/covid-forecast/runs/ugw55m4u\" target=\"_blank\">https://app.wandb.ai/igodfried/covid-forecast/runs/ugw55m4u</a><br/>\n",
              "            "
            ],
            "text/plain": [
              "<IPython.core.display.HTML object>"
            ]
          },
          "metadata": {
            "tags": []
          }
        },
        {
          "output_type": "stream",
          "text": [
            "Torch is using cpu\n",
            "The running loss is:\n",
            "21.00543548539281\n",
            "The number of items in train is: \n",
            "33\n",
            "The loss for epoch 0\n",
            "0.6365283480422064\n",
            "The running loss is:\n",
            "31.75407860055566\n",
            "The number of items in train is: \n",
            "33\n",
            "The loss for epoch 1\n",
            "0.9622448060774442\n",
            "The running loss is:\n",
            "21.44613552838564\n",
            "The number of items in train is: \n",
            "33\n",
            "The loss for epoch 2\n",
            "0.6498828947995648\n",
            "The running loss is:\n",
            "24.966893255710602\n",
            "The number of items in train is: \n",
            "33\n",
            "The loss for epoch 3\n",
            "0.7565725229003213\n",
            "The running loss is:\n",
            "19.329234207049012\n",
            "The number of items in train is: \n",
            "33\n",
            "The loss for epoch 4\n",
            "0.5857343699105761\n",
            "The running loss is:\n",
            "22.27110578864813\n",
            "The number of items in train is: \n",
            "33\n",
            "The loss for epoch 5\n",
            "0.6748819935953978\n",
            "The running loss is:\n",
            "17.701665556058288\n",
            "The number of items in train is: \n",
            "33\n",
            "The loss for epoch 6\n",
            "0.5364141077593421\n",
            "The running loss is:\n",
            "25.693841315805912\n",
            "The number of items in train is: \n",
            "33\n",
            "The loss for epoch 7\n",
            "0.7786012519941186\n",
            "The running loss is:\n",
            "15.266029976308346\n",
            "The number of items in train is: \n",
            "33\n",
            "The loss for epoch 8\n",
            "0.4626069689790408\n",
            "The running loss is:\n",
            "16.428095784038305\n",
            "The number of items in train is: \n",
            "33\n",
            "The loss for epoch 9\n",
            "0.4978210843647971\n",
            "interpolate should be below\n",
            "Now loading and scaling antwerp.csv\n",
            "CSV Path below\n",
            "antwerp.csv\n",
            "torch.Size([1, 2, 3])\n",
            "Add debugging crap below\n"
          ],
          "name": "stdout"
        },
        {
          "output_type": "stream",
          "text": [
            "/content/github_aistream-peelout_flow-forecast/flood_forecast/evaluator.py:136: SettingWithCopyWarning: \n",
            "A value is trying to be set on a copy of a slice from a DataFrame.\n",
            "Try using .loc[row_indexer,col_indexer] = value instead\n",
            "\n",
            "See the caveats in the documentation: https://pandas.pydata.org/pandas-docs/stable/user_guide/indexing.html#returning-a-view-versus-a-copy\n",
            "  df['preds'] = 0\n",
            "/content/github_aistream-peelout_flow-forecast/flood_forecast/evaluator.py:137: SettingWithCopyWarning: \n",
            "A value is trying to be set on a copy of a slice from a DataFrame\n",
            "\n",
            "See the caveats in the documentation: https://pandas.pydata.org/pandas-docs/stable/user_guide/indexing.html#returning-a-view-versus-a-copy\n",
            "  df['preds'][history_length:] = end_tensor.numpy().tolist()\n",
            "/usr/local/lib/python3.6/dist-packages/pandas/core/series.py:1042: SettingWithCopyWarning: \n",
            "A value is trying to be set on a copy of a slice from a DataFrame\n",
            "\n",
            "See the caveats in the documentation: https://pandas.pydata.org/pandas-docs/stable/user_guide/indexing.html#returning-a-view-versus-a-copy\n",
            "  self._set_with(key, value)\n",
            "/content/github_aistream-peelout_flow-forecast/flood_forecast/evaluator.py:59: SettingWithCopyWarning: \n",
            "A value is trying to be set on a copy of a slice from a DataFrame\n",
            "\n",
            "See the caveats in the documentation: https://pandas.pydata.org/pandas-docs/stable/user_guide/indexing.html#returning-a-view-versus-a-copy\n",
            "  df, end_tensor, forecast_history, junk, test_data = infer_on_torch_model(model, **inference_params)\n"
          ],
          "name": "stderr"
        },
        {
          "output_type": "stream",
          "text": [
            "torch.Size([10])\n",
            "test_data scale\n",
            "Un-transforming data\n"
          ],
          "name": "stdout"
        },
        {
          "output_type": "stream",
          "text": [
            "/content/github_aistream-peelout_flow-forecast/flood_forecast/evaluator.py:67: SettingWithCopyWarning: \n",
            "A value is trying to be set on a copy of a slice from a DataFrame\n",
            "\n",
            "See the caveats in the documentation: https://pandas.pydata.org/pandas-docs/stable/user_guide/indexing.html#returning-a-view-versus-a-copy\n",
            "  df['preds'][history_length:] = end_tensor_list\n",
            "/content/github_aistream-peelout_flow-forecast/flood_forecast/trainer.py:30: SettingWithCopyWarning: \n",
            "A value is trying to be set on a copy of a slice from a DataFrame\n",
            "\n",
            "See the caveats in the documentation: https://pandas.pydata.org/pandas-docs/stable/user_guide/indexing.html#returning-a-view-versus-a-copy\n",
            "  test_acc = evaluate_model(trained_model, model_type, params[\"dataset_params\"][\"target_col\"], params[\"metrics\"], params[\"inference_params\"], {})\n"
          ],
          "name": "stderr"
        },
        {
          "output_type": "stream",
          "text": [
            "Current historical dataframe\n",
            "    Unnamed: 0                        name  ... original_index       preds\n",
            "88          88  Antwerp, Flanders, Belgium  ...             88    0.000000\n",
            "89          89  Antwerp, Flanders, Belgium  ...             89    0.000000\n",
            "90          90  Antwerp, Flanders, Belgium  ...             90  164.231934\n",
            "91          91  Antwerp, Flanders, Belgium  ...             91  173.492966\n",
            "92          92  Antwerp, Flanders, Belgium  ...             92  176.606049\n",
            "93          93  Antwerp, Flanders, Belgium  ...             93  182.805557\n",
            "94          94  Antwerp, Flanders, Belgium  ...             94  187.054810\n",
            "95          95  Antwerp, Flanders, Belgium  ...             95  192.212372\n",
            "96          96  Antwerp, Flanders, Belgium  ...             96  196.656876\n",
            "97          97  Antwerp, Flanders, Belgium  ...             97  206.050522\n",
            "98          98  Antwerp, Flanders, Belgium  ...             98  200.513489\n",
            "99          99  Antwerp, Flanders, Belgium  ...             99  204.270187\n",
            "\n",
            "[12 rows x 32 columns]\n"
          ],
          "name": "stdout"
        },
        {
          "output_type": "stream",
          "text": [
            "/usr/local/lib/python3.6/dist-packages/plotly/matplotlylib/mpltools.py:368: MatplotlibDeprecationWarning:\n",
            "\n",
            "\n",
            "The is_frame_like function was deprecated in Matplotlib 3.1 and will be removed in 3.3.\n",
            "\n",
            "/usr/local/lib/python3.6/dist-packages/plotly/matplotlylib/renderer.py:410: UserWarning:\n",
            "\n",
            "Bummer! Plotly can currently only draw Line2D objects from matplotlib that are in 'data' coordinates!\n",
            "\n",
            "/usr/local/lib/python3.6/dist-packages/plotly/matplotlylib/renderer.py:512: UserWarning:\n",
            "\n",
            "I found a path object that I don't think is part of a bar chart. Ignoring.\n",
            "\n",
            "/usr/local/lib/python3.6/dist-packages/plotly/matplotlylib/mpltools.py:368: MatplotlibDeprecationWarning:\n",
            "\n",
            "\n",
            "The is_frame_like function was deprecated in Matplotlib 3.1 and will be removed in 3.3.\n",
            "\n",
            "/usr/local/lib/python3.6/dist-packages/plotly/matplotlylib/renderer.py:410: UserWarning:\n",
            "\n",
            "Bummer! Plotly can currently only draw Line2D objects from matplotlib that are in 'data' coordinates!\n",
            "\n",
            "/usr/local/lib/python3.6/dist-packages/plotly/matplotlylib/renderer.py:512: UserWarning:\n",
            "\n",
            "I found a path object that I don't think is part of a bar chart. Ignoring.\n",
            "\n"
          ],
          "name": "stderr"
        },
        {
          "output_type": "stream",
          "text": [
            "wandb: Agent Finished Run: aq47jf5a \n",
            "\n",
            "wandb: Agent Starting Run: oz15bs5z with config:\n",
            "\tbatch_size: 2\n",
            "\tforecast_history: 3\n",
            "\tlr: 0.001\n",
            "\tout_seq_length: 1\n",
            "wandb: Agent Started Run: oz15bs5z\n"
          ],
          "name": "stdout"
        },
        {
          "output_type": "display_data",
          "data": {
            "text/html": [
              "\n",
              "                Logging results to <a href=\"https://wandb.com\" target=\"_blank\">Weights & Biases</a> <a href=\"https://docs.wandb.com/integrations/jupyter.html\" target=\"_blank\">(Documentation)</a>.<br/>\n",
              "                Project page: <a href=\"https://app.wandb.ai/igodfried/covid-forecast\" target=\"_blank\">https://app.wandb.ai/igodfried/covid-forecast</a><br/>\n",
              "                Sweep page: <a href=\"https://app.wandb.ai/igodfried/covid-forecast/sweeps/yw9zbqtn\" target=\"_blank\">https://app.wandb.ai/igodfried/covid-forecast/sweeps/yw9zbqtn</a><br/>\n",
              "Run page: <a href=\"https://app.wandb.ai/igodfried/covid-forecast/runs/oz15bs5z\" target=\"_blank\">https://app.wandb.ai/igodfried/covid-forecast/runs/oz15bs5z</a><br/>\n",
              "            "
            ],
            "text/plain": [
              "<IPython.core.display.HTML object>"
            ]
          },
          "metadata": {
            "tags": []
          }
        },
        {
          "output_type": "stream",
          "text": [
            "{'model_name': 'MultiAttnHeadSimple', 'model_type': 'PyTorch', 'model_params': {'number_time_series': 3, 'seq_len': 3, 'output_seq_len': 1, 'forecast_length': 1}, 'dataset_params': {'class': 'default', 'training_path': 'antwerp.csv', 'validation_path': 'antwerp.csv', 'test_path': 'antwerp.csv', 'batch_size': 2, 'forecast_history': 3, 'forecast_length': 1, 'train_end': 71, 'valid_start': 72, 'valid_end': 91, 'target_col': ['new_cases'], 'relevant_cols': ['new_cases', 'month', 'weekday'], 'scaler': 'StandardScaler', 'interpolate': False}, 'training_params': {'criterion': 'MSE', 'optimizer': 'Adam', 'optim_params': {}, 'lr': 0.001, 'epochs': 10, 'batch_size': 2}, 'GCS': False, 'wandb': {'name': 'multihead_pytorch_antwerp', 'tags': ['covid_run', 'circleci'], 'project': 'covid-forecast'}, 'forward_params': {}, 'metrics': ['MSE'], 'inference_params': {'datetime_start': '2020-04-21', 'hours_to_forecast': 10, 'test_csv_path': 'antwerp.csv', 'decoder_params': {'decoder_function': 'simple_decode', 'unsqueeze_dim': 1}, 'dataset_params': {'file_path': 'antwerp.csv', 'forecast_history': 3, 'forecast_length': 1, 'relevant_cols': ['new_cases', 'month', 'weekday'], 'target_col': ['new_cases'], 'scaling': 'StandardScaler', 'interpolate_param': False}}}\n",
            "interpolate should be below\n",
            "Now loading and scaling antwerp.csv\n",
            "interpolate should be below\n",
            "Now loading and scaling antwerp.csv\n",
            "interpolate should be below\n",
            "Now loading and scaling antwerp.csv\n"
          ],
          "name": "stdout"
        },
        {
          "output_type": "display_data",
          "data": {
            "text/html": [
              "\n",
              "                Logging results to <a href=\"https://wandb.com\" target=\"_blank\">Weights & Biases</a> <a href=\"https://docs.wandb.com/integrations/jupyter.html\" target=\"_blank\">(Documentation)</a>.<br/>\n",
              "                Project page: <a href=\"https://app.wandb.ai/igodfried/covid-forecast\" target=\"_blank\">https://app.wandb.ai/igodfried/covid-forecast</a><br/>\n",
              "                Run page: <a href=\"https://app.wandb.ai/igodfried/covid-forecast/runs/2c0nsw1y\" target=\"_blank\">https://app.wandb.ai/igodfried/covid-forecast/runs/2c0nsw1y</a><br/>\n",
              "            "
            ],
            "text/plain": [
              "<IPython.core.display.HTML object>"
            ]
          },
          "metadata": {
            "tags": []
          }
        },
        {
          "output_type": "stream",
          "text": [
            "Torch is using cpu\n",
            "The running loss is:\n",
            "10.025347635382786\n",
            "The number of items in train is: \n",
            "33\n",
            "The loss for epoch 0\n",
            "0.30379841319341777\n",
            "The running loss is:\n",
            "34.230189617257565\n",
            "The number of items in train is: \n",
            "33\n",
            "The loss for epoch 1\n",
            "1.0372784732502291\n",
            "The running loss is:\n",
            "13.429732192773372\n",
            "The number of items in train is: \n",
            "33\n",
            "The loss for epoch 2\n",
            "0.4069615815991931\n",
            "The running loss is:\n",
            "26.592998671345413\n",
            "The number of items in train is: \n",
            "33\n",
            "The loss for epoch 3\n",
            "0.8058484445862246\n",
            "The running loss is:\n",
            "12.567596087465063\n",
            "The number of items in train is: \n",
            "33\n",
            "The loss for epoch 4\n",
            "0.3808362450746989\n",
            "The running loss is:\n",
            "20.822010218165815\n",
            "The number of items in train is: \n",
            "33\n",
            "The loss for epoch 5\n",
            "0.6309700066110853\n",
            "The running loss is:\n",
            "7.111795865843305\n",
            "The number of items in train is: \n",
            "33\n",
            "The loss for epoch 6\n",
            "0.2155089656316153\n",
            "The running loss is:\n",
            "11.406340244342573\n",
            "The number of items in train is: \n",
            "33\n",
            "The loss for epoch 7\n",
            "0.34564667407098704\n",
            "The running loss is:\n",
            "5.787523627048358\n",
            "The number of items in train is: \n",
            "33\n",
            "The loss for epoch 8\n",
            "0.17537950384995024\n",
            "The running loss is:\n",
            "8.48353370220866\n",
            "The number of items in train is: \n",
            "33\n",
            "The loss for epoch 9\n",
            "0.2570767788548079\n",
            "interpolate should be below\n",
            "Now loading and scaling antwerp.csv\n",
            "CSV Path below\n",
            "antwerp.csv\n",
            "torch.Size([1, 3, 3])\n",
            "Add debugging crap below\n"
          ],
          "name": "stdout"
        },
        {
          "output_type": "stream",
          "text": [
            "/content/github_aistream-peelout_flow-forecast/flood_forecast/evaluator.py:136: SettingWithCopyWarning: \n",
            "A value is trying to be set on a copy of a slice from a DataFrame.\n",
            "Try using .loc[row_indexer,col_indexer] = value instead\n",
            "\n",
            "See the caveats in the documentation: https://pandas.pydata.org/pandas-docs/stable/user_guide/indexing.html#returning-a-view-versus-a-copy\n",
            "  df['preds'] = 0\n",
            "/content/github_aistream-peelout_flow-forecast/flood_forecast/evaluator.py:137: SettingWithCopyWarning: \n",
            "A value is trying to be set on a copy of a slice from a DataFrame\n",
            "\n",
            "See the caveats in the documentation: https://pandas.pydata.org/pandas-docs/stable/user_guide/indexing.html#returning-a-view-versus-a-copy\n",
            "  df['preds'][history_length:] = end_tensor.numpy().tolist()\n",
            "/usr/local/lib/python3.6/dist-packages/pandas/core/series.py:1042: SettingWithCopyWarning: \n",
            "A value is trying to be set on a copy of a slice from a DataFrame\n",
            "\n",
            "See the caveats in the documentation: https://pandas.pydata.org/pandas-docs/stable/user_guide/indexing.html#returning-a-view-versus-a-copy\n",
            "  self._set_with(key, value)\n",
            "/content/github_aistream-peelout_flow-forecast/flood_forecast/evaluator.py:59: SettingWithCopyWarning: \n",
            "A value is trying to be set on a copy of a slice from a DataFrame\n",
            "\n",
            "See the caveats in the documentation: https://pandas.pydata.org/pandas-docs/stable/user_guide/indexing.html#returning-a-view-versus-a-copy\n",
            "  df, end_tensor, forecast_history, junk, test_data = infer_on_torch_model(model, **inference_params)\n"
          ],
          "name": "stderr"
        },
        {
          "output_type": "stream",
          "text": [
            "torch.Size([10])\n",
            "test_data scale\n",
            "Un-transforming data\n"
          ],
          "name": "stdout"
        },
        {
          "output_type": "stream",
          "text": [
            "/content/github_aistream-peelout_flow-forecast/flood_forecast/evaluator.py:67: SettingWithCopyWarning: \n",
            "A value is trying to be set on a copy of a slice from a DataFrame\n",
            "\n",
            "See the caveats in the documentation: https://pandas.pydata.org/pandas-docs/stable/user_guide/indexing.html#returning-a-view-versus-a-copy\n",
            "  df['preds'][history_length:] = end_tensor_list\n",
            "/content/github_aistream-peelout_flow-forecast/flood_forecast/trainer.py:30: SettingWithCopyWarning: \n",
            "A value is trying to be set on a copy of a slice from a DataFrame\n",
            "\n",
            "See the caveats in the documentation: https://pandas.pydata.org/pandas-docs/stable/user_guide/indexing.html#returning-a-view-versus-a-copy\n",
            "  test_acc = evaluate_model(trained_model, model_type, params[\"dataset_params\"][\"target_col\"], params[\"metrics\"], params[\"inference_params\"], {})\n"
          ],
          "name": "stderr"
        },
        {
          "output_type": "stream",
          "text": [
            "Current historical dataframe\n",
            "    Unnamed: 0                        name  ... original_index       preds\n",
            "87          87  Antwerp, Flanders, Belgium  ...             87    0.000000\n",
            "88          88  Antwerp, Flanders, Belgium  ...             88    0.000000\n",
            "89          89  Antwerp, Flanders, Belgium  ...             89    0.000000\n",
            "90          90  Antwerp, Flanders, Belgium  ...             90  136.612915\n",
            "91          91  Antwerp, Flanders, Belgium  ...             91  132.998718\n",
            "92          92  Antwerp, Flanders, Belgium  ...             92  135.038666\n",
            "93          93  Antwerp, Flanders, Belgium  ...             93  122.781960\n",
            "94          94  Antwerp, Flanders, Belgium  ...             94  122.583794\n",
            "95          95  Antwerp, Flanders, Belgium  ...             95  123.441513\n",
            "96          96  Antwerp, Flanders, Belgium  ...             96  120.397736\n",
            "97          97  Antwerp, Flanders, Belgium  ...             97  111.034378\n",
            "98          98  Antwerp, Flanders, Belgium  ...             98  106.719803\n",
            "99          99  Antwerp, Flanders, Belgium  ...             99  104.161469\n",
            "\n",
            "[13 rows x 32 columns]\n"
          ],
          "name": "stdout"
        },
        {
          "output_type": "stream",
          "text": [
            "/usr/local/lib/python3.6/dist-packages/plotly/matplotlylib/mpltools.py:368: MatplotlibDeprecationWarning:\n",
            "\n",
            "\n",
            "The is_frame_like function was deprecated in Matplotlib 3.1 and will be removed in 3.3.\n",
            "\n",
            "/usr/local/lib/python3.6/dist-packages/plotly/matplotlylib/renderer.py:410: UserWarning:\n",
            "\n",
            "Bummer! Plotly can currently only draw Line2D objects from matplotlib that are in 'data' coordinates!\n",
            "\n",
            "/usr/local/lib/python3.6/dist-packages/plotly/matplotlylib/renderer.py:512: UserWarning:\n",
            "\n",
            "I found a path object that I don't think is part of a bar chart. Ignoring.\n",
            "\n",
            "/usr/local/lib/python3.6/dist-packages/plotly/matplotlylib/mpltools.py:368: MatplotlibDeprecationWarning:\n",
            "\n",
            "\n",
            "The is_frame_like function was deprecated in Matplotlib 3.1 and will be removed in 3.3.\n",
            "\n",
            "/usr/local/lib/python3.6/dist-packages/plotly/matplotlylib/renderer.py:410: UserWarning:\n",
            "\n",
            "Bummer! Plotly can currently only draw Line2D objects from matplotlib that are in 'data' coordinates!\n",
            "\n",
            "/usr/local/lib/python3.6/dist-packages/plotly/matplotlylib/renderer.py:512: UserWarning:\n",
            "\n",
            "I found a path object that I don't think is part of a bar chart. Ignoring.\n",
            "\n"
          ],
          "name": "stderr"
        },
        {
          "output_type": "stream",
          "text": [
            "wandb: Agent Finished Run: oz15bs5z \n",
            "\n",
            "wandb: Agent Starting Run: 8771p5cp with config:\n",
            "\tbatch_size: 2\n",
            "\tforecast_history: 3\n",
            "\tlr: 0.001\n",
            "\tout_seq_length: 2\n",
            "wandb: Agent Started Run: 8771p5cp\n"
          ],
          "name": "stdout"
        },
        {
          "output_type": "display_data",
          "data": {
            "text/html": [
              "\n",
              "                Logging results to <a href=\"https://wandb.com\" target=\"_blank\">Weights & Biases</a> <a href=\"https://docs.wandb.com/integrations/jupyter.html\" target=\"_blank\">(Documentation)</a>.<br/>\n",
              "                Project page: <a href=\"https://app.wandb.ai/igodfried/covid-forecast\" target=\"_blank\">https://app.wandb.ai/igodfried/covid-forecast</a><br/>\n",
              "                Sweep page: <a href=\"https://app.wandb.ai/igodfried/covid-forecast/sweeps/yw9zbqtn\" target=\"_blank\">https://app.wandb.ai/igodfried/covid-forecast/sweeps/yw9zbqtn</a><br/>\n",
              "Run page: <a href=\"https://app.wandb.ai/igodfried/covid-forecast/runs/8771p5cp\" target=\"_blank\">https://app.wandb.ai/igodfried/covid-forecast/runs/8771p5cp</a><br/>\n",
              "            "
            ],
            "text/plain": [
              "<IPython.core.display.HTML object>"
            ]
          },
          "metadata": {
            "tags": []
          }
        },
        {
          "output_type": "stream",
          "text": [
            "{'model_name': 'MultiAttnHeadSimple', 'model_type': 'PyTorch', 'model_params': {'number_time_series': 3, 'seq_len': 3, 'output_seq_len': 2, 'forecast_length': 2}, 'dataset_params': {'class': 'default', 'training_path': 'antwerp.csv', 'validation_path': 'antwerp.csv', 'test_path': 'antwerp.csv', 'batch_size': 2, 'forecast_history': 3, 'forecast_length': 2, 'train_end': 71, 'valid_start': 72, 'valid_end': 91, 'target_col': ['new_cases'], 'relevant_cols': ['new_cases', 'month', 'weekday'], 'scaler': 'StandardScaler', 'interpolate': False}, 'training_params': {'criterion': 'MSE', 'optimizer': 'Adam', 'optim_params': {}, 'lr': 0.001, 'epochs': 10, 'batch_size': 2}, 'GCS': False, 'wandb': {'name': 'multihead_pytorch_antwerp', 'tags': ['covid_run', 'circleci'], 'project': 'covid-forecast'}, 'forward_params': {}, 'metrics': ['MSE'], 'inference_params': {'datetime_start': '2020-04-21', 'hours_to_forecast': 10, 'test_csv_path': 'antwerp.csv', 'decoder_params': {'decoder_function': 'simple_decode', 'unsqueeze_dim': 1}, 'dataset_params': {'file_path': 'antwerp.csv', 'forecast_history': 3, 'forecast_length': 2, 'relevant_cols': ['new_cases', 'month', 'weekday'], 'target_col': ['new_cases'], 'scaling': 'StandardScaler', 'interpolate_param': False}}}\n",
            "interpolate should be below\n",
            "Now loading and scaling antwerp.csv\n",
            "interpolate should be below\n",
            "Now loading and scaling antwerp.csv\n",
            "interpolate should be below\n",
            "Now loading and scaling antwerp.csv\n"
          ],
          "name": "stdout"
        },
        {
          "output_type": "display_data",
          "data": {
            "text/html": [
              "\n",
              "                Logging results to <a href=\"https://wandb.com\" target=\"_blank\">Weights & Biases</a> <a href=\"https://docs.wandb.com/integrations/jupyter.html\" target=\"_blank\">(Documentation)</a>.<br/>\n",
              "                Project page: <a href=\"https://app.wandb.ai/igodfried/covid-forecast\" target=\"_blank\">https://app.wandb.ai/igodfried/covid-forecast</a><br/>\n",
              "                Run page: <a href=\"https://app.wandb.ai/igodfried/covid-forecast/runs/1hub5ozj\" target=\"_blank\">https://app.wandb.ai/igodfried/covid-forecast/runs/1hub5ozj</a><br/>\n",
              "            "
            ],
            "text/plain": [
              "<IPython.core.display.HTML object>"
            ]
          },
          "metadata": {
            "tags": []
          }
        },
        {
          "output_type": "stream",
          "text": [
            "Torch is using cpu\n",
            "The running loss is:\n",
            "28.064961809664965\n",
            "The number of items in train is: \n",
            "33\n",
            "The loss for epoch 0\n",
            "0.8504533881716656\n",
            "The running loss is:\n",
            "29.085500955581665\n",
            "The number of items in train is: \n",
            "33\n",
            "The loss for epoch 1\n",
            "0.881378816835808\n",
            "The running loss is:\n",
            "26.46319116279483\n",
            "The number of items in train is: \n",
            "33\n",
            "The loss for epoch 2\n",
            "0.8019148837210555\n",
            "The running loss is:\n",
            "27.79352070391178\n",
            "The number of items in train is: \n",
            "33\n",
            "The loss for epoch 3\n",
            "0.8422279001185389\n",
            "The running loss is:\n",
            "37.66246119979769\n",
            "The number of items in train is: \n",
            "33\n",
            "The loss for epoch 4\n",
            "1.1412867030241725\n",
            "The running loss is:\n",
            "23.635434065014124\n",
            "The number of items in train is: \n",
            "33\n",
            "The loss for epoch 5\n",
            "0.7162252746973977\n",
            "The running loss is:\n",
            "22.120809108018875\n",
            "The number of items in train is: \n",
            "33\n",
            "The loss for epoch 6\n",
            "0.6703275487278447\n",
            "The running loss is:\n",
            "20.774387892335653\n",
            "The number of items in train is: \n",
            "33\n",
            "The loss for epoch 7\n",
            "0.6295269058283531\n",
            "The running loss is:\n",
            "17.475550305098295\n",
            "The number of items in train is: \n",
            "33\n",
            "The loss for epoch 8\n",
            "0.5295621304575241\n",
            "The running loss is:\n",
            "17.86318363249302\n",
            "The number of items in train is: \n",
            "33\n",
            "The loss for epoch 9\n",
            "0.5413085949240308\n",
            "interpolate should be below\n",
            "Now loading and scaling antwerp.csv\n",
            "CSV Path below\n",
            "antwerp.csv\n",
            "torch.Size([1, 3, 3])\n",
            "Add debugging crap below\n"
          ],
          "name": "stdout"
        },
        {
          "output_type": "stream",
          "text": [
            "/content/github_aistream-peelout_flow-forecast/flood_forecast/evaluator.py:136: SettingWithCopyWarning: \n",
            "A value is trying to be set on a copy of a slice from a DataFrame.\n",
            "Try using .loc[row_indexer,col_indexer] = value instead\n",
            "\n",
            "See the caveats in the documentation: https://pandas.pydata.org/pandas-docs/stable/user_guide/indexing.html#returning-a-view-versus-a-copy\n",
            "  df['preds'] = 0\n",
            "/content/github_aistream-peelout_flow-forecast/flood_forecast/evaluator.py:137: SettingWithCopyWarning: \n",
            "A value is trying to be set on a copy of a slice from a DataFrame\n",
            "\n",
            "See the caveats in the documentation: https://pandas.pydata.org/pandas-docs/stable/user_guide/indexing.html#returning-a-view-versus-a-copy\n",
            "  df['preds'][history_length:] = end_tensor.numpy().tolist()\n",
            "/usr/local/lib/python3.6/dist-packages/pandas/core/series.py:1042: SettingWithCopyWarning: \n",
            "A value is trying to be set on a copy of a slice from a DataFrame\n",
            "\n",
            "See the caveats in the documentation: https://pandas.pydata.org/pandas-docs/stable/user_guide/indexing.html#returning-a-view-versus-a-copy\n",
            "  self._set_with(key, value)\n",
            "/content/github_aistream-peelout_flow-forecast/flood_forecast/evaluator.py:59: SettingWithCopyWarning: \n",
            "A value is trying to be set on a copy of a slice from a DataFrame\n",
            "\n",
            "See the caveats in the documentation: https://pandas.pydata.org/pandas-docs/stable/user_guide/indexing.html#returning-a-view-versus-a-copy\n",
            "  df, end_tensor, forecast_history, junk, test_data = infer_on_torch_model(model, **inference_params)\n"
          ],
          "name": "stderr"
        },
        {
          "output_type": "stream",
          "text": [
            "torch.Size([10])\n",
            "test_data scale\n",
            "Un-transforming data\n"
          ],
          "name": "stdout"
        },
        {
          "output_type": "stream",
          "text": [
            "/content/github_aistream-peelout_flow-forecast/flood_forecast/evaluator.py:67: SettingWithCopyWarning: \n",
            "A value is trying to be set on a copy of a slice from a DataFrame\n",
            "\n",
            "See the caveats in the documentation: https://pandas.pydata.org/pandas-docs/stable/user_guide/indexing.html#returning-a-view-versus-a-copy\n",
            "  df['preds'][history_length:] = end_tensor_list\n",
            "/content/github_aistream-peelout_flow-forecast/flood_forecast/trainer.py:30: SettingWithCopyWarning: \n",
            "A value is trying to be set on a copy of a slice from a DataFrame\n",
            "\n",
            "See the caveats in the documentation: https://pandas.pydata.org/pandas-docs/stable/user_guide/indexing.html#returning-a-view-versus-a-copy\n",
            "  test_acc = evaluate_model(trained_model, model_type, params[\"dataset_params\"][\"target_col\"], params[\"metrics\"], params[\"inference_params\"], {})\n"
          ],
          "name": "stderr"
        },
        {
          "output_type": "stream",
          "text": [
            "Current historical dataframe\n",
            "    Unnamed: 0                        name  ... original_index       preds\n",
            "87          87  Antwerp, Flanders, Belgium  ...             87    0.000000\n",
            "88          88  Antwerp, Flanders, Belgium  ...             88    0.000000\n",
            "89          89  Antwerp, Flanders, Belgium  ...             89    0.000000\n",
            "90          90  Antwerp, Flanders, Belgium  ...             90  149.282455\n",
            "91          91  Antwerp, Flanders, Belgium  ...             91  184.569229\n",
            "92          92  Antwerp, Flanders, Belgium  ...             92  186.867966\n",
            "93          93  Antwerp, Flanders, Belgium  ...             93  188.032913\n",
            "94          94  Antwerp, Flanders, Belgium  ...             94  202.545227\n",
            "95          95  Antwerp, Flanders, Belgium  ...             95  206.003845\n",
            "96          96  Antwerp, Flanders, Belgium  ...             96  210.492386\n",
            "97          97  Antwerp, Flanders, Belgium  ...             97  248.335281\n",
            "98          98  Antwerp, Flanders, Belgium  ...             98  260.891876\n",
            "99          99  Antwerp, Flanders, Belgium  ...             99  248.564087\n",
            "\n",
            "[13 rows x 32 columns]\n"
          ],
          "name": "stdout"
        },
        {
          "output_type": "stream",
          "text": [
            "/usr/local/lib/python3.6/dist-packages/plotly/matplotlylib/mpltools.py:368: MatplotlibDeprecationWarning:\n",
            "\n",
            "\n",
            "The is_frame_like function was deprecated in Matplotlib 3.1 and will be removed in 3.3.\n",
            "\n",
            "/usr/local/lib/python3.6/dist-packages/plotly/matplotlylib/renderer.py:410: UserWarning:\n",
            "\n",
            "Bummer! Plotly can currently only draw Line2D objects from matplotlib that are in 'data' coordinates!\n",
            "\n",
            "/usr/local/lib/python3.6/dist-packages/plotly/matplotlylib/renderer.py:512: UserWarning:\n",
            "\n",
            "I found a path object that I don't think is part of a bar chart. Ignoring.\n",
            "\n",
            "/usr/local/lib/python3.6/dist-packages/plotly/matplotlylib/mpltools.py:368: MatplotlibDeprecationWarning:\n",
            "\n",
            "\n",
            "The is_frame_like function was deprecated in Matplotlib 3.1 and will be removed in 3.3.\n",
            "\n",
            "/usr/local/lib/python3.6/dist-packages/plotly/matplotlylib/renderer.py:410: UserWarning:\n",
            "\n",
            "Bummer! Plotly can currently only draw Line2D objects from matplotlib that are in 'data' coordinates!\n",
            "\n",
            "/usr/local/lib/python3.6/dist-packages/plotly/matplotlylib/renderer.py:512: UserWarning:\n",
            "\n",
            "I found a path object that I don't think is part of a bar chart. Ignoring.\n",
            "\n"
          ],
          "name": "stderr"
        },
        {
          "output_type": "stream",
          "text": [
            "wandb: Agent Finished Run: 8771p5cp \n",
            "\n",
            "wandb: Agent Starting Run: 7ljdlr01 with config:\n",
            "\tbatch_size: 2\n",
            "\tforecast_history: 3\n",
            "\tlr: 0.001\n",
            "\tout_seq_length: 3\n",
            "wandb: Agent Started Run: 7ljdlr01\n"
          ],
          "name": "stdout"
        },
        {
          "output_type": "display_data",
          "data": {
            "text/html": [
              "\n",
              "                Logging results to <a href=\"https://wandb.com\" target=\"_blank\">Weights & Biases</a> <a href=\"https://docs.wandb.com/integrations/jupyter.html\" target=\"_blank\">(Documentation)</a>.<br/>\n",
              "                Project page: <a href=\"https://app.wandb.ai/igodfried/covid-forecast\" target=\"_blank\">https://app.wandb.ai/igodfried/covid-forecast</a><br/>\n",
              "                Sweep page: <a href=\"https://app.wandb.ai/igodfried/covid-forecast/sweeps/yw9zbqtn\" target=\"_blank\">https://app.wandb.ai/igodfried/covid-forecast/sweeps/yw9zbqtn</a><br/>\n",
              "Run page: <a href=\"https://app.wandb.ai/igodfried/covid-forecast/runs/7ljdlr01\" target=\"_blank\">https://app.wandb.ai/igodfried/covid-forecast/runs/7ljdlr01</a><br/>\n",
              "            "
            ],
            "text/plain": [
              "<IPython.core.display.HTML object>"
            ]
          },
          "metadata": {
            "tags": []
          }
        },
        {
          "output_type": "stream",
          "text": [
            "{'model_name': 'MultiAttnHeadSimple', 'model_type': 'PyTorch', 'model_params': {'number_time_series': 3, 'seq_len': 3, 'output_seq_len': 3, 'forecast_length': 3}, 'dataset_params': {'class': 'default', 'training_path': 'antwerp.csv', 'validation_path': 'antwerp.csv', 'test_path': 'antwerp.csv', 'batch_size': 2, 'forecast_history': 3, 'forecast_length': 3, 'train_end': 71, 'valid_start': 72, 'valid_end': 91, 'target_col': ['new_cases'], 'relevant_cols': ['new_cases', 'month', 'weekday'], 'scaler': 'StandardScaler', 'interpolate': False}, 'training_params': {'criterion': 'MSE', 'optimizer': 'Adam', 'optim_params': {}, 'lr': 0.001, 'epochs': 10, 'batch_size': 2}, 'GCS': False, 'wandb': {'name': 'multihead_pytorch_antwerp', 'tags': ['covid_run', 'circleci'], 'project': 'covid-forecast'}, 'forward_params': {}, 'metrics': ['MSE'], 'inference_params': {'datetime_start': '2020-04-21', 'hours_to_forecast': 10, 'test_csv_path': 'antwerp.csv', 'decoder_params': {'decoder_function': 'simple_decode', 'unsqueeze_dim': 1}, 'dataset_params': {'file_path': 'antwerp.csv', 'forecast_history': 3, 'forecast_length': 3, 'relevant_cols': ['new_cases', 'month', 'weekday'], 'target_col': ['new_cases'], 'scaling': 'StandardScaler', 'interpolate_param': False}}}\n",
            "interpolate should be below\n",
            "Now loading and scaling antwerp.csv\n",
            "interpolate should be below\n",
            "Now loading and scaling antwerp.csv\n",
            "interpolate should be below\n",
            "Now loading and scaling antwerp.csv\n"
          ],
          "name": "stdout"
        },
        {
          "output_type": "display_data",
          "data": {
            "text/html": [
              "\n",
              "                Logging results to <a href=\"https://wandb.com\" target=\"_blank\">Weights & Biases</a> <a href=\"https://docs.wandb.com/integrations/jupyter.html\" target=\"_blank\">(Documentation)</a>.<br/>\n",
              "                Project page: <a href=\"https://app.wandb.ai/igodfried/covid-forecast\" target=\"_blank\">https://app.wandb.ai/igodfried/covid-forecast</a><br/>\n",
              "                Run page: <a href=\"https://app.wandb.ai/igodfried/covid-forecast/runs/39r7o8f0\" target=\"_blank\">https://app.wandb.ai/igodfried/covid-forecast/runs/39r7o8f0</a><br/>\n",
              "            "
            ],
            "text/plain": [
              "<IPython.core.display.HTML object>"
            ]
          },
          "metadata": {
            "tags": []
          }
        },
        {
          "output_type": "stream",
          "text": [
            "Torch is using cpu\n",
            "The running loss is:\n",
            "17.937730296049267\n",
            "The number of items in train is: \n",
            "32\n",
            "The loss for epoch 0\n",
            "0.5605540717515396\n",
            "The running loss is:\n",
            "35.50285805051681\n",
            "The number of items in train is: \n",
            "32\n",
            "The loss for epoch 1\n",
            "1.1094643140786502\n",
            "The running loss is:\n",
            "17.564409082289785\n",
            "The number of items in train is: \n",
            "32\n",
            "The loss for epoch 2\n",
            "0.5488877838215558\n",
            "The running loss is:\n",
            "23.59525622660294\n",
            "The number of items in train is: \n",
            "32\n",
            "The loss for epoch 3\n",
            "0.7373517570813419\n",
            "The running loss is:\n",
            "15.578202691394836\n",
            "The number of items in train is: \n",
            "32\n",
            "The loss for epoch 4\n",
            "0.4868188341060886\n",
            "The running loss is:\n",
            "24.60211830935441\n",
            "The number of items in train is: \n",
            "32\n",
            "The loss for epoch 5\n",
            "0.7688161971673253\n",
            "The running loss is:\n",
            "14.085245068301447\n",
            "The number of items in train is: \n",
            "32\n",
            "The loss for epoch 6\n",
            "0.4401639083844202\n",
            "The running loss is:\n",
            "12.162914328742772\n",
            "The number of items in train is: \n",
            "32\n",
            "The loss for epoch 7\n",
            "0.38009107277321164\n",
            "The running loss is:\n",
            "12.102874213131145\n",
            "The number of items in train is: \n",
            "32\n",
            "The loss for epoch 8\n",
            "0.37821481916034827\n",
            "The running loss is:\n",
            "11.44598395540379\n",
            "The number of items in train is: \n",
            "32\n",
            "The loss for epoch 9\n",
            "0.35768699860636843\n",
            "interpolate should be below\n",
            "Now loading and scaling antwerp.csv\n",
            "CSV Path below\n",
            "antwerp.csv\n",
            "torch.Size([1, 3, 3])\n",
            "Add debugging crap below\n"
          ],
          "name": "stdout"
        },
        {
          "output_type": "stream",
          "text": [
            "/content/github_aistream-peelout_flow-forecast/flood_forecast/evaluator.py:136: SettingWithCopyWarning: \n",
            "A value is trying to be set on a copy of a slice from a DataFrame.\n",
            "Try using .loc[row_indexer,col_indexer] = value instead\n",
            "\n",
            "See the caveats in the documentation: https://pandas.pydata.org/pandas-docs/stable/user_guide/indexing.html#returning-a-view-versus-a-copy\n",
            "  df['preds'] = 0\n",
            "/content/github_aistream-peelout_flow-forecast/flood_forecast/evaluator.py:137: SettingWithCopyWarning: \n",
            "A value is trying to be set on a copy of a slice from a DataFrame\n",
            "\n",
            "See the caveats in the documentation: https://pandas.pydata.org/pandas-docs/stable/user_guide/indexing.html#returning-a-view-versus-a-copy\n",
            "  df['preds'][history_length:] = end_tensor.numpy().tolist()\n",
            "/usr/local/lib/python3.6/dist-packages/pandas/core/series.py:1042: SettingWithCopyWarning: \n",
            "A value is trying to be set on a copy of a slice from a DataFrame\n",
            "\n",
            "See the caveats in the documentation: https://pandas.pydata.org/pandas-docs/stable/user_guide/indexing.html#returning-a-view-versus-a-copy\n",
            "  self._set_with(key, value)\n",
            "/content/github_aistream-peelout_flow-forecast/flood_forecast/evaluator.py:59: SettingWithCopyWarning: \n",
            "A value is trying to be set on a copy of a slice from a DataFrame\n",
            "\n",
            "See the caveats in the documentation: https://pandas.pydata.org/pandas-docs/stable/user_guide/indexing.html#returning-a-view-versus-a-copy\n",
            "  df, end_tensor, forecast_history, junk, test_data = infer_on_torch_model(model, **inference_params)\n"
          ],
          "name": "stderr"
        },
        {
          "output_type": "stream",
          "text": [
            "torch.Size([10])\n",
            "test_data scale\n",
            "Un-transforming data\n"
          ],
          "name": "stdout"
        },
        {
          "output_type": "stream",
          "text": [
            "/content/github_aistream-peelout_flow-forecast/flood_forecast/evaluator.py:67: SettingWithCopyWarning: \n",
            "A value is trying to be set on a copy of a slice from a DataFrame\n",
            "\n",
            "See the caveats in the documentation: https://pandas.pydata.org/pandas-docs/stable/user_guide/indexing.html#returning-a-view-versus-a-copy\n",
            "  df['preds'][history_length:] = end_tensor_list\n",
            "/content/github_aistream-peelout_flow-forecast/flood_forecast/trainer.py:30: SettingWithCopyWarning: \n",
            "A value is trying to be set on a copy of a slice from a DataFrame\n",
            "\n",
            "See the caveats in the documentation: https://pandas.pydata.org/pandas-docs/stable/user_guide/indexing.html#returning-a-view-versus-a-copy\n",
            "  test_acc = evaluate_model(trained_model, model_type, params[\"dataset_params\"][\"target_col\"], params[\"metrics\"], params[\"inference_params\"], {})\n"
          ],
          "name": "stderr"
        },
        {
          "output_type": "stream",
          "text": [
            "Current historical dataframe\n",
            "    Unnamed: 0                        name  ... original_index       preds\n",
            "87          87  Antwerp, Flanders, Belgium  ...             87    0.000000\n",
            "88          88  Antwerp, Flanders, Belgium  ...             88    0.000000\n",
            "89          89  Antwerp, Flanders, Belgium  ...             89    0.000000\n",
            "90          90  Antwerp, Flanders, Belgium  ...             90  132.449570\n",
            "91          91  Antwerp, Flanders, Belgium  ...             91  163.160934\n",
            "92          92  Antwerp, Flanders, Belgium  ...             92  169.112091\n",
            "93          93  Antwerp, Flanders, Belgium  ...             93  168.411591\n",
            "94          94  Antwerp, Flanders, Belgium  ...             94  187.403351\n",
            "95          95  Antwerp, Flanders, Belgium  ...             95  200.974945\n",
            "96          96  Antwerp, Flanders, Belgium  ...             96  218.312180\n",
            "97          97  Antwerp, Flanders, Belgium  ...             97  233.340790\n",
            "98          98  Antwerp, Flanders, Belgium  ...             98  246.575729\n",
            "99          99  Antwerp, Flanders, Belgium  ...             99  250.199844\n",
            "\n",
            "[13 rows x 32 columns]\n"
          ],
          "name": "stdout"
        },
        {
          "output_type": "stream",
          "text": [
            "/usr/local/lib/python3.6/dist-packages/plotly/matplotlylib/mpltools.py:368: MatplotlibDeprecationWarning:\n",
            "\n",
            "\n",
            "The is_frame_like function was deprecated in Matplotlib 3.1 and will be removed in 3.3.\n",
            "\n",
            "/usr/local/lib/python3.6/dist-packages/plotly/matplotlylib/renderer.py:410: UserWarning:\n",
            "\n",
            "Bummer! Plotly can currently only draw Line2D objects from matplotlib that are in 'data' coordinates!\n",
            "\n",
            "/usr/local/lib/python3.6/dist-packages/plotly/matplotlylib/renderer.py:512: UserWarning:\n",
            "\n",
            "I found a path object that I don't think is part of a bar chart. Ignoring.\n",
            "\n",
            "/usr/local/lib/python3.6/dist-packages/plotly/matplotlylib/mpltools.py:368: MatplotlibDeprecationWarning:\n",
            "\n",
            "\n",
            "The is_frame_like function was deprecated in Matplotlib 3.1 and will be removed in 3.3.\n",
            "\n",
            "/usr/local/lib/python3.6/dist-packages/plotly/matplotlylib/renderer.py:410: UserWarning:\n",
            "\n",
            "Bummer! Plotly can currently only draw Line2D objects from matplotlib that are in 'data' coordinates!\n",
            "\n",
            "/usr/local/lib/python3.6/dist-packages/plotly/matplotlylib/renderer.py:512: UserWarning:\n",
            "\n",
            "I found a path object that I don't think is part of a bar chart. Ignoring.\n",
            "\n"
          ],
          "name": "stderr"
        },
        {
          "output_type": "stream",
          "text": [
            "wandb: Agent Finished Run: 7ljdlr01 \n",
            "\n",
            "wandb: Agent Starting Run: ybqj85zn with config:\n",
            "\tbatch_size: 2\n",
            "\tforecast_history: 3\n",
            "\tlr: 0.002\n",
            "\tout_seq_length: 1\n",
            "wandb: Agent Started Run: ybqj85zn\n"
          ],
          "name": "stdout"
        },
        {
          "output_type": "display_data",
          "data": {
            "text/html": [
              "\n",
              "                Logging results to <a href=\"https://wandb.com\" target=\"_blank\">Weights & Biases</a> <a href=\"https://docs.wandb.com/integrations/jupyter.html\" target=\"_blank\">(Documentation)</a>.<br/>\n",
              "                Project page: <a href=\"https://app.wandb.ai/igodfried/covid-forecast\" target=\"_blank\">https://app.wandb.ai/igodfried/covid-forecast</a><br/>\n",
              "                Sweep page: <a href=\"https://app.wandb.ai/igodfried/covid-forecast/sweeps/yw9zbqtn\" target=\"_blank\">https://app.wandb.ai/igodfried/covid-forecast/sweeps/yw9zbqtn</a><br/>\n",
              "Run page: <a href=\"https://app.wandb.ai/igodfried/covid-forecast/runs/ybqj85zn\" target=\"_blank\">https://app.wandb.ai/igodfried/covid-forecast/runs/ybqj85zn</a><br/>\n",
              "            "
            ],
            "text/plain": [
              "<IPython.core.display.HTML object>"
            ]
          },
          "metadata": {
            "tags": []
          }
        },
        {
          "output_type": "stream",
          "text": [
            "{'model_name': 'MultiAttnHeadSimple', 'model_type': 'PyTorch', 'model_params': {'number_time_series': 3, 'seq_len': 3, 'output_seq_len': 1, 'forecast_length': 1}, 'dataset_params': {'class': 'default', 'training_path': 'antwerp.csv', 'validation_path': 'antwerp.csv', 'test_path': 'antwerp.csv', 'batch_size': 2, 'forecast_history': 3, 'forecast_length': 1, 'train_end': 71, 'valid_start': 72, 'valid_end': 91, 'target_col': ['new_cases'], 'relevant_cols': ['new_cases', 'month', 'weekday'], 'scaler': 'StandardScaler', 'interpolate': False}, 'training_params': {'criterion': 'MSE', 'optimizer': 'Adam', 'optim_params': {}, 'lr': 0.002, 'epochs': 10, 'batch_size': 2}, 'GCS': False, 'wandb': {'name': 'multihead_pytorch_antwerp', 'tags': ['covid_run', 'circleci'], 'project': 'covid-forecast'}, 'forward_params': {}, 'metrics': ['MSE'], 'inference_params': {'datetime_start': '2020-04-21', 'hours_to_forecast': 10, 'test_csv_path': 'antwerp.csv', 'decoder_params': {'decoder_function': 'simple_decode', 'unsqueeze_dim': 1}, 'dataset_params': {'file_path': 'antwerp.csv', 'forecast_history': 3, 'forecast_length': 1, 'relevant_cols': ['new_cases', 'month', 'weekday'], 'target_col': ['new_cases'], 'scaling': 'StandardScaler', 'interpolate_param': False}}}\n",
            "interpolate should be below\n",
            "Now loading and scaling antwerp.csv\n",
            "interpolate should be below\n",
            "Now loading and scaling antwerp.csv\n",
            "interpolate should be below\n",
            "Now loading and scaling antwerp.csv\n"
          ],
          "name": "stdout"
        },
        {
          "output_type": "display_data",
          "data": {
            "text/html": [
              "\n",
              "                Logging results to <a href=\"https://wandb.com\" target=\"_blank\">Weights & Biases</a> <a href=\"https://docs.wandb.com/integrations/jupyter.html\" target=\"_blank\">(Documentation)</a>.<br/>\n",
              "                Project page: <a href=\"https://app.wandb.ai/igodfried/covid-forecast\" target=\"_blank\">https://app.wandb.ai/igodfried/covid-forecast</a><br/>\n",
              "                Run page: <a href=\"https://app.wandb.ai/igodfried/covid-forecast/runs/1y9l4xa8\" target=\"_blank\">https://app.wandb.ai/igodfried/covid-forecast/runs/1y9l4xa8</a><br/>\n",
              "            "
            ],
            "text/plain": [
              "<IPython.core.display.HTML object>"
            ]
          },
          "metadata": {
            "tags": []
          }
        },
        {
          "output_type": "stream",
          "text": [
            "Torch is using cpu\n",
            "The running loss is:\n",
            "10.025347635382786\n",
            "The number of items in train is: \n",
            "33\n",
            "The loss for epoch 0\n",
            "0.30379841319341777\n",
            "The running loss is:\n",
            "34.230189617257565\n",
            "The number of items in train is: \n",
            "33\n",
            "The loss for epoch 1\n",
            "1.0372784732502291\n",
            "The running loss is:\n",
            "13.429732192773372\n",
            "The number of items in train is: \n",
            "33\n",
            "The loss for epoch 2\n",
            "0.4069615815991931\n",
            "The running loss is:\n",
            "26.592998671345413\n",
            "The number of items in train is: \n",
            "33\n",
            "The loss for epoch 3\n",
            "0.8058484445862246\n",
            "The running loss is:\n",
            "12.567596087465063\n",
            "The number of items in train is: \n",
            "33\n",
            "The loss for epoch 4\n",
            "0.3808362450746989\n",
            "The running loss is:\n",
            "20.822010218165815\n",
            "The number of items in train is: \n",
            "33\n",
            "The loss for epoch 5\n",
            "0.6309700066110853\n",
            "The running loss is:\n",
            "7.111795865843305\n",
            "The number of items in train is: \n",
            "33\n",
            "The loss for epoch 6\n",
            "0.2155089656316153\n",
            "The running loss is:\n",
            "11.406340244342573\n",
            "The number of items in train is: \n",
            "33\n",
            "The loss for epoch 7\n",
            "0.34564667407098704\n",
            "The running loss is:\n",
            "5.787523627048358\n",
            "The number of items in train is: \n",
            "33\n",
            "The loss for epoch 8\n",
            "0.17537950384995024\n",
            "The running loss is:\n",
            "8.48353370220866\n",
            "The number of items in train is: \n",
            "33\n",
            "The loss for epoch 9\n",
            "0.2570767788548079\n",
            "interpolate should be below\n",
            "Now loading and scaling antwerp.csv\n",
            "CSV Path below\n",
            "antwerp.csv\n",
            "torch.Size([1, 3, 3])\n",
            "Add debugging crap below\n"
          ],
          "name": "stdout"
        },
        {
          "output_type": "stream",
          "text": [
            "/content/github_aistream-peelout_flow-forecast/flood_forecast/evaluator.py:136: SettingWithCopyWarning: \n",
            "A value is trying to be set on a copy of a slice from a DataFrame.\n",
            "Try using .loc[row_indexer,col_indexer] = value instead\n",
            "\n",
            "See the caveats in the documentation: https://pandas.pydata.org/pandas-docs/stable/user_guide/indexing.html#returning-a-view-versus-a-copy\n",
            "  df['preds'] = 0\n",
            "/content/github_aistream-peelout_flow-forecast/flood_forecast/evaluator.py:137: SettingWithCopyWarning: \n",
            "A value is trying to be set on a copy of a slice from a DataFrame\n",
            "\n",
            "See the caveats in the documentation: https://pandas.pydata.org/pandas-docs/stable/user_guide/indexing.html#returning-a-view-versus-a-copy\n",
            "  df['preds'][history_length:] = end_tensor.numpy().tolist()\n",
            "/usr/local/lib/python3.6/dist-packages/pandas/core/series.py:1042: SettingWithCopyWarning: \n",
            "A value is trying to be set on a copy of a slice from a DataFrame\n",
            "\n",
            "See the caveats in the documentation: https://pandas.pydata.org/pandas-docs/stable/user_guide/indexing.html#returning-a-view-versus-a-copy\n",
            "  self._set_with(key, value)\n",
            "/content/github_aistream-peelout_flow-forecast/flood_forecast/evaluator.py:59: SettingWithCopyWarning: \n",
            "A value is trying to be set on a copy of a slice from a DataFrame\n",
            "\n",
            "See the caveats in the documentation: https://pandas.pydata.org/pandas-docs/stable/user_guide/indexing.html#returning-a-view-versus-a-copy\n",
            "  df, end_tensor, forecast_history, junk, test_data = infer_on_torch_model(model, **inference_params)\n"
          ],
          "name": "stderr"
        },
        {
          "output_type": "stream",
          "text": [
            "torch.Size([10])\n",
            "test_data scale\n",
            "Un-transforming data\n"
          ],
          "name": "stdout"
        },
        {
          "output_type": "stream",
          "text": [
            "/content/github_aistream-peelout_flow-forecast/flood_forecast/evaluator.py:67: SettingWithCopyWarning: \n",
            "A value is trying to be set on a copy of a slice from a DataFrame\n",
            "\n",
            "See the caveats in the documentation: https://pandas.pydata.org/pandas-docs/stable/user_guide/indexing.html#returning-a-view-versus-a-copy\n",
            "  df['preds'][history_length:] = end_tensor_list\n",
            "/content/github_aistream-peelout_flow-forecast/flood_forecast/trainer.py:30: SettingWithCopyWarning: \n",
            "A value is trying to be set on a copy of a slice from a DataFrame\n",
            "\n",
            "See the caveats in the documentation: https://pandas.pydata.org/pandas-docs/stable/user_guide/indexing.html#returning-a-view-versus-a-copy\n",
            "  test_acc = evaluate_model(trained_model, model_type, params[\"dataset_params\"][\"target_col\"], params[\"metrics\"], params[\"inference_params\"], {})\n"
          ],
          "name": "stderr"
        },
        {
          "output_type": "stream",
          "text": [
            "Current historical dataframe\n",
            "    Unnamed: 0                        name  ... original_index       preds\n",
            "87          87  Antwerp, Flanders, Belgium  ...             87    0.000000\n",
            "88          88  Antwerp, Flanders, Belgium  ...             88    0.000000\n",
            "89          89  Antwerp, Flanders, Belgium  ...             89    0.000000\n",
            "90          90  Antwerp, Flanders, Belgium  ...             90  136.612915\n",
            "91          91  Antwerp, Flanders, Belgium  ...             91  132.998718\n",
            "92          92  Antwerp, Flanders, Belgium  ...             92  135.038666\n",
            "93          93  Antwerp, Flanders, Belgium  ...             93  122.781960\n",
            "94          94  Antwerp, Flanders, Belgium  ...             94  122.583794\n",
            "95          95  Antwerp, Flanders, Belgium  ...             95  123.441513\n",
            "96          96  Antwerp, Flanders, Belgium  ...             96  120.397736\n",
            "97          97  Antwerp, Flanders, Belgium  ...             97  111.034378\n",
            "98          98  Antwerp, Flanders, Belgium  ...             98  106.719803\n",
            "99          99  Antwerp, Flanders, Belgium  ...             99  104.161469\n",
            "\n",
            "[13 rows x 32 columns]\n"
          ],
          "name": "stdout"
        },
        {
          "output_type": "stream",
          "text": [
            "/usr/local/lib/python3.6/dist-packages/plotly/matplotlylib/mpltools.py:368: MatplotlibDeprecationWarning:\n",
            "\n",
            "\n",
            "The is_frame_like function was deprecated in Matplotlib 3.1 and will be removed in 3.3.\n",
            "\n",
            "/usr/local/lib/python3.6/dist-packages/plotly/matplotlylib/renderer.py:410: UserWarning:\n",
            "\n",
            "Bummer! Plotly can currently only draw Line2D objects from matplotlib that are in 'data' coordinates!\n",
            "\n",
            "/usr/local/lib/python3.6/dist-packages/plotly/matplotlylib/renderer.py:512: UserWarning:\n",
            "\n",
            "I found a path object that I don't think is part of a bar chart. Ignoring.\n",
            "\n",
            "/usr/local/lib/python3.6/dist-packages/plotly/matplotlylib/mpltools.py:368: MatplotlibDeprecationWarning:\n",
            "\n",
            "\n",
            "The is_frame_like function was deprecated in Matplotlib 3.1 and will be removed in 3.3.\n",
            "\n",
            "/usr/local/lib/python3.6/dist-packages/plotly/matplotlylib/renderer.py:410: UserWarning:\n",
            "\n",
            "Bummer! Plotly can currently only draw Line2D objects from matplotlib that are in 'data' coordinates!\n",
            "\n",
            "/usr/local/lib/python3.6/dist-packages/plotly/matplotlylib/renderer.py:512: UserWarning:\n",
            "\n",
            "I found a path object that I don't think is part of a bar chart. Ignoring.\n",
            "\n"
          ],
          "name": "stderr"
        },
        {
          "output_type": "stream",
          "text": [
            "wandb: Agent Finished Run: ybqj85zn \n",
            "\n",
            "wandb: Agent Starting Run: 20kzhohq with config:\n",
            "\tbatch_size: 2\n",
            "\tforecast_history: 3\n",
            "\tlr: 0.002\n",
            "\tout_seq_length: 2\n",
            "wandb: Agent Started Run: 20kzhohq\n"
          ],
          "name": "stdout"
        },
        {
          "output_type": "display_data",
          "data": {
            "text/html": [
              "\n",
              "                Logging results to <a href=\"https://wandb.com\" target=\"_blank\">Weights & Biases</a> <a href=\"https://docs.wandb.com/integrations/jupyter.html\" target=\"_blank\">(Documentation)</a>.<br/>\n",
              "                Project page: <a href=\"https://app.wandb.ai/igodfried/covid-forecast\" target=\"_blank\">https://app.wandb.ai/igodfried/covid-forecast</a><br/>\n",
              "                Sweep page: <a href=\"https://app.wandb.ai/igodfried/covid-forecast/sweeps/yw9zbqtn\" target=\"_blank\">https://app.wandb.ai/igodfried/covid-forecast/sweeps/yw9zbqtn</a><br/>\n",
              "Run page: <a href=\"https://app.wandb.ai/igodfried/covid-forecast/runs/20kzhohq\" target=\"_blank\">https://app.wandb.ai/igodfried/covid-forecast/runs/20kzhohq</a><br/>\n",
              "            "
            ],
            "text/plain": [
              "<IPython.core.display.HTML object>"
            ]
          },
          "metadata": {
            "tags": []
          }
        },
        {
          "output_type": "stream",
          "text": [
            "{'model_name': 'MultiAttnHeadSimple', 'model_type': 'PyTorch', 'model_params': {'number_time_series': 3, 'seq_len': 3, 'output_seq_len': 2, 'forecast_length': 2}, 'dataset_params': {'class': 'default', 'training_path': 'antwerp.csv', 'validation_path': 'antwerp.csv', 'test_path': 'antwerp.csv', 'batch_size': 2, 'forecast_history': 3, 'forecast_length': 2, 'train_end': 71, 'valid_start': 72, 'valid_end': 91, 'target_col': ['new_cases'], 'relevant_cols': ['new_cases', 'month', 'weekday'], 'scaler': 'StandardScaler', 'interpolate': False}, 'training_params': {'criterion': 'MSE', 'optimizer': 'Adam', 'optim_params': {}, 'lr': 0.002, 'epochs': 10, 'batch_size': 2}, 'GCS': False, 'wandb': {'name': 'multihead_pytorch_antwerp', 'tags': ['covid_run', 'circleci'], 'project': 'covid-forecast'}, 'forward_params': {}, 'metrics': ['MSE'], 'inference_params': {'datetime_start': '2020-04-21', 'hours_to_forecast': 10, 'test_csv_path': 'antwerp.csv', 'decoder_params': {'decoder_function': 'simple_decode', 'unsqueeze_dim': 1}, 'dataset_params': {'file_path': 'antwerp.csv', 'forecast_history': 3, 'forecast_length': 2, 'relevant_cols': ['new_cases', 'month', 'weekday'], 'target_col': ['new_cases'], 'scaling': 'StandardScaler', 'interpolate_param': False}}}\n",
            "interpolate should be below\n",
            "Now loading and scaling antwerp.csv\n",
            "interpolate should be below\n",
            "Now loading and scaling antwerp.csv\n",
            "interpolate should be below\n",
            "Now loading and scaling antwerp.csv\n"
          ],
          "name": "stdout"
        },
        {
          "output_type": "display_data",
          "data": {
            "text/html": [
              "\n",
              "                Logging results to <a href=\"https://wandb.com\" target=\"_blank\">Weights & Biases</a> <a href=\"https://docs.wandb.com/integrations/jupyter.html\" target=\"_blank\">(Documentation)</a>.<br/>\n",
              "                Project page: <a href=\"https://app.wandb.ai/igodfried/covid-forecast\" target=\"_blank\">https://app.wandb.ai/igodfried/covid-forecast</a><br/>\n",
              "                Run page: <a href=\"https://app.wandb.ai/igodfried/covid-forecast/runs/30j9yxvg\" target=\"_blank\">https://app.wandb.ai/igodfried/covid-forecast/runs/30j9yxvg</a><br/>\n",
              "            "
            ],
            "text/plain": [
              "<IPython.core.display.HTML object>"
            ]
          },
          "metadata": {
            "tags": []
          }
        },
        {
          "output_type": "stream",
          "text": [
            "Torch is using cpu\n",
            "The running loss is:\n",
            "28.064961809664965\n",
            "The number of items in train is: \n",
            "33\n",
            "The loss for epoch 0\n",
            "0.8504533881716656\n",
            "The running loss is:\n",
            "29.085500955581665\n",
            "The number of items in train is: \n",
            "33\n",
            "The loss for epoch 1\n",
            "0.881378816835808\n",
            "The running loss is:\n",
            "26.46319116279483\n",
            "The number of items in train is: \n",
            "33\n",
            "The loss for epoch 2\n",
            "0.8019148837210555\n",
            "The running loss is:\n",
            "27.79352070391178\n",
            "The number of items in train is: \n",
            "33\n",
            "The loss for epoch 3\n",
            "0.8422279001185389\n",
            "The running loss is:\n",
            "37.66246119979769\n",
            "The number of items in train is: \n",
            "33\n",
            "The loss for epoch 4\n",
            "1.1412867030241725\n",
            "The running loss is:\n",
            "23.635434065014124\n",
            "The number of items in train is: \n",
            "33\n",
            "The loss for epoch 5\n",
            "0.7162252746973977\n",
            "The running loss is:\n",
            "22.120809108018875\n",
            "The number of items in train is: \n",
            "33\n",
            "The loss for epoch 6\n",
            "0.6703275487278447\n",
            "The running loss is:\n",
            "20.774387892335653\n",
            "The number of items in train is: \n",
            "33\n",
            "The loss for epoch 7\n",
            "0.6295269058283531\n",
            "The running loss is:\n",
            "17.475550305098295\n",
            "The number of items in train is: \n",
            "33\n",
            "The loss for epoch 8\n",
            "0.5295621304575241\n",
            "The running loss is:\n",
            "17.86318363249302\n",
            "The number of items in train is: \n",
            "33\n",
            "The loss for epoch 9\n",
            "0.5413085949240308\n",
            "interpolate should be below\n",
            "Now loading and scaling antwerp.csv\n",
            "CSV Path below\n",
            "antwerp.csv\n",
            "torch.Size([1, 3, 3])\n",
            "Add debugging crap below\n"
          ],
          "name": "stdout"
        },
        {
          "output_type": "stream",
          "text": [
            "/content/github_aistream-peelout_flow-forecast/flood_forecast/evaluator.py:136: SettingWithCopyWarning: \n",
            "A value is trying to be set on a copy of a slice from a DataFrame.\n",
            "Try using .loc[row_indexer,col_indexer] = value instead\n",
            "\n",
            "See the caveats in the documentation: https://pandas.pydata.org/pandas-docs/stable/user_guide/indexing.html#returning-a-view-versus-a-copy\n",
            "  df['preds'] = 0\n",
            "/content/github_aistream-peelout_flow-forecast/flood_forecast/evaluator.py:137: SettingWithCopyWarning: \n",
            "A value is trying to be set on a copy of a slice from a DataFrame\n",
            "\n",
            "See the caveats in the documentation: https://pandas.pydata.org/pandas-docs/stable/user_guide/indexing.html#returning-a-view-versus-a-copy\n",
            "  df['preds'][history_length:] = end_tensor.numpy().tolist()\n",
            "/usr/local/lib/python3.6/dist-packages/pandas/core/series.py:1042: SettingWithCopyWarning: \n",
            "A value is trying to be set on a copy of a slice from a DataFrame\n",
            "\n",
            "See the caveats in the documentation: https://pandas.pydata.org/pandas-docs/stable/user_guide/indexing.html#returning-a-view-versus-a-copy\n",
            "  self._set_with(key, value)\n",
            "/content/github_aistream-peelout_flow-forecast/flood_forecast/evaluator.py:59: SettingWithCopyWarning: \n",
            "A value is trying to be set on a copy of a slice from a DataFrame\n",
            "\n",
            "See the caveats in the documentation: https://pandas.pydata.org/pandas-docs/stable/user_guide/indexing.html#returning-a-view-versus-a-copy\n",
            "  df, end_tensor, forecast_history, junk, test_data = infer_on_torch_model(model, **inference_params)\n"
          ],
          "name": "stderr"
        },
        {
          "output_type": "stream",
          "text": [
            "torch.Size([10])\n",
            "test_data scale\n",
            "Un-transforming data\n"
          ],
          "name": "stdout"
        },
        {
          "output_type": "stream",
          "text": [
            "/content/github_aistream-peelout_flow-forecast/flood_forecast/evaluator.py:67: SettingWithCopyWarning: \n",
            "A value is trying to be set on a copy of a slice from a DataFrame\n",
            "\n",
            "See the caveats in the documentation: https://pandas.pydata.org/pandas-docs/stable/user_guide/indexing.html#returning-a-view-versus-a-copy\n",
            "  df['preds'][history_length:] = end_tensor_list\n",
            "/content/github_aistream-peelout_flow-forecast/flood_forecast/trainer.py:30: SettingWithCopyWarning: \n",
            "A value is trying to be set on a copy of a slice from a DataFrame\n",
            "\n",
            "See the caveats in the documentation: https://pandas.pydata.org/pandas-docs/stable/user_guide/indexing.html#returning-a-view-versus-a-copy\n",
            "  test_acc = evaluate_model(trained_model, model_type, params[\"dataset_params\"][\"target_col\"], params[\"metrics\"], params[\"inference_params\"], {})\n"
          ],
          "name": "stderr"
        },
        {
          "output_type": "stream",
          "text": [
            "Current historical dataframe\n",
            "    Unnamed: 0                        name  ... original_index       preds\n",
            "87          87  Antwerp, Flanders, Belgium  ...             87    0.000000\n",
            "88          88  Antwerp, Flanders, Belgium  ...             88    0.000000\n",
            "89          89  Antwerp, Flanders, Belgium  ...             89    0.000000\n",
            "90          90  Antwerp, Flanders, Belgium  ...             90  149.282455\n",
            "91          91  Antwerp, Flanders, Belgium  ...             91  184.569229\n",
            "92          92  Antwerp, Flanders, Belgium  ...             92  186.867966\n",
            "93          93  Antwerp, Flanders, Belgium  ...             93  188.032913\n",
            "94          94  Antwerp, Flanders, Belgium  ...             94  202.545227\n",
            "95          95  Antwerp, Flanders, Belgium  ...             95  206.003845\n",
            "96          96  Antwerp, Flanders, Belgium  ...             96  210.492386\n",
            "97          97  Antwerp, Flanders, Belgium  ...             97  248.335281\n",
            "98          98  Antwerp, Flanders, Belgium  ...             98  260.891876\n",
            "99          99  Antwerp, Flanders, Belgium  ...             99  248.564087\n",
            "\n",
            "[13 rows x 32 columns]\n"
          ],
          "name": "stdout"
        },
        {
          "output_type": "stream",
          "text": [
            "/usr/local/lib/python3.6/dist-packages/plotly/matplotlylib/mpltools.py:368: MatplotlibDeprecationWarning:\n",
            "\n",
            "\n",
            "The is_frame_like function was deprecated in Matplotlib 3.1 and will be removed in 3.3.\n",
            "\n",
            "/usr/local/lib/python3.6/dist-packages/plotly/matplotlylib/renderer.py:410: UserWarning:\n",
            "\n",
            "Bummer! Plotly can currently only draw Line2D objects from matplotlib that are in 'data' coordinates!\n",
            "\n",
            "/usr/local/lib/python3.6/dist-packages/plotly/matplotlylib/renderer.py:512: UserWarning:\n",
            "\n",
            "I found a path object that I don't think is part of a bar chart. Ignoring.\n",
            "\n",
            "/usr/local/lib/python3.6/dist-packages/plotly/matplotlylib/mpltools.py:368: MatplotlibDeprecationWarning:\n",
            "\n",
            "\n",
            "The is_frame_like function was deprecated in Matplotlib 3.1 and will be removed in 3.3.\n",
            "\n",
            "/usr/local/lib/python3.6/dist-packages/plotly/matplotlylib/renderer.py:410: UserWarning:\n",
            "\n",
            "Bummer! Plotly can currently only draw Line2D objects from matplotlib that are in 'data' coordinates!\n",
            "\n",
            "/usr/local/lib/python3.6/dist-packages/plotly/matplotlylib/renderer.py:512: UserWarning:\n",
            "\n",
            "I found a path object that I don't think is part of a bar chart. Ignoring.\n",
            "\n"
          ],
          "name": "stderr"
        },
        {
          "output_type": "stream",
          "text": [
            "wandb: Agent Finished Run: 20kzhohq \n",
            "\n",
            "wandb: Agent Starting Run: c01gud1e with config:\n",
            "\tbatch_size: 2\n",
            "\tforecast_history: 3\n",
            "\tlr: 0.002\n",
            "\tout_seq_length: 3\n",
            "wandb: Agent Started Run: c01gud1e\n"
          ],
          "name": "stdout"
        },
        {
          "output_type": "display_data",
          "data": {
            "text/html": [
              "\n",
              "                Logging results to <a href=\"https://wandb.com\" target=\"_blank\">Weights & Biases</a> <a href=\"https://docs.wandb.com/integrations/jupyter.html\" target=\"_blank\">(Documentation)</a>.<br/>\n",
              "                Project page: <a href=\"https://app.wandb.ai/igodfried/covid-forecast\" target=\"_blank\">https://app.wandb.ai/igodfried/covid-forecast</a><br/>\n",
              "                Sweep page: <a href=\"https://app.wandb.ai/igodfried/covid-forecast/sweeps/yw9zbqtn\" target=\"_blank\">https://app.wandb.ai/igodfried/covid-forecast/sweeps/yw9zbqtn</a><br/>\n",
              "Run page: <a href=\"https://app.wandb.ai/igodfried/covid-forecast/runs/c01gud1e\" target=\"_blank\">https://app.wandb.ai/igodfried/covid-forecast/runs/c01gud1e</a><br/>\n",
              "            "
            ],
            "text/plain": [
              "<IPython.core.display.HTML object>"
            ]
          },
          "metadata": {
            "tags": []
          }
        },
        {
          "output_type": "stream",
          "text": [
            "{'model_name': 'MultiAttnHeadSimple', 'model_type': 'PyTorch', 'model_params': {'number_time_series': 3, 'seq_len': 3, 'output_seq_len': 3, 'forecast_length': 3}, 'dataset_params': {'class': 'default', 'training_path': 'antwerp.csv', 'validation_path': 'antwerp.csv', 'test_path': 'antwerp.csv', 'batch_size': 2, 'forecast_history': 3, 'forecast_length': 3, 'train_end': 71, 'valid_start': 72, 'valid_end': 91, 'target_col': ['new_cases'], 'relevant_cols': ['new_cases', 'month', 'weekday'], 'scaler': 'StandardScaler', 'interpolate': False}, 'training_params': {'criterion': 'MSE', 'optimizer': 'Adam', 'optim_params': {}, 'lr': 0.002, 'epochs': 10, 'batch_size': 2}, 'GCS': False, 'wandb': {'name': 'multihead_pytorch_antwerp', 'tags': ['covid_run', 'circleci'], 'project': 'covid-forecast'}, 'forward_params': {}, 'metrics': ['MSE'], 'inference_params': {'datetime_start': '2020-04-21', 'hours_to_forecast': 10, 'test_csv_path': 'antwerp.csv', 'decoder_params': {'decoder_function': 'simple_decode', 'unsqueeze_dim': 1}, 'dataset_params': {'file_path': 'antwerp.csv', 'forecast_history': 3, 'forecast_length': 3, 'relevant_cols': ['new_cases', 'month', 'weekday'], 'target_col': ['new_cases'], 'scaling': 'StandardScaler', 'interpolate_param': False}}}\n",
            "interpolate should be below\n",
            "Now loading and scaling antwerp.csv\n",
            "interpolate should be below\n",
            "Now loading and scaling antwerp.csv\n",
            "interpolate should be below\n",
            "Now loading and scaling antwerp.csv\n"
          ],
          "name": "stdout"
        },
        {
          "output_type": "display_data",
          "data": {
            "text/html": [
              "\n",
              "                Logging results to <a href=\"https://wandb.com\" target=\"_blank\">Weights & Biases</a> <a href=\"https://docs.wandb.com/integrations/jupyter.html\" target=\"_blank\">(Documentation)</a>.<br/>\n",
              "                Project page: <a href=\"https://app.wandb.ai/igodfried/covid-forecast\" target=\"_blank\">https://app.wandb.ai/igodfried/covid-forecast</a><br/>\n",
              "                Run page: <a href=\"https://app.wandb.ai/igodfried/covid-forecast/runs/223c0jqe\" target=\"_blank\">https://app.wandb.ai/igodfried/covid-forecast/runs/223c0jqe</a><br/>\n",
              "            "
            ],
            "text/plain": [
              "<IPython.core.display.HTML object>"
            ]
          },
          "metadata": {
            "tags": []
          }
        },
        {
          "output_type": "stream",
          "text": [
            "Torch is using cpu\n",
            "The running loss is:\n",
            "17.937730296049267\n",
            "The number of items in train is: \n",
            "32\n",
            "The loss for epoch 0\n",
            "0.5605540717515396\n",
            "The running loss is:\n",
            "35.50285805051681\n",
            "The number of items in train is: \n",
            "32\n",
            "The loss for epoch 1\n",
            "1.1094643140786502\n",
            "The running loss is:\n",
            "17.564409082289785\n",
            "The number of items in train is: \n",
            "32\n",
            "The loss for epoch 2\n",
            "0.5488877838215558\n",
            "The running loss is:\n",
            "23.59525622660294\n",
            "The number of items in train is: \n",
            "32\n",
            "The loss for epoch 3\n",
            "0.7373517570813419\n",
            "The running loss is:\n",
            "15.578202691394836\n",
            "The number of items in train is: \n",
            "32\n",
            "The loss for epoch 4\n",
            "0.4868188341060886\n",
            "The running loss is:\n",
            "24.60211830935441\n",
            "The number of items in train is: \n",
            "32\n",
            "The loss for epoch 5\n",
            "0.7688161971673253\n",
            "The running loss is:\n",
            "14.085245068301447\n",
            "The number of items in train is: \n",
            "32\n",
            "The loss for epoch 6\n",
            "0.4401639083844202\n",
            "The running loss is:\n",
            "12.162914328742772\n",
            "The number of items in train is: \n",
            "32\n",
            "The loss for epoch 7\n",
            "0.38009107277321164\n",
            "The running loss is:\n",
            "12.102874213131145\n",
            "The number of items in train is: \n",
            "32\n",
            "The loss for epoch 8\n",
            "0.37821481916034827\n",
            "The running loss is:\n",
            "11.44598395540379\n",
            "The number of items in train is: \n",
            "32\n",
            "The loss for epoch 9\n",
            "0.35768699860636843\n",
            "interpolate should be below\n",
            "Now loading and scaling antwerp.csv\n",
            "CSV Path below\n",
            "antwerp.csv\n",
            "torch.Size([1, 3, 3])\n",
            "Add debugging crap below\n"
          ],
          "name": "stdout"
        },
        {
          "output_type": "stream",
          "text": [
            "/content/github_aistream-peelout_flow-forecast/flood_forecast/evaluator.py:136: SettingWithCopyWarning: \n",
            "A value is trying to be set on a copy of a slice from a DataFrame.\n",
            "Try using .loc[row_indexer,col_indexer] = value instead\n",
            "\n",
            "See the caveats in the documentation: https://pandas.pydata.org/pandas-docs/stable/user_guide/indexing.html#returning-a-view-versus-a-copy\n",
            "  df['preds'] = 0\n",
            "/content/github_aistream-peelout_flow-forecast/flood_forecast/evaluator.py:137: SettingWithCopyWarning: \n",
            "A value is trying to be set on a copy of a slice from a DataFrame\n",
            "\n",
            "See the caveats in the documentation: https://pandas.pydata.org/pandas-docs/stable/user_guide/indexing.html#returning-a-view-versus-a-copy\n",
            "  df['preds'][history_length:] = end_tensor.numpy().tolist()\n",
            "/usr/local/lib/python3.6/dist-packages/pandas/core/series.py:1042: SettingWithCopyWarning: \n",
            "A value is trying to be set on a copy of a slice from a DataFrame\n",
            "\n",
            "See the caveats in the documentation: https://pandas.pydata.org/pandas-docs/stable/user_guide/indexing.html#returning-a-view-versus-a-copy\n",
            "  self._set_with(key, value)\n",
            "/content/github_aistream-peelout_flow-forecast/flood_forecast/evaluator.py:59: SettingWithCopyWarning: \n",
            "A value is trying to be set on a copy of a slice from a DataFrame\n",
            "\n",
            "See the caveats in the documentation: https://pandas.pydata.org/pandas-docs/stable/user_guide/indexing.html#returning-a-view-versus-a-copy\n",
            "  df, end_tensor, forecast_history, junk, test_data = infer_on_torch_model(model, **inference_params)\n"
          ],
          "name": "stderr"
        },
        {
          "output_type": "stream",
          "text": [
            "torch.Size([10])\n",
            "test_data scale\n",
            "Un-transforming data\n"
          ],
          "name": "stdout"
        },
        {
          "output_type": "stream",
          "text": [
            "/content/github_aistream-peelout_flow-forecast/flood_forecast/evaluator.py:67: SettingWithCopyWarning: \n",
            "A value is trying to be set on a copy of a slice from a DataFrame\n",
            "\n",
            "See the caveats in the documentation: https://pandas.pydata.org/pandas-docs/stable/user_guide/indexing.html#returning-a-view-versus-a-copy\n",
            "  df['preds'][history_length:] = end_tensor_list\n",
            "/content/github_aistream-peelout_flow-forecast/flood_forecast/trainer.py:30: SettingWithCopyWarning: \n",
            "A value is trying to be set on a copy of a slice from a DataFrame\n",
            "\n",
            "See the caveats in the documentation: https://pandas.pydata.org/pandas-docs/stable/user_guide/indexing.html#returning-a-view-versus-a-copy\n",
            "  test_acc = evaluate_model(trained_model, model_type, params[\"dataset_params\"][\"target_col\"], params[\"metrics\"], params[\"inference_params\"], {})\n"
          ],
          "name": "stderr"
        },
        {
          "output_type": "stream",
          "text": [
            "Current historical dataframe\n",
            "    Unnamed: 0                        name  ... original_index       preds\n",
            "87          87  Antwerp, Flanders, Belgium  ...             87    0.000000\n",
            "88          88  Antwerp, Flanders, Belgium  ...             88    0.000000\n",
            "89          89  Antwerp, Flanders, Belgium  ...             89    0.000000\n",
            "90          90  Antwerp, Flanders, Belgium  ...             90  132.449570\n",
            "91          91  Antwerp, Flanders, Belgium  ...             91  163.160934\n",
            "92          92  Antwerp, Flanders, Belgium  ...             92  169.112091\n",
            "93          93  Antwerp, Flanders, Belgium  ...             93  168.411591\n",
            "94          94  Antwerp, Flanders, Belgium  ...             94  187.403351\n",
            "95          95  Antwerp, Flanders, Belgium  ...             95  200.974945\n",
            "96          96  Antwerp, Flanders, Belgium  ...             96  218.312180\n",
            "97          97  Antwerp, Flanders, Belgium  ...             97  233.340790\n",
            "98          98  Antwerp, Flanders, Belgium  ...             98  246.575729\n",
            "99          99  Antwerp, Flanders, Belgium  ...             99  250.199844\n",
            "\n",
            "[13 rows x 32 columns]\n"
          ],
          "name": "stdout"
        },
        {
          "output_type": "stream",
          "text": [
            "/usr/local/lib/python3.6/dist-packages/plotly/matplotlylib/mpltools.py:368: MatplotlibDeprecationWarning:\n",
            "\n",
            "\n",
            "The is_frame_like function was deprecated in Matplotlib 3.1 and will be removed in 3.3.\n",
            "\n",
            "/usr/local/lib/python3.6/dist-packages/plotly/matplotlylib/renderer.py:410: UserWarning:\n",
            "\n",
            "Bummer! Plotly can currently only draw Line2D objects from matplotlib that are in 'data' coordinates!\n",
            "\n",
            "/usr/local/lib/python3.6/dist-packages/plotly/matplotlylib/renderer.py:512: UserWarning:\n",
            "\n",
            "I found a path object that I don't think is part of a bar chart. Ignoring.\n",
            "\n",
            "/usr/local/lib/python3.6/dist-packages/plotly/matplotlylib/mpltools.py:368: MatplotlibDeprecationWarning:\n",
            "\n",
            "\n",
            "The is_frame_like function was deprecated in Matplotlib 3.1 and will be removed in 3.3.\n",
            "\n",
            "/usr/local/lib/python3.6/dist-packages/plotly/matplotlylib/renderer.py:410: UserWarning:\n",
            "\n",
            "Bummer! Plotly can currently only draw Line2D objects from matplotlib that are in 'data' coordinates!\n",
            "\n",
            "/usr/local/lib/python3.6/dist-packages/plotly/matplotlylib/renderer.py:512: UserWarning:\n",
            "\n",
            "I found a path object that I don't think is part of a bar chart. Ignoring.\n",
            "\n"
          ],
          "name": "stderr"
        },
        {
          "output_type": "stream",
          "text": [
            "wandb: Agent Finished Run: c01gud1e \n",
            "\n",
            "wandb: Agent Starting Run: t4sfrea9 with config:\n",
            "\tbatch_size: 2\n",
            "\tforecast_history: 3\n",
            "\tlr: 0.004\n",
            "\tout_seq_length: 1\n",
            "wandb: Agent Started Run: t4sfrea9\n"
          ],
          "name": "stdout"
        },
        {
          "output_type": "display_data",
          "data": {
            "text/html": [
              "\n",
              "                Logging results to <a href=\"https://wandb.com\" target=\"_blank\">Weights & Biases</a> <a href=\"https://docs.wandb.com/integrations/jupyter.html\" target=\"_blank\">(Documentation)</a>.<br/>\n",
              "                Project page: <a href=\"https://app.wandb.ai/igodfried/covid-forecast\" target=\"_blank\">https://app.wandb.ai/igodfried/covid-forecast</a><br/>\n",
              "                Sweep page: <a href=\"https://app.wandb.ai/igodfried/covid-forecast/sweeps/yw9zbqtn\" target=\"_blank\">https://app.wandb.ai/igodfried/covid-forecast/sweeps/yw9zbqtn</a><br/>\n",
              "Run page: <a href=\"https://app.wandb.ai/igodfried/covid-forecast/runs/t4sfrea9\" target=\"_blank\">https://app.wandb.ai/igodfried/covid-forecast/runs/t4sfrea9</a><br/>\n",
              "            "
            ],
            "text/plain": [
              "<IPython.core.display.HTML object>"
            ]
          },
          "metadata": {
            "tags": []
          }
        },
        {
          "output_type": "stream",
          "text": [
            "{'model_name': 'MultiAttnHeadSimple', 'model_type': 'PyTorch', 'model_params': {'number_time_series': 3, 'seq_len': 3, 'output_seq_len': 1, 'forecast_length': 1}, 'dataset_params': {'class': 'default', 'training_path': 'antwerp.csv', 'validation_path': 'antwerp.csv', 'test_path': 'antwerp.csv', 'batch_size': 2, 'forecast_history': 3, 'forecast_length': 1, 'train_end': 71, 'valid_start': 72, 'valid_end': 91, 'target_col': ['new_cases'], 'relevant_cols': ['new_cases', 'month', 'weekday'], 'scaler': 'StandardScaler', 'interpolate': False}, 'training_params': {'criterion': 'MSE', 'optimizer': 'Adam', 'optim_params': {}, 'lr': 0.004, 'epochs': 10, 'batch_size': 2}, 'GCS': False, 'wandb': {'name': 'multihead_pytorch_antwerp', 'tags': ['covid_run', 'circleci'], 'project': 'covid-forecast'}, 'forward_params': {}, 'metrics': ['MSE'], 'inference_params': {'datetime_start': '2020-04-21', 'hours_to_forecast': 10, 'test_csv_path': 'antwerp.csv', 'decoder_params': {'decoder_function': 'simple_decode', 'unsqueeze_dim': 1}, 'dataset_params': {'file_path': 'antwerp.csv', 'forecast_history': 3, 'forecast_length': 1, 'relevant_cols': ['new_cases', 'month', 'weekday'], 'target_col': ['new_cases'], 'scaling': 'StandardScaler', 'interpolate_param': False}}}\n",
            "interpolate should be below\n",
            "Now loading and scaling antwerp.csv\n",
            "interpolate should be below\n",
            "Now loading and scaling antwerp.csv\n",
            "interpolate should be below\n",
            "Now loading and scaling antwerp.csv\n"
          ],
          "name": "stdout"
        },
        {
          "output_type": "display_data",
          "data": {
            "text/html": [
              "\n",
              "                Logging results to <a href=\"https://wandb.com\" target=\"_blank\">Weights & Biases</a> <a href=\"https://docs.wandb.com/integrations/jupyter.html\" target=\"_blank\">(Documentation)</a>.<br/>\n",
              "                Project page: <a href=\"https://app.wandb.ai/igodfried/covid-forecast\" target=\"_blank\">https://app.wandb.ai/igodfried/covid-forecast</a><br/>\n",
              "                Run page: <a href=\"https://app.wandb.ai/igodfried/covid-forecast/runs/1z12dyyx\" target=\"_blank\">https://app.wandb.ai/igodfried/covid-forecast/runs/1z12dyyx</a><br/>\n",
              "            "
            ],
            "text/plain": [
              "<IPython.core.display.HTML object>"
            ]
          },
          "metadata": {
            "tags": []
          }
        },
        {
          "output_type": "stream",
          "text": [
            "Torch is using cpu\n",
            "The running loss is:\n",
            "10.025347635382786\n",
            "The number of items in train is: \n",
            "33\n",
            "The loss for epoch 0\n",
            "0.30379841319341777\n",
            "The running loss is:\n",
            "34.230189617257565\n",
            "The number of items in train is: \n",
            "33\n",
            "The loss for epoch 1\n",
            "1.0372784732502291\n",
            "The running loss is:\n",
            "13.429732192773372\n",
            "The number of items in train is: \n",
            "33\n",
            "The loss for epoch 2\n",
            "0.4069615815991931\n",
            "The running loss is:\n",
            "26.592998671345413\n",
            "The number of items in train is: \n",
            "33\n",
            "The loss for epoch 3\n",
            "0.8058484445862246\n",
            "The running loss is:\n",
            "12.567596087465063\n",
            "The number of items in train is: \n",
            "33\n",
            "The loss for epoch 4\n",
            "0.3808362450746989\n",
            "The running loss is:\n",
            "20.822010218165815\n",
            "The number of items in train is: \n",
            "33\n",
            "The loss for epoch 5\n",
            "0.6309700066110853\n",
            "The running loss is:\n",
            "7.111795865843305\n",
            "The number of items in train is: \n",
            "33\n",
            "The loss for epoch 6\n",
            "0.2155089656316153\n",
            "The running loss is:\n",
            "11.406340244342573\n",
            "The number of items in train is: \n",
            "33\n",
            "The loss for epoch 7\n",
            "0.34564667407098704\n",
            "The running loss is:\n",
            "5.787523627048358\n",
            "The number of items in train is: \n",
            "33\n",
            "The loss for epoch 8\n",
            "0.17537950384995024\n",
            "The running loss is:\n",
            "8.48353370220866\n",
            "The number of items in train is: \n",
            "33\n",
            "The loss for epoch 9\n",
            "0.2570767788548079\n",
            "interpolate should be below\n",
            "Now loading and scaling antwerp.csv\n",
            "CSV Path below\n",
            "antwerp.csv\n",
            "torch.Size([1, 3, 3])\n",
            "Add debugging crap below\n"
          ],
          "name": "stdout"
        },
        {
          "output_type": "stream",
          "text": [
            "/content/github_aistream-peelout_flow-forecast/flood_forecast/evaluator.py:136: SettingWithCopyWarning: \n",
            "A value is trying to be set on a copy of a slice from a DataFrame.\n",
            "Try using .loc[row_indexer,col_indexer] = value instead\n",
            "\n",
            "See the caveats in the documentation: https://pandas.pydata.org/pandas-docs/stable/user_guide/indexing.html#returning-a-view-versus-a-copy\n",
            "  df['preds'] = 0\n",
            "/content/github_aistream-peelout_flow-forecast/flood_forecast/evaluator.py:137: SettingWithCopyWarning: \n",
            "A value is trying to be set on a copy of a slice from a DataFrame\n",
            "\n",
            "See the caveats in the documentation: https://pandas.pydata.org/pandas-docs/stable/user_guide/indexing.html#returning-a-view-versus-a-copy\n",
            "  df['preds'][history_length:] = end_tensor.numpy().tolist()\n",
            "/usr/local/lib/python3.6/dist-packages/pandas/core/series.py:1042: SettingWithCopyWarning: \n",
            "A value is trying to be set on a copy of a slice from a DataFrame\n",
            "\n",
            "See the caveats in the documentation: https://pandas.pydata.org/pandas-docs/stable/user_guide/indexing.html#returning-a-view-versus-a-copy\n",
            "  self._set_with(key, value)\n",
            "/content/github_aistream-peelout_flow-forecast/flood_forecast/evaluator.py:59: SettingWithCopyWarning: \n",
            "A value is trying to be set on a copy of a slice from a DataFrame\n",
            "\n",
            "See the caveats in the documentation: https://pandas.pydata.org/pandas-docs/stable/user_guide/indexing.html#returning-a-view-versus-a-copy\n",
            "  df, end_tensor, forecast_history, junk, test_data = infer_on_torch_model(model, **inference_params)\n"
          ],
          "name": "stderr"
        },
        {
          "output_type": "stream",
          "text": [
            "torch.Size([10])\n",
            "test_data scale\n",
            "Un-transforming data\n"
          ],
          "name": "stdout"
        },
        {
          "output_type": "stream",
          "text": [
            "/content/github_aistream-peelout_flow-forecast/flood_forecast/evaluator.py:67: SettingWithCopyWarning: \n",
            "A value is trying to be set on a copy of a slice from a DataFrame\n",
            "\n",
            "See the caveats in the documentation: https://pandas.pydata.org/pandas-docs/stable/user_guide/indexing.html#returning-a-view-versus-a-copy\n",
            "  df['preds'][history_length:] = end_tensor_list\n",
            "/content/github_aistream-peelout_flow-forecast/flood_forecast/trainer.py:30: SettingWithCopyWarning: \n",
            "A value is trying to be set on a copy of a slice from a DataFrame\n",
            "\n",
            "See the caveats in the documentation: https://pandas.pydata.org/pandas-docs/stable/user_guide/indexing.html#returning-a-view-versus-a-copy\n",
            "  test_acc = evaluate_model(trained_model, model_type, params[\"dataset_params\"][\"target_col\"], params[\"metrics\"], params[\"inference_params\"], {})\n"
          ],
          "name": "stderr"
        },
        {
          "output_type": "stream",
          "text": [
            "Current historical dataframe\n",
            "    Unnamed: 0                        name  ... original_index       preds\n",
            "87          87  Antwerp, Flanders, Belgium  ...             87    0.000000\n",
            "88          88  Antwerp, Flanders, Belgium  ...             88    0.000000\n",
            "89          89  Antwerp, Flanders, Belgium  ...             89    0.000000\n",
            "90          90  Antwerp, Flanders, Belgium  ...             90  136.612915\n",
            "91          91  Antwerp, Flanders, Belgium  ...             91  132.998718\n",
            "92          92  Antwerp, Flanders, Belgium  ...             92  135.038666\n",
            "93          93  Antwerp, Flanders, Belgium  ...             93  122.781960\n",
            "94          94  Antwerp, Flanders, Belgium  ...             94  122.583794\n",
            "95          95  Antwerp, Flanders, Belgium  ...             95  123.441513\n",
            "96          96  Antwerp, Flanders, Belgium  ...             96  120.397736\n",
            "97          97  Antwerp, Flanders, Belgium  ...             97  111.034378\n",
            "98          98  Antwerp, Flanders, Belgium  ...             98  106.719803\n",
            "99          99  Antwerp, Flanders, Belgium  ...             99  104.161469\n",
            "\n",
            "[13 rows x 32 columns]\n"
          ],
          "name": "stdout"
        },
        {
          "output_type": "stream",
          "text": [
            "/usr/local/lib/python3.6/dist-packages/plotly/matplotlylib/mpltools.py:368: MatplotlibDeprecationWarning:\n",
            "\n",
            "\n",
            "The is_frame_like function was deprecated in Matplotlib 3.1 and will be removed in 3.3.\n",
            "\n",
            "/usr/local/lib/python3.6/dist-packages/plotly/matplotlylib/renderer.py:410: UserWarning:\n",
            "\n",
            "Bummer! Plotly can currently only draw Line2D objects from matplotlib that are in 'data' coordinates!\n",
            "\n",
            "/usr/local/lib/python3.6/dist-packages/plotly/matplotlylib/renderer.py:512: UserWarning:\n",
            "\n",
            "I found a path object that I don't think is part of a bar chart. Ignoring.\n",
            "\n",
            "/usr/local/lib/python3.6/dist-packages/plotly/matplotlylib/mpltools.py:368: MatplotlibDeprecationWarning:\n",
            "\n",
            "\n",
            "The is_frame_like function was deprecated in Matplotlib 3.1 and will be removed in 3.3.\n",
            "\n",
            "/usr/local/lib/python3.6/dist-packages/plotly/matplotlylib/renderer.py:410: UserWarning:\n",
            "\n",
            "Bummer! Plotly can currently only draw Line2D objects from matplotlib that are in 'data' coordinates!\n",
            "\n",
            "/usr/local/lib/python3.6/dist-packages/plotly/matplotlylib/renderer.py:512: UserWarning:\n",
            "\n",
            "I found a path object that I don't think is part of a bar chart. Ignoring.\n",
            "\n"
          ],
          "name": "stderr"
        },
        {
          "output_type": "stream",
          "text": [
            "wandb: Agent Finished Run: t4sfrea9 \n",
            "\n",
            "wandb: Agent Starting Run: qikm90u1 with config:\n",
            "\tbatch_size: 2\n",
            "\tforecast_history: 3\n",
            "\tlr: 0.004\n",
            "\tout_seq_length: 2\n",
            "wandb: Agent Started Run: qikm90u1\n"
          ],
          "name": "stdout"
        },
        {
          "output_type": "display_data",
          "data": {
            "text/html": [
              "\n",
              "                Logging results to <a href=\"https://wandb.com\" target=\"_blank\">Weights & Biases</a> <a href=\"https://docs.wandb.com/integrations/jupyter.html\" target=\"_blank\">(Documentation)</a>.<br/>\n",
              "                Project page: <a href=\"https://app.wandb.ai/igodfried/covid-forecast\" target=\"_blank\">https://app.wandb.ai/igodfried/covid-forecast</a><br/>\n",
              "                Sweep page: <a href=\"https://app.wandb.ai/igodfried/covid-forecast/sweeps/yw9zbqtn\" target=\"_blank\">https://app.wandb.ai/igodfried/covid-forecast/sweeps/yw9zbqtn</a><br/>\n",
              "Run page: <a href=\"https://app.wandb.ai/igodfried/covid-forecast/runs/qikm90u1\" target=\"_blank\">https://app.wandb.ai/igodfried/covid-forecast/runs/qikm90u1</a><br/>\n",
              "            "
            ],
            "text/plain": [
              "<IPython.core.display.HTML object>"
            ]
          },
          "metadata": {
            "tags": []
          }
        },
        {
          "output_type": "stream",
          "text": [
            "{'model_name': 'MultiAttnHeadSimple', 'model_type': 'PyTorch', 'model_params': {'number_time_series': 3, 'seq_len': 3, 'output_seq_len': 2, 'forecast_length': 2}, 'dataset_params': {'class': 'default', 'training_path': 'antwerp.csv', 'validation_path': 'antwerp.csv', 'test_path': 'antwerp.csv', 'batch_size': 2, 'forecast_history': 3, 'forecast_length': 2, 'train_end': 71, 'valid_start': 72, 'valid_end': 91, 'target_col': ['new_cases'], 'relevant_cols': ['new_cases', 'month', 'weekday'], 'scaler': 'StandardScaler', 'interpolate': False}, 'training_params': {'criterion': 'MSE', 'optimizer': 'Adam', 'optim_params': {}, 'lr': 0.004, 'epochs': 10, 'batch_size': 2}, 'GCS': False, 'wandb': {'name': 'multihead_pytorch_antwerp', 'tags': ['covid_run', 'circleci'], 'project': 'covid-forecast'}, 'forward_params': {}, 'metrics': ['MSE'], 'inference_params': {'datetime_start': '2020-04-21', 'hours_to_forecast': 10, 'test_csv_path': 'antwerp.csv', 'decoder_params': {'decoder_function': 'simple_decode', 'unsqueeze_dim': 1}, 'dataset_params': {'file_path': 'antwerp.csv', 'forecast_history': 3, 'forecast_length': 2, 'relevant_cols': ['new_cases', 'month', 'weekday'], 'target_col': ['new_cases'], 'scaling': 'StandardScaler', 'interpolate_param': False}}}\n",
            "interpolate should be below\n",
            "Now loading and scaling antwerp.csv\n",
            "interpolate should be below\n",
            "Now loading and scaling antwerp.csv\n",
            "interpolate should be below\n",
            "Now loading and scaling antwerp.csv\n"
          ],
          "name": "stdout"
        },
        {
          "output_type": "display_data",
          "data": {
            "text/html": [
              "\n",
              "                Logging results to <a href=\"https://wandb.com\" target=\"_blank\">Weights & Biases</a> <a href=\"https://docs.wandb.com/integrations/jupyter.html\" target=\"_blank\">(Documentation)</a>.<br/>\n",
              "                Project page: <a href=\"https://app.wandb.ai/igodfried/covid-forecast\" target=\"_blank\">https://app.wandb.ai/igodfried/covid-forecast</a><br/>\n",
              "                Run page: <a href=\"https://app.wandb.ai/igodfried/covid-forecast/runs/1x7mulrm\" target=\"_blank\">https://app.wandb.ai/igodfried/covid-forecast/runs/1x7mulrm</a><br/>\n",
              "            "
            ],
            "text/plain": [
              "<IPython.core.display.HTML object>"
            ]
          },
          "metadata": {
            "tags": []
          }
        },
        {
          "output_type": "stream",
          "text": [
            "Torch is using cpu\n",
            "The running loss is:\n",
            "28.064961809664965\n",
            "The number of items in train is: \n",
            "33\n",
            "The loss for epoch 0\n",
            "0.8504533881716656\n",
            "The running loss is:\n",
            "29.085500955581665\n",
            "The number of items in train is: \n",
            "33\n",
            "The loss for epoch 1\n",
            "0.881378816835808\n",
            "The running loss is:\n",
            "26.46319116279483\n",
            "The number of items in train is: \n",
            "33\n",
            "The loss for epoch 2\n",
            "0.8019148837210555\n",
            "The running loss is:\n",
            "27.79352070391178\n",
            "The number of items in train is: \n",
            "33\n",
            "The loss for epoch 3\n",
            "0.8422279001185389\n",
            "The running loss is:\n",
            "37.66246119979769\n",
            "The number of items in train is: \n",
            "33\n",
            "The loss for epoch 4\n",
            "1.1412867030241725\n",
            "The running loss is:\n",
            "23.635434065014124\n",
            "The number of items in train is: \n",
            "33\n",
            "The loss for epoch 5\n",
            "0.7162252746973977\n",
            "The running loss is:\n",
            "22.120809108018875\n",
            "The number of items in train is: \n",
            "33\n",
            "The loss for epoch 6\n",
            "0.6703275487278447\n",
            "The running loss is:\n",
            "20.774387892335653\n",
            "The number of items in train is: \n",
            "33\n",
            "The loss for epoch 7\n",
            "0.6295269058283531\n",
            "The running loss is:\n",
            "17.475550305098295\n",
            "The number of items in train is: \n",
            "33\n",
            "The loss for epoch 8\n",
            "0.5295621304575241\n",
            "The running loss is:\n",
            "17.86318363249302\n",
            "The number of items in train is: \n",
            "33\n",
            "The loss for epoch 9\n",
            "0.5413085949240308\n",
            "interpolate should be below\n",
            "Now loading and scaling antwerp.csv\n",
            "CSV Path below\n",
            "antwerp.csv\n",
            "torch.Size([1, 3, 3])\n",
            "Add debugging crap below\n"
          ],
          "name": "stdout"
        },
        {
          "output_type": "stream",
          "text": [
            "/content/github_aistream-peelout_flow-forecast/flood_forecast/evaluator.py:136: SettingWithCopyWarning: \n",
            "A value is trying to be set on a copy of a slice from a DataFrame.\n",
            "Try using .loc[row_indexer,col_indexer] = value instead\n",
            "\n",
            "See the caveats in the documentation: https://pandas.pydata.org/pandas-docs/stable/user_guide/indexing.html#returning-a-view-versus-a-copy\n",
            "  df['preds'] = 0\n",
            "/content/github_aistream-peelout_flow-forecast/flood_forecast/evaluator.py:137: SettingWithCopyWarning: \n",
            "A value is trying to be set on a copy of a slice from a DataFrame\n",
            "\n",
            "See the caveats in the documentation: https://pandas.pydata.org/pandas-docs/stable/user_guide/indexing.html#returning-a-view-versus-a-copy\n",
            "  df['preds'][history_length:] = end_tensor.numpy().tolist()\n",
            "/usr/local/lib/python3.6/dist-packages/pandas/core/series.py:1042: SettingWithCopyWarning: \n",
            "A value is trying to be set on a copy of a slice from a DataFrame\n",
            "\n",
            "See the caveats in the documentation: https://pandas.pydata.org/pandas-docs/stable/user_guide/indexing.html#returning-a-view-versus-a-copy\n",
            "  self._set_with(key, value)\n",
            "/content/github_aistream-peelout_flow-forecast/flood_forecast/evaluator.py:59: SettingWithCopyWarning: \n",
            "A value is trying to be set on a copy of a slice from a DataFrame\n",
            "\n",
            "See the caveats in the documentation: https://pandas.pydata.org/pandas-docs/stable/user_guide/indexing.html#returning-a-view-versus-a-copy\n",
            "  df, end_tensor, forecast_history, junk, test_data = infer_on_torch_model(model, **inference_params)\n"
          ],
          "name": "stderr"
        },
        {
          "output_type": "stream",
          "text": [
            "torch.Size([10])\n",
            "test_data scale\n",
            "Un-transforming data\n"
          ],
          "name": "stdout"
        },
        {
          "output_type": "stream",
          "text": [
            "/content/github_aistream-peelout_flow-forecast/flood_forecast/evaluator.py:67: SettingWithCopyWarning: \n",
            "A value is trying to be set on a copy of a slice from a DataFrame\n",
            "\n",
            "See the caveats in the documentation: https://pandas.pydata.org/pandas-docs/stable/user_guide/indexing.html#returning-a-view-versus-a-copy\n",
            "  df['preds'][history_length:] = end_tensor_list\n",
            "/content/github_aistream-peelout_flow-forecast/flood_forecast/trainer.py:30: SettingWithCopyWarning: \n",
            "A value is trying to be set on a copy of a slice from a DataFrame\n",
            "\n",
            "See the caveats in the documentation: https://pandas.pydata.org/pandas-docs/stable/user_guide/indexing.html#returning-a-view-versus-a-copy\n",
            "  test_acc = evaluate_model(trained_model, model_type, params[\"dataset_params\"][\"target_col\"], params[\"metrics\"], params[\"inference_params\"], {})\n"
          ],
          "name": "stderr"
        },
        {
          "output_type": "stream",
          "text": [
            "Current historical dataframe\n",
            "    Unnamed: 0                        name  ... original_index       preds\n",
            "87          87  Antwerp, Flanders, Belgium  ...             87    0.000000\n",
            "88          88  Antwerp, Flanders, Belgium  ...             88    0.000000\n",
            "89          89  Antwerp, Flanders, Belgium  ...             89    0.000000\n",
            "90          90  Antwerp, Flanders, Belgium  ...             90  149.282455\n",
            "91          91  Antwerp, Flanders, Belgium  ...             91  184.569229\n",
            "92          92  Antwerp, Flanders, Belgium  ...             92  186.867966\n",
            "93          93  Antwerp, Flanders, Belgium  ...             93  188.032913\n",
            "94          94  Antwerp, Flanders, Belgium  ...             94  202.545227\n",
            "95          95  Antwerp, Flanders, Belgium  ...             95  206.003845\n",
            "96          96  Antwerp, Flanders, Belgium  ...             96  210.492386\n",
            "97          97  Antwerp, Flanders, Belgium  ...             97  248.335281\n",
            "98          98  Antwerp, Flanders, Belgium  ...             98  260.891876\n",
            "99          99  Antwerp, Flanders, Belgium  ...             99  248.564087\n",
            "\n",
            "[13 rows x 32 columns]\n"
          ],
          "name": "stdout"
        },
        {
          "output_type": "stream",
          "text": [
            "/usr/local/lib/python3.6/dist-packages/plotly/matplotlylib/mpltools.py:368: MatplotlibDeprecationWarning:\n",
            "\n",
            "\n",
            "The is_frame_like function was deprecated in Matplotlib 3.1 and will be removed in 3.3.\n",
            "\n",
            "/usr/local/lib/python3.6/dist-packages/plotly/matplotlylib/renderer.py:410: UserWarning:\n",
            "\n",
            "Bummer! Plotly can currently only draw Line2D objects from matplotlib that are in 'data' coordinates!\n",
            "\n",
            "/usr/local/lib/python3.6/dist-packages/plotly/matplotlylib/renderer.py:512: UserWarning:\n",
            "\n",
            "I found a path object that I don't think is part of a bar chart. Ignoring.\n",
            "\n",
            "/usr/local/lib/python3.6/dist-packages/plotly/matplotlylib/mpltools.py:368: MatplotlibDeprecationWarning:\n",
            "\n",
            "\n",
            "The is_frame_like function was deprecated in Matplotlib 3.1 and will be removed in 3.3.\n",
            "\n",
            "/usr/local/lib/python3.6/dist-packages/plotly/matplotlylib/renderer.py:410: UserWarning:\n",
            "\n",
            "Bummer! Plotly can currently only draw Line2D objects from matplotlib that are in 'data' coordinates!\n",
            "\n",
            "/usr/local/lib/python3.6/dist-packages/plotly/matplotlylib/renderer.py:512: UserWarning:\n",
            "\n",
            "I found a path object that I don't think is part of a bar chart. Ignoring.\n",
            "\n"
          ],
          "name": "stderr"
        },
        {
          "output_type": "stream",
          "text": [
            "wandb: Agent Finished Run: qikm90u1 \n",
            "\n",
            "wandb: Agent Starting Run: pj34i53z with config:\n",
            "\tbatch_size: 2\n",
            "\tforecast_history: 3\n",
            "\tlr: 0.004\n",
            "\tout_seq_length: 3\n",
            "wandb: Agent Started Run: pj34i53z\n"
          ],
          "name": "stdout"
        },
        {
          "output_type": "display_data",
          "data": {
            "text/html": [
              "\n",
              "                Logging results to <a href=\"https://wandb.com\" target=\"_blank\">Weights & Biases</a> <a href=\"https://docs.wandb.com/integrations/jupyter.html\" target=\"_blank\">(Documentation)</a>.<br/>\n",
              "                Project page: <a href=\"https://app.wandb.ai/igodfried/covid-forecast\" target=\"_blank\">https://app.wandb.ai/igodfried/covid-forecast</a><br/>\n",
              "                Sweep page: <a href=\"https://app.wandb.ai/igodfried/covid-forecast/sweeps/yw9zbqtn\" target=\"_blank\">https://app.wandb.ai/igodfried/covid-forecast/sweeps/yw9zbqtn</a><br/>\n",
              "Run page: <a href=\"https://app.wandb.ai/igodfried/covid-forecast/runs/pj34i53z\" target=\"_blank\">https://app.wandb.ai/igodfried/covid-forecast/runs/pj34i53z</a><br/>\n",
              "            "
            ],
            "text/plain": [
              "<IPython.core.display.HTML object>"
            ]
          },
          "metadata": {
            "tags": []
          }
        },
        {
          "output_type": "stream",
          "text": [
            "{'model_name': 'MultiAttnHeadSimple', 'model_type': 'PyTorch', 'model_params': {'number_time_series': 3, 'seq_len': 3, 'output_seq_len': 3, 'forecast_length': 3}, 'dataset_params': {'class': 'default', 'training_path': 'antwerp.csv', 'validation_path': 'antwerp.csv', 'test_path': 'antwerp.csv', 'batch_size': 2, 'forecast_history': 3, 'forecast_length': 3, 'train_end': 71, 'valid_start': 72, 'valid_end': 91, 'target_col': ['new_cases'], 'relevant_cols': ['new_cases', 'month', 'weekday'], 'scaler': 'StandardScaler', 'interpolate': False}, 'training_params': {'criterion': 'MSE', 'optimizer': 'Adam', 'optim_params': {}, 'lr': 0.004, 'epochs': 10, 'batch_size': 2}, 'GCS': False, 'wandb': {'name': 'multihead_pytorch_antwerp', 'tags': ['covid_run', 'circleci'], 'project': 'covid-forecast'}, 'forward_params': {}, 'metrics': ['MSE'], 'inference_params': {'datetime_start': '2020-04-21', 'hours_to_forecast': 10, 'test_csv_path': 'antwerp.csv', 'decoder_params': {'decoder_function': 'simple_decode', 'unsqueeze_dim': 1}, 'dataset_params': {'file_path': 'antwerp.csv', 'forecast_history': 3, 'forecast_length': 3, 'relevant_cols': ['new_cases', 'month', 'weekday'], 'target_col': ['new_cases'], 'scaling': 'StandardScaler', 'interpolate_param': False}}}\n",
            "interpolate should be below\n",
            "Now loading and scaling antwerp.csv\n",
            "interpolate should be below\n",
            "Now loading and scaling antwerp.csv\n",
            "interpolate should be below\n",
            "Now loading and scaling antwerp.csv\n"
          ],
          "name": "stdout"
        },
        {
          "output_type": "display_data",
          "data": {
            "text/html": [
              "\n",
              "                Logging results to <a href=\"https://wandb.com\" target=\"_blank\">Weights & Biases</a> <a href=\"https://docs.wandb.com/integrations/jupyter.html\" target=\"_blank\">(Documentation)</a>.<br/>\n",
              "                Project page: <a href=\"https://app.wandb.ai/igodfried/covid-forecast\" target=\"_blank\">https://app.wandb.ai/igodfried/covid-forecast</a><br/>\n",
              "                Run page: <a href=\"https://app.wandb.ai/igodfried/covid-forecast/runs/1espsqb2\" target=\"_blank\">https://app.wandb.ai/igodfried/covid-forecast/runs/1espsqb2</a><br/>\n",
              "            "
            ],
            "text/plain": [
              "<IPython.core.display.HTML object>"
            ]
          },
          "metadata": {
            "tags": []
          }
        },
        {
          "output_type": "stream",
          "text": [
            "Torch is using cpu\n",
            "The running loss is:\n",
            "17.937730296049267\n",
            "The number of items in train is: \n",
            "32\n",
            "The loss for epoch 0\n",
            "0.5605540717515396\n",
            "The running loss is:\n",
            "35.50285805051681\n",
            "The number of items in train is: \n",
            "32\n",
            "The loss for epoch 1\n",
            "1.1094643140786502\n",
            "The running loss is:\n",
            "17.564409082289785\n",
            "The number of items in train is: \n",
            "32\n",
            "The loss for epoch 2\n",
            "0.5488877838215558\n",
            "The running loss is:\n",
            "23.59525622660294\n",
            "The number of items in train is: \n",
            "32\n",
            "The loss for epoch 3\n",
            "0.7373517570813419\n",
            "The running loss is:\n",
            "15.578202691394836\n",
            "The number of items in train is: \n",
            "32\n",
            "The loss for epoch 4\n",
            "0.4868188341060886\n",
            "The running loss is:\n",
            "24.60211830935441\n",
            "The number of items in train is: \n",
            "32\n",
            "The loss for epoch 5\n",
            "0.7688161971673253\n",
            "The running loss is:\n",
            "14.085245068301447\n",
            "The number of items in train is: \n",
            "32\n",
            "The loss for epoch 6\n",
            "0.4401639083844202\n",
            "The running loss is:\n",
            "12.162914328742772\n",
            "The number of items in train is: \n",
            "32\n",
            "The loss for epoch 7\n",
            "0.38009107277321164\n",
            "The running loss is:\n",
            "12.102874213131145\n",
            "The number of items in train is: \n",
            "32\n",
            "The loss for epoch 8\n",
            "0.37821481916034827\n",
            "The running loss is:\n",
            "11.44598395540379\n",
            "The number of items in train is: \n",
            "32\n",
            "The loss for epoch 9\n",
            "0.35768699860636843\n",
            "interpolate should be below\n",
            "Now loading and scaling antwerp.csv\n",
            "CSV Path below\n",
            "antwerp.csv\n",
            "torch.Size([1, 3, 3])\n",
            "Add debugging crap below\n"
          ],
          "name": "stdout"
        },
        {
          "output_type": "stream",
          "text": [
            "/content/github_aistream-peelout_flow-forecast/flood_forecast/evaluator.py:136: SettingWithCopyWarning: \n",
            "A value is trying to be set on a copy of a slice from a DataFrame.\n",
            "Try using .loc[row_indexer,col_indexer] = value instead\n",
            "\n",
            "See the caveats in the documentation: https://pandas.pydata.org/pandas-docs/stable/user_guide/indexing.html#returning-a-view-versus-a-copy\n",
            "  df['preds'] = 0\n",
            "/content/github_aistream-peelout_flow-forecast/flood_forecast/evaluator.py:137: SettingWithCopyWarning: \n",
            "A value is trying to be set on a copy of a slice from a DataFrame\n",
            "\n",
            "See the caveats in the documentation: https://pandas.pydata.org/pandas-docs/stable/user_guide/indexing.html#returning-a-view-versus-a-copy\n",
            "  df['preds'][history_length:] = end_tensor.numpy().tolist()\n",
            "/usr/local/lib/python3.6/dist-packages/pandas/core/series.py:1042: SettingWithCopyWarning: \n",
            "A value is trying to be set on a copy of a slice from a DataFrame\n",
            "\n",
            "See the caveats in the documentation: https://pandas.pydata.org/pandas-docs/stable/user_guide/indexing.html#returning-a-view-versus-a-copy\n",
            "  self._set_with(key, value)\n",
            "/content/github_aistream-peelout_flow-forecast/flood_forecast/evaluator.py:59: SettingWithCopyWarning: \n",
            "A value is trying to be set on a copy of a slice from a DataFrame\n",
            "\n",
            "See the caveats in the documentation: https://pandas.pydata.org/pandas-docs/stable/user_guide/indexing.html#returning-a-view-versus-a-copy\n",
            "  df, end_tensor, forecast_history, junk, test_data = infer_on_torch_model(model, **inference_params)\n"
          ],
          "name": "stderr"
        },
        {
          "output_type": "stream",
          "text": [
            "torch.Size([10])\n",
            "test_data scale\n",
            "Un-transforming data\n"
          ],
          "name": "stdout"
        },
        {
          "output_type": "stream",
          "text": [
            "/content/github_aistream-peelout_flow-forecast/flood_forecast/evaluator.py:67: SettingWithCopyWarning: \n",
            "A value is trying to be set on a copy of a slice from a DataFrame\n",
            "\n",
            "See the caveats in the documentation: https://pandas.pydata.org/pandas-docs/stable/user_guide/indexing.html#returning-a-view-versus-a-copy\n",
            "  df['preds'][history_length:] = end_tensor_list\n",
            "/content/github_aistream-peelout_flow-forecast/flood_forecast/trainer.py:30: SettingWithCopyWarning: \n",
            "A value is trying to be set on a copy of a slice from a DataFrame\n",
            "\n",
            "See the caveats in the documentation: https://pandas.pydata.org/pandas-docs/stable/user_guide/indexing.html#returning-a-view-versus-a-copy\n",
            "  test_acc = evaluate_model(trained_model, model_type, params[\"dataset_params\"][\"target_col\"], params[\"metrics\"], params[\"inference_params\"], {})\n"
          ],
          "name": "stderr"
        },
        {
          "output_type": "stream",
          "text": [
            "Current historical dataframe\n",
            "    Unnamed: 0                        name  ... original_index       preds\n",
            "87          87  Antwerp, Flanders, Belgium  ...             87    0.000000\n",
            "88          88  Antwerp, Flanders, Belgium  ...             88    0.000000\n",
            "89          89  Antwerp, Flanders, Belgium  ...             89    0.000000\n",
            "90          90  Antwerp, Flanders, Belgium  ...             90  132.449570\n",
            "91          91  Antwerp, Flanders, Belgium  ...             91  163.160934\n",
            "92          92  Antwerp, Flanders, Belgium  ...             92  169.112091\n",
            "93          93  Antwerp, Flanders, Belgium  ...             93  168.411591\n",
            "94          94  Antwerp, Flanders, Belgium  ...             94  187.403351\n",
            "95          95  Antwerp, Flanders, Belgium  ...             95  200.974945\n",
            "96          96  Antwerp, Flanders, Belgium  ...             96  218.312180\n",
            "97          97  Antwerp, Flanders, Belgium  ...             97  233.340790\n",
            "98          98  Antwerp, Flanders, Belgium  ...             98  246.575729\n",
            "99          99  Antwerp, Flanders, Belgium  ...             99  250.199844\n",
            "\n",
            "[13 rows x 32 columns]\n"
          ],
          "name": "stdout"
        },
        {
          "output_type": "stream",
          "text": [
            "/usr/local/lib/python3.6/dist-packages/plotly/matplotlylib/mpltools.py:368: MatplotlibDeprecationWarning:\n",
            "\n",
            "\n",
            "The is_frame_like function was deprecated in Matplotlib 3.1 and will be removed in 3.3.\n",
            "\n",
            "/usr/local/lib/python3.6/dist-packages/plotly/matplotlylib/renderer.py:410: UserWarning:\n",
            "\n",
            "Bummer! Plotly can currently only draw Line2D objects from matplotlib that are in 'data' coordinates!\n",
            "\n",
            "/usr/local/lib/python3.6/dist-packages/plotly/matplotlylib/renderer.py:512: UserWarning:\n",
            "\n",
            "I found a path object that I don't think is part of a bar chart. Ignoring.\n",
            "\n",
            "/usr/local/lib/python3.6/dist-packages/plotly/matplotlylib/mpltools.py:368: MatplotlibDeprecationWarning:\n",
            "\n",
            "\n",
            "The is_frame_like function was deprecated in Matplotlib 3.1 and will be removed in 3.3.\n",
            "\n",
            "/usr/local/lib/python3.6/dist-packages/plotly/matplotlylib/renderer.py:410: UserWarning:\n",
            "\n",
            "Bummer! Plotly can currently only draw Line2D objects from matplotlib that are in 'data' coordinates!\n",
            "\n",
            "/usr/local/lib/python3.6/dist-packages/plotly/matplotlylib/renderer.py:512: UserWarning:\n",
            "\n",
            "I found a path object that I don't think is part of a bar chart. Ignoring.\n",
            "\n"
          ],
          "name": "stderr"
        },
        {
          "output_type": "stream",
          "text": [
            "wandb: Agent Finished Run: pj34i53z \n",
            "\n",
            "wandb: Agent Starting Run: 331k3vz1 with config:\n",
            "\tbatch_size: 2\n",
            "\tforecast_history: 3\n",
            "\tlr: 0.01\n",
            "\tout_seq_length: 1\n",
            "wandb: Agent Started Run: 331k3vz1\n"
          ],
          "name": "stdout"
        },
        {
          "output_type": "display_data",
          "data": {
            "text/html": [
              "\n",
              "                Logging results to <a href=\"https://wandb.com\" target=\"_blank\">Weights & Biases</a> <a href=\"https://docs.wandb.com/integrations/jupyter.html\" target=\"_blank\">(Documentation)</a>.<br/>\n",
              "                Project page: <a href=\"https://app.wandb.ai/igodfried/covid-forecast\" target=\"_blank\">https://app.wandb.ai/igodfried/covid-forecast</a><br/>\n",
              "                Sweep page: <a href=\"https://app.wandb.ai/igodfried/covid-forecast/sweeps/yw9zbqtn\" target=\"_blank\">https://app.wandb.ai/igodfried/covid-forecast/sweeps/yw9zbqtn</a><br/>\n",
              "Run page: <a href=\"https://app.wandb.ai/igodfried/covid-forecast/runs/331k3vz1\" target=\"_blank\">https://app.wandb.ai/igodfried/covid-forecast/runs/331k3vz1</a><br/>\n",
              "            "
            ],
            "text/plain": [
              "<IPython.core.display.HTML object>"
            ]
          },
          "metadata": {
            "tags": []
          }
        },
        {
          "output_type": "stream",
          "text": [
            "{'model_name': 'MultiAttnHeadSimple', 'model_type': 'PyTorch', 'model_params': {'number_time_series': 3, 'seq_len': 3, 'output_seq_len': 1, 'forecast_length': 1}, 'dataset_params': {'class': 'default', 'training_path': 'antwerp.csv', 'validation_path': 'antwerp.csv', 'test_path': 'antwerp.csv', 'batch_size': 2, 'forecast_history': 3, 'forecast_length': 1, 'train_end': 71, 'valid_start': 72, 'valid_end': 91, 'target_col': ['new_cases'], 'relevant_cols': ['new_cases', 'month', 'weekday'], 'scaler': 'StandardScaler', 'interpolate': False}, 'training_params': {'criterion': 'MSE', 'optimizer': 'Adam', 'optim_params': {}, 'lr': 0.01, 'epochs': 10, 'batch_size': 2}, 'GCS': False, 'wandb': {'name': 'multihead_pytorch_antwerp', 'tags': ['covid_run', 'circleci'], 'project': 'covid-forecast'}, 'forward_params': {}, 'metrics': ['MSE'], 'inference_params': {'datetime_start': '2020-04-21', 'hours_to_forecast': 10, 'test_csv_path': 'antwerp.csv', 'decoder_params': {'decoder_function': 'simple_decode', 'unsqueeze_dim': 1}, 'dataset_params': {'file_path': 'antwerp.csv', 'forecast_history': 3, 'forecast_length': 1, 'relevant_cols': ['new_cases', 'month', 'weekday'], 'target_col': ['new_cases'], 'scaling': 'StandardScaler', 'interpolate_param': False}}}\n",
            "interpolate should be below\n",
            "Now loading and scaling antwerp.csv\n",
            "interpolate should be below\n",
            "Now loading and scaling antwerp.csv\n",
            "interpolate should be below\n",
            "Now loading and scaling antwerp.csv\n"
          ],
          "name": "stdout"
        },
        {
          "output_type": "display_data",
          "data": {
            "text/html": [
              "\n",
              "                Logging results to <a href=\"https://wandb.com\" target=\"_blank\">Weights & Biases</a> <a href=\"https://docs.wandb.com/integrations/jupyter.html\" target=\"_blank\">(Documentation)</a>.<br/>\n",
              "                Project page: <a href=\"https://app.wandb.ai/igodfried/covid-forecast\" target=\"_blank\">https://app.wandb.ai/igodfried/covid-forecast</a><br/>\n",
              "                Run page: <a href=\"https://app.wandb.ai/igodfried/covid-forecast/runs/1ogqls97\" target=\"_blank\">https://app.wandb.ai/igodfried/covid-forecast/runs/1ogqls97</a><br/>\n",
              "            "
            ],
            "text/plain": [
              "<IPython.core.display.HTML object>"
            ]
          },
          "metadata": {
            "tags": []
          }
        },
        {
          "output_type": "stream",
          "text": [
            "Torch is using cpu\n",
            "The running loss is:\n",
            "10.025347635382786\n",
            "The number of items in train is: \n",
            "33\n",
            "The loss for epoch 0\n",
            "0.30379841319341777\n",
            "The running loss is:\n",
            "34.230189617257565\n",
            "The number of items in train is: \n",
            "33\n",
            "The loss for epoch 1\n",
            "1.0372784732502291\n",
            "The running loss is:\n",
            "13.429732192773372\n",
            "The number of items in train is: \n",
            "33\n",
            "The loss for epoch 2\n",
            "0.4069615815991931\n",
            "The running loss is:\n",
            "26.592998671345413\n",
            "The number of items in train is: \n",
            "33\n",
            "The loss for epoch 3\n",
            "0.8058484445862246\n",
            "The running loss is:\n",
            "12.567596087465063\n",
            "The number of items in train is: \n",
            "33\n",
            "The loss for epoch 4\n",
            "0.3808362450746989\n",
            "The running loss is:\n",
            "20.822010218165815\n",
            "The number of items in train is: \n",
            "33\n",
            "The loss for epoch 5\n",
            "0.6309700066110853\n",
            "The running loss is:\n",
            "7.111795865843305\n",
            "The number of items in train is: \n",
            "33\n",
            "The loss for epoch 6\n",
            "0.2155089656316153\n",
            "The running loss is:\n",
            "11.406340244342573\n",
            "The number of items in train is: \n",
            "33\n",
            "The loss for epoch 7\n",
            "0.34564667407098704\n",
            "The running loss is:\n",
            "5.787523627048358\n",
            "The number of items in train is: \n",
            "33\n",
            "The loss for epoch 8\n",
            "0.17537950384995024\n",
            "The running loss is:\n",
            "8.48353370220866\n",
            "The number of items in train is: \n",
            "33\n",
            "The loss for epoch 9\n",
            "0.2570767788548079\n",
            "interpolate should be below\n",
            "Now loading and scaling antwerp.csv\n",
            "CSV Path below\n",
            "antwerp.csv\n",
            "torch.Size([1, 3, 3])\n",
            "Add debugging crap below\n"
          ],
          "name": "stdout"
        },
        {
          "output_type": "stream",
          "text": [
            "/content/github_aistream-peelout_flow-forecast/flood_forecast/evaluator.py:136: SettingWithCopyWarning: \n",
            "A value is trying to be set on a copy of a slice from a DataFrame.\n",
            "Try using .loc[row_indexer,col_indexer] = value instead\n",
            "\n",
            "See the caveats in the documentation: https://pandas.pydata.org/pandas-docs/stable/user_guide/indexing.html#returning-a-view-versus-a-copy\n",
            "  df['preds'] = 0\n",
            "/content/github_aistream-peelout_flow-forecast/flood_forecast/evaluator.py:137: SettingWithCopyWarning: \n",
            "A value is trying to be set on a copy of a slice from a DataFrame\n",
            "\n",
            "See the caveats in the documentation: https://pandas.pydata.org/pandas-docs/stable/user_guide/indexing.html#returning-a-view-versus-a-copy\n",
            "  df['preds'][history_length:] = end_tensor.numpy().tolist()\n",
            "/usr/local/lib/python3.6/dist-packages/pandas/core/series.py:1042: SettingWithCopyWarning: \n",
            "A value is trying to be set on a copy of a slice from a DataFrame\n",
            "\n",
            "See the caveats in the documentation: https://pandas.pydata.org/pandas-docs/stable/user_guide/indexing.html#returning-a-view-versus-a-copy\n",
            "  self._set_with(key, value)\n",
            "/content/github_aistream-peelout_flow-forecast/flood_forecast/evaluator.py:59: SettingWithCopyWarning: \n",
            "A value is trying to be set on a copy of a slice from a DataFrame\n",
            "\n",
            "See the caveats in the documentation: https://pandas.pydata.org/pandas-docs/stable/user_guide/indexing.html#returning-a-view-versus-a-copy\n",
            "  df, end_tensor, forecast_history, junk, test_data = infer_on_torch_model(model, **inference_params)\n"
          ],
          "name": "stderr"
        },
        {
          "output_type": "stream",
          "text": [
            "torch.Size([10])\n",
            "test_data scale\n",
            "Un-transforming data\n"
          ],
          "name": "stdout"
        },
        {
          "output_type": "stream",
          "text": [
            "/content/github_aistream-peelout_flow-forecast/flood_forecast/evaluator.py:67: SettingWithCopyWarning: \n",
            "A value is trying to be set on a copy of a slice from a DataFrame\n",
            "\n",
            "See the caveats in the documentation: https://pandas.pydata.org/pandas-docs/stable/user_guide/indexing.html#returning-a-view-versus-a-copy\n",
            "  df['preds'][history_length:] = end_tensor_list\n",
            "/content/github_aistream-peelout_flow-forecast/flood_forecast/trainer.py:30: SettingWithCopyWarning: \n",
            "A value is trying to be set on a copy of a slice from a DataFrame\n",
            "\n",
            "See the caveats in the documentation: https://pandas.pydata.org/pandas-docs/stable/user_guide/indexing.html#returning-a-view-versus-a-copy\n",
            "  test_acc = evaluate_model(trained_model, model_type, params[\"dataset_params\"][\"target_col\"], params[\"metrics\"], params[\"inference_params\"], {})\n"
          ],
          "name": "stderr"
        },
        {
          "output_type": "stream",
          "text": [
            "Current historical dataframe\n",
            "    Unnamed: 0                        name  ... original_index       preds\n",
            "87          87  Antwerp, Flanders, Belgium  ...             87    0.000000\n",
            "88          88  Antwerp, Flanders, Belgium  ...             88    0.000000\n",
            "89          89  Antwerp, Flanders, Belgium  ...             89    0.000000\n",
            "90          90  Antwerp, Flanders, Belgium  ...             90  136.612915\n",
            "91          91  Antwerp, Flanders, Belgium  ...             91  132.998718\n",
            "92          92  Antwerp, Flanders, Belgium  ...             92  135.038666\n",
            "93          93  Antwerp, Flanders, Belgium  ...             93  122.781960\n",
            "94          94  Antwerp, Flanders, Belgium  ...             94  122.583794\n",
            "95          95  Antwerp, Flanders, Belgium  ...             95  123.441513\n",
            "96          96  Antwerp, Flanders, Belgium  ...             96  120.397736\n",
            "97          97  Antwerp, Flanders, Belgium  ...             97  111.034378\n",
            "98          98  Antwerp, Flanders, Belgium  ...             98  106.719803\n",
            "99          99  Antwerp, Flanders, Belgium  ...             99  104.161469\n",
            "\n",
            "[13 rows x 32 columns]\n"
          ],
          "name": "stdout"
        },
        {
          "output_type": "stream",
          "text": [
            "/usr/local/lib/python3.6/dist-packages/plotly/matplotlylib/mpltools.py:368: MatplotlibDeprecationWarning:\n",
            "\n",
            "\n",
            "The is_frame_like function was deprecated in Matplotlib 3.1 and will be removed in 3.3.\n",
            "\n",
            "/usr/local/lib/python3.6/dist-packages/plotly/matplotlylib/renderer.py:410: UserWarning:\n",
            "\n",
            "Bummer! Plotly can currently only draw Line2D objects from matplotlib that are in 'data' coordinates!\n",
            "\n",
            "/usr/local/lib/python3.6/dist-packages/plotly/matplotlylib/renderer.py:512: UserWarning:\n",
            "\n",
            "I found a path object that I don't think is part of a bar chart. Ignoring.\n",
            "\n",
            "/usr/local/lib/python3.6/dist-packages/plotly/matplotlylib/mpltools.py:368: MatplotlibDeprecationWarning:\n",
            "\n",
            "\n",
            "The is_frame_like function was deprecated in Matplotlib 3.1 and will be removed in 3.3.\n",
            "\n",
            "/usr/local/lib/python3.6/dist-packages/plotly/matplotlylib/renderer.py:410: UserWarning:\n",
            "\n",
            "Bummer! Plotly can currently only draw Line2D objects from matplotlib that are in 'data' coordinates!\n",
            "\n",
            "/usr/local/lib/python3.6/dist-packages/plotly/matplotlylib/renderer.py:512: UserWarning:\n",
            "\n",
            "I found a path object that I don't think is part of a bar chart. Ignoring.\n",
            "\n"
          ],
          "name": "stderr"
        },
        {
          "output_type": "stream",
          "text": [
            "wandb: Agent Finished Run: 331k3vz1 \n",
            "\n",
            "wandb: Agent Starting Run: 69i46xdy with config:\n",
            "\tbatch_size: 2\n",
            "\tforecast_history: 3\n",
            "\tlr: 0.01\n",
            "\tout_seq_length: 2\n",
            "wandb: Agent Started Run: 69i46xdy\n"
          ],
          "name": "stdout"
        },
        {
          "output_type": "display_data",
          "data": {
            "text/html": [
              "\n",
              "                Logging results to <a href=\"https://wandb.com\" target=\"_blank\">Weights & Biases</a> <a href=\"https://docs.wandb.com/integrations/jupyter.html\" target=\"_blank\">(Documentation)</a>.<br/>\n",
              "                Project page: <a href=\"https://app.wandb.ai/igodfried/covid-forecast\" target=\"_blank\">https://app.wandb.ai/igodfried/covid-forecast</a><br/>\n",
              "                Sweep page: <a href=\"https://app.wandb.ai/igodfried/covid-forecast/sweeps/yw9zbqtn\" target=\"_blank\">https://app.wandb.ai/igodfried/covid-forecast/sweeps/yw9zbqtn</a><br/>\n",
              "Run page: <a href=\"https://app.wandb.ai/igodfried/covid-forecast/runs/69i46xdy\" target=\"_blank\">https://app.wandb.ai/igodfried/covid-forecast/runs/69i46xdy</a><br/>\n",
              "            "
            ],
            "text/plain": [
              "<IPython.core.display.HTML object>"
            ]
          },
          "metadata": {
            "tags": []
          }
        },
        {
          "output_type": "stream",
          "text": [
            "{'model_name': 'MultiAttnHeadSimple', 'model_type': 'PyTorch', 'model_params': {'number_time_series': 3, 'seq_len': 3, 'output_seq_len': 2, 'forecast_length': 2}, 'dataset_params': {'class': 'default', 'training_path': 'antwerp.csv', 'validation_path': 'antwerp.csv', 'test_path': 'antwerp.csv', 'batch_size': 2, 'forecast_history': 3, 'forecast_length': 2, 'train_end': 71, 'valid_start': 72, 'valid_end': 91, 'target_col': ['new_cases'], 'relevant_cols': ['new_cases', 'month', 'weekday'], 'scaler': 'StandardScaler', 'interpolate': False}, 'training_params': {'criterion': 'MSE', 'optimizer': 'Adam', 'optim_params': {}, 'lr': 0.01, 'epochs': 10, 'batch_size': 2}, 'GCS': False, 'wandb': {'name': 'multihead_pytorch_antwerp', 'tags': ['covid_run', 'circleci'], 'project': 'covid-forecast'}, 'forward_params': {}, 'metrics': ['MSE'], 'inference_params': {'datetime_start': '2020-04-21', 'hours_to_forecast': 10, 'test_csv_path': 'antwerp.csv', 'decoder_params': {'decoder_function': 'simple_decode', 'unsqueeze_dim': 1}, 'dataset_params': {'file_path': 'antwerp.csv', 'forecast_history': 3, 'forecast_length': 2, 'relevant_cols': ['new_cases', 'month', 'weekday'], 'target_col': ['new_cases'], 'scaling': 'StandardScaler', 'interpolate_param': False}}}\n",
            "interpolate should be below\n",
            "Now loading and scaling antwerp.csv\n",
            "interpolate should be below\n",
            "Now loading and scaling antwerp.csv\n",
            "interpolate should be below\n",
            "Now loading and scaling antwerp.csv\n"
          ],
          "name": "stdout"
        },
        {
          "output_type": "display_data",
          "data": {
            "text/html": [
              "\n",
              "                Logging results to <a href=\"https://wandb.com\" target=\"_blank\">Weights & Biases</a> <a href=\"https://docs.wandb.com/integrations/jupyter.html\" target=\"_blank\">(Documentation)</a>.<br/>\n",
              "                Project page: <a href=\"https://app.wandb.ai/igodfried/covid-forecast\" target=\"_blank\">https://app.wandb.ai/igodfried/covid-forecast</a><br/>\n",
              "                Run page: <a href=\"https://app.wandb.ai/igodfried/covid-forecast/runs/33slpwqj\" target=\"_blank\">https://app.wandb.ai/igodfried/covid-forecast/runs/33slpwqj</a><br/>\n",
              "            "
            ],
            "text/plain": [
              "<IPython.core.display.HTML object>"
            ]
          },
          "metadata": {
            "tags": []
          }
        },
        {
          "output_type": "stream",
          "text": [
            "Torch is using cpu\n",
            "The running loss is:\n",
            "28.064961809664965\n",
            "The number of items in train is: \n",
            "33\n",
            "The loss for epoch 0\n",
            "0.8504533881716656\n",
            "The running loss is:\n",
            "29.085500955581665\n",
            "The number of items in train is: \n",
            "33\n",
            "The loss for epoch 1\n",
            "0.881378816835808\n",
            "The running loss is:\n",
            "26.46319116279483\n",
            "The number of items in train is: \n",
            "33\n",
            "The loss for epoch 2\n",
            "0.8019148837210555\n",
            "The running loss is:\n",
            "27.79352070391178\n",
            "The number of items in train is: \n",
            "33\n",
            "The loss for epoch 3\n",
            "0.8422279001185389\n",
            "The running loss is:\n",
            "37.66246119979769\n",
            "The number of items in train is: \n",
            "33\n",
            "The loss for epoch 4\n",
            "1.1412867030241725\n",
            "The running loss is:\n",
            "23.635434065014124\n",
            "The number of items in train is: \n",
            "33\n",
            "The loss for epoch 5\n",
            "0.7162252746973977\n",
            "The running loss is:\n",
            "22.120809108018875\n",
            "The number of items in train is: \n",
            "33\n",
            "The loss for epoch 6\n",
            "0.6703275487278447\n",
            "The running loss is:\n",
            "20.774387892335653\n",
            "The number of items in train is: \n",
            "33\n",
            "The loss for epoch 7\n",
            "0.6295269058283531\n",
            "The running loss is:\n",
            "17.475550305098295\n",
            "The number of items in train is: \n",
            "33\n",
            "The loss for epoch 8\n",
            "0.5295621304575241\n",
            "The running loss is:\n",
            "17.86318363249302\n",
            "The number of items in train is: \n",
            "33\n",
            "The loss for epoch 9\n",
            "0.5413085949240308\n",
            "interpolate should be below\n",
            "Now loading and scaling antwerp.csv\n",
            "CSV Path below\n",
            "antwerp.csv\n",
            "torch.Size([1, 3, 3])\n",
            "Add debugging crap below\n"
          ],
          "name": "stdout"
        },
        {
          "output_type": "stream",
          "text": [
            "/content/github_aistream-peelout_flow-forecast/flood_forecast/evaluator.py:136: SettingWithCopyWarning: \n",
            "A value is trying to be set on a copy of a slice from a DataFrame.\n",
            "Try using .loc[row_indexer,col_indexer] = value instead\n",
            "\n",
            "See the caveats in the documentation: https://pandas.pydata.org/pandas-docs/stable/user_guide/indexing.html#returning-a-view-versus-a-copy\n",
            "  df['preds'] = 0\n",
            "/content/github_aistream-peelout_flow-forecast/flood_forecast/evaluator.py:137: SettingWithCopyWarning: \n",
            "A value is trying to be set on a copy of a slice from a DataFrame\n",
            "\n",
            "See the caveats in the documentation: https://pandas.pydata.org/pandas-docs/stable/user_guide/indexing.html#returning-a-view-versus-a-copy\n",
            "  df['preds'][history_length:] = end_tensor.numpy().tolist()\n",
            "/usr/local/lib/python3.6/dist-packages/pandas/core/series.py:1042: SettingWithCopyWarning: \n",
            "A value is trying to be set on a copy of a slice from a DataFrame\n",
            "\n",
            "See the caveats in the documentation: https://pandas.pydata.org/pandas-docs/stable/user_guide/indexing.html#returning-a-view-versus-a-copy\n",
            "  self._set_with(key, value)\n",
            "/content/github_aistream-peelout_flow-forecast/flood_forecast/evaluator.py:59: SettingWithCopyWarning: \n",
            "A value is trying to be set on a copy of a slice from a DataFrame\n",
            "\n",
            "See the caveats in the documentation: https://pandas.pydata.org/pandas-docs/stable/user_guide/indexing.html#returning-a-view-versus-a-copy\n",
            "  df, end_tensor, forecast_history, junk, test_data = infer_on_torch_model(model, **inference_params)\n"
          ],
          "name": "stderr"
        },
        {
          "output_type": "stream",
          "text": [
            "torch.Size([10])\n",
            "test_data scale\n",
            "Un-transforming data\n"
          ],
          "name": "stdout"
        },
        {
          "output_type": "stream",
          "text": [
            "/content/github_aistream-peelout_flow-forecast/flood_forecast/evaluator.py:67: SettingWithCopyWarning: \n",
            "A value is trying to be set on a copy of a slice from a DataFrame\n",
            "\n",
            "See the caveats in the documentation: https://pandas.pydata.org/pandas-docs/stable/user_guide/indexing.html#returning-a-view-versus-a-copy\n",
            "  df['preds'][history_length:] = end_tensor_list\n",
            "/content/github_aistream-peelout_flow-forecast/flood_forecast/trainer.py:30: SettingWithCopyWarning: \n",
            "A value is trying to be set on a copy of a slice from a DataFrame\n",
            "\n",
            "See the caveats in the documentation: https://pandas.pydata.org/pandas-docs/stable/user_guide/indexing.html#returning-a-view-versus-a-copy\n",
            "  test_acc = evaluate_model(trained_model, model_type, params[\"dataset_params\"][\"target_col\"], params[\"metrics\"], params[\"inference_params\"], {})\n"
          ],
          "name": "stderr"
        },
        {
          "output_type": "stream",
          "text": [
            "Current historical dataframe\n",
            "    Unnamed: 0                        name  ... original_index       preds\n",
            "87          87  Antwerp, Flanders, Belgium  ...             87    0.000000\n",
            "88          88  Antwerp, Flanders, Belgium  ...             88    0.000000\n",
            "89          89  Antwerp, Flanders, Belgium  ...             89    0.000000\n",
            "90          90  Antwerp, Flanders, Belgium  ...             90  149.282455\n",
            "91          91  Antwerp, Flanders, Belgium  ...             91  184.569229\n",
            "92          92  Antwerp, Flanders, Belgium  ...             92  186.867966\n",
            "93          93  Antwerp, Flanders, Belgium  ...             93  188.032913\n",
            "94          94  Antwerp, Flanders, Belgium  ...             94  202.545227\n",
            "95          95  Antwerp, Flanders, Belgium  ...             95  206.003845\n",
            "96          96  Antwerp, Flanders, Belgium  ...             96  210.492386\n",
            "97          97  Antwerp, Flanders, Belgium  ...             97  248.335281\n",
            "98          98  Antwerp, Flanders, Belgium  ...             98  260.891876\n",
            "99          99  Antwerp, Flanders, Belgium  ...             99  248.564087\n",
            "\n",
            "[13 rows x 32 columns]\n"
          ],
          "name": "stdout"
        },
        {
          "output_type": "stream",
          "text": [
            "/usr/local/lib/python3.6/dist-packages/plotly/matplotlylib/mpltools.py:368: MatplotlibDeprecationWarning:\n",
            "\n",
            "\n",
            "The is_frame_like function was deprecated in Matplotlib 3.1 and will be removed in 3.3.\n",
            "\n",
            "/usr/local/lib/python3.6/dist-packages/plotly/matplotlylib/renderer.py:410: UserWarning:\n",
            "\n",
            "Bummer! Plotly can currently only draw Line2D objects from matplotlib that are in 'data' coordinates!\n",
            "\n",
            "/usr/local/lib/python3.6/dist-packages/plotly/matplotlylib/renderer.py:512: UserWarning:\n",
            "\n",
            "I found a path object that I don't think is part of a bar chart. Ignoring.\n",
            "\n",
            "/usr/local/lib/python3.6/dist-packages/plotly/matplotlylib/mpltools.py:368: MatplotlibDeprecationWarning:\n",
            "\n",
            "\n",
            "The is_frame_like function was deprecated in Matplotlib 3.1 and will be removed in 3.3.\n",
            "\n",
            "/usr/local/lib/python3.6/dist-packages/plotly/matplotlylib/renderer.py:410: UserWarning:\n",
            "\n",
            "Bummer! Plotly can currently only draw Line2D objects from matplotlib that are in 'data' coordinates!\n",
            "\n",
            "/usr/local/lib/python3.6/dist-packages/plotly/matplotlylib/renderer.py:512: UserWarning:\n",
            "\n",
            "I found a path object that I don't think is part of a bar chart. Ignoring.\n",
            "\n"
          ],
          "name": "stderr"
        },
        {
          "output_type": "stream",
          "text": [
            "wandb: Agent Finished Run: 69i46xdy \n",
            "\n",
            "wandb: Agent Starting Run: nx8bd762 with config:\n",
            "\tbatch_size: 2\n",
            "\tforecast_history: 3\n",
            "\tlr: 0.01\n",
            "\tout_seq_length: 3\n",
            "wandb: Agent Started Run: nx8bd762\n"
          ],
          "name": "stdout"
        },
        {
          "output_type": "display_data",
          "data": {
            "text/html": [
              "\n",
              "                Logging results to <a href=\"https://wandb.com\" target=\"_blank\">Weights & Biases</a> <a href=\"https://docs.wandb.com/integrations/jupyter.html\" target=\"_blank\">(Documentation)</a>.<br/>\n",
              "                Project page: <a href=\"https://app.wandb.ai/igodfried/covid-forecast\" target=\"_blank\">https://app.wandb.ai/igodfried/covid-forecast</a><br/>\n",
              "                Sweep page: <a href=\"https://app.wandb.ai/igodfried/covid-forecast/sweeps/yw9zbqtn\" target=\"_blank\">https://app.wandb.ai/igodfried/covid-forecast/sweeps/yw9zbqtn</a><br/>\n",
              "Run page: <a href=\"https://app.wandb.ai/igodfried/covid-forecast/runs/nx8bd762\" target=\"_blank\">https://app.wandb.ai/igodfried/covid-forecast/runs/nx8bd762</a><br/>\n",
              "            "
            ],
            "text/plain": [
              "<IPython.core.display.HTML object>"
            ]
          },
          "metadata": {
            "tags": []
          }
        },
        {
          "output_type": "stream",
          "text": [
            "{'model_name': 'MultiAttnHeadSimple', 'model_type': 'PyTorch', 'model_params': {'number_time_series': 3, 'seq_len': 3, 'output_seq_len': 3, 'forecast_length': 3}, 'dataset_params': {'class': 'default', 'training_path': 'antwerp.csv', 'validation_path': 'antwerp.csv', 'test_path': 'antwerp.csv', 'batch_size': 2, 'forecast_history': 3, 'forecast_length': 3, 'train_end': 71, 'valid_start': 72, 'valid_end': 91, 'target_col': ['new_cases'], 'relevant_cols': ['new_cases', 'month', 'weekday'], 'scaler': 'StandardScaler', 'interpolate': False}, 'training_params': {'criterion': 'MSE', 'optimizer': 'Adam', 'optim_params': {}, 'lr': 0.01, 'epochs': 10, 'batch_size': 2}, 'GCS': False, 'wandb': {'name': 'multihead_pytorch_antwerp', 'tags': ['covid_run', 'circleci'], 'project': 'covid-forecast'}, 'forward_params': {}, 'metrics': ['MSE'], 'inference_params': {'datetime_start': '2020-04-21', 'hours_to_forecast': 10, 'test_csv_path': 'antwerp.csv', 'decoder_params': {'decoder_function': 'simple_decode', 'unsqueeze_dim': 1}, 'dataset_params': {'file_path': 'antwerp.csv', 'forecast_history': 3, 'forecast_length': 3, 'relevant_cols': ['new_cases', 'month', 'weekday'], 'target_col': ['new_cases'], 'scaling': 'StandardScaler', 'interpolate_param': False}}}\n",
            "interpolate should be below\n",
            "Now loading and scaling antwerp.csv\n",
            "interpolate should be below\n",
            "Now loading and scaling antwerp.csv\n",
            "interpolate should be below\n",
            "Now loading and scaling antwerp.csv\n"
          ],
          "name": "stdout"
        },
        {
          "output_type": "display_data",
          "data": {
            "text/html": [
              "\n",
              "                Logging results to <a href=\"https://wandb.com\" target=\"_blank\">Weights & Biases</a> <a href=\"https://docs.wandb.com/integrations/jupyter.html\" target=\"_blank\">(Documentation)</a>.<br/>\n",
              "                Project page: <a href=\"https://app.wandb.ai/igodfried/covid-forecast\" target=\"_blank\">https://app.wandb.ai/igodfried/covid-forecast</a><br/>\n",
              "                Run page: <a href=\"https://app.wandb.ai/igodfried/covid-forecast/runs/hvy5224i\" target=\"_blank\">https://app.wandb.ai/igodfried/covid-forecast/runs/hvy5224i</a><br/>\n",
              "            "
            ],
            "text/plain": [
              "<IPython.core.display.HTML object>"
            ]
          },
          "metadata": {
            "tags": []
          }
        },
        {
          "output_type": "stream",
          "text": [
            "Torch is using cpu\n",
            "The running loss is:\n",
            "17.937730296049267\n",
            "The number of items in train is: \n",
            "32\n",
            "The loss for epoch 0\n",
            "0.5605540717515396\n",
            "The running loss is:\n",
            "35.50285805051681\n",
            "The number of items in train is: \n",
            "32\n",
            "The loss for epoch 1\n",
            "1.1094643140786502\n",
            "The running loss is:\n",
            "17.564409082289785\n",
            "The number of items in train is: \n",
            "32\n",
            "The loss for epoch 2\n",
            "0.5488877838215558\n",
            "The running loss is:\n",
            "23.59525622660294\n",
            "The number of items in train is: \n",
            "32\n",
            "The loss for epoch 3\n",
            "0.7373517570813419\n",
            "The running loss is:\n",
            "15.578202691394836\n",
            "The number of items in train is: \n",
            "32\n",
            "The loss for epoch 4\n",
            "0.4868188341060886\n",
            "The running loss is:\n",
            "24.60211830935441\n",
            "The number of items in train is: \n",
            "32\n",
            "The loss for epoch 5\n",
            "0.7688161971673253\n",
            "The running loss is:\n",
            "14.085245068301447\n",
            "The number of items in train is: \n",
            "32\n",
            "The loss for epoch 6\n",
            "0.4401639083844202\n",
            "The running loss is:\n",
            "12.162914328742772\n",
            "The number of items in train is: \n",
            "32\n",
            "The loss for epoch 7\n",
            "0.38009107277321164\n",
            "The running loss is:\n",
            "12.102874213131145\n",
            "The number of items in train is: \n",
            "32\n",
            "The loss for epoch 8\n",
            "0.37821481916034827\n",
            "The running loss is:\n",
            "11.44598395540379\n",
            "The number of items in train is: \n",
            "32\n",
            "The loss for epoch 9\n",
            "0.35768699860636843\n",
            "interpolate should be below\n",
            "Now loading and scaling antwerp.csv\n",
            "CSV Path below\n",
            "antwerp.csv\n",
            "torch.Size([1, 3, 3])\n",
            "Add debugging crap below\n"
          ],
          "name": "stdout"
        },
        {
          "output_type": "stream",
          "text": [
            "/content/github_aistream-peelout_flow-forecast/flood_forecast/evaluator.py:136: SettingWithCopyWarning: \n",
            "A value is trying to be set on a copy of a slice from a DataFrame.\n",
            "Try using .loc[row_indexer,col_indexer] = value instead\n",
            "\n",
            "See the caveats in the documentation: https://pandas.pydata.org/pandas-docs/stable/user_guide/indexing.html#returning-a-view-versus-a-copy\n",
            "  df['preds'] = 0\n",
            "/content/github_aistream-peelout_flow-forecast/flood_forecast/evaluator.py:137: SettingWithCopyWarning: \n",
            "A value is trying to be set on a copy of a slice from a DataFrame\n",
            "\n",
            "See the caveats in the documentation: https://pandas.pydata.org/pandas-docs/stable/user_guide/indexing.html#returning-a-view-versus-a-copy\n",
            "  df['preds'][history_length:] = end_tensor.numpy().tolist()\n",
            "/usr/local/lib/python3.6/dist-packages/pandas/core/series.py:1042: SettingWithCopyWarning: \n",
            "A value is trying to be set on a copy of a slice from a DataFrame\n",
            "\n",
            "See the caveats in the documentation: https://pandas.pydata.org/pandas-docs/stable/user_guide/indexing.html#returning-a-view-versus-a-copy\n",
            "  self._set_with(key, value)\n",
            "/content/github_aistream-peelout_flow-forecast/flood_forecast/evaluator.py:59: SettingWithCopyWarning: \n",
            "A value is trying to be set on a copy of a slice from a DataFrame\n",
            "\n",
            "See the caveats in the documentation: https://pandas.pydata.org/pandas-docs/stable/user_guide/indexing.html#returning-a-view-versus-a-copy\n",
            "  df, end_tensor, forecast_history, junk, test_data = infer_on_torch_model(model, **inference_params)\n"
          ],
          "name": "stderr"
        },
        {
          "output_type": "stream",
          "text": [
            "torch.Size([10])\n",
            "test_data scale\n",
            "Un-transforming data\n"
          ],
          "name": "stdout"
        },
        {
          "output_type": "stream",
          "text": [
            "/content/github_aistream-peelout_flow-forecast/flood_forecast/evaluator.py:67: SettingWithCopyWarning: \n",
            "A value is trying to be set on a copy of a slice from a DataFrame\n",
            "\n",
            "See the caveats in the documentation: https://pandas.pydata.org/pandas-docs/stable/user_guide/indexing.html#returning-a-view-versus-a-copy\n",
            "  df['preds'][history_length:] = end_tensor_list\n",
            "/content/github_aistream-peelout_flow-forecast/flood_forecast/trainer.py:30: SettingWithCopyWarning: \n",
            "A value is trying to be set on a copy of a slice from a DataFrame\n",
            "\n",
            "See the caveats in the documentation: https://pandas.pydata.org/pandas-docs/stable/user_guide/indexing.html#returning-a-view-versus-a-copy\n",
            "  test_acc = evaluate_model(trained_model, model_type, params[\"dataset_params\"][\"target_col\"], params[\"metrics\"], params[\"inference_params\"], {})\n"
          ],
          "name": "stderr"
        },
        {
          "output_type": "stream",
          "text": [
            "Current historical dataframe\n",
            "    Unnamed: 0                        name  ... original_index       preds\n",
            "87          87  Antwerp, Flanders, Belgium  ...             87    0.000000\n",
            "88          88  Antwerp, Flanders, Belgium  ...             88    0.000000\n",
            "89          89  Antwerp, Flanders, Belgium  ...             89    0.000000\n",
            "90          90  Antwerp, Flanders, Belgium  ...             90  132.449570\n",
            "91          91  Antwerp, Flanders, Belgium  ...             91  163.160934\n",
            "92          92  Antwerp, Flanders, Belgium  ...             92  169.112091\n",
            "93          93  Antwerp, Flanders, Belgium  ...             93  168.411591\n",
            "94          94  Antwerp, Flanders, Belgium  ...             94  187.403351\n",
            "95          95  Antwerp, Flanders, Belgium  ...             95  200.974945\n",
            "96          96  Antwerp, Flanders, Belgium  ...             96  218.312180\n",
            "97          97  Antwerp, Flanders, Belgium  ...             97  233.340790\n",
            "98          98  Antwerp, Flanders, Belgium  ...             98  246.575729\n",
            "99          99  Antwerp, Flanders, Belgium  ...             99  250.199844\n",
            "\n",
            "[13 rows x 32 columns]\n"
          ],
          "name": "stdout"
        },
        {
          "output_type": "stream",
          "text": [
            "/usr/local/lib/python3.6/dist-packages/plotly/matplotlylib/mpltools.py:368: MatplotlibDeprecationWarning:\n",
            "\n",
            "\n",
            "The is_frame_like function was deprecated in Matplotlib 3.1 and will be removed in 3.3.\n",
            "\n",
            "/usr/local/lib/python3.6/dist-packages/plotly/matplotlylib/renderer.py:410: UserWarning:\n",
            "\n",
            "Bummer! Plotly can currently only draw Line2D objects from matplotlib that are in 'data' coordinates!\n",
            "\n",
            "/usr/local/lib/python3.6/dist-packages/plotly/matplotlylib/renderer.py:512: UserWarning:\n",
            "\n",
            "I found a path object that I don't think is part of a bar chart. Ignoring.\n",
            "\n",
            "/usr/local/lib/python3.6/dist-packages/plotly/matplotlylib/mpltools.py:368: MatplotlibDeprecationWarning:\n",
            "\n",
            "\n",
            "The is_frame_like function was deprecated in Matplotlib 3.1 and will be removed in 3.3.\n",
            "\n",
            "/usr/local/lib/python3.6/dist-packages/plotly/matplotlylib/renderer.py:410: UserWarning:\n",
            "\n",
            "Bummer! Plotly can currently only draw Line2D objects from matplotlib that are in 'data' coordinates!\n",
            "\n",
            "/usr/local/lib/python3.6/dist-packages/plotly/matplotlylib/renderer.py:512: UserWarning:\n",
            "\n",
            "I found a path object that I don't think is part of a bar chart. Ignoring.\n",
            "\n"
          ],
          "name": "stderr"
        },
        {
          "output_type": "stream",
          "text": [
            "wandb: Agent Finished Run: nx8bd762 \n",
            "\n",
            "wandb: Agent Starting Run: lsdw0an2 with config:\n",
            "\tbatch_size: 2\n",
            "\tforecast_history: 4\n",
            "\tlr: 0.001\n",
            "\tout_seq_length: 1\n",
            "wandb: Agent Started Run: lsdw0an2\n"
          ],
          "name": "stdout"
        },
        {
          "output_type": "display_data",
          "data": {
            "text/html": [
              "\n",
              "                Logging results to <a href=\"https://wandb.com\" target=\"_blank\">Weights & Biases</a> <a href=\"https://docs.wandb.com/integrations/jupyter.html\" target=\"_blank\">(Documentation)</a>.<br/>\n",
              "                Project page: <a href=\"https://app.wandb.ai/igodfried/covid-forecast\" target=\"_blank\">https://app.wandb.ai/igodfried/covid-forecast</a><br/>\n",
              "                Sweep page: <a href=\"https://app.wandb.ai/igodfried/covid-forecast/sweeps/yw9zbqtn\" target=\"_blank\">https://app.wandb.ai/igodfried/covid-forecast/sweeps/yw9zbqtn</a><br/>\n",
              "Run page: <a href=\"https://app.wandb.ai/igodfried/covid-forecast/runs/lsdw0an2\" target=\"_blank\">https://app.wandb.ai/igodfried/covid-forecast/runs/lsdw0an2</a><br/>\n",
              "            "
            ],
            "text/plain": [
              "<IPython.core.display.HTML object>"
            ]
          },
          "metadata": {
            "tags": []
          }
        },
        {
          "output_type": "stream",
          "text": [
            "{'model_name': 'MultiAttnHeadSimple', 'model_type': 'PyTorch', 'model_params': {'number_time_series': 3, 'seq_len': 4, 'output_seq_len': 1, 'forecast_length': 1}, 'dataset_params': {'class': 'default', 'training_path': 'antwerp.csv', 'validation_path': 'antwerp.csv', 'test_path': 'antwerp.csv', 'batch_size': 2, 'forecast_history': 4, 'forecast_length': 1, 'train_end': 71, 'valid_start': 72, 'valid_end': 91, 'target_col': ['new_cases'], 'relevant_cols': ['new_cases', 'month', 'weekday'], 'scaler': 'StandardScaler', 'interpolate': False}, 'training_params': {'criterion': 'MSE', 'optimizer': 'Adam', 'optim_params': {}, 'lr': 0.001, 'epochs': 10, 'batch_size': 2}, 'GCS': False, 'wandb': {'name': 'multihead_pytorch_antwerp', 'tags': ['covid_run', 'circleci'], 'project': 'covid-forecast'}, 'forward_params': {}, 'metrics': ['MSE'], 'inference_params': {'datetime_start': '2020-04-21', 'hours_to_forecast': 10, 'test_csv_path': 'antwerp.csv', 'decoder_params': {'decoder_function': 'simple_decode', 'unsqueeze_dim': 1}, 'dataset_params': {'file_path': 'antwerp.csv', 'forecast_history': 4, 'forecast_length': 1, 'relevant_cols': ['new_cases', 'month', 'weekday'], 'target_col': ['new_cases'], 'scaling': 'StandardScaler', 'interpolate_param': False}}}\n",
            "interpolate should be below\n",
            "Now loading and scaling antwerp.csv\n",
            "interpolate should be below\n",
            "Now loading and scaling antwerp.csv\n",
            "interpolate should be below\n",
            "Now loading and scaling antwerp.csv\n"
          ],
          "name": "stdout"
        },
        {
          "output_type": "display_data",
          "data": {
            "text/html": [
              "\n",
              "                Logging results to <a href=\"https://wandb.com\" target=\"_blank\">Weights & Biases</a> <a href=\"https://docs.wandb.com/integrations/jupyter.html\" target=\"_blank\">(Documentation)</a>.<br/>\n",
              "                Project page: <a href=\"https://app.wandb.ai/igodfried/covid-forecast\" target=\"_blank\">https://app.wandb.ai/igodfried/covid-forecast</a><br/>\n",
              "                Run page: <a href=\"https://app.wandb.ai/igodfried/covid-forecast/runs/1xvh68mj\" target=\"_blank\">https://app.wandb.ai/igodfried/covid-forecast/runs/1xvh68mj</a><br/>\n",
              "            "
            ],
            "text/plain": [
              "<IPython.core.display.HTML object>"
            ]
          },
          "metadata": {
            "tags": []
          }
        },
        {
          "output_type": "stream",
          "text": [
            "Torch is using cpu\n",
            "The running loss is:\n",
            "13.547936960821971\n",
            "The number of items in train is: \n",
            "33\n",
            "The loss for epoch 0\n",
            "0.41054354426733247\n",
            "The running loss is:\n",
            "26.5433846085798\n",
            "The number of items in train is: \n",
            "33\n",
            "The loss for epoch 1\n",
            "0.8043449881387819\n",
            "The running loss is:\n",
            "14.103622088208795\n",
            "The number of items in train is: \n",
            "33\n",
            "The loss for epoch 2\n",
            "0.4273824875214786\n",
            "The running loss is:\n",
            "9.100044154096395\n",
            "The number of items in train is: \n",
            "33\n",
            "The loss for epoch 3\n",
            "0.2757589137604968\n",
            "The running loss is:\n",
            "14.748382066725753\n",
            "The number of items in train is: \n",
            "33\n",
            "The loss for epoch 4\n",
            "0.4469206686886592\n",
            "The running loss is:\n",
            "11.233333861382562\n",
            "The number of items in train is: \n",
            "33\n",
            "The loss for epoch 5\n",
            "0.3404040564055322\n",
            "The running loss is:\n",
            "21.369321470090654\n",
            "The number of items in train is: \n",
            "33\n",
            "The loss for epoch 6\n",
            "0.6475551960633531\n",
            "The running loss is:\n",
            "7.361885572201572\n",
            "The number of items in train is: \n",
            "33\n",
            "The loss for epoch 7\n",
            "0.22308744158186583\n",
            "The running loss is:\n",
            "8.053950862027705\n",
            "The number of items in train is: \n",
            "33\n",
            "The loss for epoch 8\n",
            "0.24405911703114258\n",
            "The running loss is:\n",
            "11.17254789127037\n",
            "The number of items in train is: \n",
            "33\n",
            "The loss for epoch 9\n",
            "0.3385620573112233\n",
            "interpolate should be below\n",
            "Now loading and scaling antwerp.csv\n",
            "CSV Path below\n",
            "antwerp.csv\n",
            "torch.Size([1, 4, 3])\n",
            "Add debugging crap below\n"
          ],
          "name": "stdout"
        },
        {
          "output_type": "stream",
          "text": [
            "/content/github_aistream-peelout_flow-forecast/flood_forecast/evaluator.py:136: SettingWithCopyWarning: \n",
            "A value is trying to be set on a copy of a slice from a DataFrame.\n",
            "Try using .loc[row_indexer,col_indexer] = value instead\n",
            "\n",
            "See the caveats in the documentation: https://pandas.pydata.org/pandas-docs/stable/user_guide/indexing.html#returning-a-view-versus-a-copy\n",
            "  df['preds'] = 0\n",
            "/content/github_aistream-peelout_flow-forecast/flood_forecast/evaluator.py:137: SettingWithCopyWarning: \n",
            "A value is trying to be set on a copy of a slice from a DataFrame\n",
            "\n",
            "See the caveats in the documentation: https://pandas.pydata.org/pandas-docs/stable/user_guide/indexing.html#returning-a-view-versus-a-copy\n",
            "  df['preds'][history_length:] = end_tensor.numpy().tolist()\n",
            "/usr/local/lib/python3.6/dist-packages/pandas/core/series.py:1042: SettingWithCopyWarning: \n",
            "A value is trying to be set on a copy of a slice from a DataFrame\n",
            "\n",
            "See the caveats in the documentation: https://pandas.pydata.org/pandas-docs/stable/user_guide/indexing.html#returning-a-view-versus-a-copy\n",
            "  self._set_with(key, value)\n",
            "/content/github_aistream-peelout_flow-forecast/flood_forecast/evaluator.py:59: SettingWithCopyWarning: \n",
            "A value is trying to be set on a copy of a slice from a DataFrame\n",
            "\n",
            "See the caveats in the documentation: https://pandas.pydata.org/pandas-docs/stable/user_guide/indexing.html#returning-a-view-versus-a-copy\n",
            "  df, end_tensor, forecast_history, junk, test_data = infer_on_torch_model(model, **inference_params)\n"
          ],
          "name": "stderr"
        },
        {
          "output_type": "stream",
          "text": [
            "torch.Size([10])\n",
            "test_data scale\n",
            "Un-transforming data\n"
          ],
          "name": "stdout"
        },
        {
          "output_type": "stream",
          "text": [
            "/content/github_aistream-peelout_flow-forecast/flood_forecast/evaluator.py:67: SettingWithCopyWarning: \n",
            "A value is trying to be set on a copy of a slice from a DataFrame\n",
            "\n",
            "See the caveats in the documentation: https://pandas.pydata.org/pandas-docs/stable/user_guide/indexing.html#returning-a-view-versus-a-copy\n",
            "  df['preds'][history_length:] = end_tensor_list\n",
            "/content/github_aistream-peelout_flow-forecast/flood_forecast/trainer.py:30: SettingWithCopyWarning: \n",
            "A value is trying to be set on a copy of a slice from a DataFrame\n",
            "\n",
            "See the caveats in the documentation: https://pandas.pydata.org/pandas-docs/stable/user_guide/indexing.html#returning-a-view-versus-a-copy\n",
            "  test_acc = evaluate_model(trained_model, model_type, params[\"dataset_params\"][\"target_col\"], params[\"metrics\"], params[\"inference_params\"], {})\n"
          ],
          "name": "stderr"
        },
        {
          "output_type": "stream",
          "text": [
            "Current historical dataframe\n",
            "    Unnamed: 0                        name  ... original_index       preds\n",
            "86          86  Antwerp, Flanders, Belgium  ...             86    0.000000\n",
            "87          87  Antwerp, Flanders, Belgium  ...             87    0.000000\n",
            "88          88  Antwerp, Flanders, Belgium  ...             88    0.000000\n",
            "89          89  Antwerp, Flanders, Belgium  ...             89    0.000000\n",
            "90          90  Antwerp, Flanders, Belgium  ...             90  125.017883\n",
            "91          91  Antwerp, Flanders, Belgium  ...             91  123.411812\n",
            "92          92  Antwerp, Flanders, Belgium  ...             92  125.127426\n",
            "93          93  Antwerp, Flanders, Belgium  ...             93  125.062477\n",
            "94          94  Antwerp, Flanders, Belgium  ...             94  115.939461\n",
            "95          95  Antwerp, Flanders, Belgium  ...             95  121.196037\n",
            "96          96  Antwerp, Flanders, Belgium  ...             96  127.404915\n",
            "97          97  Antwerp, Flanders, Belgium  ...             97  114.615707\n",
            "98          98  Antwerp, Flanders, Belgium  ...             98  110.940880\n",
            "99          99  Antwerp, Flanders, Belgium  ...             99  107.993706\n",
            "\n",
            "[14 rows x 32 columns]\n"
          ],
          "name": "stdout"
        },
        {
          "output_type": "stream",
          "text": [
            "/usr/local/lib/python3.6/dist-packages/plotly/matplotlylib/mpltools.py:368: MatplotlibDeprecationWarning:\n",
            "\n",
            "\n",
            "The is_frame_like function was deprecated in Matplotlib 3.1 and will be removed in 3.3.\n",
            "\n",
            "/usr/local/lib/python3.6/dist-packages/plotly/matplotlylib/renderer.py:410: UserWarning:\n",
            "\n",
            "Bummer! Plotly can currently only draw Line2D objects from matplotlib that are in 'data' coordinates!\n",
            "\n",
            "/usr/local/lib/python3.6/dist-packages/plotly/matplotlylib/renderer.py:512: UserWarning:\n",
            "\n",
            "I found a path object that I don't think is part of a bar chart. Ignoring.\n",
            "\n",
            "/usr/local/lib/python3.6/dist-packages/plotly/matplotlylib/mpltools.py:368: MatplotlibDeprecationWarning:\n",
            "\n",
            "\n",
            "The is_frame_like function was deprecated in Matplotlib 3.1 and will be removed in 3.3.\n",
            "\n",
            "/usr/local/lib/python3.6/dist-packages/plotly/matplotlylib/renderer.py:410: UserWarning:\n",
            "\n",
            "Bummer! Plotly can currently only draw Line2D objects from matplotlib that are in 'data' coordinates!\n",
            "\n",
            "/usr/local/lib/python3.6/dist-packages/plotly/matplotlylib/renderer.py:512: UserWarning:\n",
            "\n",
            "I found a path object that I don't think is part of a bar chart. Ignoring.\n",
            "\n"
          ],
          "name": "stderr"
        },
        {
          "output_type": "stream",
          "text": [
            "wandb: Agent Finished Run: lsdw0an2 \n",
            "\n",
            "wandb: Agent Starting Run: 4pvrvo3l with config:\n",
            "\tbatch_size: 2\n",
            "\tforecast_history: 4\n",
            "\tlr: 0.001\n",
            "\tout_seq_length: 2\n",
            "wandb: Agent Started Run: 4pvrvo3l\n"
          ],
          "name": "stdout"
        },
        {
          "output_type": "display_data",
          "data": {
            "text/html": [
              "\n",
              "                Logging results to <a href=\"https://wandb.com\" target=\"_blank\">Weights & Biases</a> <a href=\"https://docs.wandb.com/integrations/jupyter.html\" target=\"_blank\">(Documentation)</a>.<br/>\n",
              "                Project page: <a href=\"https://app.wandb.ai/igodfried/covid-forecast\" target=\"_blank\">https://app.wandb.ai/igodfried/covid-forecast</a><br/>\n",
              "                Sweep page: <a href=\"https://app.wandb.ai/igodfried/covid-forecast/sweeps/yw9zbqtn\" target=\"_blank\">https://app.wandb.ai/igodfried/covid-forecast/sweeps/yw9zbqtn</a><br/>\n",
              "Run page: <a href=\"https://app.wandb.ai/igodfried/covid-forecast/runs/4pvrvo3l\" target=\"_blank\">https://app.wandb.ai/igodfried/covid-forecast/runs/4pvrvo3l</a><br/>\n",
              "            "
            ],
            "text/plain": [
              "<IPython.core.display.HTML object>"
            ]
          },
          "metadata": {
            "tags": []
          }
        },
        {
          "output_type": "stream",
          "text": [
            "{'model_name': 'MultiAttnHeadSimple', 'model_type': 'PyTorch', 'model_params': {'number_time_series': 3, 'seq_len': 4, 'output_seq_len': 2, 'forecast_length': 2}, 'dataset_params': {'class': 'default', 'training_path': 'antwerp.csv', 'validation_path': 'antwerp.csv', 'test_path': 'antwerp.csv', 'batch_size': 2, 'forecast_history': 4, 'forecast_length': 2, 'train_end': 71, 'valid_start': 72, 'valid_end': 91, 'target_col': ['new_cases'], 'relevant_cols': ['new_cases', 'month', 'weekday'], 'scaler': 'StandardScaler', 'interpolate': False}, 'training_params': {'criterion': 'MSE', 'optimizer': 'Adam', 'optim_params': {}, 'lr': 0.001, 'epochs': 10, 'batch_size': 2}, 'GCS': False, 'wandb': {'name': 'multihead_pytorch_antwerp', 'tags': ['covid_run', 'circleci'], 'project': 'covid-forecast'}, 'forward_params': {}, 'metrics': ['MSE'], 'inference_params': {'datetime_start': '2020-04-21', 'hours_to_forecast': 10, 'test_csv_path': 'antwerp.csv', 'decoder_params': {'decoder_function': 'simple_decode', 'unsqueeze_dim': 1}, 'dataset_params': {'file_path': 'antwerp.csv', 'forecast_history': 4, 'forecast_length': 2, 'relevant_cols': ['new_cases', 'month', 'weekday'], 'target_col': ['new_cases'], 'scaling': 'StandardScaler', 'interpolate_param': False}}}\n",
            "interpolate should be below\n",
            "Now loading and scaling antwerp.csv\n",
            "interpolate should be below\n",
            "Now loading and scaling antwerp.csv\n",
            "interpolate should be below\n",
            "Now loading and scaling antwerp.csv\n"
          ],
          "name": "stdout"
        },
        {
          "output_type": "display_data",
          "data": {
            "text/html": [
              "\n",
              "                Logging results to <a href=\"https://wandb.com\" target=\"_blank\">Weights & Biases</a> <a href=\"https://docs.wandb.com/integrations/jupyter.html\" target=\"_blank\">(Documentation)</a>.<br/>\n",
              "                Project page: <a href=\"https://app.wandb.ai/igodfried/covid-forecast\" target=\"_blank\">https://app.wandb.ai/igodfried/covid-forecast</a><br/>\n",
              "                Run page: <a href=\"https://app.wandb.ai/igodfried/covid-forecast/runs/1piocvrp\" target=\"_blank\">https://app.wandb.ai/igodfried/covid-forecast/runs/1piocvrp</a><br/>\n",
              "            "
            ],
            "text/plain": [
              "<IPython.core.display.HTML object>"
            ]
          },
          "metadata": {
            "tags": []
          }
        },
        {
          "output_type": "stream",
          "text": [
            "Torch is using cpu\n",
            "The running loss is:\n",
            "9.96654413593933\n",
            "The number of items in train is: \n",
            "32\n",
            "The loss for epoch 0\n",
            "0.31145450424810406\n",
            "The running loss is:\n",
            "28.999742947518826\n",
            "The number of items in train is: \n",
            "32\n",
            "The loss for epoch 1\n",
            "0.9062419671099633\n",
            "The running loss is:\n",
            "7.978736505378038\n",
            "The number of items in train is: \n",
            "32\n",
            "The loss for epoch 2\n",
            "0.24933551579306368\n",
            "The running loss is:\n",
            "16.54671422811225\n",
            "The number of items in train is: \n",
            "32\n",
            "The loss for epoch 3\n",
            "0.5170848196285078\n",
            "The running loss is:\n",
            "9.03373872069642\n",
            "The number of items in train is: \n",
            "32\n",
            "The loss for epoch 4\n",
            "0.2823043350217631\n",
            "The running loss is:\n",
            "23.664487095782533\n",
            "The number of items in train is: \n",
            "32\n",
            "The loss for epoch 5\n",
            "0.7395152217432042\n",
            "The running loss is:\n",
            "9.5151820583269\n",
            "The number of items in train is: \n",
            "32\n",
            "The loss for epoch 6\n",
            "0.2973494393227156\n",
            "The running loss is:\n",
            "7.392919855192304\n",
            "The number of items in train is: \n",
            "32\n",
            "The loss for epoch 7\n",
            "0.2310287454747595\n",
            "The running loss is:\n",
            "13.802258587442338\n",
            "The number of items in train is: \n",
            "32\n",
            "The loss for epoch 8\n",
            "0.4313205808575731\n",
            "The running loss is:\n",
            "6.292614362668246\n",
            "The number of items in train is: \n",
            "32\n",
            "The loss for epoch 9\n",
            "0.1966441988333827\n",
            "interpolate should be below\n",
            "Now loading and scaling antwerp.csv\n",
            "CSV Path below\n",
            "antwerp.csv\n",
            "torch.Size([1, 4, 3])\n",
            "Add debugging crap below\n"
          ],
          "name": "stdout"
        },
        {
          "output_type": "stream",
          "text": [
            "/content/github_aistream-peelout_flow-forecast/flood_forecast/evaluator.py:136: SettingWithCopyWarning: \n",
            "A value is trying to be set on a copy of a slice from a DataFrame.\n",
            "Try using .loc[row_indexer,col_indexer] = value instead\n",
            "\n",
            "See the caveats in the documentation: https://pandas.pydata.org/pandas-docs/stable/user_guide/indexing.html#returning-a-view-versus-a-copy\n",
            "  df['preds'] = 0\n",
            "/content/github_aistream-peelout_flow-forecast/flood_forecast/evaluator.py:137: SettingWithCopyWarning: \n",
            "A value is trying to be set on a copy of a slice from a DataFrame\n",
            "\n",
            "See the caveats in the documentation: https://pandas.pydata.org/pandas-docs/stable/user_guide/indexing.html#returning-a-view-versus-a-copy\n",
            "  df['preds'][history_length:] = end_tensor.numpy().tolist()\n",
            "/usr/local/lib/python3.6/dist-packages/pandas/core/series.py:1042: SettingWithCopyWarning: \n",
            "A value is trying to be set on a copy of a slice from a DataFrame\n",
            "\n",
            "See the caveats in the documentation: https://pandas.pydata.org/pandas-docs/stable/user_guide/indexing.html#returning-a-view-versus-a-copy\n",
            "  self._set_with(key, value)\n",
            "/content/github_aistream-peelout_flow-forecast/flood_forecast/evaluator.py:59: SettingWithCopyWarning: \n",
            "A value is trying to be set on a copy of a slice from a DataFrame\n",
            "\n",
            "See the caveats in the documentation: https://pandas.pydata.org/pandas-docs/stable/user_guide/indexing.html#returning-a-view-versus-a-copy\n",
            "  df, end_tensor, forecast_history, junk, test_data = infer_on_torch_model(model, **inference_params)\n"
          ],
          "name": "stderr"
        },
        {
          "output_type": "stream",
          "text": [
            "torch.Size([10])\n",
            "test_data scale\n",
            "Un-transforming data\n"
          ],
          "name": "stdout"
        },
        {
          "output_type": "stream",
          "text": [
            "/content/github_aistream-peelout_flow-forecast/flood_forecast/evaluator.py:67: SettingWithCopyWarning: \n",
            "A value is trying to be set on a copy of a slice from a DataFrame\n",
            "\n",
            "See the caveats in the documentation: https://pandas.pydata.org/pandas-docs/stable/user_guide/indexing.html#returning-a-view-versus-a-copy\n",
            "  df['preds'][history_length:] = end_tensor_list\n",
            "/content/github_aistream-peelout_flow-forecast/flood_forecast/trainer.py:30: SettingWithCopyWarning: \n",
            "A value is trying to be set on a copy of a slice from a DataFrame\n",
            "\n",
            "See the caveats in the documentation: https://pandas.pydata.org/pandas-docs/stable/user_guide/indexing.html#returning-a-view-versus-a-copy\n",
            "  test_acc = evaluate_model(trained_model, model_type, params[\"dataset_params\"][\"target_col\"], params[\"metrics\"], params[\"inference_params\"], {})\n"
          ],
          "name": "stderr"
        },
        {
          "output_type": "stream",
          "text": [
            "Current historical dataframe\n",
            "    Unnamed: 0                        name  ... original_index       preds\n",
            "86          86  Antwerp, Flanders, Belgium  ...             86    0.000000\n",
            "87          87  Antwerp, Flanders, Belgium  ...             87    0.000000\n",
            "88          88  Antwerp, Flanders, Belgium  ...             88    0.000000\n",
            "89          89  Antwerp, Flanders, Belgium  ...             89    0.000000\n",
            "90          90  Antwerp, Flanders, Belgium  ...             90  164.089966\n",
            "91          91  Antwerp, Flanders, Belgium  ...             91  161.481049\n",
            "92          92  Antwerp, Flanders, Belgium  ...             92  161.767853\n",
            "93          93  Antwerp, Flanders, Belgium  ...             93  162.047974\n",
            "94          94  Antwerp, Flanders, Belgium  ...             94  165.752609\n",
            "95          95  Antwerp, Flanders, Belgium  ...             95  170.131912\n",
            "96          96  Antwerp, Flanders, Belgium  ...             96  176.269791\n",
            "97          97  Antwerp, Flanders, Belgium  ...             97  175.326233\n",
            "98          98  Antwerp, Flanders, Belgium  ...             98  177.572510\n",
            "99          99  Antwerp, Flanders, Belgium  ...             99  179.625351\n",
            "\n",
            "[14 rows x 32 columns]\n"
          ],
          "name": "stdout"
        },
        {
          "output_type": "stream",
          "text": [
            "/usr/local/lib/python3.6/dist-packages/plotly/matplotlylib/mpltools.py:368: MatplotlibDeprecationWarning:\n",
            "\n",
            "\n",
            "The is_frame_like function was deprecated in Matplotlib 3.1 and will be removed in 3.3.\n",
            "\n",
            "/usr/local/lib/python3.6/dist-packages/plotly/matplotlylib/renderer.py:410: UserWarning:\n",
            "\n",
            "Bummer! Plotly can currently only draw Line2D objects from matplotlib that are in 'data' coordinates!\n",
            "\n",
            "/usr/local/lib/python3.6/dist-packages/plotly/matplotlylib/renderer.py:512: UserWarning:\n",
            "\n",
            "I found a path object that I don't think is part of a bar chart. Ignoring.\n",
            "\n",
            "/usr/local/lib/python3.6/dist-packages/plotly/matplotlylib/mpltools.py:368: MatplotlibDeprecationWarning:\n",
            "\n",
            "\n",
            "The is_frame_like function was deprecated in Matplotlib 3.1 and will be removed in 3.3.\n",
            "\n",
            "/usr/local/lib/python3.6/dist-packages/plotly/matplotlylib/renderer.py:410: UserWarning:\n",
            "\n",
            "Bummer! Plotly can currently only draw Line2D objects from matplotlib that are in 'data' coordinates!\n",
            "\n",
            "/usr/local/lib/python3.6/dist-packages/plotly/matplotlylib/renderer.py:512: UserWarning:\n",
            "\n",
            "I found a path object that I don't think is part of a bar chart. Ignoring.\n",
            "\n"
          ],
          "name": "stderr"
        },
        {
          "output_type": "stream",
          "text": [
            "wandb: Agent Finished Run: 4pvrvo3l \n",
            "\n",
            "wandb: Agent Starting Run: vhal3k4y with config:\n",
            "\tbatch_size: 2\n",
            "\tforecast_history: 4\n",
            "\tlr: 0.001\n",
            "\tout_seq_length: 3\n",
            "wandb: Agent Started Run: vhal3k4y\n"
          ],
          "name": "stdout"
        },
        {
          "output_type": "display_data",
          "data": {
            "text/html": [
              "\n",
              "                Logging results to <a href=\"https://wandb.com\" target=\"_blank\">Weights & Biases</a> <a href=\"https://docs.wandb.com/integrations/jupyter.html\" target=\"_blank\">(Documentation)</a>.<br/>\n",
              "                Project page: <a href=\"https://app.wandb.ai/igodfried/covid-forecast\" target=\"_blank\">https://app.wandb.ai/igodfried/covid-forecast</a><br/>\n",
              "                Sweep page: <a href=\"https://app.wandb.ai/igodfried/covid-forecast/sweeps/yw9zbqtn\" target=\"_blank\">https://app.wandb.ai/igodfried/covid-forecast/sweeps/yw9zbqtn</a><br/>\n",
              "Run page: <a href=\"https://app.wandb.ai/igodfried/covid-forecast/runs/vhal3k4y\" target=\"_blank\">https://app.wandb.ai/igodfried/covid-forecast/runs/vhal3k4y</a><br/>\n",
              "            "
            ],
            "text/plain": [
              "<IPython.core.display.HTML object>"
            ]
          },
          "metadata": {
            "tags": []
          }
        },
        {
          "output_type": "stream",
          "text": [
            "{'model_name': 'MultiAttnHeadSimple', 'model_type': 'PyTorch', 'model_params': {'number_time_series': 3, 'seq_len': 4, 'output_seq_len': 3, 'forecast_length': 3}, 'dataset_params': {'class': 'default', 'training_path': 'antwerp.csv', 'validation_path': 'antwerp.csv', 'test_path': 'antwerp.csv', 'batch_size': 2, 'forecast_history': 4, 'forecast_length': 3, 'train_end': 71, 'valid_start': 72, 'valid_end': 91, 'target_col': ['new_cases'], 'relevant_cols': ['new_cases', 'month', 'weekday'], 'scaler': 'StandardScaler', 'interpolate': False}, 'training_params': {'criterion': 'MSE', 'optimizer': 'Adam', 'optim_params': {}, 'lr': 0.001, 'epochs': 10, 'batch_size': 2}, 'GCS': False, 'wandb': {'name': 'multihead_pytorch_antwerp', 'tags': ['covid_run', 'circleci'], 'project': 'covid-forecast'}, 'forward_params': {}, 'metrics': ['MSE'], 'inference_params': {'datetime_start': '2020-04-21', 'hours_to_forecast': 10, 'test_csv_path': 'antwerp.csv', 'decoder_params': {'decoder_function': 'simple_decode', 'unsqueeze_dim': 1}, 'dataset_params': {'file_path': 'antwerp.csv', 'forecast_history': 4, 'forecast_length': 3, 'relevant_cols': ['new_cases', 'month', 'weekday'], 'target_col': ['new_cases'], 'scaling': 'StandardScaler', 'interpolate_param': False}}}\n",
            "interpolate should be below\n",
            "Now loading and scaling antwerp.csv\n",
            "interpolate should be below\n",
            "Now loading and scaling antwerp.csv\n",
            "interpolate should be below\n",
            "Now loading and scaling antwerp.csv\n"
          ],
          "name": "stdout"
        },
        {
          "output_type": "display_data",
          "data": {
            "text/html": [
              "\n",
              "                Logging results to <a href=\"https://wandb.com\" target=\"_blank\">Weights & Biases</a> <a href=\"https://docs.wandb.com/integrations/jupyter.html\" target=\"_blank\">(Documentation)</a>.<br/>\n",
              "                Project page: <a href=\"https://app.wandb.ai/igodfried/covid-forecast\" target=\"_blank\">https://app.wandb.ai/igodfried/covid-forecast</a><br/>\n",
              "                Run page: <a href=\"https://app.wandb.ai/igodfried/covid-forecast/runs/2wf8hukj\" target=\"_blank\">https://app.wandb.ai/igodfried/covid-forecast/runs/2wf8hukj</a><br/>\n",
              "            "
            ],
            "text/plain": [
              "<IPython.core.display.HTML object>"
            ]
          },
          "metadata": {
            "tags": []
          }
        },
        {
          "output_type": "stream",
          "text": [
            "Torch is using cpu\n",
            "The running loss is:\n",
            "7.6697259191423655\n",
            "The number of items in train is: \n",
            "32\n",
            "The loss for epoch 0\n",
            "0.23967893497319892\n",
            "The running loss is:\n",
            "37.96821307018399\n",
            "The number of items in train is: \n",
            "32\n",
            "The loss for epoch 1\n",
            "1.1865066584432498\n",
            "The running loss is:\n",
            "12.867059556767344\n",
            "The number of items in train is: \n",
            "32\n",
            "The loss for epoch 2\n",
            "0.4020956111489795\n",
            "The running loss is:\n",
            "25.48514431528747\n",
            "The number of items in train is: \n",
            "32\n",
            "The loss for epoch 3\n",
            "0.7964107598527335\n",
            "The running loss is:\n",
            "11.341065876185894\n",
            "The number of items in train is: \n",
            "32\n",
            "The loss for epoch 4\n",
            "0.3544083086308092\n",
            "The running loss is:\n",
            "24.40359308384359\n",
            "The number of items in train is: \n",
            "32\n",
            "The loss for epoch 5\n",
            "0.7626122838701122\n",
            "The running loss is:\n",
            "10.748747183941305\n",
            "The number of items in train is: \n",
            "32\n",
            "The loss for epoch 6\n",
            "0.33589834949816577\n",
            "The running loss is:\n",
            "15.834405758418143\n",
            "The number of items in train is: \n",
            "32\n",
            "The loss for epoch 7\n",
            "0.49482517995056696\n",
            "The running loss is:\n",
            "8.714372392743826\n",
            "The number of items in train is: \n",
            "32\n",
            "The loss for epoch 8\n",
            "0.27232413727324456\n",
            "The running loss is:\n",
            "13.327436484396458\n",
            "The number of items in train is: \n",
            "32\n",
            "The loss for epoch 9\n",
            "0.4164823901373893\n",
            "interpolate should be below\n",
            "Now loading and scaling antwerp.csv\n",
            "CSV Path below\n",
            "antwerp.csv\n",
            "torch.Size([1, 4, 3])\n",
            "Add debugging crap below\n"
          ],
          "name": "stdout"
        },
        {
          "output_type": "stream",
          "text": [
            "/content/github_aistream-peelout_flow-forecast/flood_forecast/evaluator.py:136: SettingWithCopyWarning: \n",
            "A value is trying to be set on a copy of a slice from a DataFrame.\n",
            "Try using .loc[row_indexer,col_indexer] = value instead\n",
            "\n",
            "See the caveats in the documentation: https://pandas.pydata.org/pandas-docs/stable/user_guide/indexing.html#returning-a-view-versus-a-copy\n",
            "  df['preds'] = 0\n",
            "/content/github_aistream-peelout_flow-forecast/flood_forecast/evaluator.py:137: SettingWithCopyWarning: \n",
            "A value is trying to be set on a copy of a slice from a DataFrame\n",
            "\n",
            "See the caveats in the documentation: https://pandas.pydata.org/pandas-docs/stable/user_guide/indexing.html#returning-a-view-versus-a-copy\n",
            "  df['preds'][history_length:] = end_tensor.numpy().tolist()\n",
            "/usr/local/lib/python3.6/dist-packages/pandas/core/series.py:1042: SettingWithCopyWarning: \n",
            "A value is trying to be set on a copy of a slice from a DataFrame\n",
            "\n",
            "See the caveats in the documentation: https://pandas.pydata.org/pandas-docs/stable/user_guide/indexing.html#returning-a-view-versus-a-copy\n",
            "  self._set_with(key, value)\n",
            "/content/github_aistream-peelout_flow-forecast/flood_forecast/evaluator.py:59: SettingWithCopyWarning: \n",
            "A value is trying to be set on a copy of a slice from a DataFrame\n",
            "\n",
            "See the caveats in the documentation: https://pandas.pydata.org/pandas-docs/stable/user_guide/indexing.html#returning-a-view-versus-a-copy\n",
            "  df, end_tensor, forecast_history, junk, test_data = infer_on_torch_model(model, **inference_params)\n"
          ],
          "name": "stderr"
        },
        {
          "output_type": "stream",
          "text": [
            "torch.Size([10])\n",
            "test_data scale\n",
            "Un-transforming data\n"
          ],
          "name": "stdout"
        },
        {
          "output_type": "stream",
          "text": [
            "/content/github_aistream-peelout_flow-forecast/flood_forecast/evaluator.py:67: SettingWithCopyWarning: \n",
            "A value is trying to be set on a copy of a slice from a DataFrame\n",
            "\n",
            "See the caveats in the documentation: https://pandas.pydata.org/pandas-docs/stable/user_guide/indexing.html#returning-a-view-versus-a-copy\n",
            "  df['preds'][history_length:] = end_tensor_list\n",
            "/content/github_aistream-peelout_flow-forecast/flood_forecast/trainer.py:30: SettingWithCopyWarning: \n",
            "A value is trying to be set on a copy of a slice from a DataFrame\n",
            "\n",
            "See the caveats in the documentation: https://pandas.pydata.org/pandas-docs/stable/user_guide/indexing.html#returning-a-view-versus-a-copy\n",
            "  test_acc = evaluate_model(trained_model, model_type, params[\"dataset_params\"][\"target_col\"], params[\"metrics\"], params[\"inference_params\"], {})\n"
          ],
          "name": "stderr"
        },
        {
          "output_type": "stream",
          "text": [
            "Current historical dataframe\n",
            "    Unnamed: 0                        name  ... original_index       preds\n",
            "86          86  Antwerp, Flanders, Belgium  ...             86    0.000000\n",
            "87          87  Antwerp, Flanders, Belgium  ...             87    0.000000\n",
            "88          88  Antwerp, Flanders, Belgium  ...             88    0.000000\n",
            "89          89  Antwerp, Flanders, Belgium  ...             89    0.000000\n",
            "90          90  Antwerp, Flanders, Belgium  ...             90  112.782478\n",
            "91          91  Antwerp, Flanders, Belgium  ...             91  106.982094\n",
            "92          92  Antwerp, Flanders, Belgium  ...             92  104.220634\n",
            "93          93  Antwerp, Flanders, Belgium  ...             93  103.812248\n",
            "94          94  Antwerp, Flanders, Belgium  ...             94   96.546860\n",
            "95          95  Antwerp, Flanders, Belgium  ...             95   98.490540\n",
            "96          96  Antwerp, Flanders, Belgium  ...             96  101.250137\n",
            "97          97  Antwerp, Flanders, Belgium  ...             97   93.525597\n",
            "98          98  Antwerp, Flanders, Belgium  ...             98   91.633041\n",
            "99          99  Antwerp, Flanders, Belgium  ...             99   92.601295\n",
            "\n",
            "[14 rows x 32 columns]\n"
          ],
          "name": "stdout"
        },
        {
          "output_type": "stream",
          "text": [
            "/usr/local/lib/python3.6/dist-packages/plotly/matplotlylib/mpltools.py:368: MatplotlibDeprecationWarning:\n",
            "\n",
            "\n",
            "The is_frame_like function was deprecated in Matplotlib 3.1 and will be removed in 3.3.\n",
            "\n",
            "/usr/local/lib/python3.6/dist-packages/plotly/matplotlylib/renderer.py:410: UserWarning:\n",
            "\n",
            "Bummer! Plotly can currently only draw Line2D objects from matplotlib that are in 'data' coordinates!\n",
            "\n",
            "/usr/local/lib/python3.6/dist-packages/plotly/matplotlylib/renderer.py:512: UserWarning:\n",
            "\n",
            "I found a path object that I don't think is part of a bar chart. Ignoring.\n",
            "\n",
            "/usr/local/lib/python3.6/dist-packages/plotly/matplotlylib/mpltools.py:368: MatplotlibDeprecationWarning:\n",
            "\n",
            "\n",
            "The is_frame_like function was deprecated in Matplotlib 3.1 and will be removed in 3.3.\n",
            "\n",
            "/usr/local/lib/python3.6/dist-packages/plotly/matplotlylib/renderer.py:410: UserWarning:\n",
            "\n",
            "Bummer! Plotly can currently only draw Line2D objects from matplotlib that are in 'data' coordinates!\n",
            "\n",
            "/usr/local/lib/python3.6/dist-packages/plotly/matplotlylib/renderer.py:512: UserWarning:\n",
            "\n",
            "I found a path object that I don't think is part of a bar chart. Ignoring.\n",
            "\n"
          ],
          "name": "stderr"
        },
        {
          "output_type": "stream",
          "text": [
            "wandb: Agent Finished Run: vhal3k4y \n",
            "\n",
            "wandb: Agent Starting Run: k3ia09x1 with config:\n",
            "\tbatch_size: 2\n",
            "\tforecast_history: 4\n",
            "\tlr: 0.002\n",
            "\tout_seq_length: 1\n",
            "wandb: Agent Started Run: k3ia09x1\n"
          ],
          "name": "stdout"
        },
        {
          "output_type": "display_data",
          "data": {
            "text/html": [
              "\n",
              "                Logging results to <a href=\"https://wandb.com\" target=\"_blank\">Weights & Biases</a> <a href=\"https://docs.wandb.com/integrations/jupyter.html\" target=\"_blank\">(Documentation)</a>.<br/>\n",
              "                Project page: <a href=\"https://app.wandb.ai/igodfried/covid-forecast\" target=\"_blank\">https://app.wandb.ai/igodfried/covid-forecast</a><br/>\n",
              "                Sweep page: <a href=\"https://app.wandb.ai/igodfried/covid-forecast/sweeps/yw9zbqtn\" target=\"_blank\">https://app.wandb.ai/igodfried/covid-forecast/sweeps/yw9zbqtn</a><br/>\n",
              "Run page: <a href=\"https://app.wandb.ai/igodfried/covid-forecast/runs/k3ia09x1\" target=\"_blank\">https://app.wandb.ai/igodfried/covid-forecast/runs/k3ia09x1</a><br/>\n",
              "            "
            ],
            "text/plain": [
              "<IPython.core.display.HTML object>"
            ]
          },
          "metadata": {
            "tags": []
          }
        },
        {
          "output_type": "stream",
          "text": [
            "{'model_name': 'MultiAttnHeadSimple', 'model_type': 'PyTorch', 'model_params': {'number_time_series': 3, 'seq_len': 4, 'output_seq_len': 1, 'forecast_length': 1}, 'dataset_params': {'class': 'default', 'training_path': 'antwerp.csv', 'validation_path': 'antwerp.csv', 'test_path': 'antwerp.csv', 'batch_size': 2, 'forecast_history': 4, 'forecast_length': 1, 'train_end': 71, 'valid_start': 72, 'valid_end': 91, 'target_col': ['new_cases'], 'relevant_cols': ['new_cases', 'month', 'weekday'], 'scaler': 'StandardScaler', 'interpolate': False}, 'training_params': {'criterion': 'MSE', 'optimizer': 'Adam', 'optim_params': {}, 'lr': 0.002, 'epochs': 10, 'batch_size': 2}, 'GCS': False, 'wandb': {'name': 'multihead_pytorch_antwerp', 'tags': ['covid_run', 'circleci'], 'project': 'covid-forecast'}, 'forward_params': {}, 'metrics': ['MSE'], 'inference_params': {'datetime_start': '2020-04-21', 'hours_to_forecast': 10, 'test_csv_path': 'antwerp.csv', 'decoder_params': {'decoder_function': 'simple_decode', 'unsqueeze_dim': 1}, 'dataset_params': {'file_path': 'antwerp.csv', 'forecast_history': 4, 'forecast_length': 1, 'relevant_cols': ['new_cases', 'month', 'weekday'], 'target_col': ['new_cases'], 'scaling': 'StandardScaler', 'interpolate_param': False}}}\n",
            "interpolate should be below\n",
            "Now loading and scaling antwerp.csv\n",
            "interpolate should be below\n",
            "Now loading and scaling antwerp.csv\n",
            "interpolate should be below\n",
            "Now loading and scaling antwerp.csv\n"
          ],
          "name": "stdout"
        },
        {
          "output_type": "display_data",
          "data": {
            "text/html": [
              "\n",
              "                Logging results to <a href=\"https://wandb.com\" target=\"_blank\">Weights & Biases</a> <a href=\"https://docs.wandb.com/integrations/jupyter.html\" target=\"_blank\">(Documentation)</a>.<br/>\n",
              "                Project page: <a href=\"https://app.wandb.ai/igodfried/covid-forecast\" target=\"_blank\">https://app.wandb.ai/igodfried/covid-forecast</a><br/>\n",
              "                Run page: <a href=\"https://app.wandb.ai/igodfried/covid-forecast/runs/349nrh3u\" target=\"_blank\">https://app.wandb.ai/igodfried/covid-forecast/runs/349nrh3u</a><br/>\n",
              "            "
            ],
            "text/plain": [
              "<IPython.core.display.HTML object>"
            ]
          },
          "metadata": {
            "tags": []
          }
        },
        {
          "output_type": "stream",
          "text": [
            "Torch is using cpu\n",
            "The running loss is:\n",
            "13.547936960821971\n",
            "The number of items in train is: \n",
            "33\n",
            "The loss for epoch 0\n",
            "0.41054354426733247\n",
            "The running loss is:\n",
            "26.5433846085798\n",
            "The number of items in train is: \n",
            "33\n",
            "The loss for epoch 1\n",
            "0.8043449881387819\n",
            "The running loss is:\n",
            "14.103622088208795\n",
            "The number of items in train is: \n",
            "33\n",
            "The loss for epoch 2\n",
            "0.4273824875214786\n",
            "The running loss is:\n",
            "9.100044154096395\n",
            "The number of items in train is: \n",
            "33\n",
            "The loss for epoch 3\n",
            "0.2757589137604968\n",
            "The running loss is:\n",
            "14.748382066725753\n",
            "The number of items in train is: \n",
            "33\n",
            "The loss for epoch 4\n",
            "0.4469206686886592\n",
            "The running loss is:\n",
            "11.233333861382562\n",
            "The number of items in train is: \n",
            "33\n",
            "The loss for epoch 5\n",
            "0.3404040564055322\n",
            "The running loss is:\n",
            "21.369321470090654\n",
            "The number of items in train is: \n",
            "33\n",
            "The loss for epoch 6\n",
            "0.6475551960633531\n",
            "The running loss is:\n",
            "7.361885572201572\n",
            "The number of items in train is: \n",
            "33\n",
            "The loss for epoch 7\n",
            "0.22308744158186583\n",
            "The running loss is:\n",
            "8.053950862027705\n",
            "The number of items in train is: \n",
            "33\n",
            "The loss for epoch 8\n",
            "0.24405911703114258\n",
            "The running loss is:\n",
            "11.17254789127037\n",
            "The number of items in train is: \n",
            "33\n",
            "The loss for epoch 9\n",
            "0.3385620573112233\n",
            "interpolate should be below\n",
            "Now loading and scaling antwerp.csv\n",
            "CSV Path below\n",
            "antwerp.csv\n",
            "torch.Size([1, 4, 3])\n",
            "Add debugging crap below\n"
          ],
          "name": "stdout"
        },
        {
          "output_type": "stream",
          "text": [
            "/content/github_aistream-peelout_flow-forecast/flood_forecast/evaluator.py:136: SettingWithCopyWarning: \n",
            "A value is trying to be set on a copy of a slice from a DataFrame.\n",
            "Try using .loc[row_indexer,col_indexer] = value instead\n",
            "\n",
            "See the caveats in the documentation: https://pandas.pydata.org/pandas-docs/stable/user_guide/indexing.html#returning-a-view-versus-a-copy\n",
            "  df['preds'] = 0\n",
            "/content/github_aistream-peelout_flow-forecast/flood_forecast/evaluator.py:137: SettingWithCopyWarning: \n",
            "A value is trying to be set on a copy of a slice from a DataFrame\n",
            "\n",
            "See the caveats in the documentation: https://pandas.pydata.org/pandas-docs/stable/user_guide/indexing.html#returning-a-view-versus-a-copy\n",
            "  df['preds'][history_length:] = end_tensor.numpy().tolist()\n",
            "/usr/local/lib/python3.6/dist-packages/pandas/core/series.py:1042: SettingWithCopyWarning: \n",
            "A value is trying to be set on a copy of a slice from a DataFrame\n",
            "\n",
            "See the caveats in the documentation: https://pandas.pydata.org/pandas-docs/stable/user_guide/indexing.html#returning-a-view-versus-a-copy\n",
            "  self._set_with(key, value)\n",
            "/content/github_aistream-peelout_flow-forecast/flood_forecast/evaluator.py:59: SettingWithCopyWarning: \n",
            "A value is trying to be set on a copy of a slice from a DataFrame\n",
            "\n",
            "See the caveats in the documentation: https://pandas.pydata.org/pandas-docs/stable/user_guide/indexing.html#returning-a-view-versus-a-copy\n",
            "  df, end_tensor, forecast_history, junk, test_data = infer_on_torch_model(model, **inference_params)\n"
          ],
          "name": "stderr"
        },
        {
          "output_type": "stream",
          "text": [
            "torch.Size([10])\n",
            "test_data scale\n",
            "Un-transforming data\n"
          ],
          "name": "stdout"
        },
        {
          "output_type": "stream",
          "text": [
            "/content/github_aistream-peelout_flow-forecast/flood_forecast/evaluator.py:67: SettingWithCopyWarning: \n",
            "A value is trying to be set on a copy of a slice from a DataFrame\n",
            "\n",
            "See the caveats in the documentation: https://pandas.pydata.org/pandas-docs/stable/user_guide/indexing.html#returning-a-view-versus-a-copy\n",
            "  df['preds'][history_length:] = end_tensor_list\n",
            "/content/github_aistream-peelout_flow-forecast/flood_forecast/trainer.py:30: SettingWithCopyWarning: \n",
            "A value is trying to be set on a copy of a slice from a DataFrame\n",
            "\n",
            "See the caveats in the documentation: https://pandas.pydata.org/pandas-docs/stable/user_guide/indexing.html#returning-a-view-versus-a-copy\n",
            "  test_acc = evaluate_model(trained_model, model_type, params[\"dataset_params\"][\"target_col\"], params[\"metrics\"], params[\"inference_params\"], {})\n"
          ],
          "name": "stderr"
        },
        {
          "output_type": "stream",
          "text": [
            "Current historical dataframe\n",
            "    Unnamed: 0                        name  ... original_index       preds\n",
            "86          86  Antwerp, Flanders, Belgium  ...             86    0.000000\n",
            "87          87  Antwerp, Flanders, Belgium  ...             87    0.000000\n",
            "88          88  Antwerp, Flanders, Belgium  ...             88    0.000000\n",
            "89          89  Antwerp, Flanders, Belgium  ...             89    0.000000\n",
            "90          90  Antwerp, Flanders, Belgium  ...             90  125.017883\n",
            "91          91  Antwerp, Flanders, Belgium  ...             91  123.411812\n",
            "92          92  Antwerp, Flanders, Belgium  ...             92  125.127426\n",
            "93          93  Antwerp, Flanders, Belgium  ...             93  125.062477\n",
            "94          94  Antwerp, Flanders, Belgium  ...             94  115.939461\n",
            "95          95  Antwerp, Flanders, Belgium  ...             95  121.196037\n",
            "96          96  Antwerp, Flanders, Belgium  ...             96  127.404915\n",
            "97          97  Antwerp, Flanders, Belgium  ...             97  114.615707\n",
            "98          98  Antwerp, Flanders, Belgium  ...             98  110.940880\n",
            "99          99  Antwerp, Flanders, Belgium  ...             99  107.993706\n",
            "\n",
            "[14 rows x 32 columns]\n"
          ],
          "name": "stdout"
        },
        {
          "output_type": "stream",
          "text": [
            "/usr/local/lib/python3.6/dist-packages/plotly/matplotlylib/mpltools.py:368: MatplotlibDeprecationWarning:\n",
            "\n",
            "\n",
            "The is_frame_like function was deprecated in Matplotlib 3.1 and will be removed in 3.3.\n",
            "\n",
            "/usr/local/lib/python3.6/dist-packages/plotly/matplotlylib/renderer.py:410: UserWarning:\n",
            "\n",
            "Bummer! Plotly can currently only draw Line2D objects from matplotlib that are in 'data' coordinates!\n",
            "\n",
            "/usr/local/lib/python3.6/dist-packages/plotly/matplotlylib/renderer.py:512: UserWarning:\n",
            "\n",
            "I found a path object that I don't think is part of a bar chart. Ignoring.\n",
            "\n",
            "/usr/local/lib/python3.6/dist-packages/plotly/matplotlylib/mpltools.py:368: MatplotlibDeprecationWarning:\n",
            "\n",
            "\n",
            "The is_frame_like function was deprecated in Matplotlib 3.1 and will be removed in 3.3.\n",
            "\n",
            "/usr/local/lib/python3.6/dist-packages/plotly/matplotlylib/renderer.py:410: UserWarning:\n",
            "\n",
            "Bummer! Plotly can currently only draw Line2D objects from matplotlib that are in 'data' coordinates!\n",
            "\n",
            "/usr/local/lib/python3.6/dist-packages/plotly/matplotlylib/renderer.py:512: UserWarning:\n",
            "\n",
            "I found a path object that I don't think is part of a bar chart. Ignoring.\n",
            "\n"
          ],
          "name": "stderr"
        },
        {
          "output_type": "stream",
          "text": [
            "wandb: Agent Finished Run: k3ia09x1 \n",
            "\n",
            "wandb: Agent Starting Run: x7rh0o15 with config:\n",
            "\tbatch_size: 2\n",
            "\tforecast_history: 4\n",
            "\tlr: 0.002\n",
            "\tout_seq_length: 2\n",
            "wandb: Agent Started Run: x7rh0o15\n"
          ],
          "name": "stdout"
        },
        {
          "output_type": "display_data",
          "data": {
            "text/html": [
              "\n",
              "                Logging results to <a href=\"https://wandb.com\" target=\"_blank\">Weights & Biases</a> <a href=\"https://docs.wandb.com/integrations/jupyter.html\" target=\"_blank\">(Documentation)</a>.<br/>\n",
              "                Project page: <a href=\"https://app.wandb.ai/igodfried/covid-forecast\" target=\"_blank\">https://app.wandb.ai/igodfried/covid-forecast</a><br/>\n",
              "                Sweep page: <a href=\"https://app.wandb.ai/igodfried/covid-forecast/sweeps/yw9zbqtn\" target=\"_blank\">https://app.wandb.ai/igodfried/covid-forecast/sweeps/yw9zbqtn</a><br/>\n",
              "Run page: <a href=\"https://app.wandb.ai/igodfried/covid-forecast/runs/x7rh0o15\" target=\"_blank\">https://app.wandb.ai/igodfried/covid-forecast/runs/x7rh0o15</a><br/>\n",
              "            "
            ],
            "text/plain": [
              "<IPython.core.display.HTML object>"
            ]
          },
          "metadata": {
            "tags": []
          }
        },
        {
          "output_type": "stream",
          "text": [
            "{'model_name': 'MultiAttnHeadSimple', 'model_type': 'PyTorch', 'model_params': {'number_time_series': 3, 'seq_len': 4, 'output_seq_len': 2, 'forecast_length': 2}, 'dataset_params': {'class': 'default', 'training_path': 'antwerp.csv', 'validation_path': 'antwerp.csv', 'test_path': 'antwerp.csv', 'batch_size': 2, 'forecast_history': 4, 'forecast_length': 2, 'train_end': 71, 'valid_start': 72, 'valid_end': 91, 'target_col': ['new_cases'], 'relevant_cols': ['new_cases', 'month', 'weekday'], 'scaler': 'StandardScaler', 'interpolate': False}, 'training_params': {'criterion': 'MSE', 'optimizer': 'Adam', 'optim_params': {}, 'lr': 0.002, 'epochs': 10, 'batch_size': 2}, 'GCS': False, 'wandb': {'name': 'multihead_pytorch_antwerp', 'tags': ['covid_run', 'circleci'], 'project': 'covid-forecast'}, 'forward_params': {}, 'metrics': ['MSE'], 'inference_params': {'datetime_start': '2020-04-21', 'hours_to_forecast': 10, 'test_csv_path': 'antwerp.csv', 'decoder_params': {'decoder_function': 'simple_decode', 'unsqueeze_dim': 1}, 'dataset_params': {'file_path': 'antwerp.csv', 'forecast_history': 4, 'forecast_length': 2, 'relevant_cols': ['new_cases', 'month', 'weekday'], 'target_col': ['new_cases'], 'scaling': 'StandardScaler', 'interpolate_param': False}}}\n",
            "interpolate should be below\n",
            "Now loading and scaling antwerp.csv\n",
            "interpolate should be below\n",
            "Now loading and scaling antwerp.csv\n",
            "interpolate should be below\n",
            "Now loading and scaling antwerp.csv\n"
          ],
          "name": "stdout"
        },
        {
          "output_type": "display_data",
          "data": {
            "text/html": [
              "\n",
              "                Logging results to <a href=\"https://wandb.com\" target=\"_blank\">Weights & Biases</a> <a href=\"https://docs.wandb.com/integrations/jupyter.html\" target=\"_blank\">(Documentation)</a>.<br/>\n",
              "                Project page: <a href=\"https://app.wandb.ai/igodfried/covid-forecast\" target=\"_blank\">https://app.wandb.ai/igodfried/covid-forecast</a><br/>\n",
              "                Run page: <a href=\"https://app.wandb.ai/igodfried/covid-forecast/runs/3l9j7l2d\" target=\"_blank\">https://app.wandb.ai/igodfried/covid-forecast/runs/3l9j7l2d</a><br/>\n",
              "            "
            ],
            "text/plain": [
              "<IPython.core.display.HTML object>"
            ]
          },
          "metadata": {
            "tags": []
          }
        },
        {
          "output_type": "stream",
          "text": [
            "Torch is using cpu\n",
            "The running loss is:\n",
            "9.96654413593933\n",
            "The number of items in train is: \n",
            "32\n",
            "The loss for epoch 0\n",
            "0.31145450424810406\n",
            "The running loss is:\n",
            "28.999742947518826\n",
            "The number of items in train is: \n",
            "32\n",
            "The loss for epoch 1\n",
            "0.9062419671099633\n",
            "The running loss is:\n",
            "7.978736505378038\n",
            "The number of items in train is: \n",
            "32\n",
            "The loss for epoch 2\n",
            "0.24933551579306368\n",
            "The running loss is:\n",
            "16.54671422811225\n",
            "The number of items in train is: \n",
            "32\n",
            "The loss for epoch 3\n",
            "0.5170848196285078\n",
            "The running loss is:\n",
            "9.03373872069642\n",
            "The number of items in train is: \n",
            "32\n",
            "The loss for epoch 4\n",
            "0.2823043350217631\n",
            "The running loss is:\n",
            "23.664487095782533\n",
            "The number of items in train is: \n",
            "32\n",
            "The loss for epoch 5\n",
            "0.7395152217432042\n",
            "The running loss is:\n",
            "9.5151820583269\n",
            "The number of items in train is: \n",
            "32\n",
            "The loss for epoch 6\n",
            "0.2973494393227156\n",
            "The running loss is:\n",
            "7.392919855192304\n",
            "The number of items in train is: \n",
            "32\n",
            "The loss for epoch 7\n",
            "0.2310287454747595\n",
            "The running loss is:\n",
            "13.802258587442338\n",
            "The number of items in train is: \n",
            "32\n",
            "The loss for epoch 8\n",
            "0.4313205808575731\n",
            "The running loss is:\n",
            "6.292614362668246\n",
            "The number of items in train is: \n",
            "32\n",
            "The loss for epoch 9\n",
            "0.1966441988333827\n",
            "interpolate should be below\n",
            "Now loading and scaling antwerp.csv\n",
            "CSV Path below\n",
            "antwerp.csv\n",
            "torch.Size([1, 4, 3])\n",
            "Add debugging crap below\n"
          ],
          "name": "stdout"
        },
        {
          "output_type": "stream",
          "text": [
            "/content/github_aistream-peelout_flow-forecast/flood_forecast/evaluator.py:136: SettingWithCopyWarning: \n",
            "A value is trying to be set on a copy of a slice from a DataFrame.\n",
            "Try using .loc[row_indexer,col_indexer] = value instead\n",
            "\n",
            "See the caveats in the documentation: https://pandas.pydata.org/pandas-docs/stable/user_guide/indexing.html#returning-a-view-versus-a-copy\n",
            "  df['preds'] = 0\n",
            "/content/github_aistream-peelout_flow-forecast/flood_forecast/evaluator.py:137: SettingWithCopyWarning: \n",
            "A value is trying to be set on a copy of a slice from a DataFrame\n",
            "\n",
            "See the caveats in the documentation: https://pandas.pydata.org/pandas-docs/stable/user_guide/indexing.html#returning-a-view-versus-a-copy\n",
            "  df['preds'][history_length:] = end_tensor.numpy().tolist()\n",
            "/usr/local/lib/python3.6/dist-packages/pandas/core/series.py:1042: SettingWithCopyWarning: \n",
            "A value is trying to be set on a copy of a slice from a DataFrame\n",
            "\n",
            "See the caveats in the documentation: https://pandas.pydata.org/pandas-docs/stable/user_guide/indexing.html#returning-a-view-versus-a-copy\n",
            "  self._set_with(key, value)\n",
            "/content/github_aistream-peelout_flow-forecast/flood_forecast/evaluator.py:59: SettingWithCopyWarning: \n",
            "A value is trying to be set on a copy of a slice from a DataFrame\n",
            "\n",
            "See the caveats in the documentation: https://pandas.pydata.org/pandas-docs/stable/user_guide/indexing.html#returning-a-view-versus-a-copy\n",
            "  df, end_tensor, forecast_history, junk, test_data = infer_on_torch_model(model, **inference_params)\n"
          ],
          "name": "stderr"
        },
        {
          "output_type": "stream",
          "text": [
            "torch.Size([10])\n",
            "test_data scale\n",
            "Un-transforming data\n"
          ],
          "name": "stdout"
        },
        {
          "output_type": "stream",
          "text": [
            "/content/github_aistream-peelout_flow-forecast/flood_forecast/evaluator.py:67: SettingWithCopyWarning: \n",
            "A value is trying to be set on a copy of a slice from a DataFrame\n",
            "\n",
            "See the caveats in the documentation: https://pandas.pydata.org/pandas-docs/stable/user_guide/indexing.html#returning-a-view-versus-a-copy\n",
            "  df['preds'][history_length:] = end_tensor_list\n",
            "/content/github_aistream-peelout_flow-forecast/flood_forecast/trainer.py:30: SettingWithCopyWarning: \n",
            "A value is trying to be set on a copy of a slice from a DataFrame\n",
            "\n",
            "See the caveats in the documentation: https://pandas.pydata.org/pandas-docs/stable/user_guide/indexing.html#returning-a-view-versus-a-copy\n",
            "  test_acc = evaluate_model(trained_model, model_type, params[\"dataset_params\"][\"target_col\"], params[\"metrics\"], params[\"inference_params\"], {})\n"
          ],
          "name": "stderr"
        },
        {
          "output_type": "stream",
          "text": [
            "Current historical dataframe\n",
            "    Unnamed: 0                        name  ... original_index       preds\n",
            "86          86  Antwerp, Flanders, Belgium  ...             86    0.000000\n",
            "87          87  Antwerp, Flanders, Belgium  ...             87    0.000000\n",
            "88          88  Antwerp, Flanders, Belgium  ...             88    0.000000\n",
            "89          89  Antwerp, Flanders, Belgium  ...             89    0.000000\n",
            "90          90  Antwerp, Flanders, Belgium  ...             90  164.089966\n",
            "91          91  Antwerp, Flanders, Belgium  ...             91  161.481049\n",
            "92          92  Antwerp, Flanders, Belgium  ...             92  161.767853\n",
            "93          93  Antwerp, Flanders, Belgium  ...             93  162.047974\n",
            "94          94  Antwerp, Flanders, Belgium  ...             94  165.752609\n",
            "95          95  Antwerp, Flanders, Belgium  ...             95  170.131912\n",
            "96          96  Antwerp, Flanders, Belgium  ...             96  176.269791\n",
            "97          97  Antwerp, Flanders, Belgium  ...             97  175.326233\n",
            "98          98  Antwerp, Flanders, Belgium  ...             98  177.572510\n",
            "99          99  Antwerp, Flanders, Belgium  ...             99  179.625351\n",
            "\n",
            "[14 rows x 32 columns]\n"
          ],
          "name": "stdout"
        },
        {
          "output_type": "stream",
          "text": [
            "/usr/local/lib/python3.6/dist-packages/plotly/matplotlylib/mpltools.py:368: MatplotlibDeprecationWarning:\n",
            "\n",
            "\n",
            "The is_frame_like function was deprecated in Matplotlib 3.1 and will be removed in 3.3.\n",
            "\n",
            "/usr/local/lib/python3.6/dist-packages/plotly/matplotlylib/renderer.py:410: UserWarning:\n",
            "\n",
            "Bummer! Plotly can currently only draw Line2D objects from matplotlib that are in 'data' coordinates!\n",
            "\n",
            "/usr/local/lib/python3.6/dist-packages/plotly/matplotlylib/renderer.py:512: UserWarning:\n",
            "\n",
            "I found a path object that I don't think is part of a bar chart. Ignoring.\n",
            "\n",
            "/usr/local/lib/python3.6/dist-packages/plotly/matplotlylib/mpltools.py:368: MatplotlibDeprecationWarning:\n",
            "\n",
            "\n",
            "The is_frame_like function was deprecated in Matplotlib 3.1 and will be removed in 3.3.\n",
            "\n",
            "/usr/local/lib/python3.6/dist-packages/plotly/matplotlylib/renderer.py:410: UserWarning:\n",
            "\n",
            "Bummer! Plotly can currently only draw Line2D objects from matplotlib that are in 'data' coordinates!\n",
            "\n",
            "/usr/local/lib/python3.6/dist-packages/plotly/matplotlylib/renderer.py:512: UserWarning:\n",
            "\n",
            "I found a path object that I don't think is part of a bar chart. Ignoring.\n",
            "\n"
          ],
          "name": "stderr"
        },
        {
          "output_type": "stream",
          "text": [
            "wandb: Agent Finished Run: x7rh0o15 \n",
            "\n",
            "wandb: Agent Starting Run: 0aeujmcx with config:\n",
            "\tbatch_size: 2\n",
            "\tforecast_history: 4\n",
            "\tlr: 0.002\n",
            "\tout_seq_length: 3\n",
            "wandb: Agent Started Run: 0aeujmcx\n"
          ],
          "name": "stdout"
        },
        {
          "output_type": "display_data",
          "data": {
            "text/html": [
              "\n",
              "                Logging results to <a href=\"https://wandb.com\" target=\"_blank\">Weights & Biases</a> <a href=\"https://docs.wandb.com/integrations/jupyter.html\" target=\"_blank\">(Documentation)</a>.<br/>\n",
              "                Project page: <a href=\"https://app.wandb.ai/igodfried/covid-forecast\" target=\"_blank\">https://app.wandb.ai/igodfried/covid-forecast</a><br/>\n",
              "                Sweep page: <a href=\"https://app.wandb.ai/igodfried/covid-forecast/sweeps/yw9zbqtn\" target=\"_blank\">https://app.wandb.ai/igodfried/covid-forecast/sweeps/yw9zbqtn</a><br/>\n",
              "Run page: <a href=\"https://app.wandb.ai/igodfried/covid-forecast/runs/0aeujmcx\" target=\"_blank\">https://app.wandb.ai/igodfried/covid-forecast/runs/0aeujmcx</a><br/>\n",
              "            "
            ],
            "text/plain": [
              "<IPython.core.display.HTML object>"
            ]
          },
          "metadata": {
            "tags": []
          }
        },
        {
          "output_type": "stream",
          "text": [
            "{'model_name': 'MultiAttnHeadSimple', 'model_type': 'PyTorch', 'model_params': {'number_time_series': 3, 'seq_len': 4, 'output_seq_len': 3, 'forecast_length': 3}, 'dataset_params': {'class': 'default', 'training_path': 'antwerp.csv', 'validation_path': 'antwerp.csv', 'test_path': 'antwerp.csv', 'batch_size': 2, 'forecast_history': 4, 'forecast_length': 3, 'train_end': 71, 'valid_start': 72, 'valid_end': 91, 'target_col': ['new_cases'], 'relevant_cols': ['new_cases', 'month', 'weekday'], 'scaler': 'StandardScaler', 'interpolate': False}, 'training_params': {'criterion': 'MSE', 'optimizer': 'Adam', 'optim_params': {}, 'lr': 0.002, 'epochs': 10, 'batch_size': 2}, 'GCS': False, 'wandb': {'name': 'multihead_pytorch_antwerp', 'tags': ['covid_run', 'circleci'], 'project': 'covid-forecast'}, 'forward_params': {}, 'metrics': ['MSE'], 'inference_params': {'datetime_start': '2020-04-21', 'hours_to_forecast': 10, 'test_csv_path': 'antwerp.csv', 'decoder_params': {'decoder_function': 'simple_decode', 'unsqueeze_dim': 1}, 'dataset_params': {'file_path': 'antwerp.csv', 'forecast_history': 4, 'forecast_length': 3, 'relevant_cols': ['new_cases', 'month', 'weekday'], 'target_col': ['new_cases'], 'scaling': 'StandardScaler', 'interpolate_param': False}}}\n",
            "interpolate should be below\n",
            "Now loading and scaling antwerp.csv\n",
            "interpolate should be below\n",
            "Now loading and scaling antwerp.csv\n",
            "interpolate should be below\n",
            "Now loading and scaling antwerp.csv\n"
          ],
          "name": "stdout"
        },
        {
          "output_type": "display_data",
          "data": {
            "text/html": [
              "\n",
              "                Logging results to <a href=\"https://wandb.com\" target=\"_blank\">Weights & Biases</a> <a href=\"https://docs.wandb.com/integrations/jupyter.html\" target=\"_blank\">(Documentation)</a>.<br/>\n",
              "                Project page: <a href=\"https://app.wandb.ai/igodfried/covid-forecast\" target=\"_blank\">https://app.wandb.ai/igodfried/covid-forecast</a><br/>\n",
              "                Run page: <a href=\"https://app.wandb.ai/igodfried/covid-forecast/runs/1ydm388y\" target=\"_blank\">https://app.wandb.ai/igodfried/covid-forecast/runs/1ydm388y</a><br/>\n",
              "            "
            ],
            "text/plain": [
              "<IPython.core.display.HTML object>"
            ]
          },
          "metadata": {
            "tags": []
          }
        },
        {
          "output_type": "stream",
          "text": [
            "Torch is using cpu\n",
            "The running loss is:\n",
            "7.6697259191423655\n",
            "The number of items in train is: \n",
            "32\n",
            "The loss for epoch 0\n",
            "0.23967893497319892\n",
            "The running loss is:\n",
            "37.96821307018399\n",
            "The number of items in train is: \n",
            "32\n",
            "The loss for epoch 1\n",
            "1.1865066584432498\n",
            "The running loss is:\n",
            "12.867059556767344\n",
            "The number of items in train is: \n",
            "32\n",
            "The loss for epoch 2\n",
            "0.4020956111489795\n",
            "The running loss is:\n",
            "25.48514431528747\n",
            "The number of items in train is: \n",
            "32\n",
            "The loss for epoch 3\n",
            "0.7964107598527335\n",
            "The running loss is:\n",
            "11.341065876185894\n",
            "The number of items in train is: \n",
            "32\n",
            "The loss for epoch 4\n",
            "0.3544083086308092\n",
            "The running loss is:\n",
            "24.40359308384359\n",
            "The number of items in train is: \n",
            "32\n",
            "The loss for epoch 5\n",
            "0.7626122838701122\n",
            "The running loss is:\n",
            "10.748747183941305\n",
            "The number of items in train is: \n",
            "32\n",
            "The loss for epoch 6\n",
            "0.33589834949816577\n",
            "The running loss is:\n",
            "15.834405758418143\n",
            "The number of items in train is: \n",
            "32\n",
            "The loss for epoch 7\n",
            "0.49482517995056696\n",
            "The running loss is:\n",
            "8.714372392743826\n",
            "The number of items in train is: \n",
            "32\n",
            "The loss for epoch 8\n",
            "0.27232413727324456\n",
            "The running loss is:\n",
            "13.327436484396458\n",
            "The number of items in train is: \n",
            "32\n",
            "The loss for epoch 9\n",
            "0.4164823901373893\n",
            "interpolate should be below\n",
            "Now loading and scaling antwerp.csv\n",
            "CSV Path below\n",
            "antwerp.csv\n",
            "torch.Size([1, 4, 3])\n",
            "Add debugging crap below\n"
          ],
          "name": "stdout"
        },
        {
          "output_type": "stream",
          "text": [
            "/content/github_aistream-peelout_flow-forecast/flood_forecast/evaluator.py:136: SettingWithCopyWarning: \n",
            "A value is trying to be set on a copy of a slice from a DataFrame.\n",
            "Try using .loc[row_indexer,col_indexer] = value instead\n",
            "\n",
            "See the caveats in the documentation: https://pandas.pydata.org/pandas-docs/stable/user_guide/indexing.html#returning-a-view-versus-a-copy\n",
            "  df['preds'] = 0\n",
            "/content/github_aistream-peelout_flow-forecast/flood_forecast/evaluator.py:137: SettingWithCopyWarning: \n",
            "A value is trying to be set on a copy of a slice from a DataFrame\n",
            "\n",
            "See the caveats in the documentation: https://pandas.pydata.org/pandas-docs/stable/user_guide/indexing.html#returning-a-view-versus-a-copy\n",
            "  df['preds'][history_length:] = end_tensor.numpy().tolist()\n",
            "/usr/local/lib/python3.6/dist-packages/pandas/core/series.py:1042: SettingWithCopyWarning: \n",
            "A value is trying to be set on a copy of a slice from a DataFrame\n",
            "\n",
            "See the caveats in the documentation: https://pandas.pydata.org/pandas-docs/stable/user_guide/indexing.html#returning-a-view-versus-a-copy\n",
            "  self._set_with(key, value)\n",
            "/content/github_aistream-peelout_flow-forecast/flood_forecast/evaluator.py:59: SettingWithCopyWarning: \n",
            "A value is trying to be set on a copy of a slice from a DataFrame\n",
            "\n",
            "See the caveats in the documentation: https://pandas.pydata.org/pandas-docs/stable/user_guide/indexing.html#returning-a-view-versus-a-copy\n",
            "  df, end_tensor, forecast_history, junk, test_data = infer_on_torch_model(model, **inference_params)\n"
          ],
          "name": "stderr"
        },
        {
          "output_type": "stream",
          "text": [
            "torch.Size([10])\n",
            "test_data scale\n",
            "Un-transforming data\n"
          ],
          "name": "stdout"
        },
        {
          "output_type": "stream",
          "text": [
            "/content/github_aistream-peelout_flow-forecast/flood_forecast/evaluator.py:67: SettingWithCopyWarning: \n",
            "A value is trying to be set on a copy of a slice from a DataFrame\n",
            "\n",
            "See the caveats in the documentation: https://pandas.pydata.org/pandas-docs/stable/user_guide/indexing.html#returning-a-view-versus-a-copy\n",
            "  df['preds'][history_length:] = end_tensor_list\n",
            "/content/github_aistream-peelout_flow-forecast/flood_forecast/trainer.py:30: SettingWithCopyWarning: \n",
            "A value is trying to be set on a copy of a slice from a DataFrame\n",
            "\n",
            "See the caveats in the documentation: https://pandas.pydata.org/pandas-docs/stable/user_guide/indexing.html#returning-a-view-versus-a-copy\n",
            "  test_acc = evaluate_model(trained_model, model_type, params[\"dataset_params\"][\"target_col\"], params[\"metrics\"], params[\"inference_params\"], {})\n"
          ],
          "name": "stderr"
        },
        {
          "output_type": "stream",
          "text": [
            "Current historical dataframe\n",
            "    Unnamed: 0                        name  ... original_index       preds\n",
            "86          86  Antwerp, Flanders, Belgium  ...             86    0.000000\n",
            "87          87  Antwerp, Flanders, Belgium  ...             87    0.000000\n",
            "88          88  Antwerp, Flanders, Belgium  ...             88    0.000000\n",
            "89          89  Antwerp, Flanders, Belgium  ...             89    0.000000\n",
            "90          90  Antwerp, Flanders, Belgium  ...             90  112.782478\n",
            "91          91  Antwerp, Flanders, Belgium  ...             91  106.982094\n",
            "92          92  Antwerp, Flanders, Belgium  ...             92  104.220634\n",
            "93          93  Antwerp, Flanders, Belgium  ...             93  103.812248\n",
            "94          94  Antwerp, Flanders, Belgium  ...             94   96.546860\n",
            "95          95  Antwerp, Flanders, Belgium  ...             95   98.490540\n",
            "96          96  Antwerp, Flanders, Belgium  ...             96  101.250137\n",
            "97          97  Antwerp, Flanders, Belgium  ...             97   93.525597\n",
            "98          98  Antwerp, Flanders, Belgium  ...             98   91.633041\n",
            "99          99  Antwerp, Flanders, Belgium  ...             99   92.601295\n",
            "\n",
            "[14 rows x 32 columns]\n"
          ],
          "name": "stdout"
        },
        {
          "output_type": "stream",
          "text": [
            "/usr/local/lib/python3.6/dist-packages/plotly/matplotlylib/mpltools.py:368: MatplotlibDeprecationWarning:\n",
            "\n",
            "\n",
            "The is_frame_like function was deprecated in Matplotlib 3.1 and will be removed in 3.3.\n",
            "\n",
            "/usr/local/lib/python3.6/dist-packages/plotly/matplotlylib/renderer.py:410: UserWarning:\n",
            "\n",
            "Bummer! Plotly can currently only draw Line2D objects from matplotlib that are in 'data' coordinates!\n",
            "\n",
            "/usr/local/lib/python3.6/dist-packages/plotly/matplotlylib/renderer.py:512: UserWarning:\n",
            "\n",
            "I found a path object that I don't think is part of a bar chart. Ignoring.\n",
            "\n",
            "/usr/local/lib/python3.6/dist-packages/plotly/matplotlylib/mpltools.py:368: MatplotlibDeprecationWarning:\n",
            "\n",
            "\n",
            "The is_frame_like function was deprecated in Matplotlib 3.1 and will be removed in 3.3.\n",
            "\n",
            "/usr/local/lib/python3.6/dist-packages/plotly/matplotlylib/renderer.py:410: UserWarning:\n",
            "\n",
            "Bummer! Plotly can currently only draw Line2D objects from matplotlib that are in 'data' coordinates!\n",
            "\n",
            "/usr/local/lib/python3.6/dist-packages/plotly/matplotlylib/renderer.py:512: UserWarning:\n",
            "\n",
            "I found a path object that I don't think is part of a bar chart. Ignoring.\n",
            "\n"
          ],
          "name": "stderr"
        },
        {
          "output_type": "stream",
          "text": [
            "wandb: Agent Finished Run: 0aeujmcx \n",
            "\n",
            "wandb: Agent Starting Run: fjxfqi0k with config:\n",
            "\tbatch_size: 2\n",
            "\tforecast_history: 4\n",
            "\tlr: 0.004\n",
            "\tout_seq_length: 1\n",
            "wandb: Agent Started Run: fjxfqi0k\n"
          ],
          "name": "stdout"
        },
        {
          "output_type": "display_data",
          "data": {
            "text/html": [
              "\n",
              "                Logging results to <a href=\"https://wandb.com\" target=\"_blank\">Weights & Biases</a> <a href=\"https://docs.wandb.com/integrations/jupyter.html\" target=\"_blank\">(Documentation)</a>.<br/>\n",
              "                Project page: <a href=\"https://app.wandb.ai/igodfried/covid-forecast\" target=\"_blank\">https://app.wandb.ai/igodfried/covid-forecast</a><br/>\n",
              "                Sweep page: <a href=\"https://app.wandb.ai/igodfried/covid-forecast/sweeps/yw9zbqtn\" target=\"_blank\">https://app.wandb.ai/igodfried/covid-forecast/sweeps/yw9zbqtn</a><br/>\n",
              "Run page: <a href=\"https://app.wandb.ai/igodfried/covid-forecast/runs/fjxfqi0k\" target=\"_blank\">https://app.wandb.ai/igodfried/covid-forecast/runs/fjxfqi0k</a><br/>\n",
              "            "
            ],
            "text/plain": [
              "<IPython.core.display.HTML object>"
            ]
          },
          "metadata": {
            "tags": []
          }
        },
        {
          "output_type": "stream",
          "text": [
            "{'model_name': 'MultiAttnHeadSimple', 'model_type': 'PyTorch', 'model_params': {'number_time_series': 3, 'seq_len': 4, 'output_seq_len': 1, 'forecast_length': 1}, 'dataset_params': {'class': 'default', 'training_path': 'antwerp.csv', 'validation_path': 'antwerp.csv', 'test_path': 'antwerp.csv', 'batch_size': 2, 'forecast_history': 4, 'forecast_length': 1, 'train_end': 71, 'valid_start': 72, 'valid_end': 91, 'target_col': ['new_cases'], 'relevant_cols': ['new_cases', 'month', 'weekday'], 'scaler': 'StandardScaler', 'interpolate': False}, 'training_params': {'criterion': 'MSE', 'optimizer': 'Adam', 'optim_params': {}, 'lr': 0.004, 'epochs': 10, 'batch_size': 2}, 'GCS': False, 'wandb': {'name': 'multihead_pytorch_antwerp', 'tags': ['covid_run', 'circleci'], 'project': 'covid-forecast'}, 'forward_params': {}, 'metrics': ['MSE'], 'inference_params': {'datetime_start': '2020-04-21', 'hours_to_forecast': 10, 'test_csv_path': 'antwerp.csv', 'decoder_params': {'decoder_function': 'simple_decode', 'unsqueeze_dim': 1}, 'dataset_params': {'file_path': 'antwerp.csv', 'forecast_history': 4, 'forecast_length': 1, 'relevant_cols': ['new_cases', 'month', 'weekday'], 'target_col': ['new_cases'], 'scaling': 'StandardScaler', 'interpolate_param': False}}}\n",
            "interpolate should be below\n",
            "Now loading and scaling antwerp.csv\n",
            "interpolate should be below\n",
            "Now loading and scaling antwerp.csv\n",
            "interpolate should be below\n",
            "Now loading and scaling antwerp.csv\n"
          ],
          "name": "stdout"
        },
        {
          "output_type": "display_data",
          "data": {
            "text/html": [
              "\n",
              "                Logging results to <a href=\"https://wandb.com\" target=\"_blank\">Weights & Biases</a> <a href=\"https://docs.wandb.com/integrations/jupyter.html\" target=\"_blank\">(Documentation)</a>.<br/>\n",
              "                Project page: <a href=\"https://app.wandb.ai/igodfried/covid-forecast\" target=\"_blank\">https://app.wandb.ai/igodfried/covid-forecast</a><br/>\n",
              "                Run page: <a href=\"https://app.wandb.ai/igodfried/covid-forecast/runs/1l2iqjry\" target=\"_blank\">https://app.wandb.ai/igodfried/covid-forecast/runs/1l2iqjry</a><br/>\n",
              "            "
            ],
            "text/plain": [
              "<IPython.core.display.HTML object>"
            ]
          },
          "metadata": {
            "tags": []
          }
        },
        {
          "output_type": "stream",
          "text": [
            "Torch is using cpu\n",
            "The running loss is:\n",
            "13.547936960821971\n",
            "The number of items in train is: \n",
            "33\n",
            "The loss for epoch 0\n",
            "0.41054354426733247\n",
            "The running loss is:\n",
            "26.5433846085798\n",
            "The number of items in train is: \n",
            "33\n",
            "The loss for epoch 1\n",
            "0.8043449881387819\n",
            "The running loss is:\n",
            "14.103622088208795\n",
            "The number of items in train is: \n",
            "33\n",
            "The loss for epoch 2\n",
            "0.4273824875214786\n",
            "The running loss is:\n",
            "9.100044154096395\n",
            "The number of items in train is: \n",
            "33\n",
            "The loss for epoch 3\n",
            "0.2757589137604968\n",
            "The running loss is:\n",
            "14.748382066725753\n",
            "The number of items in train is: \n",
            "33\n",
            "The loss for epoch 4\n",
            "0.4469206686886592\n",
            "The running loss is:\n",
            "11.233333861382562\n",
            "The number of items in train is: \n",
            "33\n",
            "The loss for epoch 5\n",
            "0.3404040564055322\n",
            "The running loss is:\n",
            "21.369321470090654\n",
            "The number of items in train is: \n",
            "33\n",
            "The loss for epoch 6\n",
            "0.6475551960633531\n",
            "The running loss is:\n",
            "7.361885572201572\n",
            "The number of items in train is: \n",
            "33\n",
            "The loss for epoch 7\n",
            "0.22308744158186583\n",
            "The running loss is:\n",
            "8.053950862027705\n",
            "The number of items in train is: \n",
            "33\n",
            "The loss for epoch 8\n",
            "0.24405911703114258\n",
            "The running loss is:\n",
            "11.17254789127037\n",
            "The number of items in train is: \n",
            "33\n",
            "The loss for epoch 9\n",
            "0.3385620573112233\n",
            "interpolate should be below\n",
            "Now loading and scaling antwerp.csv\n",
            "CSV Path below\n",
            "antwerp.csv\n",
            "torch.Size([1, 4, 3])\n",
            "Add debugging crap below\n"
          ],
          "name": "stdout"
        },
        {
          "output_type": "stream",
          "text": [
            "/content/github_aistream-peelout_flow-forecast/flood_forecast/evaluator.py:136: SettingWithCopyWarning: \n",
            "A value is trying to be set on a copy of a slice from a DataFrame.\n",
            "Try using .loc[row_indexer,col_indexer] = value instead\n",
            "\n",
            "See the caveats in the documentation: https://pandas.pydata.org/pandas-docs/stable/user_guide/indexing.html#returning-a-view-versus-a-copy\n",
            "  df['preds'] = 0\n",
            "/content/github_aistream-peelout_flow-forecast/flood_forecast/evaluator.py:137: SettingWithCopyWarning: \n",
            "A value is trying to be set on a copy of a slice from a DataFrame\n",
            "\n",
            "See the caveats in the documentation: https://pandas.pydata.org/pandas-docs/stable/user_guide/indexing.html#returning-a-view-versus-a-copy\n",
            "  df['preds'][history_length:] = end_tensor.numpy().tolist()\n",
            "/usr/local/lib/python3.6/dist-packages/pandas/core/series.py:1042: SettingWithCopyWarning: \n",
            "A value is trying to be set on a copy of a slice from a DataFrame\n",
            "\n",
            "See the caveats in the documentation: https://pandas.pydata.org/pandas-docs/stable/user_guide/indexing.html#returning-a-view-versus-a-copy\n",
            "  self._set_with(key, value)\n",
            "/content/github_aistream-peelout_flow-forecast/flood_forecast/evaluator.py:59: SettingWithCopyWarning: \n",
            "A value is trying to be set on a copy of a slice from a DataFrame\n",
            "\n",
            "See the caveats in the documentation: https://pandas.pydata.org/pandas-docs/stable/user_guide/indexing.html#returning-a-view-versus-a-copy\n",
            "  df, end_tensor, forecast_history, junk, test_data = infer_on_torch_model(model, **inference_params)\n"
          ],
          "name": "stderr"
        },
        {
          "output_type": "stream",
          "text": [
            "torch.Size([10])\n",
            "test_data scale\n",
            "Un-transforming data\n"
          ],
          "name": "stdout"
        },
        {
          "output_type": "stream",
          "text": [
            "/content/github_aistream-peelout_flow-forecast/flood_forecast/evaluator.py:67: SettingWithCopyWarning: \n",
            "A value is trying to be set on a copy of a slice from a DataFrame\n",
            "\n",
            "See the caveats in the documentation: https://pandas.pydata.org/pandas-docs/stable/user_guide/indexing.html#returning-a-view-versus-a-copy\n",
            "  df['preds'][history_length:] = end_tensor_list\n",
            "/content/github_aistream-peelout_flow-forecast/flood_forecast/trainer.py:30: SettingWithCopyWarning: \n",
            "A value is trying to be set on a copy of a slice from a DataFrame\n",
            "\n",
            "See the caveats in the documentation: https://pandas.pydata.org/pandas-docs/stable/user_guide/indexing.html#returning-a-view-versus-a-copy\n",
            "  test_acc = evaluate_model(trained_model, model_type, params[\"dataset_params\"][\"target_col\"], params[\"metrics\"], params[\"inference_params\"], {})\n"
          ],
          "name": "stderr"
        },
        {
          "output_type": "stream",
          "text": [
            "Current historical dataframe\n",
            "    Unnamed: 0                        name  ... original_index       preds\n",
            "86          86  Antwerp, Flanders, Belgium  ...             86    0.000000\n",
            "87          87  Antwerp, Flanders, Belgium  ...             87    0.000000\n",
            "88          88  Antwerp, Flanders, Belgium  ...             88    0.000000\n",
            "89          89  Antwerp, Flanders, Belgium  ...             89    0.000000\n",
            "90          90  Antwerp, Flanders, Belgium  ...             90  125.017883\n",
            "91          91  Antwerp, Flanders, Belgium  ...             91  123.411812\n",
            "92          92  Antwerp, Flanders, Belgium  ...             92  125.127426\n",
            "93          93  Antwerp, Flanders, Belgium  ...             93  125.062477\n",
            "94          94  Antwerp, Flanders, Belgium  ...             94  115.939461\n",
            "95          95  Antwerp, Flanders, Belgium  ...             95  121.196037\n",
            "96          96  Antwerp, Flanders, Belgium  ...             96  127.404915\n",
            "97          97  Antwerp, Flanders, Belgium  ...             97  114.615707\n",
            "98          98  Antwerp, Flanders, Belgium  ...             98  110.940880\n",
            "99          99  Antwerp, Flanders, Belgium  ...             99  107.993706\n",
            "\n",
            "[14 rows x 32 columns]\n"
          ],
          "name": "stdout"
        },
        {
          "output_type": "stream",
          "text": [
            "/usr/local/lib/python3.6/dist-packages/plotly/matplotlylib/mpltools.py:368: MatplotlibDeprecationWarning:\n",
            "\n",
            "\n",
            "The is_frame_like function was deprecated in Matplotlib 3.1 and will be removed in 3.3.\n",
            "\n",
            "/usr/local/lib/python3.6/dist-packages/plotly/matplotlylib/renderer.py:410: UserWarning:\n",
            "\n",
            "Bummer! Plotly can currently only draw Line2D objects from matplotlib that are in 'data' coordinates!\n",
            "\n",
            "/usr/local/lib/python3.6/dist-packages/plotly/matplotlylib/renderer.py:512: UserWarning:\n",
            "\n",
            "I found a path object that I don't think is part of a bar chart. Ignoring.\n",
            "\n",
            "/usr/local/lib/python3.6/dist-packages/plotly/matplotlylib/mpltools.py:368: MatplotlibDeprecationWarning:\n",
            "\n",
            "\n",
            "The is_frame_like function was deprecated in Matplotlib 3.1 and will be removed in 3.3.\n",
            "\n",
            "/usr/local/lib/python3.6/dist-packages/plotly/matplotlylib/renderer.py:410: UserWarning:\n",
            "\n",
            "Bummer! Plotly can currently only draw Line2D objects from matplotlib that are in 'data' coordinates!\n",
            "\n",
            "/usr/local/lib/python3.6/dist-packages/plotly/matplotlylib/renderer.py:512: UserWarning:\n",
            "\n",
            "I found a path object that I don't think is part of a bar chart. Ignoring.\n",
            "\n"
          ],
          "name": "stderr"
        },
        {
          "output_type": "stream",
          "text": [
            "wandb: Agent Finished Run: fjxfqi0k \n",
            "\n",
            "wandb: Agent Starting Run: wwngpqi2 with config:\n",
            "\tbatch_size: 2\n",
            "\tforecast_history: 4\n",
            "\tlr: 0.004\n",
            "\tout_seq_length: 2\n",
            "wandb: Agent Started Run: wwngpqi2\n"
          ],
          "name": "stdout"
        },
        {
          "output_type": "display_data",
          "data": {
            "text/html": [
              "\n",
              "                Logging results to <a href=\"https://wandb.com\" target=\"_blank\">Weights & Biases</a> <a href=\"https://docs.wandb.com/integrations/jupyter.html\" target=\"_blank\">(Documentation)</a>.<br/>\n",
              "                Project page: <a href=\"https://app.wandb.ai/igodfried/covid-forecast\" target=\"_blank\">https://app.wandb.ai/igodfried/covid-forecast</a><br/>\n",
              "                Sweep page: <a href=\"https://app.wandb.ai/igodfried/covid-forecast/sweeps/yw9zbqtn\" target=\"_blank\">https://app.wandb.ai/igodfried/covid-forecast/sweeps/yw9zbqtn</a><br/>\n",
              "Run page: <a href=\"https://app.wandb.ai/igodfried/covid-forecast/runs/wwngpqi2\" target=\"_blank\">https://app.wandb.ai/igodfried/covid-forecast/runs/wwngpqi2</a><br/>\n",
              "            "
            ],
            "text/plain": [
              "<IPython.core.display.HTML object>"
            ]
          },
          "metadata": {
            "tags": []
          }
        },
        {
          "output_type": "stream",
          "text": [
            "{'model_name': 'MultiAttnHeadSimple', 'model_type': 'PyTorch', 'model_params': {'number_time_series': 3, 'seq_len': 4, 'output_seq_len': 2, 'forecast_length': 2}, 'dataset_params': {'class': 'default', 'training_path': 'antwerp.csv', 'validation_path': 'antwerp.csv', 'test_path': 'antwerp.csv', 'batch_size': 2, 'forecast_history': 4, 'forecast_length': 2, 'train_end': 71, 'valid_start': 72, 'valid_end': 91, 'target_col': ['new_cases'], 'relevant_cols': ['new_cases', 'month', 'weekday'], 'scaler': 'StandardScaler', 'interpolate': False}, 'training_params': {'criterion': 'MSE', 'optimizer': 'Adam', 'optim_params': {}, 'lr': 0.004, 'epochs': 10, 'batch_size': 2}, 'GCS': False, 'wandb': {'name': 'multihead_pytorch_antwerp', 'tags': ['covid_run', 'circleci'], 'project': 'covid-forecast'}, 'forward_params': {}, 'metrics': ['MSE'], 'inference_params': {'datetime_start': '2020-04-21', 'hours_to_forecast': 10, 'test_csv_path': 'antwerp.csv', 'decoder_params': {'decoder_function': 'simple_decode', 'unsqueeze_dim': 1}, 'dataset_params': {'file_path': 'antwerp.csv', 'forecast_history': 4, 'forecast_length': 2, 'relevant_cols': ['new_cases', 'month', 'weekday'], 'target_col': ['new_cases'], 'scaling': 'StandardScaler', 'interpolate_param': False}}}\n",
            "interpolate should be below\n",
            "Now loading and scaling antwerp.csv\n",
            "interpolate should be below\n",
            "Now loading and scaling antwerp.csv\n",
            "interpolate should be below\n",
            "Now loading and scaling antwerp.csv\n"
          ],
          "name": "stdout"
        },
        {
          "output_type": "display_data",
          "data": {
            "text/html": [
              "\n",
              "                Logging results to <a href=\"https://wandb.com\" target=\"_blank\">Weights & Biases</a> <a href=\"https://docs.wandb.com/integrations/jupyter.html\" target=\"_blank\">(Documentation)</a>.<br/>\n",
              "                Project page: <a href=\"https://app.wandb.ai/igodfried/covid-forecast\" target=\"_blank\">https://app.wandb.ai/igodfried/covid-forecast</a><br/>\n",
              "                Run page: <a href=\"https://app.wandb.ai/igodfried/covid-forecast/runs/1zozxgfj\" target=\"_blank\">https://app.wandb.ai/igodfried/covid-forecast/runs/1zozxgfj</a><br/>\n",
              "            "
            ],
            "text/plain": [
              "<IPython.core.display.HTML object>"
            ]
          },
          "metadata": {
            "tags": []
          }
        },
        {
          "output_type": "stream",
          "text": [
            "Torch is using cpu\n",
            "The running loss is:\n",
            "9.96654413593933\n",
            "The number of items in train is: \n",
            "32\n",
            "The loss for epoch 0\n",
            "0.31145450424810406\n",
            "The running loss is:\n",
            "28.999742947518826\n",
            "The number of items in train is: \n",
            "32\n",
            "The loss for epoch 1\n",
            "0.9062419671099633\n",
            "The running loss is:\n",
            "7.978736505378038\n",
            "The number of items in train is: \n",
            "32\n",
            "The loss for epoch 2\n",
            "0.24933551579306368\n",
            "The running loss is:\n",
            "16.54671422811225\n",
            "The number of items in train is: \n",
            "32\n",
            "The loss for epoch 3\n",
            "0.5170848196285078\n",
            "The running loss is:\n",
            "9.03373872069642\n",
            "The number of items in train is: \n",
            "32\n",
            "The loss for epoch 4\n",
            "0.2823043350217631\n",
            "The running loss is:\n",
            "23.664487095782533\n",
            "The number of items in train is: \n",
            "32\n",
            "The loss for epoch 5\n",
            "0.7395152217432042\n",
            "The running loss is:\n",
            "9.5151820583269\n",
            "The number of items in train is: \n",
            "32\n",
            "The loss for epoch 6\n",
            "0.2973494393227156\n",
            "The running loss is:\n",
            "7.392919855192304\n",
            "The number of items in train is: \n",
            "32\n",
            "The loss for epoch 7\n",
            "0.2310287454747595\n",
            "The running loss is:\n",
            "13.802258587442338\n",
            "The number of items in train is: \n",
            "32\n",
            "The loss for epoch 8\n",
            "0.4313205808575731\n",
            "The running loss is:\n",
            "6.292614362668246\n",
            "The number of items in train is: \n",
            "32\n",
            "The loss for epoch 9\n",
            "0.1966441988333827\n",
            "interpolate should be below\n",
            "Now loading and scaling antwerp.csv\n",
            "CSV Path below\n",
            "antwerp.csv\n",
            "torch.Size([1, 4, 3])\n",
            "Add debugging crap below\n"
          ],
          "name": "stdout"
        },
        {
          "output_type": "stream",
          "text": [
            "/content/github_aistream-peelout_flow-forecast/flood_forecast/evaluator.py:136: SettingWithCopyWarning: \n",
            "A value is trying to be set on a copy of a slice from a DataFrame.\n",
            "Try using .loc[row_indexer,col_indexer] = value instead\n",
            "\n",
            "See the caveats in the documentation: https://pandas.pydata.org/pandas-docs/stable/user_guide/indexing.html#returning-a-view-versus-a-copy\n",
            "  df['preds'] = 0\n",
            "/content/github_aistream-peelout_flow-forecast/flood_forecast/evaluator.py:137: SettingWithCopyWarning: \n",
            "A value is trying to be set on a copy of a slice from a DataFrame\n",
            "\n",
            "See the caveats in the documentation: https://pandas.pydata.org/pandas-docs/stable/user_guide/indexing.html#returning-a-view-versus-a-copy\n",
            "  df['preds'][history_length:] = end_tensor.numpy().tolist()\n",
            "/usr/local/lib/python3.6/dist-packages/pandas/core/series.py:1042: SettingWithCopyWarning: \n",
            "A value is trying to be set on a copy of a slice from a DataFrame\n",
            "\n",
            "See the caveats in the documentation: https://pandas.pydata.org/pandas-docs/stable/user_guide/indexing.html#returning-a-view-versus-a-copy\n",
            "  self._set_with(key, value)\n",
            "/content/github_aistream-peelout_flow-forecast/flood_forecast/evaluator.py:59: SettingWithCopyWarning: \n",
            "A value is trying to be set on a copy of a slice from a DataFrame\n",
            "\n",
            "See the caveats in the documentation: https://pandas.pydata.org/pandas-docs/stable/user_guide/indexing.html#returning-a-view-versus-a-copy\n",
            "  df, end_tensor, forecast_history, junk, test_data = infer_on_torch_model(model, **inference_params)\n"
          ],
          "name": "stderr"
        },
        {
          "output_type": "stream",
          "text": [
            "torch.Size([10])\n",
            "test_data scale\n",
            "Un-transforming data\n"
          ],
          "name": "stdout"
        },
        {
          "output_type": "stream",
          "text": [
            "/content/github_aistream-peelout_flow-forecast/flood_forecast/evaluator.py:67: SettingWithCopyWarning: \n",
            "A value is trying to be set on a copy of a slice from a DataFrame\n",
            "\n",
            "See the caveats in the documentation: https://pandas.pydata.org/pandas-docs/stable/user_guide/indexing.html#returning-a-view-versus-a-copy\n",
            "  df['preds'][history_length:] = end_tensor_list\n",
            "/content/github_aistream-peelout_flow-forecast/flood_forecast/trainer.py:30: SettingWithCopyWarning: \n",
            "A value is trying to be set on a copy of a slice from a DataFrame\n",
            "\n",
            "See the caveats in the documentation: https://pandas.pydata.org/pandas-docs/stable/user_guide/indexing.html#returning-a-view-versus-a-copy\n",
            "  test_acc = evaluate_model(trained_model, model_type, params[\"dataset_params\"][\"target_col\"], params[\"metrics\"], params[\"inference_params\"], {})\n"
          ],
          "name": "stderr"
        },
        {
          "output_type": "stream",
          "text": [
            "Current historical dataframe\n",
            "    Unnamed: 0                        name  ... original_index       preds\n",
            "86          86  Antwerp, Flanders, Belgium  ...             86    0.000000\n",
            "87          87  Antwerp, Flanders, Belgium  ...             87    0.000000\n",
            "88          88  Antwerp, Flanders, Belgium  ...             88    0.000000\n",
            "89          89  Antwerp, Flanders, Belgium  ...             89    0.000000\n",
            "90          90  Antwerp, Flanders, Belgium  ...             90  164.089966\n",
            "91          91  Antwerp, Flanders, Belgium  ...             91  161.481049\n",
            "92          92  Antwerp, Flanders, Belgium  ...             92  161.767853\n",
            "93          93  Antwerp, Flanders, Belgium  ...             93  162.047974\n",
            "94          94  Antwerp, Flanders, Belgium  ...             94  165.752609\n",
            "95          95  Antwerp, Flanders, Belgium  ...             95  170.131912\n",
            "96          96  Antwerp, Flanders, Belgium  ...             96  176.269791\n",
            "97          97  Antwerp, Flanders, Belgium  ...             97  175.326233\n",
            "98          98  Antwerp, Flanders, Belgium  ...             98  177.572510\n",
            "99          99  Antwerp, Flanders, Belgium  ...             99  179.625351\n",
            "\n",
            "[14 rows x 32 columns]\n"
          ],
          "name": "stdout"
        },
        {
          "output_type": "stream",
          "text": [
            "/usr/local/lib/python3.6/dist-packages/plotly/matplotlylib/mpltools.py:368: MatplotlibDeprecationWarning:\n",
            "\n",
            "\n",
            "The is_frame_like function was deprecated in Matplotlib 3.1 and will be removed in 3.3.\n",
            "\n",
            "/usr/local/lib/python3.6/dist-packages/plotly/matplotlylib/renderer.py:410: UserWarning:\n",
            "\n",
            "Bummer! Plotly can currently only draw Line2D objects from matplotlib that are in 'data' coordinates!\n",
            "\n",
            "/usr/local/lib/python3.6/dist-packages/plotly/matplotlylib/renderer.py:512: UserWarning:\n",
            "\n",
            "I found a path object that I don't think is part of a bar chart. Ignoring.\n",
            "\n",
            "/usr/local/lib/python3.6/dist-packages/plotly/matplotlylib/mpltools.py:368: MatplotlibDeprecationWarning:\n",
            "\n",
            "\n",
            "The is_frame_like function was deprecated in Matplotlib 3.1 and will be removed in 3.3.\n",
            "\n",
            "/usr/local/lib/python3.6/dist-packages/plotly/matplotlylib/renderer.py:410: UserWarning:\n",
            "\n",
            "Bummer! Plotly can currently only draw Line2D objects from matplotlib that are in 'data' coordinates!\n",
            "\n",
            "/usr/local/lib/python3.6/dist-packages/plotly/matplotlylib/renderer.py:512: UserWarning:\n",
            "\n",
            "I found a path object that I don't think is part of a bar chart. Ignoring.\n",
            "\n"
          ],
          "name": "stderr"
        },
        {
          "output_type": "stream",
          "text": [
            "wandb: Agent Finished Run: wwngpqi2 \n",
            "\n",
            "wandb: Agent Starting Run: cok8djrp with config:\n",
            "\tbatch_size: 2\n",
            "\tforecast_history: 4\n",
            "\tlr: 0.004\n",
            "\tout_seq_length: 3\n",
            "wandb: Agent Started Run: cok8djrp\n"
          ],
          "name": "stdout"
        },
        {
          "output_type": "display_data",
          "data": {
            "text/html": [
              "\n",
              "                Logging results to <a href=\"https://wandb.com\" target=\"_blank\">Weights & Biases</a> <a href=\"https://docs.wandb.com/integrations/jupyter.html\" target=\"_blank\">(Documentation)</a>.<br/>\n",
              "                Project page: <a href=\"https://app.wandb.ai/igodfried/covid-forecast\" target=\"_blank\">https://app.wandb.ai/igodfried/covid-forecast</a><br/>\n",
              "                Sweep page: <a href=\"https://app.wandb.ai/igodfried/covid-forecast/sweeps/yw9zbqtn\" target=\"_blank\">https://app.wandb.ai/igodfried/covid-forecast/sweeps/yw9zbqtn</a><br/>\n",
              "Run page: <a href=\"https://app.wandb.ai/igodfried/covid-forecast/runs/cok8djrp\" target=\"_blank\">https://app.wandb.ai/igodfried/covid-forecast/runs/cok8djrp</a><br/>\n",
              "            "
            ],
            "text/plain": [
              "<IPython.core.display.HTML object>"
            ]
          },
          "metadata": {
            "tags": []
          }
        },
        {
          "output_type": "stream",
          "text": [
            "{'model_name': 'MultiAttnHeadSimple', 'model_type': 'PyTorch', 'model_params': {'number_time_series': 3, 'seq_len': 4, 'output_seq_len': 3, 'forecast_length': 3}, 'dataset_params': {'class': 'default', 'training_path': 'antwerp.csv', 'validation_path': 'antwerp.csv', 'test_path': 'antwerp.csv', 'batch_size': 2, 'forecast_history': 4, 'forecast_length': 3, 'train_end': 71, 'valid_start': 72, 'valid_end': 91, 'target_col': ['new_cases'], 'relevant_cols': ['new_cases', 'month', 'weekday'], 'scaler': 'StandardScaler', 'interpolate': False}, 'training_params': {'criterion': 'MSE', 'optimizer': 'Adam', 'optim_params': {}, 'lr': 0.004, 'epochs': 10, 'batch_size': 2}, 'GCS': False, 'wandb': {'name': 'multihead_pytorch_antwerp', 'tags': ['covid_run', 'circleci'], 'project': 'covid-forecast'}, 'forward_params': {}, 'metrics': ['MSE'], 'inference_params': {'datetime_start': '2020-04-21', 'hours_to_forecast': 10, 'test_csv_path': 'antwerp.csv', 'decoder_params': {'decoder_function': 'simple_decode', 'unsqueeze_dim': 1}, 'dataset_params': {'file_path': 'antwerp.csv', 'forecast_history': 4, 'forecast_length': 3, 'relevant_cols': ['new_cases', 'month', 'weekday'], 'target_col': ['new_cases'], 'scaling': 'StandardScaler', 'interpolate_param': False}}}\n",
            "interpolate should be below\n",
            "Now loading and scaling antwerp.csv\n",
            "interpolate should be below\n",
            "Now loading and scaling antwerp.csv\n",
            "interpolate should be below\n",
            "Now loading and scaling antwerp.csv\n"
          ],
          "name": "stdout"
        },
        {
          "output_type": "display_data",
          "data": {
            "text/html": [
              "\n",
              "                Logging results to <a href=\"https://wandb.com\" target=\"_blank\">Weights & Biases</a> <a href=\"https://docs.wandb.com/integrations/jupyter.html\" target=\"_blank\">(Documentation)</a>.<br/>\n",
              "                Project page: <a href=\"https://app.wandb.ai/igodfried/covid-forecast\" target=\"_blank\">https://app.wandb.ai/igodfried/covid-forecast</a><br/>\n",
              "                Run page: <a href=\"https://app.wandb.ai/igodfried/covid-forecast/runs/6lgehgg0\" target=\"_blank\">https://app.wandb.ai/igodfried/covid-forecast/runs/6lgehgg0</a><br/>\n",
              "            "
            ],
            "text/plain": [
              "<IPython.core.display.HTML object>"
            ]
          },
          "metadata": {
            "tags": []
          }
        },
        {
          "output_type": "stream",
          "text": [
            "Torch is using cpu\n",
            "The running loss is:\n",
            "7.6697259191423655\n",
            "The number of items in train is: \n",
            "32\n",
            "The loss for epoch 0\n",
            "0.23967893497319892\n",
            "The running loss is:\n",
            "37.96821307018399\n",
            "The number of items in train is: \n",
            "32\n",
            "The loss for epoch 1\n",
            "1.1865066584432498\n",
            "The running loss is:\n",
            "12.867059556767344\n",
            "The number of items in train is: \n",
            "32\n",
            "The loss for epoch 2\n",
            "0.4020956111489795\n",
            "The running loss is:\n",
            "25.48514431528747\n",
            "The number of items in train is: \n",
            "32\n",
            "The loss for epoch 3\n",
            "0.7964107598527335\n",
            "The running loss is:\n",
            "11.341065876185894\n",
            "The number of items in train is: \n",
            "32\n",
            "The loss for epoch 4\n",
            "0.3544083086308092\n",
            "The running loss is:\n",
            "24.40359308384359\n",
            "The number of items in train is: \n",
            "32\n",
            "The loss for epoch 5\n",
            "0.7626122838701122\n",
            "The running loss is:\n",
            "10.748747183941305\n",
            "The number of items in train is: \n",
            "32\n",
            "The loss for epoch 6\n",
            "0.33589834949816577\n",
            "The running loss is:\n",
            "15.834405758418143\n",
            "The number of items in train is: \n",
            "32\n",
            "The loss for epoch 7\n",
            "0.49482517995056696\n",
            "The running loss is:\n",
            "8.714372392743826\n",
            "The number of items in train is: \n",
            "32\n",
            "The loss for epoch 8\n",
            "0.27232413727324456\n",
            "The running loss is:\n",
            "13.327436484396458\n",
            "The number of items in train is: \n",
            "32\n",
            "The loss for epoch 9\n",
            "0.4164823901373893\n",
            "interpolate should be below\n",
            "Now loading and scaling antwerp.csv\n",
            "CSV Path below\n",
            "antwerp.csv\n",
            "torch.Size([1, 4, 3])\n",
            "Add debugging crap below\n"
          ],
          "name": "stdout"
        },
        {
          "output_type": "stream",
          "text": [
            "/content/github_aistream-peelout_flow-forecast/flood_forecast/evaluator.py:136: SettingWithCopyWarning: \n",
            "A value is trying to be set on a copy of a slice from a DataFrame.\n",
            "Try using .loc[row_indexer,col_indexer] = value instead\n",
            "\n",
            "See the caveats in the documentation: https://pandas.pydata.org/pandas-docs/stable/user_guide/indexing.html#returning-a-view-versus-a-copy\n",
            "  df['preds'] = 0\n",
            "/content/github_aistream-peelout_flow-forecast/flood_forecast/evaluator.py:137: SettingWithCopyWarning: \n",
            "A value is trying to be set on a copy of a slice from a DataFrame\n",
            "\n",
            "See the caveats in the documentation: https://pandas.pydata.org/pandas-docs/stable/user_guide/indexing.html#returning-a-view-versus-a-copy\n",
            "  df['preds'][history_length:] = end_tensor.numpy().tolist()\n",
            "/usr/local/lib/python3.6/dist-packages/pandas/core/series.py:1042: SettingWithCopyWarning: \n",
            "A value is trying to be set on a copy of a slice from a DataFrame\n",
            "\n",
            "See the caveats in the documentation: https://pandas.pydata.org/pandas-docs/stable/user_guide/indexing.html#returning-a-view-versus-a-copy\n",
            "  self._set_with(key, value)\n",
            "/content/github_aistream-peelout_flow-forecast/flood_forecast/evaluator.py:59: SettingWithCopyWarning: \n",
            "A value is trying to be set on a copy of a slice from a DataFrame\n",
            "\n",
            "See the caveats in the documentation: https://pandas.pydata.org/pandas-docs/stable/user_guide/indexing.html#returning-a-view-versus-a-copy\n",
            "  df, end_tensor, forecast_history, junk, test_data = infer_on_torch_model(model, **inference_params)\n"
          ],
          "name": "stderr"
        },
        {
          "output_type": "stream",
          "text": [
            "torch.Size([10])\n",
            "test_data scale\n",
            "Un-transforming data\n"
          ],
          "name": "stdout"
        },
        {
          "output_type": "stream",
          "text": [
            "/content/github_aistream-peelout_flow-forecast/flood_forecast/evaluator.py:67: SettingWithCopyWarning: \n",
            "A value is trying to be set on a copy of a slice from a DataFrame\n",
            "\n",
            "See the caveats in the documentation: https://pandas.pydata.org/pandas-docs/stable/user_guide/indexing.html#returning-a-view-versus-a-copy\n",
            "  df['preds'][history_length:] = end_tensor_list\n",
            "/content/github_aistream-peelout_flow-forecast/flood_forecast/trainer.py:30: SettingWithCopyWarning: \n",
            "A value is trying to be set on a copy of a slice from a DataFrame\n",
            "\n",
            "See the caveats in the documentation: https://pandas.pydata.org/pandas-docs/stable/user_guide/indexing.html#returning-a-view-versus-a-copy\n",
            "  test_acc = evaluate_model(trained_model, model_type, params[\"dataset_params\"][\"target_col\"], params[\"metrics\"], params[\"inference_params\"], {})\n"
          ],
          "name": "stderr"
        },
        {
          "output_type": "stream",
          "text": [
            "Current historical dataframe\n",
            "    Unnamed: 0                        name  ... original_index       preds\n",
            "86          86  Antwerp, Flanders, Belgium  ...             86    0.000000\n",
            "87          87  Antwerp, Flanders, Belgium  ...             87    0.000000\n",
            "88          88  Antwerp, Flanders, Belgium  ...             88    0.000000\n",
            "89          89  Antwerp, Flanders, Belgium  ...             89    0.000000\n",
            "90          90  Antwerp, Flanders, Belgium  ...             90  112.782478\n",
            "91          91  Antwerp, Flanders, Belgium  ...             91  106.982094\n",
            "92          92  Antwerp, Flanders, Belgium  ...             92  104.220634\n",
            "93          93  Antwerp, Flanders, Belgium  ...             93  103.812248\n",
            "94          94  Antwerp, Flanders, Belgium  ...             94   96.546860\n",
            "95          95  Antwerp, Flanders, Belgium  ...             95   98.490540\n",
            "96          96  Antwerp, Flanders, Belgium  ...             96  101.250137\n",
            "97          97  Antwerp, Flanders, Belgium  ...             97   93.525597\n",
            "98          98  Antwerp, Flanders, Belgium  ...             98   91.633041\n",
            "99          99  Antwerp, Flanders, Belgium  ...             99   92.601295\n",
            "\n",
            "[14 rows x 32 columns]\n"
          ],
          "name": "stdout"
        },
        {
          "output_type": "stream",
          "text": [
            "/usr/local/lib/python3.6/dist-packages/plotly/matplotlylib/mpltools.py:368: MatplotlibDeprecationWarning:\n",
            "\n",
            "\n",
            "The is_frame_like function was deprecated in Matplotlib 3.1 and will be removed in 3.3.\n",
            "\n",
            "/usr/local/lib/python3.6/dist-packages/plotly/matplotlylib/renderer.py:410: UserWarning:\n",
            "\n",
            "Bummer! Plotly can currently only draw Line2D objects from matplotlib that are in 'data' coordinates!\n",
            "\n",
            "/usr/local/lib/python3.6/dist-packages/plotly/matplotlylib/renderer.py:512: UserWarning:\n",
            "\n",
            "I found a path object that I don't think is part of a bar chart. Ignoring.\n",
            "\n",
            "/usr/local/lib/python3.6/dist-packages/plotly/matplotlylib/mpltools.py:368: MatplotlibDeprecationWarning:\n",
            "\n",
            "\n",
            "The is_frame_like function was deprecated in Matplotlib 3.1 and will be removed in 3.3.\n",
            "\n",
            "/usr/local/lib/python3.6/dist-packages/plotly/matplotlylib/renderer.py:410: UserWarning:\n",
            "\n",
            "Bummer! Plotly can currently only draw Line2D objects from matplotlib that are in 'data' coordinates!\n",
            "\n",
            "/usr/local/lib/python3.6/dist-packages/plotly/matplotlylib/renderer.py:512: UserWarning:\n",
            "\n",
            "I found a path object that I don't think is part of a bar chart. Ignoring.\n",
            "\n"
          ],
          "name": "stderr"
        },
        {
          "output_type": "stream",
          "text": [
            "wandb: Agent Finished Run: cok8djrp \n",
            "\n",
            "wandb: Agent Starting Run: bppv32v7 with config:\n",
            "\tbatch_size: 2\n",
            "\tforecast_history: 4\n",
            "\tlr: 0.01\n",
            "\tout_seq_length: 1\n",
            "wandb: Agent Started Run: bppv32v7\n"
          ],
          "name": "stdout"
        },
        {
          "output_type": "display_data",
          "data": {
            "text/html": [
              "\n",
              "                Logging results to <a href=\"https://wandb.com\" target=\"_blank\">Weights & Biases</a> <a href=\"https://docs.wandb.com/integrations/jupyter.html\" target=\"_blank\">(Documentation)</a>.<br/>\n",
              "                Project page: <a href=\"https://app.wandb.ai/igodfried/covid-forecast\" target=\"_blank\">https://app.wandb.ai/igodfried/covid-forecast</a><br/>\n",
              "                Sweep page: <a href=\"https://app.wandb.ai/igodfried/covid-forecast/sweeps/yw9zbqtn\" target=\"_blank\">https://app.wandb.ai/igodfried/covid-forecast/sweeps/yw9zbqtn</a><br/>\n",
              "Run page: <a href=\"https://app.wandb.ai/igodfried/covid-forecast/runs/bppv32v7\" target=\"_blank\">https://app.wandb.ai/igodfried/covid-forecast/runs/bppv32v7</a><br/>\n",
              "            "
            ],
            "text/plain": [
              "<IPython.core.display.HTML object>"
            ]
          },
          "metadata": {
            "tags": []
          }
        },
        {
          "output_type": "stream",
          "text": [
            "{'model_name': 'MultiAttnHeadSimple', 'model_type': 'PyTorch', 'model_params': {'number_time_series': 3, 'seq_len': 4, 'output_seq_len': 1, 'forecast_length': 1}, 'dataset_params': {'class': 'default', 'training_path': 'antwerp.csv', 'validation_path': 'antwerp.csv', 'test_path': 'antwerp.csv', 'batch_size': 2, 'forecast_history': 4, 'forecast_length': 1, 'train_end': 71, 'valid_start': 72, 'valid_end': 91, 'target_col': ['new_cases'], 'relevant_cols': ['new_cases', 'month', 'weekday'], 'scaler': 'StandardScaler', 'interpolate': False}, 'training_params': {'criterion': 'MSE', 'optimizer': 'Adam', 'optim_params': {}, 'lr': 0.01, 'epochs': 10, 'batch_size': 2}, 'GCS': False, 'wandb': {'name': 'multihead_pytorch_antwerp', 'tags': ['covid_run', 'circleci'], 'project': 'covid-forecast'}, 'forward_params': {}, 'metrics': ['MSE'], 'inference_params': {'datetime_start': '2020-04-21', 'hours_to_forecast': 10, 'test_csv_path': 'antwerp.csv', 'decoder_params': {'decoder_function': 'simple_decode', 'unsqueeze_dim': 1}, 'dataset_params': {'file_path': 'antwerp.csv', 'forecast_history': 4, 'forecast_length': 1, 'relevant_cols': ['new_cases', 'month', 'weekday'], 'target_col': ['new_cases'], 'scaling': 'StandardScaler', 'interpolate_param': False}}}\n",
            "interpolate should be below\n",
            "Now loading and scaling antwerp.csv\n",
            "interpolate should be below\n",
            "Now loading and scaling antwerp.csv\n",
            "interpolate should be below\n",
            "Now loading and scaling antwerp.csv\n"
          ],
          "name": "stdout"
        },
        {
          "output_type": "display_data",
          "data": {
            "text/html": [
              "\n",
              "                Logging results to <a href=\"https://wandb.com\" target=\"_blank\">Weights & Biases</a> <a href=\"https://docs.wandb.com/integrations/jupyter.html\" target=\"_blank\">(Documentation)</a>.<br/>\n",
              "                Project page: <a href=\"https://app.wandb.ai/igodfried/covid-forecast\" target=\"_blank\">https://app.wandb.ai/igodfried/covid-forecast</a><br/>\n",
              "                Run page: <a href=\"https://app.wandb.ai/igodfried/covid-forecast/runs/2infhrjw\" target=\"_blank\">https://app.wandb.ai/igodfried/covid-forecast/runs/2infhrjw</a><br/>\n",
              "            "
            ],
            "text/plain": [
              "<IPython.core.display.HTML object>"
            ]
          },
          "metadata": {
            "tags": []
          }
        },
        {
          "output_type": "stream",
          "text": [
            "Torch is using cpu\n",
            "The running loss is:\n",
            "13.547936960821971\n",
            "The number of items in train is: \n",
            "33\n",
            "The loss for epoch 0\n",
            "0.41054354426733247\n",
            "The running loss is:\n",
            "26.5433846085798\n",
            "The number of items in train is: \n",
            "33\n",
            "The loss for epoch 1\n",
            "0.8043449881387819\n",
            "The running loss is:\n",
            "14.103622088208795\n",
            "The number of items in train is: \n",
            "33\n",
            "The loss for epoch 2\n",
            "0.4273824875214786\n",
            "The running loss is:\n",
            "9.100044154096395\n",
            "The number of items in train is: \n",
            "33\n",
            "The loss for epoch 3\n",
            "0.2757589137604968\n",
            "The running loss is:\n",
            "14.748382066725753\n",
            "The number of items in train is: \n",
            "33\n",
            "The loss for epoch 4\n",
            "0.4469206686886592\n",
            "The running loss is:\n",
            "11.233333861382562\n",
            "The number of items in train is: \n",
            "33\n",
            "The loss for epoch 5\n",
            "0.3404040564055322\n",
            "The running loss is:\n",
            "21.369321470090654\n",
            "The number of items in train is: \n",
            "33\n",
            "The loss for epoch 6\n",
            "0.6475551960633531\n",
            "The running loss is:\n",
            "7.361885572201572\n",
            "The number of items in train is: \n",
            "33\n",
            "The loss for epoch 7\n",
            "0.22308744158186583\n",
            "The running loss is:\n",
            "8.053950862027705\n",
            "The number of items in train is: \n",
            "33\n",
            "The loss for epoch 8\n",
            "0.24405911703114258\n",
            "The running loss is:\n",
            "11.17254789127037\n",
            "The number of items in train is: \n",
            "33\n",
            "The loss for epoch 9\n",
            "0.3385620573112233\n",
            "interpolate should be below\n",
            "Now loading and scaling antwerp.csv\n",
            "CSV Path below\n",
            "antwerp.csv\n",
            "torch.Size([1, 4, 3])\n",
            "Add debugging crap below\n"
          ],
          "name": "stdout"
        },
        {
          "output_type": "stream",
          "text": [
            "/content/github_aistream-peelout_flow-forecast/flood_forecast/evaluator.py:136: SettingWithCopyWarning: \n",
            "A value is trying to be set on a copy of a slice from a DataFrame.\n",
            "Try using .loc[row_indexer,col_indexer] = value instead\n",
            "\n",
            "See the caveats in the documentation: https://pandas.pydata.org/pandas-docs/stable/user_guide/indexing.html#returning-a-view-versus-a-copy\n",
            "  df['preds'] = 0\n",
            "/content/github_aistream-peelout_flow-forecast/flood_forecast/evaluator.py:137: SettingWithCopyWarning: \n",
            "A value is trying to be set on a copy of a slice from a DataFrame\n",
            "\n",
            "See the caveats in the documentation: https://pandas.pydata.org/pandas-docs/stable/user_guide/indexing.html#returning-a-view-versus-a-copy\n",
            "  df['preds'][history_length:] = end_tensor.numpy().tolist()\n",
            "/usr/local/lib/python3.6/dist-packages/pandas/core/series.py:1042: SettingWithCopyWarning: \n",
            "A value is trying to be set on a copy of a slice from a DataFrame\n",
            "\n",
            "See the caveats in the documentation: https://pandas.pydata.org/pandas-docs/stable/user_guide/indexing.html#returning-a-view-versus-a-copy\n",
            "  self._set_with(key, value)\n",
            "/content/github_aistream-peelout_flow-forecast/flood_forecast/evaluator.py:59: SettingWithCopyWarning: \n",
            "A value is trying to be set on a copy of a slice from a DataFrame\n",
            "\n",
            "See the caveats in the documentation: https://pandas.pydata.org/pandas-docs/stable/user_guide/indexing.html#returning-a-view-versus-a-copy\n",
            "  df, end_tensor, forecast_history, junk, test_data = infer_on_torch_model(model, **inference_params)\n"
          ],
          "name": "stderr"
        },
        {
          "output_type": "stream",
          "text": [
            "torch.Size([10])\n",
            "test_data scale\n",
            "Un-transforming data\n"
          ],
          "name": "stdout"
        },
        {
          "output_type": "stream",
          "text": [
            "/content/github_aistream-peelout_flow-forecast/flood_forecast/evaluator.py:67: SettingWithCopyWarning: \n",
            "A value is trying to be set on a copy of a slice from a DataFrame\n",
            "\n",
            "See the caveats in the documentation: https://pandas.pydata.org/pandas-docs/stable/user_guide/indexing.html#returning-a-view-versus-a-copy\n",
            "  df['preds'][history_length:] = end_tensor_list\n",
            "/content/github_aistream-peelout_flow-forecast/flood_forecast/trainer.py:30: SettingWithCopyWarning: \n",
            "A value is trying to be set on a copy of a slice from a DataFrame\n",
            "\n",
            "See the caveats in the documentation: https://pandas.pydata.org/pandas-docs/stable/user_guide/indexing.html#returning-a-view-versus-a-copy\n",
            "  test_acc = evaluate_model(trained_model, model_type, params[\"dataset_params\"][\"target_col\"], params[\"metrics\"], params[\"inference_params\"], {})\n"
          ],
          "name": "stderr"
        },
        {
          "output_type": "stream",
          "text": [
            "Current historical dataframe\n",
            "    Unnamed: 0                        name  ... original_index       preds\n",
            "86          86  Antwerp, Flanders, Belgium  ...             86    0.000000\n",
            "87          87  Antwerp, Flanders, Belgium  ...             87    0.000000\n",
            "88          88  Antwerp, Flanders, Belgium  ...             88    0.000000\n",
            "89          89  Antwerp, Flanders, Belgium  ...             89    0.000000\n",
            "90          90  Antwerp, Flanders, Belgium  ...             90  125.017883\n",
            "91          91  Antwerp, Flanders, Belgium  ...             91  123.411812\n",
            "92          92  Antwerp, Flanders, Belgium  ...             92  125.127426\n",
            "93          93  Antwerp, Flanders, Belgium  ...             93  125.062477\n",
            "94          94  Antwerp, Flanders, Belgium  ...             94  115.939461\n",
            "95          95  Antwerp, Flanders, Belgium  ...             95  121.196037\n",
            "96          96  Antwerp, Flanders, Belgium  ...             96  127.404915\n",
            "97          97  Antwerp, Flanders, Belgium  ...             97  114.615707\n",
            "98          98  Antwerp, Flanders, Belgium  ...             98  110.940880\n",
            "99          99  Antwerp, Flanders, Belgium  ...             99  107.993706\n",
            "\n",
            "[14 rows x 32 columns]\n"
          ],
          "name": "stdout"
        },
        {
          "output_type": "stream",
          "text": [
            "/usr/local/lib/python3.6/dist-packages/plotly/matplotlylib/mpltools.py:368: MatplotlibDeprecationWarning:\n",
            "\n",
            "\n",
            "The is_frame_like function was deprecated in Matplotlib 3.1 and will be removed in 3.3.\n",
            "\n",
            "/usr/local/lib/python3.6/dist-packages/plotly/matplotlylib/renderer.py:410: UserWarning:\n",
            "\n",
            "Bummer! Plotly can currently only draw Line2D objects from matplotlib that are in 'data' coordinates!\n",
            "\n",
            "/usr/local/lib/python3.6/dist-packages/plotly/matplotlylib/renderer.py:512: UserWarning:\n",
            "\n",
            "I found a path object that I don't think is part of a bar chart. Ignoring.\n",
            "\n",
            "/usr/local/lib/python3.6/dist-packages/plotly/matplotlylib/mpltools.py:368: MatplotlibDeprecationWarning:\n",
            "\n",
            "\n",
            "The is_frame_like function was deprecated in Matplotlib 3.1 and will be removed in 3.3.\n",
            "\n",
            "/usr/local/lib/python3.6/dist-packages/plotly/matplotlylib/renderer.py:410: UserWarning:\n",
            "\n",
            "Bummer! Plotly can currently only draw Line2D objects from matplotlib that are in 'data' coordinates!\n",
            "\n",
            "/usr/local/lib/python3.6/dist-packages/plotly/matplotlylib/renderer.py:512: UserWarning:\n",
            "\n",
            "I found a path object that I don't think is part of a bar chart. Ignoring.\n",
            "\n"
          ],
          "name": "stderr"
        },
        {
          "output_type": "stream",
          "text": [
            "wandb: Agent Finished Run: bppv32v7 \n",
            "\n",
            "wandb: Agent Starting Run: 4tz4kpt6 with config:\n",
            "\tbatch_size: 2\n",
            "\tforecast_history: 4\n",
            "\tlr: 0.01\n",
            "\tout_seq_length: 2\n",
            "wandb: Agent Started Run: 4tz4kpt6\n"
          ],
          "name": "stdout"
        },
        {
          "output_type": "display_data",
          "data": {
            "text/html": [
              "\n",
              "                Logging results to <a href=\"https://wandb.com\" target=\"_blank\">Weights & Biases</a> <a href=\"https://docs.wandb.com/integrations/jupyter.html\" target=\"_blank\">(Documentation)</a>.<br/>\n",
              "                Project page: <a href=\"https://app.wandb.ai/igodfried/covid-forecast\" target=\"_blank\">https://app.wandb.ai/igodfried/covid-forecast</a><br/>\n",
              "                Sweep page: <a href=\"https://app.wandb.ai/igodfried/covid-forecast/sweeps/yw9zbqtn\" target=\"_blank\">https://app.wandb.ai/igodfried/covid-forecast/sweeps/yw9zbqtn</a><br/>\n",
              "Run page: <a href=\"https://app.wandb.ai/igodfried/covid-forecast/runs/4tz4kpt6\" target=\"_blank\">https://app.wandb.ai/igodfried/covid-forecast/runs/4tz4kpt6</a><br/>\n",
              "            "
            ],
            "text/plain": [
              "<IPython.core.display.HTML object>"
            ]
          },
          "metadata": {
            "tags": []
          }
        },
        {
          "output_type": "stream",
          "text": [
            "{'model_name': 'MultiAttnHeadSimple', 'model_type': 'PyTorch', 'model_params': {'number_time_series': 3, 'seq_len': 4, 'output_seq_len': 2, 'forecast_length': 2}, 'dataset_params': {'class': 'default', 'training_path': 'antwerp.csv', 'validation_path': 'antwerp.csv', 'test_path': 'antwerp.csv', 'batch_size': 2, 'forecast_history': 4, 'forecast_length': 2, 'train_end': 71, 'valid_start': 72, 'valid_end': 91, 'target_col': ['new_cases'], 'relevant_cols': ['new_cases', 'month', 'weekday'], 'scaler': 'StandardScaler', 'interpolate': False}, 'training_params': {'criterion': 'MSE', 'optimizer': 'Adam', 'optim_params': {}, 'lr': 0.01, 'epochs': 10, 'batch_size': 2}, 'GCS': False, 'wandb': {'name': 'multihead_pytorch_antwerp', 'tags': ['covid_run', 'circleci'], 'project': 'covid-forecast'}, 'forward_params': {}, 'metrics': ['MSE'], 'inference_params': {'datetime_start': '2020-04-21', 'hours_to_forecast': 10, 'test_csv_path': 'antwerp.csv', 'decoder_params': {'decoder_function': 'simple_decode', 'unsqueeze_dim': 1}, 'dataset_params': {'file_path': 'antwerp.csv', 'forecast_history': 4, 'forecast_length': 2, 'relevant_cols': ['new_cases', 'month', 'weekday'], 'target_col': ['new_cases'], 'scaling': 'StandardScaler', 'interpolate_param': False}}}\n",
            "interpolate should be below\n",
            "Now loading and scaling antwerp.csv\n",
            "interpolate should be below\n",
            "Now loading and scaling antwerp.csv\n",
            "interpolate should be below\n",
            "Now loading and scaling antwerp.csv\n"
          ],
          "name": "stdout"
        },
        {
          "output_type": "display_data",
          "data": {
            "text/html": [
              "\n",
              "                Logging results to <a href=\"https://wandb.com\" target=\"_blank\">Weights & Biases</a> <a href=\"https://docs.wandb.com/integrations/jupyter.html\" target=\"_blank\">(Documentation)</a>.<br/>\n",
              "                Project page: <a href=\"https://app.wandb.ai/igodfried/covid-forecast\" target=\"_blank\">https://app.wandb.ai/igodfried/covid-forecast</a><br/>\n",
              "                Run page: <a href=\"https://app.wandb.ai/igodfried/covid-forecast/runs/146h292j\" target=\"_blank\">https://app.wandb.ai/igodfried/covid-forecast/runs/146h292j</a><br/>\n",
              "            "
            ],
            "text/plain": [
              "<IPython.core.display.HTML object>"
            ]
          },
          "metadata": {
            "tags": []
          }
        },
        {
          "output_type": "stream",
          "text": [
            "Torch is using cpu\n",
            "The running loss is:\n",
            "9.96654413593933\n",
            "The number of items in train is: \n",
            "32\n",
            "The loss for epoch 0\n",
            "0.31145450424810406\n",
            "The running loss is:\n",
            "28.999742947518826\n",
            "The number of items in train is: \n",
            "32\n",
            "The loss for epoch 1\n",
            "0.9062419671099633\n",
            "The running loss is:\n",
            "7.978736505378038\n",
            "The number of items in train is: \n",
            "32\n",
            "The loss for epoch 2\n",
            "0.24933551579306368\n",
            "The running loss is:\n",
            "16.54671422811225\n",
            "The number of items in train is: \n",
            "32\n",
            "The loss for epoch 3\n",
            "0.5170848196285078\n",
            "The running loss is:\n",
            "9.03373872069642\n",
            "The number of items in train is: \n",
            "32\n",
            "The loss for epoch 4\n",
            "0.2823043350217631\n",
            "The running loss is:\n",
            "23.664487095782533\n",
            "The number of items in train is: \n",
            "32\n",
            "The loss for epoch 5\n",
            "0.7395152217432042\n",
            "The running loss is:\n",
            "9.5151820583269\n",
            "The number of items in train is: \n",
            "32\n",
            "The loss for epoch 6\n",
            "0.2973494393227156\n",
            "The running loss is:\n",
            "7.392919855192304\n",
            "The number of items in train is: \n",
            "32\n",
            "The loss for epoch 7\n",
            "0.2310287454747595\n",
            "The running loss is:\n",
            "13.802258587442338\n",
            "The number of items in train is: \n",
            "32\n",
            "The loss for epoch 8\n",
            "0.4313205808575731\n",
            "The running loss is:\n",
            "6.292614362668246\n",
            "The number of items in train is: \n",
            "32\n",
            "The loss for epoch 9\n",
            "0.1966441988333827\n",
            "interpolate should be below\n",
            "Now loading and scaling antwerp.csv\n",
            "CSV Path below\n",
            "antwerp.csv\n",
            "torch.Size([1, 4, 3])\n",
            "Add debugging crap below\n"
          ],
          "name": "stdout"
        },
        {
          "output_type": "stream",
          "text": [
            "/content/github_aistream-peelout_flow-forecast/flood_forecast/evaluator.py:136: SettingWithCopyWarning: \n",
            "A value is trying to be set on a copy of a slice from a DataFrame.\n",
            "Try using .loc[row_indexer,col_indexer] = value instead\n",
            "\n",
            "See the caveats in the documentation: https://pandas.pydata.org/pandas-docs/stable/user_guide/indexing.html#returning-a-view-versus-a-copy\n",
            "  df['preds'] = 0\n",
            "/content/github_aistream-peelout_flow-forecast/flood_forecast/evaluator.py:137: SettingWithCopyWarning: \n",
            "A value is trying to be set on a copy of a slice from a DataFrame\n",
            "\n",
            "See the caveats in the documentation: https://pandas.pydata.org/pandas-docs/stable/user_guide/indexing.html#returning-a-view-versus-a-copy\n",
            "  df['preds'][history_length:] = end_tensor.numpy().tolist()\n",
            "/usr/local/lib/python3.6/dist-packages/pandas/core/series.py:1042: SettingWithCopyWarning: \n",
            "A value is trying to be set on a copy of a slice from a DataFrame\n",
            "\n",
            "See the caveats in the documentation: https://pandas.pydata.org/pandas-docs/stable/user_guide/indexing.html#returning-a-view-versus-a-copy\n",
            "  self._set_with(key, value)\n",
            "/content/github_aistream-peelout_flow-forecast/flood_forecast/evaluator.py:59: SettingWithCopyWarning: \n",
            "A value is trying to be set on a copy of a slice from a DataFrame\n",
            "\n",
            "See the caveats in the documentation: https://pandas.pydata.org/pandas-docs/stable/user_guide/indexing.html#returning-a-view-versus-a-copy\n",
            "  df, end_tensor, forecast_history, junk, test_data = infer_on_torch_model(model, **inference_params)\n"
          ],
          "name": "stderr"
        },
        {
          "output_type": "stream",
          "text": [
            "torch.Size([10])\n",
            "test_data scale\n",
            "Un-transforming data\n"
          ],
          "name": "stdout"
        },
        {
          "output_type": "stream",
          "text": [
            "/content/github_aistream-peelout_flow-forecast/flood_forecast/evaluator.py:67: SettingWithCopyWarning: \n",
            "A value is trying to be set on a copy of a slice from a DataFrame\n",
            "\n",
            "See the caveats in the documentation: https://pandas.pydata.org/pandas-docs/stable/user_guide/indexing.html#returning-a-view-versus-a-copy\n",
            "  df['preds'][history_length:] = end_tensor_list\n",
            "/content/github_aistream-peelout_flow-forecast/flood_forecast/trainer.py:30: SettingWithCopyWarning: \n",
            "A value is trying to be set on a copy of a slice from a DataFrame\n",
            "\n",
            "See the caveats in the documentation: https://pandas.pydata.org/pandas-docs/stable/user_guide/indexing.html#returning-a-view-versus-a-copy\n",
            "  test_acc = evaluate_model(trained_model, model_type, params[\"dataset_params\"][\"target_col\"], params[\"metrics\"], params[\"inference_params\"], {})\n"
          ],
          "name": "stderr"
        },
        {
          "output_type": "stream",
          "text": [
            "Current historical dataframe\n",
            "    Unnamed: 0                        name  ... original_index       preds\n",
            "86          86  Antwerp, Flanders, Belgium  ...             86    0.000000\n",
            "87          87  Antwerp, Flanders, Belgium  ...             87    0.000000\n",
            "88          88  Antwerp, Flanders, Belgium  ...             88    0.000000\n",
            "89          89  Antwerp, Flanders, Belgium  ...             89    0.000000\n",
            "90          90  Antwerp, Flanders, Belgium  ...             90  164.089966\n",
            "91          91  Antwerp, Flanders, Belgium  ...             91  161.481049\n",
            "92          92  Antwerp, Flanders, Belgium  ...             92  161.767853\n",
            "93          93  Antwerp, Flanders, Belgium  ...             93  162.047974\n",
            "94          94  Antwerp, Flanders, Belgium  ...             94  165.752609\n",
            "95          95  Antwerp, Flanders, Belgium  ...             95  170.131912\n",
            "96          96  Antwerp, Flanders, Belgium  ...             96  176.269791\n",
            "97          97  Antwerp, Flanders, Belgium  ...             97  175.326233\n",
            "98          98  Antwerp, Flanders, Belgium  ...             98  177.572510\n",
            "99          99  Antwerp, Flanders, Belgium  ...             99  179.625351\n",
            "\n",
            "[14 rows x 32 columns]\n"
          ],
          "name": "stdout"
        },
        {
          "output_type": "stream",
          "text": [
            "/usr/local/lib/python3.6/dist-packages/plotly/matplotlylib/mpltools.py:368: MatplotlibDeprecationWarning:\n",
            "\n",
            "\n",
            "The is_frame_like function was deprecated in Matplotlib 3.1 and will be removed in 3.3.\n",
            "\n",
            "/usr/local/lib/python3.6/dist-packages/plotly/matplotlylib/renderer.py:410: UserWarning:\n",
            "\n",
            "Bummer! Plotly can currently only draw Line2D objects from matplotlib that are in 'data' coordinates!\n",
            "\n",
            "/usr/local/lib/python3.6/dist-packages/plotly/matplotlylib/renderer.py:512: UserWarning:\n",
            "\n",
            "I found a path object that I don't think is part of a bar chart. Ignoring.\n",
            "\n",
            "/usr/local/lib/python3.6/dist-packages/plotly/matplotlylib/mpltools.py:368: MatplotlibDeprecationWarning:\n",
            "\n",
            "\n",
            "The is_frame_like function was deprecated in Matplotlib 3.1 and will be removed in 3.3.\n",
            "\n",
            "/usr/local/lib/python3.6/dist-packages/plotly/matplotlylib/renderer.py:410: UserWarning:\n",
            "\n",
            "Bummer! Plotly can currently only draw Line2D objects from matplotlib that are in 'data' coordinates!\n",
            "\n",
            "/usr/local/lib/python3.6/dist-packages/plotly/matplotlylib/renderer.py:512: UserWarning:\n",
            "\n",
            "I found a path object that I don't think is part of a bar chart. Ignoring.\n",
            "\n"
          ],
          "name": "stderr"
        },
        {
          "output_type": "stream",
          "text": [
            "wandb: Agent Finished Run: 4tz4kpt6 \n",
            "\n",
            "wandb: Agent Starting Run: ln5wb2zx with config:\n",
            "\tbatch_size: 2\n",
            "\tforecast_history: 4\n",
            "\tlr: 0.01\n",
            "\tout_seq_length: 3\n",
            "wandb: Agent Started Run: ln5wb2zx\n"
          ],
          "name": "stdout"
        },
        {
          "output_type": "display_data",
          "data": {
            "text/html": [
              "\n",
              "                Logging results to <a href=\"https://wandb.com\" target=\"_blank\">Weights & Biases</a> <a href=\"https://docs.wandb.com/integrations/jupyter.html\" target=\"_blank\">(Documentation)</a>.<br/>\n",
              "                Project page: <a href=\"https://app.wandb.ai/igodfried/covid-forecast\" target=\"_blank\">https://app.wandb.ai/igodfried/covid-forecast</a><br/>\n",
              "                Sweep page: <a href=\"https://app.wandb.ai/igodfried/covid-forecast/sweeps/yw9zbqtn\" target=\"_blank\">https://app.wandb.ai/igodfried/covid-forecast/sweeps/yw9zbqtn</a><br/>\n",
              "Run page: <a href=\"https://app.wandb.ai/igodfried/covid-forecast/runs/ln5wb2zx\" target=\"_blank\">https://app.wandb.ai/igodfried/covid-forecast/runs/ln5wb2zx</a><br/>\n",
              "            "
            ],
            "text/plain": [
              "<IPython.core.display.HTML object>"
            ]
          },
          "metadata": {
            "tags": []
          }
        },
        {
          "output_type": "stream",
          "text": [
            "{'model_name': 'MultiAttnHeadSimple', 'model_type': 'PyTorch', 'model_params': {'number_time_series': 3, 'seq_len': 4, 'output_seq_len': 3, 'forecast_length': 3}, 'dataset_params': {'class': 'default', 'training_path': 'antwerp.csv', 'validation_path': 'antwerp.csv', 'test_path': 'antwerp.csv', 'batch_size': 2, 'forecast_history': 4, 'forecast_length': 3, 'train_end': 71, 'valid_start': 72, 'valid_end': 91, 'target_col': ['new_cases'], 'relevant_cols': ['new_cases', 'month', 'weekday'], 'scaler': 'StandardScaler', 'interpolate': False}, 'training_params': {'criterion': 'MSE', 'optimizer': 'Adam', 'optim_params': {}, 'lr': 0.01, 'epochs': 10, 'batch_size': 2}, 'GCS': False, 'wandb': {'name': 'multihead_pytorch_antwerp', 'tags': ['covid_run', 'circleci'], 'project': 'covid-forecast'}, 'forward_params': {}, 'metrics': ['MSE'], 'inference_params': {'datetime_start': '2020-04-21', 'hours_to_forecast': 10, 'test_csv_path': 'antwerp.csv', 'decoder_params': {'decoder_function': 'simple_decode', 'unsqueeze_dim': 1}, 'dataset_params': {'file_path': 'antwerp.csv', 'forecast_history': 4, 'forecast_length': 3, 'relevant_cols': ['new_cases', 'month', 'weekday'], 'target_col': ['new_cases'], 'scaling': 'StandardScaler', 'interpolate_param': False}}}\n",
            "interpolate should be below\n",
            "Now loading and scaling antwerp.csv\n",
            "interpolate should be below\n",
            "Now loading and scaling antwerp.csv\n",
            "interpolate should be below\n",
            "Now loading and scaling antwerp.csv\n"
          ],
          "name": "stdout"
        },
        {
          "output_type": "display_data",
          "data": {
            "text/html": [
              "\n",
              "                Logging results to <a href=\"https://wandb.com\" target=\"_blank\">Weights & Biases</a> <a href=\"https://docs.wandb.com/integrations/jupyter.html\" target=\"_blank\">(Documentation)</a>.<br/>\n",
              "                Project page: <a href=\"https://app.wandb.ai/igodfried/covid-forecast\" target=\"_blank\">https://app.wandb.ai/igodfried/covid-forecast</a><br/>\n",
              "                Run page: <a href=\"https://app.wandb.ai/igodfried/covid-forecast/runs/z7hrbbhc\" target=\"_blank\">https://app.wandb.ai/igodfried/covid-forecast/runs/z7hrbbhc</a><br/>\n",
              "            "
            ],
            "text/plain": [
              "<IPython.core.display.HTML object>"
            ]
          },
          "metadata": {
            "tags": []
          }
        },
        {
          "output_type": "stream",
          "text": [
            "Torch is using cpu\n",
            "The running loss is:\n",
            "7.6697259191423655\n",
            "The number of items in train is: \n",
            "32\n",
            "The loss for epoch 0\n",
            "0.23967893497319892\n",
            "The running loss is:\n",
            "37.96821307018399\n",
            "The number of items in train is: \n",
            "32\n",
            "The loss for epoch 1\n",
            "1.1865066584432498\n",
            "The running loss is:\n",
            "12.867059556767344\n",
            "The number of items in train is: \n",
            "32\n",
            "The loss for epoch 2\n",
            "0.4020956111489795\n",
            "The running loss is:\n",
            "25.48514431528747\n",
            "The number of items in train is: \n",
            "32\n",
            "The loss for epoch 3\n",
            "0.7964107598527335\n",
            "The running loss is:\n",
            "11.341065876185894\n",
            "The number of items in train is: \n",
            "32\n",
            "The loss for epoch 4\n",
            "0.3544083086308092\n",
            "The running loss is:\n",
            "24.40359308384359\n",
            "The number of items in train is: \n",
            "32\n",
            "The loss for epoch 5\n",
            "0.7626122838701122\n",
            "The running loss is:\n",
            "10.748747183941305\n",
            "The number of items in train is: \n",
            "32\n",
            "The loss for epoch 6\n",
            "0.33589834949816577\n",
            "The running loss is:\n",
            "15.834405758418143\n",
            "The number of items in train is: \n",
            "32\n",
            "The loss for epoch 7\n",
            "0.49482517995056696\n",
            "The running loss is:\n",
            "8.714372392743826\n",
            "The number of items in train is: \n",
            "32\n",
            "The loss for epoch 8\n",
            "0.27232413727324456\n",
            "The running loss is:\n",
            "13.327436484396458\n",
            "The number of items in train is: \n",
            "32\n",
            "The loss for epoch 9\n",
            "0.4164823901373893\n",
            "interpolate should be below\n",
            "Now loading and scaling antwerp.csv\n",
            "CSV Path below\n",
            "antwerp.csv\n",
            "torch.Size([1, 4, 3])\n",
            "Add debugging crap below\n"
          ],
          "name": "stdout"
        },
        {
          "output_type": "stream",
          "text": [
            "/content/github_aistream-peelout_flow-forecast/flood_forecast/evaluator.py:136: SettingWithCopyWarning: \n",
            "A value is trying to be set on a copy of a slice from a DataFrame.\n",
            "Try using .loc[row_indexer,col_indexer] = value instead\n",
            "\n",
            "See the caveats in the documentation: https://pandas.pydata.org/pandas-docs/stable/user_guide/indexing.html#returning-a-view-versus-a-copy\n",
            "  df['preds'] = 0\n",
            "/content/github_aistream-peelout_flow-forecast/flood_forecast/evaluator.py:137: SettingWithCopyWarning: \n",
            "A value is trying to be set on a copy of a slice from a DataFrame\n",
            "\n",
            "See the caveats in the documentation: https://pandas.pydata.org/pandas-docs/stable/user_guide/indexing.html#returning-a-view-versus-a-copy\n",
            "  df['preds'][history_length:] = end_tensor.numpy().tolist()\n",
            "/usr/local/lib/python3.6/dist-packages/pandas/core/series.py:1042: SettingWithCopyWarning: \n",
            "A value is trying to be set on a copy of a slice from a DataFrame\n",
            "\n",
            "See the caveats in the documentation: https://pandas.pydata.org/pandas-docs/stable/user_guide/indexing.html#returning-a-view-versus-a-copy\n",
            "  self._set_with(key, value)\n",
            "/content/github_aistream-peelout_flow-forecast/flood_forecast/evaluator.py:59: SettingWithCopyWarning: \n",
            "A value is trying to be set on a copy of a slice from a DataFrame\n",
            "\n",
            "See the caveats in the documentation: https://pandas.pydata.org/pandas-docs/stable/user_guide/indexing.html#returning-a-view-versus-a-copy\n",
            "  df, end_tensor, forecast_history, junk, test_data = infer_on_torch_model(model, **inference_params)\n"
          ],
          "name": "stderr"
        },
        {
          "output_type": "stream",
          "text": [
            "torch.Size([10])\n",
            "test_data scale\n",
            "Un-transforming data\n"
          ],
          "name": "stdout"
        },
        {
          "output_type": "stream",
          "text": [
            "/content/github_aistream-peelout_flow-forecast/flood_forecast/evaluator.py:67: SettingWithCopyWarning: \n",
            "A value is trying to be set on a copy of a slice from a DataFrame\n",
            "\n",
            "See the caveats in the documentation: https://pandas.pydata.org/pandas-docs/stable/user_guide/indexing.html#returning-a-view-versus-a-copy\n",
            "  df['preds'][history_length:] = end_tensor_list\n",
            "/content/github_aistream-peelout_flow-forecast/flood_forecast/trainer.py:30: SettingWithCopyWarning: \n",
            "A value is trying to be set on a copy of a slice from a DataFrame\n",
            "\n",
            "See the caveats in the documentation: https://pandas.pydata.org/pandas-docs/stable/user_guide/indexing.html#returning-a-view-versus-a-copy\n",
            "  test_acc = evaluate_model(trained_model, model_type, params[\"dataset_params\"][\"target_col\"], params[\"metrics\"], params[\"inference_params\"], {})\n"
          ],
          "name": "stderr"
        },
        {
          "output_type": "stream",
          "text": [
            "Current historical dataframe\n",
            "    Unnamed: 0                        name  ... original_index       preds\n",
            "86          86  Antwerp, Flanders, Belgium  ...             86    0.000000\n",
            "87          87  Antwerp, Flanders, Belgium  ...             87    0.000000\n",
            "88          88  Antwerp, Flanders, Belgium  ...             88    0.000000\n",
            "89          89  Antwerp, Flanders, Belgium  ...             89    0.000000\n",
            "90          90  Antwerp, Flanders, Belgium  ...             90  112.782478\n",
            "91          91  Antwerp, Flanders, Belgium  ...             91  106.982094\n",
            "92          92  Antwerp, Flanders, Belgium  ...             92  104.220634\n",
            "93          93  Antwerp, Flanders, Belgium  ...             93  103.812248\n",
            "94          94  Antwerp, Flanders, Belgium  ...             94   96.546860\n",
            "95          95  Antwerp, Flanders, Belgium  ...             95   98.490540\n",
            "96          96  Antwerp, Flanders, Belgium  ...             96  101.250137\n",
            "97          97  Antwerp, Flanders, Belgium  ...             97   93.525597\n",
            "98          98  Antwerp, Flanders, Belgium  ...             98   91.633041\n",
            "99          99  Antwerp, Flanders, Belgium  ...             99   92.601295\n",
            "\n",
            "[14 rows x 32 columns]\n"
          ],
          "name": "stdout"
        },
        {
          "output_type": "stream",
          "text": [
            "/usr/local/lib/python3.6/dist-packages/plotly/matplotlylib/mpltools.py:368: MatplotlibDeprecationWarning:\n",
            "\n",
            "\n",
            "The is_frame_like function was deprecated in Matplotlib 3.1 and will be removed in 3.3.\n",
            "\n",
            "/usr/local/lib/python3.6/dist-packages/plotly/matplotlylib/renderer.py:410: UserWarning:\n",
            "\n",
            "Bummer! Plotly can currently only draw Line2D objects from matplotlib that are in 'data' coordinates!\n",
            "\n",
            "/usr/local/lib/python3.6/dist-packages/plotly/matplotlylib/renderer.py:512: UserWarning:\n",
            "\n",
            "I found a path object that I don't think is part of a bar chart. Ignoring.\n",
            "\n",
            "/usr/local/lib/python3.6/dist-packages/plotly/matplotlylib/mpltools.py:368: MatplotlibDeprecationWarning:\n",
            "\n",
            "\n",
            "The is_frame_like function was deprecated in Matplotlib 3.1 and will be removed in 3.3.\n",
            "\n",
            "/usr/local/lib/python3.6/dist-packages/plotly/matplotlylib/renderer.py:410: UserWarning:\n",
            "\n",
            "Bummer! Plotly can currently only draw Line2D objects from matplotlib that are in 'data' coordinates!\n",
            "\n",
            "/usr/local/lib/python3.6/dist-packages/plotly/matplotlylib/renderer.py:512: UserWarning:\n",
            "\n",
            "I found a path object that I don't think is part of a bar chart. Ignoring.\n",
            "\n"
          ],
          "name": "stderr"
        },
        {
          "output_type": "stream",
          "text": [
            "wandb: Agent Finished Run: ln5wb2zx \n",
            "\n",
            "wandb: Agent Starting Run: 05q1yi30 with config:\n",
            "\tbatch_size: 2\n",
            "\tforecast_history: 5\n",
            "\tlr: 0.001\n",
            "\tout_seq_length: 1\n",
            "wandb: Agent Started Run: 05q1yi30\n"
          ],
          "name": "stdout"
        },
        {
          "output_type": "display_data",
          "data": {
            "text/html": [
              "\n",
              "                Logging results to <a href=\"https://wandb.com\" target=\"_blank\">Weights & Biases</a> <a href=\"https://docs.wandb.com/integrations/jupyter.html\" target=\"_blank\">(Documentation)</a>.<br/>\n",
              "                Project page: <a href=\"https://app.wandb.ai/igodfried/covid-forecast\" target=\"_blank\">https://app.wandb.ai/igodfried/covid-forecast</a><br/>\n",
              "                Sweep page: <a href=\"https://app.wandb.ai/igodfried/covid-forecast/sweeps/yw9zbqtn\" target=\"_blank\">https://app.wandb.ai/igodfried/covid-forecast/sweeps/yw9zbqtn</a><br/>\n",
              "Run page: <a href=\"https://app.wandb.ai/igodfried/covid-forecast/runs/05q1yi30\" target=\"_blank\">https://app.wandb.ai/igodfried/covid-forecast/runs/05q1yi30</a><br/>\n",
              "            "
            ],
            "text/plain": [
              "<IPython.core.display.HTML object>"
            ]
          },
          "metadata": {
            "tags": []
          }
        },
        {
          "output_type": "stream",
          "text": [
            "{'model_name': 'MultiAttnHeadSimple', 'model_type': 'PyTorch', 'model_params': {'number_time_series': 3, 'seq_len': 5, 'output_seq_len': 1, 'forecast_length': 1}, 'dataset_params': {'class': 'default', 'training_path': 'antwerp.csv', 'validation_path': 'antwerp.csv', 'test_path': 'antwerp.csv', 'batch_size': 2, 'forecast_history': 5, 'forecast_length': 1, 'train_end': 71, 'valid_start': 72, 'valid_end': 91, 'target_col': ['new_cases'], 'relevant_cols': ['new_cases', 'month', 'weekday'], 'scaler': 'StandardScaler', 'interpolate': False}, 'training_params': {'criterion': 'MSE', 'optimizer': 'Adam', 'optim_params': {}, 'lr': 0.001, 'epochs': 10, 'batch_size': 2}, 'GCS': False, 'wandb': {'name': 'multihead_pytorch_antwerp', 'tags': ['covid_run', 'circleci'], 'project': 'covid-forecast'}, 'forward_params': {}, 'metrics': ['MSE'], 'inference_params': {'datetime_start': '2020-04-21', 'hours_to_forecast': 10, 'test_csv_path': 'antwerp.csv', 'decoder_params': {'decoder_function': 'simple_decode', 'unsqueeze_dim': 1}, 'dataset_params': {'file_path': 'antwerp.csv', 'forecast_history': 5, 'forecast_length': 1, 'relevant_cols': ['new_cases', 'month', 'weekday'], 'target_col': ['new_cases'], 'scaling': 'StandardScaler', 'interpolate_param': False}}}\n",
            "interpolate should be below\n",
            "Now loading and scaling antwerp.csv\n",
            "interpolate should be below\n",
            "Now loading and scaling antwerp.csv\n",
            "interpolate should be below\n",
            "Now loading and scaling antwerp.csv\n"
          ],
          "name": "stdout"
        },
        {
          "output_type": "display_data",
          "data": {
            "text/html": [
              "\n",
              "                Logging results to <a href=\"https://wandb.com\" target=\"_blank\">Weights & Biases</a> <a href=\"https://docs.wandb.com/integrations/jupyter.html\" target=\"_blank\">(Documentation)</a>.<br/>\n",
              "                Project page: <a href=\"https://app.wandb.ai/igodfried/covid-forecast\" target=\"_blank\">https://app.wandb.ai/igodfried/covid-forecast</a><br/>\n",
              "                Run page: <a href=\"https://app.wandb.ai/igodfried/covid-forecast/runs/e7dv6y6d\" target=\"_blank\">https://app.wandb.ai/igodfried/covid-forecast/runs/e7dv6y6d</a><br/>\n",
              "            "
            ],
            "text/plain": [
              "<IPython.core.display.HTML object>"
            ]
          },
          "metadata": {
            "tags": []
          }
        },
        {
          "output_type": "stream",
          "text": [
            "Torch is using cpu\n",
            "The running loss is:\n",
            "14.149641871917993\n",
            "The number of items in train is: \n",
            "32\n",
            "The loss for epoch 0\n",
            "0.4421763084974373\n",
            "The running loss is:\n",
            "19.153084758669138\n",
            "The number of items in train is: \n",
            "32\n",
            "The loss for epoch 1\n",
            "0.5985338987084106\n",
            "The running loss is:\n",
            "12.141699264757335\n",
            "The number of items in train is: \n",
            "32\n",
            "The loss for epoch 2\n",
            "0.3794281020236667\n",
            "The running loss is:\n",
            "10.726733310613781\n",
            "The number of items in train is: \n",
            "32\n",
            "The loss for epoch 3\n",
            "0.33521041595668066\n",
            "The running loss is:\n",
            "27.875308595306706\n",
            "The number of items in train is: \n",
            "32\n",
            "The loss for epoch 4\n",
            "0.8711033936033346\n",
            "The running loss is:\n",
            "15.057293181307614\n",
            "The number of items in train is: \n",
            "32\n",
            "The loss for epoch 5\n",
            "0.47054041191586293\n",
            "The running loss is:\n",
            "8.554784269770607\n",
            "The number of items in train is: \n",
            "32\n",
            "The loss for epoch 6\n",
            "0.2673370084303315\n",
            "The running loss is:\n",
            "15.368095055688173\n",
            "The number of items in train is: \n",
            "32\n",
            "The loss for epoch 7\n",
            "0.4802529704902554\n",
            "The running loss is:\n",
            "12.053984255064279\n",
            "The number of items in train is: \n",
            "32\n",
            "The loss for epoch 8\n",
            "0.3766870079707587\n",
            "The running loss is:\n",
            "15.878508637310006\n",
            "The number of items in train is: \n",
            "32\n",
            "The loss for epoch 9\n",
            "0.4962033949159377\n",
            "interpolate should be below\n",
            "Now loading and scaling antwerp.csv\n",
            "CSV Path below\n",
            "antwerp.csv\n",
            "torch.Size([1, 5, 3])\n",
            "Add debugging crap below\n"
          ],
          "name": "stdout"
        },
        {
          "output_type": "stream",
          "text": [
            "/content/github_aistream-peelout_flow-forecast/flood_forecast/evaluator.py:136: SettingWithCopyWarning: \n",
            "A value is trying to be set on a copy of a slice from a DataFrame.\n",
            "Try using .loc[row_indexer,col_indexer] = value instead\n",
            "\n",
            "See the caveats in the documentation: https://pandas.pydata.org/pandas-docs/stable/user_guide/indexing.html#returning-a-view-versus-a-copy\n",
            "  df['preds'] = 0\n",
            "/content/github_aistream-peelout_flow-forecast/flood_forecast/evaluator.py:137: SettingWithCopyWarning: \n",
            "A value is trying to be set on a copy of a slice from a DataFrame\n",
            "\n",
            "See the caveats in the documentation: https://pandas.pydata.org/pandas-docs/stable/user_guide/indexing.html#returning-a-view-versus-a-copy\n",
            "  df['preds'][history_length:] = end_tensor.numpy().tolist()\n",
            "/usr/local/lib/python3.6/dist-packages/pandas/core/series.py:1042: SettingWithCopyWarning: \n",
            "A value is trying to be set on a copy of a slice from a DataFrame\n",
            "\n",
            "See the caveats in the documentation: https://pandas.pydata.org/pandas-docs/stable/user_guide/indexing.html#returning-a-view-versus-a-copy\n",
            "  self._set_with(key, value)\n",
            "/content/github_aistream-peelout_flow-forecast/flood_forecast/evaluator.py:59: SettingWithCopyWarning: \n",
            "A value is trying to be set on a copy of a slice from a DataFrame\n",
            "\n",
            "See the caveats in the documentation: https://pandas.pydata.org/pandas-docs/stable/user_guide/indexing.html#returning-a-view-versus-a-copy\n",
            "  df, end_tensor, forecast_history, junk, test_data = infer_on_torch_model(model, **inference_params)\n"
          ],
          "name": "stderr"
        },
        {
          "output_type": "stream",
          "text": [
            "torch.Size([10])\n",
            "test_data scale\n",
            "Un-transforming data\n"
          ],
          "name": "stdout"
        },
        {
          "output_type": "stream",
          "text": [
            "/content/github_aistream-peelout_flow-forecast/flood_forecast/evaluator.py:67: SettingWithCopyWarning: \n",
            "A value is trying to be set on a copy of a slice from a DataFrame\n",
            "\n",
            "See the caveats in the documentation: https://pandas.pydata.org/pandas-docs/stable/user_guide/indexing.html#returning-a-view-versus-a-copy\n",
            "  df['preds'][history_length:] = end_tensor_list\n",
            "/content/github_aistream-peelout_flow-forecast/flood_forecast/trainer.py:30: SettingWithCopyWarning: \n",
            "A value is trying to be set on a copy of a slice from a DataFrame\n",
            "\n",
            "See the caveats in the documentation: https://pandas.pydata.org/pandas-docs/stable/user_guide/indexing.html#returning-a-view-versus-a-copy\n",
            "  test_acc = evaluate_model(trained_model, model_type, params[\"dataset_params\"][\"target_col\"], params[\"metrics\"], params[\"inference_params\"], {})\n"
          ],
          "name": "stderr"
        },
        {
          "output_type": "stream",
          "text": [
            "Current historical dataframe\n",
            "    Unnamed: 0                        name  ... original_index       preds\n",
            "85          85  Antwerp, Flanders, Belgium  ...             85    0.000000\n",
            "86          86  Antwerp, Flanders, Belgium  ...             86    0.000000\n",
            "87          87  Antwerp, Flanders, Belgium  ...             87    0.000000\n",
            "88          88  Antwerp, Flanders, Belgium  ...             88    0.000000\n",
            "89          89  Antwerp, Flanders, Belgium  ...             89    0.000000\n",
            "90          90  Antwerp, Flanders, Belgium  ...             90  110.934616\n",
            "91          91  Antwerp, Flanders, Belgium  ...             91   83.300751\n",
            "92          92  Antwerp, Flanders, Belgium  ...             92   80.099800\n",
            "93          93  Antwerp, Flanders, Belgium  ...             93   81.591988\n",
            "94          94  Antwerp, Flanders, Belgium  ...             94   80.869614\n",
            "95          95  Antwerp, Flanders, Belgium  ...             95   70.832413\n",
            "96          96  Antwerp, Flanders, Belgium  ...             96   71.445686\n",
            "97          97  Antwerp, Flanders, Belgium  ...             97   69.036293\n",
            "98          98  Antwerp, Flanders, Belgium  ...             98   71.953468\n",
            "99          99  Antwerp, Flanders, Belgium  ...             99   66.996086\n",
            "\n",
            "[15 rows x 32 columns]\n"
          ],
          "name": "stdout"
        },
        {
          "output_type": "stream",
          "text": [
            "/usr/local/lib/python3.6/dist-packages/plotly/matplotlylib/mpltools.py:368: MatplotlibDeprecationWarning:\n",
            "\n",
            "\n",
            "The is_frame_like function was deprecated in Matplotlib 3.1 and will be removed in 3.3.\n",
            "\n",
            "/usr/local/lib/python3.6/dist-packages/plotly/matplotlylib/renderer.py:410: UserWarning:\n",
            "\n",
            "Bummer! Plotly can currently only draw Line2D objects from matplotlib that are in 'data' coordinates!\n",
            "\n",
            "/usr/local/lib/python3.6/dist-packages/plotly/matplotlylib/renderer.py:512: UserWarning:\n",
            "\n",
            "I found a path object that I don't think is part of a bar chart. Ignoring.\n",
            "\n",
            "/usr/local/lib/python3.6/dist-packages/plotly/matplotlylib/mpltools.py:368: MatplotlibDeprecationWarning:\n",
            "\n",
            "\n",
            "The is_frame_like function was deprecated in Matplotlib 3.1 and will be removed in 3.3.\n",
            "\n",
            "/usr/local/lib/python3.6/dist-packages/plotly/matplotlylib/renderer.py:410: UserWarning:\n",
            "\n",
            "Bummer! Plotly can currently only draw Line2D objects from matplotlib that are in 'data' coordinates!\n",
            "\n",
            "/usr/local/lib/python3.6/dist-packages/plotly/matplotlylib/renderer.py:512: UserWarning:\n",
            "\n",
            "I found a path object that I don't think is part of a bar chart. Ignoring.\n",
            "\n"
          ],
          "name": "stderr"
        },
        {
          "output_type": "stream",
          "text": [
            "wandb: Agent Finished Run: 05q1yi30 \n",
            "\n",
            "wandb: Agent Starting Run: ewgswxyt with config:\n",
            "\tbatch_size: 2\n",
            "\tforecast_history: 5\n",
            "\tlr: 0.001\n",
            "\tout_seq_length: 2\n",
            "wandb: Agent Started Run: ewgswxyt\n"
          ],
          "name": "stdout"
        },
        {
          "output_type": "display_data",
          "data": {
            "text/html": [
              "\n",
              "                Logging results to <a href=\"https://wandb.com\" target=\"_blank\">Weights & Biases</a> <a href=\"https://docs.wandb.com/integrations/jupyter.html\" target=\"_blank\">(Documentation)</a>.<br/>\n",
              "                Project page: <a href=\"https://app.wandb.ai/igodfried/covid-forecast\" target=\"_blank\">https://app.wandb.ai/igodfried/covid-forecast</a><br/>\n",
              "                Sweep page: <a href=\"https://app.wandb.ai/igodfried/covid-forecast/sweeps/yw9zbqtn\" target=\"_blank\">https://app.wandb.ai/igodfried/covid-forecast/sweeps/yw9zbqtn</a><br/>\n",
              "Run page: <a href=\"https://app.wandb.ai/igodfried/covid-forecast/runs/ewgswxyt\" target=\"_blank\">https://app.wandb.ai/igodfried/covid-forecast/runs/ewgswxyt</a><br/>\n",
              "            "
            ],
            "text/plain": [
              "<IPython.core.display.HTML object>"
            ]
          },
          "metadata": {
            "tags": []
          }
        },
        {
          "output_type": "stream",
          "text": [
            "{'model_name': 'MultiAttnHeadSimple', 'model_type': 'PyTorch', 'model_params': {'number_time_series': 3, 'seq_len': 5, 'output_seq_len': 2, 'forecast_length': 2}, 'dataset_params': {'class': 'default', 'training_path': 'antwerp.csv', 'validation_path': 'antwerp.csv', 'test_path': 'antwerp.csv', 'batch_size': 2, 'forecast_history': 5, 'forecast_length': 2, 'train_end': 71, 'valid_start': 72, 'valid_end': 91, 'target_col': ['new_cases'], 'relevant_cols': ['new_cases', 'month', 'weekday'], 'scaler': 'StandardScaler', 'interpolate': False}, 'training_params': {'criterion': 'MSE', 'optimizer': 'Adam', 'optim_params': {}, 'lr': 0.001, 'epochs': 10, 'batch_size': 2}, 'GCS': False, 'wandb': {'name': 'multihead_pytorch_antwerp', 'tags': ['covid_run', 'circleci'], 'project': 'covid-forecast'}, 'forward_params': {}, 'metrics': ['MSE'], 'inference_params': {'datetime_start': '2020-04-21', 'hours_to_forecast': 10, 'test_csv_path': 'antwerp.csv', 'decoder_params': {'decoder_function': 'simple_decode', 'unsqueeze_dim': 1}, 'dataset_params': {'file_path': 'antwerp.csv', 'forecast_history': 5, 'forecast_length': 2, 'relevant_cols': ['new_cases', 'month', 'weekday'], 'target_col': ['new_cases'], 'scaling': 'StandardScaler', 'interpolate_param': False}}}\n",
            "interpolate should be below\n",
            "Now loading and scaling antwerp.csv\n",
            "interpolate should be below\n",
            "Now loading and scaling antwerp.csv\n",
            "interpolate should be below\n",
            "Now loading and scaling antwerp.csv\n"
          ],
          "name": "stdout"
        },
        {
          "output_type": "display_data",
          "data": {
            "text/html": [
              "\n",
              "                Logging results to <a href=\"https://wandb.com\" target=\"_blank\">Weights & Biases</a> <a href=\"https://docs.wandb.com/integrations/jupyter.html\" target=\"_blank\">(Documentation)</a>.<br/>\n",
              "                Project page: <a href=\"https://app.wandb.ai/igodfried/covid-forecast\" target=\"_blank\">https://app.wandb.ai/igodfried/covid-forecast</a><br/>\n",
              "                Run page: <a href=\"https://app.wandb.ai/igodfried/covid-forecast/runs/2kn7yl2t\" target=\"_blank\">https://app.wandb.ai/igodfried/covid-forecast/runs/2kn7yl2t</a><br/>\n",
              "            "
            ],
            "text/plain": [
              "<IPython.core.display.HTML object>"
            ]
          },
          "metadata": {
            "tags": []
          }
        },
        {
          "output_type": "stream",
          "text": [
            "Torch is using cpu\n",
            "The running loss is:\n",
            "11.650028791336808\n",
            "The number of items in train is: \n",
            "32\n",
            "The loss for epoch 0\n",
            "0.36406339972927526\n",
            "The running loss is:\n",
            "30.865524154622108\n",
            "The number of items in train is: \n",
            "32\n",
            "The loss for epoch 1\n",
            "0.9645476298319409\n",
            "The running loss is:\n",
            "13.431060584727675\n",
            "The number of items in train is: \n",
            "32\n",
            "The loss for epoch 2\n",
            "0.41972064327273984\n",
            "The running loss is:\n",
            "31.62627243832685\n",
            "The number of items in train is: \n",
            "32\n",
            "The loss for epoch 3\n",
            "0.9883210136977141\n",
            "The running loss is:\n",
            "12.02412142243702\n",
            "The number of items in train is: \n",
            "32\n",
            "The loss for epoch 4\n",
            "0.37575379445115686\n",
            "The running loss is:\n",
            "23.094838136807084\n",
            "The number of items in train is: \n",
            "32\n",
            "The loss for epoch 5\n",
            "0.7217136917752214\n",
            "The running loss is:\n",
            "12.464333229334443\n",
            "The number of items in train is: \n",
            "32\n",
            "The loss for epoch 6\n",
            "0.38951041341670134\n",
            "The running loss is:\n",
            "22.23100734280888\n",
            "The number of items in train is: \n",
            "32\n",
            "The loss for epoch 7\n",
            "0.6947189794627775\n",
            "The running loss is:\n",
            "8.372417403385043\n",
            "The number of items in train is: \n",
            "32\n",
            "The loss for epoch 8\n",
            "0.2616380438557826\n",
            "The running loss is:\n",
            "7.372722903382964\n",
            "The number of items in train is: \n",
            "32\n",
            "The loss for epoch 9\n",
            "0.23039759073071764\n",
            "interpolate should be below\n",
            "Now loading and scaling antwerp.csv\n",
            "CSV Path below\n",
            "antwerp.csv\n",
            "torch.Size([1, 5, 3])\n",
            "Add debugging crap below\n"
          ],
          "name": "stdout"
        },
        {
          "output_type": "stream",
          "text": [
            "/content/github_aistream-peelout_flow-forecast/flood_forecast/evaluator.py:136: SettingWithCopyWarning: \n",
            "A value is trying to be set on a copy of a slice from a DataFrame.\n",
            "Try using .loc[row_indexer,col_indexer] = value instead\n",
            "\n",
            "See the caveats in the documentation: https://pandas.pydata.org/pandas-docs/stable/user_guide/indexing.html#returning-a-view-versus-a-copy\n",
            "  df['preds'] = 0\n",
            "/content/github_aistream-peelout_flow-forecast/flood_forecast/evaluator.py:137: SettingWithCopyWarning: \n",
            "A value is trying to be set on a copy of a slice from a DataFrame\n",
            "\n",
            "See the caveats in the documentation: https://pandas.pydata.org/pandas-docs/stable/user_guide/indexing.html#returning-a-view-versus-a-copy\n",
            "  df['preds'][history_length:] = end_tensor.numpy().tolist()\n",
            "/usr/local/lib/python3.6/dist-packages/pandas/core/series.py:1042: SettingWithCopyWarning: \n",
            "A value is trying to be set on a copy of a slice from a DataFrame\n",
            "\n",
            "See the caveats in the documentation: https://pandas.pydata.org/pandas-docs/stable/user_guide/indexing.html#returning-a-view-versus-a-copy\n",
            "  self._set_with(key, value)\n",
            "/content/github_aistream-peelout_flow-forecast/flood_forecast/evaluator.py:59: SettingWithCopyWarning: \n",
            "A value is trying to be set on a copy of a slice from a DataFrame\n",
            "\n",
            "See the caveats in the documentation: https://pandas.pydata.org/pandas-docs/stable/user_guide/indexing.html#returning-a-view-versus-a-copy\n",
            "  df, end_tensor, forecast_history, junk, test_data = infer_on_torch_model(model, **inference_params)\n"
          ],
          "name": "stderr"
        },
        {
          "output_type": "stream",
          "text": [
            "torch.Size([10])\n",
            "test_data scale\n",
            "Un-transforming data\n"
          ],
          "name": "stdout"
        },
        {
          "output_type": "stream",
          "text": [
            "/content/github_aistream-peelout_flow-forecast/flood_forecast/evaluator.py:67: SettingWithCopyWarning: \n",
            "A value is trying to be set on a copy of a slice from a DataFrame\n",
            "\n",
            "See the caveats in the documentation: https://pandas.pydata.org/pandas-docs/stable/user_guide/indexing.html#returning-a-view-versus-a-copy\n",
            "  df['preds'][history_length:] = end_tensor_list\n",
            "/content/github_aistream-peelout_flow-forecast/flood_forecast/trainer.py:30: SettingWithCopyWarning: \n",
            "A value is trying to be set on a copy of a slice from a DataFrame\n",
            "\n",
            "See the caveats in the documentation: https://pandas.pydata.org/pandas-docs/stable/user_guide/indexing.html#returning-a-view-versus-a-copy\n",
            "  test_acc = evaluate_model(trained_model, model_type, params[\"dataset_params\"][\"target_col\"], params[\"metrics\"], params[\"inference_params\"], {})\n"
          ],
          "name": "stderr"
        },
        {
          "output_type": "stream",
          "text": [
            "Current historical dataframe\n",
            "    Unnamed: 0                        name  ... original_index       preds\n",
            "85          85  Antwerp, Flanders, Belgium  ...             85    0.000000\n",
            "86          86  Antwerp, Flanders, Belgium  ...             86    0.000000\n",
            "87          87  Antwerp, Flanders, Belgium  ...             87    0.000000\n",
            "88          88  Antwerp, Flanders, Belgium  ...             88    0.000000\n",
            "89          89  Antwerp, Flanders, Belgium  ...             89    0.000000\n",
            "90          90  Antwerp, Flanders, Belgium  ...             90  143.672546\n",
            "91          91  Antwerp, Flanders, Belgium  ...             91  132.610565\n",
            "92          92  Antwerp, Flanders, Belgium  ...             92  127.962723\n",
            "93          93  Antwerp, Flanders, Belgium  ...             93  125.382195\n",
            "94          94  Antwerp, Flanders, Belgium  ...             94  126.953491\n",
            "95          95  Antwerp, Flanders, Belgium  ...             95  122.859352\n",
            "96          96  Antwerp, Flanders, Belgium  ...             96  122.826790\n",
            "97          97  Antwerp, Flanders, Belgium  ...             97  117.627235\n",
            "98          98  Antwerp, Flanders, Belgium  ...             98  114.252800\n",
            "99          99  Antwerp, Flanders, Belgium  ...             99  113.222778\n",
            "\n",
            "[15 rows x 32 columns]\n"
          ],
          "name": "stdout"
        },
        {
          "output_type": "stream",
          "text": [
            "/usr/local/lib/python3.6/dist-packages/plotly/matplotlylib/mpltools.py:368: MatplotlibDeprecationWarning:\n",
            "\n",
            "\n",
            "The is_frame_like function was deprecated in Matplotlib 3.1 and will be removed in 3.3.\n",
            "\n",
            "/usr/local/lib/python3.6/dist-packages/plotly/matplotlylib/renderer.py:410: UserWarning:\n",
            "\n",
            "Bummer! Plotly can currently only draw Line2D objects from matplotlib that are in 'data' coordinates!\n",
            "\n",
            "/usr/local/lib/python3.6/dist-packages/plotly/matplotlylib/renderer.py:512: UserWarning:\n",
            "\n",
            "I found a path object that I don't think is part of a bar chart. Ignoring.\n",
            "\n",
            "/usr/local/lib/python3.6/dist-packages/plotly/matplotlylib/mpltools.py:368: MatplotlibDeprecationWarning:\n",
            "\n",
            "\n",
            "The is_frame_like function was deprecated in Matplotlib 3.1 and will be removed in 3.3.\n",
            "\n",
            "/usr/local/lib/python3.6/dist-packages/plotly/matplotlylib/renderer.py:410: UserWarning:\n",
            "\n",
            "Bummer! Plotly can currently only draw Line2D objects from matplotlib that are in 'data' coordinates!\n",
            "\n",
            "/usr/local/lib/python3.6/dist-packages/plotly/matplotlylib/renderer.py:512: UserWarning:\n",
            "\n",
            "I found a path object that I don't think is part of a bar chart. Ignoring.\n",
            "\n"
          ],
          "name": "stderr"
        },
        {
          "output_type": "stream",
          "text": [
            "wandb: Agent Finished Run: ewgswxyt \n",
            "\n",
            "wandb: Agent Starting Run: 4879h427 with config:\n",
            "\tbatch_size: 2\n",
            "\tforecast_history: 5\n",
            "\tlr: 0.001\n",
            "\tout_seq_length: 3\n",
            "wandb: Agent Started Run: 4879h427\n"
          ],
          "name": "stdout"
        },
        {
          "output_type": "display_data",
          "data": {
            "text/html": [
              "\n",
              "                Logging results to <a href=\"https://wandb.com\" target=\"_blank\">Weights & Biases</a> <a href=\"https://docs.wandb.com/integrations/jupyter.html\" target=\"_blank\">(Documentation)</a>.<br/>\n",
              "                Project page: <a href=\"https://app.wandb.ai/igodfried/covid-forecast\" target=\"_blank\">https://app.wandb.ai/igodfried/covid-forecast</a><br/>\n",
              "                Sweep page: <a href=\"https://app.wandb.ai/igodfried/covid-forecast/sweeps/yw9zbqtn\" target=\"_blank\">https://app.wandb.ai/igodfried/covid-forecast/sweeps/yw9zbqtn</a><br/>\n",
              "Run page: <a href=\"https://app.wandb.ai/igodfried/covid-forecast/runs/4879h427\" target=\"_blank\">https://app.wandb.ai/igodfried/covid-forecast/runs/4879h427</a><br/>\n",
              "            "
            ],
            "text/plain": [
              "<IPython.core.display.HTML object>"
            ]
          },
          "metadata": {
            "tags": []
          }
        },
        {
          "output_type": "stream",
          "text": [
            "{'model_name': 'MultiAttnHeadSimple', 'model_type': 'PyTorch', 'model_params': {'number_time_series': 3, 'seq_len': 5, 'output_seq_len': 3, 'forecast_length': 3}, 'dataset_params': {'class': 'default', 'training_path': 'antwerp.csv', 'validation_path': 'antwerp.csv', 'test_path': 'antwerp.csv', 'batch_size': 2, 'forecast_history': 5, 'forecast_length': 3, 'train_end': 71, 'valid_start': 72, 'valid_end': 91, 'target_col': ['new_cases'], 'relevant_cols': ['new_cases', 'month', 'weekday'], 'scaler': 'StandardScaler', 'interpolate': False}, 'training_params': {'criterion': 'MSE', 'optimizer': 'Adam', 'optim_params': {}, 'lr': 0.001, 'epochs': 10, 'batch_size': 2}, 'GCS': False, 'wandb': {'name': 'multihead_pytorch_antwerp', 'tags': ['covid_run', 'circleci'], 'project': 'covid-forecast'}, 'forward_params': {}, 'metrics': ['MSE'], 'inference_params': {'datetime_start': '2020-04-21', 'hours_to_forecast': 10, 'test_csv_path': 'antwerp.csv', 'decoder_params': {'decoder_function': 'simple_decode', 'unsqueeze_dim': 1}, 'dataset_params': {'file_path': 'antwerp.csv', 'forecast_history': 5, 'forecast_length': 3, 'relevant_cols': ['new_cases', 'month', 'weekday'], 'target_col': ['new_cases'], 'scaling': 'StandardScaler', 'interpolate_param': False}}}\n",
            "interpolate should be below\n",
            "Now loading and scaling antwerp.csv\n",
            "interpolate should be below\n",
            "Now loading and scaling antwerp.csv\n",
            "interpolate should be below\n",
            "Now loading and scaling antwerp.csv\n"
          ],
          "name": "stdout"
        },
        {
          "output_type": "display_data",
          "data": {
            "text/html": [
              "\n",
              "                Logging results to <a href=\"https://wandb.com\" target=\"_blank\">Weights & Biases</a> <a href=\"https://docs.wandb.com/integrations/jupyter.html\" target=\"_blank\">(Documentation)</a>.<br/>\n",
              "                Project page: <a href=\"https://app.wandb.ai/igodfried/covid-forecast\" target=\"_blank\">https://app.wandb.ai/igodfried/covid-forecast</a><br/>\n",
              "                Run page: <a href=\"https://app.wandb.ai/igodfried/covid-forecast/runs/2jru0rtt\" target=\"_blank\">https://app.wandb.ai/igodfried/covid-forecast/runs/2jru0rtt</a><br/>\n",
              "            "
            ],
            "text/plain": [
              "<IPython.core.display.HTML object>"
            ]
          },
          "metadata": {
            "tags": []
          }
        },
        {
          "output_type": "stream",
          "text": [
            "Torch is using cpu\n",
            "The running loss is:\n",
            "11.67289599776268\n",
            "The number of items in train is: \n",
            "31\n",
            "The loss for epoch 0\n",
            "0.3765450321858929\n",
            "The running loss is:\n",
            "36.93330478295684\n",
            "The number of items in train is: \n",
            "31\n",
            "The loss for epoch 1\n",
            "1.1913969284824786\n",
            "The running loss is:\n"
          ],
          "name": "stdout"
        }
      ]
    },
    {
      "cell_type": "code",
      "metadata": {
        "id": "eQxoiQaBALTH",
        "colab_type": "code",
        "outputId": "32a027c1-6ac1-4891-9b3a-589fc122d94d",
        "colab": {
          "base_uri": "https://localhost:8080/",
          "height": 780
        }
      },
      "source": [
        "pd.read_csv(\"antwerp.csv\")"
      ],
      "execution_count": 0,
      "outputs": [
        {
          "output_type": "execute_result",
          "data": {
            "text/html": [
              "<div>\n",
              "<style scoped>\n",
              "    .dataframe tbody tr th:only-of-type {\n",
              "        vertical-align: middle;\n",
              "    }\n",
              "\n",
              "    .dataframe tbody tr th {\n",
              "        vertical-align: top;\n",
              "    }\n",
              "\n",
              "    .dataframe thead th {\n",
              "        text-align: right;\n",
              "    }\n",
              "</style>\n",
              "<table border=\"1\" class=\"dataframe\">\n",
              "  <thead>\n",
              "    <tr style=\"text-align: right;\">\n",
              "      <th></th>\n",
              "      <th>Unnamed: 0</th>\n",
              "      <th>name</th>\n",
              "      <th>level</th>\n",
              "      <th>city</th>\n",
              "      <th>county</th>\n",
              "      <th>state</th>\n",
              "      <th>country</th>\n",
              "      <th>population</th>\n",
              "      <th>lat</th>\n",
              "      <th>long</th>\n",
              "      <th>url</th>\n",
              "      <th>aggregate</th>\n",
              "      <th>tz</th>\n",
              "      <th>cases</th>\n",
              "      <th>deaths</th>\n",
              "      <th>recovered</th>\n",
              "      <th>active</th>\n",
              "      <th>tested</th>\n",
              "      <th>hospitalized</th>\n",
              "      <th>discharged</th>\n",
              "      <th>growthFactor</th>\n",
              "      <th>date</th>\n",
              "      <th>month</th>\n",
              "      <th>weekday</th>\n",
              "      <th>state_county</th>\n",
              "      <th>full_county</th>\n",
              "      <th>datetime</th>\n",
              "      <th>new_cases</th>\n",
              "    </tr>\n",
              "  </thead>\n",
              "  <tbody>\n",
              "    <tr>\n",
              "      <th>0</th>\n",
              "      <td>0</td>\n",
              "      <td>Antwerp, Flanders, Belgium</td>\n",
              "      <td>county</td>\n",
              "      <td>0</td>\n",
              "      <td>Antwerp</td>\n",
              "      <td>Flanders</td>\n",
              "      <td>Belgium</td>\n",
              "      <td>1847486.0</td>\n",
              "      <td>51.2485</td>\n",
              "      <td>4.7175</td>\n",
              "      <td>https://epistat.wiv-isp.be/</td>\n",
              "      <td>0</td>\n",
              "      <td>Europe/Brussels</td>\n",
              "      <td>4.0</td>\n",
              "      <td>0.0</td>\n",
              "      <td>0.0</td>\n",
              "      <td>0.0</td>\n",
              "      <td>0.0</td>\n",
              "      <td>0.0</td>\n",
              "      <td>0.0</td>\n",
              "      <td>0.0</td>\n",
              "      <td>2020-01-22</td>\n",
              "      <td>1</td>\n",
              "      <td>2</td>\n",
              "      <td>Flanders_Antwerp</td>\n",
              "      <td>Flanders_Antwerp</td>\n",
              "      <td>2020-01-22</td>\n",
              "      <td>0.0</td>\n",
              "    </tr>\n",
              "    <tr>\n",
              "      <th>1</th>\n",
              "      <td>1</td>\n",
              "      <td>Antwerp, Flanders, Belgium</td>\n",
              "      <td>county</td>\n",
              "      <td>0</td>\n",
              "      <td>Antwerp</td>\n",
              "      <td>Flanders</td>\n",
              "      <td>Belgium</td>\n",
              "      <td>1847486.0</td>\n",
              "      <td>51.2485</td>\n",
              "      <td>4.7175</td>\n",
              "      <td>https://epistat.wiv-isp.be/</td>\n",
              "      <td>0</td>\n",
              "      <td>Europe/Brussels</td>\n",
              "      <td>4.0</td>\n",
              "      <td>0.0</td>\n",
              "      <td>0.0</td>\n",
              "      <td>0.0</td>\n",
              "      <td>0.0</td>\n",
              "      <td>0.0</td>\n",
              "      <td>0.0</td>\n",
              "      <td>0.0</td>\n",
              "      <td>2020-01-23</td>\n",
              "      <td>1</td>\n",
              "      <td>3</td>\n",
              "      <td>Flanders_Antwerp</td>\n",
              "      <td>Flanders_Antwerp</td>\n",
              "      <td>2020-01-23</td>\n",
              "      <td>0.0</td>\n",
              "    </tr>\n",
              "    <tr>\n",
              "      <th>2</th>\n",
              "      <td>2</td>\n",
              "      <td>Antwerp, Flanders, Belgium</td>\n",
              "      <td>county</td>\n",
              "      <td>0</td>\n",
              "      <td>Antwerp</td>\n",
              "      <td>Flanders</td>\n",
              "      <td>Belgium</td>\n",
              "      <td>1847486.0</td>\n",
              "      <td>51.2485</td>\n",
              "      <td>4.7175</td>\n",
              "      <td>https://epistat.wiv-isp.be/</td>\n",
              "      <td>0</td>\n",
              "      <td>Europe/Brussels</td>\n",
              "      <td>4.0</td>\n",
              "      <td>0.0</td>\n",
              "      <td>0.0</td>\n",
              "      <td>0.0</td>\n",
              "      <td>0.0</td>\n",
              "      <td>0.0</td>\n",
              "      <td>0.0</td>\n",
              "      <td>0.0</td>\n",
              "      <td>2020-01-24</td>\n",
              "      <td>1</td>\n",
              "      <td>4</td>\n",
              "      <td>Flanders_Antwerp</td>\n",
              "      <td>Flanders_Antwerp</td>\n",
              "      <td>2020-01-24</td>\n",
              "      <td>0.0</td>\n",
              "    </tr>\n",
              "    <tr>\n",
              "      <th>3</th>\n",
              "      <td>3</td>\n",
              "      <td>Antwerp, Flanders, Belgium</td>\n",
              "      <td>county</td>\n",
              "      <td>0</td>\n",
              "      <td>Antwerp</td>\n",
              "      <td>Flanders</td>\n",
              "      <td>Belgium</td>\n",
              "      <td>1847486.0</td>\n",
              "      <td>51.2485</td>\n",
              "      <td>4.7175</td>\n",
              "      <td>https://epistat.wiv-isp.be/</td>\n",
              "      <td>0</td>\n",
              "      <td>Europe/Brussels</td>\n",
              "      <td>4.0</td>\n",
              "      <td>0.0</td>\n",
              "      <td>0.0</td>\n",
              "      <td>0.0</td>\n",
              "      <td>0.0</td>\n",
              "      <td>0.0</td>\n",
              "      <td>0.0</td>\n",
              "      <td>0.0</td>\n",
              "      <td>2020-01-25</td>\n",
              "      <td>1</td>\n",
              "      <td>5</td>\n",
              "      <td>Flanders_Antwerp</td>\n",
              "      <td>Flanders_Antwerp</td>\n",
              "      <td>2020-01-25</td>\n",
              "      <td>0.0</td>\n",
              "    </tr>\n",
              "    <tr>\n",
              "      <th>4</th>\n",
              "      <td>4</td>\n",
              "      <td>Antwerp, Flanders, Belgium</td>\n",
              "      <td>county</td>\n",
              "      <td>0</td>\n",
              "      <td>Antwerp</td>\n",
              "      <td>Flanders</td>\n",
              "      <td>Belgium</td>\n",
              "      <td>1847486.0</td>\n",
              "      <td>51.2485</td>\n",
              "      <td>4.7175</td>\n",
              "      <td>https://epistat.wiv-isp.be/</td>\n",
              "      <td>0</td>\n",
              "      <td>Europe/Brussels</td>\n",
              "      <td>4.0</td>\n",
              "      <td>0.0</td>\n",
              "      <td>0.0</td>\n",
              "      <td>0.0</td>\n",
              "      <td>0.0</td>\n",
              "      <td>0.0</td>\n",
              "      <td>0.0</td>\n",
              "      <td>0.0</td>\n",
              "      <td>2020-01-26</td>\n",
              "      <td>1</td>\n",
              "      <td>6</td>\n",
              "      <td>Flanders_Antwerp</td>\n",
              "      <td>Flanders_Antwerp</td>\n",
              "      <td>2020-01-26</td>\n",
              "      <td>0.0</td>\n",
              "    </tr>\n",
              "    <tr>\n",
              "      <th>...</th>\n",
              "      <td>...</td>\n",
              "      <td>...</td>\n",
              "      <td>...</td>\n",
              "      <td>...</td>\n",
              "      <td>...</td>\n",
              "      <td>...</td>\n",
              "      <td>...</td>\n",
              "      <td>...</td>\n",
              "      <td>...</td>\n",
              "      <td>...</td>\n",
              "      <td>...</td>\n",
              "      <td>...</td>\n",
              "      <td>...</td>\n",
              "      <td>...</td>\n",
              "      <td>...</td>\n",
              "      <td>...</td>\n",
              "      <td>...</td>\n",
              "      <td>...</td>\n",
              "      <td>...</td>\n",
              "      <td>...</td>\n",
              "      <td>...</td>\n",
              "      <td>...</td>\n",
              "      <td>...</td>\n",
              "      <td>...</td>\n",
              "      <td>...</td>\n",
              "      <td>...</td>\n",
              "      <td>...</td>\n",
              "      <td>...</td>\n",
              "    </tr>\n",
              "    <tr>\n",
              "      <th>93</th>\n",
              "      <td>93</td>\n",
              "      <td>Antwerp, Flanders, Belgium</td>\n",
              "      <td>county</td>\n",
              "      <td>0</td>\n",
              "      <td>Antwerp</td>\n",
              "      <td>Flanders</td>\n",
              "      <td>Belgium</td>\n",
              "      <td>1847486.0</td>\n",
              "      <td>51.2485</td>\n",
              "      <td>4.7175</td>\n",
              "      <td>https://epistat.wiv-isp.be/</td>\n",
              "      <td>0</td>\n",
              "      <td>Europe/Brussels</td>\n",
              "      <td>5713.0</td>\n",
              "      <td>0.0</td>\n",
              "      <td>0.0</td>\n",
              "      <td>0.0</td>\n",
              "      <td>0.0</td>\n",
              "      <td>2134.0</td>\n",
              "      <td>1788.0</td>\n",
              "      <td>0.0</td>\n",
              "      <td>2020-04-24</td>\n",
              "      <td>4</td>\n",
              "      <td>4</td>\n",
              "      <td>Flanders_Antwerp</td>\n",
              "      <td>Flanders_Antwerp</td>\n",
              "      <td>2020-04-24</td>\n",
              "      <td>71.0</td>\n",
              "    </tr>\n",
              "    <tr>\n",
              "      <th>94</th>\n",
              "      <td>94</td>\n",
              "      <td>Antwerp, Flanders, Belgium</td>\n",
              "      <td>county</td>\n",
              "      <td>0</td>\n",
              "      <td>Antwerp</td>\n",
              "      <td>Flanders</td>\n",
              "      <td>Belgium</td>\n",
              "      <td>1847486.0</td>\n",
              "      <td>51.2485</td>\n",
              "      <td>4.7175</td>\n",
              "      <td>https://epistat.wiv-isp.be/</td>\n",
              "      <td>0</td>\n",
              "      <td>Europe/Brussels</td>\n",
              "      <td>5743.0</td>\n",
              "      <td>0.0</td>\n",
              "      <td>0.0</td>\n",
              "      <td>0.0</td>\n",
              "      <td>0.0</td>\n",
              "      <td>2169.0</td>\n",
              "      <td>1850.0</td>\n",
              "      <td>0.0</td>\n",
              "      <td>2020-04-25</td>\n",
              "      <td>4</td>\n",
              "      <td>5</td>\n",
              "      <td>Flanders_Antwerp</td>\n",
              "      <td>Flanders_Antwerp</td>\n",
              "      <td>2020-04-25</td>\n",
              "      <td>30.0</td>\n",
              "    </tr>\n",
              "    <tr>\n",
              "      <th>95</th>\n",
              "      <td>95</td>\n",
              "      <td>Antwerp, Flanders, Belgium</td>\n",
              "      <td>county</td>\n",
              "      <td>0</td>\n",
              "      <td>Antwerp</td>\n",
              "      <td>Flanders</td>\n",
              "      <td>Belgium</td>\n",
              "      <td>1847486.0</td>\n",
              "      <td>51.2485</td>\n",
              "      <td>4.7175</td>\n",
              "      <td>https://epistat.wiv-isp.be/</td>\n",
              "      <td>0</td>\n",
              "      <td>Europe/Brussels</td>\n",
              "      <td>5761.0</td>\n",
              "      <td>0.0</td>\n",
              "      <td>0.0</td>\n",
              "      <td>0.0</td>\n",
              "      <td>0.0</td>\n",
              "      <td>2181.0</td>\n",
              "      <td>1869.0</td>\n",
              "      <td>0.0</td>\n",
              "      <td>2020-04-26</td>\n",
              "      <td>4</td>\n",
              "      <td>6</td>\n",
              "      <td>Flanders_Antwerp</td>\n",
              "      <td>Flanders_Antwerp</td>\n",
              "      <td>2020-04-26</td>\n",
              "      <td>18.0</td>\n",
              "    </tr>\n",
              "    <tr>\n",
              "      <th>96</th>\n",
              "      <td>96</td>\n",
              "      <td>Antwerp, Flanders, Belgium</td>\n",
              "      <td>county</td>\n",
              "      <td>0</td>\n",
              "      <td>Antwerp</td>\n",
              "      <td>Flanders</td>\n",
              "      <td>Belgium</td>\n",
              "      <td>1847486.0</td>\n",
              "      <td>51.2485</td>\n",
              "      <td>4.7175</td>\n",
              "      <td>https://epistat.wiv-isp.be/</td>\n",
              "      <td>0</td>\n",
              "      <td>Europe/Brussels</td>\n",
              "      <td>5761.0</td>\n",
              "      <td>0.0</td>\n",
              "      <td>0.0</td>\n",
              "      <td>0.0</td>\n",
              "      <td>0.0</td>\n",
              "      <td>2202.0</td>\n",
              "      <td>1884.0</td>\n",
              "      <td>0.0</td>\n",
              "      <td>2020-04-27</td>\n",
              "      <td>4</td>\n",
              "      <td>0</td>\n",
              "      <td>Flanders_Antwerp</td>\n",
              "      <td>Flanders_Antwerp</td>\n",
              "      <td>2020-04-27</td>\n",
              "      <td>0.0</td>\n",
              "    </tr>\n",
              "    <tr>\n",
              "      <th>97</th>\n",
              "      <td>97</td>\n",
              "      <td>Antwerp, Flanders, Belgium</td>\n",
              "      <td>county</td>\n",
              "      <td>0</td>\n",
              "      <td>Antwerp</td>\n",
              "      <td>Flanders</td>\n",
              "      <td>Belgium</td>\n",
              "      <td>1847486.0</td>\n",
              "      <td>51.2485</td>\n",
              "      <td>4.7175</td>\n",
              "      <td>https://epistat.wiv-isp.be/</td>\n",
              "      <td>0</td>\n",
              "      <td>Europe/Brussels</td>\n",
              "      <td>5761.0</td>\n",
              "      <td>0.0</td>\n",
              "      <td>0.0</td>\n",
              "      <td>0.0</td>\n",
              "      <td>0.0</td>\n",
              "      <td>2202.0</td>\n",
              "      <td>1884.0</td>\n",
              "      <td>0.0</td>\n",
              "      <td>2020-04-28</td>\n",
              "      <td>4</td>\n",
              "      <td>1</td>\n",
              "      <td>Flanders_Antwerp</td>\n",
              "      <td>Flanders_Antwerp</td>\n",
              "      <td>2020-04-28</td>\n",
              "      <td>0.0</td>\n",
              "    </tr>\n",
              "  </tbody>\n",
              "</table>\n",
              "<p>98 rows × 28 columns</p>\n",
              "</div>"
            ],
            "text/plain": [
              "    Unnamed: 0                        name  ...    datetime  new_cases\n",
              "0            0  Antwerp, Flanders, Belgium  ...  2020-01-22        0.0\n",
              "1            1  Antwerp, Flanders, Belgium  ...  2020-01-23        0.0\n",
              "2            2  Antwerp, Flanders, Belgium  ...  2020-01-24        0.0\n",
              "3            3  Antwerp, Flanders, Belgium  ...  2020-01-25        0.0\n",
              "4            4  Antwerp, Flanders, Belgium  ...  2020-01-26        0.0\n",
              "..         ...                         ...  ...         ...        ...\n",
              "93          93  Antwerp, Flanders, Belgium  ...  2020-04-24       71.0\n",
              "94          94  Antwerp, Flanders, Belgium  ...  2020-04-25       30.0\n",
              "95          95  Antwerp, Flanders, Belgium  ...  2020-04-26       18.0\n",
              "96          96  Antwerp, Flanders, Belgium  ...  2020-04-27        0.0\n",
              "97          97  Antwerp, Flanders, Belgium  ...  2020-04-28        0.0\n",
              "\n",
              "[98 rows x 28 columns]"
            ]
          },
          "metadata": {
            "tags": []
          },
          "execution_count": 65
        }
      ]
    },
    {
      "cell_type": "code",
      "metadata": {
        "id": "f9cWGDQKAdOo",
        "colab_type": "code",
        "outputId": "eb44ef9c-0af0-440e-8382-1ac371402047",
        "colab": {
          "base_uri": "https://localhost:8080/",
          "height": 54
        }
      },
      "source": [
        "wandb.config"
      ],
      "execution_count": 0,
      "outputs": [
        {
          "output_type": "execute_result",
          "data": {
            "text/plain": [
              "<wandb.wandb_config.Config at 0x7f22804d2e10>"
            ]
          },
          "metadata": {
            "tags": []
          },
          "execution_count": 75
        }
      ]
    },
    {
      "cell_type": "code",
      "metadata": {
        "id": "hLGxcpr-U8AR",
        "colab_type": "code",
        "outputId": "90857643-05dc-4741-abe3-fb96884ca9c3",
        "colab": {
          "base_uri": "https://localhost:8080/",
          "height": 54
        }
      },
      "source": [
        "!git clone https://github.com/CoronaWhy/task-ts -b add_mobility_data\n",
        "import os \n",
        "os.chdir('task-ts')\n"
      ],
      "execution_count": 0,
      "outputs": [
        {
          "output_type": "stream",
          "text": [
            "fatal: destination path 'task-ts' already exists and is not an empty directory.\n"
          ],
          "name": "stdout"
        }
      ]
    },
    {
      "cell_type": "code",
      "metadata": {
        "id": "kbsf85dPKboY",
        "colab_type": "code",
        "outputId": "a7d1b931-57bb-4820-c6b6-46944c3dca34",
        "colab": {
          "base_uri": "https://localhost:8080/",
          "height": 104
        }
      },
      "source": [
        "!pip install loguru\n",
        "from corona_ts.data_utils.data_crawler import load_data"
      ],
      "execution_count": 0,
      "outputs": [
        {
          "output_type": "stream",
          "text": [
            "Requirement already satisfied: loguru in /usr/local/lib/python3.6/dist-packages (0.4.1)\n",
            "Requirement already satisfied: aiocontextvars>=0.2.0; python_version < \"3.7\" in /usr/local/lib/python3.6/dist-packages (from loguru) (0.2.2)\n",
            "Requirement already satisfied: contextvars==2.4; python_version < \"3.7\" in /usr/local/lib/python3.6/dist-packages (from aiocontextvars>=0.2.0; python_version < \"3.7\"->loguru) (2.4)\n",
            "Requirement already satisfied: immutables>=0.9 in /usr/local/lib/python3.6/dist-packages (from contextvars==2.4; python_version < \"3.7\"->aiocontextvars>=0.2.0; python_version < \"3.7\"->loguru) (0.12)\n"
          ],
          "name": "stdout"
        }
      ]
    },
    {
      "cell_type": "code",
      "metadata": {
        "id": "PK1abJe6K1n_",
        "colab_type": "code",
        "outputId": "c257bbe7-8fd4-4eb5-f6d3-b7af7bb1c475",
        "colab": {
          "base_uri": "https://localhost:8080/",
          "height": 1000
        }
      },
      "source": [
        "!git clone https://github.com/CoronaWhy/task-geo.git\n",
        "os.chdir('task-geo')\n",
        "!make install"
      ],
      "execution_count": 0,
      "outputs": [
        {
          "output_type": "stream",
          "text": [
            "Cloning into 'task-geo'...\n",
            "remote: Enumerating objects: 176, done.\u001b[K\n",
            "remote: Counting objects: 100% (176/176), done.\u001b[K\n",
            "remote: Compressing objects: 100% (130/130), done.\u001b[K\n",
            "remote: Total 1530 (delta 67), reused 124 (delta 43), pack-reused 1354\u001b[K\n",
            "Receiving objects: 100% (1530/1530), 6.72 MiB | 5.07 MiB/s, done.\n",
            "Resolving deltas: 100% (706/706), done.\n",
            "rm -fr build/\n",
            "rm -fr dist/\n",
            "rm -fr .eggs/\n",
            "find . -name '*.egg-info' -exec rm -fr {} +\n",
            "find . -name '*.egg' -exec rm -fr {} +\n",
            "find . -name '*.pyc' -exec rm -f {} +\n",
            "find . -name '*.pyo' -exec rm -f {} +\n",
            "find . -name '*~' -exec rm -f {} +\n",
            "find . -name '__pycache__' -exec rm -fr {} +\n",
            "pip install .\n",
            "Processing /content/task-ts/task-geo\n",
            "Requirement already satisfied: pandas in /usr/local/lib/python3.6/dist-packages (from task-geo==0.1.0.dev0) (1.0.3)\n",
            "Requirement already satisfied: requests in /usr/local/lib/python3.6/dist-packages (from task-geo==0.1.0.dev0) (2.23.0)\n",
            "Requirement already satisfied: jupyter in /usr/local/lib/python3.6/dist-packages (from task-geo==0.1.0.dev0) (1.0.0)\n",
            "Collecting hdx-python-api\n",
            "\u001b[?25l  Downloading https://files.pythonhosted.org/packages/d4/27/5b7f2c83353e0ee6e9c4fab5ec3a6e141c837369f6a23e82f875bc29db53/hdx_python_api-4.5.6-py2.py3-none-any.whl (67kB)\n",
            "\u001b[K     |████████████████████████████████| 71kB 2.3MB/s \n",
            "\u001b[?25hRequirement already satisfied: python-dateutil>=2.6.1 in /usr/local/lib/python3.6/dist-packages (from pandas->task-geo==0.1.0.dev0) (2.8.1)\n",
            "Requirement already satisfied: numpy>=1.13.3 in /usr/local/lib/python3.6/dist-packages (from pandas->task-geo==0.1.0.dev0) (1.18.3)\n",
            "Requirement already satisfied: pytz>=2017.2 in /usr/local/lib/python3.6/dist-packages (from pandas->task-geo==0.1.0.dev0) (2018.9)\n",
            "Requirement already satisfied: idna<3,>=2.5 in /usr/local/lib/python3.6/dist-packages (from requests->task-geo==0.1.0.dev0) (2.9)\n",
            "Requirement already satisfied: chardet<4,>=3.0.2 in /usr/local/lib/python3.6/dist-packages (from requests->task-geo==0.1.0.dev0) (3.0.4)\n",
            "Requirement already satisfied: urllib3!=1.25.0,!=1.25.1,<1.26,>=1.21.1 in /usr/local/lib/python3.6/dist-packages (from requests->task-geo==0.1.0.dev0) (1.24.3)\n",
            "Requirement already satisfied: certifi>=2017.4.17 in /usr/local/lib/python3.6/dist-packages (from requests->task-geo==0.1.0.dev0) (2020.4.5.1)\n",
            "Requirement already satisfied: notebook in /usr/local/lib/python3.6/dist-packages (from jupyter->task-geo==0.1.0.dev0) (5.2.2)\n",
            "Requirement already satisfied: qtconsole in /usr/local/lib/python3.6/dist-packages (from jupyter->task-geo==0.1.0.dev0) (4.7.3)\n",
            "Requirement already satisfied: ipywidgets in /usr/local/lib/python3.6/dist-packages (from jupyter->task-geo==0.1.0.dev0) (7.5.1)\n",
            "Requirement already satisfied: jupyter-console in /usr/local/lib/python3.6/dist-packages (from jupyter->task-geo==0.1.0.dev0) (5.2.0)\n",
            "Requirement already satisfied: ipykernel in /usr/local/lib/python3.6/dist-packages (from jupyter->task-geo==0.1.0.dev0) (4.10.1)\n",
            "Requirement already satisfied: nbconvert in /usr/local/lib/python3.6/dist-packages (from jupyter->task-geo==0.1.0.dev0) (5.6.1)\n",
            "Requirement already satisfied: pyasn1 in /usr/local/lib/python3.6/dist-packages (from hdx-python-api->task-geo==0.1.0.dev0) (0.4.8)\n",
            "Collecting ndg-httpsclient\n",
            "  Downloading https://files.pythonhosted.org/packages/fb/67/c2f508c00ed2a6911541494504b7cac16fe0b0473912568df65fd1801132/ndg_httpsclient-0.5.1-py3-none-any.whl\n",
            "Collecting quantulum3>=0.7.3; python_version >= \"3\"\n",
            "\u001b[?25l  Downloading https://files.pythonhosted.org/packages/d0/d5/60d72e7c9393199eba72f88deb06e0fddc4e357d600bdbe5f86e8cfc4512/quantulum3-0.7.3-py3-none-any.whl (11.1MB)\n",
            "\u001b[K     |████████████████████████████████| 11.1MB 8.8MB/s \n",
            "\u001b[?25hCollecting pyOpenSSL\n",
            "\u001b[?25l  Downloading https://files.pythonhosted.org/packages/9e/de/f8342b68fa9e981d348039954657bdf681b2ab93de27443be51865ffa310/pyOpenSSL-19.1.0-py2.py3-none-any.whl (53kB)\n",
            "\u001b[K     |████████████████████████████████| 61kB 8.6MB/s \n",
            "\u001b[?25hCollecting ckanapi>=4.3\n",
            "  Downloading https://files.pythonhosted.org/packages/07/c6/50449e18aaf1600dfda955805c58aa7462493511f3ebbb20d0a65874397c/ckanapi-4.3.tar.gz\n",
            "Collecting hdx-python-country>=2.5.5\n",
            "  Downloading https://files.pythonhosted.org/packages/f5/85/6e656be9218c0e7efaeabd975a3097296cb3d3824b8841ede6590c2de737/hdx_python_country-2.5.5-py2.py3-none-any.whl\n",
            "Requirement already satisfied: six>=1.5 in /usr/local/lib/python3.6/dist-packages (from python-dateutil>=2.6.1->pandas->task-geo==0.1.0.dev0) (1.12.0)\n",
            "Requirement already satisfied: jupyter-client in /usr/local/lib/python3.6/dist-packages (from notebook->jupyter->task-geo==0.1.0.dev0) (5.3.4)\n",
            "Requirement already satisfied: jupyter-core in /usr/local/lib/python3.6/dist-packages (from notebook->jupyter->task-geo==0.1.0.dev0) (4.6.3)\n",
            "Requirement already satisfied: nbformat in /usr/local/lib/python3.6/dist-packages (from notebook->jupyter->task-geo==0.1.0.dev0) (5.0.6)\n",
            "Requirement already satisfied: terminado>=0.3.3; sys_platform != \"win32\" in /usr/local/lib/python3.6/dist-packages (from notebook->jupyter->task-geo==0.1.0.dev0) (0.8.3)\n",
            "Requirement already satisfied: traitlets>=4.2.1 in /usr/local/lib/python3.6/dist-packages (from notebook->jupyter->task-geo==0.1.0.dev0) (4.3.3)\n",
            "Requirement already satisfied: jinja2 in /usr/local/lib/python3.6/dist-packages (from notebook->jupyter->task-geo==0.1.0.dev0) (2.11.2)\n",
            "Requirement already satisfied: tornado>=4 in /usr/local/lib/python3.6/dist-packages (from notebook->jupyter->task-geo==0.1.0.dev0) (4.5.3)\n",
            "Requirement already satisfied: ipython-genutils in /usr/local/lib/python3.6/dist-packages (from notebook->jupyter->task-geo==0.1.0.dev0) (0.2.0)\n",
            "Requirement already satisfied: pyzmq>=17.1 in /usr/local/lib/python3.6/dist-packages (from qtconsole->jupyter->task-geo==0.1.0.dev0) (19.0.0)\n",
            "Requirement already satisfied: pygments in /usr/local/lib/python3.6/dist-packages (from qtconsole->jupyter->task-geo==0.1.0.dev0) (2.1.3)\n",
            "Requirement already satisfied: qtpy in /usr/local/lib/python3.6/dist-packages (from qtconsole->jupyter->task-geo==0.1.0.dev0) (1.9.0)\n",
            "Requirement already satisfied: ipython>=4.0.0; python_version >= \"3.3\" in /usr/local/lib/python3.6/dist-packages (from ipywidgets->jupyter->task-geo==0.1.0.dev0) (5.5.0)\n",
            "Requirement already satisfied: widgetsnbextension~=3.5.0 in /usr/local/lib/python3.6/dist-packages (from ipywidgets->jupyter->task-geo==0.1.0.dev0) (3.5.1)\n",
            "Requirement already satisfied: prompt-toolkit<2.0.0,>=1.0.0 in /usr/local/lib/python3.6/dist-packages (from jupyter-console->jupyter->task-geo==0.1.0.dev0) (1.0.18)\n",
            "Requirement already satisfied: pandocfilters>=1.4.1 in /usr/local/lib/python3.6/dist-packages (from nbconvert->jupyter->task-geo==0.1.0.dev0) (1.4.2)\n",
            "Requirement already satisfied: entrypoints>=0.2.2 in /usr/local/lib/python3.6/dist-packages (from nbconvert->jupyter->task-geo==0.1.0.dev0) (0.3)\n",
            "Requirement already satisfied: bleach in /usr/local/lib/python3.6/dist-packages (from nbconvert->jupyter->task-geo==0.1.0.dev0) (3.1.4)\n",
            "Requirement already satisfied: testpath in /usr/local/lib/python3.6/dist-packages (from nbconvert->jupyter->task-geo==0.1.0.dev0) (0.4.4)\n",
            "Requirement already satisfied: defusedxml in /usr/local/lib/python3.6/dist-packages (from nbconvert->jupyter->task-geo==0.1.0.dev0) (0.6.0)\n",
            "Requirement already satisfied: mistune<2,>=0.8.1 in /usr/local/lib/python3.6/dist-packages (from nbconvert->jupyter->task-geo==0.1.0.dev0) (0.8.4)\n",
            "Collecting num2words\n",
            "\u001b[?25l  Downloading https://files.pythonhosted.org/packages/eb/a2/ea800689730732e27711c41beed4b2a129b34974435bdc450377ec407738/num2words-0.5.10-py3-none-any.whl (101kB)\n",
            "\u001b[K     |████████████████████████████████| 102kB 10.1MB/s \n",
            "\u001b[?25hRequirement already satisfied: inflect in /usr/local/lib/python3.6/dist-packages (from quantulum3>=0.7.3; python_version >= \"3\"->hdx-python-api->task-geo==0.1.0.dev0) (2.1.0)\n",
            "Collecting cryptography>=2.8\n",
            "\u001b[?25l  Downloading https://files.pythonhosted.org/packages/3c/04/686efee2dcdd25aecf357992e7d9362f443eb182ecd623f882bc9f7a6bba/cryptography-2.9.2-cp35-abi3-manylinux2010_x86_64.whl (2.7MB)\n",
            "\u001b[K     |████████████████████████████████| 2.7MB 43.3MB/s \n",
            "\u001b[?25hRequirement already satisfied: setuptools in /usr/local/lib/python3.6/dist-packages (from ckanapi>=4.3->hdx-python-api->task-geo==0.1.0.dev0) (46.1.3)\n",
            "Requirement already satisfied: docopt in /usr/local/lib/python3.6/dist-packages (from ckanapi>=4.3->hdx-python-api->task-geo==0.1.0.dev0) (0.6.2)\n",
            "Requirement already satisfied: python-slugify>=1.0 in /usr/local/lib/python3.6/dist-packages (from ckanapi>=4.3->hdx-python-api->task-geo==0.1.0.dev0) (4.0.0)\n",
            "Collecting hdx-python-utilities>=2.3.3\n",
            "\u001b[?25l  Downloading https://files.pythonhosted.org/packages/0d/7a/45d463fffdf951ebb77347dd85020c3ba3e404835eb1864d3ce298d3df4d/hdx_python_utilities-2.3.3-py2.py3-none-any.whl (46kB)\n",
            "\u001b[K     |████████████████████████████████| 51kB 7.6MB/s \n",
            "\u001b[?25hCollecting libhxl>=4.18; python_version >= \"3\"\n",
            "\u001b[?25l  Downloading https://files.pythonhosted.org/packages/d1/bb/7713720c382aad5260694fd5875fe013ee7ccef771e41a3298f661c01c84/libhxl-4.19.tar.gz (77kB)\n",
            "\u001b[K     |████████████████████████████████| 81kB 10.0MB/s \n",
            "\u001b[?25hRequirement already satisfied: jsonschema!=2.5.0,>=2.4 in /usr/local/lib/python3.6/dist-packages (from nbformat->notebook->jupyter->task-geo==0.1.0.dev0) (2.6.0)\n",
            "Requirement already satisfied: ptyprocess; os_name != \"nt\" in /usr/local/lib/python3.6/dist-packages (from terminado>=0.3.3; sys_platform != \"win32\"->notebook->jupyter->task-geo==0.1.0.dev0) (0.6.0)\n",
            "Requirement already satisfied: decorator in /usr/local/lib/python3.6/dist-packages (from traitlets>=4.2.1->notebook->jupyter->task-geo==0.1.0.dev0) (4.4.2)\n",
            "Requirement already satisfied: MarkupSafe>=0.23 in /usr/local/lib/python3.6/dist-packages (from jinja2->notebook->jupyter->task-geo==0.1.0.dev0) (1.1.1)\n",
            "Requirement already satisfied: simplegeneric>0.8 in /usr/local/lib/python3.6/dist-packages (from ipython>=4.0.0; python_version >= \"3.3\"->ipywidgets->jupyter->task-geo==0.1.0.dev0) (0.8.1)\n",
            "Requirement already satisfied: pickleshare in /usr/local/lib/python3.6/dist-packages (from ipython>=4.0.0; python_version >= \"3.3\"->ipywidgets->jupyter->task-geo==0.1.0.dev0) (0.7.5)\n",
            "Requirement already satisfied: pexpect; sys_platform != \"win32\" in /usr/local/lib/python3.6/dist-packages (from ipython>=4.0.0; python_version >= \"3.3\"->ipywidgets->jupyter->task-geo==0.1.0.dev0) (4.8.0)\n",
            "Requirement already satisfied: wcwidth in /usr/local/lib/python3.6/dist-packages (from prompt-toolkit<2.0.0,>=1.0.0->jupyter-console->jupyter->task-geo==0.1.0.dev0) (0.1.9)\n",
            "Requirement already satisfied: webencodings in /usr/local/lib/python3.6/dist-packages (from bleach->nbconvert->jupyter->task-geo==0.1.0.dev0) (0.5.1)\n",
            "Requirement already satisfied: cffi!=1.11.3,>=1.8 in /usr/local/lib/python3.6/dist-packages (from cryptography>=2.8->pyOpenSSL->hdx-python-api->task-geo==0.1.0.dev0) (1.14.0)\n",
            "Requirement already satisfied: text-unidecode>=1.3 in /usr/local/lib/python3.6/dist-packages (from python-slugify>=1.0->ckanapi>=4.3->hdx-python-api->task-geo==0.1.0.dev0) (1.3)\n",
            "Collecting pyaml\n",
            "  Downloading https://files.pythonhosted.org/packages/15/c4/1310a054d33abc318426a956e7d6df0df76a6ddfa9c66f6310274fb75d42/pyaml-20.4.0-py2.py3-none-any.whl\n",
            "Collecting psycopg2-binary\n",
            "\u001b[?25l  Downloading https://files.pythonhosted.org/packages/d3/8a/a7ed55c2c55bd4f5844d72734fedc0cef8a74518a0a19105a21c15628f1e/psycopg2_binary-2.8.5-cp36-cp36m-manylinux1_x86_64.whl (2.9MB)\n",
            "\u001b[K     |████████████████████████████████| 2.9MB 47.2MB/s \n",
            "\u001b[?25hRequirement already satisfied: html5lib in /usr/local/lib/python3.6/dist-packages (from hdx-python-utilities>=2.3.3->hdx-python-country>=2.5.5->hdx-python-api->task-geo==0.1.0.dev0) (1.0.1)\n",
            "Collecting basicauth\n",
            "  Downloading https://files.pythonhosted.org/packages/76/47/08d21ffcc837bebf3306b8295f5d179f9bc498f6235ebf4a4e38be57839c/basicauth-0.4.1-py2.py3-none-any.whl\n",
            "Requirement already satisfied: typing in /usr/local/lib/python3.6/dist-packages (from hdx-python-utilities>=2.3.3->hdx-python-country>=2.5.5->hdx-python-api->task-geo==0.1.0.dev0) (3.6.6)\n",
            "Collecting sshtunnel\n",
            "\u001b[?25l  Downloading https://files.pythonhosted.org/packages/c5/5c/4b320d7ec4b0d5d4d6df1fdf66a5799625b3623d0ce4efe81719c6f8dfb3/sshtunnel-0.1.5.tar.gz (49kB)\n",
            "\u001b[K     |████████████████████████████████| 51kB 7.9MB/s \n",
            "\u001b[?25hCollecting tabulator[cchardet]>=1.38.4\n",
            "\u001b[?25l  Downloading https://files.pythonhosted.org/packages/b5/6f/3d755b247b354ce55e03f52c77a30b1e85358f3df34ecbbef983826a9ac8/tabulator-1.41.0-py2.py3-none-any.whl (68kB)\n",
            "\u001b[K     |████████████████████████████████| 71kB 9.6MB/s \n",
            "\u001b[?25hCollecting yamlloader\n",
            "  Downloading https://files.pythonhosted.org/packages/93/a2/2f0c2394af1559021703c8cbb1bc7419bb5a94ea6bde0ab8cd1e973bb605/yamlloader-0.5.5-py3-none-any.whl\n",
            "Collecting colorlog\n",
            "  Downloading https://files.pythonhosted.org/packages/00/0d/22c73c2eccb21dd3498df7d22c0b1d4a30f5a5fb3feb64e1ce06bc247747/colorlog-4.1.0-py2.py3-none-any.whl\n",
            "Collecting email-validator\n",
            "  Downloading https://files.pythonhosted.org/packages/45/54/1a1da475b684aa4eb30da169ea5ebd9341a5d3138138bc2b365222b9ac87/email_validator-1.1.0-py2.py3-none-any.whl\n",
            "Collecting ratelimit\n",
            "  Downloading https://files.pythonhosted.org/packages/ab/38/ff60c8fc9e002d50d48822cc5095deb8ebbc5f91a6b8fdd9731c87a147c9/ratelimit-2.2.1.tar.gz\n",
            "Requirement already satisfied: beautifulsoup4 in /usr/local/lib/python3.6/dist-packages (from hdx-python-utilities>=2.3.3->hdx-python-country>=2.5.5->hdx-python-api->task-geo==0.1.0.dev0) (4.6.3)\n",
            "Requirement already satisfied: xlrd in /usr/local/lib/python3.6/dist-packages (from libhxl>=4.18; python_version >= \"3\"->hdx-python-country>=2.5.5->hdx-python-api->task-geo==0.1.0.dev0) (1.1.0)\n",
            "Collecting unidecode\n",
            "\u001b[?25l  Downloading https://files.pythonhosted.org/packages/d0/42/d9edfed04228bacea2d824904cae367ee9efd05e6cce7ceaaedd0b0ad964/Unidecode-1.1.1-py2.py3-none-any.whl (238kB)\n",
            "\u001b[K     |████████████████████████████████| 245kB 48.8MB/s \n",
            "\u001b[?25hCollecting python-io-wrapper\n",
            "  Downloading https://files.pythonhosted.org/packages/76/81/88e02bc603e55883a087811a641fd3836749b7509365778fea29d74fd58c/python-io-wrapper-0.1.tar.gz\n",
            "Collecting jsonpath_rw\n",
            "  Downloading https://files.pythonhosted.org/packages/71/7c/45001b1f19af8c4478489fbae4fc657b21c4c669d7a5a036a86882581d85/jsonpath-rw-1.4.0.tar.gz\n",
            "Collecting ply\n",
            "\u001b[?25l  Downloading https://files.pythonhosted.org/packages/a3/58/35da89ee790598a0700ea49b2a66594140f44dec458c07e8e3d4979137fc/ply-3.11-py2.py3-none-any.whl (49kB)\n",
            "\u001b[K     |████████████████████████████████| 51kB 7.5MB/s \n",
            "\u001b[?25hRequirement already satisfied: pycparser in /usr/local/lib/python3.6/dist-packages (from cffi!=1.11.3,>=1.8->cryptography>=2.8->pyOpenSSL->hdx-python-api->task-geo==0.1.0.dev0) (2.20)\n",
            "Requirement already satisfied: PyYAML in /usr/local/lib/python3.6/dist-packages (from pyaml->hdx-python-utilities>=2.3.3->hdx-python-country>=2.5.5->hdx-python-api->task-geo==0.1.0.dev0) (3.13)\n",
            "Collecting paramiko>=1.15.2\n",
            "\u001b[?25l  Downloading https://files.pythonhosted.org/packages/06/1e/1e08baaaf6c3d3df1459fd85f0e7d2d6aa916f33958f151ee1ecc9800971/paramiko-2.7.1-py2.py3-none-any.whl (206kB)\n",
            "\u001b[K     |████████████████████████████████| 215kB 46.1MB/s \n",
            "\u001b[?25hCollecting openpyxl>=2.6\n",
            "\u001b[?25l  Downloading https://files.pythonhosted.org/packages/95/8c/83563c60489954e5b80f9e2596b93a68e1ac4e4a730deb1aae632066d704/openpyxl-3.0.3.tar.gz (172kB)\n",
            "\u001b[K     |████████████████████████████████| 174kB 53.8MB/s \n",
            "\u001b[?25hCollecting ijson>=3.0.3\n",
            "\u001b[?25l  Downloading https://files.pythonhosted.org/packages/75/38/e2d650844fd69ced9fb8d2804ffd3cd76d43bcc1950c266367aaf9a456f6/ijson-3.0.3-cp36-cp36m-manylinux1_x86_64.whl (96kB)\n",
            "\u001b[K     |████████████████████████████████| 102kB 12.9MB/s \n",
            "\u001b[?25hRequirement already satisfied: sqlalchemy>=0.9.6 in /usr/local/lib/python3.6/dist-packages (from tabulator[cchardet]>=1.38.4->hdx-python-utilities>=2.3.3->hdx-python-country>=2.5.5->hdx-python-api->task-geo==0.1.0.dev0) (1.3.16)\n",
            "Requirement already satisfied: boto3>=1.9 in /usr/local/lib/python3.6/dist-packages (from tabulator[cchardet]>=1.38.4->hdx-python-utilities>=2.3.3->hdx-python-country>=2.5.5->hdx-python-api->task-geo==0.1.0.dev0) (1.12.47)\n",
            "Collecting linear-tsv>=1.0\n",
            "  Downloading https://files.pythonhosted.org/packages/82/e5/03207a0f11e1d60df85b97b61704ed701b725a7c2feaf83f7bfbd0c2d83e/linear-tsv-1.1.0.tar.gz\n",
            "Collecting unicodecsv>=0.14\n",
            "  Downloading https://files.pythonhosted.org/packages/6f/a4/691ab63b17505a26096608cc309960b5a6bdf39e4ba1a793d5f9b1a53270/unicodecsv-0.14.1.tar.gz\n",
            "Collecting jsonlines>=1.1\n",
            "  Downloading https://files.pythonhosted.org/packages/4f/9a/ab96291470e305504aa4b7a2e0ec132e930da89eb3ca7a82fbe03167c131/jsonlines-1.2.0-py2.py3-none-any.whl\n",
            "Requirement already satisfied: click>=6.0 in /usr/local/lib/python3.6/dist-packages (from tabulator[cchardet]>=1.38.4->hdx-python-utilities>=2.3.3->hdx-python-country>=2.5.5->hdx-python-api->task-geo==0.1.0.dev0) (7.1.2)\n",
            "Collecting cchardet>=2.0; extra == \"cchardet\"\n",
            "\u001b[?25l  Downloading https://files.pythonhosted.org/packages/1e/c5/7e1a0d7b4afd83d6f8de794fce82820ec4c5136c6d52e14000822681a842/cchardet-2.1.6-cp36-cp36m-manylinux2010_x86_64.whl (241kB)\n",
            "\u001b[K     |████████████████████████████████| 245kB 49.7MB/s \n",
            "\u001b[?25hCollecting dnspython>=1.15.0\n",
            "\u001b[?25l  Downloading https://files.pythonhosted.org/packages/ec/d3/3aa0e7213ef72b8585747aa0e271a9523e713813b9a20177ebe1e939deb0/dnspython-1.16.0-py2.py3-none-any.whl (188kB)\n",
            "\u001b[K     |████████████████████████████████| 194kB 53.4MB/s \n",
            "\u001b[?25hCollecting pynacl>=1.0.1\n",
            "\u001b[?25l  Downloading https://files.pythonhosted.org/packages/27/15/2cd0a203f318c2240b42cd9dd13c931ddd61067809fee3479f44f086103e/PyNaCl-1.3.0-cp34-abi3-manylinux1_x86_64.whl (759kB)\n",
            "\u001b[K     |████████████████████████████████| 768kB 54.6MB/s \n",
            "\u001b[?25hCollecting bcrypt>=3.1.3\n",
            "\u001b[?25l  Downloading https://files.pythonhosted.org/packages/8b/1d/82826443777dd4a624e38a08957b975e75df859b381ae302cfd7a30783ed/bcrypt-3.1.7-cp34-abi3-manylinux1_x86_64.whl (56kB)\n",
            "\u001b[K     |████████████████████████████████| 61kB 8.5MB/s \n",
            "\u001b[?25hRequirement already satisfied: jdcal in /usr/local/lib/python3.6/dist-packages (from openpyxl>=2.6->tabulator[cchardet]>=1.38.4->hdx-python-utilities>=2.3.3->hdx-python-country>=2.5.5->hdx-python-api->task-geo==0.1.0.dev0) (1.4.1)\n",
            "Requirement already satisfied: et_xmlfile in /usr/local/lib/python3.6/dist-packages (from openpyxl>=2.6->tabulator[cchardet]>=1.38.4->hdx-python-utilities>=2.3.3->hdx-python-country>=2.5.5->hdx-python-api->task-geo==0.1.0.dev0) (1.0.1)\n",
            "Requirement already satisfied: botocore<1.16.0,>=1.15.47 in /usr/local/lib/python3.6/dist-packages (from boto3>=1.9->tabulator[cchardet]>=1.38.4->hdx-python-utilities>=2.3.3->hdx-python-country>=2.5.5->hdx-python-api->task-geo==0.1.0.dev0) (1.15.47)\n",
            "Requirement already satisfied: s3transfer<0.4.0,>=0.3.0 in /usr/local/lib/python3.6/dist-packages (from boto3>=1.9->tabulator[cchardet]>=1.38.4->hdx-python-utilities>=2.3.3->hdx-python-country>=2.5.5->hdx-python-api->task-geo==0.1.0.dev0) (0.3.3)\n",
            "Requirement already satisfied: jmespath<1.0.0,>=0.7.1 in /usr/local/lib/python3.6/dist-packages (from boto3>=1.9->tabulator[cchardet]>=1.38.4->hdx-python-utilities>=2.3.3->hdx-python-country>=2.5.5->hdx-python-api->task-geo==0.1.0.dev0) (0.9.5)\n",
            "Requirement already satisfied: docutils<0.16,>=0.10 in /usr/local/lib/python3.6/dist-packages (from botocore<1.16.0,>=1.15.47->boto3>=1.9->tabulator[cchardet]>=1.38.4->hdx-python-utilities>=2.3.3->hdx-python-country>=2.5.5->hdx-python-api->task-geo==0.1.0.dev0) (0.15.2)\n",
            "Building wheels for collected packages: task-geo, ckanapi, libhxl, sshtunnel, ratelimit, python-io-wrapper, jsonpath-rw, openpyxl, linear-tsv, unicodecsv\n",
            "  Building wheel for task-geo (setup.py) ... \u001b[?25l\u001b[?25hdone\n",
            "  Created wheel for task-geo: filename=task_geo-0.1.0.dev0-py2.py3-none-any.whl size=177389 sha256=fa9f8ea35c5daa130fc5c33540c4cb66e54af488b1275dc3cca3eef090b6b72c\n",
            "  Stored in directory: /root/.cache/pip/wheels/f2/42/40/dba27500b60934a7ac65cdefe4845fd3001fdc3a1c5938c8d4\n",
            "  Building wheel for ckanapi (setup.py) ... \u001b[?25l\u001b[?25hdone\n",
            "  Created wheel for ckanapi: filename=ckanapi-4.3-cp36-none-any.whl size=38647 sha256=e873e55af78a0a989160eb522dac01a1cdc303b819568908215cd1c87538bfb9\n",
            "  Stored in directory: /root/.cache/pip/wheels/41/f2/fb/c8ce857007de64cc6b36b8f1048272396bc0817c35ee3a3e73\n",
            "  Building wheel for libhxl (setup.py) ... \u001b[?25l\u001b[?25hdone\n",
            "  Created wheel for libhxl: filename=libhxl-4.19-cp36-none-any.whl size=81540 sha256=780459df15ae2bc96ff813b4c9236d0fdf8c38a186b0932396ac6e7ef9dab8fd\n",
            "  Stored in directory: /root/.cache/pip/wheels/99/4e/75/2c1d5d8cd3c34a42dcd9a388562d3dd3fb2197adbb47e20503\n",
            "  Building wheel for sshtunnel (setup.py) ... \u001b[?25l\u001b[?25hdone\n",
            "  Created wheel for sshtunnel: filename=sshtunnel-0.1.5-py2.py3-none-any.whl size=23243 sha256=21bc695380c8d89c4b5765d40d9e64afcc2b42cf73f1813b0dea5514f0098ca5\n",
            "  Stored in directory: /root/.cache/pip/wheels/e8/d2/38/b9791b7391f634099194ec6697fa671194f3353906d94c8f92\n",
            "  Building wheel for ratelimit (setup.py) ... \u001b[?25l\u001b[?25hdone\n",
            "  Created wheel for ratelimit: filename=ratelimit-2.2.1-cp36-none-any.whl size=5893 sha256=8666de8ebdec13cbf6c7bcdd0029a993ba77e19e49185641bc488caf4c9f1a07\n",
            "  Stored in directory: /root/.cache/pip/wheels/05/d9/82/3c6044cf1a54aab9151612458446d9b17a38416869e1b1d9b8\n",
            "  Building wheel for python-io-wrapper (setup.py) ... \u001b[?25l\u001b[?25hdone\n",
            "  Created wheel for python-io-wrapper: filename=python_io_wrapper-0.1-cp36-none-any.whl size=2490 sha256=ae932fd2014bec6c0902559f3357e9549c1c1567d29d3b78cc852c53e8d5fb72\n",
            "  Stored in directory: /root/.cache/pip/wheels/6b/26/be/da3c0a774901c557a0bee985e7aade5b9db75fe4dc8ef99ced\n",
            "  Building wheel for jsonpath-rw (setup.py) ... \u001b[?25l\u001b[?25hdone\n",
            "  Created wheel for jsonpath-rw: filename=jsonpath_rw-1.4.0-cp36-none-any.whl size=15146 sha256=30ef8e57898b0eb41633f88e5d9d405fc2d50e0e6df252e9d553840dd0c95418\n",
            "  Stored in directory: /root/.cache/pip/wheels/5c/00/9a/82822db383c2d96dcebf839786665a185f92d37e5026f9806f\n",
            "  Building wheel for openpyxl (setup.py) ... \u001b[?25l\u001b[?25hdone\n",
            "  Created wheel for openpyxl: filename=openpyxl-3.0.3-py2.py3-none-any.whl size=241262 sha256=bd0378aa96fd157fb44a9cd8f6129489dd537094749833787851e9304ce5cd56\n",
            "  Stored in directory: /root/.cache/pip/wheels/b5/85/ca/e768ac132e57e75e645a151f8badac71cc0089e7225dddf76b\n",
            "  Building wheel for linear-tsv (setup.py) ... \u001b[?25l\u001b[?25hdone\n",
            "  Created wheel for linear-tsv: filename=linear_tsv-1.1.0-cp36-none-any.whl size=7383 sha256=244e9c6e9535cc9e2a8901455b85aeabdb2e2c10e06fa77a1eeabfad94f9d93c\n",
            "  Stored in directory: /root/.cache/pip/wheels/3f/8a/cb/38917fd1ef4356b9870ace7331b83417dc594bf2c029bd991f\n",
            "  Building wheel for unicodecsv (setup.py) ... \u001b[?25l\u001b[?25hdone\n",
            "  Created wheel for unicodecsv: filename=unicodecsv-0.14.1-cp36-none-any.whl size=10768 sha256=32b94e21c42944719e5521605927de64740facc54827f0a78f609652ed5cf6a0\n",
            "  Stored in directory: /root/.cache/pip/wheels/a6/09/e9/e800279c98a0a8c94543f3de6c8a562f60e51363ed26e71283\n",
            "Successfully built task-geo ckanapi libhxl sshtunnel ratelimit python-io-wrapper jsonpath-rw openpyxl linear-tsv unicodecsv\n",
            "\u001b[31mERROR: hdx-python-utilities 2.3.3 has requirement six>=1.14.0, but you'll have six 1.12.0 which is incompatible.\u001b[0m\n",
            "Installing collected packages: cryptography, pyOpenSSL, ndg-httpsclient, num2words, quantulum3, ckanapi, pyaml, psycopg2-binary, basicauth, pynacl, bcrypt, paramiko, sshtunnel, openpyxl, ijson, linear-tsv, unicodecsv, jsonlines, cchardet, tabulator, yamlloader, colorlog, dnspython, email-validator, ratelimit, hdx-python-utilities, unidecode, python-io-wrapper, ply, jsonpath-rw, libhxl, hdx-python-country, hdx-python-api, task-geo\n",
            "  Found existing installation: openpyxl 2.5.9\n",
            "    Uninstalling openpyxl-2.5.9:\n",
            "      Successfully uninstalled openpyxl-2.5.9\n",
            "Successfully installed basicauth-0.4.1 bcrypt-3.1.7 cchardet-2.1.6 ckanapi-4.3 colorlog-4.1.0 cryptography-2.9.2 dnspython-1.16.0 email-validator-1.1.0 hdx-python-api-4.5.6 hdx-python-country-2.5.5 hdx-python-utilities-2.3.3 ijson-3.0.3 jsonlines-1.2.0 jsonpath-rw-1.4.0 libhxl-4.19 linear-tsv-1.1.0 ndg-httpsclient-0.5.1 num2words-0.5.10 openpyxl-3.0.3 paramiko-2.7.1 ply-3.11 psycopg2-binary-2.8.5 pyOpenSSL-19.1.0 pyaml-20.4.0 pynacl-1.3.0 python-io-wrapper-0.1 quantulum3-0.7.3 ratelimit-2.2.1 sshtunnel-0.1.5 tabulator-1.41.0 task-geo-0.1.0.dev0 unicodecsv-0.14.1 unidecode-1.1.1 yamlloader-0.5.5\n"
          ],
          "name": "stdout"
        }
      ]
    },
    {
      "cell_type": "code",
      "metadata": {
        "id": "w7gA2A1-OW59",
        "colab_type": "code",
        "colab": {}
      },
      "source": [
        "os.chdir('..')"
      ],
      "execution_count": 0,
      "outputs": []
    },
    {
      "cell_type": "code",
      "metadata": {
        "id": "IrE3tZaxOrGh",
        "colab_type": "code",
        "outputId": "70239ef7-c649-4d6c-98d1-0f73b6c7dffa",
        "colab": {
          "base_uri": "https://localhost:8080/",
          "height": 104
        }
      },
      "source": [
        "df = load_data()"
      ],
      "execution_count": 0,
      "outputs": [
        {
          "output_type": "stream",
          "text": [
            "/usr/local/lib/python3.6/dist-packages/IPython/core/interactiveshell.py:2882: DtypeWarning: Columns (2) have mixed types.Specify dtype option on import or set low_memory=False.\n",
            "  exec(code_obj, self.user_global_ns, self.user_ns)\n",
            "/content/task-ts/corona_ts/data_utils/data_crawler.py:92: DtypeWarning: Columns (3) have mixed types.Specify dtype option on import or set low_memory=False.\n",
            "  mobility_df = fetch_mobility_data()\n"
          ],
          "name": "stderr"
        }
      ]
    },
    {
      "cell_type": "code",
      "metadata": {
        "id": "rdKehyM3OsD6",
        "colab_type": "code",
        "outputId": "5c9398d3-bed0-4cd2-adca-5264b6cfab3d",
        "colab": {
          "base_uri": "https://localhost:8080/",
          "height": 598
        }
      },
      "source": [
        "df[df['region']=='Florida'].sort_by()"
      ],
      "execution_count": 0,
      "outputs": [
        {
          "output_type": "execute_result",
          "data": {
            "text/html": [
              "<div>\n",
              "<style scoped>\n",
              "    .dataframe tbody tr th:only-of-type {\n",
              "        vertical-align: middle;\n",
              "    }\n",
              "\n",
              "    .dataframe tbody tr th {\n",
              "        vertical-align: top;\n",
              "    }\n",
              "\n",
              "    .dataframe thead th {\n",
              "        text-align: right;\n",
              "    }\n",
              "</style>\n",
              "<table border=\"1\" class=\"dataframe\">\n",
              "  <thead>\n",
              "    <tr style=\"text-align: right;\">\n",
              "      <th></th>\n",
              "      <th>country</th>\n",
              "      <th>region</th>\n",
              "      <th>sub_region</th>\n",
              "      <th>city</th>\n",
              "      <th>lat</th>\n",
              "      <th>long</th>\n",
              "      <th>date</th>\n",
              "      <th>level</th>\n",
              "      <th>tz</th>\n",
              "      <th>cases</th>\n",
              "      <th>deaths</th>\n",
              "      <th>recovered</th>\n",
              "      <th>active</th>\n",
              "      <th>tested</th>\n",
              "      <th>hospitalized</th>\n",
              "      <th>discharged</th>\n",
              "      <th>country_retail_recreation</th>\n",
              "      <th>country_grocery_pharmacy</th>\n",
              "      <th>country_parks</th>\n",
              "      <th>country_transit_stations</th>\n",
              "      <th>country_workplaces</th>\n",
              "      <th>country_residential</th>\n",
              "      <th>region_retail_recreation</th>\n",
              "      <th>region_grocery_pharmacy</th>\n",
              "      <th>region_parks</th>\n",
              "      <th>region_transit_stations</th>\n",
              "      <th>region_workplaces</th>\n",
              "      <th>region_residential</th>\n",
              "    </tr>\n",
              "  </thead>\n",
              "  <tbody>\n",
              "    <tr>\n",
              "      <th>27492</th>\n",
              "      <td>United States</td>\n",
              "      <td>Florida</td>\n",
              "      <td>Manatee County</td>\n",
              "      <td>NaN</td>\n",
              "      <td>27.4270</td>\n",
              "      <td>-82.4000</td>\n",
              "      <td>2020-03-01</td>\n",
              "      <td>sub_region</td>\n",
              "      <td>America/New_York</td>\n",
              "      <td>1</td>\n",
              "      <td>0</td>\n",
              "      <td>0</td>\n",
              "      <td>0</td>\n",
              "      <td>0</td>\n",
              "      <td>0</td>\n",
              "      <td>0</td>\n",
              "      <td>13.0</td>\n",
              "      <td>9.0</td>\n",
              "      <td>18.0</td>\n",
              "      <td>7.0</td>\n",
              "      <td>3.0</td>\n",
              "      <td>-1.0</td>\n",
              "      <td>8.0</td>\n",
              "      <td>7.0</td>\n",
              "      <td>10.0</td>\n",
              "      <td>7.0</td>\n",
              "      <td>1.0</td>\n",
              "      <td>-1.0</td>\n",
              "    </tr>\n",
              "    <tr>\n",
              "      <th>27493</th>\n",
              "      <td>United States</td>\n",
              "      <td>Florida</td>\n",
              "      <td>Manatee County</td>\n",
              "      <td>NaN</td>\n",
              "      <td>27.4270</td>\n",
              "      <td>-82.4000</td>\n",
              "      <td>2020-03-01</td>\n",
              "      <td>sub_region</td>\n",
              "      <td>America/New_York</td>\n",
              "      <td>1</td>\n",
              "      <td>0</td>\n",
              "      <td>0</td>\n",
              "      <td>0</td>\n",
              "      <td>0</td>\n",
              "      <td>0</td>\n",
              "      <td>0</td>\n",
              "      <td>13.0</td>\n",
              "      <td>9.0</td>\n",
              "      <td>18.0</td>\n",
              "      <td>7.0</td>\n",
              "      <td>3.0</td>\n",
              "      <td>-1.0</td>\n",
              "      <td>3.0</td>\n",
              "      <td>5.0</td>\n",
              "      <td>16.0</td>\n",
              "      <td>-4.0</td>\n",
              "      <td>-3.0</td>\n",
              "      <td>-1.0</td>\n",
              "    </tr>\n",
              "    <tr>\n",
              "      <th>27494</th>\n",
              "      <td>United States</td>\n",
              "      <td>Florida</td>\n",
              "      <td>Manatee County</td>\n",
              "      <td>NaN</td>\n",
              "      <td>27.4270</td>\n",
              "      <td>-82.4000</td>\n",
              "      <td>2020-03-01</td>\n",
              "      <td>sub_region</td>\n",
              "      <td>America/New_York</td>\n",
              "      <td>1</td>\n",
              "      <td>0</td>\n",
              "      <td>0</td>\n",
              "      <td>0</td>\n",
              "      <td>0</td>\n",
              "      <td>0</td>\n",
              "      <td>0</td>\n",
              "      <td>13.0</td>\n",
              "      <td>9.0</td>\n",
              "      <td>18.0</td>\n",
              "      <td>7.0</td>\n",
              "      <td>3.0</td>\n",
              "      <td>-1.0</td>\n",
              "      <td>19.0</td>\n",
              "      <td>19.0</td>\n",
              "      <td>NaN</td>\n",
              "      <td>NaN</td>\n",
              "      <td>0.0</td>\n",
              "      <td>NaN</td>\n",
              "    </tr>\n",
              "    <tr>\n",
              "      <th>27495</th>\n",
              "      <td>United States</td>\n",
              "      <td>Florida</td>\n",
              "      <td>Manatee County</td>\n",
              "      <td>NaN</td>\n",
              "      <td>27.4270</td>\n",
              "      <td>-82.4000</td>\n",
              "      <td>2020-03-01</td>\n",
              "      <td>sub_region</td>\n",
              "      <td>America/New_York</td>\n",
              "      <td>1</td>\n",
              "      <td>0</td>\n",
              "      <td>0</td>\n",
              "      <td>0</td>\n",
              "      <td>0</td>\n",
              "      <td>0</td>\n",
              "      <td>0</td>\n",
              "      <td>13.0</td>\n",
              "      <td>9.0</td>\n",
              "      <td>18.0</td>\n",
              "      <td>7.0</td>\n",
              "      <td>3.0</td>\n",
              "      <td>-1.0</td>\n",
              "      <td>19.0</td>\n",
              "      <td>11.0</td>\n",
              "      <td>33.0</td>\n",
              "      <td>24.0</td>\n",
              "      <td>11.0</td>\n",
              "      <td>-3.0</td>\n",
              "    </tr>\n",
              "    <tr>\n",
              "      <th>27496</th>\n",
              "      <td>United States</td>\n",
              "      <td>Florida</td>\n",
              "      <td>Manatee County</td>\n",
              "      <td>NaN</td>\n",
              "      <td>27.4270</td>\n",
              "      <td>-82.4000</td>\n",
              "      <td>2020-03-01</td>\n",
              "      <td>sub_region</td>\n",
              "      <td>America/New_York</td>\n",
              "      <td>1</td>\n",
              "      <td>0</td>\n",
              "      <td>0</td>\n",
              "      <td>0</td>\n",
              "      <td>0</td>\n",
              "      <td>0</td>\n",
              "      <td>0</td>\n",
              "      <td>13.0</td>\n",
              "      <td>9.0</td>\n",
              "      <td>18.0</td>\n",
              "      <td>7.0</td>\n",
              "      <td>3.0</td>\n",
              "      <td>-1.0</td>\n",
              "      <td>19.0</td>\n",
              "      <td>12.0</td>\n",
              "      <td>NaN</td>\n",
              "      <td>NaN</td>\n",
              "      <td>0.0</td>\n",
              "      <td>NaN</td>\n",
              "    </tr>\n",
              "    <tr>\n",
              "      <th>...</th>\n",
              "      <td>...</td>\n",
              "      <td>...</td>\n",
              "      <td>...</td>\n",
              "      <td>...</td>\n",
              "      <td>...</td>\n",
              "      <td>...</td>\n",
              "      <td>...</td>\n",
              "      <td>...</td>\n",
              "      <td>...</td>\n",
              "      <td>...</td>\n",
              "      <td>...</td>\n",
              "      <td>...</td>\n",
              "      <td>...</td>\n",
              "      <td>...</td>\n",
              "      <td>...</td>\n",
              "      <td>...</td>\n",
              "      <td>...</td>\n",
              "      <td>...</td>\n",
              "      <td>...</td>\n",
              "      <td>...</td>\n",
              "      <td>...</td>\n",
              "      <td>...</td>\n",
              "      <td>...</td>\n",
              "      <td>...</td>\n",
              "      <td>...</td>\n",
              "      <td>...</td>\n",
              "      <td>...</td>\n",
              "      <td>...</td>\n",
              "    </tr>\n",
              "    <tr>\n",
              "      <th>7679488</th>\n",
              "      <td>United States</td>\n",
              "      <td>Florida</td>\n",
              "      <td>Calhoun County</td>\n",
              "      <td>NaN</td>\n",
              "      <td>30.4040</td>\n",
              "      <td>-85.1615</td>\n",
              "      <td>2020-05-02</td>\n",
              "      <td>sub_region</td>\n",
              "      <td>America/Chicago</td>\n",
              "      <td>14</td>\n",
              "      <td>0</td>\n",
              "      <td>0</td>\n",
              "      <td>0</td>\n",
              "      <td>141</td>\n",
              "      <td>0</td>\n",
              "      <td>0</td>\n",
              "      <td>NaN</td>\n",
              "      <td>NaN</td>\n",
              "      <td>NaN</td>\n",
              "      <td>NaN</td>\n",
              "      <td>NaN</td>\n",
              "      <td>NaN</td>\n",
              "      <td>NaN</td>\n",
              "      <td>NaN</td>\n",
              "      <td>NaN</td>\n",
              "      <td>NaN</td>\n",
              "      <td>NaN</td>\n",
              "      <td>NaN</td>\n",
              "    </tr>\n",
              "    <tr>\n",
              "      <th>7679495</th>\n",
              "      <td>United States</td>\n",
              "      <td>Florida</td>\n",
              "      <td>Citrus County</td>\n",
              "      <td>NaN</td>\n",
              "      <td>28.8570</td>\n",
              "      <td>-82.4640</td>\n",
              "      <td>2020-05-02</td>\n",
              "      <td>sub_region</td>\n",
              "      <td>America/New_York</td>\n",
              "      <td>99</td>\n",
              "      <td>11</td>\n",
              "      <td>0</td>\n",
              "      <td>0</td>\n",
              "      <td>1704</td>\n",
              "      <td>0</td>\n",
              "      <td>0</td>\n",
              "      <td>NaN</td>\n",
              "      <td>NaN</td>\n",
              "      <td>NaN</td>\n",
              "      <td>NaN</td>\n",
              "      <td>NaN</td>\n",
              "      <td>NaN</td>\n",
              "      <td>NaN</td>\n",
              "      <td>NaN</td>\n",
              "      <td>NaN</td>\n",
              "      <td>NaN</td>\n",
              "      <td>NaN</td>\n",
              "      <td>NaN</td>\n",
              "    </tr>\n",
              "    <tr>\n",
              "      <th>7679499</th>\n",
              "      <td>United States</td>\n",
              "      <td>Florida</td>\n",
              "      <td>Collier County</td>\n",
              "      <td>NaN</td>\n",
              "      <td>26.1600</td>\n",
              "      <td>-81.3595</td>\n",
              "      <td>2020-05-02</td>\n",
              "      <td>sub_region</td>\n",
              "      <td>America/New_York</td>\n",
              "      <td>628</td>\n",
              "      <td>21</td>\n",
              "      <td>0</td>\n",
              "      <td>0</td>\n",
              "      <td>5867</td>\n",
              "      <td>0</td>\n",
              "      <td>0</td>\n",
              "      <td>NaN</td>\n",
              "      <td>NaN</td>\n",
              "      <td>NaN</td>\n",
              "      <td>NaN</td>\n",
              "      <td>NaN</td>\n",
              "      <td>NaN</td>\n",
              "      <td>NaN</td>\n",
              "      <td>NaN</td>\n",
              "      <td>NaN</td>\n",
              "      <td>NaN</td>\n",
              "      <td>NaN</td>\n",
              "      <td>NaN</td>\n",
              "    </tr>\n",
              "    <tr>\n",
              "      <th>7679508</th>\n",
              "      <td>United States</td>\n",
              "      <td>Florida</td>\n",
              "      <td>Clay County</td>\n",
              "      <td>NaN</td>\n",
              "      <td>29.9560</td>\n",
              "      <td>-81.8150</td>\n",
              "      <td>2020-05-02</td>\n",
              "      <td>sub_region</td>\n",
              "      <td>America/New_York</td>\n",
              "      <td>278</td>\n",
              "      <td>18</td>\n",
              "      <td>0</td>\n",
              "      <td>0</td>\n",
              "      <td>4060</td>\n",
              "      <td>0</td>\n",
              "      <td>0</td>\n",
              "      <td>NaN</td>\n",
              "      <td>NaN</td>\n",
              "      <td>NaN</td>\n",
              "      <td>NaN</td>\n",
              "      <td>NaN</td>\n",
              "      <td>NaN</td>\n",
              "      <td>NaN</td>\n",
              "      <td>NaN</td>\n",
              "      <td>NaN</td>\n",
              "      <td>NaN</td>\n",
              "      <td>NaN</td>\n",
              "      <td>NaN</td>\n",
              "    </tr>\n",
              "    <tr>\n",
              "      <th>7679765</th>\n",
              "      <td>United States</td>\n",
              "      <td>Florida</td>\n",
              "      <td>NaN</td>\n",
              "      <td>NaN</td>\n",
              "      <td>27.8185</td>\n",
              "      <td>-83.8385</td>\n",
              "      <td>2020-05-02</td>\n",
              "      <td>region</td>\n",
              "      <td>America/New_York</td>\n",
              "      <td>35463</td>\n",
              "      <td>1364</td>\n",
              "      <td>0</td>\n",
              "      <td>0</td>\n",
              "      <td>417762</td>\n",
              "      <td>0</td>\n",
              "      <td>0</td>\n",
              "      <td>NaN</td>\n",
              "      <td>NaN</td>\n",
              "      <td>NaN</td>\n",
              "      <td>NaN</td>\n",
              "      <td>NaN</td>\n",
              "      <td>NaN</td>\n",
              "      <td>NaN</td>\n",
              "      <td>NaN</td>\n",
              "      <td>NaN</td>\n",
              "      <td>NaN</td>\n",
              "      <td>NaN</td>\n",
              "      <td>NaN</td>\n",
              "    </tr>\n",
              "  </tbody>\n",
              "</table>\n",
              "<p>192901 rows × 28 columns</p>\n",
              "</div>"
            ],
            "text/plain": [
              "               country   region  ... region_workplaces region_residential\n",
              "27492    United States  Florida  ...               1.0               -1.0\n",
              "27493    United States  Florida  ...              -3.0               -1.0\n",
              "27494    United States  Florida  ...               0.0                NaN\n",
              "27495    United States  Florida  ...              11.0               -3.0\n",
              "27496    United States  Florida  ...               0.0                NaN\n",
              "...                ...      ...  ...               ...                ...\n",
              "7679488  United States  Florida  ...               NaN                NaN\n",
              "7679495  United States  Florida  ...               NaN                NaN\n",
              "7679499  United States  Florida  ...               NaN                NaN\n",
              "7679508  United States  Florida  ...               NaN                NaN\n",
              "7679765  United States  Florida  ...               NaN                NaN\n",
              "\n",
              "[192901 rows x 28 columns]"
            ]
          },
          "metadata": {
            "tags": []
          },
          "execution_count": 17
        }
      ]
    }
  ]
}