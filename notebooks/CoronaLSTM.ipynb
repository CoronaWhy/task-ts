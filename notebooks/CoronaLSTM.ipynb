{
  "nbformat": 4,
  "nbformat_minor": 0,
  "metadata": {
    "colab": {
      "name": "CoronaBasic.ipynb",
      "provenance": [],
      "collapsed_sections": []
    },
    "kernelspec": {
      "name": "python3",
      "display_name": "Python 3"
    }
  },
  "cells": [
    {
      "cell_type": "markdown",
      "metadata": {
        "id": "htDHburyBuEe",
        "colab_type": "text"
      },
      "source": [
        "# Preliminary Analysis of CoronaVirus Time Series Data\n",
        "In this notebook we will conduct some preliminary analysis and forecasting on the Coronavirus time seires data. For this analysis we will look at \n",
        "\n",
        "**Warning this is a basic analysis/machine learning model. The goal of this notebook is to gage the utility of data augmentation/transfer learning for virus forecasting. NOT provide actionable insights. It would additional rounds of training/validation + verification by epidemiologists and public health experts before I would be confident relying on using it for any actionable insights**"
      ]
    },
    {
      "cell_type": "code",
      "metadata": {
        "id": "CA1NxnWmHOAQ",
        "colab_type": "code",
        "outputId": "7ccd033e-5fb0-47eb-cad5-7bd417fec8f9",
        "colab": {
          "base_uri": "https://localhost:8080/",
          "height": 220
        }
      },
      "source": [
        "#!git clone https://github.com/CoronaWhy/task-geo.git\n",
        "#os.chdir('task-geo')\n",
        "#make install\n",
        "!wget -O coronavirus_timeseries.csv https://coronadatascraper.com/timeseries.csv"
      ],
      "execution_count": 2,
      "outputs": [
        {
          "output_type": "stream",
          "text": [
            "--2020-04-23 00:16:30--  https://coronadatascraper.com/timeseries.csv\n",
            "Resolving coronadatascraper.com (coronadatascraper.com)... 185.199.108.153, 185.199.111.153, 185.199.110.153\n",
            "Connecting to coronadatascraper.com (coronadatascraper.com)|185.199.108.153|:443... connected.\n",
            "HTTP request sent, awaiting response... 200 OK\n",
            "Length: 30815054 (29M) [text/csv]\n",
            "Saving to: ‘coronavirus_timeseries.csv’\n",
            "\n",
            "coronavirus_timeser 100%[===================>]  29.39M  38.3MB/s    in 0.8s    \n",
            "\n",
            "2020-04-23 00:16:31 (38.3 MB/s) - ‘coronavirus_timeseries.csv’ saved [30815054/30815054]\n",
            "\n"
          ],
          "name": "stdout"
        }
      ]
    },
    {
      "cell_type": "code",
      "metadata": {
        "id": "WmOWKLuxHT7j",
        "colab_type": "code",
        "outputId": "ca95087e-04ba-44ee-be7f-db6a6c0f5cbe",
        "colab": {
          "base_uri": "https://localhost:8080/",
          "height": 420
        }
      },
      "source": [
        "import pandas as pd\n",
        "df = pd.read_csv(\"coronavirus_timeseries.csv\")\n",
        "df[:-20].tail()"
      ],
      "execution_count": 3,
      "outputs": [
        {
          "output_type": "stream",
          "text": [
            "/usr/local/lib/python3.6/dist-packages/IPython/core/interactiveshell.py:2718: DtypeWarning: Columns (2) have mixed types.Specify dtype option on import or set low_memory=False.\n",
            "  interactivity=interactivity, compiler=compiler, result=result)\n"
          ],
          "name": "stderr"
        },
        {
          "output_type": "execute_result",
          "data": {
            "text/html": [
              "<div>\n",
              "<style scoped>\n",
              "    .dataframe tbody tr th:only-of-type {\n",
              "        vertical-align: middle;\n",
              "    }\n",
              "\n",
              "    .dataframe tbody tr th {\n",
              "        vertical-align: top;\n",
              "    }\n",
              "\n",
              "    .dataframe thead th {\n",
              "        text-align: right;\n",
              "    }\n",
              "</style>\n",
              "<table border=\"1\" class=\"dataframe\">\n",
              "  <thead>\n",
              "    <tr style=\"text-align: right;\">\n",
              "      <th></th>\n",
              "      <th>name</th>\n",
              "      <th>level</th>\n",
              "      <th>city</th>\n",
              "      <th>county</th>\n",
              "      <th>state</th>\n",
              "      <th>country</th>\n",
              "      <th>population</th>\n",
              "      <th>lat</th>\n",
              "      <th>long</th>\n",
              "      <th>url</th>\n",
              "      <th>aggregate</th>\n",
              "      <th>tz</th>\n",
              "      <th>cases</th>\n",
              "      <th>deaths</th>\n",
              "      <th>recovered</th>\n",
              "      <th>active</th>\n",
              "      <th>tested</th>\n",
              "      <th>hospitalized</th>\n",
              "      <th>discharged</th>\n",
              "      <th>growthFactor</th>\n",
              "      <th>date</th>\n",
              "    </tr>\n",
              "  </thead>\n",
              "  <tbody>\n",
              "    <tr>\n",
              "      <th>126840</th>\n",
              "      <td>Yamagata Prefecture, Japan</td>\n",
              "      <td>state</td>\n",
              "      <td>NaN</td>\n",
              "      <td>NaN</td>\n",
              "      <td>Yamagata Prefecture</td>\n",
              "      <td>Japan</td>\n",
              "      <td>1077057.0</td>\n",
              "      <td>38.4335</td>\n",
              "      <td>140.0910</td>\n",
              "      <td>https://services8.arcgis.com/JdxivnCyd1rvJTrY/...</td>\n",
              "      <td>NaN</td>\n",
              "      <td>Asia/Tokyo</td>\n",
              "      <td>60.0</td>\n",
              "      <td>NaN</td>\n",
              "      <td>NaN</td>\n",
              "      <td>NaN</td>\n",
              "      <td>NaN</td>\n",
              "      <td>NaN</td>\n",
              "      <td>NaN</td>\n",
              "      <td>NaN</td>\n",
              "      <td>2020-04-20</td>\n",
              "    </tr>\n",
              "    <tr>\n",
              "      <th>126841</th>\n",
              "      <td>Yamagata Prefecture, Japan</td>\n",
              "      <td>state</td>\n",
              "      <td>NaN</td>\n",
              "      <td>NaN</td>\n",
              "      <td>Yamagata Prefecture</td>\n",
              "      <td>Japan</td>\n",
              "      <td>1077057.0</td>\n",
              "      <td>38.4335</td>\n",
              "      <td>140.0910</td>\n",
              "      <td>https://services8.arcgis.com/JdxivnCyd1rvJTrY/...</td>\n",
              "      <td>NaN</td>\n",
              "      <td>Asia/Tokyo</td>\n",
              "      <td>60.0</td>\n",
              "      <td>NaN</td>\n",
              "      <td>NaN</td>\n",
              "      <td>NaN</td>\n",
              "      <td>NaN</td>\n",
              "      <td>NaN</td>\n",
              "      <td>NaN</td>\n",
              "      <td>NaN</td>\n",
              "      <td>2020-04-21</td>\n",
              "    </tr>\n",
              "    <tr>\n",
              "      <th>126842</th>\n",
              "      <td>Yamanashi Prefecture, Japan</td>\n",
              "      <td>state</td>\n",
              "      <td>NaN</td>\n",
              "      <td>NaN</td>\n",
              "      <td>Yamanashi Prefecture</td>\n",
              "      <td>Japan</td>\n",
              "      <td>812056.0</td>\n",
              "      <td>35.5695</td>\n",
              "      <td>138.6575</td>\n",
              "      <td>https://services8.arcgis.com/JdxivnCyd1rvJTrY/...</td>\n",
              "      <td>NaN</td>\n",
              "      <td>Asia/Tokyo</td>\n",
              "      <td>40.0</td>\n",
              "      <td>NaN</td>\n",
              "      <td>NaN</td>\n",
              "      <td>NaN</td>\n",
              "      <td>NaN</td>\n",
              "      <td>NaN</td>\n",
              "      <td>NaN</td>\n",
              "      <td>NaN</td>\n",
              "      <td>2020-04-16</td>\n",
              "    </tr>\n",
              "    <tr>\n",
              "      <th>126843</th>\n",
              "      <td>Yamanashi Prefecture, Japan</td>\n",
              "      <td>state</td>\n",
              "      <td>NaN</td>\n",
              "      <td>NaN</td>\n",
              "      <td>Yamanashi Prefecture</td>\n",
              "      <td>Japan</td>\n",
              "      <td>812056.0</td>\n",
              "      <td>35.5695</td>\n",
              "      <td>138.6575</td>\n",
              "      <td>https://services8.arcgis.com/JdxivnCyd1rvJTrY/...</td>\n",
              "      <td>NaN</td>\n",
              "      <td>Asia/Tokyo</td>\n",
              "      <td>43.0</td>\n",
              "      <td>NaN</td>\n",
              "      <td>NaN</td>\n",
              "      <td>NaN</td>\n",
              "      <td>NaN</td>\n",
              "      <td>NaN</td>\n",
              "      <td>NaN</td>\n",
              "      <td>NaN</td>\n",
              "      <td>2020-04-17</td>\n",
              "    </tr>\n",
              "    <tr>\n",
              "      <th>126844</th>\n",
              "      <td>Yamanashi Prefecture, Japan</td>\n",
              "      <td>state</td>\n",
              "      <td>NaN</td>\n",
              "      <td>NaN</td>\n",
              "      <td>Yamanashi Prefecture</td>\n",
              "      <td>Japan</td>\n",
              "      <td>812056.0</td>\n",
              "      <td>35.5695</td>\n",
              "      <td>138.6575</td>\n",
              "      <td>https://services8.arcgis.com/JdxivnCyd1rvJTrY/...</td>\n",
              "      <td>NaN</td>\n",
              "      <td>Asia/Tokyo</td>\n",
              "      <td>46.0</td>\n",
              "      <td>NaN</td>\n",
              "      <td>NaN</td>\n",
              "      <td>NaN</td>\n",
              "      <td>NaN</td>\n",
              "      <td>NaN</td>\n",
              "      <td>NaN</td>\n",
              "      <td>NaN</td>\n",
              "      <td>2020-04-18</td>\n",
              "    </tr>\n",
              "  </tbody>\n",
              "</table>\n",
              "</div>"
            ],
            "text/plain": [
              "                               name  level  ... growthFactor        date\n",
              "126840   Yamagata Prefecture, Japan  state  ...          NaN  2020-04-20\n",
              "126841   Yamagata Prefecture, Japan  state  ...          NaN  2020-04-21\n",
              "126842  Yamanashi Prefecture, Japan  state  ...          NaN  2020-04-16\n",
              "126843  Yamanashi Prefecture, Japan  state  ...          NaN  2020-04-17\n",
              "126844  Yamanashi Prefecture, Japan  state  ...          NaN  2020-04-18\n",
              "\n",
              "[5 rows x 21 columns]"
            ]
          },
          "metadata": {
            "tags": []
          },
          "execution_count": 3
        }
      ]
    },
    {
      "cell_type": "code",
      "metadata": {
        "id": "WiJyk9YiHaOX",
        "colab_type": "code",
        "colab": {
          "base_uri": "https://localhost:8080/",
          "height": 386
        },
        "outputId": "08896184-4960-447a-c674-53b937eb43ea"
      },
      "source": [
        "antwerp_df = df[df['county']=='Antwerp'].fillna(0)\n",
        "antwerp_relevant = antwerp_df[['cases', 'deaths', 'recovered', 'population', 'lat', 'long']].values\n",
        "antwerp_df.tail()"
      ],
      "execution_count": 4,
      "outputs": [
        {
          "output_type": "execute_result",
          "data": {
            "text/html": [
              "<div>\n",
              "<style scoped>\n",
              "    .dataframe tbody tr th:only-of-type {\n",
              "        vertical-align: middle;\n",
              "    }\n",
              "\n",
              "    .dataframe tbody tr th {\n",
              "        vertical-align: top;\n",
              "    }\n",
              "\n",
              "    .dataframe thead th {\n",
              "        text-align: right;\n",
              "    }\n",
              "</style>\n",
              "<table border=\"1\" class=\"dataframe\">\n",
              "  <thead>\n",
              "    <tr style=\"text-align: right;\">\n",
              "      <th></th>\n",
              "      <th>name</th>\n",
              "      <th>level</th>\n",
              "      <th>city</th>\n",
              "      <th>county</th>\n",
              "      <th>state</th>\n",
              "      <th>country</th>\n",
              "      <th>population</th>\n",
              "      <th>lat</th>\n",
              "      <th>long</th>\n",
              "      <th>url</th>\n",
              "      <th>aggregate</th>\n",
              "      <th>tz</th>\n",
              "      <th>cases</th>\n",
              "      <th>deaths</th>\n",
              "      <th>recovered</th>\n",
              "      <th>active</th>\n",
              "      <th>tested</th>\n",
              "      <th>hospitalized</th>\n",
              "      <th>discharged</th>\n",
              "      <th>growthFactor</th>\n",
              "      <th>date</th>\n",
              "    </tr>\n",
              "  </thead>\n",
              "  <tbody>\n",
              "    <tr>\n",
              "      <th>86</th>\n",
              "      <td>Antwerp, Flanders, Belgium</td>\n",
              "      <td>county</td>\n",
              "      <td>0</td>\n",
              "      <td>Antwerp</td>\n",
              "      <td>Flanders</td>\n",
              "      <td>Belgium</td>\n",
              "      <td>1847486.0</td>\n",
              "      <td>51.2485</td>\n",
              "      <td>4.7175</td>\n",
              "      <td>https://epistat.wiv-isp.be/</td>\n",
              "      <td>0</td>\n",
              "      <td>Europe/Brussels</td>\n",
              "      <td>4935.0</td>\n",
              "      <td>0.0</td>\n",
              "      <td>0.0</td>\n",
              "      <td>0.0</td>\n",
              "      <td>0.0</td>\n",
              "      <td>1922.0</td>\n",
              "      <td>1447.0</td>\n",
              "      <td>0.0</td>\n",
              "      <td>2020-04-17</td>\n",
              "    </tr>\n",
              "    <tr>\n",
              "      <th>87</th>\n",
              "      <td>Antwerp, Flanders, Belgium</td>\n",
              "      <td>county</td>\n",
              "      <td>0</td>\n",
              "      <td>Antwerp</td>\n",
              "      <td>Flanders</td>\n",
              "      <td>Belgium</td>\n",
              "      <td>1847486.0</td>\n",
              "      <td>51.2485</td>\n",
              "      <td>4.7175</td>\n",
              "      <td>https://epistat.wiv-isp.be/</td>\n",
              "      <td>0</td>\n",
              "      <td>Europe/Brussels</td>\n",
              "      <td>4993.0</td>\n",
              "      <td>0.0</td>\n",
              "      <td>0.0</td>\n",
              "      <td>0.0</td>\n",
              "      <td>0.0</td>\n",
              "      <td>1943.0</td>\n",
              "      <td>1501.0</td>\n",
              "      <td>0.0</td>\n",
              "      <td>2020-04-18</td>\n",
              "    </tr>\n",
              "    <tr>\n",
              "      <th>88</th>\n",
              "      <td>Antwerp, Flanders, Belgium</td>\n",
              "      <td>county</td>\n",
              "      <td>0</td>\n",
              "      <td>Antwerp</td>\n",
              "      <td>Flanders</td>\n",
              "      <td>Belgium</td>\n",
              "      <td>1847486.0</td>\n",
              "      <td>51.2485</td>\n",
              "      <td>4.7175</td>\n",
              "      <td>https://epistat.wiv-isp.be/</td>\n",
              "      <td>0</td>\n",
              "      <td>Europe/Brussels</td>\n",
              "      <td>5026.0</td>\n",
              "      <td>0.0</td>\n",
              "      <td>0.0</td>\n",
              "      <td>0.0</td>\n",
              "      <td>0.0</td>\n",
              "      <td>1981.0</td>\n",
              "      <td>1520.0</td>\n",
              "      <td>0.0</td>\n",
              "      <td>2020-04-19</td>\n",
              "    </tr>\n",
              "    <tr>\n",
              "      <th>89</th>\n",
              "      <td>Antwerp, Flanders, Belgium</td>\n",
              "      <td>county</td>\n",
              "      <td>0</td>\n",
              "      <td>Antwerp</td>\n",
              "      <td>Flanders</td>\n",
              "      <td>Belgium</td>\n",
              "      <td>1847486.0</td>\n",
              "      <td>51.2485</td>\n",
              "      <td>4.7175</td>\n",
              "      <td>https://epistat.wiv-isp.be/</td>\n",
              "      <td>0</td>\n",
              "      <td>Europe/Brussels</td>\n",
              "      <td>5027.0</td>\n",
              "      <td>0.0</td>\n",
              "      <td>0.0</td>\n",
              "      <td>0.0</td>\n",
              "      <td>0.0</td>\n",
              "      <td>1999.0</td>\n",
              "      <td>1547.0</td>\n",
              "      <td>0.0</td>\n",
              "      <td>2020-04-20</td>\n",
              "    </tr>\n",
              "    <tr>\n",
              "      <th>90</th>\n",
              "      <td>Antwerp, Flanders, Belgium</td>\n",
              "      <td>county</td>\n",
              "      <td>0</td>\n",
              "      <td>Antwerp</td>\n",
              "      <td>Flanders</td>\n",
              "      <td>Belgium</td>\n",
              "      <td>1847486.0</td>\n",
              "      <td>51.2485</td>\n",
              "      <td>4.7175</td>\n",
              "      <td>https://epistat.wiv-isp.be/</td>\n",
              "      <td>0</td>\n",
              "      <td>Europe/Brussels</td>\n",
              "      <td>5027.0</td>\n",
              "      <td>0.0</td>\n",
              "      <td>0.0</td>\n",
              "      <td>0.0</td>\n",
              "      <td>0.0</td>\n",
              "      <td>1999.0</td>\n",
              "      <td>1547.0</td>\n",
              "      <td>0.0</td>\n",
              "      <td>2020-04-21</td>\n",
              "    </tr>\n",
              "  </tbody>\n",
              "</table>\n",
              "</div>"
            ],
            "text/plain": [
              "                          name   level  ...  growthFactor        date\n",
              "86  Antwerp, Flanders, Belgium  county  ...           0.0  2020-04-17\n",
              "87  Antwerp, Flanders, Belgium  county  ...           0.0  2020-04-18\n",
              "88  Antwerp, Flanders, Belgium  county  ...           0.0  2020-04-19\n",
              "89  Antwerp, Flanders, Belgium  county  ...           0.0  2020-04-20\n",
              "90  Antwerp, Flanders, Belgium  county  ...           0.0  2020-04-21\n",
              "\n",
              "[5 rows x 21 columns]"
            ]
          },
          "metadata": {
            "tags": []
          },
          "execution_count": 4
        }
      ]
    },
    {
      "cell_type": "markdown",
      "metadata": {
        "id": "KlVWneL_CV3r",
        "colab_type": "text"
      },
      "source": [
        "## Data Augmentation"
      ]
    },
    {
      "cell_type": "code",
      "metadata": {
        "id": "l1J98G13HbKM",
        "colab_type": "code",
        "colab": {}
      },
      "source": [
        "!pip install tsaug"
      ],
      "execution_count": 0,
      "outputs": []
    },
    {
      "cell_type": "code",
      "metadata": {
        "id": "aXNkSdTFvZ1g",
        "colab_type": "code",
        "colab": {}
      },
      "source": [
        "from tsaug.visualization import plot \n",
        "from tsaug import TimeWarp, Crop, Quantize, Drift, Reverse\n",
        "my_augmenter = (TimeWarp() * 5, # random time warping 5 times in parallel \n",
        "                Crop(size=300),  # random crop subsequences with length 300\n",
        "                Quantize(n_levels=[10, 20, 30]),  # random quantize to 10-, 20-, or 30- level sets\n",
        "                Drift(max_drift=(0.1, 0.5)),   # with 80% probability, random drift the signal up to 10% - 50%\n",
        "                Reverse()) #0.5  # with 50% probability, reverse the sequence)"
      ],
      "execution_count": 0,
      "outputs": []
    },
    {
      "cell_type": "code",
      "metadata": {
        "id": "VdVWNhk2XRJw",
        "colab_type": "code",
        "colab": {}
      },
      "source": [
        "#X_aug = my_augmenter[0].augment(antwerp_relevant)\n",
        "print(antwerp_relevant.shape)\n",
        "X_aug.shape\n",
        "from sklearn.preprocessing import StandardScaler\n",
        "a = StandardScaler()\n",
        "b = a\n",
        "s = a.fit_transform(antwerp_df[['cases', 'deaths', 'recovered', 'population', 'lat', 'long']])\n",
        "result = b.fit_transform(antwerp_df[['cases', 'deaths', 'recovered', 'population', 'lat', 'long']][:-20])"
      ],
      "execution_count": 0,
      "outputs": []
    },
    {
      "cell_type": "markdown",
      "metadata": {
        "id": "-A6ICggnYBlX",
        "colab_type": "text"
      },
      "source": [
        "## Models and Forecasting\n",
        "We will now define some simple models in Keras for forecasting."
      ]
    },
    {
      "cell_type": "code",
      "metadata": {
        "id": "VO7ZOB41az1W",
        "colab_type": "code",
        "colab": {}
      },
      "source": [
        "import numpy as np\n",
        "from sklearn.preprocessing import RobustScaler\n",
        "r = RobustScaler()\n",
        "x_train_full = antwerp_df[['deaths', 'cases']][:70]\n",
        "x_train_full['cases'] = r.fit_transform(x_train_full['cases'].values.reshape(-1, 1))\n",
        "y_train_full = x_train_full['cases']\n",
        "r_test = RobustScaler()\n",
        "test = antwerp_df[['deaths', 'cases']][70:] \n",
        "test['cases'] = r_test.fit_transform(antwerp_df['cases'][70:].values.reshape(-1, 1))"
      ],
      "execution_count": 0,
      "outputs": []
    },
    {
      "cell_type": "code",
      "metadata": {
        "id": "eUR6eM4MZZJJ",
        "colab_type": "code",
        "colab": {}
      },
      "source": [
        "def create_dataset(X, y, time_steps=1):\n",
        "    Xs, ys = [], []\n",
        "    for i in range(len(X) - time_steps):\n",
        "        v = X.iloc[i:(i + time_steps)].values\n",
        "        Xs.append(v)\n",
        "        ys.append(y.iloc[i + time_steps])\n",
        "    return np.array(Xs), np.array(ys)\n",
        "\n",
        "X_train, Y_train = create_dataset(x_train_full, y_train_full, 5)\n",
        "X_test, y_test = create_dataset(test, test.cases, 5)"
      ],
      "execution_count": 0,
      "outputs": []
    },
    {
      "cell_type": "code",
      "metadata": {
        "id": "nXhSxkqdYJbd",
        "colab_type": "code",
        "colab": {
          "base_uri": "https://localhost:8080/",
          "height": 1000
        },
        "outputId": "b07247cd-af7e-499d-da3d-600eb7255167"
      },
      "source": [
        "import keras\n",
        "model = keras.Sequential()\n",
        "model.add(\n",
        "  keras.layers.Bidirectional(\n",
        "    keras.layers.LSTM(\n",
        "      units=128,\n",
        "      input_shape=(X_train.shape[1], X_train.shape[2])\n",
        "    )\n",
        "  )\n",
        ")\n",
        "model.add(keras.layers.Dropout(rate=0.2))\n",
        "model.add(keras.layers.Dense(units=1))\n",
        "model.compile(loss='mean_squared_error', optimizer='adam')\n",
        "\n",
        "history = model.fit(\n",
        "    X_train, Y_train,\n",
        "    epochs=30,\n",
        "    batch_size=2,\n",
        "    validation_split=0.1,\n",
        "    shuffle=False\n",
        ")"
      ],
      "execution_count": 57,
      "outputs": [
        {
          "output_type": "stream",
          "text": [
            "Train on 58 samples, validate on 7 samples\n",
            "Epoch 1/30\n",
            "58/58 [==============================] - 1s 20ms/step - loss: 0.8647 - val_loss: 37.8788\n",
            "Epoch 2/30\n",
            "58/58 [==============================] - 0s 4ms/step - loss: 0.0549 - val_loss: 5.6578\n",
            "Epoch 3/30\n",
            "58/58 [==============================] - 0s 4ms/step - loss: 0.0277 - val_loss: 3.4270\n",
            "Epoch 4/30\n",
            "58/58 [==============================] - 0s 4ms/step - loss: 0.0440 - val_loss: 4.4734\n",
            "Epoch 5/30\n",
            "58/58 [==============================] - 0s 4ms/step - loss: 0.1350 - val_loss: 2.2835\n",
            "Epoch 6/30\n",
            "58/58 [==============================] - 0s 4ms/step - loss: 0.5905 - val_loss: 26.4098\n",
            "Epoch 7/30\n",
            "58/58 [==============================] - 0s 4ms/step - loss: 0.0156 - val_loss: 7.1021\n",
            "Epoch 8/30\n",
            "58/58 [==============================] - 0s 4ms/step - loss: 0.0270 - val_loss: 5.3730\n",
            "Epoch 9/30\n",
            "58/58 [==============================] - 0s 4ms/step - loss: 0.0728 - val_loss: 8.3558\n",
            "Epoch 10/30\n",
            "58/58 [==============================] - 0s 4ms/step - loss: 0.0994 - val_loss: 3.8568\n",
            "Epoch 11/30\n",
            "58/58 [==============================] - 0s 4ms/step - loss: 0.2885 - val_loss: 17.4288\n",
            "Epoch 12/30\n",
            "58/58 [==============================] - 0s 4ms/step - loss: 0.0448 - val_loss: 5.9615\n",
            "Epoch 13/30\n",
            "58/58 [==============================] - 0s 4ms/step - loss: 0.0702 - val_loss: 9.3451\n",
            "Epoch 14/30\n",
            "58/58 [==============================] - 0s 4ms/step - loss: 0.0718 - val_loss: 4.6164\n",
            "Epoch 15/30\n",
            "58/58 [==============================] - 0s 4ms/step - loss: 0.1320 - val_loss: 12.6364\n",
            "Epoch 16/30\n",
            "58/58 [==============================] - 0s 4ms/step - loss: 0.0523 - val_loss: 5.3822\n",
            "Epoch 17/30\n",
            "58/58 [==============================] - 0s 4ms/step - loss: 0.0439 - val_loss: 9.6921\n",
            "Epoch 18/30\n",
            "58/58 [==============================] - 0s 4ms/step - loss: 0.0419 - val_loss: 5.4334\n",
            "Epoch 19/30\n",
            "58/58 [==============================] - 0s 4ms/step - loss: 0.0194 - val_loss: 7.4279\n",
            "Epoch 20/30\n",
            "58/58 [==============================] - 0s 4ms/step - loss: 0.0251 - val_loss: 5.5073\n",
            "Epoch 21/30\n",
            "58/58 [==============================] - 0s 4ms/step - loss: 0.0129 - val_loss: 6.6857\n",
            "Epoch 22/30\n",
            "58/58 [==============================] - 0s 4ms/step - loss: 0.0333 - val_loss: 4.9811\n",
            "Epoch 23/30\n",
            "58/58 [==============================] - 0s 4ms/step - loss: 0.0110 - val_loss: 5.4267\n",
            "Epoch 24/30\n",
            "58/58 [==============================] - 0s 4ms/step - loss: 0.0266 - val_loss: 4.6501\n",
            "Epoch 25/30\n",
            "58/58 [==============================] - 0s 4ms/step - loss: 0.0152 - val_loss: 5.8200\n",
            "Epoch 26/30\n",
            "58/58 [==============================] - 0s 5ms/step - loss: 0.0276 - val_loss: 4.4523\n",
            "Epoch 27/30\n",
            "58/58 [==============================] - 0s 4ms/step - loss: 0.0435 - val_loss: 6.5435\n",
            "Epoch 28/30\n",
            "58/58 [==============================] - 0s 4ms/step - loss: 0.0734 - val_loss: 3.3219\n",
            "Epoch 29/30\n",
            "58/58 [==============================] - 0s 4ms/step - loss: 0.1910 - val_loss: 11.9158\n",
            "Epoch 30/30\n",
            "58/58 [==============================] - 0s 4ms/step - loss: 0.0743 - val_loss: 3.5335\n"
          ],
          "name": "stdout"
        }
      ]
    },
    {
      "cell_type": "code",
      "metadata": {
        "id": "tR_vweL-bOD1",
        "colab_type": "code",
        "colab": {
          "base_uri": "https://localhost:8080/",
          "height": 286
        },
        "outputId": "3f50c626-9225-4535-c5da-32f57c1dd50d"
      },
      "source": [
        "import matplotlib.pyplot as plt\n",
        "%matplotlib inline\n",
        "%config InlineBackend.figure_format='retina'\n",
        "plt.plot(history.history['loss'], label='train')\n",
        "plt.plot(history.history['val_loss'], label='test')\n",
        "plt.legend();"
      ],
      "execution_count": 58,
      "outputs": [
        {
          "output_type": "display_data",
          "data": {
            "image/png": "[encoded data removed]",
            "text/plain": [
              "<Figure size 432x288 with 1 Axes>"
            ]
          },
          "metadata": {
            "tags": [],
            "image/png": {
              "width": 370,
              "height": 248
            },
            "needs_background": "light"
          }
        }
      ]
    },
    {
      "cell_type": "code",
      "metadata": {
        "id": "evdFXz-k0BI0",
        "colab_type": "code",
        "colab": {
          "base_uri": "https://localhost:8080/",
          "height": 335
        },
        "outputId": "604065e5-8fa2-4b26-b773-d1780ca22d50"
      },
      "source": [
        ""
      ],
      "execution_count": 65,
      "outputs": [
        {
          "output_type": "execute_result",
          "data": {
            "text/plain": [
              "array([[   0., 2341.,    0., 2507.,    0., 2693.,    0., 2801.,    0.,\n",
              "        2880.,    0., 2507.,    0., 2693.,    0., 2801.,    0., 2880.,\n",
              "           0., 3127.,    0., 2693.,    0., 2801.,    0., 2880.,    0.,\n",
              "        3127.,    0., 3306.,    0., 2801.,    0., 2880.,    0., 3127.,\n",
              "           0., 3306.,    0., 3517.,    0., 2880.,    0., 3127.,    0.,\n",
              "        3306.,    0., 3517.,    0., 3818.,    0., 3127.,    0., 3306.,\n",
              "           0., 3517.,    0., 3818.,    0., 4081.,    0., 3306.,    0.,\n",
              "        3517.,    0., 3818.,    0., 4081.,    0., 4172.,    0., 3517.,\n",
              "           0., 3818.,    0., 4081.,    0., 4172.,    0., 4256.,    0.,\n",
              "        3818.,    0., 4081.,    0., 4172.,    0., 4256.,    0., 4321.,\n",
              "           0., 4081.,    0., 4172.,    0., 4256.,    0., 4321.,    0.,\n",
              "        4461.,    0., 4172.,    0., 4256.,    0., 4321.,    0., 4461.,\n",
              "           0., 4636.,    0., 4256.,    0., 4321.,    0., 4461.,    0.,\n",
              "        4636.,    0., 4827.,    0., 4321.,    0., 4461.,    0., 4636.,\n",
              "           0., 4827.,    0., 4935.,    0., 4461.,    0., 4636.,    0.,\n",
              "        4827.,    0., 4935.,    0., 4993.,    0., 4636.,    0., 4827.,\n",
              "           0., 4935.,    0., 4993.,    0., 5026.,    0., 4827.,    0.,\n",
              "        4935.,    0., 4993.,    0., 5026.,    0., 5027.]])"
            ]
          },
          "metadata": {
            "tags": []
          },
          "execution_count": 65
        }
      ]
    },
    {
      "cell_type": "code",
      "metadata": {
        "id": "F5zjK1JYf52W",
        "colab_type": "code",
        "colab": {}
      },
      "source": [
        "res = r_test.inverse_transform(model.predict(X_test).reshape(1, -1))\n",
        "#model.predict(X_test)\n",
        "\n"
      ],
      "execution_count": 0,
      "outputs": []
    },
    {
      "cell_type": "code",
      "metadata": {
        "id": "Z_9dG21n1bJC",
        "colab_type": "code",
        "colab": {
          "base_uri": "https://localhost:8080/",
          "height": 71
        },
        "outputId": "eee9d88f-fd9b-4c2a-be66-c0fdaeed28c1"
      },
      "source": [
        "r_test.inverse_transform(y_test.reshape(1, -1))"
      ],
      "execution_count": 90,
      "outputs": [
        {
          "output_type": "execute_result",
          "data": {
            "text/plain": [
              "array([[3127., 3306., 3517., 3818., 4081., 4172., 4256., 4321., 4461.,\n",
              "        4636., 4827., 4935., 4993., 5026., 5027., 5027.]])"
            ]
          },
          "metadata": {
            "tags": []
          },
          "execution_count": 90
        }
      ]
    },
    {
      "cell_type": "code",
      "metadata": {
        "id": "JVKR-Hw_1lQ8",
        "colab_type": "code",
        "colab": {
          "base_uri": "https://localhost:8080/",
          "height": 87
        },
        "outputId": "e0110458-c206-4dd7-f884-749d3d4ce399"
      },
      "source": [
        "res"
      ],
      "execution_count": 92,
      "outputs": [
        {
          "output_type": "execute_result",
          "data": {
            "text/plain": [
              "array([[2046.5496, 2219.8872, 2408.5703, 2622.56  , 2896.1558, 3226.226 ,\n",
              "        3543.392 , 3834.6094, 4073.2122, 4262.811 , 4441.9688, 4663.839 ,\n",
              "        4908.366 , 5150.107 , 5349.8877, 5484.2275]], dtype=float32)"
            ]
          },
          "metadata": {
            "tags": []
          },
          "execution_count": 92
        }
      ]
    },
    {
      "cell_type": "markdown",
      "metadata": {
        "id": "bkob-4bnYdeT",
        "colab_type": "text"
      },
      "source": [
        "### PyTorch models\n"
      ]
    },
    {
      "cell_type": "code",
      "metadata": {
        "id": "aGXjVazoJ9i3",
        "colab_type": "code",
        "colab": {}
      },
      "source": [
        "import torch\n",
        "import math\n",
        "from torch.nn.modules import Transformer, TransformerEncoder, TransformerDecoder, TransformerDecoderLayer, TransformerEncoderLayer, LayerNorm\n",
        "class CustomTransformerDecoder(torch.nn.Module):\n",
        "    def __init__(self, seq_length, output_seq_length, n_time_series, d_model=128, output_dim=1):\n",
        "        super().__init__()\n",
        "        self.dense_shape = torch.nn.Linear(n_time_series, d_model)\n",
        "        self.pe = SimplePositionalEncoding(d_model)\n",
        "        encoder_layer = TransformerEncoderLayer(d_model, 8)\n",
        "        encoder_norm = LayerNorm(d_model)\n",
        "        self.transformer_enc = TransformerEncoder(encoder_layer, 6, encoder_norm)\n",
        "        self.output_dim_layer = torch.nn.Linear(d_model, output_dim)\n",
        "        self.output_seq_length = output_seq_length\n",
        "        self.out_length_lay  = torch.nn.Linear(seq_length, output_seq_length)\n",
        "        self.mask = generate_square_subsequent_mask(seq_length)\n",
        "    def forward(self, x):\n",
        "        \"\"\"\"\"\"\n",
        "        x = self.dense_shape(x)\n",
        "        x = self.pe(x)\n",
        "        x = x.permute(1,0,2)\n",
        "        x = self.transformer_enc(x, mask=self.mask)\n",
        "        x = self.output_dim_layer(x)\n",
        "        x = x.permute(1, 2, 0)\n",
        "        x = self.out_length_lay(x)\n",
        "        return x.view(-1, self.output_seq_length)\n",
        "    \n",
        "class SimplePositionalEncoding(torch.nn.Module):\n",
        "    def __init__(self, d_model, dropout=0.1, max_len=5000):\n",
        "        super(SimplePositionalEncoding, self).__init__()\n",
        "        self.dropout = torch.nn.Dropout(p=dropout)\n",
        "        pe = torch.zeros(max_len, d_model)\n",
        "        position = torch.arange(0, max_len, dtype=torch.float).unsqueeze(1)\n",
        "        div_term = torch.exp(torch.arange(0, d_model, 2).float() * (-math.log(10000.0) / d_model))\n",
        "        pe[:, 0::2] = torch.sin(position * div_term)\n",
        "        pe[:, 1::2] = torch.cos(position * div_term)\n",
        "        pe = pe.unsqueeze(0).transpose(0, 1)\n",
        "        self.register_buffer('pe', pe)\n",
        "\n",
        "    def forward(self, x:torch.Tensor)->torch.Tensor:\n",
        "        \"\"\"Creates a basic positional encoding\"\"\"\n",
        "        x = x + self.pe[:x.size(0), :]\n",
        "        return self.dropout(x)\n",
        "        \n",
        "def generate_square_subsequent_mask(sz:int)->torch.Tensor:\n",
        "        r\"\"\"Generate a square mask for the sequence. The masked positions are filled with float('-inf').\n",
        "            Unmasked positions are filled with float(0.0).\n",
        "        \"\"\"\n",
        "        mask = (torch.triu(torch.ones(sz, sz)) == 1).transpose(0, 1)\n",
        "        mask = mask.float().masked_fill(mask == 0, float('-inf')).masked_fill(mask == 1, float(0.0))\n",
        "        return mask"
      ],
      "execution_count": 0,
      "outputs": []
    },
    {
      "cell_type": "code",
      "metadata": {
        "id": "RK-U7-QhfP5b",
        "colab_type": "code",
        "colab": {}
      },
      "source": [
        "c = CustomTransformerDecoder(50, 1, 3)"
      ],
      "execution_count": 0,
      "outputs": []
    },
    {
      "cell_type": "code",
      "metadata": {
        "id": "VtZbZ55tfe0i",
        "colab_type": "code",
        "outputId": "d1006ad9-6827-4430-8833-36a14fbc6c55",
        "colab": {
          "base_uri": "https://localhost:8080/",
          "height": 71
        }
      },
      "source": [
        "c(torch.rand(2, 50, 3))"
      ],
      "execution_count": 0,
      "outputs": [
        {
          "output_type": "execute_result",
          "data": {
            "text/plain": [
              "tensor([[0.0163],\n",
              "        [0.1018]], grad_fn=<ViewBackward>)"
            ]
          },
          "metadata": {
            "tags": []
          },
          "execution_count": 21
        }
      ]
    },
    {
      "cell_type": "code",
      "metadata": {
        "id": "brfR74F6fqhj",
        "colab_type": "code",
        "colab": {}
      },
      "source": [
        "class LSTMForecast(torch.nn.Module):\n",
        "    \"\"\"\n",
        "    A very simple baseline LSTM model that returns\n",
        "    the fixed value based on the input sequence.\n",
        "    \"\"\"\n",
        "    def __init__(self, seq_length: int, n_time_series: int, output_seq_len=1, hidden_states=20, num_layers=2, bias=True):\n",
        "        super.__init__()\n",
        "        self.forecast_history = seq_length\n",
        "        self.n_time_series = n_time_series\n",
        "        self.lstm = torch.nn.LSTM(n_time_series, hidden_states, num_layers, bias, batch_first=True)\n",
        "        self.final_layer = torch.nn.Linear(seq_length*hidden_states, output_seq_len)\n",
        "\n",
        "    def forward(self, x: torch.Tensor) -> torch.Tensor:\n",
        "        batch_size, seq_len , = x.size()\n",
        "        out_x, hidden_states = self.lstm()\n",
        "        x = self.final_layer(out_x.contiguous().view(batch_size, -1))"
      ],
      "execution_count": 0,
      "outputs": []
    },
    {
      "cell_type": "code",
      "metadata": {
        "id": "uB3yEiCbkp_2",
        "colab_type": "code",
        "outputId": "588310d5-1686-4544-ad4d-b2edd498c63f",
        "colab": {
          "base_uri": "https://localhost:8080/",
          "height": 297
        }
      },
      "source": [
        "LSTMForecast(10, 3)"
      ],
      "execution_count": 0,
      "outputs": [
        {
          "output_type": "error",
          "ename": "TypeError",
          "evalue": "ignored",
          "traceback": [
            "\u001b[0;31m---------------------------------------------------------------------------\u001b[0m",
            "\u001b[0;31mTypeError\u001b[0m                                 Traceback (most recent call last)",
            "\u001b[0;32m<ipython-input-23-64b4bfcf2997>\u001b[0m in \u001b[0;36m<module>\u001b[0;34m()\u001b[0m\n\u001b[0;32m----> 1\u001b[0;31m \u001b[0mLSTMForecast\u001b[0m\u001b[0;34m(\u001b[0m\u001b[0;36m10\u001b[0m\u001b[0;34m,\u001b[0m \u001b[0;36m3\u001b[0m\u001b[0;34m)\u001b[0m\u001b[0;34m\u001b[0m\u001b[0;34m\u001b[0m\u001b[0m\n\u001b[0m",
            "\u001b[0;32m<ipython-input-22-e58f24cad5c7>\u001b[0m in \u001b[0;36m__init__\u001b[0;34m(self, seq_length, n_time_series, output_seq_len, hidden_states, num_layers, bias)\u001b[0m\n\u001b[1;32m      5\u001b[0m     \"\"\"\n\u001b[1;32m      6\u001b[0m     \u001b[0;32mdef\u001b[0m \u001b[0m__init__\u001b[0m\u001b[0;34m(\u001b[0m\u001b[0mself\u001b[0m\u001b[0;34m,\u001b[0m \u001b[0mseq_length\u001b[0m\u001b[0;34m:\u001b[0m \u001b[0mint\u001b[0m\u001b[0;34m,\u001b[0m \u001b[0mn_time_series\u001b[0m\u001b[0;34m:\u001b[0m \u001b[0mint\u001b[0m\u001b[0;34m,\u001b[0m \u001b[0moutput_seq_len\u001b[0m\u001b[0;34m=\u001b[0m\u001b[0;36m1\u001b[0m\u001b[0;34m,\u001b[0m \u001b[0mhidden_states\u001b[0m\u001b[0;34m=\u001b[0m\u001b[0;36m20\u001b[0m\u001b[0;34m,\u001b[0m \u001b[0mnum_layers\u001b[0m\u001b[0;34m=\u001b[0m\u001b[0;36m2\u001b[0m\u001b[0;34m,\u001b[0m \u001b[0mbias\u001b[0m\u001b[0;34m=\u001b[0m\u001b[0;32mTrue\u001b[0m\u001b[0;34m)\u001b[0m\u001b[0;34m:\u001b[0m\u001b[0;34m\u001b[0m\u001b[0;34m\u001b[0m\u001b[0m\n\u001b[0;32m----> 7\u001b[0;31m         \u001b[0msuper\u001b[0m\u001b[0;34m.\u001b[0m\u001b[0m__init__\u001b[0m\u001b[0;34m(\u001b[0m\u001b[0;34m)\u001b[0m\u001b[0;34m\u001b[0m\u001b[0;34m\u001b[0m\u001b[0m\n\u001b[0m\u001b[1;32m      8\u001b[0m         \u001b[0mself\u001b[0m\u001b[0;34m.\u001b[0m\u001b[0mforecast_history\u001b[0m \u001b[0;34m=\u001b[0m \u001b[0mseq_length\u001b[0m\u001b[0;34m\u001b[0m\u001b[0;34m\u001b[0m\u001b[0m\n\u001b[1;32m      9\u001b[0m         \u001b[0mself\u001b[0m\u001b[0;34m.\u001b[0m\u001b[0mn_time_series\u001b[0m \u001b[0;34m=\u001b[0m \u001b[0mn_time_series\u001b[0m\u001b[0;34m\u001b[0m\u001b[0;34m\u001b[0m\u001b[0m\n",
            "\u001b[0;31mTypeError\u001b[0m: descriptor '__init__' of 'super' object needs an argument"
          ]
        }
      ]
    },
    {
      "cell_type": "code",
      "metadata": {
        "id": "7mFCWLbkktra",
        "colab_type": "code",
        "colab": {}
      },
      "source": [
        "class LSTMForecast(torch.nn.Module):\n",
        "  def __init__(self, seq_length: int, n_time_series: int, output_seq_len=1, hidden_states=20, num_layers=2, bias=True):\n",
        "    super().__init__()\n",
        "    self.num_layers = num_layers\n",
        "    self.forecast_history = seq_length\n",
        "    self.n_time_series = n_time_series\n",
        "    self.hidden_dim = hidden_states\n",
        "    self.lstm = torch.nn.LSTM(n_time_series, hidden_states, num_layers, bias, batch_first=True)\n",
        "    self.final_layer = torch.nn.Linear(seq_length*hidden_states, output_seq_len)\n",
        "\n",
        "  def init_hidden(self, batch_size):\n",
        "    # even with batch_first = True this remains same as docs\n",
        "    hidden_state = torch.zeros(self.num_layers,batch_size,self.hidden_dim)\n",
        "    cell_state = torch.zeros(self.num_layers,batch_size,self.hidden_dim)\n",
        "    self.hidden = (hidden_state, cell_state)\n",
        "\n",
        "  def forward(self, x: torch.Tensor) -> torch.Tensor:\n",
        "    print(x.size()[0])\n",
        "    batch_size = x.size()[0]\n",
        "    out_x,self.hidden = self.lstm(x, self.hidden)\n",
        "    x = self.final_layer(out_x.contiguous().view(batch_size, -1))\n",
        "    return x"
      ],
      "execution_count": 0,
      "outputs": []
    }
  ]
}
