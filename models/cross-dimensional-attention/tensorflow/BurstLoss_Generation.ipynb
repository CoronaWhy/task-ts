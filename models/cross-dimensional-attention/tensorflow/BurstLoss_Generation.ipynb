{
 "cells": [
  {
   "cell_type": "code",
   "execution_count": 1,
   "metadata": {},
   "outputs": [
    {
     "name": "stderr",
     "output_type": "stream",
     "text": [
      "/dvmm-filer2/users/jiawei/anaconda2/lib/python2.7/site-packages/h5py/__init__.py:36: FutureWarning: Conversion of the second argument of issubdtype from `float` to `np.floating` is deprecated. In future, it will be treated as `np.float64 == np.dtype(float).type`.\n",
      "  from ._conv import register_converters as _register_converters\n"
     ]
    }
   ],
   "source": [
    "import pandas as pd\n",
    "import numpy as np\n",
    "import os\n",
    "import h5py"
   ]
  },
  {
   "cell_type": "code",
   "execution_count": 2,
   "metadata": {},
   "outputs": [
    {
     "name": "stdout",
     "output_type": "stream",
     "text": [
      "[u'data', u'mask', u'maximum', u'position']\n",
      "(186, 6624) (186, 6624) (186, 2) 0.9157041\n",
      "25.585367 0.9157041 25.585367 2.992725 0.0\n"
     ]
    }
   ],
   "source": [
    "combine_file = h5py.File('data_mask_maximum.h5','r')\n",
    "print combine_file.keys()\n",
    "data = combine_file['data'][:]\n",
    "mask = combine_file['mask'][:]\n",
    "position = combine_file['position'][:]\n",
    "maximum = combine_file['maximum'].value\n",
    "combine_file.close()\n",
    "print data.shape,mask.shape,position.shape,mask.mean()\n",
    "print maximum,mask.mean(),data.max(),data.mean(),data.min()"
   ]
  },
  {
   "cell_type": "code",
   "execution_count": 3,
   "metadata": {},
   "outputs": [
    {
     "name": "stdout",
     "output_type": "stream",
     "text": [
      "(24290,)\n",
      "(5887,)\n",
      "6.350773 9.809643 0.08429594\n"
     ]
    }
   ],
   "source": [
    "mask_miss = 1.0-mask\n",
    "mask_time,mask_delta = np.zeros_like(mask),np.zeros_like(mask)\n",
    "mask_time[:,0] = mask_miss[:,0]\n",
    "for cam in range(186):\n",
    "    for time in range(1,6624):\n",
    "        if mask_miss[cam,time] == 1:\n",
    "            mask_time[cam,time] = mask_time[cam,time-1]+1\n",
    "    mask_delta[cam,:] = mask_time[cam,:]\n",
    "    while(time>0):\n",
    "        if mask_time[cam,time] > 1:\n",
    "            length = int(mask_time[cam,time]-1)\n",
    "            mask_time[cam,time-length:time] = mask_time[cam,time]\n",
    "            mask_delta[cam,time-length:time] = 0\n",
    "            time -= length\n",
    "        time -= 1\n",
    "delta_seq = mask_delta[mask_delta != 0]\n",
    "delta_seq = np.sort(delta_seq)\n",
    "delta_burst = delta_seq[delta_seq<=134]\n",
    "print delta_burst.shape\n",
    "delta_burst = delta_burst[delta_burst > 1]\n",
    "print delta_burst.shape\n",
    "print delta_burst.mean(),delta_burst.std(),mask_miss.mean()"
   ]
  },
  {
   "cell_type": "code",
   "execution_count": 71,
   "metadata": {},
   "outputs": [
    {
     "name": "stdout",
     "output_type": "stream",
     "text": [
      "missing rate: 0.9009605050086975\n"
     ]
    }
   ],
   "source": [
    "burst_mean,burst_std,mask_burst,ratio = delta_burst.mean(),delta_burst.std(),np.zeros_like(mask_miss),0.618\n",
    "for cam in range(186):\n",
    "    time = 0\n",
    "    while(time<6624):\n",
    "        if np.random.uniform(size=1) < ratio:\n",
    "            length = int(np.random.normal(burst_mean, burst_std, 1))\n",
    "            if length > 0:\n",
    "                mask_burst[cam,time:time+length] = 1.0\n",
    "                time += length\n",
    "            else:\n",
    "                time += 1\n",
    "        else:\n",
    "            time += 1\n",
    "move = mask_burst+mask_miss\n",
    "move[move>1] = 1\n",
    "move = 1.0-move\n",
    "for i in range(6624-48*12+1):\n",
    "    if move[:,i:i+48*12].mean() == 0:\n",
    "        print i\n",
    "print 'missing rate:', 1.0-move.mean()\n",
    "\n",
    "combine_file = h5py.File('burst_90.h5','w')\n",
    "combine_file['mask'] = move\n",
    "combine_file.close()"
   ]
  },
  {
   "cell_type": "code",
   "execution_count": 79,
   "metadata": {},
   "outputs": [
    {
     "name": "stdout",
     "output_type": "stream",
     "text": [
      "0.7999438 1.0 0.0\n",
      "[]\n"
     ]
    }
   ],
   "source": [
    "combine_file = h5py.File('burst_20.h5','r')\n",
    "move = combine_file['mask'][:]\n",
    "combine_file.close()\n",
    "print move.mean(),move.max(),move.min()\n",
    "for i in range(6624-48*12+1):\n",
    "    if move[:,i:i+48*12].mean() == 0:\n",
    "        print i\n",
    "temp = move[move!=0]\n",
    "\n",
    "print temp[temp!=1]"
   ]
  },
  {
   "cell_type": "code",
   "execution_count": null,
   "metadata": {},
   "outputs": [],
   "source": []
  }
 ],
 "metadata": {
  "kernelspec": {
   "display_name": "Python 2",
   "language": "python",
   "name": "python2"
  },
  "language_info": {
   "codemirror_mode": {
    "name": "ipython",
    "version": 2
   },
   "file_extension": ".py",
   "mimetype": "text/x-python",
   "name": "python",
   "nbconvert_exporter": "python",
   "pygments_lexer": "ipython2",
   "version": "2.7.15"
  }
 },
 "nbformat": 4,
 "nbformat_minor": 2
}
